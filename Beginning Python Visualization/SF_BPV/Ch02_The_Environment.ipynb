{
 "cells": [
  {
   "cell_type": "markdown",
   "metadata": {},
   "source": [
    "# Chapter 2: The Environment"
   ]
  },
  {
   "cell_type": "markdown",
   "metadata": {
    "collapsed": true
   },
   "source": [
    "<div id=\"toc\"></div>"
   ]
  },
  {
   "cell_type": "markdown",
   "metadata": {},
   "source": [
    "## 2.1 Tools of the Trade\n",
    "## 2.2 Operating Systems\n",
    "### 2.2.1 GNU/Linux\n",
    "### 2.2.2 Windows\n",
    "* Stand-Alone (Natively\n",
    "* Cygwin\n",
    "* Virtual Machines"
   ]
  },
  {
   "cell_type": "markdown",
   "metadata": {},
   "source": [
    "### 2.2.3 Choosing an Operating System\n",
    "### 2.2.4 Then Again, Why Choose? Using Several Operating Systems\n",
    "## 2.3 The Python Environment\n",
    "### 2.3.1 Versions\n",
    "### 2.3.2 Python\n",
    "* Python Distributions with Scientific Packages"
   ]
  },
  {
   "cell_type": "markdown",
   "metadata": {},
   "source": [
    "### 2.3.3 Python Integrated Development Environments\n",
    "* IDLE\n",
    "* IPython\n",
    "* IPython Notebook\n",
    "* Spyder"
   ]
  },
  {
   "cell_type": "markdown",
   "metadata": {},
   "source": [
    "### 2.3.4 Scientific Computing\n",
    "* NumPy\n",
    "* SciPy\n",
    "* Matplotlib\n",
    "* Image Processing\n",
    "* PySerial"
   ]
  },
  {
   "cell_type": "markdown",
   "metadata": {},
   "source": [
    "### 2.3.5 Manually Installing a Python Package\n",
    "### 2.3.6 Installation Summary\n",
    "## 2.4 Additional Applications\n",
    "### 2.4.1 Editors"
   ]
  },
  {
   "cell_type": "markdown",
   "metadata": {},
   "source": [
    "* Selecting the Proper Editor for You"
   ]
  },
  {
   "cell_type": "markdown",
   "metadata": {},
   "source": [
    "### 2.4.2 A Short List of Text Editors\n",
    "### 2.4.3 Spreadsheets\n",
    "### 2.4.4 Word Processors\n",
    "### 2.4.5 Image Viewers\n",
    "### 2.4.6 Version-Control Systems\n",
    "* Example: Directory Structure for the Book"
   ]
  },
  {
   "cell_type": "markdown",
   "metadata": {},
   "source": [
    "## 2.5 Licensing\n",
    "## 2.6 Final Notes and References"
   ]
  },
  {
   "cell_type": "code",
   "execution_count": null,
   "metadata": {
    "collapsed": true
   },
   "outputs": [],
   "source": []
  }
 ],
 "metadata": {
  "kernelspec": {
   "display_name": "Python 3",
   "language": "python",
   "name": "python3"
  },
  "language_info": {
   "codemirror_mode": {
    "name": "ipython",
    "version": 3
   },
   "file_extension": ".py",
   "mimetype": "text/x-python",
   "name": "python",
   "nbconvert_exporter": "python",
   "pygments_lexer": "ipython3",
   "version": "3.6.0"
  }
 },
 "nbformat": 4,
 "nbformat_minor": 1
}
