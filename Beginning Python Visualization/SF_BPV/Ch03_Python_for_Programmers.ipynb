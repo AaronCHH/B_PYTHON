{
 "cells": [
  {
   "cell_type": "markdown",
   "metadata": {},
   "source": [
    "# Chapter 3: Python for Programmers"
   ]
  },
  {
   "cell_type": "markdown",
   "metadata": {
    "collapsed": true
   },
   "source": [
    "<div id=\"toc\"></div>"
   ]
  },
  {
   "cell_type": "markdown",
   "metadata": {},
   "source": [
    "## 3.1 The Building Blocks\n",
    "## 3.2 What Is Python\n",
    "## 3.3 Interactive Python\n",
    "### 3.3.1 Invoking Python\n",
    "### 3.3.2 Entering Commands\n",
    "* The Result Variable"
   ]
  },
  {
   "cell_type": "markdown",
   "metadata": {},
   "source": [
    "### 3.3.3 The Interactive Help System\n",
    "### 3.3.4 Moving Around\n",
    "## 3.4 Running Scripts\n",
    "## 3.5 Data Types\n",
    "### 3.5.1 Numbers\n",
    "* Integers\n",
    "* Other Useful Bases\n",
    "* Comparisons\n",
    "* Bitwise Operations\n",
    "* Augmented Assignments\n",
    "* Float and Complex"
   ]
  },
  {
   "cell_type": "markdown",
   "metadata": {},
   "source": [
    "### 3.5.2 Strings\n",
    "* Expressing Strings\n",
    "* String Operations"
   ]
  },
  {
   "cell_type": "markdown",
   "metadata": {},
   "source": [
    "### 3.5.3 Booleans\n",
    "* Logical Operations"
   ]
  },
  {
   "cell_type": "markdown",
   "metadata": {},
   "source": [
    "## 3.6 Data Structures\n",
    "### 3.6.1 Lists\n",
    "### 3.6.2 Tuples\n",
    "### 3.6.3 Dictionaries\n",
    "### 3.6.4 Sets\n",
    "## 3.7 Variables\n",
    "## 3.8 Statements\n",
    "### 3.8.1 Printing\n",
    "* Suppressing Line Breaks\n",
    "* Format Specifications"
   ]
  },
  {
   "cell_type": "markdown",
   "metadata": {},
   "source": [
    "### 3.8.2 User Input\n",
    "### 3.8.3 Comments\n",
    "### 3.8.4 Flow Control\n",
    "* if, elif, else\n",
    "* The pass Statement\n",
    "* Exceptions: try, else, and finally\n",
    "* Iterators\n",
    "* The for Statement\n",
    "* List Comprehensions\n",
    "* The while Statement\n",
    "* Statements break and continue"
   ]
  },
  {
   "cell_type": "markdown",
   "metadata": {},
   "source": [
    "## 3.9 Some Built-in Functions\n",
    "## 3.10 Defining Functions\n",
    "### 3.10.1 Generators\n",
    "### 3.10.2 Generator Expressions\n",
    "## 3.11 Object-Oriented Programming\n",
    "## 3.12 Modules and Packages\n",
    "### 3.12.1 The import Statement\n",
    "### 3.12.2 Modules Installed in a System\n",
    "### 3.12.3 The dir Statement\n",
    "## 3.13 Final Notes and References"
   ]
  },
  {
   "cell_type": "code",
   "execution_count": null,
   "metadata": {
    "collapsed": true
   },
   "outputs": [],
   "source": []
  }
 ],
 "metadata": {
  "kernelspec": {
   "display_name": "Python 3",
   "language": "python",
   "name": "python3"
  },
  "language_info": {
   "codemirror_mode": {
    "name": "ipython",
    "version": 3
   },
   "file_extension": ".py",
   "mimetype": "text/x-python",
   "name": "python",
   "nbconvert_exporter": "python",
   "pygments_lexer": "ipython3",
   "version": "3.6.0"
  }
 },
 "nbformat": 4,
 "nbformat_minor": 1
}
