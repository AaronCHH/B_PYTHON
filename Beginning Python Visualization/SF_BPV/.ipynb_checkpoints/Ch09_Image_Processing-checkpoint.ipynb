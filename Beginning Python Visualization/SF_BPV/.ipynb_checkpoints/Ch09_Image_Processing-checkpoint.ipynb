{
 "cells": [
  {
   "cell_type": "markdown",
   "metadata": {},
   "source": [
    "# Chapter 9: Image Processing"
   ]
  },
  {
   "cell_type": "markdown",
   "metadata": {
    "collapsed": true
   },
   "source": [
    "<div id=\"toc\"></div>"
   ]
  },
  {
   "cell_type": "markdown",
   "metadata": {},
   "source": [
    "## 9.1 Two-Dimensional Data"
   ]
  },
  {
   "cell_type": "markdown",
   "metadata": {},
   "source": [
    "## 9.2 Reading, Writing, and Displaying Images"
   ]
  },
  {
   "cell_type": "markdown",
   "metadata": {},
   "source": [
    "### 9.2.1 Reading Images from File"
   ]
  },
  {
   "cell_type": "code",
   "execution_count": 1,
   "metadata": {
    "collapsed": true
   },
   "outputs": [],
   "source": [
    "from PIL import Image"
   ]
  },
  {
   "cell_type": "code",
   "execution_count": 3,
   "metadata": {
    "collapsed": false
   },
   "outputs": [],
   "source": [
    "from pylab import *\n",
    "figure()\n",
    "gca().add_patch(Circle((0, 0), 1))\n",
    "axis('off')\n",
    "axis('scaled')\n",
    "savefig('images/circle.png')"
   ]
  },
  {
   "cell_type": "code",
   "execution_count": 4,
   "metadata": {
    "collapsed": true
   },
   "outputs": [],
   "source": [
    "im = Image.open('images/circle.png')"
   ]
  },
  {
   "cell_type": "markdown",
   "metadata": {},
   "source": [
    "### 9.2.2 Image Attributes"
   ]
  },
  {
   "cell_type": "code",
   "execution_count": 5,
   "metadata": {
    "collapsed": false
   },
   "outputs": [
    {
     "data": {
      "text/plain": [
       "(432, 288)"
      ]
     },
     "execution_count": 5,
     "metadata": {},
     "output_type": "execute_result"
    }
   ],
   "source": [
    "im.size"
   ]
  },
  {
   "cell_type": "code",
   "execution_count": 6,
   "metadata": {
    "collapsed": false
   },
   "outputs": [
    {
     "data": {
      "text/plain": [
       "{'dpi': (72, 72)}"
      ]
     },
     "execution_count": 6,
     "metadata": {},
     "output_type": "execute_result"
    }
   ],
   "source": [
    "im.info"
   ]
  },
  {
   "cell_type": "code",
   "execution_count": 7,
   "metadata": {
    "collapsed": false
   },
   "outputs": [
    {
     "data": {
      "text/plain": [
       "'RGBA'"
      ]
     },
     "execution_count": 7,
     "metadata": {},
     "output_type": "execute_result"
    }
   ],
   "source": [
    "im.mode"
   ]
  },
  {
   "cell_type": "code",
   "execution_count": 8,
   "metadata": {
    "collapsed": false
   },
   "outputs": [
    {
     "data": {
      "text/plain": [
       "'PNG'"
      ]
     },
     "execution_count": 8,
     "metadata": {},
     "output_type": "execute_result"
    }
   ],
   "source": [
    "im.format"
   ]
  },
  {
   "cell_type": "code",
   "execution_count": 9,
   "metadata": {
    "collapsed": false
   },
   "outputs": [
    {
     "data": {
      "text/plain": [
       "'images/circle.png'"
      ]
     },
     "execution_count": 9,
     "metadata": {},
     "output_type": "execute_result"
    }
   ],
   "source": [
    "im.filename"
   ]
  },
  {
   "cell_type": "markdown",
   "metadata": {},
   "source": [
    "* Example: Image Catalog"
   ]
  },
  {
   "cell_type": "code",
   "execution_count": 10,
   "metadata": {
    "collapsed": true
   },
   "outputs": [],
   "source": [
    "from PIL import Image\n",
    "import os, csv\n",
    "def image_catalog(srchpath):\n",
    "    \"\"\"Creates a catalog file named srchpath.cat.csv.\"\"\"\n",
    "    # the CSV header\n",
    "    catalog = [['Filename', 'Pathname', 'Format', 'Size', 'Resolution' ]]\n",
    "    \n",
    "    # walk directory tree\n",
    "    for root, dirs, files in os.walk(srchpath):\n",
    "        for file in files:\n",
    "            pathname = os.path.join(root, file)\n",
    "            try:\n",
    "                img = Image.open(pathname)\n",
    "                filesize = os.path.getsize(pathname)\n",
    "                catalog.append([file, pathname, img.format,\n",
    "                                img.size, img.info])\n",
    "            except IOError: # not an image\n",
    "                pass\n",
    "    # create the clean catalog\n",
    "    f = open(srchpath.rstrip('/')+'.cat.csv', 'w', newline='')\n",
    "    csv.writer(f).writerows(catalog)\n",
    "    f.close()"
   ]
  },
  {
   "cell_type": "markdown",
   "metadata": {},
   "source": [
    "### 9.2.3 Displaying Images"
   ]
  },
  {
   "cell_type": "code",
   "execution_count": 11,
   "metadata": {
    "collapsed": true
   },
   "outputs": [],
   "source": [
    "Image.open('images/circle.png').show()"
   ]
  },
  {
   "cell_type": "markdown",
   "metadata": {},
   "source": [
    "### 9.2.4 Converting File Formats"
   ]
  },
  {
   "cell_type": "code",
   "execution_count": 12,
   "metadata": {
    "collapsed": false
   },
   "outputs": [
    {
     "data": {
      "text/plain": [
       "['circle.jpg',\n",
       " 'circle.png',\n",
       " 'mandelbrot_200_400.png',\n",
       " 'newton_z4s_030_800_005.png']"
      ]
     },
     "execution_count": 12,
     "metadata": {},
     "output_type": "execute_result"
    }
   ],
   "source": [
    "im = Image.open('images/circle.png')\n",
    "im.save('images/circle.jpg')\n",
    "import os\n",
    "os.listdir('images')"
   ]
  },
  {
   "cell_type": "code",
   "execution_count": 13,
   "metadata": {
    "collapsed": true
   },
   "outputs": [],
   "source": [
    "from PIL import Image\n",
    "from os.path import splitext\n",
    "def ConvertToJpeg(filename):\n",
    "    \"\"\"Convert an image file to a Jpeg file.\"\"\"\n",
    "    jpegname = splitext(filename)[0]+'.jpg'\n",
    "    Image.open(filename).save(jpegname)"
   ]
  },
  {
   "cell_type": "code",
   "execution_count": 15,
   "metadata": {
    "collapsed": false
   },
   "outputs": [
    {
     "data": {
      "text/plain": [
       "['circle', 'circle.jpg', 'circle.png']"
      ]
     },
     "execution_count": 15,
     "metadata": {},
     "output_type": "execute_result"
    }
   ],
   "source": [
    "im = Image.open('images/circle.png')\n",
    "im.save('images/circle', format='Jpeg')\n",
    "import os\n",
    "[fn for fn in os.listdir('images') if fn.startswith('circle')]"
   ]
  },
  {
   "cell_type": "markdown",
   "metadata": {},
   "source": [
    "http://pillow.readthedocs.org/en/latest/reference/index.html"
   ]
  },
  {
   "cell_type": "markdown",
   "metadata": {},
   "source": [
    "* Example: A Function to Convert All Images in a Directory to JPEG Format"
   ]
  },
  {
   "cell_type": "code",
   "execution_count": 16,
   "metadata": {
    "collapsed": true
   },
   "outputs": [],
   "source": [
    "import os, csv\n",
    "from PIL import Image\n",
    "def ConvertDirToJpeg(srchdir):\n",
    "    \"\"\"Converts all images in a directory to a jpeg file.\"\"\"\n",
    "    # walk directory tree\n",
    "    for root, dirs, files in os.walk(srchdir):\n",
    "        for file in files:\n",
    "            # pathname holds the image filename\n",
    "            pathname = os.path.join(root, file)\n",
    "            try:\n",
    "                # convert the file to a Jpeg file\n",
    "                img = Image.open(pathname)\n",
    "                jpegname = os.path.splitext(pathname)[0]+'.jpg'\n",
    "                if os.path.exists(jpegname):\n",
    "                    print(\"Did not create %s; file already exists.\" % jpegname)\n",
    "                else:\n",
    "                    img.save(jpegname)\n",
    "                    print(\"Created file \", jpegname)\n",
    "            except IOError: # oops, not an image\n",
    "                pass"
   ]
  },
  {
   "cell_type": "markdown",
   "metadata": {},
   "source": [
    "## 9.3 Image Manipulation"
   ]
  },
  {
   "cell_type": "markdown",
   "metadata": {},
   "source": [
    "### 9.3.1 Creating New Images"
   ]
  },
  {
   "cell_type": "markdown",
   "metadata": {},
   "source": [
    "| Mode   | Description   \n",
    "|---|---|\n",
    "| '1'    | 1 bit per pixel; useful for black-and-white images. \n",
    "| 'L'    | 1 byte per pixel (values from 0 to 255), black and white; useful for working with a one color band (see a discussion about color later in the chapter). \n",
    "| 'RGB'  | Red, green, and blue, 1 byte per color, also known as true color. RGB is common when the image background is black, such as on a screen monitor.   \n",
    "| 'RGBA' | Red, green, blue, and a transparency mask, 1 byte per color; common in several file formats, including PNG.     \n",
    "| 'CMYK' | Cyan, magenta, yellow, and black, 1 byte per color. CMYK is common in print.     \n"
   ]
  },
  {
   "cell_type": "code",
   "execution_count": 17,
   "metadata": {
    "collapsed": false
   },
   "outputs": [
    {
     "data": {
      "text/plain": [
       "['1', 'CMYK', 'F', 'HSV', 'I', 'L', 'LAB', 'P', 'RGB', 'RGBA', 'RGBX', 'YCbCr']"
      ]
     },
     "execution_count": 17,
     "metadata": {},
     "output_type": "execute_result"
    }
   ],
   "source": [
    "from PIL import Image\n",
    "Image.MODES"
   ]
  },
  {
   "cell_type": "markdown",
   "metadata": {},
   "source": [
    "http://pillow.readthedocs.org/en/latest/handbook/concepts.html"
   ]
  },
  {
   "cell_type": "code",
   "execution_count": 19,
   "metadata": {
    "collapsed": true
   },
   "outputs": [],
   "source": [
    "im1 = Image.new('L', (800, 600)) # black, one-band image\n",
    "im2 = Image.new('CMYK', (800, 600), (0, 255, 0, 0)) # magenta image\n",
    "im3 = Image.new('RGB', (800, 600), (255, 0, 0)) # red image"
   ]
  },
  {
   "cell_type": "code",
   "execution_count": 20,
   "metadata": {
    "collapsed": true
   },
   "outputs": [],
   "source": [
    "im1.show()"
   ]
  },
  {
   "cell_type": "code",
   "execution_count": 21,
   "metadata": {
    "collapsed": true
   },
   "outputs": [],
   "source": [
    "im2.show()"
   ]
  },
  {
   "cell_type": "code",
   "execution_count": 22,
   "metadata": {
    "collapsed": true
   },
   "outputs": [],
   "source": [
    "im3.show()"
   ]
  },
  {
   "cell_type": "markdown",
   "metadata": {},
   "source": [
    "### 9.3.2 Copy and Paste"
   ]
  },
  {
   "cell_type": "markdown",
   "metadata": {},
   "source": [
    "* Example: Fractal Collage"
   ]
  },
  {
   "cell_type": "code",
   "execution_count": 26,
   "metadata": {
    "collapsed": true
   },
   "outputs": [],
   "source": [
    "from PIL import Image\n",
    "from cmath import *\n",
    "def fractal(delta=0.000001, res=800, iters=30):\n",
    "    \"\"\"Creates a z**4+1=0 fractal using the Newton-Raphson method.\"\"\"\n",
    "    # create an image to draw on, paint it black\n",
    "    img = Image.new(\"RGB\", (res, res), (0, 0, 0))\n",
    "    # these are the solutions to the equation z**4+1=0 (Euler's formula)\n",
    "    solutions = [cos((2*n+1)*pi/4)+1j*sin((2*n+1)*pi/4) for n in range(4)]\n",
    "    colors = [(1, 0, 0), (0, 1, 0), (0, 0, 1), (1, 1, 0)]\n",
    "    for re in range(0, res):\n",
    "        for im in range(0, res):\n",
    "            z = (re+1j*im)/res\n",
    "            for i in range(iters):\n",
    "                try:\n",
    "                    z -= (z**4+1)/(4*z**3)\n",
    "                except ZeroDivisionError:\n",
    "                    # possibly divide by zero exception\n",
    "                    continue\n",
    "                if(abs(z**4+1) < delta):\n",
    "                    break\n",
    "                    \n",
    "            # color depth is a function of the number of iterations\n",
    "            color_depth = int((iters-i)*255.0/iters)\n",
    "            \n",
    "            # find to which solution this guess converged to\n",
    "            err = [abs(z-root) for root in solutions]\n",
    "            distances = zip(err, range(len(colors)))\n",
    "            \n",
    "            # select the color associated with the solution\n",
    "            color = [i*color_depth for i in colors[min(distances)[1]]]\n",
    "            img.putpixel((re, im), tuple(color))\n",
    "            \n",
    "    return img"
   ]
  },
  {
   "cell_type": "code",
   "execution_count": 30,
   "metadata": {
    "collapsed": false
   },
   "outputs": [
    {
     "name": "stdout",
     "output_type": "stream",
     "text": [
      "Processing image 1 of 9\n",
      "Processing image 2 of 9\n",
      "Processing image 3 of 9\n",
      "Processing image 4 of 9\n",
      "Processing image 5 of 9\n",
      "Processing image 6 of 9\n",
      "Processing image 7 of 9\n",
      "Processing image 8 of 9\n",
      "Processing image 9 of 9\n"
     ]
    }
   ],
   "source": [
    "from PIL import Image, ImageOps\n",
    "# import the fractal function, from fractal.py file\n",
    "from fractal import fractal\n",
    "fsize = 200 # small fractal image width and height\n",
    "nx = 3 # number of images, width\n",
    "ny = 3 # number of images, height\n",
    "collage = Image.new(\"RGB\", (fsize*nx, fsize*ny))\n",
    "\n",
    "for i in range(ny):\n",
    "    for j in range(nx):\n",
    "        im = fractal(0.000001, fsize, i*nx+j+1)\n",
    "        print(\"Processing image %d of %d\" % (i*nx+j+1, nx*ny))\n",
    "        collage.paste(im, (fsize*j, fsize*i))\n",
    "collage.save('images/collage.png')"
   ]
  },
  {
   "cell_type": "markdown",
   "metadata": {},
   "source": [
    "### 9.3.3 Crop and Resize"
   ]
  },
  {
   "cell_type": "code",
   "execution_count": 31,
   "metadata": {
    "collapsed": false
   },
   "outputs": [
    {
     "data": {
      "text/plain": [
       "(600, 600)"
      ]
     },
     "execution_count": 31,
     "metadata": {},
     "output_type": "execute_result"
    }
   ],
   "source": [
    "img = Image.open('images/collage.png')\n",
    "img.size"
   ]
  },
  {
   "cell_type": "code",
   "execution_count": 32,
   "metadata": {
    "collapsed": false
   },
   "outputs": [
    {
     "data": {
      "text/plain": [
       "(400, 400)"
      ]
     },
     "execution_count": 32,
     "metadata": {},
     "output_type": "execute_result"
    }
   ],
   "source": [
    "cropped_img = img.crop((0, 0, 400, 400))\n",
    "cropped_img.size"
   ]
  },
  {
   "cell_type": "code",
   "execution_count": 33,
   "metadata": {
    "collapsed": true
   },
   "outputs": [],
   "source": [
    "cropped_img.show()"
   ]
  },
  {
   "cell_type": "code",
   "execution_count": 34,
   "metadata": {
    "collapsed": false
   },
   "outputs": [
    {
     "data": {
      "text/plain": [
       "(600, 600)"
      ]
     },
     "execution_count": 34,
     "metadata": {},
     "output_type": "execute_result"
    }
   ],
   "source": [
    "img = Image.open('images/collage.png')\n",
    "img.size"
   ]
  },
  {
   "cell_type": "code",
   "execution_count": 35,
   "metadata": {
    "collapsed": false
   },
   "outputs": [
    {
     "data": {
      "text/plain": [
       "(400, 400)"
      ]
     },
     "execution_count": 35,
     "metadata": {},
     "output_type": "execute_result"
    }
   ],
   "source": [
    "resized_img = img.resize((400, 400))\n",
    "resized_img.show()\n",
    "resized_img.size"
   ]
  },
  {
   "cell_type": "code",
   "execution_count": 36,
   "metadata": {
    "collapsed": false
   },
   "outputs": [
    {
     "data": {
      "text/plain": [
       "(400, 400)"
      ]
     },
     "execution_count": 36,
     "metadata": {},
     "output_type": "execute_result"
    }
   ],
   "source": [
    "img.thumbnail((400, 400))\n",
    "img.size"
   ]
  },
  {
   "cell_type": "markdown",
   "metadata": {},
   "source": [
    "http://pillow.readthedocs.org/en/latest/handbook/concepts.html "
   ]
  },
  {
   "cell_type": "code",
   "execution_count": 37,
   "metadata": {
    "collapsed": true
   },
   "outputs": [],
   "source": [
    "img.thumbnail((400, 400), Image.ANTIALIAS)"
   ]
  },
  {
   "cell_type": "markdown",
   "metadata": {},
   "source": [
    "### 9.3.4 Rotate"
   ]
  },
  {
   "cell_type": "code",
   "execution_count": 38,
   "metadata": {
    "collapsed": false
   },
   "outputs": [
    {
     "data": {
      "text/plain": [
       "(200, 300)"
      ]
     },
     "execution_count": 38,
     "metadata": {},
     "output_type": "execute_result"
    }
   ],
   "source": [
    "img = Image.new('RGB', (200, 300), (0, 255, 255))\n",
    "img30 = img.rotate(30)\n",
    "img30.show()\n",
    "img30.size"
   ]
  },
  {
   "cell_type": "code",
   "execution_count": 39,
   "metadata": {
    "collapsed": false
   },
   "outputs": [
    {
     "data": {
      "text/plain": [
       "(324, 360)"
      ]
     },
     "execution_count": 39,
     "metadata": {},
     "output_type": "execute_result"
    }
   ],
   "source": [
    "img30e = img.rotate(30, expand=True)\n",
    "img30e.show()\n",
    "img30e.size"
   ]
  },
  {
   "cell_type": "markdown",
   "metadata": {},
   "source": [
    "## 9.4 Image Annotation"
   ]
  },
  {
   "cell_type": "markdown",
   "metadata": {},
   "source": [
    "### 9.4.1 Annotating with Geometrical Shapes"
   ]
  },
  {
   "cell_type": "code",
   "execution_count": 40,
   "metadata": {
    "collapsed": true
   },
   "outputs": [],
   "source": [
    "from PIL import Image, ImageDraw\n",
    "img = Image.new('RGB', (200, 300), (0, 0, 255))\n",
    "draw = ImageDraw.Draw(img)"
   ]
  },
  {
   "cell_type": "code",
   "execution_count": 41,
   "metadata": {
    "collapsed": true
   },
   "outputs": [],
   "source": [
    "draw.line((100, 100, 200, 200))\n",
    "img.show()"
   ]
  },
  {
   "cell_type": "code",
   "execution_count": null,
   "metadata": {
    "collapsed": true
   },
   "outputs": [],
   "source": [
    "draw = ImageDraw.Draw(Image) ."
   ]
  },
  {
   "cell_type": "markdown",
   "metadata": {},
   "source": [
    "| Function |\n",
    "|---|\n",
    "| arc(xybox, start, end) |\n",
    "| chord(xybox, start, end) |\n",
    "| ellipse(xybox) |\n",
    "| line(xyseq) |\n",
    "| point(xy) |\n",
    "| polygon(xyseq) |\n",
    "| rectangle(xybox) |"
   ]
  },
  {
   "cell_type": "markdown",
   "metadata": {},
   "source": [
    "### 9.4.2 Text Annotations"
   ]
  },
  {
   "cell_type": "code",
   "execution_count": 42,
   "metadata": {
    "collapsed": true
   },
   "outputs": [],
   "source": [
    "from PIL import Image, ImageDraw\n",
    "img = Image.new('L', (160, 160), 255)\n",
    "draw = ImageDraw.Draw(img)\n",
    "draw.ellipse((0, 0, 160, 160), fill=128)\n",
    "draw.text((80, 80), 'A long string')\n",
    "img.show()"
   ]
  },
  {
   "cell_type": "code",
   "execution_count": 43,
   "metadata": {
    "collapsed": true
   },
   "outputs": [],
   "source": [
    "from PIL import Image, ImageDraw\n",
    "img = Image.new('L', (160, 160), 255)\n",
    "draw = ImageDraw.Draw(img)\n",
    "draw.ellipse((0, 0, 160, 160), fill=128)\n",
    "s = 'A long string'\n",
    "width, height = draw.textsize(s)"
   ]
  },
  {
   "cell_type": "code",
   "execution_count": 44,
   "metadata": {
    "collapsed": false
   },
   "outputs": [
    {
     "data": {
      "text/plain": [
       "(78, 11)"
      ]
     },
     "execution_count": 44,
     "metadata": {},
     "output_type": "execute_result"
    }
   ],
   "source": [
    "width, height"
   ]
  },
  {
   "cell_type": "code",
   "execution_count": 46,
   "metadata": {
    "collapsed": false
   },
   "outputs": [
    {
     "data": {
      "text/plain": [
       "int"
      ]
     },
     "execution_count": 46,
     "metadata": {},
     "output_type": "execute_result"
    }
   ],
   "source": [
    "type(width)"
   ]
  },
  {
   "cell_type": "code",
   "execution_count": null,
   "metadata": {
    "collapsed": false
   },
   "outputs": [],
   "source": [
    "draw.text((80–width/2, 80–height/2), s)\n",
    "img.show()"
   ]
  },
  {
   "cell_type": "markdown",
   "metadata": {},
   "source": [
    "* Fonts"
   ]
  },
  {
   "cell_type": "markdown",
   "metadata": {},
   "source": [
    "http://www.gnu.org/software/freefont/"
   ]
  },
  {
   "cell_type": "code",
   "execution_count": 51,
   "metadata": {
    "collapsed": false
   },
   "outputs": [
    {
     "name": "stderr",
     "output_type": "stream",
     "text": [
      "C:\\Anaconda36\\lib\\site-packages\\matplotlib\\font_manager.py:1297: UserWarning: findfont: Font family ['Vera'] not found. Falling back to DejaVu Sans\n",
      "  (prop.get_family(), self.defaultFamily[fontext]))\n"
     ]
    }
   ],
   "source": [
    "from matplotlib import font_manager\n",
    "from PIL import Image, ImageDraw, ImageFont\n",
    "img = Image.new('L', (250, 100), 255)\n",
    "draw = ImageDraw.Draw(img)\n",
    "font_str = font_manager.findfont('Vera')\n",
    "font_str\n",
    "ttf = ImageFont.truetype(font_str, 54)\n",
    "s = 'ABCabc'\n",
    "(w, h) = draw.textsize(s, font=ttf)\n",
    "draw.text(((250-w)/2, (100-h)/2), s, font=ttf)\n",
    "img.show()"
   ]
  },
  {
   "cell_type": "markdown",
   "metadata": {},
   "source": [
    "* Example: Thumbnail Index Image"
   ]
  },
  {
   "cell_type": "code",
   "execution_count": 55,
   "metadata": {
    "collapsed": false
   },
   "outputs": [],
   "source": [
    "import os\n",
    "from PIL import Image, ImageDraw\n",
    "\n",
    "def thumbnail_index(dirpath):\n",
    "    \"\"\"Create a thumbnail index from images in dirpath.\"\"\"\n",
    "    num_images = 5\n",
    "    thumb_size = (128, 96)\n",
    "    cat_size = (num_images*thumb_size[0], num_images*thumb_size[1])\n",
    "    fn_index = 0 # filename index\n",
    "    img_index = 0 # image index\n",
    "    # go through all the pictures in a directory\n",
    "    \n",
    "    for file in os.listdir(dirpath):\n",
    "        # get the pathname for the file\n",
    "        pathname = os.path.join(dirpath, file)\n",
    "        try: # is this an image file?\n",
    "            # open the image file\n",
    "            img = Image.open(pathname)\n",
    "        except IOError:\n",
    "            print(file, \"is not an image file\")\n",
    "            continue\n",
    "            \n",
    "        # create a thumbnail\n",
    "        img.thumbnail((thumb_size), Image.ANTIALIAS)\n",
    "        draw = ImageDraw.Draw(img)\n",
    "        draw.text((2, 2), file)\n",
    "        \n",
    "        # do we need to create a new catalog image?\n",
    "        if img_index == 0:\n",
    "            thumbs_img = Image.new('RGB', cat_size)\n",
    "        \n",
    "        # calculate the location for this image\n",
    "        x = img_index % num_images\n",
    "        y = img_index // num_images\n",
    "        \n",
    "        # paste the thumbnail\n",
    "        thumbs_img.paste(img, (x*thumb_size[0], y*thumb_size[1]))\n",
    "        \n",
    "        # increment the image index\n",
    "        img_index += 1\n",
    "        \n",
    "        # have we reached the end of the catalog image?\n",
    "        if img_index==num_images**2:\n",
    "            img_index = 0\n",
    "            thumbs_img.save('%s-%03d.cat.jpg' % (dirpath, fn_index))\n",
    "            fn_index += 1\n",
    "            \n",
    "    # save the last catalog file\n",
    "    if img_index:\n",
    "        thumbs_img.save('%s-%03d.cat.jpg' % (dirpath, fn_index))"
   ]
  },
  {
   "cell_type": "code",
   "execution_count": null,
   "metadata": {
    "collapsed": true
   },
   "outputs": [],
   "source": []
  },
  {
   "cell_type": "markdown",
   "metadata": {},
   "source": [
    "## 9.5 Image Processing"
   ]
  },
  {
   "cell_type": "markdown",
   "metadata": {},
   "source": [
    "http://www.gimp.org"
   ]
  },
  {
   "cell_type": "markdown",
   "metadata": {},
   "source": [
    "### 9.5.1 Matrix Representation and Colors"
   ]
  },
  {
   "cell_type": "code",
   "execution_count": 56,
   "metadata": {
    "collapsed": false
   },
   "outputs": [
    {
     "data": {
      "text/plain": [
       "'RGBA'"
      ]
     },
     "execution_count": 56,
     "metadata": {},
     "output_type": "execute_result"
    }
   ],
   "source": [
    "from PIL import Image\n",
    "im = Image.open('images/circle.png')\n",
    "im.mode"
   ]
  },
  {
   "cell_type": "code",
   "execution_count": 57,
   "metadata": {
    "collapsed": false
   },
   "outputs": [
    {
     "data": {
      "text/plain": [
       "('L', 'L', 'L', 'L')"
      ]
     },
     "execution_count": 57,
     "metadata": {},
     "output_type": "execute_result"
    }
   ],
   "source": [
    "R, G, B, A = im.split()\n",
    "R.mode, G.mode, B.mode, A.mode"
   ]
  },
  {
   "cell_type": "code",
   "execution_count": 58,
   "metadata": {
    "collapsed": true
   },
   "outputs": [],
   "source": [
    "from pylab import *\n",
    "data = array(R.getdata())"
   ]
  },
  {
   "cell_type": "code",
   "execution_count": 59,
   "metadata": {
    "collapsed": false
   },
   "outputs": [
    {
     "data": {
      "text/plain": [
       "124416"
      ]
     },
     "execution_count": 59,
     "metadata": {},
     "output_type": "execute_result"
    }
   ],
   "source": [
    "type(data)\n",
    "data.size"
   ]
  },
  {
   "cell_type": "code",
   "execution_count": 60,
   "metadata": {
    "collapsed": false
   },
   "outputs": [
    {
     "data": {
      "text/plain": [
       "(124416,)"
      ]
     },
     "execution_count": 60,
     "metadata": {},
     "output_type": "execute_result"
    }
   ],
   "source": [
    "data.shape"
   ]
  },
  {
   "cell_type": "code",
   "execution_count": 61,
   "metadata": {
    "collapsed": false
   },
   "outputs": [
    {
     "data": {
      "text/plain": [
       "(432, 288)"
      ]
     },
     "execution_count": 61,
     "metadata": {},
     "output_type": "execute_result"
    }
   ],
   "source": [
    "im.size"
   ]
  },
  {
   "cell_type": "code",
   "execution_count": 63,
   "metadata": {
    "collapsed": false
   },
   "outputs": [
    {
     "data": {
      "text/plain": [
       "124416"
      ]
     },
     "execution_count": 63,
     "metadata": {},
     "output_type": "execute_result"
    }
   ],
   "source": [
    "data = data.reshape(im.size)\n",
    "data.size # size should be the same"
   ]
  },
  {
   "cell_type": "code",
   "execution_count": 64,
   "metadata": {
    "collapsed": false
   },
   "outputs": [
    {
     "data": {
      "text/plain": [
       "(432, 288)"
      ]
     },
     "execution_count": 64,
     "metadata": {},
     "output_type": "execute_result"
    }
   ],
   "source": [
    "data.shape # reshaped as a matrix"
   ]
  },
  {
   "cell_type": "code",
   "execution_count": 65,
   "metadata": {
    "collapsed": false
   },
   "outputs": [
    {
     "data": {
      "text/plain": [
       "'RGBA'"
      ]
     },
     "execution_count": 65,
     "metadata": {},
     "output_type": "execute_result"
    }
   ],
   "source": [
    "from pylab import *\n",
    "from PIL import Image\n",
    "im = Image.open('images/circle.png')\n",
    "im.mode"
   ]
  },
  {
   "cell_type": "code",
   "execution_count": null,
   "metadata": {
    "collapsed": false,
    "scrolled": true
   },
   "outputs": [],
   "source": [
    "R, G, B, A = im.split()\n",
    "data = array(R.getdata()).reshape(im.size)\n",
    "(w, h) = data.shape\n",
    "data[w/2-100:w/2+100, :] = 255*ones((200, h))\n",
    "R.putdata(data.reshape(h*w))\n",
    "new_img = Image.merge('RGB', (R, G, B))\n",
    "new_img.show()"
   ]
  },
  {
   "cell_type": "markdown",
   "metadata": {},
   "source": [
    "### 9.5.2 Reading an Image to a NumPy Array"
   ]
  },
  {
   "cell_type": "code",
   "execution_count": 69,
   "metadata": {
    "collapsed": false
   },
   "outputs": [
    {
     "data": {
      "text/plain": [
       "(288, 432, 4)"
      ]
     },
     "execution_count": 69,
     "metadata": {},
     "output_type": "execute_result"
    }
   ],
   "source": [
    "from pylab import *\n",
    "data = imread('images/circle.png')\n",
    "data.shape"
   ]
  },
  {
   "cell_type": "code",
   "execution_count": 70,
   "metadata": {
    "collapsed": false
   },
   "outputs": [
    {
     "data": {
      "text/plain": [
       "497664"
      ]
     },
     "execution_count": 70,
     "metadata": {},
     "output_type": "execute_result"
    }
   ],
   "source": [
    "data.size"
   ]
  },
  {
   "cell_type": "code",
   "execution_count": 71,
   "metadata": {
    "collapsed": false
   },
   "outputs": [
    {
     "data": {
      "text/plain": [
       "1.0"
      ]
     },
     "execution_count": 71,
     "metadata": {},
     "output_type": "execute_result"
    }
   ],
   "source": [
    "data.max()"
   ]
  },
  {
   "cell_type": "code",
   "execution_count": 72,
   "metadata": {
    "collapsed": false
   },
   "outputs": [
    {
     "data": {
      "text/plain": [
       "0.12156863"
      ]
     },
     "execution_count": 72,
     "metadata": {},
     "output_type": "execute_result"
    }
   ],
   "source": [
    "data.min()"
   ]
  },
  {
   "cell_type": "code",
   "execution_count": 73,
   "metadata": {
    "collapsed": false
   },
   "outputs": [
    {
     "data": {
      "text/plain": [
       "<matplotlib.image.AxesImage at 0x9b1c84e438>"
      ]
     },
     "execution_count": 73,
     "metadata": {},
     "output_type": "execute_result"
    }
   ],
   "source": [
    "imshow(data)"
   ]
  },
  {
   "cell_type": "code",
   "execution_count": 74,
   "metadata": {
    "collapsed": false
   },
   "outputs": [
    {
     "data": {
      "text/plain": [
       "(-1.1000000000000001,\n",
       " 1.1000000000000001,\n",
       " -1.1000000000000001,\n",
       " 1.1000000000000001)"
      ]
     },
     "execution_count": 74,
     "metadata": {},
     "output_type": "execute_result"
    }
   ],
   "source": [
    "axis('off')"
   ]
  },
  {
   "cell_type": "code",
   "execution_count": 75,
   "metadata": {
    "collapsed": true
   },
   "outputs": [],
   "source": [
    "data[..., :3] = 1 - data[..., :3]\n",
    "imshow(data)\n",
    "imsave('images/inverted_circle.png', data)"
   ]
  },
  {
   "cell_type": "markdown",
   "metadata": {},
   "source": [
    "### 9.5.3 Example: Counting Objects (Five Parts"
   ]
  },
  {
   "cell_type": "markdown",
   "metadata": {},
   "source": [
    "* Part 1: Twinkle, Twinkle, Little Star"
   ]
  },
  {
   "cell_type": "code",
   "execution_count": 77,
   "metadata": {
    "collapsed": true
   },
   "outputs": [],
   "source": [
    "# %load 0053-7-src-Ch09/src/star_patch.py\n",
    "# create a star patch object\n",
    "from pylab import *\n",
    "\n",
    "def star(R, x0, y0, color='w', N=5, thin = 0.5):\n",
    "    \"\"\"Returns an N-pointed star of size R at (x0, y0) (matplotlib patch).\"\"\"\n",
    "\n",
    "    polystar = zeros((2*N, 2))\n",
    "    for i in range(2*N):\n",
    "        angle = i*pi/N\n",
    "        r = R*(1-thin*(i%2))\n",
    "        polystar[i] = [r*cos(angle)+x0, r*sin(angle)+y0]\n",
    "    return Polygon(polystar, fc=color, ec=color)\n",
    "\n",
    "    \n",
    "def another_star(R, x0, y0, color='w', N=5, thin = 0.5):\n",
    "    \"\"\"Returns an N-pointed star of size R at (x0, y0) (matplotlib patch).\"\"\"\n",
    "\n",
    "    a = arange(0, 2*pi, 2*pi/N)\n",
    "    r = (1-thin)*R\n",
    "    polystar = array(list(zip(R*cos(a)+x0, R*sin(a)+y0, \\\n",
    "        r*cos(a+pi/N)+x0, r*sin(a+pi/N)+y0)))\n",
    "    return Polygon(polystar.reshape(N*2, 2), fc=color, ec=color)\n"
   ]
  },
  {
   "cell_type": "markdown",
   "metadata": {},
   "source": [
    "> USING a LISt COMpreheNSION"
   ]
  },
  {
   "cell_type": "code",
   "execution_count": 78,
   "metadata": {
    "collapsed": true
   },
   "outputs": [],
   "source": [
    "def another_star(R, x0, y0, color='w', N=5, thin = 0.5):\n",
    "    \"\"\"Returns an N-pointed star of size R at (x0, y0).\"\"\"\n",
    "    a = arange(0, 2*pi, 2*pi/N)\n",
    "    r = (1-thin)*R\n",
    "    polystar = array(list(zip(R*cos(a)+x0, R*sin(a)+y0, \\\n",
    "                              r*cos(a+pi/N)+x0, r*sin(a+pi/N)+y0)))\n",
    "    return Polygon(polystar.reshape(N*2, 2), fc=color, ec=color)"
   ]
  },
  {
   "cell_type": "code",
   "execution_count": 80,
   "metadata": {
    "collapsed": false
   },
   "outputs": [
    {
     "data": {
      "image/png": "[encoded data removed]",
      "text/plain": [
       "<matplotlib.figure.Figure at 0x9b1a46fc88>"
      ]
     },
     "metadata": {},
     "output_type": "display_data"
    },
    {
     "data": {
      "image/png": "[encoded data removed]",
      "text/plain": [
       "<matplotlib.figure.Figure at 0x9b1c522550>"
      ]
     },
     "metadata": {},
     "output_type": "display_data"
    }
   ],
   "source": [
    "# show some star examples\n",
    "from pylab import *\n",
    "from star_patch import star\n",
    "examples=[\n",
    "    \"star(10, 0, 0, 'k')\",\n",
    "    \"star(10, 0, 0, 'k', 10)\",\n",
    "    \"star(10, 0, 0, 'k', 5, 0.2)\",\n",
    "    \"star(10, 0, 0, 'k', 3, 0.9)\" ]\n",
    "\n",
    "for i, example in enumerate(examples):\n",
    "    subplot(2, 2, i+1)\n",
    "    exec(\"new_star=\"+example)\n",
    "    gca().add_patch(new_star)\n",
    "    title(example)\n",
    "    axis('scaled')\n",
    "    axis([-10, 10, -10, 10])\n",
    "show()"
   ]
  },
  {
   "cell_type": "markdown",
   "metadata": {},
   "source": [
    "* Part 2: The Sky at Night"
   ]
  },
  {
   "cell_type": "code",
   "execution_count": 83,
   "metadata": {
    "collapsed": false
   },
   "outputs": [],
   "source": [
    "# %load 0053-7-src-Ch09/src/nightsky.py\n",
    "# create a fictitious night sky\n",
    "from pylab import *\n",
    "from random import randrange as rr\n",
    "from star_patch import star\n",
    "\n",
    "# parameters for the simulated night sky image\n",
    "img_size  = 800\n",
    "num_stars = 25\n",
    "\n",
    "# star parameters: number of pointy edges and radius\n",
    "min_num_points  = 5\n",
    "max_num_points  = 11\n",
    "min_star_radius = 2\n",
    "max_star_radius = 10\n",
    "\n",
    "# star parameter 'thinness' is on a scale of 1 to 10\n",
    "min_thin = 5\n",
    "max_thin = 9\n",
    "\n",
    "# draw the night sky\n",
    "figure(facecolor='k')\n",
    "cur_axes = gca()\n",
    "\n",
    "# patch stars\n",
    "for i in range(num_stars):\n",
    "    new_star = star(rr(min_star_radius, max_star_radius), \n",
    "        rr(0, img_size) , rr(0, img_size), 'w', \\\n",
    "        rr(min_num_points, max_num_points), \\\n",
    "        rr(min_thin, max_thin)/10.0)\n",
    "    cur_axes.add_patch(new_star)\n",
    "\n",
    "# modify axis behaviour\n",
    "axis([0, img_size, 0, img_size])\n",
    "axis('scaled')\n",
    "axis('off')\n",
    "\n",
    "# save the figure without the extra margins\n",
    "savefig('images/nightsky', facecolor='k', edgecolor='k')"
   ]
  },
  {
   "cell_type": "markdown",
   "metadata": {},
   "source": [
    "* Part 3: Flood Fill and Recursion"
   ]
  },
  {
   "cell_type": "code",
   "execution_count": 85,
   "metadata": {
    "collapsed": true
   },
   "outputs": [],
   "source": [
    "# %load 0053-7-src-Ch09/src/flood_fill.py\n",
    "from numpy import *\n",
    "from sys import getrecursionlimit\n",
    "\n",
    "def flood_fill(x, y, m, total):\n",
    "    \"\"\"A function to flood fill an image (matrix).\"\"\"\n",
    "\n",
    "    if total > getrecursionlimit():\n",
    "        return total\n",
    "        \n",
    "    # nothing to fill\n",
    "    if m[x, y] != 1.0:\n",
    "        return total\n",
    "        \n",
    "    m[x, y] = 0.5\n",
    "    if(x-1 >= 0): \n",
    "        total = flood_fill(x-1, y, m, total+1)\n",
    "    if(x+1 <= m.shape[0]-1): \n",
    "        total = flood_fill(x+1, y, m, total+1)\n",
    "    if(y-1 >= 0): \n",
    "        total = flood_fill(x, y-1, m, total+1)\n",
    "    if(y+1 <= m.shape[1]-1): \n",
    "        total = flood_fill(x, y+1, m, total+1)\n",
    "    return total+1\n"
   ]
  },
  {
   "cell_type": "markdown",
   "metadata": {},
   "source": [
    "* Part 4: Counting Objects"
   ]
  },
  {
   "cell_type": "code",
   "execution_count": 90,
   "metadata": {
    "collapsed": false
   },
   "outputs": [
    {
     "name": "stdout",
     "output_type": "stream",
     "text": [
      "I counted 25 stars!\n"
     ]
    },
    {
     "data": {
      "text/plain": [
       "<matplotlib.image.AxesImage at 0x9b1d1bc518>"
      ]
     },
     "execution_count": 90,
     "metadata": {},
     "output_type": "execute_result"
    }
   ],
   "source": [
    "from pylab import *\n",
    "from PIL import Image\n",
    "from sys import getrecursionlimit\n",
    "from flood_fill import flood_fill\n",
    "\n",
    "# read the image, and retrieve the Red band\n",
    "data = imread('images/nightsky.png')[..., 0]\n",
    "rows, cols = data.shape\n",
    "# set all values that are nonzero to 1.0\n",
    "# (could be values due to antialiasing)\n",
    "data[nonzero(data)] = 1.0\n",
    "# count the stars\n",
    "count, recursion_limit_reached = 0, 0\n",
    "for i in range(rows):\n",
    "    for j in range(cols):\n",
    "        tot = flood_fill(i, j, data, 0)\n",
    "        if tot > getrecursionlimit():\n",
    "            recursion_limit_reached += 1\n",
    "        elif tot > 0:\n",
    "            count+=1\n",
    "if recursion_limit_reached:\n",
    "    print(\"Recursion limit reached %d times\" % recursion_limit_reached)\n",
    "print(\"I counted %d stars!\" % count)\n",
    "imshow(data)"
   ]
  },
  {
   "cell_type": "markdown",
   "metadata": {},
   "source": [
    "* Part 5: Optimizing the Algorithm"
   ]
  },
  {
   "cell_type": "markdown",
   "metadata": {},
   "source": [
    "### 9.5.4 Image Arithmetic"
   ]
  },
  {
   "cell_type": "code",
   "execution_count": 1,
   "metadata": {
    "collapsed": false
   },
   "outputs": [],
   "source": [
    "# display an image and its inverse\n",
    "from PIL import Image, ImageChops\n",
    "im = Image.open('images/nightsky.png')\n",
    "new_img = Image.new('RGB', (im.size[0]*2, im.size[1]))\n",
    "new_img.paste(im, (0, 0))\n",
    "new_img.paste(ImageChops.invert(im), (im.size[0], 0))\n",
    "new_img.show()"
   ]
  },
  {
   "cell_type": "code",
   "execution_count": null,
   "metadata": {
    "collapsed": true
   },
   "outputs": [],
   "source": []
  },
  {
   "cell_type": "markdown",
   "metadata": {},
   "source": [
    "| Function |\n",
    "|---|\n",
    "| add(img1, img2, scale=1.0, offset=0) |\n",
    "| constant(img1, value) |\n",
    "| darker(img1, img2) |\n",
    "| difference(img1, img2) |\n",
    "| lighter(img1, img2) |\n",
    "| subtract(img1, img2, |\n",
    "| scale=1.0, offset=0) |"
   ]
  },
  {
   "cell_type": "markdown",
   "metadata": {},
   "source": [
    "http://pillow.readthedocs.org/en/latest/reference/ImageChops.html"
   ]
  },
  {
   "cell_type": "code",
   "execution_count": 4,
   "metadata": {
    "collapsed": false,
    "scrolled": false
   },
   "outputs": [
    {
     "name": "stderr",
     "output_type": "stream",
     "text": [
      "C:\\Anaconda36\\lib\\site-packages\\matplotlib\\font_manager.py:1297: UserWarning: findfont: Font family ['Vera'] not found. Falling back to DejaVu Sans\n",
      "  (prop.get_family(), self.defaultFamily[fontext]))\n"
     ]
    }
   ],
   "source": [
    "from PIL import Image, ImageDraw, ImageFont, ImageChops\n",
    "from matplotlib import font_manager\n",
    "# read the images\n",
    "img1 = Image.open('images/nightsky1.png')\n",
    "img2 = Image.open('images/nightsky2.png')\n",
    "\n",
    "# create a new image, made of the lighter of the two\n",
    "img3 = ImageChops.lighter(img1, img2)\n",
    "\n",
    "# create a collage of three images\n",
    "width, height = img1.size\n",
    "delta = 10\n",
    "img = Image.new('RGB', (width*2+delta, height*2+delta), (255, 255, 255))\n",
    "img.paste(img1, (0, 0))\n",
    "img.paste(img2, (width+delta, 0))\n",
    "img.paste(img3, ((width+delta)//2, height+delta))\n",
    "# annotate the images with text\n",
    "font_str = font_manager.findfont('Vera')\n",
    "ttf = ImageFont.truetype(font_str, 54)\n",
    "draw = ImageDraw.Draw(img)\n",
    "draw.text((delta, delta), 'Night Sky (1)', fill='white', font=ttf)\n",
    "draw.text((delta*2+width, delta), 'Night Sky (2)', fill='white', font=ttf)\n",
    "draw.text(((width+delta)//2+delta, height+delta*2), \\\n",
    "          'Combined', fill='white', font=ttf)\n",
    "# display the final image\n",
    "img.show()"
   ]
  },
  {
   "cell_type": "markdown",
   "metadata": {},
   "source": [
    "## 9.6 Image Filtering"
   ]
  },
  {
   "cell_type": "code",
   "execution_count": 5,
   "metadata": {
    "collapsed": true
   },
   "outputs": [],
   "source": [
    "from PIL import Image, ImageChops, ImageFilter\n",
    "img = Image.open('images/nightsky.png')\n",
    "inv_img = ImageChops.invert(img)\n",
    "filt_img = inv_img.filter(ImageFilter.MinFilter(15))\n",
    "filt_img.show()"
   ]
  },
  {
   "cell_type": "code",
   "execution_count": 6,
   "metadata": {
    "collapsed": false
   },
   "outputs": [
    {
     "data": {
      "text/plain": [
       "['BLUR',\n",
       " 'CONTOUR',\n",
       " 'DETAIL',\n",
       " 'EDGE_ENHANCE',\n",
       " 'EDGE_ENHANCE_MORE',\n",
       " 'EMBOSS',\n",
       " 'FIND_EDGES',\n",
       " 'SHARPEN',\n",
       " 'SMOOTH',\n",
       " 'SMOOTH_MORE']"
      ]
     },
     "execution_count": 6,
     "metadata": {},
     "output_type": "execute_result"
    }
   ],
   "source": [
    "from PIL import ImageFilter\n",
    "[filt for filt in dir(ImageFilter) if filt.isupper()]"
   ]
  },
  {
   "cell_type": "code",
   "execution_count": 8,
   "metadata": {
    "collapsed": true
   },
   "outputs": [],
   "source": [
    "new_img = img.filter(ImageFilter.CONTOUR)"
   ]
  },
  {
   "cell_type": "markdown",
   "metadata": {},
   "source": [
    "| Function |\n",
    "|---|\n",
    "| MaxFilter(size=3) |\n",
    "| MedianFilter(size=3) |\n",
    "| MinFilter(size=3) |\n",
    "| ModeFilter(size=3) |"
   ]
  },
  {
   "cell_type": "markdown",
   "metadata": {},
   "source": [
    "## 9.7 Making Movies"
   ]
  },
  {
   "cell_type": "markdown",
   "metadata": {},
   "source": [
    "### 9.7.1 Splitting Movies"
   ]
  },
  {
   "cell_type": "markdown",
   "metadata": {},
   "source": [
    "http://mplayerhq.hu"
   ]
  },
  {
   "cell_type": "markdown",
   "metadata": {},
   "source": [
    "### 9.7.2 Creating Movies from Images"
   ]
  },
  {
   "cell_type": "markdown",
   "metadata": {},
   "source": [
    "http://www.mplayerhq.hu/DOCS/HTML/en/menc-feat-enc-images.html"
   ]
  },
  {
   "cell_type": "markdown",
   "metadata": {},
   "source": [
    "### 9.7.3 Example: A Fractal Movie"
   ]
  },
  {
   "cell_type": "code",
   "execution_count": null,
   "metadata": {
    "collapsed": false
   },
   "outputs": [],
   "source": [
    "from PIL import Image, ImageOps\n",
    "import os\n",
    "# creates an image of the Mandelbrot set\n",
    "res = 400\n",
    "for iters in range(50):\n",
    "    img = Image.new(\"L\", (res, res), 255)\n",
    "    for im in range(res):\n",
    "        for re in range(res):\n",
    "            z = 0\n",
    "            # a scaling to show the \"interesting\" part of\n",
    "            # the Mandelbrot fractal\n",
    "            c = (re*2/res-1.5)+1j*(im*2/res-1)\n",
    "            for k in range(iters):\n",
    "            z = z**2+c\n",
    "            if abs(z)>2:\n",
    "                img.putpixel((re, im), 255-k*255/iters)\n",
    "                break\n",
    "                \n",
    "# create a uniform distribution of gray levels\n",
    "img = ImageOps.equalize(img)\n",
    "\n",
    "# save to file\n",
    "img.save('images/mandelbrot_%04d.png' % iters, dpi=(150,150))\n",
    "last_path = os.getcwd()\n",
    "\n",
    "# handle Linux/Mac and Windows properly\n",
    "os.chdir('images')\n",
    "\n",
    "if os.sys.platform.startswith('win'):\n",
    "    mee = 'c:/mplayer/mencoder '\n",
    "    mep = 'c:/mplayer/mplayer '\n",
    "else:    \n",
    "    mee = 'mplayer '\n",
    "    mep = 'c:/mplayer '\n",
    "\n",
    "# encode the movie\n",
    "os.system(mee+'mf://mandelbrot*.png -mf type=png -ovc lavc -o mandelbrot.avi')\n",
    "\n",
    "# play the movie\n",
    "os.system(mep+'mandelbrot.avi')\n",
    "os.chdir(last_path)"
   ]
  },
  {
   "cell_type": "markdown",
   "metadata": {},
   "source": [
    "## 9.8 Final Notes and References"
   ]
  },
  {
   "cell_type": "markdown",
   "metadata": {
    "collapsed": true
   },
   "source": [
    "* The Python Imaging Library, http://www.pythonware.com/library/pil/handbook/  \n",
    "* GIMP, http://www.gimp.org/docs/  \n",
    "* MPlayer, The Movie Player, http://www.mplayerhq.hu  "
   ]
  },
  {
   "cell_type": "code",
   "execution_count": null,
   "metadata": {
    "collapsed": true
   },
   "outputs": [],
   "source": []
  }
 ],
 "metadata": {
  "kernelspec": {
   "display_name": "Python 3",
   "language": "python",
   "name": "python3"
  },
  "language_info": {
   "codemirror_mode": {
    "name": "ipython",
    "version": 3
   },
   "file_extension": ".py",
   "mimetype": "text/x-python",
   "name": "python",
   "nbconvert_exporter": "python",
   "pygments_lexer": "ipython3",
   "version": "3.6.0"
  }
 },
 "nbformat": 4,
 "nbformat_minor": 1
}
