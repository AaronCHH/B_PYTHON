{
 "cells": [
  {
   "cell_type": "markdown",
   "metadata": {},
   "source": [
    "# Chapter 1: Navigating the World of Data Visualization"
   ]
  },
  {
   "cell_type": "markdown",
   "metadata": {
    "collapsed": true
   },
   "source": [
    "<div id=\"toc\"></div>"
   ]
  },
  {
   "cell_type": "markdown",
   "metadata": {},
   "source": [
    "## 1.1 Gathering Data"
   ]
  },
  {
   "cell_type": "markdown",
   "metadata": {},
   "source": [
    "### 1.1.1 Case Study: GPS Data"
   ]
  },
  {
   "cell_type": "code",
   "execution_count": 1,
   "metadata": {
    "collapsed": false
   },
   "outputs": [],
   "source": [
    "import serial"
   ]
  },
  {
   "cell_type": "markdown",
   "metadata": {},
   "source": [
    "### 1.1.2 Scanning Serial Ports"
   ]
  },
  {
   "cell_type": "code",
   "execution_count": 2,
   "metadata": {
    "collapsed": false
   },
   "outputs": [
    {
     "data": {
      "text/plain": [
       "[<serial.tools.list_ports_common.ListPortInfo at 0x35f56d4a8>,\n",
       " <serial.tools.list_ports_common.ListPortInfo at 0x35f56d518>]"
      ]
     },
     "execution_count": 2,
     "metadata": {},
     "output_type": "execute_result"
    }
   ],
   "source": [
    "from serial.tools.list_ports import comports\n",
    "list(comports())"
   ]
  },
  {
   "cell_type": "markdown",
   "metadata": {},
   "source": [
    "### 1.1.3 Recording GPS Data"
   ]
  },
  {
   "cell_type": "code",
   "execution_count": null,
   "metadata": {
    "collapsed": true
   },
   "outputs": [],
   "source": [
    "# %load 0053-7-src-Ch01/src/record_gps.py\n",
    "import time, serial\n",
    "\n",
    "# change these parameters to your GPS parameters\n",
    "port = '/dev/ttyUSB0'  # in Windows, set this to 'COMx'\n",
    "ser = serial.Serial(port)\n",
    "\n",
    "ser.baudrate = 4800\n",
    "fmt = \"../data/GPS-%4d-%02d-%02d-%02d-%02d-%02d.csv\"\n",
    "\n",
    "filename = fmt % time.localtime()[0:6]\n",
    "f = open(filename, 'wb')\n",
    "while True:\n",
    "    line = ser.readline()\n",
    "    f.write(line)\n",
    "    print(line)\n"
   ]
  },
  {
   "cell_type": "markdown",
   "metadata": {},
   "source": [
    "## 1.2 Data Organization"
   ]
  },
  {
   "cell_type": "markdown",
   "metadata": {},
   "source": [
    "### 1.2.1 File Format"
   ]
  },
  {
   "cell_type": "markdown",
   "metadata": {},
   "source": [
    "### 1.2.2 File Naming Conventions"
   ]
  },
  {
   "cell_type": "markdown",
   "metadata": {},
   "source": [
    "### 1.2.3 Data Location"
   ]
  },
  {
   "cell_type": "markdown",
   "metadata": {},
   "source": [
    "## 1.3 Data Analysis"
   ]
  },
  {
   "cell_type": "markdown",
   "metadata": {},
   "source": [
    "### 1.3.1 Walking Directories"
   ]
  },
  {
   "cell_type": "code",
   "execution_count": null,
   "metadata": {
    "collapsed": true
   },
   "outputs": [],
   "source": [
    "import os\n",
    "for root, dirs, files in os.walk('../data'):\n",
    "    print(root, dirs, files)"
   ]
  },
  {
   "cell_type": "code",
   "execution_count": null,
   "metadata": {
    "collapsed": true
   },
   "outputs": [],
   "source": [
    "os.listdir('../data')"
   ]
  },
  {
   "cell_type": "markdown",
   "metadata": {},
   "source": [
    "### 1.3.2 Reading CSV Files"
   ]
  },
  {
   "cell_type": "code",
   "execution_count": null,
   "metadata": {
    "collapsed": true
   },
   "outputs": [],
   "source": [
    "def read_csv_file(filename):\n",
    "    \"\"\"Reads a CSV file and return it as a list of rows.\"\"\"\n",
    "    data = []\n",
    "    for row in csv.reader(open(filename)):\n",
    "        data.append(row)\n",
    "    return data"
   ]
  },
  {
   "cell_type": "code",
   "execution_count": null,
   "metadata": {
    "collapsed": true
   },
   "outputs": [],
   "source": [
    "import csv\n",
    "x = read_csv_file('../data/GPS-2008-06-04-09-03-45.csv')\n",
    "len(x)"
   ]
  },
  {
   "cell_type": "code",
   "execution_count": null,
   "metadata": {
    "collapsed": true
   },
   "outputs": [],
   "source": [
    "x[10]"
   ]
  },
  {
   "cell_type": "code",
   "execution_count": null,
   "metadata": {
    "collapsed": true
   },
   "outputs": [],
   "source": [
    "x[1676]"
   ]
  },
  {
   "cell_type": "code",
   "execution_count": null,
   "metadata": {
    "collapsed": true
   },
   "outputs": [],
   "source": [
    "help(read_csv_file)"
   ]
  },
  {
   "cell_type": "code",
   "execution_count": null,
   "metadata": {
    "collapsed": true
   },
   "outputs": [],
   "source": [
    "help(csv)"
   ]
  },
  {
   "cell_type": "code",
   "execution_count": null,
   "metadata": {
    "collapsed": false,
    "scrolled": false
   },
   "outputs": [],
   "source": [
    "import csv\n",
    "f = open('0053-7-src-Ch01/data/GPS-2008-06-04-09-03-45.csv')\n",
    "cr = csv.reader(f)\n",
    "for row in cr:\n",
    "    print(row)"
   ]
  },
  {
   "cell_type": "code",
   "execution_count": 2,
   "metadata": {
    "collapsed": true
   },
   "outputs": [],
   "source": [
    "f.close()"
   ]
  },
  {
   "cell_type": "code",
   "execution_count": null,
   "metadata": {
    "collapsed": true
   },
   "outputs": [],
   "source": [
    "cr = csv.reader(open('../data/GPS-2008-06-04-09-03-45.csv')):\n",
    "for row in cr:\n",
    "    print(row)"
   ]
  },
  {
   "cell_type": "code",
   "execution_count": null,
   "metadata": {
    "collapsed": true
   },
   "outputs": [],
   "source": [
    "for row in csv.reader(open('../data/GPS-2008-06-04-09-03-45.csv')):\n",
    "    print(row)"
   ]
  },
  {
   "cell_type": "markdown",
   "metadata": {},
   "source": [
    "### 1.3.3 Analyzing GPS Data"
   ]
  },
  {
   "cell_type": "markdown",
   "metadata": {},
   "source": [
    "* Note NMea stands for the National Marine electronics association; see http://www.nmea.org for more information.  \n",
    "The NMea 0183 data format is described at http://www.gpsinformation.org/dale/nmea.htm."
   ]
  },
  {
   "cell_type": "code",
   "execution_count": null,
   "metadata": {
    "collapsed": true
   },
   "outputs": [],
   "source": [
    "def list_gps_commands(data):\n",
    "    \"\"\"Counts the number of times a GPS command is observed.\n",
    "    Returns a dictionary object.\"\"\"\n",
    "    gps_cmds = dict()\n",
    "    for row in data:\n",
    "        try:\n",
    "            gps_cmds[row[0]] += 1\n",
    "        except KeyError:\n",
    "            gps_cmds[row[0]] = 1\n",
    "    return gps_cmds"
   ]
  },
  {
   "cell_type": "code",
   "execution_count": null,
   "metadata": {
    "collapsed": true
   },
   "outputs": [],
   "source": [
    "x = read_csv_file('../data/GPS-2008-05-30-09-00-50.csv')\n",
    "list_gps_commands(x)"
   ]
  },
  {
   "cell_type": "code",
   "execution_count": null,
   "metadata": {
    "collapsed": true
   },
   "outputs": [],
   "source": [
    "from pylab import *"
   ]
  },
  {
   "cell_type": "markdown",
   "metadata": {},
   "source": [
    "### 1.3.4 Extracting GPS Data"
   ]
  },
  {
   "cell_type": "code",
   "execution_count": null,
   "metadata": {
    "collapsed": false,
    "scrolled": true
   },
   "outputs": [],
   "source": [
    "x[12]"
   ]
  },
  {
   "cell_type": "code",
   "execution_count": null,
   "metadata": {
    "collapsed": false
   },
   "outputs": [],
   "source": [
    "row = x[18]\n",
    "row"
   ]
  },
  {
   "cell_type": "code",
   "execution_count": null,
   "metadata": {
    "collapsed": true
   },
   "outputs": [],
   "source": [
    "float(row[1][0:2])*3600+float(row[1][2:4])*60+float(row[1][4:6])"
   ]
  },
  {
   "cell_type": "code",
   "execution_count": null,
   "metadata": {
    "collapsed": true
   },
   "outputs": [],
   "source": [
    "row = x[18]\n",
    "row"
   ]
  },
  {
   "cell_type": "code",
   "execution_count": null,
   "metadata": {
    "collapsed": true
   },
   "outputs": [],
   "source": [
    "float(row[3][0:2])+float(row[3][2:])/60.0"
   ]
  },
  {
   "cell_type": "code",
   "execution_count": 6,
   "metadata": {
    "collapsed": false
   },
   "outputs": [
    {
     "data": {
      "text/plain": [
       "1.6666666666666667"
      ]
     },
     "execution_count": 6,
     "metadata": {},
     "output_type": "execute_result"
    }
   ],
   "source": [
    "100/60"
   ]
  },
  {
   "cell_type": "code",
   "execution_count": 5,
   "metadata": {
    "collapsed": false
   },
   "outputs": [
    {
     "data": {
      "text/plain": [
       "1"
      ]
     },
     "execution_count": 5,
     "metadata": {},
     "output_type": "execute_result"
    }
   ],
   "source": [
    "100//60"
   ]
  },
  {
   "cell_type": "code",
   "execution_count": 7,
   "metadata": {
    "collapsed": false
   },
   "outputs": [
    {
     "data": {
      "text/plain": [
       "1"
      ]
     },
     "execution_count": 7,
     "metadata": {},
     "output_type": "execute_result"
    }
   ],
   "source": [
    "int(100/60)"
   ]
  },
  {
   "cell_type": "code",
   "execution_count": null,
   "metadata": {
    "collapsed": true
   },
   "outputs": [],
   "source": [
    "NMI = 1852.0\n",
    "def process_gps_data(data):\n",
    "    \"\"\"Processes GPS data, NMEA 0183 format.\n",
    "    Returns a tuple of arrays: latitude, longitude, velocity [km/h],\n",
    "    time [sec] and number of satellites.\n",
    "    See also: http://www.gpsinformation.org/dale/nmea.htm.\n",
    "    \"\"\"\n",
    "    latitude = []\n",
    "    longitude = []\n",
    "    velocity = []\n",
    "    t_seconds = []\n",
    "    num_sats = []\n",
    "    for row in data:\n",
    "        if row[0] == '$GPGSV':\n",
    "            num_sats.append(float(row[3]))\n",
    "        elif row[0] == '$GPRMC':\n",
    "            t_seconds.append(float(row[1][0:2])*3600 + \\\n",
    "                             float(row[1][2:4])*60+float(row[1][4:6]))\n",
    "            latitude.append(float(row[3][0:2]) + \\\n",
    "                            float(row[3][2:])/60.0)\n",
    "            longitude.append((float(row[5][0:3]) + \\\n",
    "                              float(row[5][3:])/60.0))\n",
    "            velocity.append(float(row[7])*NMI/1000.0)\n",
    "    return (array(latitude), array(longitude), \\\n",
    "            array(velocity), array(t_seconds), array(num_sats))                             "
   ]
  },
  {
   "cell_type": "code",
   "execution_count": null,
   "metadata": {
    "collapsed": true
   },
   "outputs": [],
   "source": [
    "y = read_csv_file('../data/GPS-2008-05-30-09-00-50.csv')\n",
    "(lat, long, v, t, sats) = process_gps_data(y)"
   ]
  },
  {
   "cell_type": "markdown",
   "metadata": {},
   "source": [
    "## 1.4 Data Visualization"
   ]
  },
  {
   "cell_type": "code",
   "execution_count": null,
   "metadata": {
    "collapsed": true
   },
   "outputs": [],
   "source": [
    "x = longitude*NMI*60.0*cos(latitude)\n",
    "y = latitude*NMI*60.0"
   ]
  },
  {
   "cell_type": "code",
   "execution_count": null,
   "metadata": {
    "collapsed": true
   },
   "outputs": [],
   "source": [
    "py = (lat-min(latitude))*NMI*60.0\n",
    "px = (long-min(longitude))*NMI*60.0*cos(D2R*latitude)"
   ]
  },
  {
   "cell_type": "markdown",
   "metadata": {},
   "source": [
    "### 1.4.1 GPS Location Plot"
   ]
  },
  {
   "cell_type": "code",
   "execution_count": null,
   "metadata": {
    "collapsed": true
   },
   "outputs": [],
   "source": [
    "filename = 'GPS-2008-05-30-09-00-50.csv'\n",
    "y = read_csv_file('../data/'+filename)\n",
    "(lat, long, v, t, sats) = process_gps_data(y)\n",
    "px = (long-min(long))*NMI*60.0*cos(D2R*lat)\n",
    "py = (lat-min(lat))*NMI*60.0\n",
    "figure()\n",
    "gca().axes.invert_xaxis()\n",
    "plot(px, py, 'b', label='Cruising', linewidth=3)\n",
    "title(filename[:-4])\n",
    "legend(loc='upper left')\n",
    "xlabel('east-west (meters)')\n",
    "ylabel('south-north (meters)')\n",
    "grid()\n",
    "axis('equal')\n",
    "show()"
   ]
  },
  {
   "cell_type": "markdown",
   "metadata": {},
   "source": [
    "### 1.4.2 Annotating the Graph"
   ]
  },
  {
   "cell_type": "code",
   "execution_count": null,
   "metadata": {
    "collapsed": true
   },
   "outputs": [],
   "source": [
    "STANDING_KMH = 10.0\n",
    "SPEEDING_KMH = 50.0\n",
    "Istand = find(v < STANDING_KMH)\n",
    "Ispeed = find(v > SPEEDING_KMH)\n",
    "Icruise = find((v >=STANDING_KMH) & (v <= SPEEDING_KMH))"
   ]
  },
  {
   "cell_type": "code",
   "execution_count": null,
   "metadata": {
    "collapsed": true
   },
   "outputs": [],
   "source": [
    "plot(px[Istand], py[Istand], 'sg', label='Standing')\n",
    "plot(px[Ispeed], py[Ispeed], 'or', label='Speeding!')\n",
    "legend(loc='upper left')"
   ]
  },
  {
   "cell_type": "code",
   "execution_count": null,
   "metadata": {
    "collapsed": true
   },
   "outputs": [],
   "source": [
    "dx = px[i+1]-px[i]\n",
    "dy = py[i+1]-py[i]\n",
    "heading = arctan2(dy, dx)"
   ]
  },
  {
   "cell_type": "code",
   "execution_count": null,
   "metadata": {
    "collapsed": true
   },
   "outputs": [],
   "source": [
    "for i in range(0, len(v), len(v)//10-1):\n",
    "    text(px[i], py[i], \">>>\", \\\n",
    "         rotation = arctan2(py[i+1]-py[i], -(px[i+1]-px[i]))/D2R, \\\n",
    "         ha='center')"
   ]
  },
  {
   "cell_type": "markdown",
   "metadata": {},
   "source": [
    "### 1.4.3 Velocity Plot"
   ]
  },
  {
   "cell_type": "code",
   "execution_count": null,
   "metadata": {
    "collapsed": false
   },
   "outputs": [],
   "source": [
    "figure()\n",
    "t = (t-t[0])/60.0\n",
    "plot(t, v, 'k')\n",
    "plot([t[0], t[-1]], [STANDING_KMH, STANDING_KMH], '-g')\n",
    "text(t[0], STANDING_KMH, \\\n",
    "     \" Standing threshold: \"+str(STANDING_KMH))\n",
    "plot([t[0], t[-1]], [SPEEDING_KMH, SPEEDING_KMH], '-r')\n",
    "text(t[0], SPEEDING_KMH, \\\n",
    "     \" Speeding threshold: \"+str(SPEEDING_KMH))\n",
    "grid()\n",
    "title('Velocity')\n",
    "xlabel('Time from start of file (minutes)')\n",
    "ylabel('Speed (Km/H)')\n",
    "show()"
   ]
  },
  {
   "cell_type": "markdown",
   "metadata": {},
   "source": [
    "### 1.4.4 Subplots"
   ]
  },
  {
   "cell_type": "code",
   "execution_count": null,
   "metadata": {
    "collapsed": true
   },
   "outputs": [],
   "source": []
  },
  {
   "cell_type": "markdown",
   "metadata": {},
   "source": [
    "### 1.4.5 Text"
   ]
  },
  {
   "cell_type": "code",
   "execution_count": null,
   "metadata": {
    "collapsed": true
   },
   "outputs": [],
   "source": [
    "subplot(2, 2, 4)\n",
    "axis('off')"
   ]
  },
  {
   "cell_type": "code",
   "execution_count": null,
   "metadata": {
    "collapsed": false,
    "scrolled": true
   },
   "outputs": [],
   "source": [
    "diff([1, 4, 0, 2])"
   ]
  },
  {
   "cell_type": "code",
   "execution_count": null,
   "metadata": {
    "collapsed": false
   },
   "outputs": [],
   "source": [
    "sum(sqrt(diff(px)**2+diff(py)**2))"
   ]
  },
  {
   "cell_type": "code",
   "execution_count": null,
   "metadata": {
    "collapsed": true
   },
   "outputs": [],
   "source": [
    "Total_distance = float(sum(sqrt(diff(px)**2+diff(py)**2))/1000.0)\n",
    "Stand_time = len(Istand)/60.0\n",
    "Cruise_time = len(Icruise)/60.0\n",
    "Speed_time = len(Ispeed)/60.0\n",
    "Stand_per = 100*len(Istand)/len(v)\n",
    "Cruise_per = 100*len(Icruise)/len(v)\n",
    "Speed_per = 100*len(Ispeed)/len(v)\n",
    "Stats=['Statistics', \\\n",
    "       '%s' % filename, \\\n",
    "       'Number of data points: %d' % len(y), \\\n",
    "       'Average number of satellites: %d' % mean(sats), \\\n",
    "       'Total driving time: %.1f minutes:' % (len(v)/60.0), \\\n",
    "       ' Standing: %.1f minutes (%d%%)' % \\\n",
    "       (Stand_time, Stand_per), \\\n",
    "       ' Cruising: %.1f minutes (%d%%)' % \\\n",
    "       (Cruise_time, Cruise_per), \\\n",
    "       ' Speeding: %.1f minutes (%d%%)' % \\\n",
    "       (Speed_time, Speed_per), \\\n",
    "       'Average speed: %d km/h' % mean(v), \\\n",
    "       'Total distance travelled: %.1f Km' % Total_distance ]"
   ]
  },
  {
   "cell_type": "code",
   "execution_count": null,
   "metadata": {
    "collapsed": true
   },
   "outputs": [],
   "source": [
    "for index, stat_line in enumerate(reversed(stats)):\n",
    "    text(0, index, stat_line, va='bottom')\n",
    "plot([index-.2, index-.2])\n",
    "axis([0, 1, -1, len(stats)])"
   ]
  },
  {
   "cell_type": "markdown",
   "metadata": {},
   "source": [
    "## 1.5 Tying It All Together"
   ]
  },
  {
   "cell_type": "code",
   "execution_count": null,
   "metadata": {
    "collapsed": true
   },
   "outputs": [],
   "source": [
    "# %load 0053-7-src-Ch01/src/gps.py\n",
    "from pylab import *\n",
    "import csv, os\n",
    "\n",
    "# constant definitions\n",
    "STANDING_KMH = 10.0\n",
    "SPEEDING_KMH = 50.0\n",
    "NMI = 1852.0\n",
    "D2R = pi/180.0\n",
    "\n",
    "def read_csv_file(filename):\n",
    "    \"\"\"Reads a CSV file and return it as a list of rows.\"\"\"\n",
    "\n",
    "    data = []\n",
    "    for row in csv.reader(open(filename)):\n",
    "        data.append(row)\n",
    "    return data\n",
    "\n",
    "def process_gps_data(data):\n",
    "    \"\"\"Processes GPS data, NMEA 0183 format.\n",
    "\n",
    "Returns a tuple of arrays: latitude, longitude, velocity [km/h], \n",
    "time [sec] and number of satellites. \n",
    "See also: http://www.gpsinformation.org/dale/nmea.htm.\n",
    "    \"\"\"\n",
    "\n",
    "    latitude    = []\n",
    "    longitude   = []\n",
    "    velocity    = []\n",
    "    t_seconds   = []\n",
    "    num_sats    = []\n",
    "\n",
    "    for row in data:\n",
    "        if row[0] == '$GPGSV':\n",
    "            num_sats.append(float(row[3]))\n",
    "        elif row[0] == '$GPRMC': \n",
    "            t_seconds.append(float(row[1][0:2])*3600 + \\\n",
    "                float(row[1][2:4])*60+float(row[1][4:6]))\n",
    "            latitude.append(float(row[3][0:2]) + \\\n",
    "                float(row[3][2:])/60.0)\n",
    "            longitude.append((float(row[5][0:3]) + \\\n",
    "                float(row[5][3:])/60.0))\n",
    "            velocity.append(float(row[7])*NMI/1000.0)\n",
    "\n",
    "    return (array(latitude), array(longitude), \\\n",
    "        array(velocity), array(t_seconds), array(num_sats))\n",
    "\n",
    "# read every data file, filter and plot the data\n",
    "for root, dirs, files in os.walk('../data'):\n",
    "    for filename in files:\n",
    "        # create full filename including path\n",
    "        cur_file = os.path.join(root, filename)\n",
    "        if filename.endswith('csv'):\n",
    "            y = read_csv_file(cur_file)\n",
    "        else:\n",
    "            continue\n",
    "\n",
    "        # only files with the .csv extension from here on\n",
    "        \n",
    "        # process GPS data\n",
    "        (lat, long, v, t, sats) = process_gps_data(y)\n",
    "\n",
    "        # translate spherical coordinates to Cartesian\n",
    "        py = (lat-min(lat))*NMI*60.0\n",
    "        px = (long-min(long))*NMI*60.0*cos(D2R*lat)\n",
    "\n",
    "        # find out when standing, speeding or cruising\n",
    "        Istand = find(v < STANDING_KMH)\n",
    "        Ispeed = find(v > SPEEDING_KMH)\n",
    "        Icruise = find((v >= STANDING_KMH) & (v <= SPEEDING_KMH))\n",
    "\n",
    "        # left side, GPS location graph\n",
    "        figure()\n",
    "        subplot(1, 2, 1)\n",
    "\n",
    "        # longitude values go from right to left, \n",
    "        # we want increasing values from left to right\n",
    "        gca().axes.invert_xaxis()\n",
    "\n",
    "        plot(px, py, 'b', label=' Cruising', linewidth=3)\n",
    "        plot(px[Istand], py[Istand], 'sg', label=' Standing')\n",
    "        plot(px[Ispeed], py[Ispeed], 'or', label=' Speeding!')\n",
    "\n",
    "        # add direction of travel\n",
    "        for i in range(0, len(v), len(v)//10-1): \n",
    "            text(px[i], py[i], \">>>\", \\\n",
    "                rotation=arctan2(py[i+1]-py[i], -(px[i+1]-px[i]))/D2R, \\\n",
    "                ha='center')\n",
    "\n",
    "        # legends and labels\n",
    "        title(filename[:-4])\n",
    "        legend(loc='upper left')\n",
    "        xlabel('east-west (meters)')\n",
    "        ylabel('south-north (meters)')\n",
    "        grid()\n",
    "        axis('equal')\n",
    "\n",
    "        # top right corner,  speed graph\n",
    "        subplot(2, 2, 2)\n",
    "\n",
    "        # set the start time as t[0]; convert to minutes\n",
    "        t = (t-t[0])/60.0\n",
    "        plot(t, v, 'k')\n",
    "\n",
    "        # plot the standing and speeding threshold lines\n",
    "        plot([t[0], t[-1]], [STANDING_KMH, STANDING_KMH], '-g')\n",
    "        text(t[0], STANDING_KMH, \\\n",
    "            \" Standing threshold: \"+str(STANDING_KMH))\n",
    "        plot([t[0], t[-1]], [SPEEDING_KMH, SPEEDING_KMH], '-r')\n",
    "        text(t[0], SPEEDING_KMH, \\\n",
    "            \" Speeding threshold: \"+str(SPEEDING_KMH))\n",
    "        grid()\n",
    "\n",
    "        # legend and labels\n",
    "        title('Velocity')\n",
    "        xlabel('Time from start of file (minutes)')\n",
    "        ylabel('Speed (Km/H)')\n",
    "\n",
    "        # right side corner, statistics data\n",
    "        subplot(2, 2, 4)\n",
    "\n",
    "        # remove the frame and x/y axes. we want a clean slate\n",
    "        axis('off')\n",
    "\n",
    "        # generate an array of strings to be printed\n",
    "        Total_distance  = sum(sqrt(diff(px)**2+diff(py)**2)/1000.0)\n",
    "        Stand_time  = len(Istand)/60.0\n",
    "        Cruise_time = len(Icruise)/60.0\n",
    "        Speed_time  = len(Ispeed)/60.0\n",
    "        Stand_per   = 100*len(Istand)/len(v)\n",
    "        Cruise_per  = 100*len(Icruise)/len(v)\n",
    "        Speed_per   = 100*len(Ispeed)/len(v)\n",
    "        stats = ['Statistics', \\\n",
    "        '%s' % filename, \\\n",
    "        'Number of data points: %d' % len(y), \\\n",
    "        'Average number of satellites: %d' % mean(sats), \\\n",
    "        'Total driving time: %.1f minutes:' % (len(v)/60.0), \\\n",
    "        '    Standing: %.1f minutes (%d%%)' % \\\n",
    "        (Stand_time, Stand_per), \\\n",
    "        '    Cruising: %.1f minutes (%d%%)' % \\\n",
    "        (Cruise_time, Cruise_per), \\\n",
    "        '    Speeding: %.1f minutes (%d%%)' % \\\n",
    "        (Speed_time, Speed_per), \\\n",
    "        'Average speed: %d km/h' % mean(v), \\\n",
    "        'Total distance traveled: %.1f Km' % Total_distance ]\n",
    "\n",
    "        # display statistics information\n",
    "        for index, stat_line in enumerate(reversed(stats)):\n",
    "            text(0, index, stat_line, va='bottom') \n",
    "\n",
    "        # draw a line below the \"Statistics\" text\n",
    "        plot([index-.2, index-.2])\n",
    "\n",
    "        # set axis properly so all the text is displayed\n",
    "        axis([0, 1, -1, len(stats)])\n",
    "show()\n",
    "\n"
   ]
  },
  {
   "cell_type": "markdown",
   "metadata": {},
   "source": [
    "## 1.6 Final Notes and References"
   ]
  },
  {
   "cell_type": "code",
   "execution_count": null,
   "metadata": {
    "collapsed": true
   },
   "outputs": [],
   "source": []
  }
 ],
 "metadata": {
  "kernelspec": {
   "display_name": "Python 3",
   "language": "python",
   "name": "python3"
  },
  "language_info": {
   "codemirror_mode": {
    "name": "ipython",
    "version": 3
   },
   "file_extension": ".py",
   "mimetype": "text/x-python",
   "name": "python",
   "nbconvert_exporter": "python",
   "pygments_lexer": "ipython3",
   "version": "3.6.0"
  }
 },
 "nbformat": 4,
 "nbformat_minor": 1
}
