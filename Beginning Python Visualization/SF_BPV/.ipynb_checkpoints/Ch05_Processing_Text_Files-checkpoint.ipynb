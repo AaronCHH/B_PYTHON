{
 "cells": [
  {
   "cell_type": "markdown",
   "metadata": {},
   "source": [
    "# Chapter 5: Processing Text Files"
   ]
  },
  {
   "cell_type": "markdown",
   "metadata": {
    "collapsed": true
   },
   "source": [
    "<div id=\"toc\"></div>"
   ]
  },
  {
   "cell_type": "markdown",
   "metadata": {},
   "source": [
    "## 5.1 Text Is Everywhere\n",
    "## 5.2 Text and Strings\n",
    "### 5.2.1 Splitting Text"
   ]
  },
  {
   "cell_type": "code",
   "execution_count": 1,
   "metadata": {
    "collapsed": false
   },
   "outputs": [
    {
     "data": {
      "text/plain": [
       "['split', 'second']"
      ]
     },
     "execution_count": 1,
     "metadata": {},
     "output_type": "execute_result"
    }
   ],
   "source": [
    "\"split second\".split()"
   ]
  },
  {
   "cell_type": "code",
   "execution_count": 3,
   "metadata": {
    "collapsed": false
   },
   "outputs": [
    {
     "name": "stdout",
     "output_type": "stream",
     "text": [
      "Milk 2 \n",
      "Eggs 12\n"
     ]
    }
   ],
   "source": [
    "grocery_list = \"\"\"Milk 2 \n",
    "Eggs 12\"\"\"\n",
    "print(grocery_list)"
   ]
  },
  {
   "cell_type": "code",
   "execution_count": 4,
   "metadata": {
    "collapsed": false
   },
   "outputs": [
    {
     "data": {
      "text/plain": [
       "['Milk', '2', 'Eggs', '12']"
      ]
     },
     "execution_count": 4,
     "metadata": {},
     "output_type": "execute_result"
    }
   ],
   "source": [
    "grocery_list.split()"
   ]
  },
  {
   "cell_type": "code",
   "execution_count": 5,
   "metadata": {
    "collapsed": false
   },
   "outputs": [
    {
     "data": {
      "text/plain": [
       "['M', ' 2\\nEggs 12']"
      ]
     },
     "execution_count": 5,
     "metadata": {},
     "output_type": "execute_result"
    }
   ],
   "source": [
    "grocery_list = \"\"\"Milk 2\n",
    "Eggs 12\"\"\"\n",
    "grocery_list.split('ilk')"
   ]
  },
  {
   "cell_type": "code",
   "execution_count": 6,
   "metadata": {
    "collapsed": false
   },
   "outputs": [
    {
     "data": {
      "text/plain": [
       "['Milk 2', 'Eggs 12']"
      ]
     },
     "execution_count": 6,
     "metadata": {},
     "output_type": "execute_result"
    }
   ],
   "source": [
    "grocery_list = \"\"\"Milk 2\n",
    "Eggs 12\"\"\"\n",
    "grocery_list.splitlines()"
   ]
  },
  {
   "cell_type": "code",
   "execution_count": 7,
   "metadata": {
    "collapsed": false
   },
   "outputs": [
    {
     "data": {
      "text/plain": [
       "['Milk 2\\n', 'Eggs 12']"
      ]
     },
     "execution_count": 7,
     "metadata": {},
     "output_type": "execute_result"
    }
   ],
   "source": [
    "grocery_list.splitlines(True)"
   ]
  },
  {
   "cell_type": "markdown",
   "metadata": {},
   "source": [
    "* Example: Counting the Number of Words and Number of Lines in a String"
   ]
  },
  {
   "cell_type": "code",
   "execution_count": null,
   "metadata": {
    "collapsed": true
   },
   "outputs": [],
   "source": [
    "def word_line_count(s):\n",
    "    \"\"\"Returns the number of words and the numbers of lines in a string.\"\"\"\n",
    "    return (len(s.split()), len(s.splitlines()))"
   ]
  },
  {
   "cell_type": "code",
   "execution_count": null,
   "metadata": {
    "collapsed": true
   },
   "outputs": [],
   "source": [
    "grocery_list = \"\"\"Milk 2\n",
    "Eggs 12\"\"\"\n",
    "word_line_count(grocery_list)"
   ]
  },
  {
   "cell_type": "markdown",
   "metadata": {},
   "source": [
    "### 5.2.2 Joining Strings"
   ]
  },
  {
   "cell_type": "code",
   "execution_count": null,
   "metadata": {
    "collapsed": true
   },
   "outputs": [],
   "source": [
    "SOS = ['...', '---', '...']\n",
    "\"\".join(SOS)"
   ]
  },
  {
   "cell_type": "markdown",
   "metadata": {},
   "source": [
    "### 5.2.3 Converting Strings to Numbers"
   ]
  },
  {
   "cell_type": "code",
   "execution_count": null,
   "metadata": {
    "collapsed": true
   },
   "outputs": [],
   "source": [
    "float('3.25')"
   ]
  },
  {
   "cell_type": "code",
   "execution_count": null,
   "metadata": {
    "collapsed": true
   },
   "outputs": [],
   "source": [
    "int('100')"
   ]
  },
  {
   "cell_type": "code",
   "execution_count": null,
   "metadata": {
    "collapsed": true
   },
   "outputs": [],
   "source": [
    "float('split')"
   ]
  },
  {
   "cell_type": "code",
   "execution_count": null,
   "metadata": {
    "collapsed": true
   },
   "outputs": [],
   "source": [
    "for item in grocery_list.split():\n",
    "    try:\n",
    "        print(int(item))\n",
    "    except ValueError:\n",
    "        pass"
   ]
  },
  {
   "cell_type": "markdown",
   "metadata": {},
   "source": [
    "* Example: Base Conversion—Binary, Octal, Decimal, and Hexadecimal"
   ]
  },
  {
   "cell_type": "code",
   "execution_count": null,
   "metadata": {
    "collapsed": true
   },
   "outputs": [],
   "source": [
    "# %load 0053-7-src-Ch05/src/base_conversion.py\n",
    "# base conversion helper functions\n",
    "def bin2dec(s):\n",
    "    return str(int(s, 2))\n",
    "def oct2dec(s):\n",
    "    return str(int(s, 8))\n",
    "def hex2dec(s):\n",
    "    return str(int(s, 16))\n",
    "   \n",
    "def dec2hex(s):\n",
    "    return hex(int(s))\n",
    "def dec2oct(s):\n",
    "    return oct(int(s))\n",
    "def dec2bin(s):\n",
    "    return bin(int(s))\n",
    "\n",
    "def hex2oct(s):\n",
    "    return dec2oct(hex2dec(s))\n",
    "def hex2bin(s):\n",
    "    return dec2bin(hex2dec(s))\n",
    "\n",
    "def oct2hex(s):\n",
    "    return dec2hex(oct2dec(s))\n",
    "def bin2hex(s):\n",
    "    return dec2hex(bin2dec(s))\n",
    "\n",
    "def oct2bin(s):\n",
    "    return dec2bin(oct2dec(s))\n",
    "def bin2oct(s):\n",
    "    return dec2oct(bin2dec(s))\n"
   ]
  },
  {
   "cell_type": "code",
   "execution_count": null,
   "metadata": {
    "collapsed": false
   },
   "outputs": [],
   "source": [
    "hex2dec('0xffff')"
   ]
  },
  {
   "cell_type": "code",
   "execution_count": null,
   "metadata": {
    "collapsed": true
   },
   "outputs": [],
   "source": [
    "oct2hex('0o777')"
   ]
  },
  {
   "cell_type": "markdown",
   "metadata": {},
   "source": [
    "* Testing Your Implementation: exec and assert"
   ]
  },
  {
   "cell_type": "code",
   "execution_count": null,
   "metadata": {
    "collapsed": false
   },
   "outputs": [],
   "source": [
    "assert 1 == 2"
   ]
  },
  {
   "cell_type": "code",
   "execution_count": 11,
   "metadata": {
    "collapsed": false
   },
   "outputs": [
    {
     "name": "stdout",
     "output_type": "stream",
     "text": [
      "3\n"
     ]
    }
   ],
   "source": [
    "exec(\"print(1+2)\")"
   ]
  },
  {
   "cell_type": "code",
   "execution_count": null,
   "metadata": {
    "collapsed": true
   },
   "outputs": [],
   "source": [
    "from base_conversion import *\n",
    "def testbases():\n",
    "    \"\"\"Tests implementation of base conversion functions\"\"\"\n",
    "    v0 = { 'bin':'0b0', 'oct':'0o0', 'dec':'0', 'hex':'0x0' }\n",
    "    v1 = { 'bin':'0b1111', 'oct':'0o17', 'dec':'15', 'hex':'0xf' }\n",
    "    for v in [v0, v1]:\n",
    "        perms = [ (a, b) for b in v for a in v if a != b ]\n",
    "        for (s1, s2) in perms:\n",
    "            tc = \"assert %s2%s(v['%s']) == v['%s']\" % (s1, s2, s1, s2)\n",
    "            exec(tc)\n",
    "    print('All tests passed')"
   ]
  },
  {
   "cell_type": "code",
   "execution_count": 12,
   "metadata": {
    "collapsed": false,
    "scrolled": true
   },
   "outputs": [
    {
     "name": "stdout",
     "output_type": "stream",
     "text": [
      "[('oct', 'bin'),\n",
      " ('dec', 'bin'),\n",
      " ('hex', 'bin'),\n",
      " ('bin', 'oct'),\n",
      " ('dec', 'oct'),\n",
      " ('hex', 'oct'),\n",
      " ('bin', 'dec'),\n",
      " ('oct', 'dec'),\n",
      " ('hex', 'dec'),\n",
      " ('bin', 'hex'),\n",
      " ('oct', 'hex'),\n",
      " ('dec', 'hex')]\n"
     ]
    }
   ],
   "source": [
    "v = { 'bin':'0', 'oct':'0', 'dec':'0', 'hex':'0x0' }\n",
    "perms = [ (a, b) for b in v for a in v if a != b ]\n",
    "from pprint import pprint\n",
    "pprint(perms)"
   ]
  },
  {
   "cell_type": "markdown",
   "metadata": {},
   "source": [
    "> __perMUtatIONS__  \n",
    "The module itertools provides functions for creating iterators (see https://docs.python.org/3.3/library/itertools.html).  \n",
    "Specifically, itertools provides combinatorics generators, including the generator permutations().  \n",
    "Instead of implementing all the permutations using a list comprehension as shown in the example, it’s possible to use permutations() like this: permutations(['bin', 'hex', 'dec', 'oct'], 2).  \n",
    "Notice that the result is an iterator; to view the entire list, you’ll have to generate an actual list from the iterator: list(permutations(['bin', 'hex', 'dec', 'oct'], 2)).  \n",
    "The value 2 in the function call tells permutations() to return a tuple of size 2.  \n",
    "The module itertools provide additional useful generators (e.g., combinations() for all possible combinations and product(), which is equivalent to a nested loop).  \n",
    "  \n"
   ]
  },
  {
   "cell_type": "code",
   "execution_count": 13,
   "metadata": {
    "collapsed": false
   },
   "outputs": [
    {
     "name": "stdout",
     "output_type": "stream",
     "text": [
      "assert oct2bin(v['oct']) == v['bin']\n",
      "assert dec2bin(v['dec']) == v['bin']\n",
      "assert hex2bin(v['hex']) == v['bin']\n",
      "assert bin2oct(v['bin']) == v['oct']\n",
      "assert dec2oct(v['dec']) == v['oct']\n",
      "assert hex2oct(v['hex']) == v['oct']\n",
      "assert bin2dec(v['bin']) == v['dec']\n",
      "assert oct2dec(v['oct']) == v['dec']\n",
      "assert hex2dec(v['hex']) == v['dec']\n",
      "assert bin2hex(v['bin']) == v['hex']\n",
      "assert oct2hex(v['oct']) == v['hex']\n",
      "assert dec2hex(v['dec']) == v['hex']\n"
     ]
    }
   ],
   "source": [
    "for (s1, s2) in perms:\n",
    "    tc = \"assert %s2%s(v['%s']) == v['%s']\" % \\\n",
    "        (s1, s2, s1, s2)\n",
    "    print(tc)"
   ]
  },
  {
   "cell_type": "markdown",
   "metadata": {},
   "source": [
    "### 5.2.4 Find and Replace"
   ]
  },
  {
   "cell_type": "code",
   "execution_count": 14,
   "metadata": {
    "collapsed": false
   },
   "outputs": [
    {
     "data": {
      "text/plain": [
       "5"
      ]
     },
     "execution_count": 14,
     "metadata": {},
     "output_type": "execute_result"
    }
   ],
   "source": [
    "grocery_list = \"Milk 2\\nEggs 12\"\n",
    "grocery_list.find('2')"
   ]
  },
  {
   "cell_type": "code",
   "execution_count": 15,
   "metadata": {
    "collapsed": false
   },
   "outputs": [
    {
     "data": {
      "text/plain": [
       "13"
      ]
     },
     "execution_count": 15,
     "metadata": {},
     "output_type": "execute_result"
    }
   ],
   "source": [
    "grocery_list.find('2', 10)"
   ]
  },
  {
   "cell_type": "code",
   "execution_count": 16,
   "metadata": {
    "collapsed": false
   },
   "outputs": [
    {
     "data": {
      "text/plain": [
       "13"
      ]
     },
     "execution_count": 16,
     "metadata": {},
     "output_type": "execute_result"
    }
   ],
   "source": [
    "grocery_list.find('2', 10, 16)"
   ]
  },
  {
   "cell_type": "code",
   "execution_count": 17,
   "metadata": {
    "collapsed": false
   },
   "outputs": [
    {
     "data": {
      "text/plain": [
       "'Milk 2\\nOrganic Eggs 12'"
      ]
     },
     "execution_count": 17,
     "metadata": {},
     "output_type": "execute_result"
    }
   ],
   "source": [
    "grocery_list = \"Milk 2\\nEggs 12\"\n",
    "grocery_list.replace('Eggs', 'Organic Eggs')"
   ]
  },
  {
   "cell_type": "code",
   "execution_count": 18,
   "metadata": {
    "collapsed": false
   },
   "outputs": [
    {
     "data": {
      "text/plain": [
       "2"
      ]
     },
     "execution_count": 18,
     "metadata": {},
     "output_type": "execute_result"
    }
   ],
   "source": [
    "grocery_list = \"Milk 2\\nEggs 12\"\n",
    "grocery_list.count('2')"
   ]
  },
  {
   "cell_type": "code",
   "execution_count": 19,
   "metadata": {
    "collapsed": false
   },
   "outputs": [
    {
     "data": {
      "text/plain": [
       "1"
      ]
     },
     "execution_count": 19,
     "metadata": {},
     "output_type": "execute_result"
    }
   ],
   "source": [
    "grocery_list.count('Eggs')"
   ]
  },
  {
   "cell_type": "markdown",
   "metadata": {},
   "source": [
    "### 5.2.5 Stripping Strings"
   ]
  },
  {
   "cell_type": "code",
   "execution_count": 20,
   "metadata": {
    "collapsed": false
   },
   "outputs": [
    {
     "data": {
      "text/plain": [
       "'Hello'"
      ]
     },
     "execution_count": 20,
     "metadata": {},
     "output_type": "execute_result"
    }
   ],
   "source": [
    "\"Hello \".rstrip()"
   ]
  },
  {
   "cell_type": "code",
   "execution_count": 21,
   "metadata": {
    "collapsed": false
   },
   "outputs": [
    {
     "data": {
      "text/plain": [
       "' SECTION BREAK '"
      ]
     },
     "execution_count": 21,
     "metadata": {},
     "output_type": "execute_result"
    }
   ],
   "source": [
    "'*-*-* SECTION BREAK *-*-*'.strip('*-')"
   ]
  },
  {
   "cell_type": "markdown",
   "metadata": {},
   "source": [
    "* Example: Removing Extra Spaces"
   ]
  },
  {
   "cell_type": "code",
   "execution_count": 22,
   "metadata": {
    "collapsed": false
   },
   "outputs": [
    {
     "name": "stdout",
     "output_type": "stream",
     "text": [
      "Milk 2\n",
      "Eggs 12\n"
     ]
    }
   ],
   "source": [
    "grocery_list = \"Milk 2\\nEggs 12\"\n",
    "new_grocery_list = grocery_list.replace(\" \", \" \")\n",
    "print(new_grocery_list)"
   ]
  },
  {
   "cell_type": "code",
   "execution_count": 23,
   "metadata": {
    "collapsed": false
   },
   "outputs": [
    {
     "name": "stdout",
     "output_type": "stream",
     "text": [
      "Milk 2\n",
      "Eggs 12\n"
     ]
    }
   ],
   "source": [
    "grocery_list = \"Milk 2\\nEggs 12\"\n",
    "for line in grocery_list.splitlines():\n",
    "    clear_line = [s.strip() for s in line.split()]\n",
    "    print(\" \".join(clear_line))"
   ]
  },
  {
   "cell_type": "markdown",
   "metadata": {},
   "source": [
    "### 5.2.6 String Formatting"
   ]
  },
  {
   "cell_type": "code",
   "execution_count": 24,
   "metadata": {
    "collapsed": false
   },
   "outputs": [
    {
     "data": {
      "text/plain": [
       "' MIDDLE OF TOWN '"
      ]
     },
     "execution_count": 24,
     "metadata": {},
     "output_type": "execute_result"
    }
   ],
   "source": [
    "\" Middle of Town \".upper()"
   ]
  },
  {
   "cell_type": "code",
   "execution_count": 25,
   "metadata": {
    "collapsed": false
   },
   "outputs": [
    {
     "data": {
      "text/plain": [
       "' middle of town '"
      ]
     },
     "execution_count": 25,
     "metadata": {},
     "output_type": "execute_result"
    }
   ],
   "source": [
    "\" Middle of Town \".lower()"
   ]
  },
  {
   "cell_type": "code",
   "execution_count": 26,
   "metadata": {
    "collapsed": false
   },
   "outputs": [
    {
     "data": {
      "text/plain": [
       "' mIDDLE OF tOWN '"
      ]
     },
     "execution_count": 26,
     "metadata": {},
     "output_type": "execute_result"
    }
   ],
   "source": [
    "\" Middle of Town \".swapcase()"
   ]
  },
  {
   "cell_type": "code",
   "execution_count": 27,
   "metadata": {
    "collapsed": false
   },
   "outputs": [
    {
     "data": {
      "text/plain": [
       "'First sentence.\\nsecond sentence. third sentence'"
      ]
     },
     "execution_count": 27,
     "metadata": {},
     "output_type": "execute_result"
    }
   ],
   "source": [
    "\"first sentence.\\nSecond sentence. Third Sentence\".capitalize()"
   ]
  },
  {
   "cell_type": "code",
   "execution_count": 28,
   "metadata": {
    "collapsed": false
   },
   "outputs": [
    {
     "data": {
      "text/plain": [
       "'First Sentence.\\nSecond Sentence. Third Sentence'"
      ]
     },
     "execution_count": 28,
     "metadata": {},
     "output_type": "execute_result"
    }
   ],
   "source": [
    "\"first sentence.\\nSecond sentence. Third Sentence\".title()"
   ]
  },
  {
   "cell_type": "code",
   "execution_count": 29,
   "metadata": {
    "collapsed": false
   },
   "outputs": [
    {
     "data": {
      "text/plain": [
       "'***** Middle of Town *****'"
      ]
     },
     "execution_count": 29,
     "metadata": {},
     "output_type": "execute_result"
    }
   ],
   "source": [
    "\" Middle of Town \".center(26, '*')"
   ]
  },
  {
   "cell_type": "code",
   "execution_count": 30,
   "metadata": {
    "collapsed": false
   },
   "outputs": [
    {
     "data": {
      "text/plain": [
       "'           East side'"
      ]
     },
     "execution_count": 30,
     "metadata": {},
     "output_type": "execute_result"
    }
   ],
   "source": [
    "\"East side\".rjust(20)"
   ]
  },
  {
   "cell_type": "code",
   "execution_count": 31,
   "metadata": {
    "collapsed": false
   },
   "outputs": [
    {
     "data": {
      "text/plain": [
       "'West side-----------'"
      ]
     },
     "execution_count": 31,
     "metadata": {},
     "output_type": "execute_result"
    }
   ],
   "source": [
    "\"West side\".ljust(20, '-')"
   ]
  },
  {
   "cell_type": "markdown",
   "metadata": {},
   "source": [
    "### 5.2.7 String Conditionals"
   ]
  },
  {
   "cell_type": "code",
   "execution_count": 32,
   "metadata": {
    "collapsed": false
   },
   "outputs": [
    {
     "data": {
      "text/plain": [
       "True"
      ]
     },
     "execution_count": 32,
     "metadata": {},
     "output_type": "execute_result"
    }
   ],
   "source": [
    "\"a20.jpg\".endswith('jpg')"
   ]
  },
  {
   "cell_type": "code",
   "execution_count": 33,
   "metadata": {
    "collapsed": false
   },
   "outputs": [
    {
     "data": {
      "text/plain": [
       "False"
      ]
     },
     "execution_count": 33,
     "metadata": {},
     "output_type": "execute_result"
    }
   ],
   "source": [
    "\"a20.jpg\".endswith('JPG')"
   ]
  },
  {
   "cell_type": "code",
   "execution_count": 34,
   "metadata": {
    "collapsed": false
   },
   "outputs": [
    {
     "data": {
      "text/plain": [
       "True"
      ]
     },
     "execution_count": 34,
     "metadata": {},
     "output_type": "execute_result"
    }
   ],
   "source": [
    "\"a20.JPG\".endswith(('jpg', 'JPG'))"
   ]
  },
  {
   "cell_type": "code",
   "execution_count": 35,
   "metadata": {
    "collapsed": false
   },
   "outputs": [
    {
     "data": {
      "text/plain": [
       "False"
      ]
     },
     "execution_count": 35,
     "metadata": {},
     "output_type": "execute_result"
    }
   ],
   "source": [
    "\"a20.jpg\".isalnum()"
   ]
  },
  {
   "cell_type": "code",
   "execution_count": 36,
   "metadata": {
    "collapsed": false
   },
   "outputs": [
    {
     "data": {
      "text/plain": [
       "True"
      ]
     },
     "execution_count": 36,
     "metadata": {},
     "output_type": "execute_result"
    }
   ],
   "source": [
    "\"a20.jpg\".islower()"
   ]
  },
  {
   "cell_type": "markdown",
   "metadata": {},
   "source": [
    "### 5.2.8 More on Strings"
   ]
  },
  {
   "cell_type": "markdown",
   "metadata": {},
   "source": [
    "https://docs.python.org/3.3/library/string.html"
   ]
  },
  {
   "cell_type": "markdown",
   "metadata": {},
   "source": [
    "## 5.3 Files"
   ]
  },
  {
   "cell_type": "markdown",
   "metadata": {},
   "source": [
    "### 5.3.1 Opening a File"
   ]
  },
  {
   "cell_type": "markdown",
   "metadata": {},
   "source": [
    "| Mode  | Description                                                                                         |      \n",
    "|-------|-----------------------------------------------------------------------------------------------------|\n",
    "| r     | Opens a file for reading. This is the default value if mode isn’t specified.                        |                                                                    \n",
    "| w     | Opens a file for writing, overwriting an existing file.                                             |                                              \n",
    "| a     | Opens a file for writing in append mode; all write operations are performed at the end.             |                                                                             \n",
    "|       | If the file doesn’t exist, it is created.                                                           |                               \n",
    "| x     | Create a new file, and open it for reading.                                                         |                                  \n",
    "| r+    | Opens a file for reading and updating.                                                              |                                \n",
    "|       | If the file doesn’t exist, an exception is raised.                                                  |                                         \n",
    "| w+    | Creates a new file for writing and updating, overwriting an existing one.                           |                                                                  \n",
    "| a+    | Opens a file for reading and writing in append mode. All write operations are performed at the end. |                                                                                            \n",
    "|       | If the file doesn’t exist, it is created.                                                           |                               "
   ]
  },
  {
   "cell_type": "markdown",
   "metadata": {},
   "source": [
    "### 5.3.2 Closing a File"
   ]
  },
  {
   "cell_type": "code",
   "execution_count": null,
   "metadata": {
    "collapsed": true
   },
   "outputs": [],
   "source": [
    "f = open('somefile.txt', 'wt')\n",
    "f"
   ]
  },
  {
   "cell_type": "code",
   "execution_count": null,
   "metadata": {
    "collapsed": true
   },
   "outputs": [],
   "source": [
    "f.close()\n",
    "type(f)"
   ]
  },
  {
   "cell_type": "markdown",
   "metadata": {},
   "source": [
    "### 5.3.3 Writing Text"
   ]
  },
  {
   "cell_type": "code",
   "execution_count": null,
   "metadata": {
    "collapsed": true
   },
   "outputs": [],
   "source": [
    "grocery_str = \"Milk 2\\nEggs 12\"\n",
    "f = open('../data/tobuy.txt', 'wt')\n",
    "f.write(grocery_str)\n",
    "f.close()"
   ]
  },
  {
   "cell_type": "code",
   "execution_count": null,
   "metadata": {
    "collapsed": true
   },
   "outputs": [],
   "source": [
    "grocery_list = [\"Milk\", \"2\", \"Eggs\", \"12\"]\n",
    "f = open('../data/tobuylist.txt', 'wt')\n",
    "f.writelines(grocery_list)\n",
    "f.close()"
   ]
  },
  {
   "cell_type": "markdown",
   "metadata": {},
   "source": [
    "### 5.3.4 Reading Text"
   ]
  },
  {
   "cell_type": "markdown",
   "metadata": {},
   "source": [
    "* Reading the Entire File at Once"
   ]
  },
  {
   "cell_type": "code",
   "execution_count": null,
   "metadata": {
    "collapsed": true
   },
   "outputs": [],
   "source": [
    "f = open('../data/tobuy.txt')\n",
    "text = f.read()\n",
    "f.close()\n",
    "print(text)"
   ]
  },
  {
   "cell_type": "code",
   "execution_count": null,
   "metadata": {
    "collapsed": true
   },
   "outputs": [],
   "source": [
    "print(open('../data/tobuy.txt').read())"
   ]
  },
  {
   "cell_type": "code",
   "execution_count": null,
   "metadata": {
    "collapsed": true
   },
   "outputs": [],
   "source": [
    "open('../data/tobuy.txt').readlines()"
   ]
  },
  {
   "cell_type": "markdown",
   "metadata": {},
   "source": [
    "* Iterating Over the File Object"
   ]
  },
  {
   "cell_type": "code",
   "execution_count": null,
   "metadata": {
    "collapsed": true
   },
   "outputs": [],
   "source": [
    "for i, line in enumerate(open('../data/tobuy.txt')):\n",
    "    print(\"%d: %s\" % (i, line.rstrip()))"
   ]
  },
  {
   "cell_type": "markdown",
   "metadata": {},
   "source": [
    "* Using a while Loop"
   ]
  },
  {
   "cell_type": "code",
   "execution_count": null,
   "metadata": {
    "collapsed": true
   },
   "outputs": [],
   "source": [
    "f = open('../data/tobuy.txt')\n",
    "ch = f.read(1)\n",
    "while ch != 'k' and ch:\n",
    "    print(ch)\n",
    "    ch = f.read(1)"
   ]
  },
  {
   "cell_type": "code",
   "execution_count": null,
   "metadata": {
    "collapsed": true
   },
   "outputs": [],
   "source": [
    "f.close()"
   ]
  },
  {
   "cell_type": "markdown",
   "metadata": {},
   "source": [
    "## 5.4 Working with Text Files"
   ]
  },
  {
   "cell_type": "markdown",
   "metadata": {},
   "source": [
    "### 5.4.1 Example: Character, Word, and Line Count"
   ]
  },
  {
   "cell_type": "code",
   "execution_count": null,
   "metadata": {
    "collapsed": true
   },
   "outputs": [],
   "source": [
    "def wc(filename):\n",
    "    \"\"\"Returns the number of characters, words and lines in a file.\n",
    "The result is a tuple of the form (#characters, #words, #lines).\"\"\"\n",
    "    data = open(filename, 'rb').read()\n",
    "    return (len(data), len(data.split()), len(data.splitlines()))"
   ]
  },
  {
   "cell_type": "code",
   "execution_count": null,
   "metadata": {
    "collapsed": true
   },
   "outputs": [],
   "source": [
    "def wc_large(filename):\n",
    "    \"\"\"Returns the number of characters, words and lines in a large file.\n",
    "The result is a tuple of the form (#characters, #words, #lines).\"\"\"\n",
    "    num_chars, num_words, num_lines = 0, 0, 0\n",
    "    for line in open(filename, encoding='latin-1'):\n",
    "        num_chars += len(line)\n",
    "        num_words += len(line.split())\n",
    "        num_lines += 1\n",
    "    return (num_chars, num_words, num_lines)"
   ]
  },
  {
   "cell_type": "code",
   "execution_count": null,
   "metadata": {
    "collapsed": true
   },
   "outputs": [],
   "source": [
    "wc('../data/45506-8.txt')"
   ]
  },
  {
   "cell_type": "code",
   "execution_count": null,
   "metadata": {
    "collapsed": true
   },
   "outputs": [],
   "source": [
    "wc_large('../data/45506-8.txt')"
   ]
  },
  {
   "cell_type": "markdown",
   "metadata": {},
   "source": [
    "### 5.4.2 Example: head and tail"
   ]
  },
  {
   "cell_type": "code",
   "execution_count": null,
   "metadata": {
    "collapsed": true
   },
   "outputs": [],
   "source": [
    "def head(filename, n=10):\n",
    "    \"\"\"Prints the first n lines of the file.\"\"\"\n",
    "    for line in open(filename, encoding='latin-1').readlines()[:n]:\n",
    "        print(line.rstrip())"
   ]
  },
  {
   "cell_type": "code",
   "execution_count": null,
   "metadata": {
    "collapsed": true
   },
   "outputs": [],
   "source": [
    "def tail(filename, n=10):\n",
    "    \"\"\"Returns the last n lines of the file.\"\"\"\n",
    "    for line in open(filename, encoding='latin-1').readlines()[-n:]:\n",
    "        print(line.rstrip())"
   ]
  },
  {
   "cell_type": "code",
   "execution_count": null,
   "metadata": {
    "collapsed": true
   },
   "outputs": [],
   "source": [
    "def head_large(filename, n=10):\n",
    "    \"\"\"Returns the first n lines of a very large file.\"\"\"\n",
    "    for i, line in enumerate(open(filename, encoding='latin-1')):\n",
    "        print(line.rstrip())\n",
    "        if i == n-1: break"
   ]
  },
  {
   "cell_type": "markdown",
   "metadata": {},
   "source": [
    "### 5.4.3 Example: Splitting and Combining Files"
   ]
  },
  {
   "cell_type": "code",
   "execution_count": null,
   "metadata": {
    "collapsed": true
   },
   "outputs": [],
   "source": [
    "def splitfile(filename, size=1024**2):\n",
    "    \"\"\"Splits a file into n smaller files.\n",
    "Files are created with a running index.\"\"\"\n",
    "    fin, index = open(filename, 'rb'), 0\n",
    "    data = fin.read(size)\n",
    "    while data:\n",
    "        index += 1\n",
    "        outfilename = filename+'.'+str(index)\n",
    "        fout = open(outfilename, 'wb')\n",
    "        fout.write(data)\n",
    "        fout.close()\n",
    "        print(\"Created file %s, size %d\" % (outfilename, len(data)))\n",
    "        data = fin.read(size)\n",
    "    return\n",
    "\n",
    "def combinefiles(filename):\n",
    "    \"\"\"Combines a previously split file.\n",
    "Filename extensions are assumed a running index.\n",
    "Important note: if a file named filename exists it will be overwritten.\"\"\"\n",
    "    fout, index = open(filename, 'wb'), 0\n",
    "    while True:\n",
    "        index += 1\n",
    "        try:\n",
    "            data = open(filename+'.'+str(index), 'rb').read()\n",
    "            fout.write(data)\n",
    "        except IOError:\n",
    "            break\n",
    "    fout.close()\n",
    "    print(\"Created file %s from %d file(s)\" % (filename, index-1))"
   ]
  },
  {
   "cell_type": "code",
   "execution_count": null,
   "metadata": {
    "collapsed": true
   },
   "outputs": [],
   "source": [
    "splitfile('../data/45506-8.txt', 100000)"
   ]
  },
  {
   "cell_type": "code",
   "execution_count": null,
   "metadata": {
    "collapsed": true
   },
   "outputs": [],
   "source": [
    "import os\n",
    "src = '../data/45506-8.txt.%d'\n",
    "dest = '../data/tmp/45506-8.txt.%d'\n",
    "for i in range(1, 4):\n",
    "    os.renames(src % i, dest % i)\n",
    "os.listdir('../data/tmp')"
   ]
  },
  {
   "cell_type": "code",
   "execution_count": null,
   "metadata": {
    "collapsed": true
   },
   "outputs": [],
   "source": [
    "combinefiles('../data/tmp/45506-8.txt')"
   ]
  },
  {
   "cell_type": "code",
   "execution_count": null,
   "metadata": {
    "collapsed": true
   },
   "outputs": [],
   "source": [
    "data1 = open('../data/45506-8.txt', 'rb').read()\n",
    "data2 = open('../data/tmp/45506-8.txt', 'rb').read()\n",
    "data1 == data2"
   ]
  },
  {
   "cell_type": "markdown",
   "metadata": {},
   "source": [
    "### 5.4.4 Example: Searching Inside a Text File"
   ]
  },
  {
   "cell_type": "code",
   "execution_count": null,
   "metadata": {
    "collapsed": true
   },
   "outputs": [],
   "source": [
    "def srchfile(filename, substr):\n",
    "    \"\"\"Searches for a substring in a file.\"\"\"\n",
    "    for index, line in enumerate(open(filename, encoding='latin-1')):\n",
    "        if line.find(substr) != -1:\n",
    "            try:\n",
    "                print(\"%4d:%s\" % (index, line.rstrip()))\n",
    "            except UnicodeEncodeError:\n",
    "                print(\"%4d: ---encoding error---\" % index)"
   ]
  },
  {
   "cell_type": "code",
   "execution_count": null,
   "metadata": {
    "collapsed": true
   },
   "outputs": [],
   "source": [
    "numlines = 1234\n",
    "from math import log10\n",
    "maxdigits = int(log10(numlines))+1\n",
    "maxdigits"
   ]
  },
  {
   "cell_type": "code",
   "execution_count": null,
   "metadata": {
    "collapsed": true
   },
   "outputs": [],
   "source": [
    "def srchfile_ex(filename, substr):\n",
    "    \"\"\"Searches for a substring in a file.\"\"\"\n",
    "    lines = open(filename, encoding='latin-1').readlines()\n",
    "    fmt = r'%' + str(int(log10(len(lines)))+1) + r'd:%s'\n",
    "    for index, line in enumerate(lines):\n",
    "        if line.find(substr) != -1:\n",
    "            try:\n",
    "                print(fmt % (index, line.rstrip()))\n",
    "            except UnicodeEncodeError:\n",
    "                print(\"%d: --- encoding error ---\" % index)"
   ]
  },
  {
   "cell_type": "markdown",
   "metadata": {},
   "source": [
    "### 5.4.5 Example: Working with Comments"
   ]
  },
  {
   "cell_type": "code",
   "execution_count": null,
   "metadata": {
    "collapsed": true
   },
   "outputs": [],
   "source": [
    "def srchcomments(filename, substr):\n",
    "    \"\"\"Searches inside Python source comments.\"\"\"\n",
    "    for index, line in enumerate(open(filename, 'rt')):\n",
    "        L = line.split('#')\n",
    "        if len(L) == 2:\n",
    "            if L[1].find(substr) != -1:\n",
    "                print(\"%5d: %s\" % (index, line.rstrip()))"
   ]
  },
  {
   "cell_type": "markdown",
   "metadata": {},
   "source": [
    "### 5.4.6 Example: Extracting Numbers from a Text File"
   ]
  },
  {
   "cell_type": "code",
   "execution_count": null,
   "metadata": {
    "collapsed": true
   },
   "outputs": [],
   "source": [
    "def increment_contents(filename):\n",
    "    \"\"\"Increments values in a file, creating a new file.\"\"\"\n",
    "    data = open(filename).readlines()\n",
    "    for i, line in enumerate(data):\n",
    "        for word in line.split():\n",
    "            try:\n",
    "                data[i] = line.replace(word, str(int(word)+1))\n",
    "            except ValueError:\n",
    "                # uncomment the following if you'd like feedback\n",
    "                # print(word, \" is not a number\")\n",
    "                pass\n",
    "    open(filename+'.inc', 'wt').writelines(data)"
   ]
  },
  {
   "cell_type": "code",
   "execution_count": null,
   "metadata": {
    "collapsed": true
   },
   "outputs": [],
   "source": [
    "def increment_contents_both(filename):\n",
    "    \"\"\"Increments values in a file, creating a new file.\n",
    "    Works with both ints and floats.\"\"\"\n",
    "    data = open(filename, 'rt').readlines()\n",
    "    for i, line in enumerate(data):\n",
    "        for word in line.split():\n",
    "            try:\n",
    "                data[i] = line.replace(word, str(int(word)+1))\n",
    "            except ValueError:\n",
    "                try:\n",
    "                    data[i] = line.replace(word, str(float(word)+1))\n",
    "                except ValueError:\n",
    "                    # uncomment the following if you'd like feedback\n",
    "                    # print(word, \"is not a number\")\n",
    "                    pass\n",
    "    open(filename+'.inc', 'wt').writelines(data)"
   ]
  },
  {
   "cell_type": "markdown",
   "metadata": {},
   "source": [
    "## 5.5 CSV Files"
   ]
  },
  {
   "cell_type": "markdown",
   "metadata": {},
   "source": [
    "### 5.5.1 The csv Module"
   ]
  },
  {
   "cell_type": "code",
   "execution_count": null,
   "metadata": {
    "collapsed": true
   },
   "outputs": [],
   "source": [
    "L = open('../data/sometext.csv').read().split(',')\n",
    "from pprint import pprint\n",
    "pprint(L)"
   ]
  },
  {
   "cell_type": "code",
   "execution_count": null,
   "metadata": {
    "collapsed": true
   },
   "outputs": [],
   "source": [
    "f = open('../data/sometext.csv')\n",
    "for line in csv.reader(f, skipinitialspace=True):\n",
    "    print(line)"
   ]
  },
  {
   "cell_type": "markdown",
   "metadata": {},
   "source": [
    "### 5.5.2 The csv.reader Object"
   ]
  },
  {
   "cell_type": "markdown",
   "metadata": {},
   "source": [
    "### 5.5.3 The csv.writer Object"
   ]
  },
  {
   "cell_type": "code",
   "execution_count": null,
   "metadata": {
    "collapsed": true
   },
   "outputs": [],
   "source": [
    "lines = [[\"1/1/2000\", \"Some text, and a comma\"]]\n",
    "csv.writer(open('../data/outtext.csv', 'w')).writerows(lines)"
   ]
  },
  {
   "cell_type": "markdown",
   "metadata": {},
   "source": [
    "### 5.5.4 More CSV Functionality"
   ]
  },
  {
   "cell_type": "code",
   "execution_count": null,
   "metadata": {
    "collapsed": true
   },
   "outputs": [],
   "source": [
    "for line in csv.reader(open('../data/sometext.csv'), delimiter='/'):\n",
    "    print(line)"
   ]
  },
  {
   "cell_type": "code",
   "execution_count": null,
   "metadata": {
    "collapsed": true
   },
   "outputs": [],
   "source": [
    "lines = [[\"1/1/2000\", \"Some text, and a comma\"]]\n",
    "f = open('../data/outtext.csv', 'w')\n",
    "csv.writer(f, quotechar='|').writerows(lines)\n",
    "f.close()"
   ]
  },
  {
   "cell_type": "code",
   "execution_count": null,
   "metadata": {
    "collapsed": true
   },
   "outputs": [],
   "source": [
    "lines = [[\"1/1/2000\", \"Some text, and a comma\"]]\n",
    "f = open('../data/outtext.csv', 'w')\n",
    "cw = csv.writer(f, quoting=csv.QUOTE_NONE, escapechar='~')\n",
    "cw.writerows(lines)\n",
    "f.close()"
   ]
  },
  {
   "cell_type": "markdown",
   "metadata": {},
   "source": [
    "### 5.5.5 DictReader and DictWriter Objects"
   ]
  },
  {
   "cell_type": "code",
   "execution_count": null,
   "metadata": {
    "collapsed": true
   },
   "outputs": [],
   "source": [
    "import csv\n",
    "fcsv = open('../data/tobuy.csv')\n",
    "for row in csv.DictReader(fcsv):\n",
    "    print(\"Please buy\", row['Count'], row['Item'])"
   ]
  },
  {
   "cell_type": "code",
   "execution_count": null,
   "metadata": {
    "collapsed": true
   },
   "outputs": [],
   "source": [
    "header = ['Item', 'Count']\n",
    "rows = [['Organic Eggs', 5], ['Cucumbers', 12 ]]\n",
    "fcsv = open('../data/tobuy_more.csv', 'w', newline='')\n",
    "dict_wr = csv.DictWriter(fcsv, header)\n",
    "dict_wr.writeheader()\n",
    "for row in rows:\n",
    "    dict_wr.writerow(dict(zip(header, row)))\n",
    "fcsv.close()"
   ]
  },
  {
   "cell_type": "code",
   "execution_count": null,
   "metadata": {
    "collapsed": true
   },
   "outputs": [],
   "source": [
    "header = ['Item', 'Count']\n",
    "rows = [['Organic Eggs', 5], ['Cucumbers', 12]]\n",
    "for row in rows:\n",
    "    print(list(zip(header, row)))"
   ]
  },
  {
   "cell_type": "code",
   "execution_count": null,
   "metadata": {
    "collapsed": true
   },
   "outputs": [],
   "source": [
    "for row in rows:\n",
    "    dict_wr.writerow(dict(zip(header, row)))"
   ]
  },
  {
   "cell_type": "markdown",
   "metadata": {},
   "source": [
    "## 5.6 Date and Time"
   ]
  },
  {
   "cell_type": "markdown",
   "metadata": {},
   "source": [
    "http://gnosis.cx/TPiP"
   ]
  },
  {
   "cell_type": "markdown",
   "metadata": {},
   "source": [
    "### 5.6.1 Time Module"
   ]
  },
  {
   "cell_type": "markdown",
   "metadata": {},
   "source": [
    "### 5.6.2 The struct_time Tuple"
   ]
  },
  {
   "cell_type": "code",
   "execution_count": 40,
   "metadata": {
    "collapsed": false
   },
   "outputs": [
    {
     "data": {
      "text/plain": [
       "time.struct_time(tm_year=2017, tm_mon=4, tm_mday=22, tm_hour=21, tm_min=46, tm_sec=21, tm_wday=5, tm_yday=112, tm_isdst=0)"
      ]
     },
     "execution_count": 40,
     "metadata": {},
     "output_type": "execute_result"
    }
   ],
   "source": [
    "from time import localtime\n",
    "localtime()"
   ]
  },
  {
   "cell_type": "code",
   "execution_count": 41,
   "metadata": {
    "collapsed": false
   },
   "outputs": [
    {
     "data": {
      "text/plain": [
       "2017"
      ]
     },
     "execution_count": 41,
     "metadata": {},
     "output_type": "execute_result"
    }
   ],
   "source": [
    "localtime().tm_year"
   ]
  },
  {
   "cell_type": "code",
   "execution_count": 42,
   "metadata": {
    "collapsed": false
   },
   "outputs": [
    {
     "data": {
      "text/plain": [
       "112"
      ]
     },
     "execution_count": 42,
     "metadata": {},
     "output_type": "execute_result"
    }
   ],
   "source": [
    "localtime().tm_yday"
   ]
  },
  {
   "cell_type": "markdown",
   "metadata": {},
   "source": [
    "### 5.6.3 Parsing and Formatting Date and Time"
   ]
  },
  {
   "cell_type": "markdown",
   "metadata": {},
   "source": [
    "| Identifier | Description                                                                            | Values Range                              |  \n",
    "|------------|----------------------------------------------------------------------------------------|-------------------------------|\n",
    "| %Y         | Year with century as a decimal number                                                  |                               |                    \n",
    "| %m         | Month as a decimal number                                                              | 1–12                          |            \n",
    "| %d         | Day of the month as a decimal number                                                   | 1–31                          |                      \n",
    "| %H         | Hour as a decimal number                                                               | 0–23                          |          \n",
    "| %M         | Minute as a decimal number                                                             | 0-59                          |            \n",
    "| %S         | Second as a decimal number                                                             | 00-61 (61 for leap seconds)   |                                  \n",
    "| %w         | Weekday as a decimal number                                                            | 0–6 (where 0 is Sunday)       |                                \n",
    "| %j         | Day of the year as a decimal number                                                    | 001-366 (366 for leap years)  |                                              \n",
    "| %z         | Time zone field. DST doesn’t have an identifier of its own and is part of this field.  |                               |                                                                    \n",
    "| %a, %A     | Locale’s weekday name, abbreviated and full                                            |                               |                              \n",
    "| %b, %B     | Locale’s month name, abbreviated and full                                              |                               |     "
   ]
  },
  {
   "cell_type": "markdown",
   "metadata": {},
   "source": [
    "https://docs.python.org/3.3/library/time.html."
   ]
  },
  {
   "cell_type": "markdown",
   "metadata": {},
   "source": [
    "* Example: Logging Information with a Date and Timestamp"
   ]
  },
  {
   "cell_type": "code",
   "execution_count": null,
   "metadata": {
    "collapsed": true
   },
   "outputs": [],
   "source": [
    "from time import localtime, strftime\n",
    "strftime(\"%Y-%m-%dT%H-%M-%S\", localtime())"
   ]
  },
  {
   "cell_type": "code",
   "execution_count": null,
   "metadata": {
    "collapsed": true
   },
   "outputs": [],
   "source": [
    "from time import asctime\n",
    "asctime(localtime())"
   ]
  },
  {
   "cell_type": "code",
   "execution_count": null,
   "metadata": {
    "collapsed": true
   },
   "outputs": [],
   "source": [
    "from time import strftime, gmtime\n",
    "strftime('%d-%b-%Y %H:%M:%S', gmtime())"
   ]
  },
  {
   "cell_type": "code",
   "execution_count": null,
   "metadata": {
    "collapsed": true
   },
   "outputs": [],
   "source": [
    "from time import strftime, gmtime, sleep\n",
    "time_str = strftime(\"%Y-%m-%dT%H-%M-%S\", gmtime())\n",
    "flog = open(\"../data/LogExample%s.txt\" % time_str, 'wt')\n",
    "for i in range(5):\n",
    "    sleep(1.7)\n",
    "    logline = \"%s | Some data %d\\n\" % \\\n",
    "        (strftime('%d-%b-%Y %H:%M:%S', gmtime()), i)\n",
    "    flog.write(logline)\n",
    "flog.close()"
   ]
  },
  {
   "cell_type": "markdown",
   "metadata": {},
   "source": [
    "https://docs.python.org/3.3/library/logging.html "
   ]
  },
  {
   "cell_type": "markdown",
   "metadata": {},
   "source": [
    "* Example: Extracting Date and Time Information from File Contents"
   ]
  },
  {
   "cell_type": "code",
   "execution_count": 46,
   "metadata": {
    "collapsed": false
   },
   "outputs": [
    {
     "data": {
      "text/plain": [
       "'Sat Jun 21 21:57:20 2008'"
      ]
     },
     "execution_count": 46,
     "metadata": {},
     "output_type": "execute_result"
    }
   ],
   "source": [
    "from time import strptime\n",
    "log1 = '06/21/2008 21:57:20: Some text'\n",
    "time1 = strptime(log1[:19], '%m/%d/%Y %H:%M:%S')\n",
    "asctime(time1)"
   ]
  },
  {
   "cell_type": "code",
   "execution_count": 44,
   "metadata": {
    "collapsed": false
   },
   "outputs": [
    {
     "name": "stdout",
     "output_type": "stream",
     "text": [
      "2008-10-21\t20:37:26 Some text\n"
     ]
    }
   ],
   "source": [
    "from time import asctime, strptime\n",
    "log2 = '2008-10-21\\t20:37:26 Some text'\n",
    "print(log2)"
   ]
  },
  {
   "cell_type": "code",
   "execution_count": 45,
   "metadata": {
    "collapsed": false
   },
   "outputs": [
    {
     "data": {
      "text/plain": [
       "'Tue Oct 21 20:37:26 2008'"
      ]
     },
     "execution_count": 45,
     "metadata": {},
     "output_type": "execute_result"
    }
   ],
   "source": [
    "time2 = strptime(log2[:19], '%Y-%m-%d\\t%H:%M:%S')\n",
    "asctime(time2)"
   ]
  },
  {
   "cell_type": "markdown",
   "metadata": {},
   "source": [
    "### 5.6.4 The Epoch: “Linearizing” the Time Base"
   ]
  },
  {
   "cell_type": "code",
   "execution_count": 47,
   "metadata": {
    "collapsed": false
   },
   "outputs": [
    {
     "data": {
      "text/plain": [
       "'Thu Jan  1 00:00:00 1970'"
      ]
     },
     "execution_count": 47,
     "metadata": {},
     "output_type": "execute_result"
    }
   ],
   "source": [
    "from time import asctime, gmtime\n",
    "asctime(gmtime(0))"
   ]
  },
  {
   "cell_type": "code",
   "execution_count": 48,
   "metadata": {
    "collapsed": false
   },
   "outputs": [
    {
     "data": {
      "text/plain": [
       "[50455.0, 50516.0]"
      ]
     },
     "execution_count": 48,
     "metadata": {},
     "output_type": "execute_result"
    }
   ],
   "source": [
    "vals = ['140055.00', '140156.00']\n",
    "[float(x[:2])*3600+float(x[2:4])*60+float(x[4:6]) for x in vals]"
   ]
  },
  {
   "cell_type": "code",
   "execution_count": 49,
   "metadata": {
    "collapsed": false
   },
   "outputs": [
    {
     "data": {
      "text/plain": [
       "61.0"
      ]
     },
     "execution_count": 49,
     "metadata": {},
     "output_type": "execute_result"
    }
   ],
   "source": [
    "_[1]-_[0]"
   ]
  },
  {
   "cell_type": "code",
   "execution_count": 50,
   "metadata": {
    "collapsed": false
   },
   "outputs": [
    {
     "data": {
      "text/plain": [
       "[943941655.0, 943941716.0]"
      ]
     },
     "execution_count": 50,
     "metadata": {},
     "output_type": "execute_result"
    }
   ],
   "source": [
    "from time import mktime\n",
    "[mktime((2000, 0, 0, int(x[:2]), int(x[2:4]), int(x[4:6]), \\\n",
    "         0, 0, 0)) for x in vals]"
   ]
  },
  {
   "cell_type": "code",
   "execution_count": 51,
   "metadata": {
    "collapsed": false
   },
   "outputs": [
    {
     "data": {
      "text/plain": [
       "61.0"
      ]
     },
     "execution_count": 51,
     "metadata": {},
     "output_type": "execute_result"
    }
   ],
   "source": [
    "_[1]-_[0]"
   ]
  },
  {
   "cell_type": "markdown",
   "metadata": {},
   "source": [
    "https://docs.python.org/3.3/library/datetime.html"
   ]
  },
  {
   "cell_type": "markdown",
   "metadata": {},
   "source": [
    "* Example: End-of-Day Report"
   ]
  },
  {
   "cell_type": "code",
   "execution_count": null,
   "metadata": {
    "collapsed": true
   },
   "outputs": [],
   "source": [
    "# end-of-day report\n",
    "from time import mktime, strptime, ctime\n",
    "import csv\n",
    "d = {}\n",
    "for row in csv.reader(open('../data/SystemALogs.txt')):\n",
    "    # t is a struct_time tuple\n",
    "    t = strptime(row[0], '%a %b %d %H:%M:%S %Y')\n",
    "    # calculate seconds since the epoch\n",
    "    t_epoch = mktime(t)\n",
    "    # construct a key and value\n",
    "    key = (t.tm_year, t.tm_yday)\n",
    "    val = (t_epoch, row[1])\n",
    "    try:\n",
    "        # do we have a more recent entry?\n",
    "        if d[key][0] < t_epoch:\n",
    "        d[key] = val\n",
    "    except KeyError:\n",
    "        # current date is not in dictionary\n",
    "        d[key] = val\n",
    "for epoch, line in d.values():\n",
    "    print(ctime(epoch), line)"
   ]
  },
  {
   "cell_type": "markdown",
   "metadata": {},
   "source": [
    "* Example: Combining Data from Several Sources Based on the Epoch"
   ]
  },
  {
   "cell_type": "code",
   "execution_count": null,
   "metadata": {
    "collapsed": true
   },
   "outputs": [],
   "source": [
    "from time import mktime, strptime\n",
    "data = []\n",
    "data1 = open('../data/SystemBLogs.txt').readlines()\n",
    "data2 = open('../data/SystemCLogs.txt').readlines()\n",
    "fmt = '%b %d %H:%M:%S %Y'\n",
    "\n",
    "for line in data1+data2:\n",
    "    # t is a struct_time tuple\n",
    "    t = strptime(line[4:24], fmt)\n",
    "    # calculate seconds since the epoch\n",
    "    t_epoch = mktime(t)\n",
    "    # append data\n",
    "    data.append([t_epoch, line])\n",
    "    \n",
    "data = [line[1] for line in sorted(data)]\n",
    "open('../data/SystemsBCLogs.txt', 'wt').writelines(data)"
   ]
  },
  {
   "cell_type": "markdown",
   "metadata": {},
   "source": [
    "### 5.6.5 Additional Time and Date Functions"
   ]
  },
  {
   "cell_type": "markdown",
   "metadata": {},
   "source": [
    "We’ve covered most of the functionality available in the time module.  \n",
    "For most of your log file processing needs and other time-based processing requirements, the module is comprehensive and complete.  \n",
    "There are additional time- and date-related modules available in Python.  \n",
    "The datetime module (https://docs.python.org/3.3/library/datetime.html) provides functionality that includes operations on dates using a more object-oriented approach.  \n",
    "The calendar module (https://docs.python.org/3.3/library/calendar.html) provides general calendar-related operations.  \n",
    "Refer to the Python standard library for additional information.  \n",
    "  \n"
   ]
  },
  {
   "cell_type": "markdown",
   "metadata": {},
   "source": [
    "## 5.7 Regular Expressions"
   ]
  },
  {
   "cell_type": "markdown",
   "metadata": {},
   "source": [
    "### 5.7.1 Regular Expression Patterns"
   ]
  },
  {
   "cell_type": "code",
   "execution_count": 52,
   "metadata": {
    "collapsed": false
   },
   "outputs": [
    {
     "data": {
      "text/plain": [
       "['Fl', 'tl', 'nd']"
      ]
     },
     "execution_count": 52,
     "metadata": {},
     "output_type": "execute_result"
    }
   ],
   "source": [
    "import re\n",
    "re.split(r'a', 'Flatland')"
   ]
  },
  {
   "cell_type": "code",
   "execution_count": 53,
   "metadata": {
    "collapsed": false
   },
   "outputs": [
    {
     "data": {
      "text/plain": [
       "['45506-8.', '']"
      ]
     },
     "execution_count": 53,
     "metadata": {},
     "output_type": "execute_result"
    }
   ],
   "source": [
    "re.split(r'txt', '45506-8.txt')"
   ]
  },
  {
   "cell_type": "code",
   "execution_count": 54,
   "metadata": {
    "collapsed": false
   },
   "outputs": [
    {
     "data": {
      "text/plain": [
       "['la', 'la']"
      ]
     },
     "execution_count": 54,
     "metadata": {},
     "output_type": "execute_result"
    }
   ],
   "source": [
    "re.findall(r'.?a', 'Flatland')"
   ]
  },
  {
   "cell_type": "code",
   "execution_count": 55,
   "metadata": {
    "collapsed": false
   },
   "outputs": [
    {
     "data": {
      "text/plain": [
       "['atland']"
      ]
     },
     "execution_count": 55,
     "metadata": {},
     "output_type": "execute_result"
    }
   ],
   "source": [
    "re.findall(r'a.*', 'Flatland')"
   ]
  },
  {
   "cell_type": "code",
   "execution_count": 56,
   "metadata": {
    "collapsed": false
   },
   "outputs": [
    {
     "data": {
      "text/plain": [
       "['Flatla']"
      ]
     },
     "execution_count": 56,
     "metadata": {},
     "output_type": "execute_result"
    }
   ],
   "source": [
    "re.findall(r'^.*a', 'Flatland')"
   ]
  },
  {
   "cell_type": "code",
   "execution_count": 57,
   "metadata": {
    "collapsed": false
   },
   "outputs": [
    {
     "data": {
      "text/plain": [
       "['Fla']"
      ]
     },
     "execution_count": 57,
     "metadata": {},
     "output_type": "execute_result"
    }
   ],
   "source": [
    "re.findall(r'^.*?a', 'Flatland')"
   ]
  },
  {
   "cell_type": "code",
   "execution_count": 58,
   "metadata": {
    "collapsed": false
   },
   "outputs": [
    {
     "data": {
      "text/plain": [
       "['atland']"
      ]
     },
     "execution_count": 58,
     "metadata": {},
     "output_type": "execute_result"
    }
   ],
   "source": [
    "re.findall(r'a.*$', 'Flatland')"
   ]
  },
  {
   "cell_type": "markdown",
   "metadata": {},
   "source": [
    "* Example: Removing Extra Spaces with Regular Expressions"
   ]
  },
  {
   "cell_type": "code",
   "execution_count": null,
   "metadata": {
    "collapsed": true
   },
   "outputs": [],
   "source": [
    "grocery_list = \"Milk 2\\nEggs 12\"\n",
    "re.sub(r' +', ' ', grocery_list)"
   ]
  },
  {
   "cell_type": "markdown",
   "metadata": {},
   "source": [
    "### 5.7.2 Special Sequences"
   ]
  },
  {
   "cell_type": "code",
   "execution_count": null,
   "metadata": {
    "collapsed": true
   },
   "outputs": [],
   "source": [
    "grocery_list = \"Milk 2\\nEggs 12\"\n",
    "re.findall(r'\\d+', grocery_list)"
   ]
  },
  {
   "cell_type": "markdown",
   "metadata": {},
   "source": [
    "### 5.7.3 Alternatives"
   ]
  },
  {
   "cell_type": "code",
   "execution_count": null,
   "metadata": {
    "collapsed": true
   },
   "outputs": [],
   "source": [
    "grocery_list = \"Milk 2\\nEggs 12\"\n",
    "re.sub(r'Milk|Eggs', 'Chocolate', grocery_list)"
   ]
  },
  {
   "cell_type": "markdown",
   "metadata": {},
   "source": [
    "### 5.7.4 Ranges"
   ]
  },
  {
   "cell_type": "code",
   "execution_count": null,
   "metadata": {
    "collapsed": true
   },
   "outputs": [],
   "source": [
    "grocery_list = \"Milk 2\\nEggs 12\"\n",
    "re.sub('[12]', '0', grocery_list)"
   ]
  },
  {
   "cell_type": "code",
   "execution_count": null,
   "metadata": {
    "collapsed": true
   },
   "outputs": [],
   "source": [
    "grocery_list = \"Milk 2\\nEggs 12\"\n",
    "re.sub('[^0-5]', '*', grocery_list)"
   ]
  },
  {
   "cell_type": "markdown",
   "metadata": {},
   "source": [
    "### 5.7.5 When to Use Regular Expressions"
   ]
  },
  {
   "cell_type": "markdown",
   "metadata": {},
   "source": [
    "* Example: Words Used Only Once"
   ]
  },
  {
   "cell_type": "code",
   "execution_count": null,
   "metadata": {
    "collapsed": true
   },
   "outputs": [],
   "source": [
    "def nonce(filename):\n",
    "    \"\"\"Returns words used only once in a file.\"\"\"\n",
    "    data = open(filename, 'rt').read()\n",
    "    d, result = dict(), []\n",
    "    for word in re.split('['+punctuation+whitespace+']', data):\n",
    "        d[word.lower()] = d.get(word.lower(), 0)+1\n",
    "    for word, occur in d.iteritems():\n",
    "        if occur == 1:\n",
    "            result.append(word)\n",
    "    return result"
   ]
  },
  {
   "cell_type": "markdown",
   "metadata": {},
   "source": [
    "## 5.8 Internationalization and Localization"
   ]
  },
  {
   "cell_type": "markdown",
   "metadata": {},
   "source": [
    "### 5.8.1 Locale"
   ]
  },
  {
   "cell_type": "code",
   "execution_count": 59,
   "metadata": {
    "collapsed": false
   },
   "outputs": [
    {
     "data": {
      "text/plain": [
       "'French_France.1252'"
      ]
     },
     "execution_count": 59,
     "metadata": {},
     "output_type": "execute_result"
    }
   ],
   "source": [
    "import locale\n",
    "locale.setlocale(locale.LC_ALL, 'french')"
   ]
  },
  {
   "cell_type": "code",
   "execution_count": 60,
   "metadata": {
    "collapsed": false
   },
   "outputs": [
    {
     "data": {
      "text/plain": [
       "'22-avril-2017'"
      ]
     },
     "execution_count": 60,
     "metadata": {},
     "output_type": "execute_result"
    }
   ],
   "source": [
    "from time import gmtime, strftime, strptime\n",
    "fmt = '%d-%B-%Y'\n",
    "strftime(fmt, localtime())"
   ]
  },
  {
   "cell_type": "code",
   "execution_count": 61,
   "metadata": {
    "collapsed": false,
    "scrolled": true
   },
   "outputs": [
    {
     "data": {
      "text/plain": [
       "time.struct_time(tm_year=2017, tm_mon=4, tm_mday=22, tm_hour=0, tm_min=0, tm_sec=0, tm_wday=5, tm_yday=112, tm_isdst=-1)"
      ]
     },
     "execution_count": 61,
     "metadata": {},
     "output_type": "execute_result"
    }
   ],
   "source": [
    "strptime(_, fmt)"
   ]
  },
  {
   "cell_type": "markdown",
   "metadata": {},
   "source": [
    "https://docs.python.org/3.3/library/locale.html."
   ]
  },
  {
   "cell_type": "markdown",
   "metadata": {},
   "source": [
    "### 5.8.2 Unicode Strings"
   ]
  },
  {
   "cell_type": "markdown",
   "metadata": {},
   "source": [
    "http://www.unicode.org"
   ]
  },
  {
   "cell_type": "code",
   "execution_count": 62,
   "metadata": {
    "collapsed": false
   },
   "outputs": [
    {
     "data": {
      "text/plain": [
       "b'X'"
      ]
     },
     "execution_count": 62,
     "metadata": {},
     "output_type": "execute_result"
    }
   ],
   "source": [
    "\"X\".encode('utf-8')"
   ]
  },
  {
   "cell_type": "code",
   "execution_count": 63,
   "metadata": {
    "collapsed": false
   },
   "outputs": [
    {
     "data": {
      "text/plain": [
       "b'\\xff\\xfeX\\x00'"
      ]
     },
     "execution_count": 63,
     "metadata": {},
     "output_type": "execute_result"
    }
   ],
   "source": [
    "\"X\".encode('utf-16')"
   ]
  },
  {
   "cell_type": "markdown",
   "metadata": {},
   "source": [
    "* Working with Unicode"
   ]
  },
  {
   "cell_type": "code",
   "execution_count": 64,
   "metadata": {
    "collapsed": false
   },
   "outputs": [
    {
     "data": {
      "text/plain": [
       "'a string©'"
      ]
     },
     "execution_count": 64,
     "metadata": {},
     "output_type": "execute_result"
    }
   ],
   "source": [
    "u = 'a string\\xa9'\n",
    "u"
   ]
  },
  {
   "cell_type": "code",
   "execution_count": null,
   "metadata": {
    "collapsed": true
   },
   "outputs": [],
   "source": [
    "open('../data/special1.txt', 'wb').write(u.encode('utf-8'))"
   ]
  },
  {
   "cell_type": "code",
   "execution_count": null,
   "metadata": {
    "collapsed": true
   },
   "outputs": [],
   "source": [
    "open('../data/special2.txt', 'w', encoding='utf-8').write(u)"
   ]
  },
  {
   "cell_type": "code",
   "execution_count": 65,
   "metadata": {
    "collapsed": false
   },
   "outputs": [
    {
     "data": {
      "text/plain": [
       "b'a string\\xc2\\xa9'"
      ]
     },
     "execution_count": 65,
     "metadata": {},
     "output_type": "execute_result"
    }
   ],
   "source": [
    "u.encode('utf-8')"
   ]
  },
  {
   "cell_type": "code",
   "execution_count": 66,
   "metadata": {
    "collapsed": false
   },
   "outputs": [
    {
     "data": {
      "text/plain": [
       "b'\\xff\\xfea\\x00 \\x00s\\x00t\\x00r\\x00i\\x00n\\x00g\\x00\\xa9\\x00'"
      ]
     },
     "execution_count": 66,
     "metadata": {},
     "output_type": "execute_result"
    }
   ],
   "source": [
    "u.encode('utf-16')"
   ]
  },
  {
   "cell_type": "code",
   "execution_count": 67,
   "metadata": {
    "collapsed": false,
    "scrolled": true
   },
   "outputs": [
    {
     "data": {
      "text/plain": [
       "'a string©'"
      ]
     },
     "execution_count": 67,
     "metadata": {},
     "output_type": "execute_result"
    }
   ],
   "source": [
    "u.encode('utf-16').decode('utf-16')"
   ]
  },
  {
   "cell_type": "markdown",
   "metadata": {},
   "source": [
    "* Example: The Hebrew Alphabet"
   ]
  },
  {
   "cell_type": "code",
   "execution_count": null,
   "metadata": {
    "collapsed": true
   },
   "outputs": [],
   "source": [
    "letters = [chr(letter) for letter in range(0x5d0, 0x5eb)]\n",
    "alephbet = ''.join(letters)\n",
    "open('../data/alephbet.txt', 'w', encoding='utf-8').write(alephbet)"
   ]
  },
  {
   "cell_type": "code",
   "execution_count": null,
   "metadata": {
    "collapsed": true
   },
   "outputs": [],
   "source": [
    "letters = [chr(letter) for letter in range(0xc0, 0x100)]\n",
    "latin = ''.join(letters)\n",
    "open('../data/latin.txt', 'w', encoding='utf-8').write(latin)"
   ]
  },
  {
   "cell_type": "markdown",
   "metadata": {},
   "source": [
    "* Example: Writing Today’s Date in the Current Locale"
   ]
  },
  {
   "cell_type": "code",
   "execution_count": null,
   "metadata": {
    "collapsed": true
   },
   "outputs": [],
   "source": [
    "import locale\n",
    "from time import strftime, strptime, localtime\n",
    "from sys import platform\n",
    "if platform == 'linux' or platform == 'darwin':\n",
    "    locale.setlocale(locale.LC_ALL, 'he_IL')\n",
    "elif platform == 'win32':\n",
    "    locale.setlocale(locale.LC_ALL, 'Hebrew_Israel')\n",
    "elif platform == 'cygwin':\n",
    "    raise Exception('Cygwin not supported')\n",
    "else:\n",
    "    print(\"Untested platform: \", platform)\n",
    "today = strftime('%B %d, %Y', localtime())\n",
    "open('../data/today.txt', 'w', encoding='utf-8').write(today)"
   ]
  },
  {
   "cell_type": "markdown",
   "metadata": {},
   "source": [
    "* More on Unicode"
   ]
  },
  {
   "cell_type": "markdown",
   "metadata": {},
   "source": [
    "* The Unicode Consortium: http://www.unicode.org.\n",
    "* Wikipedia: http://en.wikipedia.org/wiki/Locale. Be sure to follow the links to topics such as character encoding and Unicode.\n",
    "* International Components for Unicode: http://www.icu-project.org/."
   ]
  },
  {
   "cell_type": "markdown",
   "metadata": {},
   "source": [
    "## 5.9 Final Notes and References"
   ]
  }
 ],
 "metadata": {
  "kernelspec": {
   "display_name": "Python 3",
   "language": "python",
   "name": "python3"
  },
  "language_info": {
   "codemirror_mode": {
    "name": "ipython",
    "version": 3
   },
   "file_extension": ".py",
   "mimetype": "text/x-python",
   "name": "python",
   "nbconvert_exporter": "python",
   "pygments_lexer": "ipython3",
   "version": "3.6.0"
  }
 },
 "nbformat": 4,
 "nbformat_minor": 1
}
