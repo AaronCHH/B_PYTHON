{
 "cells": [
  {
   "cell_type": "markdown",
   "metadata": {},
   "source": [
    "# Chapter 10: Advanced File Processing"
   ]
  },
  {
   "cell_type": "markdown",
   "metadata": {
    "collapsed": true
   },
   "source": [
    "<div id=\"toc\"></div>"
   ]
  },
  {
   "cell_type": "markdown",
   "metadata": {},
   "source": [
    "## 10.1 Binary Files and Random Access"
   ]
  },
  {
   "cell_type": "code",
   "execution_count": 1,
   "metadata": {
    "collapsed": false
   },
   "outputs": [
    {
     "data": {
      "text/plain": [
       "0"
      ]
     },
     "execution_count": 1,
     "metadata": {},
     "output_type": "execute_result"
    }
   ],
   "source": [
    "f = open('data/example.bin', 'wb')\n",
    "f.tell()"
   ]
  },
  {
   "cell_type": "code",
   "execution_count": 2,
   "metadata": {
    "collapsed": false
   },
   "outputs": [
    {
     "data": {
      "text/plain": [
       "10"
      ]
     },
     "execution_count": 2,
     "metadata": {},
     "output_type": "execute_result"
    }
   ],
   "source": [
    "f.write(b'0123456789')\n",
    "f.tell()"
   ]
  },
  {
   "cell_type": "code",
   "execution_count": 3,
   "metadata": {
    "collapsed": false
   },
   "outputs": [
    {
     "data": {
      "text/plain": [
       "5"
      ]
     },
     "execution_count": 3,
     "metadata": {},
     "output_type": "execute_result"
    }
   ],
   "source": [
    "f.seek(5)"
   ]
  },
  {
   "cell_type": "code",
   "execution_count": 4,
   "metadata": {
    "collapsed": false
   },
   "outputs": [
    {
     "data": {
      "text/plain": [
       "15"
      ]
     },
     "execution_count": 4,
     "metadata": {},
     "output_type": "execute_result"
    }
   ],
   "source": [
    "f.write(b'0123456789')\n",
    "f.tell()"
   ]
  },
  {
   "cell_type": "code",
   "execution_count": 5,
   "metadata": {
    "collapsed": true
   },
   "outputs": [],
   "source": [
    "f.close()"
   ]
  },
  {
   "cell_type": "code",
   "execution_count": 6,
   "metadata": {
    "collapsed": false
   },
   "outputs": [
    {
     "data": {
      "text/plain": [
       "b'012340123456789'"
      ]
     },
     "execution_count": 6,
     "metadata": {},
     "output_type": "execute_result"
    }
   ],
   "source": [
    "open('data/example.bin', 'rb').read()"
   ]
  },
  {
   "cell_type": "code",
   "execution_count": 7,
   "metadata": {
    "collapsed": false
   },
   "outputs": [
    {
     "data": {
      "text/plain": [
       "13"
      ]
     },
     "execution_count": 7,
     "metadata": {},
     "output_type": "execute_result"
    }
   ],
   "source": [
    "f = open('data/example.bin', 'rb')\n",
    "f.seek(-2, 2)"
   ]
  },
  {
   "cell_type": "code",
   "execution_count": 8,
   "metadata": {
    "collapsed": false
   },
   "outputs": [
    {
     "name": "stdout",
     "output_type": "stream",
     "text": [
      "b'89'\n"
     ]
    }
   ],
   "source": [
    "print(f.read())"
   ]
  },
  {
   "cell_type": "markdown",
   "metadata": {},
   "source": [
    "### 10.1.1 Example: Reading the Nth Field"
   ]
  },
  {
   "cell_type": "code",
   "execution_count": 9,
   "metadata": {
    "collapsed": true
   },
   "outputs": [],
   "source": [
    "import struct\n",
    "from math import sqrt\n",
    "from random import randrange\n",
    "# binary filename\n",
    "bin_fn = 'data/large_file.bin'\n",
    "Nfields = 1000 # number of fields\n",
    "N = 766 # field to retrieve\n",
    "fmt = 'cdL' # format: byte, float, 4-bytes\n",
    "fmt_size = struct.calcsize(fmt)"
   ]
  },
  {
   "cell_type": "code",
   "execution_count": 10,
   "metadata": {
    "collapsed": false
   },
   "outputs": [
    {
     "name": "stdout",
     "output_type": "stream",
     "text": [
      "At location 766, I read: (b'-', 27.65863337187866, 765)\n"
     ]
    }
   ],
   "source": [
    "# create a random binary file\n",
    "fout = open(bin_fn, 'wb')\n",
    "for i in range(Nfields):\n",
    "    data = struct.pack(fmt, bytes([randrange(32, 128)]), sqrt(float(i)), i)\n",
    "    fout.write(data)\n",
    "fout.close()\n",
    "# read the nth value\n",
    "fin = open(bin_fn, 'rb')\n",
    "fin.seek((N-1)*fmt_size)\n",
    "data = fin.read(fmt_size)\n",
    "(c, d, l) = struct.unpack(fmt, data)\n",
    "print(\"At location %d, I read:\" % (fin.tell()/fmt_size), (c, d, l))"
   ]
  },
  {
   "cell_type": "markdown",
   "metadata": {},
   "source": [
    "### 10.1.2 Example: Efficient Tail Implementation"
   ]
  },
  {
   "cell_type": "code",
   "execution_count": 13,
   "metadata": {
    "collapsed": false
   },
   "outputs": [],
   "source": [
    "from os.path import getsize\n",
    "def tail_large(filename, n=10):\n",
    "    \"\"\"Returns the last n lines of a very large file.\"\"\"\n",
    "    N, data = 1024, b''\n",
    "    # open the file and retrieve its size\n",
    "    f = open(filename, 'rb')\n",
    "    fsize = getsize(filename)\n",
    "    \n",
    "    # seek to the end of file\n",
    "    f.seek(0, 2)\n",
    "    for i in range(fsize-N, -N, -N):\n",
    "        # read the next chunk of data\n",
    "        f.seek(max(i, 0))\n",
    "        # store read data, reversed order\n",
    "        data = f.read(N)+data\n",
    "        # do we have enough lines?\n",
    "        if data.count(b'\\n') > n:\n",
    "            break\n",
    "    # print the last n lines\n",
    "    lines = data.splitlines()\n",
    "    \n",
    "    for line in lines[-n:]:\n",
    "        print(line)    "
   ]
  },
  {
   "cell_type": "markdown",
   "metadata": {},
   "source": [
    "### 10.1.3 Example: Creating a Fixed Size File"
   ]
  },
  {
   "cell_type": "code",
   "execution_count": 14,
   "metadata": {
    "collapsed": false
   },
   "outputs": [
    {
     "data": {
      "text/plain": [
       "1073741823"
      ]
     },
     "execution_count": 14,
     "metadata": {},
     "output_type": "execute_result"
    }
   ],
   "source": [
    "f = open('data/1gb_file.bin', 'wb')\n",
    "f.seek(2**30-1)"
   ]
  },
  {
   "cell_type": "code",
   "execution_count": 15,
   "metadata": {
    "collapsed": false
   },
   "outputs": [
    {
     "data": {
      "text/plain": [
       "1"
      ]
     },
     "execution_count": 15,
     "metadata": {},
     "output_type": "execute_result"
    }
   ],
   "source": [
    "f.write(bytes([0]))"
   ]
  },
  {
   "cell_type": "code",
   "execution_count": 16,
   "metadata": {
    "collapsed": true
   },
   "outputs": [],
   "source": [
    "f.close()"
   ]
  },
  {
   "cell_type": "code",
   "execution_count": 17,
   "metadata": {
    "collapsed": false
   },
   "outputs": [
    {
     "data": {
      "text/plain": [
       "1073741824"
      ]
     },
     "execution_count": 17,
     "metadata": {},
     "output_type": "execute_result"
    }
   ],
   "source": [
    "from os.path import getsize\n",
    "getsize('data/1gb_file.bin')"
   ]
  },
  {
   "cell_type": "markdown",
   "metadata": {},
   "source": [
    "### 10.1.4 Example: Recording Time-Based Binary Data"
   ]
  },
  {
   "cell_type": "code",
   "execution_count": 18,
   "metadata": {
    "collapsed": true
   },
   "outputs": [],
   "source": [
    "import random, time, array\n",
    "N = 10\n",
    "fname = 'data/binary_data.f64'\n",
    "data = array.array('d')\n",
    "# create data\n",
    "\n",
    "for value in range(N):\n",
    "    time.sleep(random.random())\n",
    "    data.append(time.time())\n",
    "    data.append(value)\n",
    "    \n",
    "# store data to file\n",
    "f = open(fname, 'wb')\n",
    "data.tofile(f)\n",
    "f.close()"
   ]
  },
  {
   "cell_type": "code",
   "execution_count": 19,
   "metadata": {
    "collapsed": false
   },
   "outputs": [
    {
     "name": "stdout",
     "output_type": "stream",
     "text": [
      "Sun Apr 23 14:29:35 2017 0.0\n",
      "Sun Apr 23 14:29:36 2017 1.0\n",
      "Sun Apr 23 14:29:37 2017 2.0\n",
      "Sun Apr 23 14:29:37 2017 3.0\n",
      "Sun Apr 23 14:29:38 2017 4.0\n",
      "Sun Apr 23 14:29:38 2017 5.0\n",
      "Sun Apr 23 14:29:39 2017 6.0\n",
      "Sun Apr 23 14:29:40 2017 7.0\n",
      "Sun Apr 23 14:29:40 2017 8.0\n",
      "Sun Apr 23 14:29:41 2017 9.0\n"
     ]
    }
   ],
   "source": [
    "import random, time, array\n",
    "N = 10\n",
    "fname = 'data/binary_data.f64'\n",
    "data = array.array('d')\n",
    "# read data\n",
    "f = open(fname, 'rb')\n",
    "data.fromfile(f, N*2)\n",
    "f.close()\n",
    "# display data\n",
    "L = data.tolist()\n",
    "for t, val in zip(L[::2], L[1::2]):\n",
    "    print(time.ctime(t), val)"
   ]
  },
  {
   "cell_type": "code",
   "execution_count": 20,
   "metadata": {
    "collapsed": false
   },
   "outputs": [
    {
     "data": {
      "text/plain": [
       "[1, 2, 3]"
      ]
     },
     "execution_count": 20,
     "metadata": {},
     "output_type": "execute_result"
    }
   ],
   "source": [
    "L = [1, 'Value', 2, 'Another value', 3, 'Last value']\n",
    "L[::2] # these are the odd values"
   ]
  },
  {
   "cell_type": "code",
   "execution_count": 21,
   "metadata": {
    "collapsed": false
   },
   "outputs": [
    {
     "data": {
      "text/plain": [
       "['Value', 'Another value', 'Last value']"
      ]
     },
     "execution_count": 21,
     "metadata": {},
     "output_type": "execute_result"
    }
   ],
   "source": [
    "L[1::2] # these are the even values"
   ]
  },
  {
   "cell_type": "code",
   "execution_count": 22,
   "metadata": {
    "collapsed": false
   },
   "outputs": [
    {
     "data": {
      "text/plain": [
       "[(1, 'Value'), (2, 'Another value'), (3, 'Last value')]"
      ]
     },
     "execution_count": 22,
     "metadata": {},
     "output_type": "execute_result"
    }
   ],
   "source": [
    "list(zip(L[::2], L[1::2]))"
   ]
  },
  {
   "cell_type": "code",
   "execution_count": 23,
   "metadata": {
    "collapsed": false
   },
   "outputs": [
    {
     "name": "stdout",
     "output_type": "stream",
     "text": [
      "1 Value\n",
      "2 Another value\n",
      "3 Last value\n"
     ]
    }
   ],
   "source": [
    "for i, s in zip(L[::2], L[1::2]):\n",
    "    print(i, s)"
   ]
  },
  {
   "cell_type": "markdown",
   "metadata": {},
   "source": [
    "## 10.2 Reading MATLAB Files as NumPy Arrays"
   ]
  },
  {
   "cell_type": "code",
   "execution_count": null,
   "metadata": {
    "collapsed": false,
    "scrolled": true
   },
   "outputs": [],
   "source": [
    "import numpy as np\n",
    "from pylab import *\n",
    "from scipy.io import savemat, loadmat\n",
    "a = np.arange(10)\n",
    "savemat('data.mat', {'a': a})\n",
    "del a\n",
    "a"
   ]
  },
  {
   "cell_type": "code",
   "execution_count": 37,
   "metadata": {
    "collapsed": false,
    "scrolled": true
   },
   "outputs": [
    {
     "data": {
      "text/plain": [
       "{'__globals__': [],\n",
       " '__header__': b'MATLAB 5.0 MAT-file Platform: nt, Created on: Sun Apr 23 14:33:07 2017',\n",
       " '__version__': '1.0',\n",
       " 'a': array([[0, 1, 2, 3, 4, 5, 6, 7, 8, 9]])}"
      ]
     },
     "execution_count": 37,
     "metadata": {},
     "output_type": "execute_result"
    }
   ],
   "source": [
    "loadmat('data.mat')"
   ]
  },
  {
   "cell_type": "code",
   "execution_count": 38,
   "metadata": {
    "collapsed": false,
    "scrolled": true
   },
   "outputs": [
    {
     "data": {
      "text/plain": [
       "array([[0, 1, 2, 3, 4, 5, 6, 7, 8, 9]])"
      ]
     },
     "execution_count": 38,
     "metadata": {},
     "output_type": "execute_result"
    }
   ],
   "source": [
    "data = loadmat('data.mat')\n",
    "data['a']"
   ]
  },
  {
   "cell_type": "markdown",
   "metadata": {},
   "source": [
    "## 10.3 Reading Text Files Directly to NumPy Arrays"
   ]
  },
  {
   "cell_type": "markdown",
   "metadata": {},
   "source": [
    " | Parameter |\n",
    " |---|\n",
    " | Comments |\n",
    " | Converters |\n",
    " | Delimiter |\n",
    " | Dtype |\n",
    " | Ndmin |\n",
    " | Skiprows |\n",
    " | Usecols |\n",
    " | Unpack |"
   ]
  },
  {
   "cell_type": "markdown",
   "metadata": {},
   "source": [
    "### 10.3.1 Example: Reading and Writing Text Files to NumPy Arrays"
   ]
  },
  {
   "cell_type": "code",
   "execution_count": null,
   "metadata": {
    "collapsed": false
   },
   "outputs": [],
   "source": [
    "from pylab import *\n",
    "def c0(x):\n",
    "    return datestr2num(x.decode('utf-8'))\n",
    "\n",
    "data = loadtxt('data/charts.xls', skiprows=2, converters={0:c0})\n",
    "data"
   ]
  },
  {
   "cell_type": "code",
   "execution_count": null,
   "metadata": {
    "collapsed": true
   },
   "outputs": [],
   "source": [
    "savetxt('data/charts_mod.txt', data)"
   ]
  },
  {
   "cell_type": "markdown",
   "metadata": {},
   "source": [
    "## 10.4 Object Serialization"
   ]
  },
  {
   "cell_type": "markdown",
   "metadata": {},
   "source": [
    "### 10.4.1 The Pickle Module"
   ]
  },
  {
   "cell_type": "markdown",
   "metadata": {},
   "source": [
    "* Example: Saving and Retrieving Python Session Variables"
   ]
  },
  {
   "cell_type": "code",
   "execution_count": 43,
   "metadata": {
    "collapsed": true
   },
   "outputs": [],
   "source": [
    "import pickle\n",
    "from numpy import *\n",
    "fname = 'data/mysession.pickle'\n",
    "a = 3\n",
    "b = \"A string\"\n",
    "c = {'dict': 10}\n",
    "d = eye(3)\n",
    "fout = open(fname, 'wb')\n",
    "for var in [a, b, c, d]:\n",
    "    pickle.dump(var, fout)\n",
    "fout.close()"
   ]
  },
  {
   "cell_type": "code",
   "execution_count": 46,
   "metadata": {
    "collapsed": false
   },
   "outputs": [
    {
     "name": "stdout",
     "output_type": "stream",
     "text": [
      "Read v_1, type is: <class 'int'>\n",
      "Read v_2, type is: <class 'str'>\n",
      "Read v_3, type is: <class 'dict'>\n",
      "Read v_4, type is: <class 'numpy.ndarray'>\n"
     ]
    }
   ],
   "source": [
    "import pickle\n",
    "fname = 'data/mysession.pickle'\n",
    "fin = open(fname, 'rb')\n",
    "var_index = 0\n",
    "while True:\n",
    "    try:\n",
    "        var_index += 1\n",
    "        exec(\"v_%d = pickle.load(fin)\" % var_index)\n",
    "        exec(\"var_type = type(v_%d)\" % var_index)\n",
    "        print(\"Read v_%d, type is: %s\" % (var_index, var_type))\n",
    "    except EOFError:\n",
    "            break"
   ]
  },
  {
   "cell_type": "code",
   "execution_count": 47,
   "metadata": {
    "collapsed": false
   },
   "outputs": [
    {
     "data": {
      "text/plain": [
       "array([[ 1.,  0.,  0.],\n",
       "       [ 0.,  1.,  0.],\n",
       "       [ 0.,  0.,  1.]])"
      ]
     },
     "execution_count": 47,
     "metadata": {},
     "output_type": "execute_result"
    }
   ],
   "source": [
    "v_4"
   ]
  },
  {
   "cell_type": "code",
   "execution_count": 48,
   "metadata": {
    "collapsed": false
   },
   "outputs": [
    {
     "data": {
      "text/plain": [
       "array([[ 1.,  0.,  0.],\n",
       "       [ 0.,  1.,  0.],\n",
       "       [ 0.,  0.,  1.]])"
      ]
     },
     "execution_count": 48,
     "metadata": {},
     "output_type": "execute_result"
    }
   ],
   "source": [
    "from pylab import *\n",
    "fname = 'data/session.npy'\n",
    "save(fname, eye(3))\n",
    "load(fname)"
   ]
  },
  {
   "cell_type": "markdown",
   "metadata": {},
   "source": [
    "## 10.5 Command-Line Parameters"
   ]
  },
  {
   "cell_type": "code",
   "execution_count": null,
   "metadata": {
    "collapsed": true
   },
   "outputs": [],
   "source": [
    "python tail.py -n 20 filename"
   ]
  },
  {
   "cell_type": "markdown",
   "metadata": {},
   "source": [
    "### 10.5.1 argv"
   ]
  },
  {
   "cell_type": "code",
   "execution_count": 49,
   "metadata": {
    "collapsed": false
   },
   "outputs": [
    {
     "name": "stdout",
     "output_type": "stream",
     "text": [
      "argv[0] = 'C:\\Anaconda36\\lib\\site-packages\\ipykernel\\__main__.py'\n",
      "argv[1] = '-f'\n",
      "argv[2] = 'C:\\Users\\AaronHsu\\AppData\\Roaming\\jupyter\\runtime\\kernel-22a77c3f-dd01-40b6-8409-9abcb8f1f7ee.json'\n"
     ]
    }
   ],
   "source": [
    "import sys\n",
    "for i, cmd in enumerate(sys.argv):\n",
    "    print(\"argv[%d] = '%s'\" % (i, cmd))"
   ]
  },
  {
   "cell_type": "markdown",
   "metadata": {},
   "source": [
    "### 10.5.2 Example: Creating a Fixed Size File (a Stand-Alone Script)"
   ]
  },
  {
   "cell_type": "code",
   "execution_count": null,
   "metadata": {
    "collapsed": true
   },
   "outputs": [],
   "source": [
    "# %load 0053-7-src-Ch10/src/empty_file.py\n",
    "from sys import argv, exit\n",
    "\n",
    "usage = \"Usage: python empty_file.py nbytes filename\"\n",
    "\n",
    "# we expect three arguments: script name, size and file name\n",
    "if len(argv) != 3:\n",
    "    print(\"Improper number of arguments.\")\n",
    "    print(usage)\n",
    "    exit()\n",
    "\n",
    "# is size an integer?\n",
    "try:\n",
    "    nbytes = int(argv[1])\n",
    "except ValueError:\n",
    "    print(\"First argument is not an integer number.\")\n",
    "    print(usage)\n",
    "    exit()\n",
    "\n",
    "# retrieve the requested file name\n",
    "filename = argv[2]\n",
    "\n",
    "# can we create the file?\n",
    "# here a failure could be due to a non-existing path\n",
    "try:\n",
    "    f = open(filename, 'wb')\n",
    "except IOError:\n",
    "    print(\"Unable to create file\", filename)\n",
    "    print(usage)\n",
    "    exit()\n",
    "\n",
    "# finally! create the file\n",
    "f.seek(nbytes-1)\n",
    "f.write(b'0')\n",
    "f.close()\n",
    "print(\"Successfully created file %s of size %d.\" % (filename, nbytes))\n"
   ]
  },
  {
   "cell_type": "markdown",
   "metadata": {},
   "source": [
    "### 10.5.3 The optparse Module"
   ]
  },
  {
   "cell_type": "markdown",
   "metadata": {},
   "source": [
    "* Tip the module getopt (http://docs.python.org/library/getopt.html) is an older module that also provides\n",
    "functions to parse command-line options."
   ]
  },
  {
   "cell_type": "markdown",
   "metadata": {},
   "source": [
    "* Example: Processing Command-Line Parameters"
   ]
  },
  {
   "cell_type": "code",
   "execution_count": null,
   "metadata": {
    "collapsed": true
   },
   "outputs": [],
   "source": [
    "# %load 0053-7-src-Ch10/src/empty_opt.py\n",
    "from optparse import OptionParser\n",
    "from sys import exit\n",
    "\n",
    "usage = \"Usage: python empty_opt.py [options] filename\"\n",
    "\n",
    "# create an OptionParser instance\n",
    "parser = OptionParser(usage)\n",
    "\n",
    "# these are the options\n",
    "parser.add_option(\"-n\", \"--numbytes\", dest=\"nbytes\",\n",
    "    type = \"int\", default=1000, help=\"number of bytes in file\")\n",
    "parser.add_option(\"-x\", \"--ext\", dest=\"ext\", \n",
    "    action=\"store_true\", default=False, \n",
    "    help=\"adds 'bin' extension to filename\")\n",
    "(opt, args) = parser.parse_args()\n",
    "\n",
    "# must have a filename\n",
    "if len(args) != 1:\n",
    "    print(\"Improper number of arguments.\")\n",
    "    exit()\n",
    "\n",
    "# append extension if switch is on    \n",
    "filename = args[0]+'.bin' if opt.ext else args[0]\n",
    "\n",
    "# create the file\n",
    "try:\n",
    "    f = open(filename, 'wb')\n",
    "except IOError:\n",
    "    print(\"Unable to create file\", filename)\n",
    "    exit()\n",
    "\n",
    "f.seek(opt.nbytes-1)\n",
    "f.write(b'0')\n",
    "f.close()\n",
    "\n",
    "print(\"Successfully created file %s of size %d.\" % (filename, opt.nbytes))\n"
   ]
  },
  {
   "cell_type": "code",
   "execution_count": null,
   "metadata": {
    "collapsed": true
   },
   "outputs": [],
   "source": [
    "$ python empty_opt.py\n",
    "$ python empty_opt.py -h\n",
    "$ python empty_opt.py file1\n",
    "$ python empty_opt.py -x file1\n",
    "$ python empty_opt.py -n 2000 --ext file1\n",
    "$ python empty_opt.py -n 2000 --ext file1 file2\n",
    "$ python empty_opt.py -n 2a --ext file1"
   ]
  },
  {
   "cell_type": "markdown",
   "metadata": {},
   "source": [
    "https://docs.python.org/3.3/library/optparse.html"
   ]
  },
  {
   "cell_type": "markdown",
   "metadata": {},
   "source": [
    "https://docs.python.org/3.3/library/configparser.html"
   ]
  },
  {
   "cell_type": "markdown",
   "metadata": {},
   "source": [
    "### 10.5.4 The FileInput Module"
   ]
  },
  {
   "cell_type": "markdown",
   "metadata": {},
   "source": [
    "| Method                 | Description  | \n",
    "|---|---|\n",
    "| fileinput.close()      | Ends the processing, closing all opened files. |           \n",
    "| fileinput.filelineno() | Returns the line number in the current file. |                 \n",
    "| fileinput.filename()   | Returns the name of the file currently being read. |               \n",
    "| fileinput.fileno()     | Returns the index of the current file. |             \n",
    "| fileinput.isfirstline()| Returns True if this is the first line in a file.  |                 \n",
    "| fileinput.lineno()     | Returns the cumulative line number of all lines read from all the files. |             \n",
    "| fileinput.nextfile()   | Stops processing the current file and jumps to the next file.  |               "
   ]
  },
  {
   "cell_type": "markdown",
   "metadata": {},
   "source": [
    "* Example: Combining Data from Several Sources Based on the Epoch"
   ]
  },
  {
   "cell_type": "code",
   "execution_count": null,
   "metadata": {
    "collapsed": true
   },
   "outputs": [],
   "source": [
    "# %load 0053-7-src-Ch10/src/combine_epoch.py\n",
    "import fileinput\n",
    "from time import mktime, strptime\n",
    "data = []\n",
    "fmt = '%b %d %H:%M:%S %Y'\n",
    "for line in fileinput.input():\n",
    "    data.append([mktime(strptime(line[4:24], fmt)), line])\n",
    "for line in sorted(data):    \n",
    "    print(line[1], end='')\n"
   ]
  },
  {
   "cell_type": "markdown",
   "metadata": {},
   "source": [
    "* Example: Searching for Text in Multiple Files"
   ]
  },
  {
   "cell_type": "code",
   "execution_count": null,
   "metadata": {
    "collapsed": true
   },
   "outputs": [],
   "source": [
    "# %load 0053-7-src-Ch10/src/srchfiles.py\n",
    "import fileinput, sys\n",
    "\n",
    "# string to search is the first argument\n",
    "for line in fileinput.input(sys.argv[2:]):\n",
    "    if line.find(sys.argv[1]) != -1:\n",
    "        print(\"File %s, #%d: %s\" % (fileinput.filename(),  \n",
    "            fileinput.filelineno(), line.rstrip()))\n"
   ]
  },
  {
   "cell_type": "markdown",
   "metadata": {},
   "source": [
    "https://docs.python.org/3.3/library/fileinput.html"
   ]
  },
  {
   "cell_type": "markdown",
   "metadata": {},
   "source": [
    "## 10.6 File and Directory Manipulation"
   ]
  },
  {
   "cell_type": "markdown",
   "metadata": {},
   "source": [
    "### 10.6.1 Module glob"
   ]
  },
  {
   "cell_type": "code",
   "execution_count": 55,
   "metadata": {
    "collapsed": false
   },
   "outputs": [
    {
     "data": {
      "text/plain": [
       "['flood_fill.py', 'fractal.py', 'read_world_data.py', 'star_patch.py']"
      ]
     },
     "execution_count": 55,
     "metadata": {},
     "output_type": "execute_result"
    }
   ],
   "source": [
    "from glob import glob\n",
    "glob('*.py')"
   ]
  },
  {
   "cell_type": "code",
   "execution_count": 56,
   "metadata": {
    "collapsed": false
   },
   "outputs": [
    {
     "data": {
      "text/plain": [
       "[]"
      ]
     },
     "execution_count": 56,
     "metadata": {},
     "output_type": "execute_result"
    }
   ],
   "source": [
    "glob('*[0-9]*py')"
   ]
  },
  {
   "cell_type": "code",
   "execution_count": 57,
   "metadata": {
    "collapsed": false
   },
   "outputs": [
    {
     "data": {
      "text/plain": [
       "['flood_fill.py', 'fractal.py', 'read_world_data.py', 'star_patch.py']"
      ]
     },
     "execution_count": 57,
     "metadata": {},
     "output_type": "execute_result"
    }
   ],
   "source": [
    "glob('[!c]*py')"
   ]
  },
  {
   "cell_type": "markdown",
   "metadata": {},
   "source": [
    "* Tip You should also see the module, fnmatch (https://docs.python.org/3.3/library/fnmatch.html)."
   ]
  },
  {
   "cell_type": "markdown",
   "metadata": {},
   "source": [
    "### 10.6.2 Additional os Module Functionality"
   ]
  },
  {
   "cell_type": "markdown",
   "metadata": {},
   "source": [
    "| Function |\n",
    "|---|\n",
    "| os.chmod(path, mode) |\n",
    "| os.remove(pathname) , or os.unlink(pathname) |\n",
    "| os.rmdir() |\n",
    "| os.mkdir(path) |\n",
    "| os.makedirs(path) |\n",
    "| os.rename(old, new) |\n",
    "| os.renames(old, new) |"
   ]
  },
  {
   "cell_type": "markdown",
   "metadata": {},
   "source": [
    "### 10.6.3 Additional os.path Module Functionality"
   ]
  },
  {
   "cell_type": "markdown",
   "metadata": {},
   "source": [
    "| Function |\n",
    "|---|\n",
    "| os.path.abspath(s) |\n",
    "| os.path.basename(s) |\n",
    "| os.path.dirname(s) |\n",
    "| os.path.exists(s) |\n",
    "| os.path.getatime(s) |\n",
    "| os.path.getctime(s) |\n",
    "| os.path.getmtime(s) |\n",
    "| os.path.getsize(s) |\n",
    "| os.path.isabs(s) |\n",
    "| os.path.isdir(s) |\n",
    "| os.path.isfile(s) |\n",
    "| os.path.join(base, seq) |\n",
    "| os.path.split(s) |\n",
    "| os.path.splitext(s) |"
   ]
  },
  {
   "cell_type": "markdown",
   "metadata": {},
   "source": [
    "### 10.6.4 Module shutil"
   ]
  },
  {
   "cell_type": "markdown",
   "metadata": {},
   "source": [
    "https://docs.python.org/3.3/library/shutil.html"
   ]
  },
  {
   "cell_type": "code",
   "execution_count": null,
   "metadata": {
    "collapsed": false
   },
   "outputs": [],
   "source": [
    "import shutil\n",
    "from os import makedirs\n",
    "from glob import glob\n",
    "makedirs('dir1/dir2/dir3/dir4')\n",
    "shutil.copy('file1.txt', 'dir1/dir2/dir3/dir4')"
   ]
  },
  {
   "cell_type": "code",
   "execution_count": null,
   "metadata": {
    "collapsed": true
   },
   "outputs": [],
   "source": [
    "shutil.copy('file1.txt', 'dir1/dir2/dir3/dir4/file2.txt')"
   ]
  },
  {
   "cell_type": "code",
   "execution_count": null,
   "metadata": {
    "collapsed": true
   },
   "outputs": [],
   "source": [
    "glob('dir1/dir2/dir3/dir4/*')"
   ]
  },
  {
   "cell_type": "code",
   "execution_count": null,
   "metadata": {
    "collapsed": true
   },
   "outputs": [],
   "source": [
    "shutil.move('dir1/dir2/dir3/dir4/file2.txt', 'dir1/dir2')"
   ]
  },
  {
   "cell_type": "code",
   "execution_count": null,
   "metadata": {
    "collapsed": true
   },
   "outputs": [],
   "source": [
    "glob('dir1/dir2/*')"
   ]
  },
  {
   "cell_type": "code",
   "execution_count": null,
   "metadata": {
    "collapsed": true
   },
   "outputs": [],
   "source": [
    "glob('dir1/dir2/dir3/dir4/*')"
   ]
  },
  {
   "cell_type": "code",
   "execution_count": null,
   "metadata": {
    "collapsed": true
   },
   "outputs": [],
   "source": [
    "shutil.copytree('dir1', 'Dir_1')"
   ]
  },
  {
   "cell_type": "code",
   "execution_count": null,
   "metadata": {
    "collapsed": true
   },
   "outputs": [],
   "source": [
    "glob('Dir_1/dir2/dir3/dir4/*')"
   ]
  },
  {
   "cell_type": "code",
   "execution_count": null,
   "metadata": {
    "collapsed": true
   },
   "outputs": [],
   "source": [
    "shutil.rmtree('dir1')\n",
    "shutil.rmtree('Dir_1')\n",
    "glob('dir1')"
   ]
  },
  {
   "cell_type": "markdown",
   "metadata": {},
   "source": [
    "## 10.7 File Compression"
   ]
  },
  {
   "cell_type": "markdown",
   "metadata": {},
   "source": [
    "| Module name  | Functionality | Documentation link |\n",
    "|---|---|---|\n",
    "| bz2  | Nonlossy compression | https://docs.python.org/3.3/library/bz2.html |\n",
    "| gzip  | Nonlossy compression | https://docs.python.org/3.3/library/gzip.html |\n",
    "| zlib  | Nonlossy compression | https://docs.python.org/3.3/library/zlib.html; http://www.zlib.net/ |\n",
    "| tarfile  | Archiving | https://docs.python.org/3.3/library/tarfile.html |\n",
    "| zipfile  | Archiving and compression |https://docs.python.org/3.3/library/zipfile.html  |\n"
   ]
  },
  {
   "cell_type": "markdown",
   "metadata": {},
   "source": [
    "### 10.7.1 Example: A Compressed tar File"
   ]
  },
  {
   "cell_type": "code",
   "execution_count": 62,
   "metadata": {
    "collapsed": false
   },
   "outputs": [],
   "source": [
    "import tarfile, glob, os.path\n",
    "# create some files\n",
    "for i in range(5):\n",
    "    f = open('data/file%d.txt' % i, 'w')\n",
    "    # write some data\n",
    "    for j in range(100):\n",
    "        f.write('Some data: %d\\n' % j)\n",
    "    f.close()\n",
    "# archive the files using bz2 compression\n",
    "tf = tarfile.open('data/files.tar.bz2', 'w:bz2')\n",
    "\n",
    "for filename in glob.glob('data/file*'):\n",
    "    tf.add(filename, os.path.basename(filename))\n",
    "tf.close()"
   ]
  },
  {
   "cell_type": "code",
   "execution_count": 63,
   "metadata": {
    "collapsed": true
   },
   "outputs": [],
   "source": [
    "import tarfile, os\n",
    "tf = tarfile.open('data/files.tar.bz2', 'r:bz2')\n",
    "tf.extractall('data/new/')\n",
    "tf.close()"
   ]
  },
  {
   "cell_type": "code",
   "execution_count": 64,
   "metadata": {
    "collapsed": true
   },
   "outputs": [],
   "source": [
    "import tarfile, os\n",
    "if not os.path.exists('data/new'):\n",
    "    os.mkdir('data/new')\n",
    "    \n",
    "tf = tarfile.open('data/files.tar.bz2', 'r:bz2')\n",
    "for member in tf.getmembers()[:3]:\n",
    "    tf.extract(member, 'data/new')\n",
    "tf.close()"
   ]
  },
  {
   "cell_type": "markdown",
   "metadata": {},
   "source": [
    "## 10.8 Comparing Files"
   ]
  },
  {
   "cell_type": "code",
   "execution_count": 65,
   "metadata": {
    "collapsed": false
   },
   "outputs": [
    {
     "data": {
      "text/plain": [
       "True"
      ]
     },
     "execution_count": 65,
     "metadata": {},
     "output_type": "execute_result"
    }
   ],
   "source": [
    "data1 = open('data/file1.txt', 'rb').read()\n",
    "data2 = open('data/file2.txt', 'rb').read()\n",
    "data1 == data2"
   ]
  },
  {
   "cell_type": "markdown",
   "metadata": {},
   "source": [
    "### 10.8.1 Module filecmp"
   ]
  },
  {
   "cell_type": "markdown",
   "metadata": {},
   "source": [
    "https://docs.python.org/3.3/library/os.html"
   ]
  },
  {
   "cell_type": "code",
   "execution_count": 66,
   "metadata": {
    "collapsed": true
   },
   "outputs": [],
   "source": [
    "filenames = ['data/file1.bin', 'data/file2.bin']\n",
    "for fn in filenames:\n",
    "    f = open(fn, 'w')\n",
    "    f.write('some data')\n",
    "    f.close()"
   ]
  },
  {
   "cell_type": "code",
   "execution_count": 67,
   "metadata": {
    "collapsed": false
   },
   "outputs": [
    {
     "data": {
      "text/plain": [
       "True"
      ]
     },
     "execution_count": 67,
     "metadata": {},
     "output_type": "execute_result"
    }
   ],
   "source": [
    "import filecmp\n",
    "filecmp.cmp(filenames[0], filenames[1])"
   ]
  },
  {
   "cell_type": "code",
   "execution_count": null,
   "metadata": {
    "collapsed": false
   },
   "outputs": [],
   "source": [
    "import tarfile, os, filecmp\n",
    "\n",
    "if not os.path.exists('new1'):\n",
    "    os.mkdir('new1')\n",
    "if not os.path.exists('new2/new3'):\n",
    "    os.makedirs('new2/new3')\n",
    "    \n",
    "tf = tarfile.open('files.tar.bz2', 'r:bz2')\n",
    "tf.extractall('new1')\n",
    "tf.extractall('new2')\n",
    "tf.extractall('new2/new3')\n",
    "tf.close()\n",
    "cmp = filecmp.dircmp('new1', 'new2')\n",
    "\n",
    "cmp.report()"
   ]
  },
  {
   "cell_type": "markdown",
   "metadata": {},
   "source": [
    "### 10.8.2 Module difflib"
   ]
  },
  {
   "cell_type": "code",
   "execution_count": 69,
   "metadata": {
    "collapsed": true
   },
   "outputs": [],
   "source": [
    "import difflib\n",
    "content = \"\"\"A string\n",
    "123, 456\n",
    "789\n",
    "some text\\n\"\"\"\n",
    "fname1 = 'data/file1.txt'\n",
    "fname2 = 'data/file2.txt'\n",
    "f1 = open(fname1, 'w')\n",
    "f1.write('before\\n')\n",
    "f1.write(content)\n",
    "f1.close()\n",
    "f2 = open(fname2, 'w')\n",
    "f2.write(content)\n",
    "f2.write('after\\n')\n",
    "f2.close()"
   ]
  },
  {
   "cell_type": "code",
   "execution_count": 70,
   "metadata": {
    "collapsed": false
   },
   "outputs": [
    {
     "name": "stdout",
     "output_type": "stream",
     "text": [
      "*** data/file1.txt\n",
      "--- data/file2.txt\n",
      "***************\n",
      "*** 1,5 ****\n",
      "- before\n",
      "  A string\n",
      "  123, 456\n",
      "  789\n",
      "  some text\n",
      "--- 1,5 ----\n",
      "  A string\n",
      "  123, 456\n",
      "  789\n",
      "  some text\n",
      "+ after\n"
     ]
    }
   ],
   "source": [
    "import difflib\n",
    "fname1 = 'data/file1.txt'\n",
    "fname2 = 'data/file2.txt'\n",
    "lines1 = open(fname1).readlines()\n",
    "lines2 = open(fname2).readlines()\n",
    "for line in difflib.context_diff(lines1, lines2, fname1, fname2):\n",
    "    print(line, end='')"
   ]
  },
  {
   "cell_type": "markdown",
   "metadata": {},
   "source": [
    "* Additional difflib functionality can be found online at https://docs.python.org/3.3/library/difflib.html"
   ]
  },
  {
   "cell_type": "markdown",
   "metadata": {},
   "source": [
    "## 10.9 Final Notes and References"
   ]
  },
  {
   "cell_type": "markdown",
   "metadata": {
    "collapsed": true
   },
   "source": [
    "* The Python Standard Library, https://docs.python.org/3.3/library/index.html  "
   ]
  }
 ],
 "metadata": {
  "kernelspec": {
   "display_name": "Python 3",
   "language": "python",
   "name": "python3"
  },
  "language_info": {
   "codemirror_mode": {
    "name": "ipython",
    "version": 3
   },
   "file_extension": ".py",
   "mimetype": "text/x-python",
   "name": "python",
   "nbconvert_exporter": "python",
   "pygments_lexer": "ipython3",
   "version": "3.6.0"
  }
 },
 "nbformat": 4,
 "nbformat_minor": 1
}
