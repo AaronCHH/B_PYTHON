{
 "cells": [
  {
   "cell_type": "markdown",
   "metadata": {},
   "source": [
    "# Appendix: Additional Source Listing"
   ]
  },
  {
   "cell_type": "markdown",
   "metadata": {},
   "source": [
    "<div id=\"toc\"></div>"
   ]
  },
  {
   "cell_type": "markdown",
   "metadata": {},
   "source": [
    "## A.1 Nudge Subplots"
   ]
  },
  {
   "cell_type": "code",
   "execution_count": 3,
   "metadata": {
    "collapsed": true
   },
   "outputs": [],
   "source": [
    "def nudge_subplot(sp, dy):\n",
    "    \"\"\"A helper function to move subplots.\"\"\"\n",
    "    sp_ax = sp.get_position()\n",
    "    sp.set_position([sp_ax.x0, sp_ax.y0+dy,\n",
    "        sp_ax.x1-sp_ax.x0, sp_ax.y1-sp_ax.y0])"
   ]
  },
  {
   "cell_type": "code",
   "execution_count": 4,
   "metadata": {
    "collapsed": false
   },
   "outputs": [
    {
     "data": {
      "image/png": "[encoded data removed]",
      "text/plain": [
       "<matplotlib.figure.Figure at 0xd0cd09f748>"
      ]
     },
     "metadata": {},
     "output_type": "display_data"
    }
   ],
   "source": [
    "from pylab import *\n",
    "# values to plot\n",
    "t = arange(5)\n",
    "y = array([1, 2, -1, 1, -2])\n",
    "plot_cmds = [\n",
    "    \"plot(y)\",\n",
    "    \"plot(-y)\",\n",
    "    \"plot(y**2)\",\n",
    "    \"plot(sin(y))\"\n",
    "]\n",
    "# figure()\n",
    "for i, plot_cmd in enumerate(plot_cmds):\n",
    "    sp = subplot(2, 2, i+1)\n",
    "    if i == 1: nudge_subplot(sp, 0.02)\n",
    "    if i == 3: nudge_subplot(sp, -0.02)\n",
    "    exec(plot_cmd)\n",
    "    title(plot_cmd, fontsize='large')\n",
    "    xlabel('x values')\n",
    "show()"
   ]
  },
  {
   "cell_type": "markdown",
   "metadata": {},
   "source": [
    "## A.2 Magic Square Arrows"
   ]
  },
  {
   "cell_type": "code",
   "execution_count": null,
   "metadata": {
    "collapsed": true
   },
   "outputs": [],
   "source": [
    "# %load 0053-7-src-Appx/src/magicsq.py\n",
    "from pylab import *\n",
    "\n",
    "def magicsq(n=3):\n",
    "    \"\"\"Returns a magic square of size n; n must be odd\"\"\"\n",
    "\n",
    "    if n % 2 != 1:\n",
    "        raise ValueError(\"Magic(n) requires n to be odd\")\n",
    "    m, row, col = zeros([n, n]), 0, n//2\n",
    "    for num in range(1, n**2+1):\n",
    "        m[row, col] = num      # fill the cell\n",
    "        col = (col+1) % n\n",
    "        row = (row-1) % n\n",
    "        if m[row, col]:\n",
    "            col = (col-1) % n\n",
    "            row = (row+2) % n\n",
    "    return m\n",
    "\n",
    "def testmagicsq(m):\n",
    "    \"\"\"Returns True if m is a magic square.\"\"\"\n",
    "    msum = sum(m[0, :])\n",
    "    return all(m.sum(0) == msum) and all(m.sum(1) == msum)\n",
    "\n",
    "def magic_arrow(x,y,str, n,c, d=0.15):\n",
    "    my_colors='rgbym'\n",
    "    mc='k' if c == 'k' else my_colors[c%len(my_colors)]\n",
    "    if mc == 'y':\n",
    "        mc = '#dfdf00'\n",
    "    if str == 'top-right':\n",
    "        gca().add_patch(Arrow(x+0.5+d,n-y-0.5+d,1-2*d,1-2*d, width=0.2, fc=mc, ec=mc))\n",
    "    elif str == 'down':\n",
    "        gca().add_patch(Arrow(x+0.5,n-y-0.5-d, 0, 2*d-1, width=0.2, fc=mc, ec=mc))\n",
    "    else:\n",
    "        raise ValueError(\"Unsupported arrow direction: \"+str)\n",
    "\n",
    "def show_alg(n=3):\n",
    "    \"\"\"Draws a magic square, n must be odd\"\"\"\n",
    "    if n % 2 != 1:\n",
    "        raise ValueError(\"Magic(n) requires n to be odd\")\n",
    "    if n<1:\n",
    "        raise ValueError(\"Magic(n) requires n to be positive\")\n",
    "    axis('scaled')\n",
    "    axis([0, n, 0, n])\n",
    "    altc=0\n",
    "    m, row, col = zeros([n,n]), 0, n//2\n",
    "    for num in range(1, n**2+1):\n",
    "        m[row,col] = num\n",
    "        text(col+0.5,n-row-0.5, '%d' % num, va='center',ha='center')\n",
    "        pcol,prow = col,row\n",
    "        col = (col+1) % n\n",
    "        row = (row-1) % n\n",
    "        if m[row,col]:\n",
    "            col = (col-1) % n\n",
    "            row = (row+2) % n\n",
    "        if col-pcol == 1 and prow-row == 1:\n",
    "            magic_arrow(pcol,prow, 'top-right', n,altc)\n",
    "        elif pcol == col and num != n**2:\n",
    "            magic_arrow(pcol,prow, 'down', n,'k')\n",
    "            altc += 1\n",
    "        elif col-pcol == 1 and prow-row != 1:\n",
    "            magic_arrow(pcol,prow,'top-right',n,altc)\n",
    "            magic_arrow(pcol, n,'top-right',n,altc) \n",
    "        elif col-pcol != 1 and prow-row == 1:\n",
    "            magic_arrow(pcol, prow, 'top-right', n, altc)\n",
    "            magic_arrow(-1, prow, 'top-right', n, altc)\n",
    "        elif num == n**2:\n",
    "            pass\n",
    "        else:\n",
    "            raise ValueError(\"Woah\")\n",
    "\n",
    "    for i in range(n):\n",
    "        plot([0, n], [i, i], 'b')\n",
    "        plot([i, i], [0, n], 'b')\n",
    "    xticks([])\n",
    "    yticks([])\n",
    "    title('N=%d' % n)\n",
    "#\tsavefig('../images/magicsq%03d.png'%n)\n",
    "\n",
    "def show_some():\n",
    "    figure()\n",
    "    for i in range(2):\n",
    "        subplot(1, 2, i+1); show_alg(2*i+3); title('N = '+str(2*i+3))\n",
    "        \n",
    "show_some()\n",
    "show()\n"
   ]
  },
  {
   "cell_type": "markdown",
   "metadata": {},
   "source": [
    "## A.3 Numerical Integration Visualization Source Code"
   ]
  },
  {
   "cell_type": "code",
   "execution_count": null,
   "metadata": {
    "collapsed": true
   },
   "outputs": [],
   "source": [
    "# %load 0053-7-src-Appx/src/int_circle.py\n",
    "from pylab import *\n",
    "N = 1000\n",
    "x1 = linspace(-1, 1, N)\n",
    "y1 = sqrt(1-x1**2)\n",
    "for i, N in enumerate([5, 10, 20, 100]):\n",
    "    subplot(2, 2, i+1)\n",
    "    x = linspace(-1, 1, N)\n",
    "    y = sqrt(1-x**2)\n",
    "    dx = x[1]-x[0]\n",
    "    for i in range(len(x)-1):\n",
    "        gca().add_patch(Rectangle((x[i], 0), dx, 0.5*(y[i]+y[i+1]), \\\n",
    "\t        fc='lightblue'))\n",
    "    axis('equal')\n",
    "    title('N=%d' % N)\n",
    "    plot(x1, y1, 'k', lw=1)\n",
    "show()"
   ]
  },
  {
   "cell_type": "code",
   "execution_count": null,
   "metadata": {
    "collapsed": true
   },
   "outputs": [],
   "source": [
    "# %load 0053-7-src-Appx/src/int_trapz.py\n",
    "from pylab import *\n",
    "\n",
    "figure()\n",
    "title('Trapezoidal integration')\n",
    "xlabel('x')\n",
    "ylabel('y')\n",
    "\n",
    "# plot the \"ideal\" circle\n",
    "N = 1000\n",
    "x_circle = linspace(-1, 1, N)\n",
    "y_circle = sqrt(1-x_circle**2)\n",
    "plot(x_circle, y_circle, 'k', lw=1)\n",
    "\n",
    "# non-evenly spaced values\n",
    "x = array([-1, -0.9, -0.4, 0.0, 0.4, 0.9, 1])\n",
    "y = sqrt(1-x**2)\n",
    "for i in range(len(x)-1):\n",
    "    # add trapezoids\n",
    "    gca().add_patch(Polygon([[x[i], 0], [x[i], y[i]], [x[i+1],y[i+1]], \\\n",
    "        [x[i+1], 0]], fc='lightblue'))\n",
    "xticks(x)\n",
    "axis('equal')\n",
    "\n",
    "show()\n"
   ]
  },
  {
   "cell_type": "markdown",
   "metadata": {},
   "source": [
    "## A.4 Fractal Function Source Code"
   ]
  },
  {
   "cell_type": "code",
   "execution_count": null,
   "metadata": {
    "collapsed": true
   },
   "outputs": [],
   "source": [
    "# %load 0053-7-src-Appx/src/fractal_collage.py\n",
    "from PIL import Image\n",
    "from cmath import *\n",
    "\n",
    "# creates a z**4+1=0 fractal using the Newton-Raphson\n",
    "# root finding method\n",
    "delta       = 0.000001    # convergence criteria\n",
    "res         = 200       # image size\n",
    "iterations  = range(1,10)  # number of iterations\n",
    "\n",
    "for iters in iterations:\n",
    "    # create an image to draw on, paint it black\n",
    "    img = Image.new(\"RGB\", (res,res), (0,0,0))\n",
    "\n",
    "    # these are the solutions to the equation z**4+1=0 (Euler's formula)\n",
    "    solutions = [cos((2*n+1)*pi/4)+1j*sin((2*n+1)*pi/4) for n in range(4)]\n",
    "    colors = [ (1,0,0), (0,1,0), (0,0,1), (1,1,0) ]\n",
    "\n",
    "    for re in range(0, res):\n",
    "        for im in range(0,res):\n",
    "            z = (re+1j*im)/res\n",
    "            for i in range(iters):\n",
    "                try:\n",
    "                    z = z-(z**4+1)/(4*z**3)\n",
    "                    if(abs(z**4+1)<delta):\n",
    "                        break\n",
    "                except ZeroDivisionError:\n",
    "                    # possibly divide by zero exception\n",
    "                    continue\n",
    "\n",
    "            # color depth is a function of the number of iterations\n",
    "            color_depth = int((iters-i)*255.0/iters)\n",
    "\n",
    "            # find to which solution this guess converged to\n",
    "            err = [ abs(z-root) for root in solutions ]\n",
    "            distances=zip(err, range(len(colors)))\n",
    "\n",
    "            # select the color associated with the solution\n",
    "            color=[ i*color_depth for i in colors[min(distances)[1]]]\n",
    "            img.putpixel((re,im), tuple(color))\n",
    "\n",
    "    img.save('../images/fractal_z4s_%03d_%03d_%03d.png' % \\\n",
    "        (iters, res, abs(log10(delta))))\n",
    "    print('wrote ../images/fractal_z4s_%03d_%03d_%03d.png' % \\\n",
    "        (iters, res, abs(log10(delta))))\n",
    "\n",
    "collage = Image.new(\"RGB\", (res*3,res*3))\n",
    "for x in range(3):\n",
    "    for y in range(3):\n",
    "        im = Image.open('../images/fractal_z4s_%03d_%d_005.png' % (x*3+y+1, res))\n",
    "        collage.paste(im, (res*y, res*x))\n",
    "collage.show()\n"
   ]
  },
  {
   "cell_type": "code",
   "execution_count": null,
   "metadata": {
    "collapsed": true
   },
   "outputs": [],
   "source": []
  }
 ],
 "metadata": {
  "kernelspec": {
   "display_name": "Python 3",
   "language": "python",
   "name": "python3"
  },
  "language_info": {
   "codemirror_mode": {
    "name": "ipython",
    "version": 3
   },
   "file_extension": ".py",
   "mimetype": "text/x-python",
   "name": "python",
   "nbconvert_exporter": "python",
   "pygments_lexer": "ipython3",
   "version": "3.6.0"
  }
 },
 "nbformat": 4,
 "nbformat_minor": 1
}
