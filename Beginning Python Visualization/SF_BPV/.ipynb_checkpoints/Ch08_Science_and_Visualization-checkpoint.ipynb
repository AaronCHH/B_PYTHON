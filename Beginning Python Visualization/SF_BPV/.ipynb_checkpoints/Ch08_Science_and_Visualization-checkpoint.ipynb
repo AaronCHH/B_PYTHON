{
 "cells": [
  {
   "cell_type": "markdown",
   "metadata": {},
   "source": [
    "# Chapter 8: Science and Visualization"
   ]
  },
  {
   "cell_type": "markdown",
   "metadata": {
    "collapsed": true
   },
   "source": [
    "<div id=\"toc\"></div>"
   ]
  },
  {
   "cell_type": "markdown",
   "metadata": {},
   "source": [
    "## 8.1 Numerical Analysis and Signal Processing"
   ]
  },
  {
   "cell_type": "markdown",
   "metadata": {},
   "source": [
    "## 8.2 Finding Your Way: Variables and Functions"
   ]
  },
  {
   "cell_type": "code",
   "execution_count": 4,
   "metadata": {
    "collapsed": false
   },
   "outputs": [
    {
     "name": "stdout",
     "output_type": "stream",
     "text": [
      "Name            Shape            Bytes            Type\n",
      "===========================================================\n",
      "\n",
      "up              10               40               int32\n",
      "down            10               40               int32\n",
      "\n",
      "Upper bound on total bytes  =       80\n"
     ]
    }
   ],
   "source": [
    "from pylab import *\n",
    "who()"
   ]
  },
  {
   "cell_type": "code",
   "execution_count": 5,
   "metadata": {
    "collapsed": false
   },
   "outputs": [
    {
     "name": "stdout",
     "output_type": "stream",
     "text": [
      "Name            Shape            Bytes            Type\n",
      "===========================================================\n",
      "\n",
      "up              10               40               int32\n",
      "down            10               40               int32\n",
      "\n",
      "Upper bound on total bytes  =       80\n"
     ]
    }
   ],
   "source": [
    "up, down = arange(10), arange(10, 0, -1)\n",
    "who()"
   ]
  },
  {
   "cell_type": "code",
   "execution_count": 6,
   "metadata": {
    "collapsed": false
   },
   "outputs": [
    {
     "name": "stdout",
     "output_type": "stream",
     "text": [
      "Search results for 'integrate'\n",
      "------------------------------\n",
      "numpy.trapz\n",
      "    Integrate along the given axis using the composite trapezoidal rule.\n",
      "numpy.polynomial.Hermite._int\n",
      "    Integrate a Hermite series.\n",
      "numpy.polynomial.HermiteE._int\n",
      "    Integrate a Hermite_e series.\n",
      "numpy.polynomial.Laguerre._int\n",
      "    Integrate a Laguerre series.\n",
      "numpy.polynomial.Legendre._int\n",
      "    Integrate a Legendre series.\n",
      "numpy.polynomial.Chebyshev._int\n",
      "    Integrate a Chebyshev series.\n",
      "numpy.polynomial.Chebyshev.integ\n",
      "    Integrate.\n",
      "numpy.polynomial.Polynomial._int\n",
      "    Integrate a polynomial.\n",
      "numpy.alterdot\n",
      "    Change `dot`, `vdot`, and `inner` to use accelerated BLAS functions.\n",
      "numpy.restoredot\n",
      "    Restore `dot`, `vdot`, and `innerproduct` to the default non-BLAS\n",
      "numpy.polynomial.hermite.hermgauss\n",
      "    Gauss-Hermite quadrature.\n",
      "numpy.polynomial.laguerre.laggauss\n",
      "    Gauss-Laguerre quadrature.\n",
      "numpy.polynomial.legendre.leggauss\n",
      "    Gauss-Legendre quadrature.\n",
      "numpy.polynomial.chebyshev.chebgauss\n",
      "    Gauss-Chebyshev quadrature.\n",
      "numpy.polynomial.hermite_e.hermegauss\n",
      "    Gauss-HermiteE quadrature."
     ]
    }
   ],
   "source": [
    "lookfor('integrate')"
   ]
  },
  {
   "cell_type": "markdown",
   "metadata": {},
   "source": [
    "### 8.2.1 SciPy"
   ]
  },
  {
   "cell_type": "markdown",
   "metadata": {},
   "source": [
    "SciPy (http://www.scipy.org/) is an open source scientific library for Python.  \n",
    "The idea of SciPy is similar to that of Octave-Forge (http://octave.sourceforge.net/), which provides extra packages for GNU-Octave (http://www.octave.org) and toolboxes that enhance MATLAB (http://www.mathworks.com).  \n",
    "SciPy is built on top of NumPy, so it requires NumPy to work properly.  \n",
    "SciPy is organized into several modules, some of which are detailed in Table 8-1.  \n",
    "  \n"
   ]
  },
  {
   "cell_type": "markdown",
   "metadata": {},
   "source": [
    "| Package      | Description                                                      |                   \n",
    "|---|---|\n",
    "| Fftpack      | Fast Fourier Transform                                           |                             \n",
    "| Integrate    | Integration functions, including ordinary differential equations |                                                                         \n",
    "| Interpolate  | Interpolation of functions                                       |                                     \n",
    "| Linalg       | Linear algebra                                                   |                     \n",
    "| Optimize     | Optimization functions, including root-solving algorithms        |                                                                   \n",
    "| Signal       | Signal processing                                                |                         \n",
    "| Special      | Special functions (Airy, Bessel, etc.)                           |"
   ]
  },
  {
   "cell_type": "code",
   "execution_count": 7,
   "metadata": {
    "collapsed": true
   },
   "outputs": [],
   "source": [
    "import scipy as sp"
   ]
  },
  {
   "cell_type": "code",
   "execution_count": null,
   "metadata": {
    "collapsed": false,
    "scrolled": false
   },
   "outputs": [],
   "source": [
    "dir(sp)"
   ]
  },
  {
   "cell_type": "code",
   "execution_count": 12,
   "metadata": {
    "collapsed": true
   },
   "outputs": [],
   "source": [
    "import scipy.linalg"
   ]
  },
  {
   "cell_type": "code",
   "execution_count": 13,
   "metadata": {
    "collapsed": true
   },
   "outputs": [],
   "source": [
    "from scipy import linalg"
   ]
  },
  {
   "cell_type": "markdown",
   "metadata": {},
   "source": [
    "## 8.3 Linear Algebra"
   ]
  },
  {
   "cell_type": "markdown",
   "metadata": {},
   "source": [
    "### 8.3.1 Solving a System of Linear Equations"
   ]
  },
  {
   "cell_type": "code",
   "execution_count": 18,
   "metadata": {
    "collapsed": true
   },
   "outputs": [],
   "source": [
    "from pylab import *\n",
    "M = array([[ 2, 3], [3, -1]])"
   ]
  },
  {
   "cell_type": "code",
   "execution_count": 19,
   "metadata": {
    "collapsed": true
   },
   "outputs": [],
   "source": [
    "V = array([10, -1.5])"
   ]
  },
  {
   "cell_type": "code",
   "execution_count": 20,
   "metadata": {
    "collapsed": false
   },
   "outputs": [
    {
     "data": {
      "text/plain": [
       "array([ 0.5,  3. ])"
      ]
     },
     "execution_count": 20,
     "metadata": {},
     "output_type": "execute_result"
    }
   ],
   "source": [
    "solve(M, V)"
   ]
  },
  {
   "cell_type": "code",
   "execution_count": 21,
   "metadata": {
    "collapsed": false
   },
   "outputs": [
    {
     "data": {
      "text/plain": [
       "array([ 0.5,  3. ])"
      ]
     },
     "execution_count": 21,
     "metadata": {},
     "output_type": "execute_result"
    }
   ],
   "source": [
    "dot(inv(M), V)"
   ]
  },
  {
   "cell_type": "code",
   "execution_count": 22,
   "metadata": {
    "collapsed": false
   },
   "outputs": [
    {
     "data": {
      "text/plain": [
       "array([[ 0.90909091, -0.40909091],\n",
       "       [ 2.72727273,  0.27272727]])"
      ]
     },
     "execution_count": 22,
     "metadata": {},
     "output_type": "execute_result"
    }
   ],
   "source": [
    "inv(M)*V"
   ]
  },
  {
   "cell_type": "markdown",
   "metadata": {},
   "source": [
    "### 8.3.2 Vector and Matrix Operations"
   ]
  },
  {
   "cell_type": "code",
   "execution_count": 23,
   "metadata": {
    "collapsed": false
   },
   "outputs": [
    {
     "data": {
      "text/plain": [
       "0.50000000000000022"
      ]
     },
     "execution_count": 23,
     "metadata": {},
     "output_type": "execute_result"
    }
   ],
   "source": [
    "dot(inv(M)[0], V)"
   ]
  },
  {
   "cell_type": "code",
   "execution_count": 25,
   "metadata": {
    "collapsed": false
   },
   "outputs": [
    {
     "data": {
      "text/plain": [
       "7.0"
      ]
     },
     "execution_count": 25,
     "metadata": {},
     "output_type": "execute_result"
    }
   ],
   "source": [
    "V1 = array([10, -1.5])\n",
    "V2 = array([1, 2])\n",
    "sum = 0\n",
    "for i in range(len(V1)):\n",
    "    sum += V1[i]*V2[i]\n",
    "sum    "
   ]
  },
  {
   "cell_type": "code",
   "execution_count": 26,
   "metadata": {
    "collapsed": false
   },
   "outputs": [
    {
     "data": {
      "text/plain": [
       "7.0"
      ]
     },
     "execution_count": 26,
     "metadata": {},
     "output_type": "execute_result"
    }
   ],
   "source": [
    "inner(V1, V2)"
   ]
  },
  {
   "cell_type": "code",
   "execution_count": 27,
   "metadata": {
    "collapsed": false
   },
   "outputs": [
    {
     "data": {
      "text/plain": [
       "array([[ 2,  3],\n",
       "       [ 3, -1]])"
      ]
     },
     "execution_count": 27,
     "metadata": {},
     "output_type": "execute_result"
    }
   ],
   "source": [
    "M = array([[2, 3], [3, -1]])\n",
    "M"
   ]
  },
  {
   "cell_type": "code",
   "execution_count": 28,
   "metadata": {
    "collapsed": false
   },
   "outputs": [
    {
     "data": {
      "text/plain": [
       "array([[  1.00000000e+00,   1.11022302e-16],\n",
       "       [  5.55111512e-17,   1.00000000e+00]])"
      ]
     },
     "execution_count": 28,
     "metadata": {},
     "output_type": "execute_result"
    }
   ],
   "source": [
    "inner(M, inv(M))"
   ]
  },
  {
   "cell_type": "code",
   "execution_count": 29,
   "metadata": {
    "collapsed": false
   },
   "outputs": [
    {
     "data": {
      "text/plain": [
       "array([[ 10. ,  20. ],\n",
       "       [ -1.5,  -3. ]])"
      ]
     },
     "execution_count": 29,
     "metadata": {},
     "output_type": "execute_result"
    }
   ],
   "source": [
    "V1 = array([10, -1.5])\n",
    "V2 = array([1, 2])\n",
    "outer(V1, V2)"
   ]
  },
  {
   "cell_type": "code",
   "execution_count": 30,
   "metadata": {
    "collapsed": false
   },
   "outputs": [
    {
     "data": {
      "text/plain": [
       "array([[ 10. ,  20. ],\n",
       "       [ -1.5,  -3. ]])"
      ]
     },
     "execution_count": 30,
     "metadata": {},
     "output_type": "execute_result"
    }
   ],
   "source": [
    "V1 = array([10, -1.5])\n",
    "V2 = array([1, 2])\n",
    "outer(V1, V2)"
   ]
  },
  {
   "cell_type": "code",
   "execution_count": 31,
   "metadata": {
    "collapsed": false
   },
   "outputs": [
    {
     "data": {
      "text/plain": [
       "array([[ 10. ,  -1.5],\n",
       "       [ 20. ,  -3. ]])"
      ]
     },
     "execution_count": 31,
     "metadata": {},
     "output_type": "execute_result"
    }
   ],
   "source": [
    "outer(V2, V1)"
   ]
  },
  {
   "cell_type": "code",
   "execution_count": 32,
   "metadata": {
    "collapsed": false
   },
   "outputs": [
    {
     "data": {
      "text/plain": [
       "True"
      ]
     },
     "execution_count": 32,
     "metadata": {},
     "output_type": "execute_result"
    }
   ],
   "source": [
    "all(outer(V1, V2) == transpose(outer(V2, V1)))"
   ]
  },
  {
   "cell_type": "code",
   "execution_count": 33,
   "metadata": {
    "collapsed": false
   },
   "outputs": [
    {
     "data": {
      "text/plain": [
       "array([ 10.0-1.j,  -1.5-2.j])"
      ]
     },
     "execution_count": 33,
     "metadata": {},
     "output_type": "execute_result"
    }
   ],
   "source": [
    "conjugate(V1+1j*V2)"
   ]
  },
  {
   "cell_type": "code",
   "execution_count": 34,
   "metadata": {
    "collapsed": false
   },
   "outputs": [
    {
     "data": {
      "text/plain": [
       "-11.000000000000002"
      ]
     },
     "execution_count": 34,
     "metadata": {},
     "output_type": "execute_result"
    }
   ],
   "source": [
    "det(array([[2, 3], [3, -1]]))"
   ]
  },
  {
   "cell_type": "markdown",
   "metadata": {},
   "source": [
    "### 8.3.3 Matrix Decomposition"
   ]
  },
  {
   "cell_type": "markdown",
   "metadata": {},
   "source": [
    "| Function    | Description                  |            \n",
    "|---|---|\n",
    "| cholesky(m) | Cholesky decomposition       |                            \n",
    "| eig(m)      | Eigenvalue decomposition     |                        \n",
    "| qr(m)       | QR decomposition             |                \n",
    "| svd(m)      | Singular value decomposition |                            "
   ]
  },
  {
   "cell_type": "code",
   "execution_count": 35,
   "metadata": {
    "collapsed": false
   },
   "outputs": [
    {
     "data": {
      "text/plain": [
       "0.0"
      ]
     },
     "execution_count": 35,
     "metadata": {},
     "output_type": "execute_result"
    }
   ],
   "source": [
    "A = array([[1, 2], [0, 1]])\n",
    "L, v = eig(A) # calculate eigenvalues and eigenvectors\n",
    "det(A - eye(2)*L) # verify eigenvalues (should be zero)"
   ]
  },
  {
   "cell_type": "code",
   "execution_count": 36,
   "metadata": {
    "collapsed": false
   },
   "outputs": [
    {
     "data": {
      "text/plain": [
       "array([ 0.,  0.])"
      ]
     },
     "execution_count": 36,
     "metadata": {},
     "output_type": "execute_result"
    }
   ],
   "source": [
    "dot(A, v[:, 0]) - L[0]*v[:, 0] # verify 1st eigenvector (should be 0)"
   ]
  },
  {
   "cell_type": "code",
   "execution_count": 37,
   "metadata": {
    "collapsed": false
   },
   "outputs": [
    {
     "data": {
      "text/plain": [
       "array([  2.22044605e-16,   0.00000000e+00])"
      ]
     },
     "execution_count": 37,
     "metadata": {},
     "output_type": "execute_result"
    }
   ],
   "source": [
    "dot(A, v[:, 1]) - L[1]*v[:, 1] # verify 2nd eigenvector (should be 0)"
   ]
  },
  {
   "cell_type": "markdown",
   "metadata": {},
   "source": [
    "### 8.3.4 Additional Linear Algebra Functionality"
   ]
  },
  {
   "cell_type": "markdown",
   "metadata": {},
   "source": [
    "Additional linear algebra functionality is available with the scipy.linalg module. To access SciPy’s linear algebra function issue import scipy.linalg or from scipy import linalg. SciPy’s added functionality includes the following:  \n",
    "* Matrix decomposition functions: lu()  for LU decomposition and qr()  for QR matrix decomposition, as well as functions for other decompositions.  \n",
    "* Matrix and vector operators such as norm()  to calculate a matrix or vector norm, det()  to calculate the determinant of a matrix, and inv() to invert a matrix.  \n",
    "* Matrix functions like expm()  and tanm() . Matrix function names are similar to regular function names, but with an added character, m.  \n",
    "* Special matrices, such as the Hadamard matrix (hadamard() ) used in some error correction codes (see http://en.wikipedia.org/wiki/Hadamard_matrix) and the Hilbert matrix (hilbert() ) (see http://en.wikipedia.org/wiki/Hilbert_matrix).  \n"
   ]
  },
  {
   "cell_type": "markdown",
   "metadata": {},
   "source": [
    "## 8.4 Numerical Integration"
   ]
  },
  {
   "cell_type": "code",
   "execution_count": 38,
   "metadata": {
    "collapsed": false
   },
   "outputs": [
    {
     "data": {
      "text/plain": [
       "array([ 1.,  1.,  1.,  1.,  1.,  1.,  1.])"
      ]
     },
     "execution_count": 38,
     "metadata": {},
     "output_type": "execute_result"
    }
   ],
   "source": [
    "N = 7\n",
    "x = linspace(-1, 1, N)\n",
    "y = sqrt(1-x**2)\n",
    "x**2 + y**2"
   ]
  },
  {
   "cell_type": "code",
   "execution_count": null,
   "metadata": {
    "collapsed": true
   },
   "outputs": [],
   "source": []
  },
  {
   "cell_type": "code",
   "execution_count": 41,
   "metadata": {
    "collapsed": false
   },
   "outputs": [
    {
     "data": {
      "image/png": "[encoded data removed]",
      "text/plain": [
       "<matplotlib.figure.Figure at 0x30fbce7d68>"
      ]
     },
     "metadata": {},
     "output_type": "display_data"
    }
   ],
   "source": [
    "figure()\n",
    "dx = x[1]-x[0]\n",
    "for i in range(len(x)-1):\n",
    "    rect = Rectangle((x[i], 0), dx, 0.5*(y[i]+y[i+1]))\n",
    "    gca().add_patch(rect)\n",
    "title('Approximating the area of half a circle')\n",
    "axis('equal')\n",
    "show()"
   ]
  },
  {
   "cell_type": "code",
   "execution_count": 44,
   "metadata": {
    "collapsed": true
   },
   "outputs": [],
   "source": [
    "from numpy import *"
   ]
  },
  {
   "cell_type": "code",
   "execution_count": 45,
   "metadata": {
    "collapsed": false
   },
   "outputs": [
    {
     "data": {
      "text/plain": [
       "2.7320508075688772"
      ]
     },
     "execution_count": 45,
     "metadata": {},
     "output_type": "execute_result"
    }
   ],
   "source": [
    "dx*(sum(y[:-1]+y[1:]))"
   ]
  },
  {
   "cell_type": "code",
   "execution_count": 46,
   "metadata": {
    "collapsed": false,
    "scrolled": true
   },
   "outputs": [
    {
     "name": "stdout",
     "output_type": "stream",
     "text": [
      "N=5, estimated pi is 2.732051\n",
      "N=10, estimated pi is 3.019232\n",
      "N=20, estimated pi is 3.101560\n",
      "N=100, estimated pi is 3.138218\n"
     ]
    }
   ],
   "source": [
    "for N in [5, 10, 20, 100]:\n",
    "    x = linspace(-1, 1, N)\n",
    "    dx = x[1]-x[0]\n",
    "    y = sqrt(1-x**2)\n",
    "    est_pi = dx*sum(y[:-1]+y[1:])\n",
    "    print(\"N=%d, estimated pi is %f\" % (N, est_pi))"
   ]
  },
  {
   "cell_type": "code",
   "execution_count": 47,
   "metadata": {
    "collapsed": false
   },
   "outputs": [
    {
     "data": {
      "text/plain": [
       "2.9727951234089831"
      ]
     },
     "execution_count": 47,
     "metadata": {},
     "output_type": "execute_result"
    }
   ],
   "source": [
    "x = array([-1, -0.9, -0.4, 0.0, 0.4, 0.9, 1])\n",
    "y = sqrt(1-x**2)\n",
    "trapz(y, x)*2"
   ]
  },
  {
   "cell_type": "markdown",
   "metadata": {},
   "source": [
    "### 8.4.1 More Integration Methods"
   ]
  },
  {
   "cell_type": "code",
   "execution_count": 48,
   "metadata": {
    "collapsed": false
   },
   "outputs": [
    {
     "data": {
      "text/plain": [
       "(3.141592653589797, 1.0002356720661965e-09)"
      ]
     },
     "execution_count": 48,
     "metadata": {},
     "output_type": "execute_result"
    }
   ],
   "source": [
    "from scipy.integrate import quad\n",
    "def half_circle(x):\n",
    "    return sqrt(1-x**2)\n",
    "\n",
    "pi_half, err = quad(half_circle, -1, 1)\n",
    "(pi_half*2, err)"
   ]
  },
  {
   "cell_type": "markdown",
   "metadata": {},
   "source": [
    "http://www.scipy.org/"
   ]
  },
  {
   "cell_type": "markdown",
   "metadata": {},
   "source": [
    "## 8.5 Interpolation and Curve Fitting"
   ]
  },
  {
   "cell_type": "markdown",
   "metadata": {},
   "source": [
    "> INVerSe SQUare rOOt aND QUaKe III  \n",
    "http://www.lomont.org/Math/Papers/2003/InvSqrt.pdf"
   ]
  },
  {
   "cell_type": "markdown",
   "metadata": {},
   "source": [
    "### 8.5.1 Piecewise Linear Interpolation"
   ]
  },
  {
   "cell_type": "code",
   "execution_count": 50,
   "metadata": {
    "collapsed": false
   },
   "outputs": [
    {
     "data": {
      "text/plain": [
       "array([ 0. ,  0.2,  0.4,  0.6,  0.8,  1. ])"
      ]
     },
     "execution_count": 50,
     "metadata": {},
     "output_type": "execute_result"
    }
   ],
   "source": [
    "xp = linspace(0, 1, 6)\n",
    "xp"
   ]
  },
  {
   "cell_type": "code",
   "execution_count": 51,
   "metadata": {
    "collapsed": true
   },
   "outputs": [],
   "source": [
    "yp = sqrt(1-xp**2)"
   ]
  },
  {
   "cell_type": "code",
   "execution_count": null,
   "metadata": {
    "collapsed": true
   },
   "outputs": [],
   "source": [
    "xi = arange(0.1, 1.0, 0.2)\n",
    "yi = interp(xi, xp, yp)"
   ]
  },
  {
   "cell_type": "code",
   "execution_count": 52,
   "metadata": {
    "collapsed": false
   },
   "outputs": [
    {
     "name": "stderr",
     "output_type": "stream",
     "text": [
      "C:\\Anaconda36\\lib\\site-packages\\ipykernel\\__main__.py:3: MatplotlibDeprecationWarning: pyplot.hold is deprecated.\n",
      "    Future behavior will be consistent with the long-time default:\n",
      "    plot commands add elements without first clearing the\n",
      "    Axes and/or Figure.\n",
      "  app.launch_new_instance()\n",
      "C:\\Anaconda36\\lib\\site-packages\\matplotlib\\__init__.py:917: UserWarning: axes.hold is deprecated. Please remove it from your matplotlibrc and/or style files.\n",
      "  warnings.warn(self.msg_depr_set % key)\n",
      "C:\\Anaconda36\\lib\\site-packages\\matplotlib\\rcsetup.py:152: UserWarning: axes.hold is deprecated, will be removed in 3.0\n",
      "  warnings.warn(\"axes.hold is deprecated, will be removed in 3.0\")\n"
     ]
    },
    {
     "data": {
      "image/png": "[encoded data removed]",
      "text/plain": [
       "<matplotlib.figure.Figure at 0x30fea01400>"
      ]
     },
     "metadata": {},
     "output_type": "display_data"
    }
   ],
   "source": [
    "from pylab import *\n",
    "figure()\n",
    "hold(True)\n",
    "x = linspace(0, 1, 500)\n",
    "y = sqrt(1-x**2)\n",
    "xp = linspace(0, 1, 6)\n",
    "yp = sqrt(1-xp**2)\n",
    "xi = arange(0.1, 1.0, 0.2)\n",
    "yi = interp(xi, xp, yp)\n",
    "plot(x, y, 'b', label='ideal')\n",
    "plot(xp, yp, 'or', label='interpolation points')\n",
    "plot(xp, yp, '--r', label='piecewise linear function')\n",
    "plot(xi, yi, 'sg', label='interpolated values')\n",
    "legend(loc='best')\n",
    "grid()\n",
    "axis('scaled')\n",
    "axis([0, 1.1, 0, 1.1])\n",
    "title('Piecewise linear interpolation')\n",
    "show()"
   ]
  },
  {
   "cell_type": "markdown",
   "metadata": {},
   "source": [
    "### 8.5.2 Polynomials"
   ]
  },
  {
   "cell_type": "markdown",
   "metadata": {},
   "source": [
    "http://en.wikipedia.org/wiki/Taylor_series"
   ]
  },
  {
   "cell_type": "code",
   "execution_count": 53,
   "metadata": {
    "collapsed": false
   },
   "outputs": [
    {
     "data": {
      "text/plain": [
       "array([-2., -1.])"
      ]
     },
     "execution_count": 53,
     "metadata": {},
     "output_type": "execute_result"
    }
   ],
   "source": [
    "p = array([1, 3, 2])\n",
    "roots(p)"
   ]
  },
  {
   "cell_type": "code",
   "execution_count": 54,
   "metadata": {
    "collapsed": false
   },
   "outputs": [
    {
     "data": {
      "text/plain": [
       "array([ 1.,  3.,  2.])"
      ]
     },
     "execution_count": 54,
     "metadata": {},
     "output_type": "execute_result"
    }
   ],
   "source": [
    "p = poly([-2, -1])\n",
    "p"
   ]
  },
  {
   "cell_type": "code",
   "execution_count": 55,
   "metadata": {
    "collapsed": true
   },
   "outputs": [],
   "source": [
    "p1 = poly([-2, -1])"
   ]
  },
  {
   "cell_type": "code",
   "execution_count": 56,
   "metadata": {
    "collapsed": true
   },
   "outputs": [],
   "source": [
    "p2 = array([1, 0, 0, 0])"
   ]
  },
  {
   "cell_type": "code",
   "execution_count": 57,
   "metadata": {
    "collapsed": false
   },
   "outputs": [
    {
     "data": {
      "text/plain": [
       "array([ 1.,  1.,  3.,  2.])"
      ]
     },
     "execution_count": 57,
     "metadata": {},
     "output_type": "execute_result"
    }
   ],
   "source": [
    "polyadd(p1, p2)"
   ]
  },
  {
   "cell_type": "code",
   "execution_count": 58,
   "metadata": {
    "collapsed": false
   },
   "outputs": [
    {
     "data": {
      "text/plain": [
       "array([1, 5, 6])"
      ]
     },
     "execution_count": 58,
     "metadata": {},
     "output_type": "execute_result"
    }
   ],
   "source": [
    "p = polymul(array([1, 2]), array([1, 3]))\n",
    "p"
   ]
  },
  {
   "cell_type": "code",
   "execution_count": 59,
   "metadata": {
    "collapsed": false
   },
   "outputs": [
    {
     "data": {
      "text/plain": [
       "(array([ 1.,  2.]), array([ 0.]))"
      ]
     },
     "execution_count": 59,
     "metadata": {},
     "output_type": "execute_result"
    }
   ],
   "source": [
    "polydiv(p, array([1, 3]))"
   ]
  },
  {
   "cell_type": "code",
   "execution_count": 60,
   "metadata": {
    "collapsed": true
   },
   "outputs": [],
   "source": [
    "p = poly([-1j, 1j])"
   ]
  },
  {
   "cell_type": "code",
   "execution_count": 61,
   "metadata": {
    "collapsed": false
   },
   "outputs": [
    {
     "data": {
      "text/plain": [
       "array([ 1.,  0.,  1.])"
      ]
     },
     "execution_count": 61,
     "metadata": {},
     "output_type": "execute_result"
    }
   ],
   "source": [
    "p"
   ]
  },
  {
   "cell_type": "code",
   "execution_count": 62,
   "metadata": {
    "collapsed": false
   },
   "outputs": [
    {
     "data": {
      "text/plain": [
       "array([ 0.33333333,  0.        ,  1.        ,  0.        ])"
      ]
     },
     "execution_count": 62,
     "metadata": {},
     "output_type": "execute_result"
    }
   ],
   "source": [
    "polyder(p)\n",
    "polyint(p)"
   ]
  },
  {
   "cell_type": "markdown",
   "metadata": {},
   "source": [
    "### 8.5.3 Uses of Polynomials"
   ]
  },
  {
   "cell_type": "markdown",
   "metadata": {},
   "source": [
    "* Example: Linear Regression"
   ]
  },
  {
   "cell_type": "code",
   "execution_count": 64,
   "metadata": {
    "collapsed": false
   },
   "outputs": [
    {
     "data": {
      "image/png": "[encoded data removed]",
      "text/plain": [
       "<matplotlib.figure.Figure at 0x30fbcd8dd8>"
      ]
     },
     "metadata": {},
     "output_type": "display_data"
    }
   ],
   "source": [
    "from pylab import *\n",
    "# number of data points\n",
    "N = 100\n",
    "start = 0\n",
    "end = 1\n",
    "A = rand()+1\n",
    "B = rand()\n",
    "# our linear line will be y = A*x + B\n",
    "x = linspace(start, end, N)\n",
    "y = A*x + B\n",
    "y += randn(N)/10\n",
    "# linear regression\n",
    "p = polyfit(x, y, 1)\n",
    "figure()\n",
    "title('Linear regression with polyfit()')\n",
    "plot(x, y, 'o',\n",
    "     label='Measured data; A=%.2f, B=%.2f' % (A, B))\n",
    "plot(x, polyval(p, x), '-',\n",
    "     label='Linear regression; A=%.2f, B=%.2f' % tuple(p))\n",
    "legend(loc='best')\n",
    "show()"
   ]
  },
  {
   "cell_type": "markdown",
   "metadata": {},
   "source": [
    "* Example: Linear Regression of Nonlinear Functions"
   ]
  },
  {
   "cell_type": "code",
   "execution_count": 65,
   "metadata": {
    "collapsed": false
   },
   "outputs": [
    {
     "data": {
      "image/png": "[encoded data removed]",
      "text/plain": [
       "<matplotlib.figure.Figure at 0x30feaa57f0>"
      ]
     },
     "metadata": {},
     "output_type": "display_data"
    }
   ],
   "source": [
    "from pylab import *\n",
    "# number of data points\n",
    "N = 100\n",
    "start = 0\n",
    "end = 2\n",
    "A = rand()+0.5\n",
    "B = rand()\n",
    "# our linear line will be:\n",
    "# y = B*exp(A*x) = exp(A*x + log(B))\n",
    "x = linspace(start, end, N)\n",
    "y = exp(A*x+B)\n",
    "y += randn(N)/5\n",
    "# linear regression\n",
    "p = polyfit(x, log(y), 1)\n",
    "figure()\n",
    "title(r'Linear regression with polyfit(), $y=Be^{Ax}$')\n",
    "plot(x, y, 'o',\n",
    "     label='Measured data; A=%.2f, B=%.2f' % (A, exp(B)))\n",
    "plot(x, exp(polyval(p, x)), '-',\n",
    "     label='Linear regression; A=%.2f, B=%.2f' % (p[0], exp(p[1])))\n",
    "legend(loc='best')\n",
    "show()"
   ]
  },
  {
   "cell_type": "markdown",
   "metadata": {},
   "source": [
    "* Example: Approximating Functions with Polynomials"
   ]
  },
  {
   "cell_type": "markdown",
   "metadata": {},
   "source": [
    "* Note the selection of interpolation points is an interesting topic, and work by the mathematician pafnuty Chebyshev has contributed much to the topic.  \n",
    "See http://en.wikipedia.org/wiki/Pafnuty_Chebyshev and http://en.wikipedia.org/wiki/Chebyshev_nodes.  \n"
   ]
  },
  {
   "cell_type": "code",
   "execution_count": 66,
   "metadata": {
    "collapsed": false
   },
   "outputs": [
    {
     "data": {
      "text/plain": [
       "array([ 0.        ,  0.5       ,  0.70710678,  0.8660254 ,  1.        ])"
      ]
     },
     "execution_count": 66,
     "metadata": {},
     "output_type": "execute_result"
    }
   ],
   "source": [
    "values = [0, pi/6, pi/4, pi/3, pi/2]\n",
    "sines = sqrt(arange(5))/2\n",
    "sines"
   ]
  },
  {
   "cell_type": "code",
   "execution_count": 67,
   "metadata": {
    "collapsed": false
   },
   "outputs": [
    {
     "data": {
      "text/plain": [
       "array([  2.87971125e-02,  -2.04340696e-01,   2.13730075e-02,\n",
       "         9.95626184e-01,   7.13728569e-17])"
      ]
     },
     "execution_count": 67,
     "metadata": {},
     "output_type": "execute_result"
    }
   ],
   "source": [
    "p = polyfit(values, sines, len(values)-1)\n",
    "p"
   ]
  },
  {
   "cell_type": "code",
   "execution_count": 68,
   "metadata": {
    "collapsed": false
   },
   "outputs": [
    {
     "data": {
      "image/png": "[encoded data removed]",
      "text/plain": [
       "<matplotlib.figure.Figure at 0x30fbc33898>"
      ]
     },
     "metadata": {},
     "output_type": "display_data"
    }
   ],
   "source": [
    "# figure()\n",
    "x = linspace(0, pi/2, 100)\n",
    "plot(x, polyval(p, x)-sin(x), label='error', lw=3)\n",
    "grid()\n",
    "ylabel('polyval(p, x)-sin(x)')\n",
    "xlabel('x')\n",
    "title('Error approximating sin(x) using polyfit()')\n",
    "xlim(0, pi/2)\n",
    "show()"
   ]
  },
  {
   "cell_type": "markdown",
   "metadata": {},
   "source": [
    "### 8.5.6 Spline Interpolation"
   ]
  },
  {
   "cell_type": "code",
   "execution_count": 69,
   "metadata": {
    "collapsed": false
   },
   "outputs": [
    {
     "name": "stderr",
     "output_type": "stream",
     "text": [
      "C:\\Anaconda36\\lib\\site-packages\\ipykernel\\__main__.py:9: MatplotlibDeprecationWarning: pyplot.hold is deprecated.\n",
      "    Future behavior will be consistent with the long-time default:\n",
      "    plot commands add elements without first clearing the\n",
      "    Axes and/or Figure.\n",
      "C:\\Anaconda36\\lib\\site-packages\\matplotlib\\__init__.py:917: UserWarning: axes.hold is deprecated. Please remove it from your matplotlibrc and/or style files.\n",
      "  warnings.warn(self.msg_depr_set % key)\n",
      "C:\\Anaconda36\\lib\\site-packages\\matplotlib\\rcsetup.py:152: UserWarning: axes.hold is deprecated, will be removed in 3.0\n",
      "  warnings.warn(\"axes.hold is deprecated, will be removed in 3.0\")\n"
     ]
    },
    {
     "data": {
      "image/png": "[encoded data removed]",
      "text/plain": [
       "<matplotlib.figure.Figure at 0x30ffd77550>"
      ]
     },
     "metadata": {},
     "output_type": "display_data"
    }
   ],
   "source": [
    "from scipy.interpolate import spline\n",
    "from pylab import *\n",
    "xp = linspace(0, 1, 6)\n",
    "yp = sqrt(1-xp**2)\n",
    "xi = linspace(0, 1, 100)\n",
    "yi = interp(xi, xp, yp)\n",
    "ys = spline(xp, yp, xi)\n",
    "figure()\n",
    "hold(True)\n",
    "plot(xi, yi, '--', label='piecewise linear', lw=2)\n",
    "plot(xi, ys, '-', label='spline', lw=2)\n",
    "legend(loc='best')\n",
    "grid()\n",
    "title(r'Spline interpolation of $y=\\sqrt{1-x^2}$')\n",
    "xlabel('x')\n",
    "ylabel('y')\n",
    "axis('scaled')\n",
    "axis([0, 1.2, 0, 1.2])\n",
    "show()"
   ]
  },
  {
   "cell_type": "markdown",
   "metadata": {},
   "source": [
    "## 8.6 Solving Nonlinear Equations"
   ]
  },
  {
   "cell_type": "code",
   "execution_count": 70,
   "metadata": {
    "collapsed": false
   },
   "outputs": [
    {
     "data": {
      "text/plain": [
       "97"
      ]
     },
     "execution_count": 70,
     "metadata": {},
     "output_type": "execute_result"
    }
   ],
   "source": [
    "def f(x):\n",
    "    \"\"\"Returns x**2-3\"\"\"\n",
    "    return x**2-3\n",
    "f(10)"
   ]
  },
  {
   "cell_type": "code",
   "execution_count": 71,
   "metadata": {
    "collapsed": true
   },
   "outputs": [],
   "source": [
    "from scipy import optimize"
   ]
  },
  {
   "cell_type": "code",
   "execution_count": 72,
   "metadata": {
    "collapsed": false
   },
   "outputs": [
    {
     "data": {
      "text/plain": [
       "array([ 1.73205081])"
      ]
     },
     "execution_count": 72,
     "metadata": {},
     "output_type": "execute_result"
    }
   ],
   "source": [
    "optimize.fsolve(f, 1)"
   ]
  },
  {
   "cell_type": "code",
   "execution_count": 73,
   "metadata": {
    "collapsed": false
   },
   "outputs": [
    {
     "data": {
      "text/plain": [
       "1.7320508075688772"
      ]
     },
     "execution_count": 73,
     "metadata": {},
     "output_type": "execute_result"
    }
   ],
   "source": [
    "optimize.newton(f, 1)"
   ]
  },
  {
   "cell_type": "code",
   "execution_count": 74,
   "metadata": {
    "collapsed": false
   },
   "outputs": [
    {
     "data": {
      "text/plain": [
       "1.7320508075699763"
      ]
     },
     "execution_count": 74,
     "metadata": {},
     "output_type": "execute_result"
    }
   ],
   "source": [
    "optimize.bisect(f, 1, 2)"
   ]
  },
  {
   "cell_type": "code",
   "execution_count": 75,
   "metadata": {
    "collapsed": false
   },
   "outputs": [
    {
     "data": {
      "text/plain": [
       "3.000000000003807"
      ]
     },
     "execution_count": 75,
     "metadata": {},
     "output_type": "execute_result"
    }
   ],
   "source": [
    "_**2"
   ]
  },
  {
   "cell_type": "markdown",
   "metadata": {},
   "source": [
    "## 8.7 Special Functions"
   ]
  },
  {
   "cell_type": "code",
   "execution_count": 76,
   "metadata": {
    "collapsed": false
   },
   "outputs": [
    {
     "data": {
      "text/plain": [
       "poly1d([  2.00000000e+00,  -2.22044605e-16,  -1.00000000e+00])"
      ]
     },
     "execution_count": 76,
     "metadata": {},
     "output_type": "execute_result"
    }
   ],
   "source": [
    "from scipy import special\n",
    "special.chebyt(2)"
   ]
  },
  {
   "cell_type": "markdown",
   "metadata": {},
   "source": [
    "## 8.8 Signal Processing"
   ]
  },
  {
   "cell_type": "markdown",
   "metadata": {},
   "source": [
    "### 8.8.1 Functions find, nonzero, where and select"
   ]
  },
  {
   "cell_type": "code",
   "execution_count": 77,
   "metadata": {
    "collapsed": false
   },
   "outputs": [
    {
     "data": {
      "text/plain": [
       "array([ 0,  1,  4,  9, 16, 25, 36, 49, 64, 81])"
      ]
     },
     "execution_count": 77,
     "metadata": {},
     "output_type": "execute_result"
    }
   ],
   "source": [
    "from pylab import *\n",
    "squares = arange(10)**2\n",
    "squares"
   ]
  },
  {
   "cell_type": "code",
   "execution_count": 78,
   "metadata": {
    "collapsed": false
   },
   "outputs": [
    {
     "data": {
      "text/plain": [
       "array([0, 1, 2, 3, 4, 5, 6, 7], dtype=int64)"
      ]
     },
     "execution_count": 78,
     "metadata": {},
     "output_type": "execute_result"
    }
   ],
   "source": [
    "I = find(squares<50)\n",
    "I"
   ]
  },
  {
   "cell_type": "code",
   "execution_count": 79,
   "metadata": {
    "collapsed": false
   },
   "outputs": [
    {
     "data": {
      "text/plain": [
       "array([ 0,  1,  4,  9, 16, 25, 36, 49])"
      ]
     },
     "execution_count": 79,
     "metadata": {},
     "output_type": "execute_result"
    }
   ],
   "source": [
    "squares[I]"
   ]
  },
  {
   "cell_type": "code",
   "execution_count": 85,
   "metadata": {
    "collapsed": false
   },
   "outputs": [
    {
     "data": {
      "text/plain": [
       "array([[ 1.,  0.,  0.],\n",
       "       [ 0.,  1.,  0.],\n",
       "       [ 0.,  0.,  1.]])"
      ]
     },
     "execution_count": 85,
     "metadata": {},
     "output_type": "execute_result"
    }
   ],
   "source": [
    "A = eye(3)\n",
    "A"
   ]
  },
  {
   "cell_type": "markdown",
   "metadata": {},
   "source": [
    "* Example: Simple Detection of Signal in Noise, Part 1"
   ]
  },
  {
   "cell_type": "code",
   "execution_count": 86,
   "metadata": {
    "collapsed": false
   },
   "outputs": [
    {
     "data": {
      "text/plain": [
       "array([0, 4, 8], dtype=int64)"
      ]
     },
     "execution_count": 86,
     "metadata": {},
     "output_type": "execute_result"
    }
   ],
   "source": [
    "I1 = find(A!=0)\n",
    "I1"
   ]
  },
  {
   "cell_type": "code",
   "execution_count": 87,
   "metadata": {
    "collapsed": false
   },
   "outputs": [
    {
     "ename": "IndexError",
     "evalue": "index 4 is out of bounds for axis 0 with size 3",
     "output_type": "error",
     "traceback": [
      "\u001b[0;31m---------------------------------------------------------------------------\u001b[0m",
      "\u001b[0;31mIndexError\u001b[0m                                Traceback (most recent call last)",
      "\u001b[0;32m<ipython-input-87-6dcd4dbcd63f>\u001b[0m in \u001b[0;36m<module>\u001b[0;34m()\u001b[0m\n\u001b[0;32m----> 1\u001b[0;31m \u001b[0mA\u001b[0m\u001b[1;33m[\u001b[0m\u001b[0mI1\u001b[0m\u001b[1;33m]\u001b[0m\u001b[1;33m\u001b[0m\u001b[0m\n\u001b[0m",
      "\u001b[0;31mIndexError\u001b[0m: index 4 is out of bounds for axis 0 with size 3"
     ]
    }
   ],
   "source": [
    "A[I1]"
   ]
  },
  {
   "cell_type": "code",
   "execution_count": 88,
   "metadata": {
    "collapsed": false
   },
   "outputs": [
    {
     "data": {
      "text/plain": [
       "array([ 1.,  1.,  1.])"
      ]
     },
     "execution_count": 88,
     "metadata": {},
     "output_type": "execute_result"
    }
   ],
   "source": [
    "A.ravel()[I1]"
   ]
  },
  {
   "cell_type": "code",
   "execution_count": 89,
   "metadata": {
    "collapsed": false
   },
   "outputs": [
    {
     "data": {
      "text/plain": [
       "array([[ 3.,  0.,  0.],\n",
       "       [ 0.,  3.,  0.],\n",
       "       [ 0.,  0.,  3.]])"
      ]
     },
     "execution_count": 89,
     "metadata": {},
     "output_type": "execute_result"
    }
   ],
   "source": [
    "I2 = nonzero(A)\n",
    "A[I2] = 3\n",
    "A"
   ]
  },
  {
   "cell_type": "code",
   "execution_count": 90,
   "metadata": {
    "collapsed": false
   },
   "outputs": [
    {
     "data": {
      "text/plain": [
       "array([0, 1, 2, 3, 4, 5, 6, 7, 8, 9])"
      ]
     },
     "execution_count": 90,
     "metadata": {},
     "output_type": "execute_result"
    }
   ],
   "source": [
    "up = arange(10)\n",
    "up"
   ]
  },
  {
   "cell_type": "code",
   "execution_count": 91,
   "metadata": {
    "collapsed": false
   },
   "outputs": [
    {
     "data": {
      "text/plain": [
       "array([10,  9,  8,  7,  6,  5,  4,  3,  2,  1])"
      ]
     },
     "execution_count": 91,
     "metadata": {},
     "output_type": "execute_result"
    }
   ],
   "source": [
    "down = arange(10, 0, -1)\n",
    "down"
   ]
  },
  {
   "cell_type": "code",
   "execution_count": 92,
   "metadata": {
    "collapsed": false
   },
   "outputs": [
    {
     "data": {
      "text/plain": [
       "array([10,  9,  8,  7,  6,  5,  6,  7,  8,  9])"
      ]
     },
     "execution_count": 92,
     "metadata": {},
     "output_type": "execute_result"
    }
   ],
   "source": [
    "highest = where(up > down, up, down)\n",
    "highest"
   ]
  },
  {
   "cell_type": "code",
   "execution_count": 93,
   "metadata": {
    "collapsed": false
   },
   "outputs": [
    {
     "data": {
      "text/plain": [
       "array([4, 4, 4, 4, 4, 5, 6, 7, 7, 7])"
      ]
     },
     "execution_count": 93,
     "metadata": {},
     "output_type": "execute_result"
    }
   ],
   "source": [
    "up = arange(10)\n",
    "ramp = select([up < 4, up > 7], [4, 7], up)\n",
    "ramp"
   ]
  },
  {
   "cell_type": "markdown",
   "metadata": {},
   "source": [
    "### 8.8.2 Listing 8-3. Randomly Placing Triangular Spikes"
   ]
  },
  {
   "cell_type": "code",
   "execution_count": null,
   "metadata": {
    "collapsed": false
   },
   "outputs": [],
   "source": [
    "from pylab import *\n",
    "from scipy import signal\n",
    "# parameters controlling the signal\n",
    "n = 100\n",
    "t = arange(n)\n",
    "y = zeros(n)\n",
    "num_pulses = 3\n",
    "pw = 11\n",
    "amp = 20\n",
    "for i in range(num_pulses):\n",
    "    loc = floor(rand()*(n-pw+1))\n",
    "    y[loc:loc+pw] = signal.triang(pw)*amp\n",
    "# add some noise\n",
    "y += randn(n)\n",
    "figure()\n",
    "title('Signal and noise')\n",
    "xlabel('t')\n",
    "ylabel('y')\n",
    "plot(t, y)\n",
    "show()"
   ]
  },
  {
   "cell_type": "markdown",
   "metadata": {},
   "source": [
    "### 8.8.3 Listing 8-4. Detecting Signals (a Continuation of Listing 8-3"
   ]
  },
  {
   "cell_type": "code",
   "execution_count": 96,
   "metadata": {
    "collapsed": false
   },
   "outputs": [
    {
     "name": "stderr",
     "output_type": "stream",
     "text": [
      "C:\\Anaconda36\\lib\\site-packages\\ipykernel\\__main__.py:6: MatplotlibDeprecationWarning: pyplot.hold is deprecated.\n",
      "    Future behavior will be consistent with the long-time default:\n",
      "    plot commands add elements without first clearing the\n",
      "    Axes and/or Figure.\n",
      "C:\\Anaconda36\\lib\\site-packages\\matplotlib\\__init__.py:917: UserWarning: axes.hold is deprecated. Please remove it from your matplotlibrc and/or style files.\n",
      "  warnings.warn(self.msg_depr_set % key)\n",
      "C:\\Anaconda36\\lib\\site-packages\\matplotlib\\rcsetup.py:152: UserWarning: axes.hold is deprecated, will be removed in 3.0\n",
      "  warnings.warn(\"axes.hold is deprecated, will be removed in 3.0\")\n"
     ]
    },
    {
     "data": {
      "image/png": "[encoded data removed]",
      "text/plain": [
       "<matplotlib.figure.Figure at 0x3080355a58>"
      ]
     },
     "metadata": {},
     "output_type": "display_data"
    }
   ],
   "source": [
    "# detect signals\n",
    "thr = amp/2\n",
    "I = find(y > thr)\n",
    "# plot signal with noise plus detection\n",
    "figure()\n",
    "hold(True)\n",
    "plot(t, y, 'b', label='signal with noise')\n",
    "plot(t[I], y[I], 'ro', label='detections')\n",
    "plot([0, n], [thr, thr], 'g--')\n",
    "# annotate the threshold\n",
    "text(2, thr+.2, 'Threshold', va='bottom')\n",
    "title('Simple signal detection in noise')\n",
    "legend(loc='best')\n",
    "show()"
   ]
  },
  {
   "cell_type": "markdown",
   "metadata": {},
   "source": [
    "### 8.8.4 Functions diff and split"
   ]
  },
  {
   "cell_type": "code",
   "execution_count": 97,
   "metadata": {
    "collapsed": false
   },
   "outputs": [
    {
     "data": {
      "text/plain": [
       "[array([0, 1, 2, 3]), array([4, 5, 6, 7]), array([8, 9])]"
      ]
     },
     "execution_count": 97,
     "metadata": {},
     "output_type": "execute_result"
    }
   ],
   "source": [
    "v = arange(10)\n",
    "split(v, [4, 8])"
   ]
  },
  {
   "cell_type": "markdown",
   "metadata": {},
   "source": [
    "* Example: Simple Detection of Signal in Noise, Part 2"
   ]
  },
  {
   "cell_type": "markdown",
   "metadata": {},
   "source": [
    "### 8.8.5 Listing 8-5. Peak Detections"
   ]
  },
  {
   "cell_type": "code",
   "execution_count": null,
   "metadata": {
    "collapsed": false
   },
   "outputs": [],
   "source": [
    "# peak detections\n",
    "J = find(diff(I) > 1)\n",
    "for K in split(I, J+1):\n",
    "    ytag = y[K]\n",
    "    peak = find(ytag==max(ytag))\n",
    "    plot(peak+K[0], ytag[peak], 'sg', ms=7)"
   ]
  },
  {
   "cell_type": "code",
   "execution_count": 99,
   "metadata": {
    "collapsed": false
   },
   "outputs": [
    {
     "data": {
      "text/plain": [
       "array([], dtype=int64)"
      ]
     },
     "execution_count": 99,
     "metadata": {},
     "output_type": "execute_result"
    }
   ],
   "source": [
    "I = find(y > thr)\n",
    "I"
   ]
  },
  {
   "cell_type": "code",
   "execution_count": 100,
   "metadata": {
    "collapsed": false
   },
   "outputs": [
    {
     "data": {
      "text/plain": [
       "array([], dtype=int64)"
      ]
     },
     "execution_count": 100,
     "metadata": {},
     "output_type": "execute_result"
    }
   ],
   "source": [
    "diff(I)"
   ]
  },
  {
   "cell_type": "code",
   "execution_count": 101,
   "metadata": {
    "collapsed": false
   },
   "outputs": [
    {
     "data": {
      "text/plain": [
       "array([], dtype=int64)"
      ]
     },
     "execution_count": 101,
     "metadata": {},
     "output_type": "execute_result"
    }
   ],
   "source": [
    "J = find(diff(I)>1)\n",
    "J"
   ]
  },
  {
   "cell_type": "code",
   "execution_count": 102,
   "metadata": {
    "collapsed": false
   },
   "outputs": [
    {
     "data": {
      "text/plain": [
       "[array([], dtype=int64)]"
      ]
     },
     "execution_count": 102,
     "metadata": {},
     "output_type": "execute_result"
    }
   ],
   "source": [
    "split(I, J+1)"
   ]
  },
  {
   "cell_type": "markdown",
   "metadata": {},
   "source": [
    "### 8.8.6 Waveforms"
   ]
  },
  {
   "cell_type": "code",
   "execution_count": 103,
   "metadata": {
    "collapsed": false
   },
   "outputs": [
    {
     "data": {
      "image/png": "[encoded data removed]",
      "text/plain": [
       "<matplotlib.figure.Figure at 0x30ffd34d68>"
      ]
     },
     "metadata": {},
     "output_type": "display_data"
    }
   ],
   "source": [
    "from pylab import *\n",
    "from scipy import signal\n",
    "cycles = 10\n",
    "t = arange(0, 2*pi*cycles, pi/10)\n",
    "waveforms = ['sawtooth', 'square']\n",
    "# figure()\n",
    "for i, waveform in enumerate(waveforms):\n",
    "    subplot(2, 2, i+1)\n",
    "    exec('y = signal.' + waveform + '(t)')\n",
    "    plot(t, y)\n",
    "    title(waveform)\n",
    "    axis([0, 2*pi*cycles, -1.1, 1.1])\n",
    "show()"
   ]
  },
  {
   "cell_type": "markdown",
   "metadata": {},
   "source": [
    "## 8.9 Fourier Transform"
   ]
  },
  {
   "cell_type": "code",
   "execution_count": 104,
   "metadata": {
    "collapsed": false
   },
   "outputs": [
    {
     "name": "stdout",
     "output_type": "stream",
     "text": [
      "0.3469223976135254\n"
     ]
    }
   ],
   "source": [
    "from time import time as t\n",
    "t1 = t(); dummy = sum(fft(arange(2**21))); print(t()-t1)"
   ]
  },
  {
   "cell_type": "code",
   "execution_count": 105,
   "metadata": {
    "collapsed": false
   },
   "outputs": [
    {
     "name": "stdout",
     "output_type": "stream",
     "text": [
      "0.9615557193756104\n"
     ]
    }
   ],
   "source": [
    "t1 = t(); dummy = sum(fft(arange(2**21-1))); print(t()-t1)"
   ]
  },
  {
   "cell_type": "markdown",
   "metadata": {},
   "source": [
    "### 8.9.1 Example: FFT of a Sampled Cosine Wave"
   ]
  },
  {
   "cell_type": "code",
   "execution_count": 106,
   "metadata": {
    "collapsed": false
   },
   "outputs": [
    {
     "data": {
      "image/png": "[encoded data removed]",
      "text/plain": [
       "<matplotlib.figure.Figure at 0x30fbcb3f60>"
      ]
     },
     "metadata": {},
     "output_type": "display_data"
    }
   ],
   "source": [
    "from pylab import *\n",
    "from scipy import signal\n",
    "N = 2**9 # we prefer powers of 2\n",
    "F = 25 # a wave at 25 Hz\n",
    "t = arange(N)/float(N) # sampled over 1 second\n",
    "x = cos(2*pi*t*F) # the signal\n",
    "figure()\n",
    "p = subplot(2, 1, 1)\n",
    "plot(t, x)\n",
    "ylabel('x []')\n",
    "xlabel('t [seconds]')\n",
    "title('A cosine wave')\n",
    "grid()\n",
    "p = subplot(2, 1, 2)\n",
    "f = t*N\n",
    "xf = fft(x)\n",
    "plot(f, abs(xf))\n",
    "title('Fourier transform of a cosine wave')\n",
    "xlabel('f [Hz]')\n",
    "ylabel('xf []')\n",
    "xlim([0, N])\n",
    "grid()\n",
    "show()"
   ]
  },
  {
   "cell_type": "markdown",
   "metadata": {},
   "source": [
    "### 8.9.2 Window Functions"
   ]
  },
  {
   "cell_type": "code",
   "execution_count": 107,
   "metadata": {
    "collapsed": false
   },
   "outputs": [
    {
     "data": {
      "image/png": "[encoded data removed]",
      "text/plain": [
       "<matplotlib.figure.Figure at 0x308036c8d0>"
      ]
     },
     "metadata": {},
     "output_type": "display_data"
    }
   ],
   "source": [
    "N = 2**9 # we prefer powers of 2\n",
    "F = 25.5 # wave frequency\n",
    "t = arange(N)/float(N) # sampled over 1 second\n",
    "f = t*N\n",
    "x = cos(2*pi*t*F) # the signal\n",
    "xh = x*hamming(512) # multiply with a hamming window\n",
    "figure()\n",
    "plot(f, abs(fft(x)), 's-', label='original')\n",
    "plot(f, abs(fft(xh)), 'o-', label='with Hamming')\n",
    "xlim([0, 50])\n",
    "xticks(arange(0, 55, 5))\n",
    "legend()\n",
    "grid()\n",
    "title('Signal with Hamming window')\n",
    "xlabel('Frequency [Hz]')\n",
    "ylabel('Amplitude []')\n",
    "show()"
   ]
  },
  {
   "cell_type": "code",
   "execution_count": null,
   "metadata": {
    "collapsed": false,
    "scrolled": false
   },
   "outputs": [],
   "source": [
    "from scipy import signal\n",
    "help(signal)"
   ]
  },
  {
   "cell_type": "markdown",
   "metadata": {},
   "source": [
    "## 8.10 Filtering"
   ]
  },
  {
   "cell_type": "markdown",
   "metadata": {},
   "source": [
    "### 8.10.1 Filter Design"
   ]
  },
  {
   "cell_type": "markdown",
   "metadata": {},
   "source": [
    "http://en.wikipedia.org/wiki/Filter_design"
   ]
  },
  {
   "cell_type": "code",
   "execution_count": 109,
   "metadata": {
    "collapsed": false
   },
   "outputs": [
    {
     "data": {
      "image/png": "[encoded data removed]",
      "text/plain": [
       "<matplotlib.figure.Figure at 0x3080420780>"
      ]
     },
     "metadata": {},
     "output_type": "display_data"
    }
   ],
   "source": [
    "N = 256 # number of points for freqz\n",
    "Wc = 0.2 # 3dB point\n",
    "Order = 3 # filter order\n",
    "# design a Butterworth filter\n",
    "[b, a] = signal.butter(Order, Wc)\n",
    "# calculate the frequency repsonse\n",
    "[w, h] = signal.freqz(b, a, N)\n",
    "# plot the results\n",
    "figure()\n",
    "subplot(2, 1, 1)\n",
    "plot(arange(N)/float(N), 20*log10(abs(h)), lw=2)\n",
    "title('Frequency response')\n",
    "xlabel('Frequency (normalized)')\n",
    "ylabel('dB')\n",
    "ylim(ylim()[0], ylim()[1]+5)\n",
    "grid()\n",
    "subplot(2, 1, 2)\n",
    "plot(arange(N)/float(N), 20*log10(abs(h)), lw=2)\n",
    "title('Frequency response (3dB point)')\n",
    "xlabel('Frequency (normalized)')\n",
    "ylabel('dB')\n",
    "text(Wc+.02, -3, '3dB point', va='bottom')\n",
    "ylim([-3, 0.1])\n",
    "grid()\n",
    "show()"
   ]
  },
  {
   "cell_type": "markdown",
   "metadata": {},
   "source": [
    "### 8.10.2 Example: A Heart-Rate Monitor"
   ]
  },
  {
   "cell_type": "code",
   "execution_count": 111,
   "metadata": {
    "collapsed": false
   },
   "outputs": [
    {
     "data": {
      "image/png": "[encoded data removed]",
      "text/plain": [
       "<matplotlib.figure.Figure at 0x3080edb908>"
      ]
     },
     "metadata": {},
     "output_type": "display_data"
    }
   ],
   "source": [
    "# heart signal simulation\n",
    "N = 256 # number of samples per second\n",
    "T = 2 # number of seconds\n",
    "hr = 1.67 # 100 beats per minutes\n",
    "F1 = 0.5 # movement frequency\n",
    "t = arange(T*N)/float(N)\n",
    "y1 = 5*sin(2*pi*t*F1) # movement artifact\n",
    "# add heart signals\n",
    "y2 = zeros(size(y1))\n",
    "\n",
    "for i in range(int(T*hr)):\n",
    "    y2[int(i*N/hr):int(i*N/hr+10)] = signal.triang(10)\n",
    "    \n",
    "# combine movement with beats\n",
    "y = y1+y2\n",
    "\n",
    "# create a high-pass filter\n",
    "[b, a] = signal.butter(3, 0.05, 'high')\n",
    "\n",
    "# filter the signal\n",
    "yn = signal.lfilter(b, a, y)\n",
    "\n",
    "# plot the graphs\n",
    "# figure()\n",
    "\n",
    "subplot(2, 1, 1)\n",
    "title('Heart signal with movement artifact (simulation)')\n",
    "plot(t, y, lw=2)\n",
    "xlabel('t [seconds]')\n",
    "ylabel('Amplitude []')\n",
    "subplot(2, 1, 2)\n",
    "title('Filtered signal')\n",
    "plot(t, yn, lw=2)\n",
    "xlabel('t [seconds]')\n",
    "ylabel('Amplitude []')\n",
    "show()"
   ]
  },
  {
   "cell_type": "markdown",
   "metadata": {},
   "source": [
    "### 8.10.3 Example: Moving Average"
   ]
  },
  {
   "cell_type": "code",
   "execution_count": 113,
   "metadata": {
    "collapsed": false
   },
   "outputs": [
    {
     "name": "stderr",
     "output_type": "stream",
     "text": [
      "C:\\Anaconda36\\lib\\site-packages\\ipykernel\\__main__.py:10: MatplotlibDeprecationWarning: pyplot.hold is deprecated.\n",
      "    Future behavior will be consistent with the long-time default:\n",
      "    plot commands add elements without first clearing the\n",
      "    Axes and/or Figure.\n",
      "C:\\Anaconda36\\lib\\site-packages\\matplotlib\\__init__.py:917: UserWarning: axes.hold is deprecated. Please remove it from your matplotlibrc and/or style files.\n",
      "  warnings.warn(self.msg_depr_set % key)\n",
      "C:\\Anaconda36\\lib\\site-packages\\matplotlib\\rcsetup.py:152: UserWarning: axes.hold is deprecated, will be removed in 3.0\n",
      "  warnings.warn(\"axes.hold is deprecated, will be removed in 3.0\")\n"
     ]
    },
    {
     "data": {
      "image/png": "[encoded data removed]",
      "text/plain": [
       "<matplotlib.figure.Figure at 0x3080e75080>"
      ]
     },
     "metadata": {},
     "output_type": "display_data"
    }
   ],
   "source": [
    "from pylab import *\n",
    "N = 512\n",
    "t = linspace(0, 10, N)\n",
    "x = 1-exp(-t) +randn(N)/10\n",
    "W = 32 # num points in moving average\n",
    "xf = zeros(len(x)-W+1)\n",
    "for i in range(len(x)-W+1):\n",
    "    xf[i] = mean(x[i:i+W])\n",
    "plot(t, x)\n",
    "hold(True)\n",
    "plot(t[W-1:], xf, lw=3)\n",
    "title('Moving average')\n",
    "legend(['signal with noise', 'filtered signal'])\n",
    "xlabel('t [seconds]')\n",
    "ylabel('x []')\n",
    "show()"
   ]
  },
  {
   "cell_type": "code",
   "execution_count": 114,
   "metadata": {
    "collapsed": true
   },
   "outputs": [],
   "source": [
    "from scipy import signal\n",
    "xf = signal.lfilter(ones(W)/W, 1, x)"
   ]
  },
  {
   "cell_type": "markdown",
   "metadata": {},
   "source": [
    "## 8.11 Final Notes and References"
   ]
  },
  {
   "cell_type": "markdown",
   "metadata": {},
   "source": [
    "* Numerical Recipes: The Art of Scientific Computing, Third Edition by William H. Press, Saul A. Teukolsky, William T. Vetterling, and Brian P. Flannery (Cambridge University Press, 2007; for more information, see http://www.nr.com)  \n",
    "* SciPy, http://www.scipy.org/  \n"
   ]
  }
 ],
 "metadata": {
  "kernelspec": {
   "display_name": "Python 3",
   "language": "python",
   "name": "python3"
  },
  "language_info": {
   "codemirror_mode": {
    "name": "ipython",
    "version": 3
   },
   "file_extension": ".py",
   "mimetype": "text/x-python",
   "name": "python",
   "nbconvert_exporter": "python",
   "pygments_lexer": "ipython3",
   "version": "3.6.0"
  }
 },
 "nbformat": 4,
 "nbformat_minor": 1
}
