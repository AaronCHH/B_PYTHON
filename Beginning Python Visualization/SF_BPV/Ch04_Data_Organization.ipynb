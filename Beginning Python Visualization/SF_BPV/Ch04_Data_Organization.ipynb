{
 "cells": [
  {
   "cell_type": "markdown",
   "metadata": {},
   "source": [
    "# Chapter 4: Data Organization"
   ]
  },
  {
   "cell_type": "markdown",
   "metadata": {
    "collapsed": true
   },
   "source": [
    "<div id=\"toc\"></div>"
   ]
  },
  {
   "cell_type": "markdown",
   "metadata": {},
   "source": [
    "## 4.1 Organizing Chaos"
   ]
  },
  {
   "cell_type": "markdown",
   "metadata": {},
   "source": [
    "## 4.2 File Name Conventions"
   ]
  },
  {
   "cell_type": "markdown",
   "metadata": {},
   "source": [
    "### 4.2.1 Date and Time in a File Name"
   ]
  },
  {
   "cell_type": "code",
   "execution_count": 1,
   "metadata": {
    "collapsed": false
   },
   "outputs": [
    {
     "data": {
      "text/plain": [
       "['2014', '05', '05', '22', '17', '14']"
      ]
     },
     "execution_count": 1,
     "metadata": {},
     "output_type": "execute_result"
    }
   ],
   "source": [
    "a_date = \"2014-05-05-22-17-14\"\n",
    "a_date.split('-')"
   ]
  },
  {
   "cell_type": "code",
   "execution_count": 2,
   "metadata": {
    "collapsed": false
   },
   "outputs": [
    {
     "data": {
      "text/plain": [
       "5"
      ]
     },
     "execution_count": 2,
     "metadata": {},
     "output_type": "execute_result"
    }
   ],
   "source": [
    "int(\"2014-05-05-22-17-14\".split('-')[1])"
   ]
  },
  {
   "cell_type": "code",
   "execution_count": 3,
   "metadata": {
    "collapsed": false
   },
   "outputs": [
    {
     "data": {
      "text/plain": [
       "time.struct_time(tm_year=2014, tm_mon=4, tm_mday=12, tm_hour=9, tm_min=29, tm_sec=22, tm_wday=5, tm_yday=102, tm_isdst=-1)"
      ]
     },
     "execution_count": 3,
     "metadata": {},
     "output_type": "execute_result"
    }
   ],
   "source": [
    "from time import strptime\n",
    "strptime(\"2014-04-12T09-29-22\", \"%Y-%m-%dT%H-%M-%S\")"
   ]
  },
  {
   "cell_type": "markdown",
   "metadata": {},
   "source": [
    "### 4.2.2 Useful File Name Titles"
   ]
  },
  {
   "cell_type": "code",
   "execution_count": null,
   "metadata": {
    "collapsed": true
   },
   "outputs": [],
   "source": []
  },
  {
   "cell_type": "markdown",
   "metadata": {},
   "source": [
    "### 4.2.3 File Name Extensions"
   ]
  },
  {
   "cell_type": "markdown",
   "metadata": {},
   "source": [
    "| Description        | Precision              | Extension                             |\n",
    "|--------------------|------------------------|---------------------------------------|\n",
    "| Signed integers    | 8, 16, 32, 64          | .i08, .i16, .i32, .i64 (respectively) |                                    \n",
    "| Unsigned integers  | 8, 16, 32, 64          | .u08, .u16, .u32, .u64 (respectively) |                                      \n",
    "| Floating point     | 32 (single precision)  | .f32                                  |    \n",
    "|                    | 64 (double precision)  | .f64                                  |     "
   ]
  },
  {
   "cell_type": "markdown",
   "metadata": {},
   "source": [
    "### 4.2.4 File Name Convention Recap"
   ]
  },
  {
   "cell_type": "markdown",
   "metadata": {},
   "source": [
    "| Placeholder | Description                                                                               |   \n",
    "|-------------|-------------------------------------------------------------------------------------------|         \n",
    "| Title       | A descriptive title of your choice.                                                       |                              \n",
    "| YYYY        | Year the file was created.                                                                |                      \n",
    "| mm          | Month the file was created. In the case of January, mm is 01.                             |                                                      \n",
    "| dd          | Day the file was created. In the case of the 7th, dd is 07.                               |                                                    \n",
    "| HH          | Hours in 24-hour notation. 11 p.m. would be represented as 23. Values are from 00 to 23.  |                                                                                  \n",
    "| MM          | Minutes. 5 minutes past the hour is 05.                                                   |                                \n",
    "| SS          | Seconds. 7 seconds past the minute is 07.                                                 |                                  \n",
    "| ext         | An extension describing the file format, three characters long (if possible).             |    "
   ]
  },
  {
   "cell_type": "markdown",
   "metadata": {},
   "source": [
    "* Example: Automating File Name Creation"
   ]
  },
  {
   "cell_type": "code",
   "execution_count": 7,
   "metadata": {
    "collapsed": false
   },
   "outputs": [
    {
     "name": "stdout",
     "output_type": "stream",
     "text": [
      "Unique filename: SysALogs-2017-04-22T20-57-31.csv\n"
     ]
    }
   ],
   "source": [
    "# %load 0053-7-src-Ch04/src/unique.py\n",
    "from time import localtime\n",
    "# a script to create unique filenames based on title, \n",
    "# date and time stamp and an extension\n",
    "datetime_stamp  = '%4d-%02d-%02dT%02d-%02d-%02d' % localtime()[:6]\n",
    "title = 'SysALogs'\n",
    "ext = 'csv'\n",
    "print('Unique filename: %s-%s.%s' % (title, datetime_stamp, ext))"
   ]
  },
  {
   "cell_type": "code",
   "execution_count": 8,
   "metadata": {
    "collapsed": false
   },
   "outputs": [
    {
     "data": {
      "text/plain": [
       "time.struct_time(tm_year=2017, tm_mon=4, tm_mday=22, tm_hour=20, tm_min=57, tm_sec=47, tm_wday=5, tm_yday=112, tm_isdst=0)"
      ]
     },
     "execution_count": 8,
     "metadata": {},
     "output_type": "execute_result"
    }
   ],
   "source": [
    "localtime()"
   ]
  },
  {
   "cell_type": "code",
   "execution_count": 9,
   "metadata": {
    "collapsed": false
   },
   "outputs": [
    {
     "data": {
      "text/plain": [
       "(2017, 4, 22, 20, 57, 51)"
      ]
     },
     "execution_count": 9,
     "metadata": {},
     "output_type": "execute_result"
    }
   ],
   "source": [
    "localtime()[:6]"
   ]
  },
  {
   "cell_type": "markdown",
   "metadata": {},
   "source": [
    "### 4.2.5 Other Schemes"
   ]
  },
  {
   "cell_type": "markdown",
   "metadata": {},
   "source": [
    "* Example: Running Index"
   ]
  },
  {
   "cell_type": "code",
   "execution_count": null,
   "metadata": {
    "collapsed": true
   },
   "outputs": [],
   "source": [
    "# a script to create unique filenames using a running index\n",
    "from os.path import exists\n",
    "index_stamp = 1\n",
    "max_index = 999 # maximum number of files\n",
    "title = '../data/SysALogs'\n",
    "ext = 'txt'\n",
    "\n",
    "while index_stamp <= max_index:\n",
    "    unique_filename = '%s-%03d.%s' % (title, index_stamp, ext)\n",
    "    if exists(unique_filename):\n",
    "        index_stamp += 1\n",
    "        continue\n",
    "    f = open(unique_filename, 'wt')\n",
    "    f.write(\"Data\")\n",
    "    f.close()\n",
    "    break\n",
    "    \n",
    "# report status\n",
    "if index_stamp > max_index:\n",
    "    print(\"Could not create a unique filename\")\n",
    "else:\n",
    "    print(\"Created a unique file: \", unique_filename)"
   ]
  },
  {
   "cell_type": "markdown",
   "metadata": {},
   "source": [
    "## 4.3 File Formats"
   ]
  },
  {
   "cell_type": "markdown",
   "metadata": {},
   "source": [
    "### 4.3.1 CSV File Format"
   ]
  },
  {
   "cell_type": "markdown",
   "metadata": {},
   "source": [
    "* Example: Stock Price Charts"
   ]
  },
  {
   "cell_type": "code",
   "execution_count": null,
   "metadata": {
    "collapsed": true
   },
   "outputs": [],
   "source": [
    "# %load 0053-7-src-Ch04/src/stock_charts.py\n",
    "from pylab import *\n",
    "import csv\n",
    "from time import gmtime, mktime\n",
    "\n",
    "# modify the following to point to your data file\n",
    "filepath = '../data/charts.xls'\n",
    "\n",
    "# read the entire CSV file and store it in an array of lists\n",
    "# use tab ('\\t') as a delimiter\n",
    "data=[]\n",
    "for row in csv.reader(open(filepath), delimiter='\\t'):\n",
    "    data.append(row)\n",
    "\n",
    "# split the data to header and values\n",
    "header = data[0]\n",
    "values = array(data[2:])\n",
    "\n",
    "# the first column is date information in a string format\n",
    "# we transform it to a day of year format\n",
    "# notice that this will not work over year boundary (need to add 365)\n",
    "yearday = zeros(len(values[:, 0]))\n",
    "for i, day in enumerate(values[:, 0]):\n",
    "    market_close_time = (int(day[6:]), int(day[:2]), int(day[3:5]), \\\n",
    "        16, 0, 0, 0, 0, 0)\n",
    "    yearday[i] = gmtime(mktime(market_close_time)).tm_yday\n",
    "\n",
    "# plot the data\n",
    "for i in range(1, 5):\n",
    "    plot(yearday, values[:, i], label=header[i], linewidth=3)\n",
    "\n",
    "# annotate the start and end dates\n",
    "text(yearday[0], values[0, 1], values[0, 0], ha='center')\n",
    "text(yearday[-1], values[-1, 1], values[-1 ,0], ha='center')\n",
    "\n",
    "grid()\n",
    "legend(loc='best')\n",
    "ylabel('Stock price [USD]')\n",
    "xlabel('Days from start of the year '+values[0, 0][6:])\n",
    "title('NASDAQ-100 (IXNDX) Stock price, period %s-%s' % \\\n",
    "    (values[-1, 0], values[0, 0]))\n",
    "savefig('../images/stock_price.png', dpi=150)"
   ]
  },
  {
   "cell_type": "markdown",
   "metadata": {},
   "source": [
    "* Example: Automatically Reading Yahoo! Financial Data"
   ]
  },
  {
   "cell_type": "code",
   "execution_count": null,
   "metadata": {
    "collapsed": true
   },
   "outputs": [],
   "source": [
    "# %load 0053-7-src-Ch04/src/yahoo_data.py\n",
    "from pylab import *\n",
    "from matplotlib.finance import *\n",
    "\n",
    "# stock name and period\n",
    "stock_name  = '^NDX'\n",
    "t_start     = datetime.datetime(2014, 1, 1)\n",
    "t_end       = datetime.datetime(2014, 1, 31)\n",
    "year_start  = datetime.datetime(2014, 1, 1)\n",
    "\n",
    "# retrieve and parse stock data\n",
    "data    = fetch_historical_yahoo(stock_name, t_start, t_end)\n",
    "y       = array(parse_yahoo_historical(data))\n",
    "\n",
    "# dates might not be trade days, so update values \n",
    "# to show actual dates retrieved\n",
    "t_start = num2date(y[0, 0])\n",
    "t_end   = num2date(y[-1, -0])\n",
    "\n",
    "# normalize the x-axis to show values from the start of year\n",
    "y[:, 0] = y[:, 0]-date2num(year_start)+1\n",
    "\n",
    "# plot a candlestick graph\n",
    "figure()\n",
    "candlestick(gca(), y)\n",
    "\n",
    "# annotate the graph with additional text\n",
    "start_str   = \"%d-%02d-%02d\" % (t_start.year, t_start.month, t_start.day)\n",
    "end_str     = \"%d-%02d-%02d\" % (t_end.year, t_end.month, t_end.day)\n",
    "title('Stock: %s, period %s to %s' % (stock_name, start_str, end_str))\n",
    "xlabel('Days from start of the year %d' % t_start.year)\n",
    "ylabel('%s Stock price [USD]' % stock_name)\n",
    "text(y[0, 0], y[0, 1], start_str)\n",
    "text(y[-1, 0], y[-1, 1], end_str)\n",
    "grid()\n",
    "savefig('../images/%s_candlestick_yahoo-%s-%s.png' % \\\n",
    "    (stock_name, start_str, end_str), dpi=150)"
   ]
  },
  {
   "cell_type": "markdown",
   "metadata": {},
   "source": [
    "* Example: Creating a CSV File"
   ]
  },
  {
   "cell_type": "markdown",
   "metadata": {},
   "source": [
    "* CSV Limitations"
   ]
  },
  {
   "cell_type": "markdown",
   "metadata": {},
   "source": [
    "* What to Store"
   ]
  },
  {
   "cell_type": "markdown",
   "metadata": {},
   "source": [
    "* When to Use CSV"
   ]
  },
  {
   "cell_type": "markdown",
   "metadata": {},
   "source": [
    "### 4.3.2 Binary Files"
   ]
  },
  {
   "cell_type": "markdown",
   "metadata": {},
   "source": [
    "* An Array of Values"
   ]
  },
  {
   "cell_type": "markdown",
   "metadata": {},
   "source": [
    "* Example: Reading and Writing an Array of Binary Values"
   ]
  },
  {
   "cell_type": "code",
   "execution_count": 12,
   "metadata": {
    "collapsed": true
   },
   "outputs": [],
   "source": [
    "from array import *"
   ]
  },
  {
   "cell_type": "code",
   "execution_count": 13,
   "metadata": {
    "collapsed": false
   },
   "outputs": [
    {
     "data": {
      "text/plain": [
       "array('h')"
      ]
     },
     "execution_count": 13,
     "metadata": {},
     "output_type": "execute_result"
    }
   ],
   "source": [
    "from array import *\n",
    "a = array('h') # array of signed numbers, of zero size\n",
    "a"
   ]
  },
  {
   "cell_type": "code",
   "execution_count": 14,
   "metadata": {
    "collapsed": false
   },
   "outputs": [
    {
     "data": {
      "text/plain": [
       "array('L', [1000, 2000, 3000])"
      ]
     },
     "execution_count": 14,
     "metadata": {},
     "output_type": "execute_result"
    }
   ],
   "source": [
    "b = array('L', [1000, 2000, 3000]) # array of three unsigned numbers\n",
    "b"
   ]
  },
  {
   "cell_type": "code",
   "execution_count": 15,
   "metadata": {
    "collapsed": false
   },
   "outputs": [
    {
     "data": {
      "text/plain": [
       "array('d', [0.0, 1.0, 2.0, 3.0, 4.0, 5.0, 6.0, 7.0, 8.0, 9.0])"
      ]
     },
     "execution_count": 15,
     "metadata": {},
     "output_type": "execute_result"
    }
   ],
   "source": [
    "c = array('d', range(10)) # array of floating-points, from 0 to 9 including\n",
    "c"
   ]
  },
  {
   "cell_type": "markdown",
   "metadata": {},
   "source": [
    "| Data Type  | Data Meaning and Minimum Size in bytes                    |                             \n",
    "|------------|-----------------------------------------------------------|\n",
    "| 'b'        | Signed integer, 1 byte                                    |     \n",
    "| 'B'        | Unsigned integer, 1 byte                                  |       \n",
    "| 'u'        | Unicode character, 2 bytes or 4 bytes, platform dependent |                                       \n",
    "| 'h'        | Signed integer, 2 bytes                                   |     \n",
    "| 'H'        | Unsigned integer, 2 bytes                                 |       \n",
    "| 'i'        | Signed integer, 2 bytes                                   |     \n",
    "| 'I'        | Unsigned integer, 2 bytes                                 |       \n",
    "| 'l'        | Signed integer, 4 bytes                                   |     \n",
    "| 'L'        | Unsigned integer, 4 bytes                                 |       \n",
    "| 'q'        | Signed integer, 8 bytes                                   |     \n",
    "| 'Q'        | Unsigned integer, 8 bytes                                 |       \n",
    "| 'f'        | Floating-point value, 4 bytes                             |           \n",
    "| 'd'        | Floating-point value, 8 bytes                             |           "
   ]
  },
  {
   "cell_type": "code",
   "execution_count": 16,
   "metadata": {
    "collapsed": false
   },
   "outputs": [
    {
     "data": {
      "text/plain": [
       "4"
      ]
     },
     "execution_count": 16,
     "metadata": {},
     "output_type": "execute_result"
    }
   ],
   "source": [
    "a = array('L')\n",
    "a.itemsize"
   ]
  },
  {
   "cell_type": "code",
   "execution_count": 17,
   "metadata": {
    "collapsed": true
   },
   "outputs": [],
   "source": [
    "f = open('b.u32', 'wb')\n",
    "b.tofile(f)\n",
    "f.close()"
   ]
  },
  {
   "cell_type": "code",
   "execution_count": null,
   "metadata": {
    "collapsed": false
   },
   "outputs": [],
   "source": [
    "d = array('L')\n",
    "f = open('../data/b.u32', 'rb')\n",
    "d.fromfile(f, 3)\n",
    "f.close()\n",
    "d == b"
   ]
  },
  {
   "cell_type": "markdown",
   "metadata": {},
   "source": [
    "* An Array of Structs"
   ]
  },
  {
   "cell_type": "code",
   "execution_count": null,
   "metadata": {
    "collapsed": true
   },
   "outputs": [],
   "source": [
    "struct some_binary_file_format\n",
    "{\n",
    "    long epoch;\n",
    "    float fTemperature;\n",
    "    float fPressure;\n",
    "};"
   ]
  },
  {
   "cell_type": "markdown",
   "metadata": {},
   "source": [
    "* Example: Reading and Writing an Array of Structs"
   ]
  },
  {
   "cell_type": "code",
   "execution_count": 19,
   "metadata": {
    "collapsed": true
   },
   "outputs": [],
   "source": [
    "import struct"
   ]
  },
  {
   "cell_type": "code",
   "execution_count": 20,
   "metadata": {
    "collapsed": true
   },
   "outputs": [],
   "source": [
    "L = [ [ 10, 1.0, 2.0], [20, 0.125, 0.25] ]"
   ]
  },
  {
   "cell_type": "code",
   "execution_count": null,
   "metadata": {
    "collapsed": true
   },
   "outputs": [],
   "source": [
    "filename = '../data/structs.bin'"
   ]
  },
  {
   "cell_type": "code",
   "execution_count": null,
   "metadata": {
    "collapsed": false
   },
   "outputs": [],
   "source": [
    "format = 'Lff'\n",
    "fout = open(filename, 'wb')"
   ]
  },
  {
   "cell_type": "code",
   "execution_count": null,
   "metadata": {
    "collapsed": false
   },
   "outputs": [],
   "source": [
    "for row in L:\n",
    "    data = struct.pack(format, row[0], row[1], row[2])\n",
    "    num = fout.write(data)\n",
    "fout.close()"
   ]
  },
  {
   "cell_type": "code",
   "execution_count": null,
   "metadata": {
    "collapsed": true
   },
   "outputs": [],
   "source": [
    "struct_size = struct.calcsize(format)"
   ]
  },
  {
   "cell_type": "code",
   "execution_count": null,
   "metadata": {
    "collapsed": true
   },
   "outputs": [],
   "source": [
    "fin = open(filename, 'rb')\n",
    "data = fin.read(struct_size)\n",
    "data"
   ]
  },
  {
   "cell_type": "code",
   "execution_count": null,
   "metadata": {
    "collapsed": true
   },
   "outputs": [],
   "source": [
    "while data:\n",
    "    values = struct.unpack(format, data)\n",
    "    print(values)\n",
    "    data = fin.read(struct_size)\n",
    "    "
   ]
  },
  {
   "cell_type": "code",
   "execution_count": null,
   "metadata": {
    "collapsed": true
   },
   "outputs": [],
   "source": [
    "fin.close()"
   ]
  },
  {
   "cell_type": "code",
   "execution_count": null,
   "metadata": {
    "collapsed": true
   },
   "outputs": [],
   "source": [
    "data = open(filename, 'rb').read()\n",
    "len(data)"
   ]
  },
  {
   "cell_type": "code",
   "execution_count": null,
   "metadata": {
    "collapsed": true
   },
   "outputs": [],
   "source": [
    "'Lff'*5"
   ]
  },
  {
   "cell_type": "code",
   "execution_count": null,
   "metadata": {
    "collapsed": true
   },
   "outputs": [],
   "source": [
    "print(struct.unpack(format*int(len(data)/struct_size), data))"
   ]
  },
  {
   "cell_type": "markdown",
   "metadata": {},
   "source": [
    "* Header Files"
   ]
  },
  {
   "cell_type": "markdown",
   "metadata": {},
   "source": [
    "### 4.3.3 Readme Files"
   ]
  },
  {
   "cell_type": "markdown",
   "metadata": {},
   "source": [
    "### 4.3.4 INI Files"
   ]
  },
  {
   "cell_type": "markdown",
   "metadata": {},
   "source": [
    "* Example: Reading and Writing INI Files"
   ]
  },
  {
   "cell_type": "code",
   "execution_count": null,
   "metadata": {
    "collapsed": true
   },
   "outputs": [],
   "source": [
    "# creating an INI (config) file\n",
    "import configparser\n",
    "options = configparser.ConfigParser()\n",
    "options['User Options'] = {}\n",
    "options['User Options']['all_data'] = 'Y'\n",
    "options['User Options']['graph'] = '1'\n",
    "options['Plot'] = {}\n",
    "options['Plot']['grid'] = 'Y'\n",
    "f = open('../data/options.ini', 'w')\n",
    "options.write(f)\n",
    "f.close()"
   ]
  },
  {
   "cell_type": "code",
   "execution_count": null,
   "metadata": {
    "collapsed": true
   },
   "outputs": [],
   "source": [
    "# read an INI (config) file\n",
    "import configparser\n",
    "read_opts = configparser.ConfigParser()\n",
    "read_opts.read('../data/options.ini')\n",
    "\n",
    "# print parameters and values\n",
    "for section in read_opts.sections():\n",
    "    print(\"[%s]\" % section)\n",
    "    for param in read_opts.items(section):\n",
    "        print(param)"
   ]
  },
  {
   "cell_type": "markdown",
   "metadata": {},
   "source": [
    "### 4.3.5 XML and Other Formats"
   ]
  },
  {
   "cell_type": "markdown",
   "metadata": {},
   "source": [
    "https://docs.python.org/3.3/library/xml.html"
   ]
  },
  {
   "cell_type": "markdown",
   "metadata": {},
   "source": [
    "## 4.4 Locating Data Files"
   ]
  },
  {
   "cell_type": "markdown",
   "metadata": {},
   "source": [
    "### 4.4.1 Organization into Directories"
   ]
  },
  {
   "cell_type": "markdown",
   "metadata": {},
   "source": [
    "### 4.4.2 Searching for Files"
   ]
  },
  {
   "cell_type": "markdown",
   "metadata": {},
   "source": [
    "* Example: Storing Directory Contents in an Array"
   ]
  },
  {
   "cell_type": "code",
   "execution_count": null,
   "metadata": {
    "collapsed": true
   },
   "outputs": [],
   "source": [
    "import os\n",
    "def get_all_files(srchpath):\n",
    "    \"\"\"Get the names of all the files in a directory, recursively,\n",
    "    including path, name and size.\"\"\"\n",
    "    allfiles = []\n",
    "    for root, dirs, files in os.walk(srchpath):\n",
    "        for file in files:\n",
    "            try:\n",
    "                pathname = os.path.join(root, file)\n",
    "                filesize = os.path.getsize(pathname)\n",
    "                allfiles.append([file, pathname, filesize])\n",
    "            except FileNotFoundError:\n",
    "                pass\n",
    "    return allfiles"
   ]
  },
  {
   "cell_type": "markdown",
   "metadata": {},
   "source": [
    "### 4.4.3 Indexing"
   ]
  },
  {
   "cell_type": "markdown",
   "metadata": {},
   "source": [
    "* Example: Searching for Duplicate Files"
   ]
  },
  {
   "cell_type": "code",
   "execution_count": null,
   "metadata": {
    "collapsed": true
   },
   "outputs": [],
   "source": [
    "def find_dupes_1(thefiles):\n",
    "    \"\"\"Searches for file duplicates, method 1.\"\"\"\n",
    "    result1 = []\n",
    "    mydict1 = {}\n",
    "    for filename, pathname, filesize in thefiles:\n",
    "        if filename in mydict1:\n",
    "            [dup_file, dup_size] = mydict1[filename]\n",
    "        if dup_size==filesize:\n",
    "            result1.append(pathname+filename)\n",
    "        else:\n",
    "            mydict1[filename] = [pathname,filesize]\n",
    "    return result1"
   ]
  },
  {
   "cell_type": "code",
   "execution_count": null,
   "metadata": {
    "collapsed": true
   },
   "outputs": [],
   "source": [
    "def find_dupes_2(thefiles):\n",
    "    \"\"\"Searches for file duplicates, method 2.\"\"\"\n",
    "    result2 = []\n",
    "    mydict2 = {}\n",
    "    for filename, pathname, filesize in thefiles:\n",
    "        for k, v in mydict2.items():\n",
    "            if v[0]==filename and v[1]==filesize:\n",
    "                result2.append(pathname+filename)\n",
    "            else:\n",
    "                mydict2[pathname] = [filename, filesize]\n",
    "    return result2"
   ]
  },
  {
   "cell_type": "code",
   "execution_count": null,
   "metadata": {
    "collapsed": true
   },
   "outputs": [],
   "source": [
    "def find_dupes_3(thefiles):\n",
    "    \"\"\"Searches for file duplicates, method 3.\"\"\"\n",
    "    result3 = []\n",
    "    mydict3 = {}\n",
    "    for filename, pathname, filesize in thefiles:\n",
    "        if mydict3.get(filename):\n",
    "            for [dup_file, dup_size] in mydict3[filename]:\n",
    "                if dup_size==filesize:\n",
    "                    result3.append(pathname+filename)\n",
    "            mydict3[filename].append([pathname, filesize])\n",
    "        else:\n",
    "            mydict3[filename] = [[pathname, filesize]]\n",
    "    return result3"
   ]
  },
  {
   "cell_type": "code",
   "execution_count": null,
   "metadata": {
    "collapsed": true
   },
   "outputs": [],
   "source": [
    "srchpath = 'c:/Python33'\n",
    "allfiles = get_all_files(srchpath)\n",
    "t = []\n",
    "from time import clock as clk\n",
    "t.append(clk()); res1 = find_dupes_1(allfiles); t.append(clk())\n",
    "t.append(clk()); res2 = find_dupes_2(allfiles); t.append(clk())\n",
    "t.append(clk()); res3 = find_dupes_3(allfiles); t.append(clk())\n",
    "len(allfiles) # number of data files processed"
   ]
  },
  {
   "cell_type": "code",
   "execution_count": null,
   "metadata": {
    "collapsed": true
   },
   "outputs": [],
   "source": [
    "print(\"method 1: %5.5f; method 2: %5.5f; method 3: %5.5f\" % \\\n",
    "      (t[1]-t[0], t[3]-t[2], t[5]-t[4]))"
   ]
  },
  {
   "cell_type": "code",
   "execution_count": null,
   "metadata": {
    "collapsed": true
   },
   "outputs": [],
   "source": [
    "len(res1), len(res2), len(res3)"
   ]
  },
  {
   "cell_type": "code",
   "execution_count": null,
   "metadata": {
    "collapsed": true
   },
   "outputs": [],
   "source": [
    "if open(file1,'rb').read() == open(file2,'rb').read():\n",
    "    print('identical files')"
   ]
  },
  {
   "cell_type": "markdown",
   "metadata": {},
   "source": [
    "### 4.4.4 Catalogs"
   ]
  },
  {
   "cell_type": "markdown",
   "metadata": {},
   "source": [
    "* Example: Creating a Clean Catalog File"
   ]
  },
  {
   "cell_type": "code",
   "execution_count": null,
   "metadata": {
    "collapsed": true
   },
   "outputs": [],
   "source": [
    "import os, csv\n",
    "\n",
    "# rename the following to a directory of your choosing\n",
    "srchpath = '../src'\n",
    "\n",
    "# the CSV header\n",
    "catalog = [['Filename', 'pathname', 'size']]\n",
    "\n",
    "# walk directory tree\n",
    "for root, dirs, files in os.walk(srchpath):\n",
    "    for file in files:\n",
    "        # process only .py files\n",
    "        if file.lower().endswith('py'):\n",
    "            pathname = os.path.join(root, file)\n",
    "            filesize = os.path.getsize(pathname)\n",
    "            catalog.append([ file, pathname, filesize])\n",
    "            \n",
    "# create the clean catalog\n",
    "f = open('../data/clean_catalog.csv', 'w', newline='')\n",
    "csv.writer(f).writerows(catalog)\n",
    "f.close()"
   ]
  },
  {
   "cell_type": "markdown",
   "metadata": {},
   "source": [
    "### Files vs. a Database"
   ]
  },
  {
   "cell_type": "markdown",
   "metadata": {},
   "source": [
    "## 4.5 Final Notes and References"
   ]
  },
  {
   "cell_type": "markdown",
   "metadata": {
    "collapsed": true
   },
   "source": [
    "“Numeric representation of Dates and Time, The ISO solution to a long-standing source of confusion,” http://www.iso.org/iso/support/faqs/faqs_widely_used_standards/widely_used_standards_other/date_and_time_format.htm."
   ]
  }
 ],
 "metadata": {
  "kernelspec": {
   "display_name": "Python 3",
   "language": "python",
   "name": "python3"
  },
  "language_info": {
   "codemirror_mode": {
    "name": "ipython",
    "version": 3
   },
   "file_extension": ".py",
   "mimetype": "text/x-python",
   "name": "python",
   "nbconvert_exporter": "python",
   "pygments_lexer": "ipython3",
   "version": "3.6.0"
  }
 },
 "nbformat": 4,
 "nbformat_minor": 1
}
