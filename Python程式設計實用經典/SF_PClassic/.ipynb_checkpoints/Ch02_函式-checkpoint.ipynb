{
 "cells": [
  {
   "cell_type": "code",
   "execution_count": 1,
   "metadata": {},
   "outputs": [
    {
     "name": "stdout",
     "output_type": "stream",
     "text": [
      "<module 'ntpath' from 'C:\\\\Anaconda36\\\\lib\\\\ntpath.py'>\n",
      "I:\\BOOKS\\PYTHON\\__GITHUBBED\\Python程式設計實用經典\\SF_PClassic\n"
     ]
    }
   ],
   "source": [
    "import os, sys\n",
    "print(os.path)\n",
    "print(os.getcwd())"
   ]
  },
  {
   "cell_type": "markdown",
   "metadata": {},
   "source": [
    "<div id=\"toc\"></div>"
   ]
  },
  {
   "cell_type": "code",
   "execution_count": null,
   "metadata": {
    "collapsed": true
   },
   "outputs": [],
   "source": []
  },
  {
   "cell_type": "code",
   "execution_count": 1,
   "metadata": {},
   "outputs": [
    {
     "name": "stdout",
     "output_type": "stream",
     "text": [
      "%load ch2/add.py\n",
      "%load ch2/adding.py\n",
      "%load ch2/arbitary.py\n",
      "%load ch2/dec_2_bin.py\n",
      "%load ch2/default.py\n",
      "%load ch2/exam2-1.py\n",
      "%load ch2/exam2-2.py\n",
      "%load ch2/exam2-3.py\n",
      "%load ch2/facto.py\n",
      "%load ch2/filter_odd.py\n",
      "%load ch2/func_multi_ret.py\n",
      "%load ch2/fun_para.py\n",
      "%load ch2/gcd_recur.py\n",
      "%load ch2/lambda1.py\n",
      "%load ch2/LEGB.py\n",
      "%load ch2/local_global.py\n",
      "%load ch2/map_demo.py\n",
      "%load ch2/none_exam.py\n",
      "%load ch2/return_none.py\n",
      "%load ch2/sort_use_sorted.py\n",
      "%load ch2/star_para.py\n",
      "%load ch2/star_star_para.py\n"
     ]
    },
    {
     "data": {
      "text/plain": [
       "[None,\n",
       " None,\n",
       " None,\n",
       " None,\n",
       " None,\n",
       " None,\n",
       " None,\n",
       " None,\n",
       " None,\n",
       " None,\n",
       " None,\n",
       " None,\n",
       " None,\n",
       " None,\n",
       " None,\n",
       " None,\n",
       " None,\n",
       " None,\n",
       " None,\n",
       " None,\n",
       " None,\n",
       " None]"
      ]
     },
     "execution_count": 1,
     "metadata": {},
     "output_type": "execute_result"
    }
   ],
   "source": [
    "flist = !dir ch2 /b \n",
    "[print(\"%load \" + \"ch2\" + \"/\" + f) for f in flist if f[-2:]==\"py\"]"
   ]
  },
  {
   "cell_type": "code",
   "execution_count": null,
   "metadata": {
    "collapsed": true
   },
   "outputs": [],
   "source": []
  },
  {
   "cell_type": "markdown",
   "metadata": {},
   "source": [
    "# Ch02_函式"
   ]
  },
  {
   "cell_type": "markdown",
   "metadata": {},
   "source": [
    "<div id=\"toc\"></div>"
   ]
  },
  {
   "cell_type": "markdown",
   "metadata": {},
   "source": [
    "## 2.1 函式定義"
   ]
  },
  {
   "cell_type": "code",
   "execution_count": 3,
   "metadata": {},
   "outputs": [
    {
     "name": "stdout",
     "output_type": "stream",
     "text": [
      "\n",
      " pls keyin the starting and ending data, they are passed to function named adding(para1, para2)\n",
      "11\n",
      "22\n",
      "\n",
      " ret total from function adding is \t 198\n"
     ]
    }
   ],
   "source": [
    "# %load ch2/add.py\n",
    "#filename:add.py (in chap2)\n",
    "#function: adding the total according to two parameter a, and b\n",
    "#we define adding(paramater1, parameter2)\n",
    "\n",
    "\n",
    "def adding(a,b):\n",
    "    total = 0\n",
    "    in1 = a\n",
    "    while in1 <= b:  \n",
    "        total += in1 \n",
    "        in1 += 1\n",
    "    return total\n",
    "\n",
    "print(\"\\n pls keyin the starting and ending data, they are passed to function named adding(para1, para2)\")\n",
    "act1=input()\n",
    "act2=input()\n",
    "\n",
    "#call the adding function using adding(parameter1, parameter2)\n",
    "#please be careful of the int(act1), int(act2) since it will be used for adding the total\n",
    "#int(act1), int(act2) is uesed to covert teh act1 act2 to integer \n",
    "\n",
    "ret_total=adding(int(act1),int(act2))\n",
    "print(\"\\n ret total from function adding is \\t\",ret_total)\n",
    "\n",
    "\n"
   ]
  },
  {
   "cell_type": "code",
   "execution_count": 5,
   "metadata": {},
   "outputs": [
    {
     "name": "stdout",
     "output_type": "stream",
     "text": [
      "61.0\n",
      "42502.3275\n",
      "38.5\n",
      "45.0\n"
     ]
    }
   ],
   "source": [
    "# %load ch2/arbitary.py\n",
    "def arithmetic_mean(first, *values):\n",
    "    \"\"\" This function calculates the arithmetic mean of a non-empty\n",
    "        arbitrary number of numerical values \"\"\"\n",
    "\n",
    "    return (first + sum(values)) / (1 + len(values))\n",
    "\n",
    "print(arithmetic_mean(45,32,89,78))\n",
    "print(arithmetic_mean(8989.8,78787.78,3453,78778.73))\n",
    "print(arithmetic_mean(45,32))\n",
    "print(arithmetic_mean(45))\n"
   ]
  },
  {
   "cell_type": "code",
   "execution_count": null,
   "metadata": {
    "collapsed": true
   },
   "outputs": [],
   "source": [
    "# %load ch2/return_none.py\n",
    "#filename:return-none.py\n",
    "#function: return None, or only return, or no return\n",
    "#you can see the result is return None after you call the following three functions\n",
    "def noreturn():\n",
    "    print(\"function noreturn\")\n",
    "\n",
    "def return_none():\n",
    "    print(\"function return_none\")\n",
    "    return None\n",
    "def returnnothing():\n",
    "    print (\"function returnnothing\")\n",
    "    return\n",
    "\n",
    "print(\"the return after calling noreturn is-->\",noreturn())\n",
    "print(\"the return after calling return_none is-->\",return_none())\n",
    "print(\"the return after calling returnnothing is-->\",returnnothing())\n"
   ]
  },
  {
   "cell_type": "code",
   "execution_count": null,
   "metadata": {
    "collapsed": true
   },
   "outputs": [],
   "source": [
    "# %load ch2/none_exam.py\n",
    "#function:Nono is used when we encounter the following cases\n",
    "'''\n",
    "1.Void functions that do not return anything will return a None object.\n",
    "2.None is returned by functions in which the program does not encounter a return statement\n",
    "'''\n",
    "\n",
    "def none_return_function(var_a):\n",
    "    if (var_a % 2) == 0:\n",
    "        return True\n",
    "\n",
    "def void_function(): \n",
    "    data1 = 100\n",
    "    data2 = 2000\n",
    "    sum = data1 + data2\n",
    "    \n",
    "return_value = none_return_function(5)\n",
    "print(return_value)\n",
    "\n",
    "return_value = none_return_function(4)\n",
    "print(return_value)\n",
    "    \n",
    "print(\"Function no return value example , the return will be \",end=\" \")\n",
    "return_value = void_function()\n",
    "print(return_value)\n"
   ]
  },
  {
   "cell_type": "code",
   "execution_count": null,
   "metadata": {
    "collapsed": true
   },
   "outputs": [],
   "source": []
  },
  {
   "cell_type": "markdown",
   "metadata": {},
   "source": [
    "## 2.2 函式參數"
   ]
  },
  {
   "cell_type": "code",
   "execution_count": null,
   "metadata": {},
   "outputs": [
    {
     "name": "stdout",
     "output_type": "stream",
     "text": [
      "\n",
      "please input two data to Function\n"
     ]
    }
   ],
   "source": [
    "# %load ch2/fun_para.py\n",
    "\n",
    "#filename: fun-para.py in chap2\n",
    "#function: parameters maybe no, more, or arbitary parameters\n",
    "\n",
    "\n",
    "def fun_return_data(a,b):\n",
    "    c = a + b\n",
    "    return c\n",
    "def adding(*paras):\n",
    "    total = 0\n",
    "    for data in paras:\n",
    "        total += data\n",
    "    return total\n",
    "print(\"\\nplease input two data to Function\")\n",
    "data1=input()\n",
    "data2=input()\n",
    "data1=int(data1)\n",
    "data2=int(data2)\n",
    "\n",
    "total = fun_return_data(data1,data2)\n",
    "print(\"return add use int is:\",total)\n",
    "total = fun_return_data(str(data1),str(data2))\n",
    "print(\"return add use str is:\",total)\n",
    "\n",
    "\n",
    "\n",
    "print(\"pls input data3, and data4\")\n",
    "data3=input()\n",
    "data4=input()\n",
    "print('\\n will call adding  function using Arbitary parameters\\n')\n",
    "print(adding(data1,data2))       \n",
    "print(adding(data1,data2,int(data3)))     \n",
    "print(adding(data1,data2,int(data3),int(data4)))  \n"
   ]
  },
  {
   "cell_type": "code",
   "execution_count": 2,
   "metadata": {},
   "outputs": [
    {
     "name": "stdout",
     "output_type": "stream",
     "text": [
      "4 data= 72 75 0 0\n",
      "-3\n",
      "4 data= 78 82 0 1\n",
      "-5\n",
      "4 data= 82 80 1 0\n",
      "3\n",
      "-5\n"
     ]
    }
   ],
   "source": [
    "# %load ch2/default.py\n",
    "\n",
    "#filename:default.py\n",
    "#function:default parameters\n",
    "\n",
    "def calculate(NCCUa, NCTUb, NCCUc=0, NCTUd=0):\n",
    "    print(\"4 data=\",NCCUa, NCTUb, NCCUc, NCTUd)\n",
    "    return NCCUa -NCTUb + NCCUc -NCTUd\n",
    "\n",
    "Groupa=calculate(72,75)\n",
    "print(Groupa)\n",
    "\n",
    "Groupb=calculate(78,82,NCTUd=1)\n",
    "print(Groupb)\n",
    "\n",
    "Groupc=calculate(82,80,1,0)\n",
    "print(Groupc)\n",
    "\n",
    "Totalscore=Groupa+Groupb+Groupc\n",
    "print(Totalscore)\n"
   ]
  },
  {
   "cell_type": "code",
   "execution_count": 3,
   "metadata": {},
   "outputs": [
    {
     "name": "stdout",
     "output_type": "stream",
     "text": [
      "\n",
      "score is: 70\n",
      "score: 72 score: 68 score: 82 score: 86 score: 68 score: 82 \n",
      "score is: 70\n",
      "score: 72 score: 68 score: 82 score: 76 score: 68 score: 82 \n",
      "result= 528 518\n"
     ]
    }
   ],
   "source": [
    "# %load ch2/star_para.py\n",
    "#filename:star_para.py\n",
    "#function: the subroutine use the *para\n",
    "\n",
    "def Subroutine(score, *score_all):\n",
    "    total=0\n",
    "    print (\"\\nscore is:\", score)\n",
    "    total += score\n",
    "    for n in score_all:\n",
    "         print( \"score:\", n,end=\" \")\n",
    "         total += n\n",
    "    \n",
    "    return total\n",
    "\n",
    "NTHU=Subroutine(70, 72, 68, 82, 86,68,82)\n",
    "NCTU=Subroutine(70, 72, 68, 82, 76,68,82)\n",
    "print(\"\\nresult=\",NTHU,NCTU)\n",
    "\n",
    "#print(\"total=\", total)\n"
   ]
  },
  {
   "cell_type": "code",
   "execution_count": 4,
   "metadata": {},
   "outputs": [
    {
     "name": "stdout",
     "output_type": "stream",
     "text": [
      "total= 75\n",
      "\n",
      "temperature 36\n",
      "other temperature is: arg2: 38\n",
      "other temperature is: arg3: 36.5\n",
      "\n",
      "para1: 39.5\n",
      "para2: 36\n",
      "para3: 38\n",
      "total= 113.5\n"
     ]
    }
   ],
   "source": [
    "# %load ch2/star_star_para.py\n",
    "#filename:star-star-para.py\n",
    "#function:try to understand the ** parameter from the IOT(internet of thing) device\n",
    "#to get the temperature\n",
    "\n",
    "def func_formal(p1,p2,p3,p4):\n",
    "    total=p1+p2+p3+p4\n",
    "    print(\"total=\",total)  \n",
    "func_formal(36,38,*range(2))\n",
    "\n",
    "def subprogram(temp, **kws):\n",
    "    print (\"\\ntemperature\", temp)\n",
    "    for key in kws:\n",
    "        print (\"other temperature is: %s: %s\" % (key, kws[key]))\n",
    "\n",
    "subprogram(temp=36, arg2=38, arg3=36.5)\n",
    "\n",
    "\n",
    "def subroutine(arg1, arg2, arg3):\n",
    "    print (\"\\npara1:\", arg1)\n",
    "    print (\"para2:\", arg2)\n",
    "    print (\"para3:\", arg3)\n",
    "    total=arg1+arg2+arg3\n",
    "    print(\"total=\",total)\n",
    "\n",
    "kw_dict = {\"arg3\": 38, \"arg2\": 36, \"arg1\":39.5}\n",
    "subroutine(**kw_dict)\n",
    "\n"
   ]
  },
  {
   "cell_type": "code",
   "execution_count": null,
   "metadata": {
    "collapsed": true
   },
   "outputs": [],
   "source": []
  },
  {
   "cell_type": "markdown",
   "metadata": {},
   "source": [
    "## 2.3 函式回傳應用"
   ]
  },
  {
   "cell_type": "code",
   "execution_count": null,
   "metadata": {},
   "outputs": [
    {
     "name": "stdout",
     "output_type": "stream",
     "text": [
      "please keyin data from KB for Starting no and ending no\n"
     ]
    }
   ],
   "source": [
    "# %load ch2/adding.py\n",
    "#filename:adding.py\n",
    "#function: add the data by starting and ending data\n",
    "\n",
    "def adding_func(para1=0,para2=50):\n",
    "    \n",
    "    total = 0\n",
    "    i = para1\n",
    "    while i <= para2:\n",
    "        print(i,\" \",para2)\n",
    "        total += i\n",
    "        i += 1\n",
    "    return total\n",
    "\n",
    "#the function call using the arguments data such as argument1,argument2\n",
    "\n",
    "print(\"please keyin data from KB for Starting no and ending no\")\n",
    "arg1=int(input())\n",
    "arg2=int(input())\n",
    "total=adding_func(arg1, arg2)\n",
    "print(total)\n"
   ]
  },
  {
   "cell_type": "code",
   "execution_count": 2,
   "metadata": {},
   "outputs": [
    {
     "name": "stdout",
     "output_type": "stream",
     "text": [
      "var1: 483.5\n",
      "var2: 450.7\n",
      "others: [350, 410, 420, 410, 320]\n",
      "\n",
      "multi-return from the function\n",
      "\t NTU medical ok\n",
      "\t yangmin medical\n",
      "\t chenkung medical\n"
     ]
    }
   ],
   "source": [
    "# %load ch2/func_multi_ret.py\n",
    "#filename: func_multi_ret.py\n",
    "#funcion: declare functions, receiving a variable number of arguments, using the *\n",
    "#function: return multi result from the function\n",
    "\n",
    "def multi_variable(var1, var2, *others):\n",
    "    print (\"var1: %s\" % var1)\n",
    "    print (\"var2: %s\" % var2)\n",
    "    print (\"others: %s\" % list(others))\n",
    "    \n",
    "multi_variable(483.5,450.7,350,410,420,410,320)\n",
    "\n",
    "\n",
    "#2015 university examination for medical school \n",
    "def return_multi(score1, score2, score3):\n",
    "    if score1 >=450.7:\n",
    "        school_a=\"NTU medical ok\"\n",
    "    if score2 >=443.5 :\n",
    "        school_b =\"yangmin medical\"\n",
    "    if score3 >=442:\n",
    "        school_c= \"chenkung medical\"\n",
    "    return school_a,school_b,school_c\n",
    " \n",
    "print(\"\\nmulti-return from the function\")\n",
    "ret_school = return_multi(483.5,443.5,446)\n",
    "for i in ret_school:\n",
    "    if i:\n",
    "        print(\"\\t\",i)\n"
   ]
  },
  {
   "cell_type": "code",
   "execution_count": null,
   "metadata": {
    "collapsed": true
   },
   "outputs": [],
   "source": []
  },
  {
   "cell_type": "markdown",
   "metadata": {},
   "source": [
    "## 2.4 變數可視範圍"
   ]
  },
  {
   "cell_type": "code",
   "execution_count": 4,
   "metadata": {},
   "outputs": [
    {
     "name": "stdout",
     "output_type": "stream",
     "text": [
      "global data= 98\n",
      "108 in local in_func()\n"
     ]
    }
   ],
   "source": [
    "# %load ch2/local_global.py\n",
    "#filename:local-global.py \n",
    "#function : use the rule of Local -> Enclosed -> Global -> Built-in,\n",
    "\n",
    "Taipei_high_school = 98\n",
    " \n",
    "def in_TPE_func():\n",
    "    Taipei_high_school = 108\n",
    "    print(Taipei_high_school, 'in local in_func()')\n",
    "\n",
    "print('global data=',Taipei_high_school)\n",
    "\n",
    "in_TPE_func()\n"
   ]
  },
  {
   "cell_type": "code",
   "execution_count": 6,
   "metadata": {},
   "outputs": [
    {
     "name": "stdout",
     "output_type": "stream",
     "text": [
      "called my len() function\n",
      "Length of Input variable is\t 22\n"
     ]
    }
   ],
   "source": [
    "# %load ch2/LEGB.py\n",
    "#filename: LEGB.py\n",
    "#function: search the var using LEGB , built-in function is also the same way\n",
    "#here we define our len function, which will be used as a higher priority than the built-in function len(..)\n",
    " \n",
    "def len(para1):\n",
    "    print('called my len() function')\n",
    "    length = 0\n",
    "    for i in para1:\n",
    "        length += 1\n",
    "    return length\n",
    " \n",
    "def LEGB_func(para1):\n",
    "    len_para1 = len(para1)\n",
    "    print('Length of Input variable is\\t', len_para1)\n",
    " \n",
    "LEGB_func('Hello Python language!')\n"
   ]
  },
  {
   "cell_type": "code",
   "execution_count": null,
   "metadata": {
    "collapsed": true
   },
   "outputs": [],
   "source": []
  },
  {
   "cell_type": "markdown",
   "metadata": {},
   "source": [
    "## 2.5 遞迴函式"
   ]
  },
  {
   "cell_type": "code",
   "execution_count": null,
   "metadata": {},
   "outputs": [
    {
     "name": "stdout",
     "output_type": "stream",
     "text": [
      "\n",
      "pls input the n for n! function call\n"
     ]
    }
   ],
   "source": [
    "# %load ch2/facto.py\n",
    "#filename:facto.py\n",
    "#function: fcatorial function using the recursive way\n",
    "\n",
    "#n! = n * (n-1)!, if n = 1 and f(1) = 1\n",
    "#3! = 3 * 2!\n",
    "#2! = 2 * 1\n",
    "\n",
    "def factorial(n):\n",
    "    print(\"factorial called  n = \",n)\n",
    "    if n == 1:\n",
    "        return 1\n",
    "    else:\n",
    "        print(\"n,factorial(n-1) n=\",n)\n",
    "        return n * factorial(n-1)\n",
    "\n",
    "print(\"\\npls input the n for n! function call\")\n",
    "arg=int(input())\n",
    "print(\"final n! =\",factorial(arg))\n"
   ]
  },
  {
   "cell_type": "code",
   "execution_count": 2,
   "metadata": {},
   "outputs": [
    {
     "name": "stdout",
     "output_type": "stream",
     "text": [
      "1st no \n",
      "10\n",
      "2nd no \n",
      "20\n",
      "10\n"
     ]
    }
   ],
   "source": [
    "# %load ch2/gcd_recur.py\n",
    "a=int(input('1st no \\n'))\n",
    "b=int(input('2nd no \\n'))\n",
    "\n",
    "def gcd(m,n):\n",
    "    z=abs(m-n)\n",
    "    if (m-n)==0:\n",
    "        return n\n",
    "    else:\n",
    "        return gcd(z,min(m,n))\n",
    "\n",
    "\n",
    "print (gcd(a,b))\n"
   ]
  },
  {
   "cell_type": "code",
   "execution_count": 4,
   "metadata": {},
   "outputs": [
    {
     "name": "stdout",
     "output_type": "stream",
     "text": [
      "Enter an integer: 10\n",
      "1010"
     ]
    }
   ],
   "source": [
    "# %load ch2/dec_2_bin.py\n",
    "#filename:dec_2_bin.py\n",
    "#function: convert decimal number into binary number\n",
    "\n",
    "def dec_binary(n):\n",
    "   if n > 1:\n",
    "       dec_binary(n//2)\n",
    "   print(n % 2,end = '')\n",
    "\n",
    "decimal = int(input(\"Enter an integer: \"))\n",
    "dec_binary(decimal)\n"
   ]
  },
  {
   "cell_type": "code",
   "execution_count": null,
   "metadata": {
    "collapsed": true
   },
   "outputs": [],
   "source": []
  },
  {
   "cell_type": "markdown",
   "metadata": {},
   "source": [
    "## 2.6 無名函式"
   ]
  },
  {
   "cell_type": "code",
   "execution_count": 6,
   "metadata": {},
   "outputs": [
    {
     "name": "stdout",
     "output_type": "stream",
     "text": [
      "98\n",
      "99\n",
      "abc\n",
      "abcAbc\n",
      "2\n",
      "pls key in your retired salary\n",
      "100\n",
      "you can get total money from salary and interest 118.0\n"
     ]
    }
   ],
   "source": [
    "# %load ch2/lambda1.py\n",
    "#filename:lamda1.py\n",
    "#function:Anonymous functions\n",
    "#limitation:Lambda functions are restricted to a single expression\n",
    "#used:can be used wherever normal functions can be used.\n",
    "\n",
    "min = lambda a, b: a if a < b else b\n",
    "max = lambda a, b: b if a < b else a\n",
    "max = lambda a, b: b if a < b else a\n",
    "str = lambda a, b: a+b\n",
    "sub = lambda a, b: a-b\n",
    "z = lambda x: x * y\n",
    "\n",
    "print(min(100, 98)) \n",
    "print(max(96, 99))\n",
    "print(max(\"abc\",\"Abc\"))\n",
    "print(str(\"abc\",\"Abc\")) \n",
    "print(sub(100, 98))\n",
    "\n",
    "print(\"pls key in your retired salary\")\n",
    "y=int(input())\n",
    "print(\"you can get total money from salary and interest\",z(1.18))\n"
   ]
  },
  {
   "cell_type": "code",
   "execution_count": 8,
   "metadata": {},
   "outputs": [
    {
     "name": "stdout",
     "output_type": "stream",
     "text": [
      "originl listarray is  [1, 2, 3, 4, 5, 6, 7, 8, 9]\n",
      "result of twice is [2, 4, 6, 8, 10, 12, 14, 16, 18]\n",
      "[300, 350, 500, 1200, 1500]\n",
      "[1.2, 1.5, 1.7, 1.3, 1.7]\n",
      "[360.0, 525.0, 850.0, 1560.0, 2550.0]\n"
     ]
    }
   ],
   "source": [
    "# %load ch2/map_demo.py\n",
    "#funcion: built-in function map\n",
    "\n",
    "def func_twice(x):\n",
    "    return x*2\n",
    "\n",
    "listarray=range(1,10)\n",
    "print(\"originl listarray is \",list(listarray))\n",
    "result=[]\n",
    "result=list(map(func_twice,listarray))\n",
    "print(\"result of twice is\",result)\n",
    "\n",
    "#baseball pitcher Mr Chen           \n",
    "chen_salary = [300,350,500,1200,1500]\n",
    "times = [1.2,1.5,1.7,1.3,1.7]\n",
    "\n",
    "chen_salary_2016=[]\n",
    "chen_salary_2016=list(map(lambda x,y:x*y, chen_salary ,times))\n",
    "print(chen_salary)\n",
    "print(times)\n",
    "print(chen_salary_2016)\n",
    "\n"
   ]
  },
  {
   "cell_type": "code",
   "execution_count": 10,
   "metadata": {},
   "outputs": [
    {
     "name": "stdout",
     "output_type": "stream",
     "text": [
      "[22, 6, 18, 32]\n"
     ]
    }
   ],
   "source": [
    "# %load ch2/filter_odd.py\n",
    "#filename:filter_odd.py\n",
    "\n",
    "ori_list = [13, 25, 22, 6, 18, 33, 23, 32]\n",
    "new_list = list(filter(lambda x: (x%2 == 0) , ori_list))\n",
    "print(new_list)\n",
    "\n",
    "\n"
   ]
  },
  {
   "cell_type": "code",
   "execution_count": null,
   "metadata": {
    "collapsed": true
   },
   "outputs": [],
   "source": []
  },
  {
   "cell_type": "code",
   "execution_count": null,
   "metadata": {
    "collapsed": true
   },
   "outputs": [],
   "source": []
  },
  {
   "cell_type": "markdown",
   "metadata": {},
   "source": [
    "## 2.7 內建函式"
   ]
  },
  {
   "cell_type": "code",
   "execution_count": null,
   "metadata": {
    "collapsed": true
   },
   "outputs": [],
   "source": [
    "# %load ch2/sort_use_sorted.py\n",
    "#filename:sort_use_sorted.py (in chap2)\n",
    "#function: sort using the built-in sortedfunction\n",
    "#it simulates the Taipei senior high school examination, which is still very confusing until July/2015\n",
    "\n",
    "scores_tuples = [\n",
    "    ('john Peng', '1', 108),\n",
    "    ('johnny', '1', 100),\n",
    "    ('Paul Yang', '2', 98),\n",
    "    ('CT Nickson', '2', 107),\n",
    "]\n",
    "#sort using sorted by score, by grade\n",
    "print(sorted(scores_tuples, key=lambda student: student[2]) )  # sort by score\n",
    "print(sorted(scores_tuples, key=lambda student: student[1]) )  # sort by grade\n",
    "import sys\n",
    "sys.exit()\n",
    "\n",
    "\n"
   ]
  },
  {
   "cell_type": "markdown",
   "metadata": {},
   "source": []
  },
  {
   "cell_type": "markdown",
   "metadata": {},
   "source": [
    "## Exercise"
   ]
  },
  {
   "cell_type": "code",
   "execution_count": 19,
   "metadata": {
    "scrolled": true
   },
   "outputs": [
    {
     "name": "stdout",
     "output_type": "stream",
     "text": [
      "108\n",
      "102\n"
     ]
    }
   ],
   "source": [
    "# %load ch2/exam2-1.py\n",
    "#filename:ex2-1.py\n",
    "#funcion: check the local and global var \n",
    "\n",
    "x = 102\n",
    "def local_func():\n",
    "   x = 108\n",
    "   print (x)\n",
    " \n",
    "local_func()\n",
    "print(x)\n"
   ]
  },
  {
   "cell_type": "code",
   "execution_count": 16,
   "metadata": {},
   "outputs": [
    {
     "name": "stdout",
     "output_type": "stream",
     "text": [
      "108\n",
      "108\n"
     ]
    }
   ],
   "source": [
    "# %load ch2/exam2-2.py\n",
    "#filename:ex2-2.py\n",
    "#funcion: check the local and global var \n",
    "\n",
    "x = 102\n",
    "def local_func():\n",
    "   global x\n",
    "   x = 108\n",
    "   print (x)\n",
    " \n",
    "local_func()\n",
    "print(x)\n"
   ]
  },
  {
   "cell_type": "code",
   "execution_count": 17,
   "metadata": {},
   "outputs": [
    {
     "name": "stdout",
     "output_type": "stream",
     "text": [
      "please keyin two no\n",
      "10\n",
      "20\n",
      "a = 10  b = 20\n",
      "after swap,data is as follow:\n",
      "a = 20  b = 10\n"
     ]
    }
   ],
   "source": [
    "# %load ch2/exam2-3.py\n",
    "#filename :ex-3.py\n",
    "#function : swap the two var , it is useful for data strcture like Sort,....and so on\n",
    "\n",
    "def swap(a, b):\n",
    "   temp = a\n",
    "   a = b\n",
    "   b = temp\n",
    "   return a, b\n",
    "\n",
    "print(\"please keyin two no\")\n",
    "a = int(input())\n",
    "b = int(input())\n",
    "print (\"a = %d  b = %d\" % (a, b))\n",
    "a, b = swap(a, b)\n",
    "print (\"after swap,data is as follow:\")\n",
    "print (\"a = %d  b = %d\" % (a, b))\n"
   ]
  },
  {
   "cell_type": "code",
   "execution_count": null,
   "metadata": {
    "collapsed": true
   },
   "outputs": [],
   "source": []
  }
 ],
 "metadata": {
  "kernelspec": {
   "display_name": "Python 3",
   "language": "python",
   "name": "python3"
  },
  "language_info": {
   "codemirror_mode": {
    "name": "ipython",
    "version": 3
   },
   "file_extension": ".py",
   "mimetype": "text/x-python",
   "name": "python",
   "nbconvert_exporter": "python",
   "pygments_lexer": "ipython3",
   "version": "3.6.3"
  }
 },
 "nbformat": 4,
 "nbformat_minor": 2
}
