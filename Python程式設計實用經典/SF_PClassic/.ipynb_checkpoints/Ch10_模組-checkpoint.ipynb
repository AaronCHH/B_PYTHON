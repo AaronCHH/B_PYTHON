{
 "cells": [
  {
   "cell_type": "markdown",
   "metadata": {},
   "source": [
    "# Ch10 模組"
   ]
  },
  {
   "cell_type": "markdown",
   "metadata": {},
   "source": [
    "<div id=\"toc\"></div>"
   ]
  },
  {
   "cell_type": "markdown",
   "metadata": {},
   "source": [
    "## 10.1 匯入模組"
   ]
  },
  {
   "cell_type": "markdown",
   "metadata": {},
   "source": [
    "### 10.1.1 匯入模組格式"
   ]
  },
  {
   "cell_type": "code",
   "execution_count": 2,
   "metadata": {
    "collapsed": true
   },
   "outputs": [],
   "source": [
    "# %load script/ch10/fun_for_sensor.py\n",
    "#filename:fun_for_sensor.py\n",
    "#function:The module name is fun_for_sensor for import by main program\n",
    "#The module name will not include .py for main program\n",
    "#This program is for whom want to involve in the IOT field. it is only reference\n",
    "\n",
    "def sensor():\n",
    "    print( \"I AM the sensor node id 1210\")\n",
    "\n",
    "node_id=1210\n",
    "sensor_degree= 32\n",
    "\n"
   ]
  },
  {
   "cell_type": "code",
   "execution_count": 5,
   "metadata": {},
   "outputs": [
    {
     "name": "stdout",
     "output_type": "stream",
     "text": [
      "I AM the sensor node id 1210\n",
      "now the data is from node id: 1210\n",
      "\n",
      "node dict includes Nodeid and location= {1210: 'TPE x=100 y=200'}\n",
      "the current degree= [32]\n"
     ]
    }
   ],
   "source": [
    "# %load script/ch10/module_sensor.py\n",
    "#filename:module_sensor.py\n",
    "#function: import fun_for_senor as s_node for convinence\n",
    "#usage: if you want to use the module function or module variable\n",
    "#the formt is : modulename.functionname\n",
    "#               modulename.variable\n",
    "\n",
    "import script.ch10.fun_for_sensor as s_node\n",
    "degree=[]\n",
    "node={}\n",
    "\n",
    "s_node.sensor()\n",
    "print (\"now the data is from node id:\",s_node.node_id)\n",
    "degree.append(s_node.sensor_degree)\n",
    "\n",
    "try:\n",
    "    node[s_node.node_id]=\"TPE x=100 y=200\"\n",
    "except:\n",
    "    print(\"error\")\n",
    "\n",
    "print(\"\\nnode dict includes Nodeid and location=\",node)\n",
    "print(\"the current degree=\",degree)\n"
   ]
  },
  {
   "cell_type": "markdown",
   "metadata": {},
   "source": [
    "### 10.1.2 匯入模組以類別為應用"
   ]
  },
  {
   "cell_type": "code",
   "execution_count": null,
   "metadata": {
    "collapsed": true
   },
   "outputs": [],
   "source": [
    "# %load script/ch10/Node.py\n",
    "#filename:Node.py\n",
    "#function: node class for storing the employee_no and salary\n",
    "\n",
    "#node class \n",
    "class Node:\n",
    "    \n",
    "    def __init__(self):\n",
    "        self.employee = None\n",
    "        self.next = None     \n",
    "      \n",
    "    def setData(self,data,sal):\n",
    "        self.employee = data\n",
    "        self.salary = sal  \n",
    "    \n",
    "    def getData(self):\n",
    "        return self.employee, self.salary    \n",
    "    \n",
    "    def setNext(self,next):\n",
    "        self.next = next\n",
    "     \n",
    "    #get the next field of the node    \n",
    "    def getNext(self):\n",
    "        return self.next\n"
   ]
  },
  {
   "cell_type": "code",
   "execution_count": null,
   "metadata": {},
   "outputs": [],
   "source": [
    "# %load script/ch10/linked_list_import.py\n",
    "#filename:linked_list_import.py\n",
    "#function: Singly Linked List function\n",
    "#we should create the node of a Singly Linked List, node class isimported from node module\n",
    "#We use the import way like from random import randint \n",
    "\n",
    "#import random \n",
    "from random import randint\n",
    "import Node\n",
    " \n",
    "#Linkedlist class\n",
    "class LinkedList(Node.Node):    \n",
    "    def __init__(self):\n",
    "        self.head = None\n",
    "        self.length = 0\n",
    "     \n",
    "    #set head of Linked List\n",
    "    def setHead(self,head):\n",
    "        self.head = head                \n",
    "     \n",
    "    def insertHead(self,data,sal):\n",
    "        newNode = Node.Node()\n",
    "        newNode.setData(data,sal)\n",
    "       \n",
    "        if self.length == 0:\n",
    "            self.head = newNode\n",
    "        else:\n",
    "            newNode.setNext(self.head)\n",
    "            self.head = newNode\n",
    "        self.length += 1\n",
    "     \n",
    "    #insert a new node at the end   \n",
    "    def insertTail(self,data,sal):\n",
    "        newNode = Node.Node()\n",
    "        newNode.setData(data,sal)\n",
    "               \n",
    "        current = self.head\n",
    "        while current.getNext() != None:\n",
    "            current = current.getNext()\n",
    "             \n",
    "        current.setNext(newNode)\n",
    "        self.length += 1\n",
    "     \n",
    "                  \n",
    "    #print the linked list of employee data\n",
    "    def printList(self):\n",
    "        current = self.head\n",
    "        print(\"\\n****print linked list****\")\n",
    "        print(\"Employee no      Salary\")\n",
    "        print(\"-----------------------\")\n",
    "        while current != None:\n",
    "            print(\"\\n\\t%4s \\t %6d\"%current.getData(),end=' ')\n",
    "            current = current.getNext() \n",
    "        print(\"\\n-----------------------\")\n",
    "        \n",
    "if __name__ == \"__main__\":\n",
    "    linkedl = LinkedList()\n",
    "\n",
    "try:\n",
    "    employee_no=randint(0,300)\n",
    "    print(employee_no)\n",
    "    linkedl.insertHead(employee_no,80000)\n",
    "    employee_no=randint(0,300)\n",
    "    print(employee_no)\n",
    "    linkedl.insertTail(employee_no,80000)\n",
    "    employee_no=randint(0,300)\n",
    "    print(employee_no) \n",
    "    linkedl.insertTail(employee_no,80000) \n",
    "    linkedl.printList()\n",
    "except ImportError:\n",
    "    import sys\n",
    "    sys.exit()\n",
    "else:\n",
    "    print(\"\\n\\nprogram run normally, excellent\")\n",
    "finally:\n",
    "    print(\"program finally\")\n",
    "\n",
    "\n",
    "    \n"
   ]
  },
  {
   "cell_type": "code",
   "execution_count": 10,
   "metadata": {
    "collapsed": true
   },
   "outputs": [],
   "source": [
    "import os"
   ]
  },
  {
   "cell_type": "code",
   "execution_count": 11,
   "metadata": {
    "collapsed": true
   },
   "outputs": [],
   "source": [
    "os.chdir('./script/ch10')"
   ]
  },
  {
   "cell_type": "code",
   "execution_count": 12,
   "metadata": {},
   "outputs": [
    {
     "name": "stdout",
     "output_type": "stream",
     "text": [
      "79\n",
      "11\n",
      "290\n",
      "\n",
      "****print linked list****\n",
      "Employee no      Salary\n",
      "-----------------------\n",
      "\n",
      "\t  79 \t  80000 \n",
      "\t  11 \t  80000 \n",
      "\t 290 \t  80000 \n",
      "-----------------------\n",
      "\n",
      "\n",
      "program run normally, excellent\n",
      "program finally\n"
     ]
    }
   ],
   "source": [
    "%run linked_list_import.py"
   ]
  },
  {
   "cell_type": "code",
   "execution_count": 13,
   "metadata": {
    "collapsed": true
   },
   "outputs": [],
   "source": [
    "os.chdir('../../')"
   ]
  },
  {
   "cell_type": "code",
   "execution_count": null,
   "metadata": {
    "collapsed": true
   },
   "outputs": [],
   "source": [
    "# %load script/ch10/module_example.py\n",
    "\n",
    "#Filename: module_example.py\n",
    "#function: define function and variables\n",
    "\n",
    "salesweight = 10\n",
    "YYMMDD = 20160221\n",
    "print(\"--->>>>module_example.py is executing, The  prgram module is %s\"%__name__)\n",
    "\n",
    "# define some functions\n",
    "def print_start():\n",
    "    print (\"The fruit is ok for 2016 sale\")    \n",
    "   \n",
    "class Fruit:\n",
    "    def __init__(self):\n",
    "        \n",
    "        self.type = input(\"What type of fruit? \")\n",
    "        self.weight = int(input(\"What weight (in g)? \"))\n",
    "        self.price = input(\"How much per g ? \")\n",
    "        self.when = input(\"When the fruit will output from Hwanen? \")  \n",
    "       \n",
    "   \n",
    "    def printdata(self):\n",
    "        print (\"\\nthis year fruit is about \" + str(self.weight) + \" g\",)\n",
    "        print (self.type, \"fruit \", \"MMDD:\" +self.when, \" costing/g is:\" + self.price + \" NTD.\")\n",
    "\n",
    "\n"
   ]
  },
  {
   "cell_type": "code",
   "execution_count": null,
   "metadata": {
    "collapsed": true
   },
   "outputs": [],
   "source": [
    "# %load script/ch10/main.py\n",
    "\n",
    "#filename: main.py\n",
    "#function: import module\n",
    "#USING AN IMPORTED MODULE, sytax format is modulename.itemname\n",
    "#usage :  modulename.function_name()\n",
    "#usage :  modulename.variable\n",
    "\n",
    "import module_example\n",
    "year_weight=0\n",
    "\n",
    "print(\"Main .py execution ,The  prgram module is %s\"%__name__)\n",
    "\n",
    "print (module_example.print_start())\n",
    "print (\"fruit ouput on :\",module_example.YYMMDD)\n",
    "\n",
    "\n",
    "print(\"class init\")\n",
    "try:\n",
    "   CSAfruit = module_example.Fruit()\n",
    "   module_example.salesweight = CSAfruit.weight\n",
    "   year_weight+= CSAfruit.weight\n",
    "   CSAfruit.printdata()\n",
    "except ImportError as e:\n",
    "   print(\"something wrong\",str(e))\n",
    "\n",
    "print(\"year sale weight=\",year_weight)\n",
    "\n",
    "if __name__ == \"__main__\":\n",
    "    print(\"The main prgram is %s\"%__name__)\n"
   ]
  },
  {
   "cell_type": "markdown",
   "metadata": {},
   "source": [
    "### 10.1.3 模組內包含的名稱"
   ]
  },
  {
   "cell_type": "code",
   "execution_count": null,
   "metadata": {
    "collapsed": true
   },
   "outputs": [],
   "source": [
    "# %load script/ch10/fibo.py\n",
    "#filename:fibo.py\n",
    "#function:Fibo module will be used by using import modulename in Python\n",
    "#return Fibonacci series based on the Top value n\n",
    "\n",
    "def fib(n): \n",
    "    fibresult = []\n",
    "    a, b = 0, 1\n",
    "    while b < n:\n",
    "        fibresult.append(b)\n",
    "        a, b = b, a+b\n",
    "    return fibresult\n",
    "\n",
    "def gcd(m,n):\n",
    "    while n:\n",
    "        m,n = n,m%n\n",
    "    return m\n"
   ]
  },
  {
   "cell_type": "code",
   "execution_count": null,
   "metadata": {},
   "outputs": [],
   "source": [
    "# %load script/ch10/main_prog_module.py\n",
    "#filename:main_prog_module.py\n",
    "#funcion : main program for integration project\n",
    "#format: import Modulename1,Modulename2,......\n",
    "#usage : modulename.function\n",
    "#        modulename.variable\n",
    "#import fibo \n",
    "\n",
    "import fibo\n",
    "para=int(input(\"please keyin the top number for fibo:\"))\n",
    "result=fibo.fib(para)\n",
    "print(\"\\nfibo value after use the module function=\",result)\n",
    "\n",
    "\n",
    "a=int(input(\"\\nplease input the GCD parameter a: \"))\n",
    "b=int(input(\"please input the GCD parameter b: \"))\n",
    "result=fibo.gcd(a,b)\n",
    "print(\"\\nGCD value after use the module function=\",result)\n",
    "\n",
    "#The built-in function dir() is used to find out which names a module defines\n",
    "print(\"\\n\\nwhich Names a module of Fibo defines are:\\n \",dir(fibo))\n",
    "\n",
    "#import sys\n",
    "#print(\"\\nsys\",dir(sys))\n",
    "\n"
   ]
  },
  {
   "cell_type": "markdown",
   "metadata": {},
   "source": [
    "## 10.2 匯入模組如何搜尋路徑"
   ]
  },
  {
   "cell_type": "code",
   "execution_count": null,
   "metadata": {
    "collapsed": true
   },
   "outputs": [],
   "source": [
    "# %load script/ch10/Python_sys_path.py\n",
    "#python sys_path.py\n",
    "#function :import something\n",
    "#format: import modulename1, modulename2,......\n",
    "#dir() is used to list names a module_names.\n",
    "#dir() will return a sorted list of module name,  dir() not list the names of built-in functions and variables.\n",
    "#dir(object) is built-in function, if the object is module name, it will return the names of module\n",
    "#dir(__builtins__),If you want those, they are defined in the module __builtins__\n",
    "\n",
    "\n",
    "import sys\n",
    "print(\"\\n Path serach :\\n\")\n",
    "for searchpath in sys.path:\n",
    " print (searchpath,\" \")\n",
    "\n",
    "print(\"\\n Append system path:\\n\")\n",
    "newpath='d:/c++/'\n",
    "sys.path.append(newpath)\n",
    "for searchpath in sys.path:\n",
    " print (searchpath,\" \")\n",
    " \n",
    "print(\"\\n***dir****\\n\",dir())\n",
    "print(\"\\n***dir sys ****\\n\",dir(sys))\n",
    "\n",
    "#print(\"\\n****Builtin****\\n\",dir(__builtins__))\n",
    "\n"
   ]
  },
  {
   "cell_type": "markdown",
   "metadata": {},
   "source": [
    "## 10.3 重載入模組"
   ]
  },
  {
   "cell_type": "markdown",
   "metadata": {},
   "source": [
    "### 10.3.1 那些模組已匯入"
   ]
  },
  {
   "cell_type": "code",
   "execution_count": null,
   "metadata": {
    "collapsed": true
   },
   "outputs": [],
   "source": [
    "# %load script/ch10/sys_module.py\n",
    "#filename:sys_modudle.py (in chap10)\n",
    "#function: using the sys.modules to know which modules have beed loaded\n",
    "\n",
    "import sys\n",
    "import fibo\n",
    "print(\"***The following modules are impoerted:\\n\")\n",
    "\n",
    "print(sys.modules)\n",
    "\n",
    "#print(\"\\n Module names are\\n\")\n",
    "select=input(\"\\nwhich module name you want to find:\")\n",
    "\n",
    "for module_name in sys.modules:\n",
    "    if module_name== select:\n",
    "        print(\"*****MODULE name %s is loaded=\"%module_name)\n",
    "\n",
    "\n",
    "if fibo in sys.modules:\n",
    "    print(\"@@@@@ Fibo is loaded @@@@\")\n",
    "\n",
    "print(\"***How many modules are loaded:\\n\")\n",
    "print(len(sys.modules))\n",
    "print(\"\\nsystem verion is :\",sys.version)\n",
    "print(\"\\nsystem platform is:\",sys.platform)\n",
    "      \n"
   ]
  },
  {
   "cell_type": "markdown",
   "metadata": {},
   "source": [
    "### 10.3.2 重匯入模組"
   ]
  },
  {
   "cell_type": "code",
   "execution_count": null,
   "metadata": {
    "collapsed": true
   },
   "outputs": [],
   "source": [
    "# %load script/ch10/file_stat_current_date.py\n",
    "#filename:file_stat_current_date.py(in chap 10)\n",
    "#function: file modified time \n",
    "\n",
    "import os\n",
    "import time\n",
    "stat_info=[]\n",
    "\n",
    "filename = 'd:\\\\book\\\\chap10\\\\sys_module.py'\n",
    "stat_info = os.stat(filename)\n",
    "print( '\\n%s file''s Modified time is %s:'%(filename,time.ctime(stat_info.st_mtime)))\n",
    "Mod_time=stat_info.st_mtime\n",
    "print (\"Modification time:\",Mod_time)\n",
    "\n",
    "#import time\n",
    "import datetime\n",
    "now_time=time.time()\n",
    "print (\"Current Date time is: %s\" %time.time())\n",
    "\n",
    "if Mod_time> now_time:\n",
    "    print(\"the new file for test\")\n",
    "else:\n",
    "    print(\"not new modified file\")\n",
    "\n"
   ]
  },
  {
   "cell_type": "code",
   "execution_count": null,
   "metadata": {
    "collapsed": true
   },
   "outputs": [],
   "source": [
    "# %load script/ch10/sensor_hub.py\n",
    "#filename:sensor_hub.py\n",
    "#function:The module name is sensor_hub for import by main program\n",
    "#The module name will not include .py for main program\n",
    "#This program is for whom want to involve in the IOT field. it is only reference\n",
    "sensor_degree=[37,38,39]\n",
    "sec=10\n",
    "previous_degree=0\n",
    "\n",
    "def sum_data(a,b):\n",
    "    print( \"\\nadding the data from data \",a,b)\n",
    "    return ((a+b)/2)\n",
    "\n",
    "\n"
   ]
  },
  {
   "cell_type": "code",
   "execution_count": null,
   "metadata": {
    "collapsed": true
   },
   "outputs": [],
   "source": [
    "# %load script/ch10/reload_mod.py\n",
    "#filename:reload_mod.py\n",
    "#function:using the format reload(sys.modules['module'])\n",
    "#import the module of sensor hub data and function, the module name is sensor_hub\n",
    "\n",
    "\n",
    "from importlib import reload\n",
    "import sys\n",
    "import sensor_hub\n",
    "import time\n",
    "#from time import sleep\n",
    "\n",
    "t_mod=input(\"sensor hub module:\")\n",
    "\n",
    "alreadymodule = sorted(sys.modules.keys())\n",
    "#print(\"\\n Alreadymodule :\", alreadymodule)\n",
    "\n",
    "if t_mod in alreadymodule:\n",
    "    print(\"module %s is in the already imported list\"%t_mod)\n",
    "    reload(sys.modules[t_mod])\n",
    "    while True:\n",
    "        print(\"\\nThe rule of data has been changed to \",sensor_hub.sec)\n",
    "        print(sensor_hub.sensor_degree)\n",
    "        current_degree=int(input(\"pls input the current degree:\"))\n",
    "        test=sensor_hub.sum_data(current_degree,sensor_hub.previous_degree)\n",
    "        print(\"\\n test degree is :\",test)\n",
    "        print(\"\\n waiting \")\n",
    "        time.sleep(sensor_hub.sec)\n",
    "        sensor_hub.previous_degree=current_degree\n",
    "        if int(test) in sensor_hub.sensor_degree:\n",
    "              print(\"\\nWaring message using 3g phone to administrator\")\n",
    "              break\n",
    "        else:\n",
    "            continue\n",
    "else:\n",
    "    print(\"module not imported before\")\n"
   ]
  },
  {
   "cell_type": "markdown",
   "metadata": {},
   "source": [
    "# 10.4 套件"
   ]
  },
  {
   "cell_type": "code",
   "execution_count": 27,
   "metadata": {},
   "outputs": [
    {
     "data": {
      "text/plain": [
       "'I:\\\\GITHUB\\\\GH_AaronCHH\\\\B_PYTHON\\\\Python程式設計實用經典\\\\SF_PClassic'"
      ]
     },
     "execution_count": 27,
     "metadata": {},
     "output_type": "execute_result"
    }
   ],
   "source": [
    "os.getcwd()"
   ]
  },
  {
   "cell_type": "code",
   "execution_count": null,
   "metadata": {},
   "outputs": [],
   "source": [
    "# %load Gateway/test_gw.py\n",
    "#filename:test_gw.py(in chap10)\n",
    "#function: test the package function \n",
    "\n",
    "from Gateway import sensor_node \n",
    "from Gateway import GW_node\n",
    "testsensor=sensors()\n",
    "testsensor.printnode()\n",
    "testGW=GW()\n",
    "testGW.printGW()\n"
   ]
  },
  {
   "cell_type": "markdown",
   "metadata": {},
   "source": [
    "## 10.5 習題"
   ]
  },
  {
   "cell_type": "code",
   "execution_count": null,
   "metadata": {
    "collapsed": true
   },
   "outputs": [],
   "source": [
    "# %load script/ch10/exam10-1.py\n",
    "#filename:chap10_ex1_reload_mod.py\n",
    "#function:using the format reload(sys.modules['module'])\n",
    "#import the module of sensor hub data and function, the module name is sensor_hub\n",
    "\n",
    "\n",
    "from importlib import reload\n",
    "import sys\n",
    "import sensor_hub\n",
    "import time\n",
    "#from time import sleep\n",
    "\n",
    "t_mod=input(\"sensor hub module:\")\n",
    "\n",
    "alreadymodule = sorted(sys.modules.keys())\n",
    "#print(\"\\n Alreadymodule :\", alreadymodule)\n",
    "\n",
    "if t_mod in alreadymodule:\n",
    "    print(\"module %s is in the already imported list\"%t_mod)\n",
    "    reload(sys.modules[t_mod])\n",
    "    while True:\n",
    "        print(\"\\nThe rule of data has been changed to \",sensor_hub.sec)\n",
    "        print(sensor_hub.sensor_degree)\n",
    "        current_degree=int(input(\"pls input the current degree:\"))\n",
    "        test=sensor_hub.sum_data(current_degree,sensor_hub.previous_degree)\n",
    "        print(\"\\n test degree is :\",test)\n",
    "        print(\"\\n waiting \")\n",
    "        time.sleep(sensor_hub.sec)\n",
    "        sensor_hub.previous_degree=current_degree\n",
    "        if test in sensor_hub.sensor_degree:\n",
    "              print(\"\\nWaring message using 3g phone to administrator\")\n",
    "              break\n",
    "        else:\n",
    "            continue\n",
    "else:\n",
    "    print(\"module not imported before\")\n"
   ]
  },
  {
   "cell_type": "code",
   "execution_count": null,
   "metadata": {
    "collapsed": true
   },
   "outputs": [],
   "source": [
    "# %load script/ch10/exam10-2.py\n",
    "#filenme:chap10_ex2_date.py\n",
    "#funtion:Get cunrrent Date\n",
    "\n",
    "import datetime\n",
    "date_time = datetime.datetime.now()\n",
    " \n",
    "\n",
    "print (\"DD/MM/YY  =  %s/%s/%s\" % (date_time.day, date_time.month, date_time.year) )\n",
    "print (\"hh:mm:ss = %s:%s:%s\" % (date_time.hour, date_time.month, date_time.second) )\n",
    "\n",
    "\n"
   ]
  },
  {
   "cell_type": "code",
   "execution_count": null,
   "metadata": {
    "collapsed": true
   },
   "outputs": [],
   "source": [
    "# %load script/ch10/exam10-3.py\n",
    "#filename:chap10_ex3_reload_mod.py\n",
    "#function:using the format reload(sys.modules['module'])\n",
    "#import the module of sensor hub data and function, the module name is sensor_hub\n",
    "\n",
    "\n",
    "from importlib import reload\n",
    "import sys\n",
    "import sensor_hub\n",
    "import time\n",
    "#from time import sleep\n",
    "\n",
    "t_mod=input(\"sensor hub module:\")\n",
    "\n",
    "alreadymodule = sorted(sys.modules.keys())\n",
    "\n",
    "if t_mod in alreadymodule:\n",
    "    print(\"module %s is in the already imported list\"%t_mod)\n",
    "    reload(sys.modules[t_mod])\n",
    "    while True:\n",
    "        print(\"\\nThe rule of data has been changed to \",sensor_hub.sec)\n",
    "        print(sensor_hub.sensor_degree)\n",
    "        current_degree=int(input(\"pls input the current degree:\"))\n",
    "        test=sensor_hub.sum_data(current_degree,sensor_hub.previous_degree)\n",
    "        print(\"\\n test degree is :\",test)\n",
    "        print(\"\\n waiting \")\n",
    "\n",
    "        starttime = time.time()\n",
    "        for i in range(100000):\n",
    "             endtime = time.time()\n",
    "        print (endtime - starttime)\n",
    "        time.sleep(endtime-starttime)\n",
    "#        time.sleep(sensor_hub.sec)\n",
    "        sensor_hub.previous_degree=current_degree\n",
    "        if int(test) in sensor_hub.sensor_degree:\n",
    "              print(\"\\nWaring message using 3g phone to administrator\")\n",
    "              break\n",
    "        else:\n",
    "            continue\n",
    "else:\n",
    "    print(\"module not imported before\")\n"
   ]
  },
  {
   "cell_type": "code",
   "execution_count": null,
   "metadata": {
    "collapsed": true
   },
   "outputs": [],
   "source": []
  }
 ],
 "metadata": {
  "kernelspec": {
   "display_name": "Python 3",
   "language": "python",
   "name": "python3"
  },
  "language_info": {
   "codemirror_mode": {
    "name": "ipython",
    "version": 3
   },
   "file_extension": ".py",
   "mimetype": "text/x-python",
   "name": "python",
   "nbconvert_exporter": "python",
   "pygments_lexer": "ipython3",
   "version": "3.6.3"
  }
 },
 "nbformat": 4,
 "nbformat_minor": 2
}
