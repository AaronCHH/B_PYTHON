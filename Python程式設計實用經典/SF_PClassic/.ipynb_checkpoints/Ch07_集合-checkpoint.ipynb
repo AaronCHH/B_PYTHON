{
 "cells": [
  {
   "cell_type": "code",
   "execution_count": 1,
   "metadata": {},
   "outputs": [
    {
     "name": "stdout",
     "output_type": "stream",
     "text": [
      "<module 'ntpath' from 'C:\\\\Anaconda36\\\\lib\\\\ntpath.py'>\n",
      "I:\\BOOKS\\PYTHON\\__GITHUBBED\\Python程式設計實用經典\\SF_PClassic\n"
     ]
    }
   ],
   "source": [
    "import os, sys\n",
    "print(os.path)\n",
    "print(os.getcwd())"
   ]
  },
  {
   "cell_type": "code",
   "execution_count": null,
   "metadata": {},
   "outputs": [],
   "source": [
    "flist = !dir ch7 /b \n",
    "[print(\"%load \" + \"ch7\" + \"/\" + f) for f in flist if f[-2:]==\"py\"]"
   ]
  },
  {
   "cell_type": "code",
   "execution_count": null,
   "metadata": {
    "collapsed": true
   },
   "outputs": [],
   "source": []
  },
  {
   "cell_type": "markdown",
   "metadata": {},
   "source": [
    "<div id=\"toc\"></div>"
   ]
  },
  {
   "cell_type": "markdown",
   "metadata": {},
   "source": [
    "## 7.1 集合建立"
   ]
  },
  {
   "cell_type": "markdown",
   "metadata": {},
   "source": [
    "### 7.1.1 利用set()建立集合"
   ]
  },
  {
   "cell_type": "code",
   "execution_count": null,
   "metadata": {
    "collapsed": true
   },
   "outputs": [],
   "source": [
    "# %load ch7/create_set.py\n",
    "\n",
    "#filename:cteat_set.py\n",
    "#function:create set and add the temperature using add method\n",
    "#get the temperature from the sensor and add to set\n",
    "\n",
    "import sys\n",
    "\n",
    "    \n",
    "temper_sensor=set()\n",
    "temper_sensor.add(38)\n",
    "temper_sensor.add(36)\n",
    "print(\"temper_sensor=\",temper_sensor)\n",
    "\n",
    "IOT_temp_area2_in_TPE = {28, 31,30,32, 39, 37.5, 38}\n",
    "\n",
    "# Union the sets from two Sets data\n",
    "IOT_set_TPE = temper_sensor.union(IOT_temp_area2_in_TPE)\n",
    "print(IOT_set_TPE)\n",
    "\n",
    "abnormal_set = {k for k in IOT_set_TPE  if k > 37.5}\n",
    "print(\"abnormal data  after anlyzing the IOT data about the temperature =\",abnormal_set)\n",
    "\n",
    "\n",
    "\n",
    "isempty = len(abnormal_set)      # Test for emptiness\n",
    "if isempty ==0 :\n",
    "    print(\"no abnormal case\")\n",
    "    sys.exit()\n",
    "else:\n",
    "    print(\"we should try to exceute some detailed analysis\")\n",
    "    pass\n",
    "#   pass_2_cloud(\"google.ocm\",12,\"POST\")\n",
    "\n",
    "    \n",
    "\n",
    "#evaluate the Set data for IOT category\n",
    "IOT_category={\"Car\",\"stores\",\"agriculture\",\"fish\",\"medical\"}\n",
    "print(\"iot category =\",IOT_category)\n",
    "\n",
    "\n"
   ]
  },
  {
   "cell_type": "code",
   "execution_count": null,
   "metadata": {
    "collapsed": true
   },
   "outputs": [],
   "source": []
  },
  {
   "cell_type": "markdown",
   "metadata": {},
   "source": [
    "### 7.1.2 利用{}建立集合"
   ]
  },
  {
   "cell_type": "code",
   "execution_count": null,
   "metadata": {
    "collapsed": true
   },
   "outputs": [],
   "source": [
    "# %load ch7/set_create.py\n",
    "#filename:set_create.py\n",
    "#filename: using name={\"data1\",\"data2\".....} to cretae the Set\n",
    "\n",
    "# Create a set.\n",
    "members = {\"Johnny\", \"CC Tsai\", \"Johnny\", \"John\", \"Edward\"}\n",
    "Top_ceo = {\"Stan\",\"Johnny\",\"CC\",\"Simon\",\"John\"}\n",
    "\n",
    "print(members)\n",
    "print(\"Member length is \",len(members))\n",
    "\n",
    "# Search members from the set using keyword in.\n",
    "print(\"Please key in the Name you want to search\")\n",
    "search_member=input()\n",
    "if search_member in members:\n",
    "    print(search_member,\"  found in the member set\")\n",
    "else:\n",
    "    print(search_member,\"  not found in the member set\")\n",
    "\n",
    "#Search members from the set using keyword not-in.\n",
    "print(\"Please key in the Name you want to Add\")    \n",
    "search_member=input()\n",
    "    \n",
    "if search_member  not in members:\n",
    "    print(search_member,\"  not found in the member set\")\n",
    "    members.add(search_member)\n",
    "\n",
    "print(members)\n",
    "print(\"Member length is \",len(members))\n"
   ]
  },
  {
   "cell_type": "markdown",
   "metadata": {},
   "source": [
    "### 7.1.3 用串列建立集合"
   ]
  },
  {
   "cell_type": "code",
   "execution_count": 9,
   "metadata": {},
   "outputs": [
    {
     "name": "stdout",
     "output_type": "stream",
     "text": [
      "pool1 temperature is: {22, 23, 24, 25, 27}\n",
      "pool2 temperature is: {23, 24, 25, 29, 30}\n"
     ]
    }
   ],
   "source": [
    "# %load ch7/set_from_list.py\n",
    "#filename:set_from_list.py\n",
    "#functio:set creation\n",
    "#the set will ignore the duplicate item of list \n",
    "\n",
    "#set using list and ingone the duplicate item for data analysis\n",
    "temp_water_pool1 = set([23, 24, 23,22,25,27])\n",
    "temp_water_pool2 = set([30, 25, 23,24, 29,30])\n",
    "\n",
    "print(\"pool1 temperature is:\", temp_water_pool1)\n",
    "print(\"pool2 temperature is:\", temp_water_pool2)\n",
    "\n"
   ]
  },
  {
   "cell_type": "markdown",
   "metadata": {},
   "source": [
    "## 7.2 集合內容修改"
   ]
  },
  {
   "cell_type": "markdown",
   "metadata": {},
   "source": [
    "### 7.2.1 集合內元素填加"
   ]
  },
  {
   "cell_type": "code",
   "execution_count": null,
   "metadata": {
    "collapsed": true
   },
   "outputs": [],
   "source": [
    "# %load ch7/update.py\n",
    "#filename:update.py\n",
    "\n",
    "Year_end_set = {11,13}\n",
    "#>>> my_set[0]\n",
    "#TypeError: 'set' object does not support indexing\n",
    "Year_end_set.add(22)\n",
    "print(Year_end_set)\n",
    "\n",
    "RD=[22,14,13]\n",
    "Year_end_set.update(RD)\n",
    "print(Year_end_set)\n",
    "\n",
    "SW=[14,25]\n",
    "Sales={11,16,18}\n",
    "Year_end_set.update(SW, Sales)\n",
    "#Year_end_set.update([14,25], {11,16,18})\n",
    "print(Year_end_set)\n",
    "\n",
    "\n",
    "Stringset = set('Mary')\n",
    "print(Stringset)\n",
    "Stringset.update('python')\n",
    "print( Stringset)\n",
    "\n",
    "Stringset.update([3,5], {1,9,8})\n",
    "print( Stringset)\n",
    "Stringset.add('Everybody Love')\n",
    "print( Stringset)\n"
   ]
  },
  {
   "cell_type": "markdown",
   "metadata": {},
   "source": [
    "### 7.2.2 集合內元素的刪除"
   ]
  },
  {
   "cell_type": "code",
   "execution_count": null,
   "metadata": {
    "collapsed": true
   },
   "outputs": [],
   "source": [
    "# %load ch7/remove.py\n",
    "#filename:remove.py\n",
    "#function:remove and discard method, which are used to delete the element of set\n",
    "\n",
    "Spring_EE_CS_course = {3101,3106,3210}\n",
    "\n",
    "Database=[5101,5106]\n",
    "Spring_EE_CS_course.update(Database)\n",
    "print(Spring_EE_CS_course)\n",
    "if len(Spring_EE_CS_course) >4:\n",
    "    print(\"\\ntoo many course for one semester\")\n",
    "    print(\"please remove one course\")\n",
    "    print(\"your courses are\", Spring_EE_CS_course)\n",
    "    print(\"please keyin one course from your current course\")\n",
    "    dis_course=int(input())\n",
    "    Spring_EE_CS_course.discard(dis_course)\n",
    "    \n",
    "print(Spring_EE_CS_course)    \n",
    "\n",
    "PHD=set(['IOT IPV6', 'VLSI', 'Business strategy', 'WSN'])\n",
    "PHD.remove('IOT')\n",
    "print(PHD)\n",
    "\n",
    "\n"
   ]
  },
  {
   "cell_type": "code",
   "execution_count": null,
   "metadata": {
    "collapsed": true
   },
   "outputs": [],
   "source": [
    "# %load ch7/remove_except.py\n",
    "#filename:remove_except.py\n",
    "\n",
    "Allien= set(range(20))\n",
    "OIC = set(range(1,5))\n",
    "print(\"Allien set=\",Allien)\n",
    "print(\"OIC set=\",OIC)\n",
    "\n",
    "Allien.discard(OIC)\n",
    "print(\"Bigger set=\",Allien)\n",
    "#try:\n",
    " Allien.remove(OIC)\n"
   ]
  },
  {
   "cell_type": "code",
   "execution_count": null,
   "metadata": {
    "collapsed": true
   },
   "outputs": [],
   "source": [
    "# %load ch7/Pop_format.py\n",
    "#filename:Pop-format.py\n",
    "#function:remove and discard method, which are used to delete the element of set\n",
    "\n",
    "Spring_EE_CS_course = {3101,3106,3210}\n",
    "original = set(Spring_EE_CS_course)\n",
    "\n",
    "Database=[5101,5106]\n",
    "Spring_EE_CS_course.update(Database)\n",
    "print(Spring_EE_CS_course)\n",
    "\n",
    "if len(Spring_EE_CS_course) >4:\n",
    "    print(\"\\ntoo many course for one semester\")\n",
    "    print(\"please remove one course\")\n",
    "#    print(\"your courses are\", Spring_EE_CS_course)\n",
    "    print(\"please keyin one course from your current course\")\n",
    "    dis_course=int(input())\n",
    "    Spring_EE_CS_course.discard(dis_course)\n",
    "    \n",
    "#print(Spring_EE_CS_course)\n",
    "\n",
    "random_choose=Spring_EE_CS_course.pop()\n",
    "print(\"random choice course is \",random_choose)\n",
    "print(\"final courses are  \",Spring_EE_CS_course)\n",
    "\n",
    "print(\"I choose original course {0} and finally are {1} \".format(original,Spring_EE_CS_course))\n",
    "\n",
    "Spring_EE_CS_course.clear()\n",
    "print(\"\\n after clear() is executed the set is  \",Spring_EE_CS_course)\n",
    "random_choose=Spring_EE_CS_course.pop()\n",
    "\n",
    "#PHD course set \n",
    "PHD=set(['IOT IPV6', 'VLSI', 'Business strategy', 'WSN'])\n",
    "print(\"PHD cousre is  \",PHD)\n",
    "\n",
    "#use try except\n",
    "#to avoid the program execution is stopped because of the KeyError\n",
    "try:\n",
    "   PHD.remove('IOT') \n",
    "except KeyError:\n",
    "   print (\"No IOT to remove\")\n",
    "\n",
    "\n",
    "\n",
    "\n"
   ]
  },
  {
   "cell_type": "markdown",
   "metadata": {},
   "source": [
    "## 7.3 集合運算方法"
   ]
  },
  {
   "cell_type": "code",
   "execution_count": null,
   "metadata": {
    "collapsed": true
   },
   "outputs": [],
   "source": [
    "# %load ch7/set_op.py\n",
    "#filename:set_op.py\n",
    "#functio:set operation \n",
    "\n",
    "#union is to merge two sets. \n",
    "s_Japan = set([34, 37, 38,37.5])\n",
    "s_Usa = set([36, 37, 40,37.5])\n",
    "s_union=s_Japan.union(s_Usa)\n",
    "print(s_union)\n",
    "\n",
    "#update adds a group of elements to a set.\n",
    "s_union.update([39, 41, 42, 39.5])\n",
    "print(\"s_union after update from other area=\",s_union)\n",
    "\n",
    "\n",
    "#big data anlysis\n",
    "s_TPE = set([39, 36.5, 37, 37.5])\n",
    "s_KS = set([37.5, 37, 39, 40])\n",
    "s_TN = set([37, 39, 40, 37.5])\n",
    "print(\"the common data =\",set.intersection(s_TPE, s_KS, s_TN))\n",
    "\n",
    "\n",
    "MBA10 = set([\"Jake\", \"Johnny\", \"John\"])\n",
    "MBA11 = set([\"Edward\", \"Mary\", \"John\"])\n",
    "print( MBA10.difference(MBA11))\n",
    "#set(['Jake', 'Eric'])\n",
    "print(MBA11.difference(MBA10))\n",
    "\n",
    "\n",
    "\n",
    "\n",
    "\n",
    "\n",
    "\n"
   ]
  },
  {
   "cell_type": "markdown",
   "metadata": {},
   "source": [
    "## 7.4 集合理解式"
   ]
  },
  {
   "cell_type": "code",
   "execution_count": null,
   "metadata": {
    "collapsed": true
   },
   "outputs": [],
   "source": [
    "# %load ch7/set_comp.py\n",
    "#filename: set_comp.py\n",
    "#function : set comprehension\n",
    "\n",
    "print(\"please keyin the choice from YyNnEe\")\n",
    "rawdata=input()\n",
    "#a = {x for x in 'abracadabra' if x not in 'abc'}\n",
    "a = {k for k in rawdata  if k not in 'YyNnEe'}\n",
    "print(\"the final data after set comprehension =\",a)\n",
    "\n",
    "#create a set first and use the set comprehension \n",
    "Keylist ={\"John\",\"Edward\",\"Johnny\", \"Steve\",\"CT\"}\n",
    "Finalkeylist={item for item in Keylist if item is not \"Johnny\"}\n",
    "print(\"final ketlist =\",Finalkeylist)\n",
    "\n",
    "      \n"
   ]
  },
  {
   "cell_type": "code",
   "execution_count": null,
   "metadata": {
    "collapsed": true
   },
   "outputs": [],
   "source": [
    "# %load ch7/set_comp_example.py\n",
    "#filename: set_comp_example.py\n",
    "#function : set comprehension\n",
    "\n",
    "\n",
    "#create a set first and use the set comprehension \n",
    "TN_setlist ={40,39,40,38,39,37,39}\n",
    "TN_Finalsetlist={item for item in TN_setlist if item >=39 }\n",
    "print(\"Tainan final setlist =\",TN_Finalsetlist)      \n",
    "\n",
    "KS_setlist ={38,41,40,39,40,40,39}\n",
    "KS_Finalsetlist={item for item in KS_setlist if item >=39 }\n",
    "print(\"Kaoshung final setlist =\",KS_Finalsetlist)\n",
    "\n",
    "\n",
    "Total_Finalsetlist=TN_Finalsetlist.union(KS_Finalsetlist)\n",
    "print(\"Total final setlist =\",Total_Finalsetlist)\n",
    "\n",
    "\n"
   ]
  },
  {
   "cell_type": "markdown",
   "metadata": {},
   "source": [
    "## 7.5 不可變的集合"
   ]
  },
  {
   "cell_type": "code",
   "execution_count": null,
   "metadata": {
    "collapsed": true
   },
   "outputs": [],
   "source": [
    "# %load ch7/frozened.py\n",
    "#filename:frozened.py\n",
    "#function: frozenset\n",
    "#Frozenset. frozenset is an immutable set. We CANNOT add or remove elements.\n",
    "#it cannot be changed, it can be used as a dictionary key\n",
    "# initialize a frozenset with the built-in frozenset() function\n",
    "\n",
    "keys = [\"Johnny\"]\n",
    "\n",
    "# Create Set using frozenset\n",
    "fset = frozenset(keys)\n",
    "print(fset)\n",
    "\n",
    "#try to add the Key to Frozened set, but CANNNOT add key in the Frozenset\n",
    "try:\n",
    "    print(\"Key in the new key to Frozened\")\n",
    "    Newkey=input()\n",
    "    fset.add(Newkey)\n",
    "except AttributeError:\n",
    "    print(\"Cannot add\")\n",
    "    \n",
    "    \n",
    "# use frozenset as a key to dictionary.\n",
    "diction = {}\n",
    "diction[fset] = 12\n",
    "print(diction)\n",
    "\n",
    "# Dctionary contains key-value pairs.\n",
    "dictionary = {\"Johnny\": 12, \"John\": 25, \"Ted\": 3}\n",
    "print(\"Dictionary=\",dictionary)\n",
    "\n",
    "# This set contains only the dictionary's keys, not value\n",
    "keys = set(dictionary)\n",
    "print(\"Keys are=\",keys)\n",
    "\n"
   ]
  },
  {
   "cell_type": "code",
   "execution_count": null,
   "metadata": {
    "collapsed": true
   },
   "outputs": [],
   "source": []
  },
  {
   "cell_type": "markdown",
   "metadata": {},
   "source": [
    "## Exercise"
   ]
  },
  {
   "cell_type": "code",
   "execution_count": null,
   "metadata": {
    "collapsed": true
   },
   "outputs": [],
   "source": [
    "# %load ch7/exam7-1.py\n",
    "\n",
    "#filename:Chap_ex_1.py\n",
    "\n",
    "#create system administrators set\n",
    "administrator = {'Steven','Bob'}  \n",
    "users = {'Steve', 'Simon', 'Steven','Louis','Jason'}\n",
    "\n",
    "print(\" Admins  super user\")\n",
    "for user in administrator:\n",
    "     print(user)\n",
    "\n",
    "print(\" Normal user\")     \n",
    "for user in users:\n",
    "     print(user)\n",
    " \n",
    "print(\"please key in the admin user\")    \n",
    "admin_user = input()\n",
    "\n",
    "for user in administrator:\n",
    "#    print(\"user=\",user)\n",
    "    if admin_user == user:  \n",
    "        print(\"You are Admin user\", admin_user)\n",
    "        break\n",
    "\n",
    "diff =administrator.difference(users)\n",
    "print(\"difference is in Admin , but not in users set \",diff)\n",
    "\n",
    "    \n",
    "print(\"\\nAre admin and user\", administrator & users )    \n",
    "print(\"\\nAre admin or user\", administrator | users  )   \n",
    "\n",
    "print(\"\\nAre Admin but not user\",administrator - users )  \n",
    "print(\"\\nXOR for Admin , user\",administrator ^ users  )   \n",
    "\n"
   ]
  },
  {
   "cell_type": "code",
   "execution_count": null,
   "metadata": {
    "collapsed": true
   },
   "outputs": [],
   "source": [
    "# %load ch7/exam7-3.py\n",
    "#filename: Chap_ex_3.py\n",
    "\n",
    "Allien= set(range(20))\n",
    "OIC = set(range(1,5))\n",
    "print(\"Allien set=\",Allien)\n",
    "print(\"OIC set=\",OIC)\n",
    "\n",
    "Allien.discard(OIC)\n",
    "print(\"Bigger set=\",Allien)\n",
    "try:\n",
    "   Allien.remove(OIC)\n",
    "except KeyError:\n",
    "   print(\"Keyerror\") \n",
    "\n"
   ]
  },
  {
   "cell_type": "code",
   "execution_count": null,
   "metadata": {
    "collapsed": true
   },
   "outputs": [],
   "source": []
  }
 ],
 "metadata": {
  "kernelspec": {
   "display_name": "Python 3",
   "language": "python",
   "name": "python3"
  },
  "language_info": {
   "codemirror_mode": {
    "name": "ipython",
    "version": 3
   },
   "file_extension": ".py",
   "mimetype": "text/x-python",
   "name": "python",
   "nbconvert_exporter": "python",
   "pygments_lexer": "ipython3",
   "version": "3.6.3"
  }
 },
 "nbformat": 4,
 "nbformat_minor": 2
}
