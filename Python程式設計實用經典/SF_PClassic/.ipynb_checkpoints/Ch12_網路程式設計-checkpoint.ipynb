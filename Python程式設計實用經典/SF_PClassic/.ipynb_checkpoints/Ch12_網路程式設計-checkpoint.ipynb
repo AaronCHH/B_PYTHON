{
 "cells": [
  {
   "cell_type": "code",
   "execution_count": 1,
   "metadata": {},
   "outputs": [
    {
     "name": "stdout",
     "output_type": "stream",
     "text": [
      "<module 'ntpath' from 'C:\\\\Anaconda36\\\\lib\\\\ntpath.py'>\n",
      "I:\\BOOKS\\PYTHON\\__GITHUBBED\\Python程式設計實用經典\\SF_PClassic\n"
     ]
    }
   ],
   "source": [
    "import os, sys\n",
    "print(os.path)\n",
    "print(os.getcwd())"
   ]
  },
  {
   "cell_type": "code",
   "execution_count": 2,
   "metadata": {},
   "outputs": [
    {
     "name": "stdout",
     "output_type": "stream",
     "text": [
      "%load ch12/client_real.py\n",
      "%load ch12/echo_udp_server.py\n",
      "%load ch12/host_ip.py\n",
      "%load ch12/TCP_Server-12-4.py\n",
      "%load ch12/TCP_Server-12-step1.py\n",
      "%load ch12/TCP_socket_12-1.py\n",
      "%load ch12/TCP_socket_12-2.py\n",
      "%load ch12/TCP_socket_12-3.py\n",
      "%load ch12/udp_clnt.py\n",
      "%load ch12/udp_clnt_recv.py\n"
     ]
    },
    {
     "data": {
      "text/plain": [
       "[None, None, None, None, None, None, None, None, None, None]"
      ]
     },
     "execution_count": 2,
     "metadata": {},
     "output_type": "execute_result"
    }
   ],
   "source": [
    "flist = !dir ch12 /b \n",
    "[print(\"%load \" + \"ch12\" + \"/\" + f) for f in flist if f[-2:]==\"py\"]"
   ]
  },
  {
   "cell_type": "markdown",
   "metadata": {},
   "source": [
    "# CH12 網路程式設計"
   ]
  },
  {
   "cell_type": "markdown",
   "metadata": {},
   "source": [
    "<div id=\"toc\"></div>"
   ]
  },
  {
   "cell_type": "code",
   "execution_count": null,
   "metadata": {
    "collapsed": true
   },
   "outputs": [],
   "source": []
  },
  {
   "cell_type": "markdown",
   "metadata": {},
   "source": [
    "## 12.1 客戶端TCP插口"
   ]
  },
  {
   "cell_type": "code",
   "execution_count": null,
   "metadata": {
    "collapsed": true
   },
   "outputs": [],
   "source": [
    "# %load ch12/host_ip.py\n",
    "#filename:host_ip.py (in chap12)\n",
    "#funcion :convert the hostname to ip address\n",
    "\n",
    "\n",
    "#end_pymotw_header\n",
    "\n",
    "import socket\n",
    "#import search_web_name\n",
    "\n",
    "\n",
    "def show_many_host():\n",
    "    print(\"\\n Host name          ip_address\")\n",
    "    print(\"--------------------------------\")\n",
    "    for host in [ 'www.asus.com','www.python.org','hongkong','www.google.com' ]:\n",
    "        try:\n",
    "            ipaddr=socket.gethostbyname(host)\n",
    "            print ('%15s     %s' % (host, ipaddr))\n",
    "        except socket.error as msg:\n",
    "            print ('%15s     erros is %s' % (host, msg))\n",
    "\n",
    "\n",
    "def show_host_info():\n",
    "    host_name = socket.gethostname()\n",
    "    ip_address = socket.gethostbyname(host_name)\n",
    "    print (\"\\nHost name: %s\" % host_name)\n",
    "    print (\"IP address : %s\" % ip_address)\n",
    "\n",
    "if __name__ == '__main__':\n",
    "    print(\"\\nShow the host information\")\n",
    "    show_many_host()\n",
    "    show_host_info()\n"
   ]
  },
  {
   "cell_type": "code",
   "execution_count": null,
   "metadata": {
    "collapsed": true
   },
   "outputs": [],
   "source": [
    "# %load ch12/TCP_socket_12-1.py\n",
    "#filename:TCP-socket-12-1.py\n",
    "#function:create an TCP IP using AF_INET, SOCK_STREAM socket\n",
    "#AF_INET is Internet Protocol\n",
    "#SOCK_STREAM is TCP\n",
    "import socket   #for sockets\n",
    "import sys      #for exit\n",
    " \n",
    "try:\n",
    "   s = socket.socket(socket.AF_INET, socket.SOCK_STREAM)\n",
    "except socket.error as msg:\n",
    "    print (' socket created faile and Error code: ' + str(msg[0]) + ' , Error message : ' + msg[1])\n",
    "    sys.exit();\n",
    "else:\n",
    "    print(\"Socket Created sucessfully\")\n",
    "finally:\n",
    "    print(\"exit\")\n",
    "\n"
   ]
  },
  {
   "cell_type": "markdown",
   "metadata": {},
   "source": [
    "## 12.2 客戶端TCP連接伺服器"
   ]
  },
  {
   "cell_type": "code",
   "execution_count": null,
   "metadata": {
    "collapsed": true
   },
   "outputs": [],
   "source": [
    "# %load ch12/TCP_socket_12-2.py\n",
    "#filename:TCP-socket-12-2.py\n",
    "#function:create an TCP IP using AF_INET, SOCK_STREAM socket\n",
    "#AF_INET is Internet Protocol\n",
    "#SOCK_STREAM is TCP\n",
    "#connect to server: s.connect((ip , port))\n",
    "\n",
    "import socket   #for sockets\n",
    "import sys      #for exit\n",
    "\n",
    "#Step1: create the socket\n",
    "TCP_or_UDP=1\n",
    "TCPorUDP=[\"UDP\",\"TCP\"]\n",
    "\n",
    "try:\n",
    "   if TCP_or_UDP==True:\n",
    "       s = socket.socket(socket.AF_INET, socket.SOCK_STREAM)\n",
    "   else:\n",
    "       s = socket.socket(socket.AF_INET, socket.SOCK_DGRAM)\n",
    "       print(\"Using UDP\")\n",
    "except socket.error as msg:\n",
    "    print (' socket created faile and Error code: ' + str(msg[0]) + ' , Error message : ' + msg[1])\n",
    "    sys.exit();\n",
    "else:\n",
    "    print(TCPorUDP[TCP_or_UDP]+\" Socket Created sucessfully\")\n",
    "finally:\n",
    "    print(\"Finally\")\n",
    "\n",
    "#Step2: connect to the remote Server\n",
    "\n",
    "#host = 'www.oschina.net'\n",
    "host =\"www.python.com\"\n",
    "port = 80\n",
    " \n",
    "try:\n",
    "    ip = socket.gethostbyname( host )\n",
    "except socket.gaierror:\n",
    "    #could not resolve\n",
    "    print ('Hostname not found. abnormal exit')\n",
    "    sys.exit()  \n",
    "print ('Ip of '+host + ' is : ' + ip)\n",
    " \n",
    "#Connect to server\n",
    "s.connect((ip , port))\n",
    "print (TCPorUDP[TCP_or_UDP]+' Socket Connected to ' + host + ', ip addres is ' + ip)\n"
   ]
  },
  {
   "cell_type": "markdown",
   "metadata": {},
   "source": [
    "## 12.3 客戶端TCP傳送與接收資料"
   ]
  },
  {
   "cell_type": "code",
   "execution_count": null,
   "metadata": {
    "collapsed": true
   },
   "outputs": [],
   "source": [
    "# %load ch12/TCP_socket_12-3.py\n",
    "#filename:TCP-socket-12-3.py\n",
    "#function:Client to create an TCP IP using AF_INET, SOCK_STREAM socket\n",
    "#AF_INET is Internet Protocol,#SOCK_STREAM is TCP\n",
    "#connect to server: s.connect((ip , port))\n",
    "#send using    socketname.sendall(b'message')\n",
    "#receive using replydata = socketname.recv(4096)\n",
    "\n",
    "\n",
    "import socket   #for sockets\n",
    "import sys      #for exit\n",
    "\n",
    "#Step1: create the socket\n",
    "TCP_or_UDP=1\n",
    "TCPorUDP=[\"UDP\",\"TCP\"]\n",
    "\n",
    "\n",
    "try:\n",
    "   if TCP_or_UDP==True:\n",
    "       s = socket.socket(socket.AF_INET, socket.SOCK_STREAM)\n",
    "   else:\n",
    "       s = socket.socket(socket.AF_INET, socket.SOCK_DGRAM)\n",
    "       print(\"Using UDP\")\n",
    "except socket.error as msg:\n",
    "    print (' socket created faile and Error code: ' + str(msg[0]) + ' , Error message : ' + msg[1])\n",
    "    sys.exit();\n",
    "else:\n",
    "    print(TCPorUDP[TCP_or_UDP]+\" Socket Created sucessfully\")\n",
    "finally:\n",
    "    print(\"Finally\")\n",
    "\n",
    "#Step2: connect to the remote Server\n",
    "\n",
    "\n",
    "host =\"www.python.com\"\n",
    "port = 80\n",
    "BUFSIZE=1024 \n",
    "#HOST = 'daring.cwi.nl'    # The remote host\n",
    "#PORT = 50007              # The same port as used by the server\n",
    "\n",
    " \n",
    "try:\n",
    "    ip = socket.gethostbyname( host )\n",
    "#    ip = socket.gethostbyname( HOST )\n",
    "except socket.gaierror:\n",
    "    #could not resolve\n",
    "    print ('Hostname not found. abnormal exit')\n",
    "    sys.exit()  \n",
    "print ('Ip of '+host + ' is : ' + ip)\n",
    " \n",
    "#Connect to server\n",
    "s.connect((ip , port))\n",
    "print (TCPorUDP[TCP_or_UDP]+' Socket Connected to ' + host + ', ip addres is ' + ip)\n",
    "\n",
    "message = \"GET / HTTP/1.1\\r\\nHost: oschina.net\\r\\n\\r\\n\"\n",
    " \n",
    "try :\n",
    "    #Set the whole string\n",
    "    s.sendall(b'message')\n",
    "except socket.error:\n",
    "    print ('Send failed')\n",
    "    sys.exit()\n",
    "else: \n",
    "    print ('\\nMessage send successfully')\n",
    " \n",
    "\n",
    "print(\"\\n .....Receiving the data....\")\n",
    "try:\n",
    "   reply = s.recv(4096)\n",
    "except socket.error:\n",
    "   print(\"recv error\")\n",
    "else:\n",
    "   print(\"ok\")\n",
    "   \n",
    "if not reply:\n",
    "    print(\"reciving is NG\")\n",
    "else:   \n",
    "    print (\"\\nThe receving data=\\n\",reply)\n",
    "s.close()\n",
    "sys.exit()\n",
    "\n",
    "\n",
    "\n",
    "\n",
    "\n"
   ]
  },
  {
   "cell_type": "markdown",
   "metadata": {},
   "source": [
    "## 12.4 客戶端UDP插口並傳送資料"
   ]
  },
  {
   "cell_type": "code",
   "execution_count": null,
   "metadata": {
    "collapsed": true
   },
   "outputs": [],
   "source": [
    "# %load ch12/udp_clnt.py\n",
    "#filename :udp_clnt.py\n",
    "#function :sending the data using UDP\n",
    "# UDP client, creating a socket and send the data thru the socket\n",
    "\n",
    "import socket\n",
    "\n",
    "# create the UDP socket\n",
    "try:\n",
    "    UDP_clientSock = socket.socket(socket.AF_INET,socket.SOCK_DGRAM)\n",
    "except:\n",
    "    print(\"\\n socket error\")\n",
    "else:\n",
    "    print(\"\\n socket created\\n\",UDP_clientSock )\n",
    "\n",
    "#give the msgdata\n",
    "msgdata = \"Python is useful for college student, even for Kid's study\\n\"\n",
    "\n",
    "# setting address using the pair(host, port) format\n",
    "#ipaddr = (\"localhost\",21567)\n",
    "ipaddr = (\"localhost\",80)\n",
    "\n",
    "# Sending the data \n",
    "print(\"\\n.... Sending data......\")\n",
    "try:\n",
    "     UDP_clientSock.sendto(b'msgdata',ipaddr)\n",
    "except:\n",
    "    print(\"\\n error send\")\n",
    "else:\n",
    "    print(\"\\n ok send\")\n",
    "\n"
   ]
  },
  {
   "cell_type": "markdown",
   "metadata": {},
   "source": [
    "## 12.5 客戶端UDP接收資料關閉插口"
   ]
  },
  {
   "cell_type": "code",
   "execution_count": null,
   "metadata": {
    "collapsed": true
   },
   "outputs": [],
   "source": [
    "# %load ch12/udp_clnt_recv.py\n",
    "#filename :udp_clnt_recv.py\n",
    "#function :sending the data using UDP\n",
    "# UDP client, creating a socket and send the data thru the socket\n",
    "import socket\n",
    "import sys\n",
    "\n",
    "# create the UDP socket\n",
    "try:\n",
    "    UDP_clientSock = socket.socket(socket.AF_INET,socket.SOCK_DGRAM)\n",
    "except:\n",
    "    print(\"\\n socket error\")\n",
    "else:\n",
    "    print(\"\\n socket created\\n\",UDP_clientSock )\n",
    "\n",
    "msgdata = \"Python is useful for college student, even for Kid's study\\n\"\n",
    "\n",
    "ipaddr = (\"localhost\",1000)\n",
    "\n",
    "print(\"\\n.... Sending data......\")\n",
    "try:\n",
    "     UDP_clientSock.sendto(b'msgdata',ipaddr)\n",
    "except:\n",
    "    print(\"\\n error send\")\n",
    "else:\n",
    "    print(\" ok send\")\n",
    "\n",
    "#UDP_clientSock.setblocking(1),#UDP_clientSock.settimeout(5)\n",
    "\n",
    "print(\"\\n .....Receiving the data....\")\n",
    "try:\n",
    "   reply =UDP_clientSock.recv(1024)\n",
    "except socket.error:\n",
    "   print(\"recv error\")\n",
    "else:\n",
    "   print(\"ok\",reply)\n",
    "UDP_clientSock.close()\n",
    "sys.exit()\n"
   ]
  },
  {
   "cell_type": "markdown",
   "metadata": {},
   "source": [
    "## 12.6 伺服器端TCP插口"
   ]
  },
  {
   "cell_type": "code",
   "execution_count": null,
   "metadata": {
    "collapsed": true
   },
   "outputs": [],
   "source": [
    "# %load ch12/TCP_Server-12-step1.py\n",
    "#filename:TCP_Server-12-step1.py\n",
    "#function: Server socket using TCP\n",
    "#1. create socket\n",
    "#2. bind the address\n",
    "\n",
    "#Step1: create socket and bind the address\n",
    "import socket\n",
    "import sys\n",
    " \n",
    "HOST = ''   # all available interfaces\n",
    "PORT = 8888 # non-privileged port\n",
    "\n",
    "#PORT =80\n",
    "\n",
    "try: \n",
    "    s = socket.socket(socket.AF_INET, socket.SOCK_STREAM)\n",
    "except:\n",
    "    print(\"Create socket FAIL!!!!\")\n",
    "else:\n",
    "    print ('Socket created')\n",
    "\n",
    "s.setblocking(1)\n",
    "s.settimeout(5)\n",
    "\n",
    "try:\n",
    "   s.bind((\"127.0.0.1\", 0))\n",
    "\n",
    "except socket.error as msg:\n",
    "    print('Binding NG.  Code : ' + str(msg[0]) + ' Message: ' + msg[1])\n",
    "    sys.exit()\n",
    "     \n",
    "print (\"Binding the address OK!\")\n"
   ]
  },
  {
   "cell_type": "markdown",
   "metadata": {},
   "source": [
    "## 12.7 伺服器端TCP傾聽與連接連接"
   ]
  },
  {
   "cell_type": "markdown",
   "metadata": {},
   "source": [
    "## 12.8 伺服器端TCP傳送與接收資料"
   ]
  },
  {
   "cell_type": "code",
   "execution_count": null,
   "metadata": {
    "collapsed": true
   },
   "outputs": [],
   "source": [
    "# %load ch12/TCP_Server-12-4.py\n",
    "#filename:TCP_Server-12-4\n",
    "#function: Server socket using TCP\n",
    "#step1. create socket and bind\n",
    "#step2. listen and accept\n",
    "#step3: and then recv and send the message\n",
    "\n",
    "import socket\n",
    "import sys\n",
    " \n",
    "HOST = ''   # all available interfaces\n",
    "PORT = 8888 # non-privileged port\n",
    "\n",
    "try: \n",
    "    s = socket.socket(socket.AF_INET, socket.SOCK_STREAM)\n",
    "except:\n",
    "    print(\"Create socket FAIL!!!!\")\n",
    "else:\n",
    "    print ('Socket created')\n",
    "\n",
    "s.setblocking(1)\n",
    "s.settimeout(5)\n",
    "\n",
    "try:\n",
    "   s.bind((\"127.0.0.1\", 0))\n",
    "\n",
    "except socket.error as msg:\n",
    "    print('Binding NG.  Code : ' + str(msg[0]) + ' Message: ' + msg[1])\n",
    "    sys.exit()\n",
    "     \n",
    "print (\"Binding the address OK!\")\n",
    "\n",
    "\n",
    "#Step2: listen, set the queue , how many app can work \n",
    "s.listen(10)\n",
    "print ('Socket is listening')\n",
    "\n",
    "# Step3: wait to accept a connection - from client connect()blocking call\n",
    "try:\n",
    "    print(\"try to accept the connect!!!!\")\n",
    "    conn, addr = s.accept()\n",
    "except :\n",
    "    print(\"error connection\")\n",
    "else: \n",
    "    print ( 'Connected from ' + addr[0] + ':' + str(addr[1]))\n",
    "\n",
    "#step4:recv and sendall with client\n",
    "try:\n",
    "    recv_message = conn.recv(1024)\n",
    "#    recv_message = s.recv(1024)\n",
    "except socket.timeout:\n",
    "    print(\"timeout\")\n",
    "else:\n",
    "    print(\"receive ok\")\n",
    "\n",
    "reply_message = 'ACK to you from server...' + recv_message\n",
    "if not recv_message: \n",
    "     print(\"no receive data\")\n",
    "     \n",
    "print(\"sendall\") \n",
    "conn.sendall(reply_message)\n",
    "conn.close()\n",
    "s.close()\n",
    "sys.exit()\n",
    "\n",
    "\n",
    "\n",
    "\n"
   ]
  },
  {
   "cell_type": "markdown",
   "metadata": {},
   "source": [
    "## 12.9 伺服器端UDP接收與傳送資料"
   ]
  },
  {
   "cell_type": "code",
   "execution_count": null,
   "metadata": {
    "collapsed": true
   },
   "outputs": [],
   "source": [
    "# %load ch12/echo_udp_server.py\n",
    "#filename:echo_udp_server.py\n",
    "#function: nudp server,\n",
    "#step1: create socket and bin address\n",
    "#step2: receive and send\n",
    "#Messages READ  from the socket using recvfrom()\n",
    "#it returns the data as well as the address of the client\n",
    "\n",
    "import socket\n",
    "import sys\n",
    "\n",
    "# Create a UDP/IP\n",
    "UDPsock = socket.socket(socket.AF_INET, socket.SOCK_DGRAM)\n",
    "UDPsock.setblocking(1)\n",
    "UDPsock.settimeout(5)\n",
    "\n",
    "# Bind the socket to the port\n",
    "UDP_server = ('localhost', 10000)\n",
    "print (sys.stderr, '\\nstarting on %s port %s' % UDP_server)\n",
    "\n",
    "try:\n",
    "    UDPsock.bind(UDP_server)\n",
    "except:\n",
    "    print(\"\\n bind error\")\n",
    "else:\n",
    "    print(\"\\n binding ok\")\n",
    "\n",
    "while True:\n",
    "    print (sys.stderr, '\\nwaiting to receive message')\n",
    "    try: \n",
    "        data, address = UDPsock.recvfrom(4096)\n",
    "    except socket.timeout:\n",
    "        print(\"\\n timeout\")\n",
    "    else:\n",
    "        print (sys.stderr, 'received %s bytes from %s' % (len(data), address))\n",
    "        print (sys.stderr, data)\n",
    "    finally:\n",
    "        print(\"\\n just check\")\n",
    "    \n",
    "    if data:\n",
    "        sentdata = UDPsock.sendto(data, address)\n",
    "        print (sys.stderr, 'sent %s bytes back to %s' % (sentdata, address))\n",
    "    else:\n",
    "        sys.exit(1)\n",
    "UDP.close()\n"
   ]
  },
  {
   "cell_type": "code",
   "execution_count": null,
   "metadata": {
    "collapsed": true
   },
   "outputs": [],
   "source": []
  },
  {
   "cell_type": "code",
   "execution_count": null,
   "metadata": {
    "collapsed": true
   },
   "outputs": [],
   "source": []
  },
  {
   "cell_type": "code",
   "execution_count": null,
   "metadata": {
    "collapsed": true
   },
   "outputs": [],
   "source": [
    "# %load ch12/client_real.py\n",
    "#filename:client_real.py\n",
    "#function: client using\n",
    "#step1: create socket\n",
    "#step2: connect to server\n",
    "\n",
    "import socket # for socket\n",
    "import sys\n",
    "PORT=80       #default port for socket\n",
    "\n",
    "#step1: create socket\n",
    "try:\n",
    "    s = socket.socket(socket.AF_INET, socket.SOCK_STREAM)\n",
    "    print( \"Socket successfully created\")\n",
    "except socket.error as err:\n",
    "    print (\"socket creation failed with error %s\" %(err))\n",
    "\n",
    "try:\n",
    "    host_ip = socket.gethostbyname('www.google.com')\n",
    "except socket.gaierror:\n",
    "    print (\"there was an error resolving the host\")\n",
    "    sys.exit()\n",
    "\n",
    "#step2: connect to the server\n",
    "s.connect((host_ip,PORT))\n",
    "\n",
    "print (\"socket connected to google IP == %s\" %(host_ip))\n",
    "# receive data from the server\n",
    "try:\n",
    "#   recv_msg=s.recv(1024)\n",
    "    recv_msg=s.write(\"test\")\n",
    "except:\n",
    "    print(\"\\n receiving error\")\n",
    "else:\n",
    "    print(recv_msg)\n",
    "s.close() \n"
   ]
  }
 ],
 "metadata": {
  "kernelspec": {
   "display_name": "Python 3",
   "language": "python",
   "name": "python3"
  },
  "language_info": {
   "codemirror_mode": {
    "name": "ipython",
    "version": 3
   },
   "file_extension": ".py",
   "mimetype": "text/x-python",
   "name": "python",
   "nbconvert_exporter": "python",
   "pygments_lexer": "ipython3",
   "version": "3.6.3"
  }
 },
 "nbformat": 4,
 "nbformat_minor": 2
}
