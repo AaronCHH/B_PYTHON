{
 "cells": [
  {
   "cell_type": "code",
   "execution_count": 1,
   "metadata": {},
   "outputs": [
    {
     "name": "stdout",
     "output_type": "stream",
     "text": [
      "<module 'ntpath' from 'C:\\\\Anaconda36\\\\lib\\\\ntpath.py'>\n",
      "I:\\BOOKS\\PYTHON\\__GITHUBBED\\Python程式設計實用經典\\SF_PClassic\n"
     ]
    }
   ],
   "source": [
    "import os, sys\n",
    "print(os.path)\n",
    "print(os.getcwd())"
   ]
  },
  {
   "cell_type": "markdown",
   "metadata": {},
   "source": [
    "# CH04 衍生類別與類別繼承關係"
   ]
  },
  {
   "cell_type": "markdown",
   "metadata": {},
   "source": [
    "<div id=\"toc\"></div>"
   ]
  },
  {
   "cell_type": "code",
   "execution_count": null,
   "metadata": {},
   "outputs": [],
   "source": [
    "flist = !dir ch4 /b \n",
    "[print(\"%load \" + \"ch4\" + \"/\" + f) for f in flist if f[-2:]==\"py\"]"
   ]
  },
  {
   "cell_type": "markdown",
   "metadata": {},
   "source": [
    "## 4.1 衍生類別"
   ]
  },
  {
   "cell_type": "markdown",
   "metadata": {},
   "source": [
    "## 4.1.1 衍生類別目的"
   ]
  },
  {
   "cell_type": "markdown",
   "metadata": {},
   "source": [
    "## 4.1.2 衍生類別語法"
   ]
  },
  {
   "cell_type": "code",
   "execution_count": null,
   "metadata": {
    "collapsed": true
   },
   "outputs": [],
   "source": [
    "# %load ch4/employ1.py\n",
    "#filename:employ1.py in chap4\n",
    "#function:the derived class funcion \n",
    "class Person:\n",
    "    def __init__(self, first, last, field):\n",
    "        self.firstname = first\n",
    "        self.lastname = last\n",
    "        self.field = field\n",
    "        \n",
    "#__str__ is a special method, like __init__\n",
    "#used to return a string representation of an object.\n",
    "    def __str__(self):\n",
    "        return self.firstname + \" \" + self.lastname + \", \" + str(self.field)\n",
    "\n",
    "#object.__repr__(self): called by the repr() built-in function and by string conversions (reverse quotes)\n",
    "#   to compute the \"official\" string representation of an object.\n",
    "#object.__str__(self): called by the str() build-in function and by the print statement to compute the \"informal\" string representation of an object.\n",
    "#   From the official documentation, we know that both __repr__ and __str__ are used to \"represent\" an object.\n",
    "#__repr__ should be the \"official\" representation while __str__ is the \"informal\" representation.\n",
    "    \n",
    "    def __repr__(self):\n",
    "        return repr((self.firstname, self.lastname, self.field))\n",
    "\n",
    "\n",
    "#the derived class derive from Person class\n",
    "class Employee(Person):\n",
    "    def __init__(self, first, last, field, employee_no):\n",
    "        super().__init__(first, last, field)\n",
    "        self.employee_no =employee_no\n",
    "\n",
    "    def __str__(self):\n",
    "        return super().__str__() + \", \" +  str(self.employee_no)\n",
    "    def __repr__(self):\n",
    "            return repr((self.name, self.grade, self.score))\n",
    "\n",
    "Person_objects = [\n",
    "    Person('john ', 'Peng', \"Linux\"),\n",
    "    Person('jennis', 'shen', 'Account'),\n",
    "    Person('jocelym ', 'Tsai', 'Sales'),\n",
    "]\n",
    "Employee_objects = [\n",
    "    Employee('john ', 'Peng', \"Linux\",15),\n",
    "    Employee('jennis', 'shen', 'Account', 420),\n",
    "    Employee('jocelym ', 'Tsai', 'Sales',520),\n",
    "]\n",
    "x = Person(\"Robert\", \"Dineno\", \"Actor\")\n",
    "y = Employee(\"Jeff\", \"Lin\", \"Computer SW\", 2)\n",
    "print(\"The super class string description:\\t\",x)\n",
    "print(\"The derived class string description:\\t\",y)\n",
    "#print(\"The derived class string description:\\t\",Person_objects)\n",
    "print(\"sort the data by the key of field from top to low\")\n",
    "print(sorted(Person_objects, key=lambda Person:Person.field, reverse=True))\n",
    "\n",
    "\n",
    "\n"
   ]
  },
  {
   "cell_type": "code",
   "execution_count": null,
   "metadata": {
    "collapsed": true
   },
   "outputs": [],
   "source": [
    "# %load ch4/inherit_car1.py\n",
    "#filename:inherit-car1.py\n",
    "#function: derived calss example using the car class\n",
    "#class inheritance mechanism is :allowing multiple base classes,\n",
    "#derived class can override any methods of its base class or classes\n",
    "#The derived  method can call the method of a base class with the same name.\n",
    "\n",
    "#program example is product production group for class regarding the car type\n",
    "\n",
    "class PPG(object):\n",
    "    car_status = \"new\"\n",
    "    \n",
    "    def __init__(self, model, color, year):\n",
    "        print(\"PPG init\")\n",
    "        self.model = model\n",
    "        self.color = color\n",
    "        self.year   = year\n",
    "        if year <= 2010:\n",
    "           self.car_status = \"used\"\n",
    "        else:\n",
    "           print(\"new one\")\n",
    "           self.car_status = \"new\" \n",
    "\n",
    "    def display_ppg(self):\n",
    "        return \"This is a %s %s made on %s year \" % (self.color, self.model, self.year)\n",
    "\n",
    "    def drive_ppg(self):\n",
    "        self.car_status = \"used\"\n",
    "\n",
    "\n",
    "class ECar(PPG):\n",
    "    def __init__(self, model, color, year, battery, price):\n",
    "        print(\"\\nECar init\\t\")\n",
    "        PPG.__init__(self,model,color,year)\n",
    "        self.battery = battery\n",
    "        self.year   = year\n",
    "        self.price   = price\n",
    "#object.__repr__(self): called by the repr() built-in function and by string conversions (reverse quotes)\n",
    "#to compute the \"official\" string representation of an object.\n",
    "    def __repr__(self):\n",
    "        return \"<Car model:%s color:%s year:%s battery:%s price:%s  > \" % (self.model, self.color,self.year, self.battery,self.price)\n",
    "\n",
    "obj1 = PPG('Volvo', 'Blue', 1953)\n",
    "print(obj1.display_ppg())\n",
    "print(\"the car status is \", obj1.car_status)\n",
    "\n",
    "e_carobj = ECar('Tesla ', 'Blue', 2014, 'Li-acid',200000)\n",
    "print(e_carobj.display_ppg())\n",
    "\n",
    "print(repr(e_carobj))\n",
    "print(\"the car status is \", e_carobj.car_status)\n",
    "\n",
    "\n"
   ]
  },
  {
   "cell_type": "markdown",
   "metadata": {},
   "source": [
    "## 4.2 多重繼承"
   ]
  },
  {
   "cell_type": "code",
   "execution_count": null,
   "metadata": {
    "collapsed": true
   },
   "outputs": [],
   "source": [
    "# %load ch4/multi_inherit.py\n",
    "#filename:Multi-inherit.py (in chap 4)\n",
    "#function: multi derived class function, and the Method resoluyion Order(MRO)\n",
    "#is Depthe first and left-right search\n",
    "\n",
    "#MRO :the method resolution order for classic classes in python\n",
    "#is described as a depth-first left-to-right search\n",
    "class SuperClass(object):\n",
    "    def __init__(self):\n",
    "        print (\"Initialized SuperClass\")\n",
    "\n",
    "class father(SuperClass):\n",
    "    \n",
    "    def test():\n",
    "        print (\"Initialized father\")\n",
    "\n",
    "class mother(SuperClass):\n",
    "    \n",
    "    def __init__(self):\n",
    "        print (\"Initialized mother\")\n",
    "\n",
    "class DepthFS(father, mother):\n",
    "    money=0\n",
    "    def __init__(self):\n",
    "        super(DepthFS, self).__init__()\n",
    "        print (\"Initialized DepthFirtssearch\")\n",
    "\n",
    "print(DepthFS())\n",
    "#The MRO use the concept of DFS, that is MRO rule \n",
    "#super(DFS, self).__init__() looks for an __init__ method in the first class\n",
    "#in self.__class__.mro() after DepthFS. Since father does not have an __init__,\n",
    "#it then looks for an __init__ method in mother.\n",
    "#It finds mother.__init__, and therefore calls mother.__init__(self).\n",
    "print(DepthFS.mro())\n"
   ]
  },
  {
   "cell_type": "code",
   "execution_count": null,
   "metadata": {
    "collapsed": true
   },
   "outputs": [],
   "source": [
    "# %load ch4/mro_method.py\n",
    "#filename:mro_method.py\n",
    "#function: the MRO depth first search rule study, and multiple inheritane concept\n",
    "#MRO of a class can be viewed as the __mro__ attribute or mro() method.\n",
    "#The former__mro__ returns a tuple, while latter  mro()  returns a list.\n",
    "\n",
    "class Grandfather:\n",
    "    money=2000\n",
    "\n",
    "class father(Grandfather):\n",
    "    money=100000\n",
    "    \n",
    "class SonMultiDerived(father):\n",
    "    amount=0\n",
    "    amount=amount+Grandfather.money+father.money\n",
    "  \n",
    "\n",
    "Edward=SonMultiDerived()\n",
    "print(\"Edward get the money from father and mother is\\n \",Edward.amount)\n",
    "\n",
    "print(SonMultiDerived.__mro__)\n",
    "print(SonMultiDerived.mro())\n",
    "\n",
    "\n",
    "\n"
   ]
  },
  {
   "cell_type": "markdown",
   "metadata": {},
   "source": [
    "## 4.3 多層繼承"
   ]
  },
  {
   "cell_type": "code",
   "execution_count": null,
   "metadata": {
    "collapsed": true
   },
   "outputs": [],
   "source": [
    "# %load ch4/multi_level_mro.py\n",
    "#filename:multi_level_mro.py in chap4\n",
    "#function: the MRO depth first search rule study, and multiple inheritane concept\n",
    "#MRO of a class can be viewed as the __mro__ attribute or mro() method.\n",
    "#The former__mro__ returns a tuple, while latter  mro()  returns a list.\n",
    "\n",
    "class Grandfather:\n",
    "    money=2000\n",
    "\n",
    "class father(Grandfather):\n",
    "    money=100000\n",
    "    \n",
    "class SonMultiDerived(father):\n",
    "    amount=0\n",
    "    amount=amount+Grandfather.money+father.money\n",
    "  \n",
    "\n",
    "Edward=SonMultiDerived()\n",
    "print(\"Edward get the money from father and grandfather is\\n \",Edward.amount)\n",
    "\n",
    "print(SonMultiDerived.__mro__)\n",
    "print(SonMultiDerived.mro())\n",
    "\n",
    "\n",
    "\n"
   ]
  },
  {
   "cell_type": "markdown",
   "metadata": {},
   "source": [
    "## 4.4 覆加功能"
   ]
  },
  {
   "cell_type": "code",
   "execution_count": null,
   "metadata": {
    "collapsed": true
   },
   "outputs": [],
   "source": [
    "# %load ch4/mul_level_inherit.py\n",
    "#filename : mul-level-inherit.py\n",
    "#function: the multi-level inheritance \n",
    "#Consider this - a base class Grandfather, class father inheriting from Grandfather, class son inheriting from Grandfather.\n",
    "#This is to show What is a generic way to invoke your parent class constructor in a constructor\n",
    "#you can study the _init_ and Mro from the example\n",
    "#_init_ is like the way of C++ constructor\n",
    "\n",
    "class Grandfather(object):\n",
    "    def __init__(self):\n",
    "        print (\"Constructor Grandfather was called\")\n",
    "        \n",
    "\n",
    "class father(Grandfather):\n",
    "    def __init__(self):\n",
    "        super(father,self).__init__()\n",
    "        print (\"Constructor father  was called\")\n",
    "        \n",
    "\n",
    "class son(father):\n",
    "    def __init__(self):\n",
    "        super(son,self).__init__()\n",
    "        print( \"Constructor son was called\")\n",
    "        \n",
    "\n",
    "Edward =son()\n",
    "print(son.__mro__)\n",
    "print(son.mro())\n"
   ]
  },
  {
   "cell_type": "code",
   "execution_count": null,
   "metadata": {
    "collapsed": true
   },
   "outputs": [],
   "source": [
    "# %load ch4/Polymorphism.py\n",
    "#filename:Polymorphism.py\n",
    "#function:Object oriented's feature Polymorphism\n",
    "\n",
    "\n",
    "import datetime\n",
    "nowtime = datetime.datetime.now()\n",
    "#print (str(nowtime))\n",
    "\n",
    "class Mother:\n",
    "    message=0\n",
    "    def __init__(self, name):    \n",
    "        self.name = name\n",
    "    def sendmessage(self):             \n",
    "        raise NotImplementedError(\"Need abstract method\")\n",
    "\n",
    "class Sister(Mother):\n",
    "    def sendmessage(self):\n",
    "        Mother.message+=1\n",
    "        return 'Mama , I love you'\n",
    "\n",
    "class Brother(Mother):\n",
    "    def sendmessage(self):\n",
    "        Mother.message+=1\n",
    "        return 'Hi! Ma        '\n",
    "\n",
    "second_gen_persons = [Sister('Mary'),Sister('Jessica'), Brother('Carl')]\n",
    "\n",
    "for person in second_gen_persons:\n",
    "    nowtime = datetime.datetime.now()\n",
    "    print (person.name + ': ' + person.sendmessage()+ \" at \"+str(nowtime) )\n",
    "    \n",
    "print(\"message from mother's son and daughter is on mm/dd \",\"%d %d\"%(nowtime.month,nowtime.day))\n",
    "\n",
    "print(\"total message from her son and duagther is \", Mother.message)\n"
   ]
  },
  {
   "cell_type": "markdown",
   "metadata": {},
   "source": [
    "## Exercises"
   ]
  },
  {
   "cell_type": "code",
   "execution_count": null,
   "metadata": {
    "collapsed": true
   },
   "outputs": [],
   "source": [
    "# %load ch4/exam4-1.py\n",
    "\n",
    "class Grandfather:\n",
    "    money=2000\n",
    "    lastname=\"Sun\"\n",
    "\n",
    "class father(Grandfather):\n",
    "    money=100000\n",
    "    firstname=\"CT\"\n",
    "    \n",
    "class SonMultiDerived(father):\n",
    "    print(\"SonMultiderived\")\n",
    "    nickname=\"Edward\"\n",
    "    amount=0\n",
    "    amount=amount+Grandfather.money+father.money\n",
    "  \n",
    "Edward=SonMultiDerived()\n",
    "print(\"Edward get the money from father and mother is\\n \",Edward.amount)\n",
    "print(\"Edward name is\",Edward.nickname,Edward.lastname)\n",
    "#print(SonMultiDerived.__mro__)\n",
    "#print(SonMultiDerived.mro())\n"
   ]
  },
  {
   "cell_type": "code",
   "execution_count": 12,
   "metadata": {},
   "outputs": [
    {
     "name": "stdout",
     "output_type": "stream",
     "text": [
      "4\n",
      "281\n"
     ]
    }
   ],
   "source": [
    "# %load ch4/exam4-3.py\n",
    "import random\n",
    "employee_no=random.randint(0,300)\n",
    "print(employee_no)\n",
    "print(random.randint(0,300))\n"
   ]
  },
  {
   "cell_type": "code",
   "execution_count": null,
   "metadata": {
    "collapsed": true
   },
   "outputs": [],
   "source": []
  }
 ],
 "metadata": {
  "kernelspec": {
   "display_name": "Python 3",
   "language": "python",
   "name": "python3"
  },
  "language_info": {
   "codemirror_mode": {
    "name": "ipython",
    "version": 3
   },
   "file_extension": ".py",
   "mimetype": "text/x-python",
   "name": "python",
   "nbconvert_exporter": "python",
   "pygments_lexer": "ipython3",
   "version": "3.6.3"
  }
 },
 "nbformat": 4,
 "nbformat_minor": 2
}
