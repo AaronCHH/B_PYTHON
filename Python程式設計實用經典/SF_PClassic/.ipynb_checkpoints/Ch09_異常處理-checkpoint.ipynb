{
 "cells": [
  {
   "cell_type": "code",
   "execution_count": 1,
   "metadata": {},
   "outputs": [
    {
     "name": "stdout",
     "output_type": "stream",
     "text": [
      "<module 'ntpath' from 'C:\\\\Anaconda36\\\\lib\\\\ntpath.py'>\n",
      "I:\\BOOKS\\PYTHON\\__GITHUBBED\\Python程式設計實用經典\\SF_PClassic\n"
     ]
    }
   ],
   "source": [
    "import os, sys\n",
    "print(os.path)\n",
    "print(os.getcwd())"
   ]
  },
  {
   "cell_type": "code",
   "execution_count": null,
   "metadata": {},
   "outputs": [],
   "source": [
    "flist = !dir ch9 /b \n",
    "[print(\"%load \" + \"ch9\" + \"/\" + f) for f in flist if f[-2:]==\"py\"]"
   ]
  },
  {
   "cell_type": "markdown",
   "metadata": {},
   "source": [
    "# CH09 異常處理"
   ]
  },
  {
   "cell_type": "markdown",
   "metadata": {},
   "source": [
    "<div id=\"toc\"></div>"
   ]
  },
  {
   "cell_type": "code",
   "execution_count": null,
   "metadata": {
    "collapsed": true
   },
   "outputs": [],
   "source": []
  },
  {
   "cell_type": "code",
   "execution_count": null,
   "metadata": {
    "collapsed": true
   },
   "outputs": [],
   "source": [
    "# %load ch9/loop_keyin.py\n",
    "#filename: loop_keyin.py\n",
    "#function: While loop for waiting the correct choice\n",
    "\n",
    "print(\" The ATM operation\")\n",
    "print(\"\\n1. The Money transfer\")\n",
    "print(\"\\n2. The deposit money\")\n",
    "print(\"\\n3. The draw money\")\n",
    "\n",
    "while True:\n",
    "  try:\n",
    "      x = int(input(\"\\nPlease enter a number of ATM choice: \"))\n",
    "      break\n",
    "  except ValueError:\n",
    "      print (\"You keyin the wrong choice.  Try again...\")\n",
    "  except KeyboardInterrupt:\n",
    "      print (\"Pls don't press CTRL_C.  Try again...\")\n",
    "  except EOFError:\n",
    "      print(\"EOF when reading a line, try again...\")\n"
   ]
  },
  {
   "cell_type": "markdown",
   "metadata": {},
   "source": [
    "## 9.1 何謂異常錯誤"
   ]
  },
  {
   "cell_type": "markdown",
   "metadata": {},
   "source": [
    "### 9.1.1 如何處理異常錯誤"
   ]
  },
  {
   "cell_type": "code",
   "execution_count": 10,
   "metadata": {},
   "outputs": [
    {
     "name": "stdout",
     "output_type": "stream",
     "text": [
      "keyin x for the dividend:40\n",
      "keyin y for divisor:0\n",
      "right input\n",
      "division by zero , it is exception error\n",
      "executing finally \n"
     ]
    }
   ],
   "source": [
    "# %load ch9/try_zero.py\n",
    "#filename: try_zero.py in chap9\n",
    "#function: the try ZerodividionError exception\n",
    "\n",
    "def divide(x, y):\n",
    "     try:\n",
    "         result = x / y\n",
    "     except ZeroDivisionError:\n",
    "         print (\"division by zero , it is exception error\")\n",
    "     except Nameerror:\n",
    "         print(\"Name error\")\n",
    "     else:\n",
    "         print (\"result=%2.1f\" %result)\n",
    "     finally:\n",
    "         print ( \"executing finally \")\n",
    "         \n",
    " \n",
    "\n",
    "try:\n",
    "     x=int(input(\"keyin x for the dividend:\"))\n",
    "     y=int(input(\"keyin y for divisor:\"))\n",
    "except ValueError:\n",
    "     print (' Must keyin a numeric value!')\n",
    "else:\n",
    "    print(\"right input\")\n",
    "\n",
    "#call subprogram divide function\n",
    "z=divide(x,y)\n"
   ]
  },
  {
   "cell_type": "markdown",
   "metadata": {},
   "source": [
    "### 9.1.2 利用異常錯誤"
   ]
  },
  {
   "cell_type": "code",
   "execution_count": null,
   "metadata": {
    "collapsed": true
   },
   "outputs": [],
   "source": [
    "# %load ch9/list_dict.py\n",
    "#filename: list_dict.py\n",
    "#function:The except error is useful for some application\n",
    "\n",
    "listdata = [80,82,90,85,82,100,83,62,89,90,80,78,92,98,68,97,92] \n",
    " \n",
    "Engdict = {} \n",
    " \n",
    "for i in listdata: \n",
    "    try: \n",
    "        Engdict[i] += 1 \n",
    "    except(KeyError): \n",
    "        Engdict[i] = 1 \n",
    "print (\"The Englisg score is \",Engdict)\n",
    "\n",
    "\n",
    "key = Engdict.items()\n",
    "max = 0\n",
    "count=0\n",
    "i=0\n",
    "for k in key:\n",
    "    i=i+1\n",
    "    if k[0] > max:\n",
    "       \tmax = k[0]\n",
    "       \tcount=k[1]\n",
    "\n",
    "print(\"English max=\",max,\"How many student count=\",count)\n",
    "\n",
    "print(i)\n",
    "print(len(listdata))\n",
    "\n",
    "#value = d.get(key, \"empty\")\n",
    "\n",
    "def divide(x, y):\n",
    "    try:\n",
    "        result = x / y\n",
    "    except ZeroDivisionError:\n",
    "       print (\"division by zero!\")\n",
    "    else:\n",
    "       print (\"result is\", result)\n",
    "    finally:\n",
    "       print (\"executing finally clause\")\n",
    "\n",
    "       \n",
    "\n",
    "def mode(list):\n",
    "\t\n",
    "\td = {}\n",
    "\tfor elm in list:\n",
    "\t\ttry:\n",
    "\t\t\td[elm] += 1\n",
    "\t\texcept(KeyError):\n",
    "\t\t\td[elm] = 1\n",
    "\t\n",
    "\tkeys = d.keys()\n",
    "\tmax = d[keys[0]]\n",
    "\t\n",
    "\tfor key in keys[1:]:\n",
    "\t\tif d[key] > max:\n",
    "\t\t\tmax = d[key]\n",
    "\n",
    "\tmax_k = []\t\t\n",
    "\tfor key in keys:\n",
    "\t\tif d[key] == max:\n",
    "\t\t\tmax_k.append(key),\n",
    "\treturn max_k,max\n",
    "\n",
    "\n"
   ]
  },
  {
   "cell_type": "markdown",
   "metadata": {},
   "source": [
    "## 9.2 常見的異常錯誤"
   ]
  },
  {
   "cell_type": "markdown",
   "metadata": {},
   "source": [
    "## 9.3 try-except-else-finally"
   ]
  },
  {
   "cell_type": "code",
   "execution_count": null,
   "metadata": {
    "collapsed": true
   },
   "outputs": [],
   "source": [
    "# %load ch9/file_raise.py\n",
    "#filename:file_raise.py\n",
    "#function: file read write and raise\n",
    "\n",
    "import sys\n",
    "\n",
    "filename=input(\"pls keyin filename for write:\")\n",
    "try:\n",
    "   fh = open(filename, \"w\")\n",
    "   fh.write(\"Python raise example\\n\")\n",
    "   fh.write(\"Python is good\\n\")\n",
    "   str=input(\"pls keyin data:\")\n",
    "   fh.write(str) \n",
    "except IOError:\n",
    "   print (\"IOError: file not found or read data\")\n",
    "except EOFError:\n",
    "   print (\"EOF error\")   \n",
    "else:\n",
    "   print (\"Data writen ok\")\n",
    "   fh.close()\n",
    "finally:\n",
    "   print(\"finally\")\n",
    "\n",
    "print(\"\\n****Open and read file***\")\n",
    "try:\n",
    "    filein=input(\"pls keyin filename for read:\")\n",
    "    with open(filein, \"r\") as file_in:\n",
    "        print(\"file data is as follows\")\n",
    "        print(\"---------------------\")\n",
    "        for line in file_in:\n",
    "            sys.stdout.write(line)\n",
    "        print(\"\\n---------------------\")     \n",
    "except FileNotFoundError:\n",
    "    print(\"exception error: file not found\")\n",
    "\n",
    "else:\n",
    "    print(\"\\nlast line data=\",line)\n",
    "#    raise\n",
    "#'''\n",
    "#Traceback (most recent call last):\n",
    "#  File \"D:/Book/Chap9/file_raise.py\", line 34, in <module>\n",
    "#    raise\n",
    "#RuntimeError: No active exception to reraise\n",
    "#'''\n",
    "\n",
    "finally:\n",
    "    print(\"finally\")\n"
   ]
  },
  {
   "cell_type": "markdown",
   "metadata": {},
   "source": [
    "## 9.4 raising exceptions"
   ]
  },
  {
   "cell_type": "code",
   "execution_count": null,
   "metadata": {
    "collapsed": true
   },
   "outputs": [],
   "source": [
    "# %load ch9/raise_example.py\n",
    "#filename:raise_exmple.py\n",
    "#function : raise by manual\n",
    "'''\n",
    "This program is used for the sales person want to sale the product to customer\n",
    "sales get the list price for the product, it is assumed the range is between maximum and minumum\n",
    "only after the price is correct\n",
    "the sales can keyin how many quantity he wants to sale\n",
    "and then the computer show the total price\n",
    "'''\n",
    "\n",
    "maximum=20\n",
    "minumum=15\n",
    "\n",
    "list_price=int(input(\"Keyin the numeric data:\"))\n",
    "try:\n",
    "    if (list_price > maximum or list_price < minumum):\n",
    "        raise ValueError(list_price)\n",
    "   \n",
    "except ValueError as e:\n",
    "    print (str(e)+ \" your Input data is\", str(e), \"is wrong range between %d and %d!\"%(maximum,minumum))\n",
    "else:\n",
    "    print (\"input is right data\")\n",
    "finally:\n",
    "    print(\"finally\")\n",
    "\n",
    "#any problem you find for real application\n",
    "qty=int(input(\"the Quantity for order:\"))\n",
    "print (\"the Total sale=\",list_price*qty)\n",
    "\n",
    "\n",
    "        \n"
   ]
  },
  {
   "cell_type": "code",
   "execution_count": null,
   "metadata": {
    "collapsed": true
   },
   "outputs": [],
   "source": [
    "# %load ch9/index_raise.py\n",
    "#filename: chap9_ex4_index_raise.py\n",
    "#function: raise exception\n",
    "\n",
    "Math_Listing=[86,90,78,92,100]\n",
    "Math_student_name=[\"Wang Hai\",\"Tsai Cher\",\"Cheng gin-lin\",\"Chang chou sang\",\"Tsai ching-yuan\"]\n",
    "\n",
    "def chk_score(data,indexing):\n",
    "    if indexing >len(data):\n",
    "       print(\"\\n****Raise Occurs and will raise IndexError\")\n",
    "       raise IndexError\n",
    "    else:\n",
    "        return data[indexing]\n",
    "    \n",
    "try:\n",
    "    print(\"The Math score is:\",Math_Listing)\n",
    "    index=int(input(\"Input the index you want:\"))\n",
    "    score=chk_score(Math_Listing,index)\n",
    "    who=Math_student_name[index]\n",
    "    \n",
    "except IndexError as e:\n",
    "    print(\"\\nexception IndexError after calling subprogram chk_score\\n\",type(e))\n",
    "    raise\n",
    "else:\n",
    "    print(\"score=\",score, \"\\tStudent:\",who)\n",
    "finally:\n",
    "    print(\"finally statement\")\n"
   ]
  },
  {
   "cell_type": "markdown",
   "metadata": {},
   "source": [
    "## 9.5 內建異常錯誤參考"
   ]
  },
  {
   "cell_type": "markdown",
   "metadata": {},
   "source": [
    "## Exercise"
   ]
  },
  {
   "cell_type": "code",
   "execution_count": null,
   "metadata": {
    "collapsed": true
   },
   "outputs": [],
   "source": [
    "# %load ch9/exam9-1.py\n",
    "#filename: chap9-ex1-try_zero.py in chap9\n",
    "#function: the try ZerodividionError exception\n",
    "\n",
    "def divide(x, y):\n",
    "     try:\n",
    "         result = x / y\n",
    "     except ZeroDivisionError:\n",
    "         print (\"division by zero , it is exception error\")\n",
    "     except Nameerror:\n",
    "         print(\"Name error\")\n",
    "     else:\n",
    "         print (\"result=%2.1f\" %result)\n",
    "     finally:\n",
    "         print ( \"executing finally \")\n",
    "         \n",
    " \n",
    "\n",
    "try:\n",
    "     x=int(input(\"keyin x for the dividend:\"))\n",
    "     y=int(input(\"keyin y for divisor:\"))\n",
    "except ValueError:\n",
    "     print ('ValueError :Must keyin a numeric value')\n",
    "else:\n",
    "    print(\"right input\")\n",
    "\n",
    "#call subprogram divide function\n",
    "try:\n",
    "   z=divide(x,y)\n",
    "except NameError:\n",
    "   print(\"Name error\")\n",
    "finally:\n",
    "   print(\"calling program exit\")\n"
   ]
  },
  {
   "cell_type": "code",
   "execution_count": null,
   "metadata": {
    "collapsed": true
   },
   "outputs": [],
   "source": [
    "# %load ch9/exam9-3.py\n",
    "#filename: chap9_ex4_index_raise.py\n",
    "#function: raise exception\n",
    "\n",
    "Math_Listing=[86,90,78,92,100]\n",
    "Math_student_name=[\"Wang Hai\",\"Tsai Cher\",\"Cheng gin-lin\",\"Chang chou sang\",\"Tsai ching-yuan\"]\n",
    "\n",
    "def chk_score(data,indexing):\n",
    "    if indexing >len(data):\n",
    "       print(\"\\n****Raise Occurs and will raise IndexError\")\n",
    "       raise IndexError\n",
    "    else:\n",
    "        return data[indexing]\n",
    "    \n",
    "try:\n",
    "    print(\"The Math score is:\",Math_Listing)\n",
    "    index=int(input(\"Input the index you want:\"))\n",
    "    score=chk_score(Math_Listing,index)\n",
    "    who=Math_student_name[index]\n",
    "    \n",
    "except IndexError as e:\n",
    "    print(\"\\nexception IndexError after calling subprogram chk_score\\n\",type(e))\n",
    "    raise\n",
    "else:\n",
    "    print(\"score=\",score, \"\\tStudent:\",who)\n",
    "finally:\n",
    "    print(\"finally statement\")\n"
   ]
  },
  {
   "cell_type": "code",
   "execution_count": null,
   "metadata": {},
   "outputs": [],
   "source": [
    "# %load ch9/exam9-4.py\n",
    "#filename:chap_ex5_average_except.py\n",
    "#function: using reduce for total\n",
    "#except can be applied to the wrong input data\n",
    "\n",
    "englistdata = [80,82,90,85,82,100,83,62,89,90,80,78,92,98,68,97,92,\"92\"]\n",
    "total=0\n",
    "\n",
    "def score_sum( eng ):\n",
    "   \n",
    "    sum= 0\n",
    "    for data in eng:\n",
    "        sum += data\n",
    "    return sum\n",
    "\n",
    "\n",
    "try:\n",
    "    total=score_sum(englistdata)\n",
    "except TypeError:\n",
    "    print(\"add Non-Numeric Data\")\n",
    "else:\n",
    "    print(\"total=\",total)\n",
    "    \n",
    "\n",
    "ave=score_sum(englistdata)/len(englistdata)\n",
    "print(\"average=%3.2f\"%ave)\n",
    "\n"
   ]
  },
  {
   "cell_type": "code",
   "execution_count": null,
   "metadata": {
    "collapsed": true
   },
   "outputs": [],
   "source": []
  }
 ],
 "metadata": {
  "kernelspec": {
   "display_name": "Python 3",
   "language": "python",
   "name": "python3"
  },
  "language_info": {
   "codemirror_mode": {
    "name": "ipython",
    "version": 3
   },
   "file_extension": ".py",
   "mimetype": "text/x-python",
   "name": "python",
   "nbconvert_exporter": "python",
   "pygments_lexer": "ipython3",
   "version": "3.6.3"
  }
 },
 "nbformat": 4,
 "nbformat_minor": 2
}
