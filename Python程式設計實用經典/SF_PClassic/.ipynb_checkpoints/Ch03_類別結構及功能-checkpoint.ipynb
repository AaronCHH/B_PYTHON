{
 "cells": [
  {
   "cell_type": "code",
   "execution_count": 1,
   "metadata": {},
   "outputs": [
    {
     "name": "stdout",
     "output_type": "stream",
     "text": [
      "<module 'ntpath' from 'C:\\\\Anaconda36\\\\lib\\\\ntpath.py'>\n",
      "I:\\BOOKS\\PYTHON\\__GITHUBBED\\Python程式設計實用經典\\SF_PClassic\n"
     ]
    }
   ],
   "source": [
    "import os, sys\n",
    "print(os.path)\n",
    "print(os.getcwd())"
   ]
  },
  {
   "cell_type": "markdown",
   "metadata": {},
   "source": [
    "<div id=\"toc\"></div>"
   ]
  },
  {
   "cell_type": "code",
   "execution_count": 2,
   "metadata": {},
   "outputs": [
    {
     "name": "stdout",
     "output_type": "stream",
     "text": [
      "%load ch3/class_attribute.py\n",
      "%load ch3/class_bank.py\n",
      "%load ch3/class_linuxsignal.py\n",
      "%load ch3/employee.py\n",
      "%load ch3/exam3-2.py\n",
      "%load ch3/exam3-3.py\n",
      "%load ch3/llist_text.py\n",
      "%load ch3/person.py\n",
      "%load ch3/stacking.py\n",
      "%load ch3/staticmethod.py\n"
     ]
    },
    {
     "data": {
      "text/plain": [
       "[None, None, None, None, None, None, None, None, None, None]"
      ]
     },
     "execution_count": 2,
     "metadata": {},
     "output_type": "execute_result"
    }
   ],
   "source": [
    "flist = !dir ch3 /b \n",
    "[print(\"%load \" + \"ch3\" + \"/\" + f) for f in flist if f[-2:]==\"py\"]"
   ]
  },
  {
   "cell_type": "markdown",
   "metadata": {},
   "source": [
    "# 3.1 類別結構與宣告"
   ]
  },
  {
   "cell_type": "code",
   "execution_count": 4,
   "metadata": {},
   "outputs": [
    {
     "name": "stdout",
     "output_type": "stream",
     "text": [
      "John 35 University Golf\n",
      "Lucy 32 Master joggling\n"
     ]
    }
   ],
   "source": [
    "# %load ch3/person.py\n",
    "#filename: person.py\n",
    "#function: use _init_ to create the Attribute of object\n",
    "\n",
    "class person:\n",
    "   def __init__(self, name,age,edu,hobby):\n",
    "      self.name = name\n",
    "      self.age = age\n",
    "      self.education=edu\n",
    "      self.hobby=hobby\n",
    "\n",
    "John_Pan = person('John',35,\"University\",\"Golf\")\n",
    "Lucy = person('Lucy',32,\"Master\",\"joggling\")\n",
    "\n",
    "print (John_Pan.name,John_Pan.age,John_Pan.education,John_Pan.hobby)\n",
    "print (Lucy.name,Lucy.age,Lucy.education,Lucy.hobby)\n"
   ]
  },
  {
   "cell_type": "code",
   "execution_count": null,
   "metadata": {},
   "outputs": [
    {
     "name": "stdout",
     "output_type": "stream",
     "text": [
      "\n",
      "Please key in your Card password!!!\n"
     ]
    }
   ],
   "source": [
    "# %load ch3/class_bank.py\n",
    "#filename:class_bank.py (in chap3)\n",
    "#function: using the class and _init_ and some method to process the bank operation\n",
    "#_init_: the purpose of the self is that it refers to the specific object created from class like Account class\n",
    "\n",
    "class Account:\n",
    "    def __init__(self, acct_number, name):\n",
    "        print(\"\\t_init_ contstructor is processing\")\n",
    "        self.acct_number = acct_number\n",
    "        self.name = name\n",
    "        self.balance = 100\n",
    "                \n",
    "    def deposit(self, amount):\n",
    "        print(\"Deposit amount is \", amount)\n",
    "        if amount <= 0:\n",
    "            raise ValueError('should be positive amount')\n",
    "        self.balance += amount\n",
    "        \n",
    "    def withdraw(self, amount):\n",
    "        print(\"Withdraw amount is \", amount)\n",
    "        if amount <= self.balance:\n",
    "            self.balance -= amount\n",
    "        else:\n",
    "            raise RuntimeError('Your account balance is not enough!!!')\n",
    "\n",
    "#when you use your ATM card to withdraw momey,you must pass the password first\n",
    "#the while loop is used to check the password\n",
    "        \n",
    "while True:\n",
    "    print(\"\\nPlease key in your Card password!!!\")\n",
    "    passwrd=input()\n",
    "    if passwrd == \"222222\":\n",
    "        acct1 = Account(\"0081038000111\", 'Johnny Hsu')\n",
    "        break\n",
    "    else:\n",
    "        continue\n",
    "print(\"your current balance of card is:\", acct1.balance)\n",
    "\n",
    "print(\"\\n start to prcocess the class object acct1\")\n",
    "deposit1 = acct1.deposit\n",
    "withdraw1 = acct1.withdraw\n",
    "acct1.deposit(2000)\n",
    "deposit1(10000)\n",
    "withdraw1(5000)\n",
    "print(\"the bank balaance is \",acct1.balance)\n",
    "      \n",
    "print(\"\\n start to prcocess the class object acct2\")\n",
    "acct2 = Account('00810380000222', 'Sean Pan ')\n",
    "deposit2 = acct2.deposit\n",
    "withdraw2 = acct2.withdraw\n",
    "deposit2(3000)\n",
    "withdraw2(2000)\n",
    "print(\"the bank balance is \",acct2.balance)\n",
    "\n"
   ]
  },
  {
   "cell_type": "markdown",
   "metadata": {},
   "source": [
    "# 3.2 資料及屬性"
   ]
  },
  {
   "cell_type": "markdown",
   "metadata": {},
   "source": [
    "## 3.2.1 資料"
   ]
  },
  {
   "cell_type": "code",
   "execution_count": 2,
   "metadata": {},
   "outputs": [
    {
     "name": "stdout",
     "output_type": "stream",
     "text": [
      "Number of instances: :  1\n",
      "Number of instances: : 2\n",
      "Number of instances: : 1\n",
      "1000\n"
     ]
    }
   ],
   "source": [
    "# %load ch3/class_attribute.py\n",
    "\n",
    "class Class_attr: \n",
    "#class data is counter and class_fund\n",
    "    counter = 0 \n",
    "    class_fund=0\n",
    "    \n",
    "    def __init__(self):\n",
    "        type(self).counter += 1\n",
    "\n",
    "    def __del__(self):\n",
    "        type(self).counter -= 1\n",
    "\n",
    "if __name__ == \"__main__\":\n",
    "\n",
    "  Tang = Class_attr()  \n",
    "  Class_attr.class_fund =Class_attr.counter*1000\n",
    "  print(\"Number of instances: : \", Class_attr.counter)\n",
    "  \n",
    "  Big_David = Class_attr()\n",
    "  Class_attr.class_fund =Class_attr.counter*1000\n",
    "  print(\"Number of instances: : \" + str(Class_attr.counter))\n",
    "  \n",
    "  del Big_David\n",
    "  print(\"Number of instances: : \" + str(Class_attr.counter))\n",
    "  Class_attr.class_fund =Class_attr.counter*1000 \n",
    "  print(Class_attr.class_fund)\n",
    "\n"
   ]
  },
  {
   "cell_type": "markdown",
   "metadata": {},
   "source": [
    "## 3.2.2 屬性"
   ]
  },
  {
   "cell_type": "code",
   "execution_count": 4,
   "metadata": {},
   "outputs": [
    {
     "name": "stdout",
     "output_type": "stream",
     "text": [
      "---------------------------------------------\n",
      "No :  126 , Salary:  52000 , Level:  Engineer\n",
      "---------------------------------------------\n",
      "No :  34 , Salary:  68000 , Level:  Manager\n",
      "Total Employee no is  2\n",
      "Employee.__doc__: \n",
      "   Class Doc show the class attribute\n",
      "   \n",
      "Employee.__module__: __main__\n",
      "Employee.__name__: Employee\n",
      "Employee.__bases__: (<class 'object'>,)\n",
      "Employee.__dict__: {'__module__': '__main__', '__doc__': '\\n   Class Doc show the class attribute\\n   ', 'Count': 2, '__init__': <function Employee.__init__ at 0x0000028143066A60>, 'displayEmployee': <function Employee.displayEmployee at 0x00000281430669D8>, '__dict__': <attribute '__dict__' of 'Employee' objects>, '__weakref__': <attribute '__weakref__' of 'Employee' objects>}\n"
     ]
    }
   ],
   "source": [
    "# %load ch3/employee.py\n",
    "#filenme:Employee.py\n",
    "#function : class variable and class attribute \n",
    "\n",
    "class Employee:\n",
    "   \"\"\"\n",
    "   Class Doc show the class attribute\n",
    "   \"\"\"\n",
    "#Count is class variable\n",
    "   Count = 0\n",
    "\n",
    "   def __init__(self, name, no, salary,level):\n",
    "     \n",
    "      self.name = name\n",
    "      self.no = no\n",
    "      self.salary = salary\n",
    "      self.level = level\n",
    "      Employee.Count += 1\n",
    "   \n",
    "   def displayEmployee(self):\n",
    "      print(\"-\"*45)\n",
    "      print (\"No : \", self.no,  \", Salary: \", self.salary,\", Level: \", self.level)\n",
    "\n",
    "#if __name__ == \"__main__\":\n",
    "   \n",
    "John= Employee(\"John\", \"126\",52000,\"Engineer\")\n",
    "Ted = Employee(\"Teddy\",\"34\", 65000,\"Manager\")\n",
    "if hasattr(John, 'name') :\n",
    "    John.displayEmployee()\n",
    "\n",
    "\n",
    "setattr(Ted, 'salary', 68000)\n",
    "Ted.displayEmployee()\n",
    "print(\"Total Employee no is \",Employee.Count)\n",
    "\n",
    "\n",
    "print (\"Employee.__doc__:\", Employee.__doc__)\n",
    "print (\"Employee.__module__:\", Employee.__module__)\n",
    "print (\"Employee.__name__:\", Employee.__name__)\n",
    "print (\"Employee.__bases__:\", Employee.__bases__)\n",
    "print (\"Employee.__dict__:\", Employee.__dict__)\n"
   ]
  },
  {
   "cell_type": "markdown",
   "metadata": {},
   "source": [
    "# 3.3 類別方法"
   ]
  },
  {
   "cell_type": "markdown",
   "metadata": {},
   "source": [
    "## 3.3.1 一般類別方法"
   ]
  },
  {
   "cell_type": "code",
   "execution_count": null,
   "metadata": {
    "collapsed": true
   },
   "outputs": [],
   "source": [
    "# %load ch3/stacking.py\n",
    "#filename:stacking.py\n",
    "#funcion: define _init_ using the empty list first\n",
    "#push the items in the stack ... and so on\n",
    "\n",
    "class Stack:\n",
    "    def __init__(self):\n",
    "        print(\"_init_ is doing\")\n",
    "        self.items = []\n",
    "         \n",
    "    #method push purpose is to push items\n",
    "    def push(self,item):\n",
    "        self.items.append(item)\n",
    "         \n",
    "    #method pop \n",
    "    def pop(self):\n",
    "        if len(self.items)==0:\n",
    "            raise ValueError('should have data in stack first')\n",
    "        else:\n",
    "            return self.items.pop()\n",
    "     \n",
    "    #isempty method is to check if stack is empty\n",
    "    def isempty(self):\n",
    "        return (self.items == [])\n",
    "     \n",
    "    #method to check how many items in the stack\n",
    "    def countofstack(self):\n",
    "        return len(self.items)\n",
    "     \n",
    "    def __str__(self):\n",
    "        return str(self.items)\n",
    "     \n",
    " \n",
    "if __name__ == \"__main__\":\n",
    "\n",
    "    stackobj = Stack()\n",
    "   # print( stackobj)\n",
    "   # stackobj.pop()\n",
    "    \n",
    "    stackobj.push(\"Johnny\")\n",
    "    stackobj.push(\"score\")\n",
    "    print( stackobj)\n",
    "        \n",
    "    stackobj.pop()\n",
    "    print(stackobj)\n",
    "         \n",
    "    print (\"the items count of stack is\", stackobj.countofstack())\n",
    "    \n"
   ]
  },
  {
   "cell_type": "code",
   "execution_count": null,
   "metadata": {
    "collapsed": true
   },
   "outputs": [],
   "source": [
    "# %load ch3/llist_text.py\n",
    "\n",
    "#filename:llist_text.py\n",
    "#function: build linked list\n",
    "\n",
    "class Node:\n",
    "  def __init__( self, data ):\n",
    "    print(\"init node\")\n",
    "    self.data = data\n",
    "    self.next = None\n",
    "    \n",
    "\n",
    "class LinkedList:\n",
    "  def __init__( self ):\n",
    "    print(\"Init List\")\n",
    "    self.head = None\n",
    "    self.tail = None\n",
    "\n",
    "  def Add( self, data ):\n",
    "      print(\"Node data=\",data)\n",
    "      newnode = Node( data )\n",
    "\n",
    "      if self.head == None:\n",
    "        self.head = newnode\n",
    "      if self.tail != None:\n",
    "        self.tail.next = newnode\n",
    "\n",
    "      self.tail = newnode\n",
    "  \n",
    "  def PrintList( self ):\n",
    "      node = self.head\n",
    "      while node != None:\n",
    "        print (node.data)\n",
    "        node = node.next\n",
    "    \n",
    "LList = LinkedList()\n",
    "LList.Add(\"John\")\n",
    "LList.Add(\"Johnny\")\n",
    "LList.Add(\"CT\")\n",
    "print(\"The linked list is \")\n",
    "LList.PrintList( )\n",
    "\n",
    "\n"
   ]
  },
  {
   "cell_type": "markdown",
   "metadata": {},
   "source": [
    "## 3.3.2 特殊類別方法"
   ]
  },
  {
   "cell_type": "code",
   "execution_count": null,
   "metadata": {
    "collapsed": true
   },
   "outputs": [],
   "source": [
    "# %load ch3/staticmethod.py\n",
    "#filename:staticmethod.py\n",
    "#funcion:specail methods of Python\n",
    "\n",
    "#@staticmethod means: when this method is called,\n",
    "#indeed, no need to pass an instance of the class to it , we(as we normally do with methods).\n",
    "#This means you can put a function inside a class\n",
    "#No need to have a instance .but you can't access the instance of that class (this is useful when your method does not use the instance).\n",
    "# We no need to have a instance, we can use classname.Methodname() to access\n",
    "#@classmethod means: when this method is called\n",
    "#use class as the first argument instead of instance of that class (as we normally do with methods).\n",
    "#This means you can use the class and its properties inside that method rather than a particular instance.\n",
    "\n",
    "#@staticmethod: no need the slef and the class cls parameter , use it like the function way。\n",
    "#@classmethod: noe need the self parameter, but the first parameter need to use cls, which means the cls parameter。\n",
    "\n",
    "\n",
    "class StaticClass(object):  \n",
    "    count = 0\n",
    "    def forking(self):  \n",
    "        print ('forking')  \n",
    " \n",
    "    @staticmethod  \n",
    "    def static_way():  \n",
    "        print ('static_way')  \n",
    "        print (StaticClass.count)\n",
    "        StaticClass.count +=1\n",
    "#cls().forking()\n",
    "#NameError: name 'cls' is not defined    \n",
    "        \n",
    "    @classmethod  \n",
    "    def class_way(cls):  \n",
    "        print ('class_way')  \n",
    "        print(cls.count )\n",
    "        cls.count +=1\n",
    "        cls().forking()\n",
    "        \n",
    "StaticClass.class_way()\t  \n",
    "StaticClass.static_way()  \n",
    "StaticClass.class_way()  \n"
   ]
  },
  {
   "cell_type": "markdown",
   "metadata": {},
   "source": [
    "# 3.4 建構初始函式"
   ]
  },
  {
   "cell_type": "code",
   "execution_count": null,
   "metadata": {
    "collapsed": true
   },
   "outputs": [],
   "source": [
    "# %load ch3/class_linuxsignal.py\n",
    "#filename:class_linuxsignal\n",
    "#function: test the _init_\n",
    "class Linuxsignal:\n",
    "    process_counter = 0\n",
    "    \n",
    "    def __init__(self):\n",
    "        print(\"Class object is inited now\")\n",
    "        type(self).process_counter += 1\n",
    "        \n",
    "    def linuxInstances(self):\n",
    "        return Linuxsignal.process_counter\n",
    "        \n",
    "\n",
    "if __name__ == \"__main__\":\n",
    "    \n",
    "    x = Linuxsignal()\n",
    "    print(x.linuxInstances())\n",
    "    y = Linuxsignal()\n",
    "    print(x.linuxInstances())\n"
   ]
  },
  {
   "cell_type": "markdown",
   "metadata": {},
   "source": [
    "## Exercises"
   ]
  },
  {
   "cell_type": "code",
   "execution_count": null,
   "metadata": {
    "collapsed": true
   },
   "outputs": [],
   "source": [
    "# %load ch3/exam3-2.py\n",
    "#filename:Animalstore.py\n",
    "#function: Class has Name and list\n",
    "\n",
    "class Animal_Store:\n",
    "\n",
    "#class has Name and list attribute\n",
    "    def __init__(self, name):\n",
    "        self.name = name\n",
    "        self.list = []    \n",
    "\n",
    "    def add_description(self, nick):\n",
    "        self.list.append(nick)\n",
    "\n",
    "Wu = Animal_Store('Amira')\n",
    "Tsai = Animal_Store('Panda')\n",
    "\n",
    "Wu.add_description('He can play ball')\n",
    "Wu.add_description('and can smile to child')\n",
    "Tsai.add_description('He can dance')\n",
    "\n",
    "print(Wu.list)\n",
    "print(Tsai.list)\n",
    "\n"
   ]
  },
  {
   "cell_type": "code",
   "execution_count": null,
   "metadata": {
    "collapsed": true
   },
   "outputs": [],
   "source": [
    "# %load ch3/exam3-3.py\n",
    "#filenme:exam3-3-Employee.py\n",
    "#function : class variable and class attribute \n",
    "\n",
    "class Employee:\n",
    "   \"\"\"\n",
    "   Class Doc show the class attribute\n",
    "   \"\"\"\n",
    "#Count is class variable\n",
    "   Count = 0\n",
    "\n",
    "   def __init__(self, name, no, salary,level):\n",
    "     \n",
    "      self.name = name\n",
    "      self.no = no\n",
    "      self.salary = salary\n",
    "      self.level = level\n",
    "      Employee.Count += 1\n",
    "   \n",
    "   def displayEmployee(self):\n",
    "      print(\"-\"*45)\n",
    "      print (\"No : \", self.no,  \", Salary: \", self.salary,\", Level: \", self.level)\n",
    "\n",
    "print ( Employee.__module__)\n",
    "#if __name__ == \"__main__\":\n",
    "   \n",
    "John= Employee(\"John\", \"126\",52000,\"Engineer\")\n",
    "Ted = Employee(\"Teddy\",\"34\", 65000,\"Manager\")\n",
    "\n",
    "print(\"Object ID \",id(John),\"  \",id(Ted))\n",
    "del Ted\n",
    "print(\"Object ID \",id(John),\"  \",id(Ted))\n"
   ]
  },
  {
   "cell_type": "code",
   "execution_count": null,
   "metadata": {
    "collapsed": true
   },
   "outputs": [],
   "source": []
  }
 ],
 "metadata": {
  "kernelspec": {
   "display_name": "Python 3",
   "language": "python",
   "name": "python3"
  },
  "language_info": {
   "codemirror_mode": {
    "name": "ipython",
    "version": 3
   },
   "file_extension": ".py",
   "mimetype": "text/x-python",
   "name": "python",
   "nbconvert_exporter": "python",
   "pygments_lexer": "ipython3",
   "version": "3.6.3"
  }
 },
 "nbformat": 4,
 "nbformat_minor": 2
}
