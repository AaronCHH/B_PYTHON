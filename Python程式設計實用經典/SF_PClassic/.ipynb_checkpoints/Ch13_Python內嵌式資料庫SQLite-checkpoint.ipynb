{
 "cells": [
  {
   "cell_type": "code",
   "execution_count": 3,
   "metadata": {},
   "outputs": [
    {
     "name": "stdout",
     "output_type": "stream",
     "text": [
      "<module 'ntpath' from 'C:\\\\Anaconda36\\\\lib\\\\ntpath.py'>\n",
      "I:\\BOOKS\\PYTHON\\__GITHUBBED\\Python程式設計實用經典\\SF_PClassic\n"
     ]
    }
   ],
   "source": [
    "import os, sys\n",
    "print(os.path)\n",
    "print(os.getcwd())"
   ]
  },
  {
   "cell_type": "code",
   "execution_count": null,
   "metadata": {
    "collapsed": true
   },
   "outputs": [],
   "source": [
    "flist = !dir ch13 /b \n",
    "[print(\"%load \" + \"ch13\" + \"/\" + f) for f in flist if f[-2:]==\"py\"]"
   ]
  },
  {
   "cell_type": "markdown",
   "metadata": {},
   "source": [
    "# Ch13_Python內嵌式資料庫SQLite"
   ]
  },
  {
   "cell_type": "markdown",
   "metadata": {},
   "source": [
    "<div id=\"toc\"></div>"
   ]
  },
  {
   "cell_type": "markdown",
   "metadata": {},
   "source": [
    "## 13.1 建立SQL資料庫軟體與執行SQLite"
   ]
  },
  {
   "cell_type": "markdown",
   "metadata": {},
   "source": [
    "## 13.2 Python 利用SQLite資料庫軟體 的程式概念"
   ]
  },
  {
   "cell_type": "code",
   "execution_count": 1,
   "metadata": {},
   "outputs": [
    {
     "name": "stdout",
     "output_type": "stream",
     "text": [
      "[('2016-03-01', 'BUY', 'Mediatek', 10, 120.0)]\n",
      "[('2016-03-01', 'BUY', 'Mediatek', 10, 120.0), ('2016-03-28', 'BUY', 'Mediatek', 10, 123.0), ('2016-05-02', 'BUY', 'TSMC', 20, 120.0), ('2006-05-12', 'SELL', 'Mediatek', 10, 125.0), ('2006-05-13', 'SELL', 'TSMC', 20, 125.0)]\n"
     ]
    }
   ],
   "source": [
    "# %load script/ch13/sqlite_creatDB_Table.py\n",
    "#filename:sqlite_CreateDB_Table.py\n",
    "#function: Python program using Sqlite\n",
    "#Step1: Create user DB name using Sqlite3.connect(\"DB name)\n",
    "#step2: Create Table using CREATE TABLE Table_name\n",
    "#step3: insert Data value using INSERT INTO invest VALUES\n",
    "\n",
    "import sqlite3\n",
    "conndb = sqlite3.connect('chap13_DB.db')\n",
    "curr = conndb.cursor()\n",
    "\n",
    "# Create table using CREATE TABLE Table_name\n",
    "curr.execute(\"CREATE TABLE invest(date text, trans text, Company text, qty int, price real)\")\n",
    "\n",
    "# Insert a row of data\n",
    "curr.execute(\"INSERT INTO invest VALUES ('2016-03-01','BUY','Mediatek',10,120)\")\n",
    "\n",
    "# commit the changes, it means save the data\n",
    "conndb.commit()\n",
    "\n",
    "curr.execute('select * from invest')\n",
    "data_fromDB = curr.fetchall()\n",
    "print(data_fromDB)\n",
    "\n",
    "# inserts many records at a time\n",
    "buy_sell = [('2016-03-28', 'BUY', 'Mediatek', 10, 123.00),\n",
    "             ('2016-05-02', 'BUY', 'TSMC', 20, 120.00),\n",
    "             ('2006-05-12', 'SELL','Mediatek', 10, 125.00),\n",
    "             ('2006-05-13', 'SELL','TSMC', 20, 125.00),\n",
    "            ]\n",
    "curr.executemany('INSERT INTO invest VALUES (?,?,?,?,?)', buy_sell)\n",
    "conndb.commit()\n",
    "\n",
    "# fetch the data from DB's table\n",
    "curr.execute('select * from invest')\n",
    "data=curr.fetchall()\n",
    "print(data)\n",
    "\n",
    "# close the connection .\n",
    "curr.close()\n",
    "conndb.close()\n",
    "\n"
   ]
  },
  {
   "cell_type": "markdown",
   "metadata": {},
   "source": [
    "## test adding partial fields"
   ]
  },
  {
   "cell_type": "code",
   "execution_count": 1,
   "metadata": {},
   "outputs": [
    {
     "name": "stdout",
     "output_type": "stream",
     "text": [
      "[('2016-03-01', 'BUY', 'Mediatek', 10, 120.0)]\n",
      "[('2016-03-01', 'BUY', 'Mediatek', 10, 120.0), ('2016-03-28', 'BUY', 'Mediatek', 10, 123.0)]\n"
     ]
    }
   ],
   "source": [
    "# %load script/ch13/sqlite_creatDB_Table.py\n",
    "#filename:sqlite_CreateDB_Table.py\n",
    "#function: Python program using Sqlite\n",
    "#Step1: Create user DB name using Sqlite3.connect(\"DB name)\n",
    "#step2: Create Table using CREATE TABLE Table_name\n",
    "#step3: insert Data value using INSERT INTO invest VALUES\n",
    "\n",
    "import sqlite3\n",
    "conndb = sqlite3.connect('chap13_DB2.db')\n",
    "curr = conndb.cursor()\n",
    "\n",
    "# Create table using CREATE TABLE Table_name\n",
    "curr.execute(\"CREATE TABLE invest(date text, trans text, Company text, qty int, price real)\")\n",
    "\n",
    "# Insert a row of data\n",
    "curr.execute(\"INSERT INTO invest VALUES ('2016-03-01','BUY','Mediatek',10,120)\")\n",
    "\n",
    "# commit the changes, it means save the data\n",
    "conndb.commit()\n",
    "\n",
    "curr.execute('select * from invest')\n",
    "data_fromDB = curr.fetchall()\n",
    "print(data_fromDB)\n",
    "\n",
    "# inserts many records at a time\n",
    "buy_sell = [('2016-03-28', 'BUY', 'Mediatek', 10, 123.00),\n",
    "             ('2016-05-02', 'BUY', 'TSMC', 20, 120.00),\n",
    "             ('2006-05-12', 'SELL','Mediatek', 10, 125.00),\n",
    "             ('2006-05-13', 'SELL','TSMC', 20, 125.00),\n",
    "            ]\n",
    "\n",
    "# buy_sell = [('BUY', 'Mediatek', 10, 123.00),\n",
    "#              ('BUY', 'TSMC', 20, 120.00),\n",
    "#              ('SELL','Mediatek', 10, 125.00),\n",
    "#              ('SELL','TSMC', 20, 125.00),\n",
    "#             ]\n",
    "# curr.executemany('INSERT INTO invest(date text, trans text, Company text, qty int, price real) VALUES (?,?,?,?,?)', buy_sell)\n",
    "\n",
    "# insert data into selected fields\n",
    "curr.execute('INSERT INTO invest(date, trans, Company, qty, price) VALUES (?,?,?,?,?)', buy_sell[0])\n",
    "conndb.commit()\n",
    "\n",
    "# fetch the data from DB's table\n",
    "curr.execute('select * from invest')\n",
    "data=curr.fetchall()\n",
    "print(data)\n",
    "\n",
    "# close the connection .\n",
    "curr.close()\n",
    "conndb.close()\n",
    "\n"
   ]
  },
  {
   "cell_type": "code",
   "execution_count": 3,
   "metadata": {},
   "outputs": [
    {
     "data": {
      "text/plain": [
       "[('2016-03-28', 'BUY', 'Mediatek', 10, 123.0),\n",
       " ('2016-05-02', 'BUY', 'TSMC', 20, 120.0),\n",
       " ('2006-05-12', 'SELL', 'Mediatek', 10, 125.0),\n",
       " ('2006-05-13', 'SELL', 'TSMC', 20, 125.0)]"
      ]
     },
     "execution_count": 3,
     "metadata": {},
     "output_type": "execute_result"
    }
   ],
   "source": [
    "# inserts many records at a time\n",
    "buy_sell = [('2016-03-28', 'BUY', 'Mediatek', 10, 123.00),\n",
    "             ('2016-05-02', 'BUY', 'TSMC', 20, 120.00),\n",
    "             ('2006-05-12', 'SELL','Mediatek', 10, 125.00),\n",
    "             ('2006-05-13', 'SELL','TSMC', 20, 125.00),\n",
    "            ]\n",
    "buy_sell"
   ]
  },
  {
   "cell_type": "code",
   "execution_count": 2,
   "metadata": {},
   "outputs": [
    {
     "data": {
      "text/plain": [
       "('2016-03-28', 'BUY', 'Mediatek', 10, 123.0)"
      ]
     },
     "execution_count": 2,
     "metadata": {},
     "output_type": "execute_result"
    }
   ],
   "source": [
    "buy_sell[0]"
   ]
  },
  {
   "cell_type": "code",
   "execution_count": null,
   "metadata": {
    "collapsed": true
   },
   "outputs": [],
   "source": [
    "import sqlite3 as DB\n",
    "import sys\n",
    "\n",
    "connDB = DB.connect('tainan_1.sqlite')\n",
    "\n",
    "with connDB:\n",
    "    cur = connDB.cursor()\n",
    "    cur.execute(\"SELECT * FROM v2_global_settings\")\n",
    "    rows = cur.fetchall()    \n",
    "    print(cur.rowcount)   \n",
    "    for row in rows:\n",
    "        print(row)\n",
    "            \n",
    "    # Insert a row of data\n",
    "    \n",
    "    connDB2 = DB.connect('wenshan.sqlite')\n",
    "    with connDB2:\n",
    "        cur = connDB2.cursor()\n",
    "        cur.executemany(\"INSERT INTO v2_global_settings ('nr_timesteps','dem_file','infiltration_rate','bath_max','id','initial_waterlevel','dem_obstacle_detection','max_degree','grid_space','advection_2d','use_of_cg','dist_calc_points','start_date','interflow_type','table_step_size','use_1d_flow','advection_1d','convergence_eps','initial_waterlevel_file','sim_time_step','frict_coef','use_of_nested_newton','integration_method','guess_dams','timestep_plus','num_pred_cor','name','flooding_threshold','frict_type','use_2d_flow','max_nonlin_iterations','kmax','min_reach_length','use_0d_inflow') VALUES (?, ?, ?, ?, ?, ?, ?, ?, ?, ?, ?, ?, ?, ?, ?, ?, ?, ?, ?, ?, ?, ?, ?, ?, ?, ?, ?, ?, ?, ?, ?, ?, ?,?)\", \n",
    "                        [('100','raster/basin1013.tif','1','2','1','0','0','10','128','0','20','0','1/1/2014 0:00','1','0.01','0','1','1.00E-05','0','40','0.026','0','0','1','0','1','rn','0.25','2','1','100','4','0','0')])\n",
    "        \n",
    "        cur.execute(\"SELECT * FROM v2_global_settings\")\n",
    "        rows = cur.fetchall()            \n",
    "        for row in rows:\n",
    "            print(row)\n",
    "        \n",
    "\n",
    "    "
   ]
  },
  {
   "cell_type": "code",
   "execution_count": null,
   "metadata": {
    "collapsed": true
   },
   "outputs": [],
   "source": [
    "# %load script/ch13/sqlite_retrive.py\n",
    "#filename:Sqlite_retrive.py\n",
    "#function: retrive row data\n",
    "#The original table is created by using the following statement\n",
    "#curr.execute(\"CREATE TABLE invest(date text, trans text, Company text, qty int, price real)\")\n",
    "\n",
    "import sqlite3 as DB\n",
    "import sys\n",
    "\n",
    "\n",
    "connDB = DB.connect('chap13_db.db')\n",
    "with connDB:    \n",
    "    cur = connDB.cursor()    \n",
    "    cur.execute(\"SELECT * FROM invest\")\n",
    "\n",
    "    rows = cur.fetchall()\n",
    "    print(\"The Data from invest table are as follows:\\n\")\n",
    "    print(\" date          trans  Company    qty  price\")\n",
    "    print(\"===========================================\")\n",
    "    for row in rows:\n",
    "        print(row)\n",
    "\n",
    "    cur.execute(\"SELECT * FROM invest WHERE Company= 'TSMC'  AND trans= 'BUY' \")\n",
    "\n",
    "    BUY_amount=0\n",
    "    amount=0\n",
    "    BUY_records = cur.fetchall()\n",
    "    print(\"\\nThe Data from invest for TSMC BUY are as follows:\\n\")\n",
    "    for row in BUY_records:\n",
    "        print(row)\n",
    "#   cur.execute(\"SELECT sum(qty*price) AS 'Total monthly salary' FROM invest\")\n",
    "        amount=row[3]*row[4]\n",
    "        print(\"row amount=\",amount)\n",
    "        BUY_amount +=amount\n",
    "    print(\"BUY_amount=\",BUY_amount)\n",
    "\n",
    "    cur.execute(\"SELECT * FROM invest WHERE Company= 'TSMC'  AND trans= 'SELL' \")\n",
    "\n",
    "    SELL_amount=0\n",
    "    amount=0\n",
    "    SELL_records = cur.fetchall()\n",
    "    print(\"\\nThe Data from invest for TSMC SELL  are as follows:\\n\")\n",
    "    for row in SELL_records:\n",
    "        print(row)\n",
    "        amount=row[3]*row[4]\n",
    "        print(\"row amount=\",amount) \n",
    "        SELL_amount +=amount\n",
    "    print(\"SELL_amount=\",SELL_amount)\n",
    "\n",
    "    print(\" The invest result=\",(SELL_amount-BUY_amount)*1000,\" NTD\")\n",
    "\n",
    "# close the connection .\n",
    "cur.close()\n",
    "connDB.close()\n"
   ]
  },
  {
   "cell_type": "markdown",
   "metadata": {},
   "source": [
    "## 13.3 SQLite如何定義資料庫結構與內容"
   ]
  },
  {
   "cell_type": "markdown",
   "metadata": {},
   "source": [
    "### 13.3.1 SQLite資料描述語言的語法"
   ]
  },
  {
   "cell_type": "markdown",
   "metadata": {},
   "source": [
    "### 13.3.2 Python使用SQLite資料描述語言"
   ]
  },
  {
   "cell_type": "code",
   "execution_count": null,
   "metadata": {
    "collapsed": true
   },
   "outputs": [],
   "source": [
    "# %load script/ch13/sqlite_create_insert_only.py\n",
    "#filename:sqlite_Create_insert_only.py\n",
    "#function: create Database name and Table and insrt values\n",
    "\n",
    "import sqlite3 as DBlite\n",
    "\n",
    "conn = DBlite.connect(\"D:/BOOK/CHAP14/CHAP13_TEST.DB\") \n",
    "cursor = conn.cursor()\n",
    "\n",
    "cursor.execute(\"\"\"drop table if exists books\"\"\")\n",
    "\n",
    "# create a table\n",
    "#cursor.execute(\"\"\"CREATE TABLE albums\n",
    "#                  (title text, artist text, release_date text, \n",
    "#                   publisher text, media_type text) \n",
    "#               \"\"\")\n",
    "cursor.execute(\"\"\"CREATE TABLE books\n",
    "                  (book_id  text, title text, author text, release_date text, \n",
    "                   book_company text, category_type text) \n",
    "               \"\"\")\n",
    "# insert some data\n",
    "cursor.execute(\"INSERT INTO books VALUES ('0-13-020272-x','Unix Network programming', 'Steven ', '10/12/2000', 'Osliiy', 'Network')\")\n",
    "\n",
    "# commit, means to save data to database\n",
    "conn.commit()\n",
    "\n",
    "# insert multiple records, using the more secure \"?\" method\n",
    "#cursorname.execitemany\n",
    "BOOKS_data = [('1-878739-02-6','c++ primer', 'Stephen', '12/8/2000', 'Waite Group', 'Language'),\n",
    "              ('0-13-2017-1','The design of the UNix OS','J.Bach', '3/2/2002', 'Prentice', 'OS')]\n",
    "cursor.executemany(\"INSERT INTO books VALUES (?,?,?,?,?,?)\", BOOKS_data)\n",
    "conn.commit()\n",
    "\n",
    "print (\"\\nList all the records in the table after INSERT :\\n\")\n",
    "for row_record in cursor.execute(\"SELECT rowid, * FROM books ORDER BY category_type\"):\n",
    "    print (row_record)\n",
    "\n",
    "embedded_sql_alter = \"\"\"\n",
    "ALTER TABLE books ADD price int\n",
    "\"\"\"\n",
    "cursor.execute(embedded_sql_alter)\n",
    "conn.commit()\n",
    "\n",
    "print (\"\\nList all the records in the table after ALTER :\\n\")\n",
    "for row_record in cursor.execute(\"SELECT rowid, * FROM books ORDER BY category_type\"):\n",
    "    print (row_record)\n",
    "\n",
    "embedded_sql = \"\"\"\n",
    "UPDATE books SET author = 'Maurice J.Bach' WHERE author = 'J.Bach'\n",
    "\"\"\"\n",
    "cursor.execute(embedded_sql)\n",
    "conn.commit()\n",
    "print (\"\\nList all the records in the table after UPDATE :\\n\")\n",
    "for row_record in cursor.execute(\"SELECT rowid, * FROM books ORDER BY category_type\"):\n",
    "    print (row_record)\n",
    "\n",
    "\n",
    "sql = \"\"\" DELETE FROM books WHERE author = 'Stephen'\n",
    "\"\"\"\n",
    "cursor.execute(sql)\n",
    "conn.commit()\n",
    "print (\"\\nList all the records in the table after DELETE FROM TABLE:\\n\")\n",
    "for row_record in cursor.execute(\"SELECT rowid, * FROM books ORDER BY category_type\"):\n",
    "    print (row_record)\n",
    "\n",
    "\n",
    "\n",
    "\n"
   ]
  },
  {
   "cell_type": "markdown",
   "metadata": {},
   "source": [
    "### 13.3.3 SQLite資料型別"
   ]
  },
  {
   "cell_type": "code",
   "execution_count": null,
   "metadata": {
    "collapsed": true
   },
   "outputs": [],
   "source": [
    "# %load script/ch13/sqlite_datatype.py\n",
    "#filename:sqlite_Datatype.py\n",
    "#function: show the data type\n",
    "\n",
    "import sqlite3\n",
    "sql_create_cusomer_table = \"\"\"\n",
    "CREATE TABLE IF NOT EXISTS customer (\n",
    "  Customer_id  INT  PRIMARY KEY  DEFAULT 1101,\n",
    "  Cust_Name VARCHAR(10) NOT NULL DEFAULT \"APPLE\",\n",
    "  Credit int  NOT NULL DEFAULT 10000,\n",
    "  Phone   VARCHAR(10) NULL\n",
    ");\n",
    "\"\"\"\n",
    "\n",
    "db_file =\"D:/BOOK/CHAP14/CHAP13_TEST.DB\" \n",
    "\n",
    "try:\n",
    "        conn = sqlite3.connect(db_file)\n",
    "        print(conn)\n",
    "    \n",
    "except Error as err:\n",
    "        print(err)\n",
    "else:\n",
    "      print(\"OK\")\n",
    "\n",
    "conn.execute(sql_create_cusomer_table)\n",
    "\n",
    "customer_data = [(1102,\"APPLE\",10000,\"212-3312456\"),\n",
    "                 (1101,\"IBM\",20000,\"\"),\n",
    "                 (1103,\"Google\",30000,\"716-3222222\")]\n",
    "cursor = conn.cursor()\n",
    "cursor.executemany(\"INSERT INTO customer VALUES (?,?,?,?)\", customer_data)\n",
    "print (\"\\nList all the records in the table after INSERT :\\n\")\n",
    "for row_record in cursor.execute(\"SELECT rowid, * FROM customer ORDER BY Customer_id\"):\n",
    "    print (row_record)\n"
   ]
  },
  {
   "cell_type": "markdown",
   "metadata": {},
   "source": [
    "### 13.3.4 SQL資料處理語言的語法"
   ]
  },
  {
   "cell_type": "markdown",
   "metadata": {},
   "source": [
    "### 13.3.5 Python使用SQLite資料處理語言"
   ]
  },
  {
   "cell_type": "code",
   "execution_count": null,
   "metadata": {
    "collapsed": true
   },
   "outputs": [],
   "source": [
    "# %load script/ch13/sqlite_DML.py\n",
    "#filename:sqlite_DML.py\n",
    "#function: select Row data\n",
    "\n",
    "import sqlite3 as DBlite\n",
    "\n",
    "conn = DBlite.connect(\"D:/BOOK/CHAP14/CHAP13_TEST.DB\") \n",
    "cursor = conn.cursor()\n",
    "cursor.execute(\"\"\"DROP TABLE if exists books\"\"\")\n",
    "\n",
    "cursor.execute(\"\"\"CREATE TABLE books\n",
    "                  (book_id  text, title text, author text, release_date text, \n",
    "                   book_company text, category_type text) \n",
    "               \"\"\")\n",
    "# insert data\n",
    "cursor.execute(\"INSERT INTO books VALUES ('0-13-020272-x','Unix Network programming', 'Steven ', '10/12/2000', 'Osliiy', 'Network')\")\n",
    "# save data to database\n",
    "conn.commit()\n",
    "\n",
    "# insert multiple records(row) using cursorname.execitemany \n",
    "BOOKS_data = [('1-878739-02-6','c++ primer', 'Stephen', '12/8/2000', 'Waite Group', 'Language'),\n",
    "              ('0-13-2017-1','The design of the UNix OS','J.Bach', '3/2/2002', 'Prentice', 'OS'),\n",
    "              ('0-13-2016-1','The Python programming','S.HSU', '3/2/2016', 'songkung', 'language')]\n",
    "cursor.executemany(\"INSERT INTO books VALUES (?,?,?,?,?,?)\", BOOKS_data)\n",
    "conn.commit()\n",
    "\n",
    "print (\"\\nList all the records in the table after INSERT :\\n\")\n",
    "for row_record in cursor.execute(\"SELECT rowid, * FROM books ORDER BY category_type\"):\n",
    "    print (row_record)\n",
    "    \n",
    "print( \"\\nResults from a LIKE query:\\n\")\n",
    "select_sql = \"\"\"\n",
    "SELECT * FROM books \n",
    "WHERE title LIKE '%python%' \"\"\"\n",
    "cursor.execute(select_sql)\n",
    "print (cursor.fetchall())\n",
    "\n",
    "print( \"\\nDELETE author is J.Bach:\\n\")\n",
    "delete_sql=\"\"\"DELETE FROM  books where author=\"J.Bach\"\n",
    "\"\"\"\n",
    "cursor.execute(delete_sql)\n",
    "conn.commit()\n",
    "for row_record in cursor.execute(\"SELECT rowid, * FROM books ORDER BY category_type\"):\n",
    "    print (row_record)\n",
    "\n",
    "\n",
    "\n",
    "\n",
    "\n",
    "\n"
   ]
  },
  {
   "cell_type": "code",
   "execution_count": null,
   "metadata": {
    "collapsed": true
   },
   "outputs": [],
   "source": [
    "# %load script/ch13/primary_key.py\n",
    "#filename: primary_key.py\n",
    "#function: create table using primay key and select two table such as orders and customers\n",
    "\n",
    "import sqlite3\n",
    "\n",
    "\n",
    "#create a Database\n",
    "def db_connect(db):\n",
    "   \n",
    "    try:\n",
    "        conn = sqlite3.connect(db)\n",
    "        print(\"conn=\",conn)\n",
    "        return conn\n",
    "    except Error as err:\n",
    "        print(err)\n",
    "        return None\n",
    "    else:\n",
    "        print(\"connection DB is ok\")\n",
    "        \n",
    "def create_table(conn, create_table):\n",
    "    try:\n",
    "        c = conn.cursor()\n",
    "        c.execute(create_table)\n",
    "    except Error as err:\n",
    "        print(err)\n",
    "        return NONE\n",
    "    else:\n",
    "        print(\"Create TABLE OK\")\n",
    "        return c\n",
    "    finally:\n",
    "        print(\"Finally\")\n",
    "\n",
    "def main():\n",
    "    dbfile =\"D:/BOOK/CHAP14/CHAP13_TEST.DB\"\n",
    "    \n",
    "    sql_create_customers_table = \"\"\" CREATE TABLE IF NOT EXISTS customers (\n",
    "                                        id         integer PRIMARY KEY,\n",
    "                                        name       text NOT NULL,\n",
    "                                        begin_date text,\n",
    "                                        credit     integer NOT NULL\n",
    "                                    ); \"\"\"\n",
    " \n",
    "    sql_create_orders_table = \"\"\"CREATE TABLE IF NOT EXISTS orders (\n",
    "                                    id            integer PRIMARY KEY,\n",
    "                                    name          text NOT NULL,\n",
    "                                    quantity      integer,\n",
    "                                    product       integer NOT NULL,\n",
    "                                    price         integer NOT NULL,\n",
    "                                    ship_date     text NOT NULL,\n",
    "                                    FOREIGN KEY   (id) REFERENCES customers (id)\n",
    "                                );\"\"\"\n",
    " \n",
    "    # create a database connection\n",
    "    conn = db_connect(dbfile)\n",
    "    \n",
    "    if conn is not None:\n",
    "        create_table(conn, sql_create_customers_table)\n",
    "        create_table(conn, sql_create_orders_table)\n",
    "    else:\n",
    "        print(\"CANNOT  create the database connection.\")\n",
    "\n",
    "#    insert_values, don't let the primary key id duplicate , it is PRIMARY KEY \n",
    "    c = conn.cursor()\n",
    "#    c.execute(\" DROP TABLE customers\")\n",
    "    customers_data = [(1176,'APPLE', '12/8/2000', 120000),\n",
    "                     (1178,'IBM', '12/12/2005', 240000)]\n",
    "    c.executemany(\"INSERT INTO customers VALUES (?,?,?,?)\", customers_data)\n",
    "    conn.commit()\n",
    "    print (\"\\nList all the records in the table after INSERT customers:\\n\")\n",
    "    for row_record in c.execute(\"SELECT * FROM customers ORDER BY id\"):\n",
    "        print (row_record)\n",
    "        \n",
    "    c = conn.cursor()\n",
    "#    c.execute(\" DROP TABLE orders\")\n",
    "    orders_data = [(1176,'APPLE', 200, \"AVL car L1\", 100,'12/05/2016'),\n",
    "                   (1178,'IBM', 300,\"AVL car L2\",150,'12/06/2015')]\n",
    "    c.executemany(\"INSERT INTO orders VALUES (?,?,?,?,?,?)\", orders_data)\n",
    "    conn.commit()\n",
    "    print (\"\\nList all the records in the table after INSERT orders:\\n\")\n",
    "    for row_record in c.execute(\"SELECT * FROM orders ORDER BY id\"):\n",
    "        print (row_record)\n",
    "    print (\"\\nList all the records in the table after SELECT:\\n\")    \n",
    "    for row_record in c.execute(\"SELECT * FROM orders WHERE EXISTS(SELECT * FROM customers WHERE customers.id=orders.id)\"):\n",
    "        print (row_record)    \n",
    "    \n",
    "if __name__ == '__main__':\n",
    "    main()\n"
   ]
  },
  {
   "cell_type": "markdown",
   "metadata": {},
   "source": [
    "### 13.3.6 SQLite資料控制語言的語法"
   ]
  },
  {
   "cell_type": "code",
   "execution_count": null,
   "metadata": {
    "collapsed": true
   },
   "outputs": [],
   "source": [
    "# %load script/ch13/dbformat.py\n",
    "#fielname: dbformat.py\n",
    "#function: sqlite3 insert data and commit using the format style\n",
    "import sqlite3\n",
    "import os\n",
    "\n",
    "sqlite_file = \"D:/BOOK/CHAP14/CHAP13_CUST.DB\"\n",
    "table_name = 'customers'\n",
    "id_column = 'id'\n",
    "name_column = 'cust_name'\n",
    "\n",
    "# Connecting to the database file\n",
    "conn = sqlite3.connect(sqlite_file)\n",
    "c = conn.cursor()\n",
    "\n",
    "#c.execute(\"DROP TABLE IF EXISTS customers\")\n",
    "#c.execute(\"CREATE TABLE customers (Id INTEGER PRIMARY KEY , cust_name TEXT)\")\n",
    "\n",
    "# Inserts customer ID \n",
    "try:\n",
    "    c.execute(\"INSERT INTO {tn} ({idf}, {cn}) VALUES (1101, 'APPLE')\".\\\n",
    "        format(tn=table_name, idf=id_column, cn=name_column))\n",
    "    conn.commit()\n",
    "except sqlite3.IntegrityError:\n",
    "    print('**** ID exists ERROR  since it is PRIMARY KEY  {}'.format(id_column))\n",
    "#    sys.exit(1)\n",
    "#    if conn:\n",
    "#        conn.rollback()\n",
    "#    print (\"Error %s:\" % err.args[0])\n",
    "#    sys.exit(1)\n",
    "    \n",
    "\n",
    "else:\n",
    "    print(\"Sucessful\")\n",
    "    for row_record in c.execute(\"SELECT * FROM customers\"):\n",
    "        print (row_record)\n",
    "    \n",
    "# insert an customer ID if the ID not exist\n",
    "\n",
    "c.execute(\"INSERT OR IGNORE INTO {tn} ({idf}, {cn}) VALUES (1102, 'APPLE')\".\\\n",
    "        format(tn=table_name, idf=id_column, cn=name_column))\n",
    "\n",
    "# Updates the  inserted or existing row record's cust_name         \n",
    "c.execute(\"UPDATE {tn} SET {cn}=('IBM') WHERE {idf}=(1101)\".\\\n",
    "        format(tn=table_name, cn=name_column, idf=id_column))\n",
    "\n",
    "conn.commit()\n",
    "print (\"\\nList all the records in the table after INSERT and Update :\\n\")\n",
    "for row_record in c.execute(\"SELECT * FROM customers\"):\n",
    "    print (row_record)\n",
    "\n",
    "conn.close()\n"
   ]
  },
  {
   "cell_type": "markdown",
   "metadata": {},
   "source": [
    "## 13.4 內建函式"
   ]
  },
  {
   "cell_type": "code",
   "execution_count": null,
   "metadata": {
    "collapsed": true
   },
   "outputs": [],
   "source": [
    "# %load script/ch13/sqlite_ver.py\n",
    "#filename:sqlite_ver.py\n",
    "#function: to check the sqlite version\n",
    "\n",
    "import sqlite3 \n",
    "import sys\n",
    "\n",
    "con = None\n",
    "dbfile=\"D:/BOOK/CHAP14/CHAP13_CUST.DB\"\n",
    "\n",
    "try:\n",
    "    con = sqlite3.connect('dbfile.db')\n",
    "    cur = con.cursor()    \n",
    "    cur.execute('SELECT SQLITE_VERSION()')\n",
    "    ver = cur.fetchone()\n",
    "    \n",
    "    print (\"SQLite3 version is as follows: %s\" % ver)                \n",
    "    \n",
    "except sqlite3.Error as e:\n",
    "   \n",
    "    print (\"Error %s:\" % e.args[0])\n",
    "    sys.exit(1)\n",
    "\n",
    "else:\n",
    "     print (\"SQLite3 version is as follows: %s\" % ver)\n",
    "\n",
    "finally:\n",
    "    if con:\n",
    "        con.close()\n"
   ]
  },
  {
   "cell_type": "code",
   "execution_count": null,
   "metadata": {
    "collapsed": true
   },
   "outputs": [],
   "source": [
    "# %load script/ch13/employee_count.py\n",
    "\n",
    "#filename:employee_count.py\n",
    "#function: create database and create table, insert value to table\n",
    "\n",
    "import sqlite3\n",
    "dbfile= \"D:/BOOK/CHAP13/employee.DB\"\n",
    "connection = sqlite3.connect(dbfile)\n",
    "\n",
    "cursor = connection.cursor()\n",
    "\n",
    "# delete the table first\n",
    "cursor.execute(\"\"\"DROP TABLE employee;\"\"\")\n",
    "\n",
    "sql_CREATE_TABLE = \"\"\"\n",
    "CREATE TABLE employee ( \n",
    "emp_id INTEGER PRIMARY KEY, first VARCHAR(10), last VARCHAR(8), \n",
    "sex CHAR(1), hire DATE,birth DATE,salary int);\n",
    "\"\"\"\n",
    "\n",
    "cursor.execute(sql_CREATE_TABLE)\n",
    "\n",
    "sql_INSERT = \"\"\"INSERT INTO employee (emp_id, first, last, sex, hire,birth,salary)\n",
    "    VALUES (1999, \"Steven\", \"Bush\", \"M\",\"2000-01-26\", \"1966-12-25\",5000);\"\"\"\n",
    "cursor.execute(sql_INSERT)\n",
    "\n",
    "sql_INSERT = \"\"\"INSERT INTO employee (emp_id, first, last, sex, hire,birth,salary)\n",
    "    VALUES (1990, \"John\", \"Hu\", \"M\",\"2006-05-26\", \"1990-1-25\",5500);\"\"\"\n",
    "cursor.execute(sql_INSERT)\n",
    "\n",
    "sql_INSERT_command = \"\"\"INSERT INTO employee (emp_id, first, last, sex, hire,birth,salary)\n",
    "    VALUES (2000, \"Ted\", \"HSU\", \"M\",\"1980-01-26\", \"1963-10-25\",4000);\"\"\"\n",
    "cursor.execute(sql_INSERT_command)\n",
    "\n",
    "\n",
    "# use commit() when you want to save the changes\n",
    "connection.commit()\n",
    "cursor.execute(\"SELECT COUNT(*) from employee where salary >4000 AND first='John'\")\n",
    "(number_of_rows,)=cursor.fetchone()\n",
    "print(\"count=\",number_of_rows)\n",
    " \n",
    "\n",
    "connection.close()\n"
   ]
  },
  {
   "cell_type": "markdown",
   "metadata": {},
   "source": [
    "## Exercises"
   ]
  },
  {
   "cell_type": "code",
   "execution_count": null,
   "metadata": {
    "collapsed": true
   },
   "outputs": [],
   "source": [
    "# %load ch13/exam13-2.py\n",
    "#filename:chap13_ex1_create_table\n",
    "#function:check why the sytax is wrong\n",
    "\n",
    "import sqlite3\n",
    "\n",
    "#-------------------------db creation ---------------------------------------#\n",
    "dbconn = sqlite3.connect('/my_db.db')\n",
    "cursor = dbconn.cursor()\n",
    "cursor.execute(\"DROP TABLE IF EXISTS EMPLOYEE\")\n",
    "dbconn.execute('''CREATE TABLE EMPLOYEE\n",
    "       (ID INT PRIMARY KEY     NOT NULL,\n",
    "       NAME           TEXT    NOT NULL,\n",
    "       AGE            INT     NOT NULL,\n",
    "       ADDRESS        CHAR(50),\n",
    "       SALARY         REAL);''')\n",
    "\n",
    "\n",
    "cursor.execute(\"DROP TABLE IF EXISTS IOT_table\")\n",
    "sql = \"\"\"CREATE TABLE IOT_table (\n",
    "        name        TEXT DEFAULT NULL,\n",
    "        temperature INT,\n",
    "        location    CHAR(50),\n",
    "        );\"\"\"\n",
    "cursor.execute(sql)\n",
    "\n",
    "sql = (\"CREATE INDEX index_iot_table ON IOT_table(name);\")\n",
    "cursor.execute(sql)\n"
   ]
  },
  {
   "cell_type": "code",
   "execution_count": null,
   "metadata": {
    "collapsed": true
   },
   "outputs": [],
   "source": [
    "# %load ch13/exam13-3.py\n",
    "#filename:sqlite_Datatype.py\n",
    "#function: show the data type\n",
    "\n",
    "import sqlite3\n",
    "sql_create_cusomer_table = \"\"\"\n",
    "CREATE TABLE IF NOT EXISTS customer (\n",
    "  Customer_id  INT  PRIMARY KEY  DEFAULT 1101,\n",
    "  Cust_Name VARCHAR(10) NOT NULL DEFAULT \"APPLE\",\n",
    "  Credit int  NOT NULL DEFAULT 10000,\n",
    "  Phone   VARCHAR(10) NULL\n",
    ");\n",
    "\"\"\"\n",
    "\n",
    "db_file =\"D:/BOOK/CHAP14/CHAP13_TEST.DB\" \n",
    "\n",
    "try:\n",
    "        conn = sqlite3.connect(db_file)\n",
    "        print(conn)\n",
    "    \n",
    "except Error as err:\n",
    "        print(err)\n",
    "else:\n",
    "      print(\"OK\")\n",
    "\n",
    "conn.execute(sql_create_cusomer_table)\n",
    "\n",
    "customer_data = [(1102,\"APPLE\",10000,\"212-3312456\"),\n",
    "                 (1101,\"IBM\",20000,\"\"),\n",
    "                 (1102,\"Google\",30000,\"716-3222222\")]\n",
    "cursor = conn.cursor()\n",
    "cursor.executemany(\"INSERT INTO customer VALUES (?,?,?,?)\", customer_data)\n",
    "print (\"\\nList all the records in the table after INSERT :\\n\")\n",
    "for row_record in cursor.execute(\"SELECT rowid, * FROM customer ORDER BY Customer_id\"):\n",
    "    print (row_record)\n"
   ]
  },
  {
   "cell_type": "code",
   "execution_count": null,
   "metadata": {
    "collapsed": true
   },
   "outputs": [],
   "source": []
  }
 ],
 "metadata": {
  "kernelspec": {
   "display_name": "Python 3",
   "language": "python",
   "name": "python3"
  },
  "language_info": {
   "codemirror_mode": {
    "name": "ipython",
    "version": 3
   },
   "file_extension": ".py",
   "mimetype": "text/x-python",
   "name": "python",
   "nbconvert_exporter": "python",
   "pygments_lexer": "ipython3",
   "version": "3.6.3"
  }
 },
 "nbformat": 4,
 "nbformat_minor": 2
}
