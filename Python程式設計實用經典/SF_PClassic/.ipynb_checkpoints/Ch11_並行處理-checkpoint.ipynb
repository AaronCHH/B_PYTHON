{
 "cells": [
  {
   "cell_type": "markdown",
   "metadata": {},
   "source": [
    "# Ch11_並行處理"
   ]
  },
  {
   "cell_type": "markdown",
   "metadata": {},
   "source": [
    "<div id=\"toc\"></div>"
   ]
  },
  {
   "cell_type": "markdown",
   "metadata": {},
   "source": [
    "## 11.1 以執行緒為基礎的並行處理"
   ]
  },
  {
   "cell_type": "code",
   "execution_count": 3,
   "metadata": {
    "collapsed": false
   },
   "outputs": [
    {
     "name": "stdout",
     "output_type": "stream",
     "text": [
      "\n",
      " now is doing the thread using function6\n",
      "\n",
      "i= 1\n",
      "i= 2\n"
     ]
    }
   ],
   "source": [
    "# %load script/ch11/thread_fun.py\n",
    "#filename:thread_fun.py\n",
    "#function:thread using function\n",
    "\n",
    "import threading\n",
    "import time\n",
    "sleep_sec=1\n",
    "id=[]\n",
    "def thrd_fun():\n",
    "    print(\"\\n now is doing the thread using function\")\n",
    "    for i in range(1, 3):\n",
    "        time.sleep(sleep_sec)\n",
    "        print(\"i=\",i)\n",
    "#    exit()\n",
    "    \n",
    "thrdobj=threading.Thread(target=thrd_fun)\n",
    "thrdobj.start()\n",
    "print(threading.active_count())\n"
   ]
  },
  {
   "cell_type": "markdown",
   "metadata": {},
   "source": [
    "## 11.2 多執行緒同步"
   ]
  },
  {
   "cell_type": "code",
   "execution_count": null,
   "metadata": {
    "collapsed": true
   },
   "outputs": [],
   "source": []
  },
  {
   "cell_type": "markdown",
   "metadata": {},
   "source": [
    "## 11.3 以佇列為基礎的執行緒並行處理"
   ]
  },
  {
   "cell_type": "code",
   "execution_count": null,
   "metadata": {
    "collapsed": true
   },
   "outputs": [],
   "source": []
  },
  {
   "cell_type": "markdown",
   "metadata": {},
   "source": [
    "## 11.4 以處理為基礎的並行處理"
   ]
  },
  {
   "cell_type": "code",
   "execution_count": null,
   "metadata": {
    "collapsed": true
   },
   "outputs": [],
   "source": []
  },
  {
   "cell_type": "markdown",
   "metadata": {},
   "source": [
    "## 11.5 習題"
   ]
  },
  {
   "cell_type": "code",
   "execution_count": null,
   "metadata": {
    "collapsed": true
   },
   "outputs": [],
   "source": [
    "# %load script/ch11/exam11-1.py\n",
    "# filename:chap12_ex2_count_down.py\n",
    "# function: invoke target function to a different thread, and check the time\n",
    "\n",
    "import time\n",
    "import threading\n",
    "count_val=10\n",
    "\n",
    "def target_counting(count):\n",
    "    while count > 0:\n",
    "        count -= 1\n",
    "        time.sleep(0.5)\n",
    "    return\n",
    "\n",
    "print (\"\\nstarting time %s: \" %time.ctime(time.time()))\n",
    "thrd1 = threading.Thread(target=target_counting,args=(count_val,))\n",
    "thrd1.start()\n",
    "#thrd1.join()\n",
    "print (\"\\nstarting time %s: \" %time.ctime(time.time()))\n",
    "thrd2 = threading.Thread(target=target_counting,args=(count_val*2,))\n",
    "thrd2.start()\n",
    "#thrd2.join()\n",
    "print (\"\\nstarting time %s: \" %time.ctime(time.time()))\n"
   ]
  },
  {
   "cell_type": "code",
   "execution_count": null,
   "metadata": {
    "collapsed": true
   },
   "outputs": [],
   "source": []
  }
 ],
 "metadata": {
  "kernelspec": {
   "display_name": "Python 3",
   "language": "python",
   "name": "python3"
  },
  "language_info": {
   "codemirror_mode": {
    "name": "ipython",
    "version": 3
   },
   "file_extension": ".py",
   "mimetype": "text/x-python",
   "name": "python",
   "nbconvert_exporter": "python",
   "pygments_lexer": "ipython3",
   "version": "3.6.0"
  }
 },
 "nbformat": 4,
 "nbformat_minor": 2
}
