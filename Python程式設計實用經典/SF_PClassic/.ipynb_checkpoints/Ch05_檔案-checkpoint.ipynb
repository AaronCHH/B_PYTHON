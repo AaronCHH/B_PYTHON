{
 "cells": [
  {
   "cell_type": "code",
   "execution_count": 2,
   "metadata": {},
   "outputs": [
    {
     "name": "stdout",
     "output_type": "stream",
     "text": [
      "<module 'ntpath' from 'C:\\\\Anaconda36\\\\lib\\\\ntpath.py'>\n",
      "I:\\BOOKS\\PYTHON\\__GITHUBBED\\Python程式設計實用經典\\SF_PClassic\n"
     ]
    }
   ],
   "source": [
    "import os, sys\n",
    "print(os.path)\n",
    "print(os.getcwd())"
   ]
  },
  {
   "cell_type": "code",
   "execution_count": null,
   "metadata": {},
   "outputs": [],
   "source": [
    "flist = !dir ch5 /b \n",
    "[print(\"%load \" + \"ch5\" + \"/\" + f) for f in flist if f[-2:]==\"py\"]"
   ]
  },
  {
   "cell_type": "markdown",
   "metadata": {},
   "source": [
    "# CH05 檔案"
   ]
  },
  {
   "cell_type": "markdown",
   "metadata": {},
   "source": [
    "<div id=\"toc\"></div>"
   ]
  },
  {
   "cell_type": "markdown",
   "metadata": {},
   "source": [
    "## 5.1 檔案讀取與寫入"
   ]
  },
  {
   "cell_type": "markdown",
   "metadata": {},
   "source": [
    "### 5.1.1 檔案開啟"
   ]
  },
  {
   "cell_type": "markdown",
   "metadata": {},
   "source": [
    "### 5.1.2 檔案關閉"
   ]
  },
  {
   "cell_type": "code",
   "execution_count": 7,
   "metadata": {},
   "outputs": [
    {
     "name": "stdout",
     "output_type": "stream",
     "text": [
      "Name of the file:  employee.txt\n"
     ]
    }
   ],
   "source": [
    "### %load ch5/open_close.py\n",
    "#filename:Open-close.py\n",
    "#function: simply show how to open and clos  file\n",
    "\n",
    "file_obj = open(\"employee.txt\", \"w\")\n",
    "print( \"Name of the file: \", file_obj.name)\n",
    "file_obj.write( \"Python is not hard to learn as long as you have a right concept.\\n\")\n",
    "file_obj.close()\n"
   ]
  },
  {
   "cell_type": "markdown",
   "metadata": {},
   "source": [
    "### 5.1.3 檔案寫入"
   ]
  },
  {
   "cell_type": "markdown",
   "metadata": {},
   "source": [
    "### 5.1.4 檔案讀取"
   ]
  },
  {
   "cell_type": "code",
   "execution_count": null,
   "metadata": {
    "collapsed": true
   },
   "outputs": [],
   "source": [
    "# %load ch5/read_write.py\n",
    "#filename:read_write.py\n",
    "#function:Data write to file and then read data from file\n",
    "#         by keyinging data each time until your choice is not 'y' \n",
    "#we use the list when you keyin the data\n",
    "#via emp_list  = []  or emp_list = list() for  empty list\n",
    "#The append method adds a single item to the end of the list by #emp_list_obj.append(item)\n",
    " \n",
    "emp_list = list()\n",
    "\n",
    "keyinagain = input('Press y when you want to keyin more:')\n",
    "while keyinagain == 'y':\n",
    "    emp_data = input('Keyin Data: ')\n",
    "    emp_list.append(emp_data)\n",
    "    keyinagain = input('Press y if you want to enter more emp_list: ')\n",
    "\n",
    "print('Your keyined emp_list data are as follows:')\n",
    "for emp_data in emp_list:\n",
    "    print(\"The data you input is\\t\",emp_data)\n",
    "    \n",
    "# Open a file for writing only\n",
    "fileout_emp = open(\"employee.txt\", \"w\")\n",
    "for emp_data in emp_list:\n",
    "    print(\"data for write is \\t\",emp_data)\n",
    "    fileout_emp.write(emp_data)\n",
    "fileout_emp.close()\n",
    "\n",
    "#Opens a file for reading only\n",
    "filein_emp = open(\"employee.txt\", \"r\")\n",
    "while True:\n",
    "  emp_data=filein_emp.read()\n",
    "  if not emp_data: break\n",
    "  print(\"\\nData from employee.txt file are:\", emp_data)\n",
    "  \n",
    "#  emp_data=filein_emp.readline()\n",
    "#  import sys\n",
    "#  sys.stdout.writelines(emp_data)\n",
    "  \n",
    "file_position = filein_emp.tell();\n",
    "print (\"\\nCurrent file position : \", file_position)\n",
    "\n",
    "#filein_emp.seek(0,0);\n",
    "while 1:\n",
    "  emp_data=filein_emp.read(5)\n",
    "  if not emp_data: break\n",
    "  print(\"\\n Data are using read(count)\", emp_data)\n",
    "  \n",
    "\n",
    "filein_emp.close()\n"
   ]
  },
  {
   "cell_type": "code",
   "execution_count": null,
   "metadata": {
    "collapsed": true
   },
   "outputs": [],
   "source": [
    "# %load ch5/readline2.py\n",
    "\n",
    "#function: using readline() to read data \n",
    "\n",
    "file_in = open(\"employee1.txt\",'r')\n",
    "while True:\n",
    "    linedata = file_in.readline()\n",
    "    if not linedata:\n",
    "        break\n",
    "    print(linedata, end='')\n",
    "file_in.close()\n",
    "\n",
    "file_in = open(\"employee1.txt\",'r')\n",
    "print(\"\\n using readlines()\\n\")\n",
    "for linedata in file_in.readlines():\n",
    "    print(linedata, end='')\n",
    "file_in.close()\n"
   ]
  },
  {
   "cell_type": "markdown",
   "metadata": {},
   "source": [
    "### 5.1.5 用 with 開啟檔案讀取/寫入"
   ]
  },
  {
   "cell_type": "markdown",
   "metadata": {},
   "source": [
    "### 5.1.6 檔案物件屬性"
   ]
  },
  {
   "cell_type": "code",
   "execution_count": null,
   "metadata": {
    "collapsed": true
   },
   "outputs": [],
   "source": [
    "# %load ch5/file_obj_attr.py\n",
    "#filename:file_obj_attr.py\n",
    "#function file object atribute\n",
    "\n",
    "fileo = open(\"employee.txt\", \"r\")\n",
    "print (\"Name of the file: \", fileo.name)\n",
    "print (\"file Closed? : \", fileo.closed)\n",
    "if fileo.mode =='r': \n",
    "   print (\"Opening mode is %s \"%fileo.mode,\"you have no right to Write\")\n",
    "   import sys\n",
    "   sys.exit\n",
    "elif  fileo.mode =='w':\n",
    "   print(\" we will  code something to do some task later\")\n",
    "   pass\n"
   ]
  },
  {
   "cell_type": "markdown",
   "metadata": {},
   "source": [
    "### 5.1.7 檔案物件位置"
   ]
  },
  {
   "cell_type": "code",
   "execution_count": null,
   "metadata": {
    "collapsed": true
   },
   "outputs": [],
   "source": []
  },
  {
   "cell_type": "markdown",
   "metadata": {},
   "source": [
    "## 5.2 標準資料串流與輸出入類別檔案I/O"
   ]
  },
  {
   "cell_type": "markdown",
   "metadata": {},
   "source": [
    "### 5.2.1 標準資料串流"
   ]
  },
  {
   "cell_type": "code",
   "execution_count": null,
   "metadata": {
    "collapsed": true
   },
   "outputs": [],
   "source": [
    "# %load ch5/stdout_err.py\n",
    "#filename:stdout_err.py\n",
    "#function: show the stdout and stderr\n",
    "#stdout, stderr does not add carriage returns for you;\n",
    "\n",
    "for i in range(2):\n",
    "  print ('Brand Asus, HTC in Taiwan') \n",
    "\n",
    "import sys\n",
    "for showtimes in range(2):\n",
    "     sys.stdout.write('Brand Samsung, Apple\\n')\n",
    "     \n",
    "for showtimes in range(2):\n",
    "     sys.stderr.write('Brand Samsung, Apple\\n')\n",
    "\n",
    "print(\"you can see the color is different between stdout and stderr\")\n"
   ]
  },
  {
   "cell_type": "code",
   "execution_count": null,
   "metadata": {
    "collapsed": true
   },
   "outputs": [],
   "source": [
    "# %load ch5/std_stream.py\n",
    "#filename: Std_stream.py\n",
    "#function: use the stdout and stderr for printing  data\n",
    "#output to stdout: using sys.stdout.write(\"data\")\n",
    "#output to stderr: using sys.stderr.write(\"data\")\n",
    "\n",
    "import sys\n",
    "while True:\n",
    "  print (\"\\n while iteration ...\",end=' ')\n",
    "# reading from sys.stdin (stop with Ctrl-D):\n",
    "  try:\n",
    "    indata = input(\"Enter a number, press CTRL+D if you want to quit: \")\n",
    "    \n",
    "  except EOFError:\n",
    "    print (\"\\nEOF ,because you keyin Ctrl+D\")\n",
    "    break\n",
    "  else:\n",
    "    indata = int(indata)\n",
    "    if indata == 0:\n",
    "       sys.stderr.write(\"to stderr,data is  %d \" % (indata)) \n",
    "    else:\n",
    "#output to stdout: \n",
    "      sys.stdout.write(\"data is  %d \" % (indata))\n"
   ]
  },
  {
   "cell_type": "markdown",
   "metadata": {},
   "source": [
    "### 5.2.2 標準輸出入類別檔案I/O"
   ]
  },
  {
   "cell_type": "code",
   "execution_count": null,
   "metadata": {
    "collapsed": true
   },
   "outputs": [],
   "source": [
    "# %load ch5/ascii_tbl1.py\n",
    "#filename:ascii_tbl1.py\n",
    "#function: display the asciitable, but clear screen first \n",
    "#We use the stdin to read the integer for starting (2 digit)\n",
    "#use stdin to read the stoping (3 digit)\n",
    "#and then use the readline() to read the stdin buffer data\n",
    "\"\"\"If there was more than one character to be read at that point (e.g. the newline\n",
    "that followed the two character that was read in)\n",
    "We need use next read() or readline() to read characters that are still be in the buffer\n",
    "It means progarm is waiting for the next read() or readline().\n",
    "so it is better to use another read() or readline() to read the data in the buffer\n",
    "\"\"\"\n",
    "\"\"\"\n",
    "and we use the starting and stoping to display the ascii code\n",
    "we use the starting is 33, stoping is 127 for ascii code print\n",
    "\"\"\"\n",
    "\n",
    "#clear the screen \n",
    "import os\n",
    "os.system('cls')    # window system use this to celar screen\n",
    "#os.system('clear') #for Linux\n",
    "from sys import stdin\n",
    "\n",
    "\n",
    "starting = stdin.read(2)\n",
    "stoping = stdin.read(3)\n",
    "lineinput = stdin.readline()\n",
    "print (\"starting=\",starting)\n",
    "print (\"stopping=\",stoping)\n",
    "print (\"linedata=\",lineinput)\n",
    "\n",
    "for val in range(int(starting), int(stoping)):\n",
    "    if (int(starting) - val) % 10 == 0:  # each line contains 10 ascii code\n",
    "        print(\"\\n\")\n",
    "    print(chr(val), end=' ')\n",
    "    \n",
    "\n",
    "\n"
   ]
  },
  {
   "cell_type": "code",
   "execution_count": null,
   "metadata": {
    "collapsed": true
   },
   "outputs": [],
   "source": [
    "# %load ch5/stdin_while.py\n",
    "#filename:stdin_while.py\n",
    "#function:The stdin.readline() and sys.stdout.write(...)\n",
    "#We use while loop for keyin the data until Ctrl+D for while loop break\n",
    "\n",
    "import sys\n",
    "print(\"use readline and write\")\n",
    "while True:\n",
    "   line=sys.stdin.readline()\n",
    "#sys.stdout.write(line)\n",
    "   if not line:  #check if EOF or not\n",
    "       break\n",
    "   sys.stdout.write('>'+line.upper()) \n",
    "print(\"exit from while\")\n",
    "\n",
    "print(\"use readline and print\")\n",
    "while True:\n",
    "    try:\n",
    "        line = sys.stdin.readline()\n",
    "    except KeyboardInterrupt:\n",
    "        sys.stderr.write(\"KB interrupt\")\n",
    "        break \n",
    "    if not line:\n",
    "        sys.stderr.write(\"EOF\")\n",
    "        break\n",
    "    print (\"line data is\",line)\n",
    "    \n",
    "print(\"\\nexit from while\")\n",
    "\n"
   ]
  },
  {
   "cell_type": "code",
   "execution_count": null,
   "metadata": {
    "collapsed": true
   },
   "outputs": [],
   "source": [
    "# %load ch5/flush2.py\n",
    "#filename:flush2.py\n",
    "#function: it shows that stdout has a buffering\n",
    "#sys.stdout.flush() will flush the Stdout buffer, it is better for use\n",
    "#sys.stdout.flush() it will clear the stdout buffer, so the str(count) data will be showed each time , not until all process complete\n",
    "#import time needed, it used for time.sleep(..)\n",
    "#import datetime is needed, it is used for datetime.datetime.now()\n",
    "\n",
    "import time \n",
    "import sys \n",
    "import datetime\n",
    "\n",
    "nowtime = datetime.datetime.now()\n",
    "print (\"\\nCurrent minute second: %d : %d\" % (nowtime.minute,nowtime.second))\n",
    "\n",
    "for val in range(5): \n",
    "    sys.stdout.write(\"..writeData..\")\n",
    "    sys.stdout.write(str(val))\n",
    "    sys.stdout.flush()\n",
    "    time.sleep(1)\n",
    "    \n",
    "sys.stdout.write(\"\\nloop Done!\")\n",
    "nowtime = datetime.datetime.now()\n",
    "print (\"\\nCurrent minute second: %d : %d\" % (nowtime.minute,nowtime.second))\n",
    "\n",
    "\n"
   ]
  },
  {
   "cell_type": "code",
   "execution_count": null,
   "metadata": {
    "collapsed": true
   },
   "outputs": [],
   "source": []
  },
  {
   "cell_type": "markdown",
   "metadata": {},
   "source": [
    "## 5.3 檔案刪除與重新命名"
   ]
  },
  {
   "cell_type": "code",
   "execution_count": null,
   "metadata": {
    "collapsed": true
   },
   "outputs": [],
   "source": [
    "# %load ch5/osfile.py\n",
    "#filename: osfile.py\n",
    "#function: remove file and rename file\n",
    "\"\"\" import os : is used for OS.remove(filename)\n",
    "import sys: is used for sys.stdout.write(data)\n",
    "os.rename(current_file_name, new_file_name)\n",
    "os.rename(\"employeeB.txt\", \"employeeBB.txt\")\n",
    "\"\"\"\n",
    "\n",
    "import os\n",
    "import sys\n",
    "\n",
    "with open(\"employee1.txt\", \"rt\") as file_in:\n",
    "  with open(\"employeeB.txt\", \"wt\") as file_out:\n",
    "      for line in file_in:\n",
    "        sys.stdout.write(line)\n",
    "        file_out.write(line)\n",
    "\n",
    "print(\"\\n\\nThe following is the BACKUP data file before REMOVE\\n\")\n",
    "with open(\"employeeB.txt\", \"rt\") as file_in:\n",
    "    for line in file_in:\n",
    "        sys.stdout.write(line)\n",
    "        \n",
    "os.rename(\"employeeB.txt\", \"employeeBB.txt\")\n",
    "os.remove(\"employeeBB.txt\")\n"
   ]
  },
  {
   "cell_type": "code",
   "execution_count": null,
   "metadata": {
    "collapsed": true
   },
   "outputs": [],
   "source": []
  },
  {
   "cell_type": "markdown",
   "metadata": {},
   "source": [
    "## 5.4 檔案狀態"
   ]
  },
  {
   "cell_type": "code",
   "execution_count": null,
   "metadata": {
    "collapsed": true
   },
   "outputs": [],
   "source": [
    "# %load ch5/osfile_test.py\n",
    "#filename: osfile_test.py\n",
    "#function: get the file stat using system call stat() and example of filecmp.cmp()\n",
    "\"\"\" import os : is used for OS.remove(filename)\n",
    "import sys: is used for sys.stdout.write(data)\n",
    "os.rename(current_file_name, new_file_name)\n",
    "os.rename(\"employeeB.txt\", \"employeeBB.txt\")\n",
    "\"\"\"\n",
    "\n",
    "import os\n",
    "import sys\n",
    "\n",
    "with open(\"ascii_tbl1.py\", \"r\") as file_in:\n",
    "  with open(\"employeeB.txt\", \"w\") as file_out:\n",
    "      for line in file_in:\n",
    "#        sys.stdout.write(line)\n",
    "        file_out.write(line)\n",
    "\n",
    "#this section program will print the content of ascii_tbl1.py \n",
    "print(\"\\n\\nThe following is the data file after copy\\n\")\n",
    "with open(\"employeeB.txt\", \"r\") as file_in:\n",
    "    for line in file_in:\n",
    "         sys.stdout.write(line)\n",
    "\n",
    "\n",
    "import filecmp\n",
    "print ('--->compare the files it is true if they are the same:' )\n",
    "print (filecmp.cmp('employeeB.txt','ascii_tbl1.py'))\n",
    "\n",
    "from shutil import *\n",
    "import time\n",
    "stat_info=[]\n",
    "\n",
    "def file_info(file_name):\n",
    "    global stat_info\n",
    "    stat_info = os.stat(file_name)\n",
    "    print( '\\tMode     :', stat_info.st_mode)       \n",
    "    print( '\\tinode no :', stat_info.st_ino)        #Inode number\n",
    "    print( '\\tuser id  :', stat_info.st_uid)        #user id\n",
    "    print( '\\tgroup id :', stat_info.st_gid)        #group id\n",
    "    print( '\\tFile size:', stat_info.st_size)       #file size\n",
    "    print( '\\tdevice   :', stat_info.st_dev)        #device\n",
    "    print( '\\tno of hardlink:', stat_info.st_nlink) #no of hard link\n",
    "    print( '\\tCreated  :', time.ctime(stat_info.st_ctime))\n",
    "    print( '\\tAccessed :', time.ctime(stat_info.st_atime))\n",
    "    print( '\\tModified :', time.ctime(stat_info.st_mtime))\n",
    "\n",
    "file_info('employeeB.txt')\n",
    "\n",
    "print(\"\\nThe file stat is\\n \",stat_info)\n",
    "\n",
    "os.rename(\"employeeB.txt\", \"employeeBB.txt\")\n",
    "os.remove(\"employeeBB.txt\")\n",
    "#os.mkdir('example')\n",
    "#print ('SOURCE:')\n",
    "\n"
   ]
  },
  {
   "cell_type": "code",
   "execution_count": null,
   "metadata": {
    "collapsed": true
   },
   "outputs": [],
   "source": []
  },
  {
   "cell_type": "markdown",
   "metadata": {},
   "source": [
    "## 5.5 檔案描述器"
   ]
  },
  {
   "cell_type": "code",
   "execution_count": null,
   "metadata": {
    "collapsed": true
   },
   "outputs": [],
   "source": [
    "# %load ch5/file_fstat.py\n",
    "#filename:file_fstat.py\n",
    "#function:\n",
    "\"\"\"file.fileno()is used to return \n",
    "the integer file descriptor, used to request I/O operations from the operating system.\n",
    "\"\"\"\n",
    "#file_obj.fileno() will return the file descriptor\n",
    "#1.The OS in Linux system has File descriptor table identifies all open files for a process\n",
    "#The Unix kernel returns a file descriptor for Open and creat system calls, which is an index into the\n",
    "#    user file descriptor table\n",
    "#2.When executing read and wtite system calls(we call Method here), the Unix kernel uses the file descriptor\n",
    "#    to access the user file descriptor table, follows pointers to the file table and inode table entries, and\n",
    "#3.From the inode, find the data in the file\n",
    "\"\"\"Inodes exist in a static form on disk, disk inodes consists of the following fields in unix: \n",
    "1. file owner id: user id, froup id...\n",
    "2. file type\n",
    "3. file access permission\n",
    "4. file access time\n",
    "5. number of links to the file\n",
    "6. Table of contents for the disk addresses of data in a file\n",
    "7. File size.\n",
    "\"\"\"\n",
    "\n",
    "import sys\n",
    "\n",
    "fileout = open(\"log.txt\", \"w\")\n",
    "filefd= fileout.fileno()\n",
    "print(\"file descriptor=\",filefd)\n",
    "\n",
    "print(\"\\n please keyin data until you press Ctrl+D at the same time\")\n",
    "while True:\n",
    "    data = sys.stdin.readline()\n",
    "    if not data:\n",
    "        break\n",
    "    fileout.write(data)\n",
    "    fileout.flush()\n",
    "\n",
    "print(\"while loop end because you keyin Ctrl+D\\n\")\n",
    "\n",
    "print(\"\\nIt show the file stat using os.fstat(file_decriptor)\\n\")\n",
    "#need import os, if we want to get the fstat\n",
    "import os \n",
    "print(os.fstat(filefd))\n",
    "\n"
   ]
  },
  {
   "cell_type": "markdown",
   "metadata": {},
   "source": [
    "## 5.6 檔案目錄"
   ]
  },
  {
   "cell_type": "markdown",
   "metadata": {},
   "source": [
    "### 5.6.1 檢查檔案目錄"
   ]
  },
  {
   "cell_type": "code",
   "execution_count": null,
   "metadata": {
    "collapsed": true
   },
   "outputs": [],
   "source": [
    "# %load ch5/shutil_copy.py\n",
    "#filename: shutil_copy.py\n",
    "#function: mkdir using OS method os.mkdir(….)\n",
    "#need import sys for sys.stdout.write(...)\n",
    "\"\"\"1.os.getcwd(): this method displays the current working directory.\n",
    "Return a string representing the current working directory.\n",
    "1. Dirctory: is a file whose data is a sequence of entries, each consists of\n",
    "   a in inode number and the name of a file contained in the directory\n",
    "2. Directory layout consists of Inode no and filenames\n",
    "3. os.getcwd() method displays the current working directory.\n",
    "\"\"\"\n",
    "\n",
    "import sys\n",
    "from shutil import *\n",
    "import os\n",
    "\n",
    "currentdir=os.getcwd()\n",
    "sys.stdout.write(currentdir)\n",
    "\n",
    "\n",
    "if not os.path.exists('testdir'):\n",
    "    os.mkdir('testdir')\n",
    "\n",
    "#print ('\\nlist of testdir before copy:', os.listdir('testdir'))\n",
    "#copy('shutil_copy.py', 'testdir')\n",
    "#print( 'list of testdir after copy:', os.listdir('testdir'))\n",
    "#for file in os.listdir('testdir'):\n",
    "#   print (\"\\nfile in directory\\n\",file)\n",
    "   \n",
    "dirlist=os.listdir(os.getcwd())\n",
    "print(\"\\nfile list before sort\\n\",dirlist)\n",
    "dirlist.sort()\n",
    "print(\"\\nfile list after sort\\n\",dirlist)\n",
    "\n",
    "dirname = \"c:\\\\\"\n",
    "print(\"\\n Root directory:\\n\",os.listdir(dirname))\n",
    "\n",
    "\n",
    "import os, time, shutil, sys\n",
    "\n",
    "work_path = 'd:\\\\Backup-CF-card\\\\'\n",
    "#check if the directory is empty\n",
    "try:\n",
    "    if os.listdir(work_path)==\"\":\n",
    "        print (\"yes it is empty\",os.listdir(dirname))\n",
    "    else:\n",
    "        print (work_path,\"Not empty directory \")\n",
    "except FileNotFoundError:\n",
    "    sys.exit()  \n"
   ]
  },
  {
   "cell_type": "markdown",
   "metadata": {},
   "source": [
    "### 5.6.2  現在工作檔案目錄"
   ]
  },
  {
   "cell_type": "code",
   "execution_count": null,
   "metadata": {
    "collapsed": true
   },
   "outputs": [],
   "source": [
    "# %load ch5/shutil_copy2.py\n",
    "#filename: shutil_copy2.py\n",
    "#function: mkdir using OS method os.mkdir(….)\n",
    "#need import sys for sys.stdout.write(...)\n",
    "\"\"\"1.os.getcwd(): this method displays the current working directory.\n",
    "Return a string representing the current working directory.\n",
    "1. Dirctory: is a file whose data is a sequence of entries, each consists of\n",
    "   a in inode number and the name of a file contained in the directory\n",
    "2. Directory layout consists of Inode no and filenames\n",
    "3. os.getcwd() method displays the current working directory.\n",
    "\"\"\"\n",
    "\n",
    "import sys\n",
    "from shutil import *\n",
    "import os\n",
    "\n",
    "currentdir=os.getcwd()\n",
    "sys.stdout.write(currentdir)\n",
    "\n",
    "if not os.path.exists('testdir'):\n",
    "    os.mkdir('testdir')\n",
    "   \n",
    "dirlist=os.listdir(os.getcwd())\n",
    "#print(\"\\nfile list \\n\",dirlist)\n",
    "dirlist.sort()\n",
    "#print(\"\\nfile list after sort\\n\",dirlist)\n",
    "\n",
    "work_path = 'd:\\\\book\\\\chap1\\\\'\n",
    "#check if the directory is empty\n",
    "try:\n",
    "    if os.listdir(work_path)==\"\":\n",
    "        print (\"\\nyes it is empty\",os.listdir(dirname))\n",
    "    else:\n",
    "        print (work_path,\"\\nNot empty directory \")\n",
    "except FileNotFoundError:\n",
    "    sys.exit()  \n"
   ]
  },
  {
   "cell_type": "markdown",
   "metadata": {},
   "source": [
    "## 5.7 檔案內容編碼與解碼"
   ]
  },
  {
   "cell_type": "code",
   "execution_count": null,
   "metadata": {
    "collapsed": true
   },
   "outputs": [],
   "source": [
    "# %load ch5/encoding.py\n",
    "#filename:encoding.py\n",
    "#function: the codec encode and decode\n",
    "# CP950 is Traditional Chinese (繁体中文)\n",
    "\n",
    "import codecs\n",
    "import sys\n",
    "\n",
    "print (\"\\n System version\",sys.version) # version of the system\n",
    "print (\"\\n system stdout encoding\",sys.stdout.encoding) # encoding of stdout\n",
    "print (\"\\n system stdin encoding\",sys.stdin.encoding) # encoding of stdin\n",
    "\n",
    "str=sys.getdefaultencoding()\n",
    "print(\"default encoding is \",str)\n",
    "\n",
    "string1=\"你好\"\n",
    "bytes=codecs.encode(string1,'big5')\n",
    "print(\"the encode data=\",codecs.encode(string1,'big5'))\n",
    "print(codecs.decode(bytes,'big5'))\n",
    "\n",
    "\n",
    "msg = '番茄菠菜5大防癌食物'\n",
    "encoded_data = msg.encode('utf-8','strict')\n",
    "print (encoded_data)\n",
    "\n",
    "print( codecs.decode(encoded_data,'utf-8'))  \n",
    "\n"
   ]
  },
  {
   "cell_type": "markdown",
   "metadata": {},
   "source": [
    "## Exercises"
   ]
  },
  {
   "cell_type": "code",
   "execution_count": null,
   "metadata": {
    "collapsed": true
   },
   "outputs": [],
   "source": [
    "# %load ch5/exam5-1.py\n",
    "#filename:ex5-1.py(it is listdir.py)\n",
    "#function :listdir and count how many files with filename.txt\n",
    "\n",
    "from shutil import *\n",
    "import os\n",
    "import os.path\n",
    "\n",
    "current_dir=os.getcwd()\n",
    "print(\"current directory is\",current_dir)\n",
    "\n",
    "file_txt_total=0\n",
    "file_total=0\n",
    "print(os.listdir(current_dir))\n",
    "\n",
    "for fname in os.listdir('.'):\n",
    "    if os.path.isfile(fname):\n",
    "       file_total +=1\n",
    "       if fname[-4:]=='.txt':\n",
    "           print(\"filename is \", fname)\n",
    "           file_txt_total +=1\n",
    " \n",
    "\n",
    "print(\"total file no=\",file_total)\n",
    "print(\"total txt file no=\",file_txt_total)\n",
    "\n"
   ]
  },
  {
   "cell_type": "code",
   "execution_count": null,
   "metadata": {
    "collapsed": true
   },
   "outputs": [],
   "source": [
    "# %load ch5/exam5-2.py\n",
    "#filename:ex5-2.py\n",
    "#function: the codec encode and decode\n",
    "#Question : please try to write the Data you key in to the file employee.txt\n",
    "#and then you can check the file content is 歐巴馬 from using the notepad++\n",
    "\n",
    "import codecs\n",
    "import sys\n",
    "\n",
    "emp_list = list()\n",
    "\n",
    "keyinagain = input('Press y when you want to keyin more:')\n",
    "while keyinagain == 'y':\n",
    "    emp_data = input('Keyin Data: ')\n",
    "    emp_list.append(emp_data)\n",
    "    keyinagain = input('Press y if you want to enter more emp_list: ')\n",
    "    \n",
    "fileout_emp = open(\"employee.txt\", \"w\")    \n",
    "for emp_data in emp_list:\n",
    "    print(\"data for write is \\t\",emp_data)\n",
    "    codecs.encode(emp_data,'utf-8')\n",
    "    fileout_emp.write(emp_data)\n",
    "fileout_emp.close()\n",
    "\n",
    "\n",
    "\n"
   ]
  },
  {
   "cell_type": "code",
   "execution_count": null,
   "metadata": {
    "collapsed": true
   },
   "outputs": [],
   "source": []
  }
 ],
 "metadata": {
  "kernelspec": {
   "display_name": "Python 3",
   "language": "python",
   "name": "python3"
  },
  "language_info": {
   "codemirror_mode": {
    "name": "ipython",
    "version": 3
   },
   "file_extension": ".py",
   "mimetype": "text/x-python",
   "name": "python",
   "nbconvert_exporter": "python",
   "pygments_lexer": "ipython3",
   "version": "3.6.3"
  }
 },
 "nbformat": 4,
 "nbformat_minor": 2
}
