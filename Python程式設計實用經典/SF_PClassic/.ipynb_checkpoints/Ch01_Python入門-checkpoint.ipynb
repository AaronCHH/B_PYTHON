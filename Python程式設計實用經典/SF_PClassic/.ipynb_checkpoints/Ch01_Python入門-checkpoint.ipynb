{
 "cells": [
  {
   "cell_type": "code",
   "execution_count": 1,
   "metadata": {},
   "outputs": [
    {
     "name": "stdout",
     "output_type": "stream",
     "text": [
      "<module 'ntpath' from 'C:\\\\Anaconda36\\\\lib\\\\ntpath.py'>\n",
      "I:\\BOOKS\\PYTHON\\__GITHUBBED\\Python程式設計實用經典\\SF_PClassic\n"
     ]
    }
   ],
   "source": [
    "import os, sys\n",
    "print(os.path)\n",
    "print(os.getcwd())"
   ]
  },
  {
   "cell_type": "markdown",
   "metadata": {},
   "source": [
    "# 1.1 簡介\n",
    "# 1.2 編輯與執行\n",
    "# 1.3 第一個程式\n",
    "# 1.4 重要觀念\n",
    "# 1.5 Statement"
   ]
  },
  {
   "cell_type": "code",
   "execution_count": 4,
   "metadata": {},
   "outputs": [
    {
     "name": "stdout",
     "output_type": "stream",
     "text": [
      "bool.py\n",
      "break_cont.py\n",
      "exam1-1.py\n",
      "exam1-4.py\n",
      "floating1.py\n",
      "forloop.py\n",
      "ifelif.py\n",
      "interger.py\n",
      "kw.py\n",
      "none_exam.py\n",
      "operator_ex.py\n",
      "pass_block.py\n",
      "python-syntax-has-answer.py\n",
      "python-syntax-no-answer.py\n",
      "string_example.py\n",
      "string_format.py\n",
      "string_method.py\n",
      "string_operator.py\n",
      "test.py\n",
      "var.py\n",
      "whileloop.py\n",
      "while-loop.py\n",
      "test_gw.py\n"
     ]
    }
   ],
   "source": [
    "%ls ch1 *.py /b"
   ]
  },
  {
   "cell_type": "code",
   "execution_count": null,
   "metadata": {
    "collapsed": true
   },
   "outputs": [],
   "source": [
    "# %load ch1/bool.py\n",
    "#filename:Bool.py\n",
    "#function : Boolean operators\n",
    "x = 200\n",
    "print (x == 200) \n",
    "print (x == 100) \n",
    "\n",
    "name = \"John\"\n",
    "amount = 500\n",
    "if name == \"John\" and amount == 500:\n",
    "    print (\"Your name is %s, your amount is %d.\" %(name,amount))\n",
    "\n",
    "if name == \"John\" or name == \"Johnny\":\n",
    "    print (\"Your name is either John or Johnny.\")\n",
    "\n"
   ]
  },
  {
   "cell_type": "code",
   "execution_count": null,
   "metadata": {
    "collapsed": true
   },
   "outputs": [],
   "source": [
    "# %load ch1/break_cont.py\n",
    "#filename:break-cont.py\n",
    "#function:you can use the break statement to jump out of the loop.\n",
    "\"\"\" break : skip the while or for loop\n",
    "    continue: to the next loop\n",
    "\"\"\"\n",
    "message=\"\"\n",
    "print(\"pls key in data until you keyin end\")\n",
    "while True:\n",
    "    line = input('> ')\n",
    "    if line == 'end':\n",
    "        break\n",
    "    print(\" line=\", line)\n",
    "    message = message +line \n",
    "\n",
    "print(\"message is:\", message)\n",
    "\n",
    "for letter in message:     \n",
    "   if letter == 'h':\n",
    "      continue\n",
    "#jump to next loop     \n",
    "   print ('Letter :', letter)\n",
    "\n"
   ]
  },
  {
   "cell_type": "code",
   "execution_count": null,
   "metadata": {
    "collapsed": true
   },
   "outputs": [],
   "source": [
    "# %load ch1/exam1-1.py\n",
    "#filename:exam1-1.py\n",
    "#function while loop (in chap1)\n",
    "\n",
    "message_text = 'coap protocol for some IoT projects'\n",
    "count = 0\n",
    "max=len(message_text)\n",
    "while (count < max):\n",
    "     \n",
    "    count = count + 1\n",
    "\n",
    "print ('The char is:', message_text[count])   \n",
    "print (\"vvvvv Good boy vvvvv!\")\n"
   ]
  },
  {
   "cell_type": "code",
   "execution_count": null,
   "metadata": {
    "collapsed": true
   },
   "outputs": [],
   "source": [
    "# %load ch1/exam1-4.py\n",
    "#filename:ex1-4.py\n",
    "#function:bitwise operation\n",
    "\n",
    "x=0b10101010\n",
    "y=0b01010101\n",
    "print(\"x y= %x %x\"%(x,y))\n",
    "print(\"after bit operator AND, data is \",x&y)\n",
    "z=x|y\n",
    "print(\"after OR operator data is\",bin(z))\n",
    "print(\"after OR operator data is %d using decimal format\"%z)\n"
   ]
  },
  {
   "cell_type": "code",
   "execution_count": null,
   "metadata": {
    "collapsed": true
   },
   "outputs": [],
   "source": [
    "# %load ch1/floating1.py\n",
    "#filename:floating1.py\n",
    "#function: show how to use float\n",
    "\n",
    "floating=7//5\n",
    "print (floating)\n",
    "\n",
    "quotient = 7 / 3\n",
    "print(quotient)\n",
    "\n",
    "remainder = 7 % 4\n",
    "print (remainder)\n",
    "\n",
    "#output\n",
    "#1\n",
    "#2.3333333333333335\n",
    "#3\n"
   ]
  },
  {
   "cell_type": "code",
   "execution_count": null,
   "metadata": {
    "collapsed": true
   },
   "outputs": [],
   "source": [
    "# %load ch1/forloop.py\n",
    "#filename:forloop.py\n",
    "#function: the for loop function\n",
    "\n",
    "for char_var in 'UCB':     \n",
    "   print('chracter is', char_var)\n",
    "\n",
    "brands = ['Apple', 'Samsung', 'IBM', 'Asus']\n",
    "for br in brands:    \n",
    "   print('Brand fan :', br)\n",
    "   \n",
    "total=0\n",
    "stud_scores =[95,80,75,98,70,85]\n",
    "for stud in stud_scores:\n",
    "    total+=stud\n",
    "\n",
    "number = len(stud_scores)\n",
    "print(number)\n",
    "print(\"average of scores is\" ,total/number)\n",
    "\n",
    "\"\"\"please also check with 1.4.5 string_method.py and compare if the purpose is\n",
    "same \"\"\"\n",
    "message_text = 'coap protocol for some IoT projects'\n",
    "print(\"\\nthe char count is \",message_text.count('o'))\n",
    "text_count =message_text.count('o')\n",
    "\n",
    "count=0\n",
    "for char_o in message_text:\n",
    " if char_o =='o':\n",
    "  count +=1\n",
    "print('total o is',count)\n",
    "\n",
    "if count==text_count:\n",
    "    print(\"congratulation, your programming skill is good enough\")\n",
    "print(\"\\n\\nGood bye!  program will exit\")\n",
    "import sys\n",
    "sys.exit()\n"
   ]
  },
  {
   "cell_type": "code",
   "execution_count": null,
   "metadata": {
    "collapsed": true
   },
   "outputs": [],
   "source": [
    "# %load ch1/ifelif.py\n",
    "#filename:ifelse.py\n",
    "#function:the If control\n",
    "\n",
    "original_amount=50000\n",
    "print(\"\\n please key in the money\")\n",
    "withdraw = input()\n",
    "withdraw=int(withdraw)\n",
    "if withdraw <= 20000 and withdraw >0 :\n",
    "   print (\"The withdraw money is \",withdraw)\n",
    "   original_amount -=withdraw\n",
    "   print (\"the current account money is\",original_amount)\n",
    "   \n",
    "elif withdraw <= 30000:\n",
    "   print (\"the withdraw money is 30000\")\n",
    "   original_amount -=withdraw\n",
    "   print (\"the current account money is\",original_amount)\n",
    "else:\n",
    "   print (\"the withdraw is greater than 30000, Warning!!!!\")\n",
    "\n",
    "print (\"have a niceday, Good bye!\")\n"
   ]
  },
  {
   "cell_type": "code",
   "execution_count": null,
   "metadata": {
    "collapsed": true
   },
   "outputs": [],
   "source": [
    "# %load ch1/interger.py\n",
    "#filename:integer.py\n",
    "f=13.1416\n",
    "print(int('600'))\n",
    "\n",
    "print(int(15.02))\n",
    "print(type(f))\n",
    "b=int(f)\n",
    "print(\"b type=\",type(b))\n",
    "print(\"b=\",b)\n",
    "\n",
    "print (\"Hex = %x,Dec = %d,Oct = %o\" %(b,b,b))\n",
    "\n"
   ]
  },
  {
   "cell_type": "code",
   "execution_count": null,
   "metadata": {
    "collapsed": true
   },
   "outputs": [],
   "source": [
    "# %load ch1/kw.py\n",
    "import keyword\n",
    "print(keyword.kwlist)\n",
    "\n",
    "_salary=60000\n",
    "print(type(_salary))\n",
    "_salary=_salary*(1+0.18)\n",
    "print(type(_salary))\n"
   ]
  },
  {
   "cell_type": "code",
   "execution_count": null,
   "metadata": {
    "collapsed": true
   },
   "outputs": [],
   "source": [
    "# %load ch1/none_exam.py\n",
    "#filename:none_exam.py\n",
    "#function:Nono is used when we encounter the following cases\n",
    "'''\n",
    "1.Void functions that do not return anything will return a None object.\n",
    "2.None is returned by functions in which the program does not encounter a return statement\n",
    "'''\n",
    "\n",
    "def none_return_function(var_a):\n",
    "    if (var_a % 2) == 0:\n",
    "        return True\n",
    "\n",
    "def void_function(): \n",
    "    data1 = 100\n",
    "    data2 = 2000\n",
    "    sum = data1 + data2\n",
    "    \n",
    "return_value = none_return_function(5)\n",
    "print(return_value)\n",
    "\n",
    "return_value = none_return_function(4)\n",
    "print(return_value)\n",
    "    \n",
    "print(\"Function no return value example , the return will be \",end=\" \")\n",
    "return_value = void_function()\n",
    "print(return_value)\n",
    "\n"
   ]
  },
  {
   "cell_type": "code",
   "execution_count": null,
   "metadata": {
    "collapsed": true
   },
   "outputs": [],
   "source": [
    "# %load ch1/operator_ex.py\n",
    "\n",
    "#filename:operator_ex.py\n",
    "#function: test the operator or\n",
    "\n",
    "data1, data2 = \"john\", None\n",
    "print( data1 or data2)\n",
    "\n",
    "var1, var2= 100, \"\"\n",
    "print( var1 or var2)\n",
    "\n",
    "x=10\n",
    "y=20\n",
    "print('x != y is',x!=y)\n",
    "\n",
    "x=0b11111111\n",
    "y=0b00000000\n",
    "print(x&y)\n",
    "z=x|y\n",
    "print(bin(z))\n"
   ]
  },
  {
   "cell_type": "code",
   "execution_count": null,
   "metadata": {
    "collapsed": true
   },
   "outputs": [],
   "source": [
    "# %load ch1/pass_block.py\n",
    "#filename:pass_block.py\n",
    "#function: the Pause function\n",
    "\n",
    "brands = ['Apple', 'Samsung', 'IBM', 'Asus']\n",
    "for br in brands:\n",
    "   if br ==\"Samsung\":\n",
    "      pass\n",
    "      print('this is pass')\n",
    "   else:   \n",
    "      print('Brand fan :', br)\n"
   ]
  },
  {
   "cell_type": "code",
   "execution_count": null,
   "metadata": {
    "collapsed": true
   },
   "outputs": [],
   "source": [
    "# %load ch1/python-syntax-has-answer.py\n",
    "#filename:Python-syntax-has-ans.py\n",
    "#function:To show the Block arrangement\n",
    "def myrange(n):\n",
    "    x=0\n",
    "    while True:\n",
    "        yield x\n",
    "        x=x+1\n",
    "        print(\"x=\",x)\n",
    "        if x==n:\n",
    "            break\n",
    "print(list(myrange(5)))\n"
   ]
  },
  {
   "cell_type": "code",
   "execution_count": null,
   "metadata": {
    "collapsed": true
   },
   "outputs": [],
   "source": [
    "# %load ch1/python-syntax-no-answer.py\n",
    "#filename:Python-syntax-no-ans.py\n",
    "#function:To show the Block arrangement\n",
    "def myrange(n):\n",
    "    x=0\n",
    "    while True:\n",
    "        yield x\n",
    "        x=x+1\n",
    "        print(\"x=\",x)\n",
    "        if x==n:\n",
    "            break\n",
    "    print(list(myrange(5)))\n"
   ]
  },
  {
   "cell_type": "code",
   "execution_count": null,
   "metadata": {
    "collapsed": true
   },
   "outputs": [],
   "source": [
    "# %load ch1/string_example.py\n",
    "text = \"\\n a string including escaped special character \\\", \\' inside \"\n",
    "print(text)\n"
   ]
  },
  {
   "cell_type": "code",
   "execution_count": null,
   "metadata": {
    "collapsed": true
   },
   "outputs": [],
   "source": [
    "# %load ch1/string_format.py\n",
    "#function :string format\n",
    "text = 'Justin'\n",
    "print(\"text lenth is \",len(text))\n",
    "for ch in text:\n",
    "   print(\"char is %c\" %ch)\n",
    "\n",
    "name = input(\"Please enter your name: \")\n",
    "n = input(\"Please enter an integerof pressure: \")\n",
    "pressure = int(n)\n",
    "print (\"My name is %s and pressure  is %d !\" % (name, pressure))\n"
   ]
  },
  {
   "cell_type": "code",
   "execution_count": null,
   "metadata": {
    "collapsed": true
   },
   "outputs": [],
   "source": [
    "# %load ch1/string_method.py\n",
    "#filenme:string_method.py\n",
    "\n",
    "text=\"this is text\"\n",
    "print(len(text))\n",
    "for ch in text:\n",
    "    print(\"char is \",ch)\n",
    "\n",
    "#text.count('ch') return the count of ch\n",
    "print(text.count('t'))\n",
    "#text.find(\"string\") return the index of text\n",
    "print(text.find(\"is\"))\n",
    "\n",
    "newtext=\" \".join(['Qualcomm','Ceo','Johnny'])\n",
    "print(newtext)\n",
    "latesttext=newtext.split(' ')\n",
    "print(latesttext)\n",
    "\n",
    "\n"
   ]
  },
  {
   "cell_type": "code",
   "execution_count": null,
   "metadata": {
    "collapsed": true
   },
   "outputs": [],
   "source": [
    "# %load ch1/string_operator.py\n",
    "#filename:string_operator.py\n",
    "\n",
    "\n",
    "text = 'This is a test'\n",
    "text2 = text+text;text3 = text*3\n",
    "print(\"\\n\",text);print(\"\\n\",text2);print(\"\\n\",text3)\n",
    "if text3<text2:\n",
    "    print(\"text3 is less than text2\")\n",
    "else:\n",
    "        print(\"text3 is greater  than text2\")\n",
    "\n"
   ]
  },
  {
   "cell_type": "code",
   "execution_count": null,
   "metadata": {
    "collapsed": true
   },
   "outputs": [],
   "source": [
    "# %load ch1/test.py\n",
    "#filename:test.py\n",
    "#function: first program for Python 3.4.3\n",
    "#file location :c:\\book\\chap1\n",
    "\n",
    "account_name=\"John Wang\"\n",
    "account_no=\"00810381686888\"\n",
    "openaccount_money = 100;\n",
    "\n",
    "if ( openaccount_money  == 100 ) :\n",
    "    print(\"Value of money for open account is 100 NTD\")\n",
    "\n",
    "print(\"\\n please keyin the money \")\n",
    "money=input()\n",
    "print(\"Value of money you deposit is \",money)\n",
    "\n",
    "openaccount_money =openaccount_money+ int(money)\n",
    "print(\"total money now in your acoount\",account_no, \" is\",openaccount_money)\n",
    "print (\"Have a nice day!\", account_name)\n",
    "\n",
    "#the following is for your reference only, you can see after we discuss string covert to int int(string)\n",
    "#Traceback (most recent call last):\n",
    "#  File \"C:\\Python34\\test.py\", line 13, in <module>\n",
    "#    openaccount_money =openaccount_money+ money\n",
    "#TypeError: unsupported operand type(s) for +: 'int' and 'str'\n",
    "\n",
    "\n",
    "#program output:\n",
    "#Value of money for open account is 100 NTD\n",
    "\n",
    "# please keyin the money \n",
    "#200\n",
    "#Value of money deposit is  200\n",
    "#total money now in your acoount 00810381686888  is 300\n",
    "#Have a nice day! John Wang\n"
   ]
  },
  {
   "cell_type": "code",
   "execution_count": null,
   "metadata": {
    "collapsed": true
   },
   "outputs": [],
   "source": [
    "# %load ch1/var.py\n",
    "#filename: var_assign.py\n",
    "#function: variable and assignment using =\n",
    "a = 5\n",
    "b = 3.2\n",
    "c = \"Hello\"\n",
    "print(type(a),'\\t', type(b),'\\t', type(c))\n",
    "#you can use this way too , the result is the same as the above \n",
    "#a, b, c = 5, 3.2, \"Hello\"\n",
    "x = y = z = \"same\"\n",
    "print(x,y,z)\n",
    "print(\"id of x is \",id(x))\n",
    "print(\"id of x is \",id(y))\n",
    "print(\"id of x is \",id(z))\n",
    "#del x\n",
    "#print(x,y,z)\n",
    "\n",
    "retired_salary=60000\n",
    "print(type(retired_salary))\n",
    "retired_salary=retired_salary*(1+0.18)\n",
    "print(type(retired_salary))\n",
    "\n",
    "\n"
   ]
  },
  {
   "cell_type": "code",
   "execution_count": null,
   "metadata": {},
   "outputs": [
    {
     "name": "stdout",
     "output_type": "stream",
     "text": [
      "pls keyin the max no\n",
      "10\n",
      "pls keyin the staring no\n"
     ]
    }
   ],
   "source": [
    "# %load ch1/whileloop.py\n",
    "#filename:Whileloop.py\n",
    "#function: test while loop, the starting and max no is keyined via KB\n",
    "#filelocation: d:\\book\\chap1\n",
    "\n",
    "total=0\n",
    "count = 0\n",
    "print(\"pls keyin the max no\")\n",
    "max=int(input())\n",
    "print(\"pls keyin the staring no\")\n",
    "count=int(input()) #input data from Keyboard\n",
    "\n",
    "\n",
    "while (count < max):    \n",
    "   print (\"The count is:\", count,end=\"   \")\n",
    "   total   = total + count\n",
    "   count = count + 1\n",
    "   print(\"while block\")\n",
    "          \n",
    "print (\"total is \",total)\n"
   ]
  },
  {
   "cell_type": "code",
   "execution_count": 29,
   "metadata": {},
   "outputs": [
    {
     "name": "stdout",
     "output_type": "stream",
     "text": [
      "The char is:coap protocol for some IoT projects\n",
      "vvvvv Good boy vvvvv!\n"
     ]
    }
   ],
   "source": [
    "# %load ch1/while-loop.py\n",
    "#filename:while-loop.py\n",
    "#function while loop (in chap1)\n",
    "\n",
    "import sys\n",
    "\n",
    "message_text = 'coap protocol for some IoT projects'\n",
    "count = 0\n",
    "max=len(message_text)\n",
    "\n",
    "sys.stdout.write('The char is:')\n",
    "while (count < max):\n",
    "#   print ('The char is:', message_text[count])\n",
    "   sys.stdout.write(message_text[count])\n",
    "   count = count + 1\n",
    "\n",
    "#   print(\"you are good for while loop\")\n",
    "   \n",
    "print (\"\\nvvvvv Good boy vvvvv!\")\n"
   ]
  },
  {
   "cell_type": "code",
   "execution_count": null,
   "metadata": {
    "collapsed": true
   },
   "outputs": [],
   "source": []
  }
 ],
 "metadata": {
  "kernelspec": {
   "display_name": "Python 3",
   "language": "python",
   "name": "python3"
  },
  "language_info": {
   "codemirror_mode": {
    "name": "ipython",
    "version": 3
   },
   "file_extension": ".py",
   "mimetype": "text/x-python",
   "name": "python",
   "nbconvert_exporter": "python",
   "pygments_lexer": "ipython3",
   "version": "3.6.3"
  }
 },
 "nbformat": 4,
 "nbformat_minor": 2
}
