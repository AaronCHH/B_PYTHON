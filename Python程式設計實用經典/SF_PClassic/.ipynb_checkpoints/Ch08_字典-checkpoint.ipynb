{
 "cells": [
  {
   "cell_type": "code",
   "execution_count": 1,
   "metadata": {},
   "outputs": [
    {
     "name": "stdout",
     "output_type": "stream",
     "text": [
      "<module 'ntpath' from 'C:\\\\Anaconda36\\\\lib\\\\ntpath.py'>\n",
      "I:\\BOOKS\\PYTHON\\__GITHUBBED\\Python程式設計實用經典\\SF_PClassic\n"
     ]
    }
   ],
   "source": [
    "import os, sys\n",
    "print(os.path)\n",
    "print(os.getcwd())"
   ]
  },
  {
   "cell_type": "code",
   "execution_count": 2,
   "metadata": {},
   "outputs": [
    {
     "name": "stdout",
     "output_type": "stream",
     "text": [
      "%load ch8/create_sort.py\n",
      "%load ch8/create_zip.py\n",
      "%load ch8/dict_comp.py\n",
      "%load ch8/dict_empty.py\n",
      "%load ch8/exam8-1.py\n",
      "%load ch8/exam8-2.py\n",
      "%load ch8/exam8-3.py\n",
      "%load ch8/get_len.py\n",
      "%load ch8/phone.py\n",
      "%load ch8/sensor_dict.py\n",
      "%load ch8/sensor_dict_del.py\n"
     ]
    },
    {
     "data": {
      "text/plain": [
       "[None, None, None, None, None, None, None, None, None, None, None]"
      ]
     },
     "execution_count": 2,
     "metadata": {},
     "output_type": "execute_result"
    }
   ],
   "source": [
    "flist = !dir ch8 /b \n",
    "[print(\"%load \" + \"ch8\" + \"/\" + f) for f in flist if f[-2:]==\"py\"]"
   ]
  },
  {
   "cell_type": "code",
   "execution_count": null,
   "metadata": {
    "collapsed": true
   },
   "outputs": [],
   "source": []
  },
  {
   "cell_type": "markdown",
   "metadata": {},
   "source": [
    "# CH08 字典"
   ]
  },
  {
   "cell_type": "markdown",
   "metadata": {},
   "source": [
    "<div id=\"toc\"></div>"
   ]
  },
  {
   "cell_type": "markdown",
   "metadata": {},
   "source": [
    "## 8.1 字典建立"
   ]
  },
  {
   "cell_type": "code",
   "execution_count": 17,
   "metadata": {},
   "outputs": [
    {
     "name": "stdout",
     "output_type": "stream",
     "text": [
      "name: Edward Huang\n",
      "His Phone No: 29862211\n"
     ]
    },
    {
     "ename": "SystemExit",
     "evalue": "0",
     "output_type": "error",
     "traceback": [
      "An exception has occurred, use %tb to see the full traceback.\n",
      "\u001b[1;31mSystemExit\u001b[0m\u001b[1;31m:\u001b[0m 0\n"
     ]
    },
    {
     "name": "stderr",
     "output_type": "stream",
     "text": [
      "C:\\Anaconda36\\lib\\site-packages\\IPython\\core\\interactiveshell.py:2870: UserWarning: To exit: use 'exit', 'quit', or Ctrl-D.\n",
      "  warn(\"To exit: use 'exit', 'quit', or Ctrl-D.\", stacklevel=1)\n"
     ]
    }
   ],
   "source": [
    "# %load ch8/phone.py\n",
    "#filename:Phone.py\n",
    "#function: yellow phone book using the dict in chapt 8\n",
    "\n",
    "import sys\n",
    "yellowbook = {'Edward Huang':29862211, \\\n",
    "'Emily Chou':3325566, 'Chany Yu':3356666, 'Darren Chen':2128865}\n",
    "\n",
    "yellowitems =yellowbook.items()\n",
    "\n",
    "# Loop and display tuple items.\n",
    "phoneitem='Edward Huang'\n",
    "for yellowitem in yellowitems:\n",
    "   if phoneitem==yellowitem[0]:\n",
    "     print(\"name:\", yellowitem[0])\n",
    "     print(\"His Phone No:\", yellowitem[1])\n",
    "     sys.exit(0)\n",
    "\n",
    "print(\"his no not included\")     \n",
    "\n",
    "    \n",
    "\n"
   ]
  },
  {
   "cell_type": "markdown",
   "metadata": {},
   "source": [
    "### 8.1.1 利用內建函式dict()建立字典"
   ]
  },
  {
   "cell_type": "code",
   "execution_count": 4,
   "metadata": {},
   "outputs": [
    {
     "name": "stdout",
     "output_type": "stream",
     "text": [
      "dictionary data= {}\n",
      "dictionary data= {'Murda': 300, 'Coconut': 3000, 'fish': 500}\n",
      "dictionary data= {'Murda': 300, 'Coconut': 3000, 'fish': 500, 'Women medicine': 'from Dr receomend'}\n"
     ]
    }
   ],
   "source": [
    "# %load ch8/dict_empty.py\n",
    "\n",
    "#filename: dict_empty.py\n",
    "#function: create empty dict using dict()\n",
    "\n",
    "# Create empty dict\n",
    "inventory = dict()\n",
    "print(\"dictionary data=\",inventory)\n",
    "\n",
    "# Add three key-value tuples to the dictionary.\n",
    "inventory = {'Murda': 300, 'Coconut': 3000, 'fish': 500}\n",
    "print(\"dictionary data=\",inventory)\n",
    "\n",
    "inventory['Women medicine'] = 'from Dr receomend'\n",
    "print(\"dictionary data=\",inventory)\n",
    "\n",
    "\n",
    "\n"
   ]
  },
  {
   "cell_type": "markdown",
   "metadata": {},
   "source": [
    "### 8.1.2 利用{}建立字典"
   ]
  },
  {
   "cell_type": "code",
   "execution_count": null,
   "metadata": {
    "collapsed": true
   },
   "outputs": [],
   "source": []
  },
  {
   "cell_type": "code",
   "execution_count": 6,
   "metadata": {
    "scrolled": true
   },
   "outputs": [
    {
     "name": "stdout",
     "output_type": "stream",
     "text": [
      "['11-1101', '11-1102', '51-1101']\n",
      "   P/N      Stock\n",
      "-----------------\n",
      "  11-1101   1000\n",
      "  11-1102   20006\n",
      "  51-1101   300\n"
     ]
    }
   ],
   "source": [
    "# %load ch8/create_sort.py\n",
    "#filename: Create_sort.py\n",
    "#function: create the Dict and sort the key and print\n",
    "\n",
    "\n",
    "Inventory = {\"11-1101\": 1000, \"11-1102\": 20006, \"51-1101\": 300}\n",
    "# Sort the keys from the dictionary.\n",
    "keys = sorted(Inventory.keys())\n",
    "print(keys)\n",
    "\n",
    "Partno = Inventory.items()\n",
    "# Loop and display tuple items.\n",
    "print(\"   P/N      Stock\")\n",
    "print(\"-----------------\")\n",
    "for Pn in Partno:\n",
    "    print(\" \", Pn[0],\" \",Pn[1])\n",
    "\n"
   ]
  },
  {
   "cell_type": "markdown",
   "metadata": {},
   "source": [
    "### 8.1.3 利用dict()及zip()來建立字典"
   ]
  },
  {
   "cell_type": "code",
   "execution_count": 8,
   "metadata": {},
   "outputs": [
    {
     "name": "stdout",
     "output_type": "stream",
     "text": [
      "{('11-1101', 1000), ('11-1102', 30000), ('51-1101', 200)}\n",
      "   P/N      Stock\n",
      "-----------------\n",
      "  11-1101   1000\n",
      "  11-1102   30000\n",
      "  51-1101   200\n"
     ]
    }
   ],
   "source": [
    "# %load ch8/create_zip.py\n",
    "#filename: Create_zip.py\n",
    "#function: create the Dict using {} and zip()\n",
    "\n",
    "\n",
    "inventory_pn = [\"11-1101\", \"11-1102\", \"51-1101\"]\n",
    "inventory_pn_stock = [1000, 30000, 200]\n",
    "\n",
    "zip_pn=zip(inventory_pn,inventory_pn_stock)\n",
    "print(set(zip_pn))\n",
    "\n",
    "inventory=dict(zip(inventory_pn,inventory_pn_stock))\n",
    "\n",
    "Partno = inventory.items()\n",
    "# Loop and display tuple items.\n",
    "print(\"   P/N      Stock\")\n",
    "print(\"-----------------\")\n",
    "for Pn in Partno:\n",
    "    print(\" \", Pn[0],\" \",Pn[1])\n",
    "\n"
   ]
  },
  {
   "cell_type": "code",
   "execution_count": null,
   "metadata": {
    "collapsed": true
   },
   "outputs": [],
   "source": []
  },
  {
   "cell_type": "markdown",
   "metadata": {},
   "source": [
    "## 8.2 字典內容增加與修改"
   ]
  },
  {
   "cell_type": "markdown",
   "metadata": {},
   "source": [
    "### 8.2.1 內容填加"
   ]
  },
  {
   "cell_type": "code",
   "execution_count": null,
   "metadata": {
    "collapsed": true
   },
   "outputs": [],
   "source": [
    "# %load ch8/sensor_dict.py\n",
    "#filename:Sensor_dict.py\n",
    "#function:Sensor data using dict \n",
    "\n",
    "#Create a dictionary\n",
    "Sensor_Hub1_data = {}\n",
    "\n",
    "#Initialize value\n",
    "Sensor_Hub1_data = {'S1':30,'S2':30,'S3':30}\n",
    "print(Sensor_Hub1_data)\n",
    "\n",
    "\n",
    "# Inserting/Updating value \n",
    "\n",
    "Sensor_Hub1_data['S1']=31 \n",
    "Sensor_Hub1_data.update({'S2':31})\n",
    "print(Sensor_Hub1_data)\n",
    "\n",
    "\n",
    "\n",
    "\n"
   ]
  },
  {
   "cell_type": "markdown",
   "metadata": {},
   "source": [
    "### 8.2.2 內容刪除"
   ]
  },
  {
   "cell_type": "code",
   "execution_count": null,
   "metadata": {
    "collapsed": true
   },
   "outputs": [],
   "source": [
    "# %load ch8/sensor_dict_del.py\n",
    "#filename:Sensor_dict_del.py\n",
    "#function:Sensor data using dict \n",
    "\n",
    "#Create a dictionary\n",
    "Sensor_Hub1_data = {}\n",
    "\n",
    "#Initialize value\n",
    "Sensor_Hub1_data = {'S1':30,'S2':30,'S3':30}\n",
    "print(Sensor_Hub1_data)\n",
    "\n",
    "\n",
    "# Inserting/Updating value \n",
    "\n",
    "Sensor_Hub1_data['S1']=31 \n",
    "Sensor_Hub1_data.update({'S2':31})\n",
    "print(Sensor_Hub1_data)\n",
    "\n",
    "# Deleting key in dictionary \n",
    "\n",
    "del Sensor_Hub1_data['S3'] \n",
    "print(Sensor_Hub1_data)\n",
    "del Sensor_Hub1_data\n",
    "print(Sensor_Hub1_data)\n",
    "\n",
    "\n",
    "\n",
    "\n"
   ]
  },
  {
   "cell_type": "markdown",
   "metadata": {},
   "source": [
    "## 8.3 字典內建函式與運算方法"
   ]
  },
  {
   "cell_type": "code",
   "execution_count": null,
   "metadata": {
    "collapsed": true
   },
   "outputs": [],
   "source": [
    "# %load ch8/get_len.py\n",
    "#filename:Get_len.py\n",
    "#function: get the key and we can know the value\n",
    "Smartphone_cost = {\"11-1101\": 800, \"11-1102\": 600, \"12-1101\": 650}\n",
    "keys = Smartphone_cost.keys()\n",
    "cost = Smartphone_cost.values()\n",
    "\n",
    "print(\"Keys:\")\n",
    "print(keys)\n",
    "print(len(keys))\n",
    "\n",
    "print(\"Values of cost:\")\n",
    "print(cost)\n",
    "print(len(cost))\n",
    "\n",
    "# Create list of tuple pairs.\n",
    "# ... These are key-value pairs.\n",
    "Smartphone = [(\"11-1101\", 30000), (\"11-1102\", 40000), (\"12-1101\", 20000)]\n",
    "# Convert list to dictionary.\n",
    "Dbase = dict(Smartphone )\n",
    "\n",
    "# Test the stock_money in dictionary.\n",
    "part_no=\"11-1101\"\n",
    "if (Dbase.get(part_no)):\n",
    "    print(\"Key %s is found\"%part_no)\n",
    "    print(Dbase.get(part_no))\n",
    "print(\"total Product has %d kind of stock\"%len(Dbase))\n",
    "print(\"need sell the high stock product\")\n",
    "\n",
    "\n"
   ]
  },
  {
   "cell_type": "markdown",
   "metadata": {},
   "source": [
    "## 8.4 字典理解式"
   ]
  },
  {
   "cell_type": "code",
   "execution_count": null,
   "metadata": {
    "collapsed": true
   },
   "outputs": [],
   "source": [
    "# %load ch8/dict_comp.py\n",
    "#filename: dict_comp.py\n",
    "#function : dict comprehension for junior high school score\n",
    "\n",
    "\n",
    "#create a dictionary for junior high school English score\n",
    "English={\"chen_fu\":70, \"wu_mary\":95, \"yu_wushawn\":85, \"Lin_jason\":83}\n",
    "      \n",
    "\n",
    "Good_English={k:v for k,v in English.items() if v >80}\n",
    "print(\"Good English student is\", Good_English)\n",
    "\n",
    "\n"
   ]
  },
  {
   "cell_type": "markdown",
   "metadata": {},
   "source": [
    "## Exercises"
   ]
  },
  {
   "cell_type": "code",
   "execution_count": null,
   "metadata": {
    "collapsed": true
   },
   "outputs": [],
   "source": [
    "# %load ch8/exam8-1.py\n",
    "#filename: Chap_8_ex1.py\n",
    "#function: create the Dict using {} and zip()\n",
    "#question: how to fix the bug\n",
    "\n",
    "\n",
    "inventory_pn = [\"11-1101\", \"11-1102\" \"51-1101\"]\n",
    "inventory_pn_stock = [1000, 30000, 200]\n",
    "inventory=dict(zip(inventory_pn,inventory_pn_stock))\n",
    "\n",
    "Partno = inventory.items()\n",
    "# Loop and display tuple items.\n",
    "print(\"   P/N      Stock\")\n",
    "print(\"-----------------\")\n",
    "for Pn in Partno:\n",
    "    print(\" \", Pn[0],\" \",Pn[1])\n",
    "\n"
   ]
  },
  {
   "cell_type": "code",
   "execution_count": null,
   "metadata": {
    "collapsed": true
   },
   "outputs": [],
   "source": [
    "# %load ch8/exam8-2.py\n",
    "#filename: chap8_ex2.py\n",
    " \n",
    "ATM={x:x+1 for x in(2,4,6,8)}\n",
    "print(\"ATM value is\", ATM)\n"
   ]
  },
  {
   "cell_type": "code",
   "execution_count": null,
   "metadata": {
    "collapsed": true
   },
   "outputs": [],
   "source": [
    "# %load ch8/exam8-3.py\n",
    "#filename: chap8_ex_3.py\n",
    "\n",
    "English={\"chen_fu\":70, \"wu_mary\":95, \"yu_wushawn\":85, \"Lin_jason\":83}\n",
    " \n",
    "Good_English={k:v for k,v in English.items() if v >80}\n",
    "print(\"Good English student is\", Good_English)\n",
    "\n",
    "len1=len(English)\n",
    "len2=len(Good_English)\n",
    "if len2==len1:\n",
    "    print(\"same dictionary\")\n",
    "else:\n",
    "    print(\"diff dict\")\n"
   ]
  },
  {
   "cell_type": "code",
   "execution_count": null,
   "metadata": {
    "collapsed": true
   },
   "outputs": [],
   "source": []
  }
 ],
 "metadata": {
  "kernelspec": {
   "display_name": "Python 3",
   "language": "python",
   "name": "python3"
  },
  "language_info": {
   "codemirror_mode": {
    "name": "ipython",
    "version": 3
   },
   "file_extension": ".py",
   "mimetype": "text/x-python",
   "name": "python",
   "nbconvert_exporter": "python",
   "pygments_lexer": "ipython3",
   "version": "3.6.3"
  }
 },
 "nbformat": 4,
 "nbformat_minor": 2
}
