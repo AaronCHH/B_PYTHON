{
 "cells": [
  {
   "cell_type": "code",
   "execution_count": null,
   "metadata": {
    "collapsed": true
   },
   "outputs": [],
   "source": [
    "import os, sys\n",
    "print(os.path)\n",
    "print(os.getcwd())"
   ]
  },
  {
   "cell_type": "code",
   "execution_count": null,
   "metadata": {},
   "outputs": [],
   "source": [
    "flist = !dir ch11 /b \n",
    "[print(\"%load \" + \"ch11\" + \"/\" + f) for f in flist if f[-2:]==\"py\"]"
   ]
  },
  {
   "cell_type": "markdown",
   "metadata": {},
   "source": [
    "# Ch11_並行處理"
   ]
  },
  {
   "cell_type": "markdown",
   "metadata": {},
   "source": [
    "<div id=\"toc\"></div>"
   ]
  },
  {
   "cell_type": "code",
   "execution_count": 3,
   "metadata": {},
   "outputs": [
    {
     "name": "stdout",
     "output_type": "stream",
     "text": [
      "\n",
      "\n",
      "\n",
      "sleep 2 sec by thread-id 1\n",
      "\n",
      "\n",
      "sleep 2 sec by thread-id 2\n",
      "\n",
      "sleep 2 sec by thread-id 3\n",
      "\n",
      "finish sleep by thread-id 1\n",
      "\n",
      "finish sleep by thread-id 2\n",
      "\n",
      "finish sleep by thread-id 3\n"
     ]
    }
   ],
   "source": [
    "# %load ch11/thrd_example.py\n",
    "#filename:thrd_example.py\n",
    "#function: using the threading \n",
    "\n",
    "import time\n",
    "from threading import Thread\n",
    "sec=2\n",
    "\n",
    "def thrdsleep(id):\n",
    "    print (\"\\nsleep %d sec by thread-id %d\" % (sec,id))\n",
    "    time.sleep(sec)\n",
    "    print (\"\\nfinish sleep by thread-id %d\" % id)\n",
    "\n",
    "print(\"\\n\\n\")\n",
    "for i in range(3):\n",
    "    thrd = Thread(target=thrdsleep, args=(i+1,))\n",
    "    thrd.start()\n"
   ]
  },
  {
   "cell_type": "markdown",
   "metadata": {},
   "source": [
    "## 11.1 以執行緒為基礎的並行處理"
   ]
  },
  {
   "cell_type": "code",
   "execution_count": 3,
   "metadata": {},
   "outputs": [
    {
     "name": "stdout",
     "output_type": "stream",
     "text": [
      "\n",
      " now is doing the thread using function6\n",
      "\n",
      "i= 1\n",
      "i= 2\n"
     ]
    }
   ],
   "source": [
    "# %load script/ch11/thread_fun.py\n",
    "#filename:thread_fun.py\n",
    "#function:thread using function\n",
    "\n",
    "import threading\n",
    "import time\n",
    "sleep_sec=1\n",
    "id=[]\n",
    "def thrd_fun():\n",
    "    print(\"\\n now is doing the thread using function\")\n",
    "    for i in range(1, 3):\n",
    "        time.sleep(sleep_sec)\n",
    "        print(\"i=\",i)\n",
    "#    exit()\n",
    "    \n",
    "thrdobj=threading.Thread(target=thrd_fun)\n",
    "thrdobj.start()\n",
    "print(threading.active_count())\n"
   ]
  },
  {
   "cell_type": "code",
   "execution_count": null,
   "metadata": {
    "collapsed": true
   },
   "outputs": [],
   "source": [
    "# %load ch11/thrd_class.py\n",
    "#filenam:thrd_class.py\n",
    "#function: thread using class\n",
    "#class threading.Thread(group=None, target=None, name=None, args=(), kwargs={}, *, daemon=None)\n",
    "#name:the thread name\n",
    "#name is constructed of the form “Thread-N” where N is a small decimal number\n",
    "\n",
    "import threading\n",
    "import time\n",
    "import sys\n",
    "\n",
    "thrdlist=[]\n",
    "delay_sec=5\n",
    "thread_thread_delay=.3  \n",
    "\n",
    "class cls_Thread(threading.Thread):\n",
    "    def run(self):\n",
    "        print(\"{} is Active!!!\".format(self.getName())) # \"Thread-x\" active\n",
    "        print (\"\\n%s: %s\" % (self.getName(), time.ctime(time.time())))\n",
    "        time.sleep(delay_sec)                        # delay \n",
    "        print(\"\\n{} is finish!\".format(self.getName()))   # \"Thread-x\" finish\n",
    "        print (\"\\n%s: %s\" % (self.getName(), time.ctime(time.time())))\n",
    "\n",
    "if __name__ == '__main__':\n",
    "#    print(\"\\n thread acive count=\",threading.active_count())\n",
    "    \n",
    "    for i in range(2):\n",
    "        thrd = cls_Thread(name = \"Thread-{}\".format(i + 1)) #give thread unique ID\n",
    "        thrd.start() \n",
    "        time.sleep(thread_thread_delay) #wait \n",
    "    \n",
    "\n",
    "   \n"
   ]
  },
  {
   "cell_type": "markdown",
   "metadata": {},
   "source": [
    "## 11.2 多執行緒同步"
   ]
  },
  {
   "cell_type": "code",
   "execution_count": null,
   "metadata": {
    "collapsed": true
   },
   "outputs": [],
   "source": [
    "# %load ch11/thrd_sync_timeout.py\n",
    "#filename:thrd_sync_timeout.py\n",
    "#function: sync the thread using acuire and release\n",
    "\n",
    "#(1)class threading.Lock\n",
    "#   A simple mutual exclusion lock used to limit access to one thread.\n",
    "#   This is a semaphore with s = 1.\n",
    "#(2)acquire()\n",
    "#   Obtain a lock. The process is blocked until the lock is available.\n",
    "#(3)release()\n",
    "#   Release the lock, and then if another thread is waiting for the lock, wake up that thread.\n",
    "#(4)join(timeout=None)\n",
    "#   Wait until the thread terminates.\n",
    "#(5)acquire(blocking=True, timeout=-1)\n",
    "#   Acquire a lock, blocking or non-blocking.\n",
    "#   When invoked with the blocking argument set to True (the default),\n",
    "#   block until the lock is unlocked, then set it to locked and return True.\n",
    "#(6)timeout:When invoked with the floating-point timeout argument set to a positive value,\n",
    "#   block for at most the number of seconds specified by timeout \n",
    "#   acquire(),The return value is True if the lock is acquired successfully,\n",
    "#   False if not (for example if the timeout expired).\n",
    "#(7)release()\n",
    "#   Release a lock. This can be called from any thread, not only the thread which has acquired the lock.\n",
    "#(8)join(timeout=None)\n",
    "#   Wait until the thread terminates\n",
    "\n",
    "import threading\n",
    "import time\n",
    "SLEEP=3\n",
    "thrdid=[1,2]\n",
    "loop_count=3\n",
    "threads = []\n",
    "\n",
    "class classThread (threading.Thread):\n",
    "    def __init__(self, ID, name, counter):\n",
    "        threading.Thread.__init__(self)\n",
    "        self.ID = ID\n",
    "        self.name = name\n",
    "        self.counter = counter\n",
    "    def run(self):\n",
    "        print (\"\\n\\nStarting thread \" + self.name)\n",
    "        \n",
    "      \n",
    "#        if(thrdLock.acquire(timeout=5)):\n",
    "#            print(\"\\nAcquire successful\")\n",
    "#            print (\"\\nacquired time is %s: %s\\n\" % (self.name, time.ctime(time.time())))\n",
    "#        else:\n",
    "#            print(\"\\n timeout expired\\n\")\n",
    "#            print (\"\\nacquired time is %s: %s\\n\" % (self.name, time.ctime(time.time())))\n",
    "        \n",
    "        if(thrdLock.acquire()): \n",
    "            print(\"\\nAcquire successful\")\n",
    "\n",
    "        disp_time_used(self.name, self.counter, loop_count)\n",
    "\n",
    "        # try to release the lock\n",
    "        try:\n",
    "            thrdLock.release()\n",
    "        except RuntimeError:\n",
    "            print(\"\\nruntime error for \",self.name)\n",
    "\n",
    "def disp_time_used(threadName, delay, count):\n",
    "    while count:\n",
    "        print(\"\\n Thread id =\",threading.get_ident(),\" Name=%s %s\" % (threadName, time.ctime(time.time())))\n",
    "        time.sleep(delay)\n",
    "        count -= 1\n",
    "\n",
    "thrdLock = threading.Lock()\n",
    "#threads = []\n",
    "\n",
    "# creat thread\n",
    "thrd1 = classThread(thrdid[0], \"Thread-1\", SLEEP)\n",
    "thrd2 = classThread(thrdid[1], \"Thread-2\", SLEEP)\n",
    "\n",
    "# start the thread, it will call run()\n",
    "print(\"THread Starting\")\n",
    "thrd1.start()\n",
    "thrd2.start()\n",
    "\n",
    "# add the thread to thread list\n",
    "threads.append(thrd1)\n",
    "threads.append(thrd2)\n",
    "\n",
    "# Wait until the thread terminates\n",
    "for t in threads:\n",
    "    print(\"\\n waiting for all thread terminates\")\n",
    "    t.join()\n",
    "print (\"Exit normally\")\n"
   ]
  },
  {
   "cell_type": "code",
   "execution_count": null,
   "metadata": {
    "collapsed": true
   },
   "outputs": [],
   "source": []
  },
  {
   "cell_type": "markdown",
   "metadata": {},
   "source": [
    "## 11.3 以佇列為基礎的執行緒並行處理"
   ]
  },
  {
   "cell_type": "code",
   "execution_count": null,
   "metadata": {
    "collapsed": true
   },
   "outputs": [],
   "source": [
    "# %load ch11/working_data.py\n",
    "#filename:working_data.py\n",
    "\n",
    "inputlist= [ (1,0.5),(5,1),(10,1.2),(15,1.2),(20,1.3),(30,1.3),(40,1.4),(50,1.5),(100,2)]\n"
   ]
  },
  {
   "cell_type": "code",
   "execution_count": null,
   "metadata": {
    "collapsed": true
   },
   "outputs": [],
   "source": [
    "# %load ch11/thrd_queu_spawn_0310_new.py\n",
    "#filename:thrd_queu_spawn_0310_new.py\n",
    "#function:thread using queue\n",
    " \n",
    "\n",
    "import threading, queue\n",
    "import working_data\n",
    "\n",
    "queue_result=[]\n",
    "THREAD_NO = 2                   # This is how many threads we want\n",
    "jobs = queue.Queue(5)           # This sets up the queue object to use 5 slots\n",
    "singlelock = threading.Lock()   # This is a lock so threads don't print trough each other (and other reasons)\n",
    "Timeout=3\n",
    "\n",
    "\n",
    "#This is called from the main function\n",
    "#called: by main function\n",
    "#input: the input data is from Working_data module\n",
    "\n",
    "def thrdprocess(inputdata):  \n",
    "#    print (\"input data from module working_data is:\",inputdata)\n",
    " \n",
    "    # Spawn the threads\n",
    "    print (\"\\nActivate {0} threads.\".format(THREAD_NO))\n",
    "    for x in range(THREAD_NO):\n",
    "        print (\"Thread {0} started.\".format(x+1))\n",
    "        # it will call run(),this  is the thread class that we instant\n",
    "        worker().start()\n",
    " \n",
    "    \n",
    "#put the data in the queue    \n",
    "    for i in inputdata:     \n",
    "         try:\n",
    "        # Block if queue is full, and wait 3 seconds. After 3 sec  raise Queue Full error.     \n",
    "#            jobsqueue.put(i, block=True, timeout=Timeout)\n",
    "            jobs.put(i, block=True, timeout=Timeout)    \n",
    "         except:\n",
    "            singlelock.acquire()\n",
    "            print (\"\\nThe queue is full !\")\n",
    "            singlelock.release()\n",
    " \n",
    "    # Wait for the threads to finish\n",
    "    print (\"Waiting for threads to finish.\")\n",
    "    jobs.join()                 # waits for all threads to finish.\n",
    "    print(\"\\n all finished\")\n",
    "    print(queue_result)\n",
    "\n",
    "\n",
    "# This class is a thread template\n",
    "# purpose:to spawn those threads.\n",
    "# run function's purpose in the class:\n",
    "# is to  gets a job out of the jobs queue, and then lets the queue object know when it has finished.\n",
    "\n",
    "\n",
    "class worker(threading.Thread):\n",
    "    def run(self):\n",
    "        print(\"\\n Working....\\n\")\n",
    "        # run forever\n",
    "        while 1:\n",
    "            # Try and get a job out of the queue\n",
    "            try:               \n",
    "                queuedata = jobs.get(True,1)\n",
    "                singlelock.acquire()        # Acquire the lock\n",
    "                res=(queuedata[0]*queuedata[1])\n",
    "                queue_result.append(res)\n",
    "                singlelock.release()        # Release the lock\n",
    "                # Let the queue know the job is finished.\n",
    "                jobs.task_done()\n",
    "            except:\n",
    "                break           # No more jobs in the queue\n",
    "           \n",
    "if __name__ == '__main__':\n",
    "    # Call the main function that sets up threading.\n",
    "    thrdprocess(working_data.inputlist)\n"
   ]
  },
  {
   "cell_type": "code",
   "execution_count": null,
   "metadata": {
    "collapsed": true
   },
   "outputs": [],
   "source": []
  },
  {
   "cell_type": "markdown",
   "metadata": {},
   "source": [
    "## 11.4 以處理為基礎的並行處理"
   ]
  },
  {
   "cell_type": "code",
   "execution_count": null,
   "metadata": {
    "collapsed": true
   },
   "outputs": [],
   "source": [
    "# %load ch11/countdown_mp.py\n",
    "# filename:countdown_mp.py(chap11)\n",
    "# function: multiprocessing\n",
    "# Example of launching a process with the multiprocessing module\n",
    "\n",
    "import time\n",
    "import multiprocessing\n",
    "#from multiprocessing import Process, Lock\n",
    "import os\n",
    "\n",
    "#inheirt from parent class multiprocessing.Process\n",
    "class CountProcess(multiprocessing.Process):\n",
    "    def __init__(self,count):\n",
    "        print(\"--init--\",count)\n",
    "        multiprocessing. Process.__init__(self)\n",
    "        self.count = count\n",
    "        print('module name:', __name__)\n",
    "        print('parent process:', os.getppid())\n",
    "        print('process id:', os.getpid())\n",
    "    def run(self):\n",
    "        while self.count > 0:\n",
    "            print (\"Counting down\", self.count)\n",
    "            self.count -= 1\n",
    "            time.sleep(5)\n",
    "#        return\n",
    "\n",
    "proclock = multiprocessing.Lock()\n",
    "\n",
    "if __name__ == '__main__':\n",
    "\n",
    "   proc1 = CountProcess(10)  # Create the process object\n",
    "   proc1.start()             # Launch the process\n",
    "   proc1.join()\n",
    "\n",
    "   proc2 = CountProcess(20)  # Create another process\n",
    "   proc2.start()                  # Launch\n",
    "   proc2.join()\n",
    "   \n"
   ]
  },
  {
   "cell_type": "code",
   "execution_count": null,
   "metadata": {
    "collapsed": true
   },
   "outputs": [],
   "source": [
    "# %load ch11/perform_mp.py\n",
    "# filename:perform_mp.py\n",
    "# funcion: performance test comparison between sequential and multiprocessing\n",
    "# \n",
    "\n",
    "import time\n",
    "import multiprocessing\n",
    "\n",
    "def count(n):\n",
    "    \n",
    "    while n > 0:\n",
    "        n -= 1\n",
    "\n",
    "starting = time.time()\n",
    "print (\"\\nstarting time %s: \" %time.ctime(time.time()))\n",
    "count(5000000)\n",
    "count(5000000)\n",
    "ending = time.time()\n",
    "print (\"ending time   %s: \" %time.ctime(time.time()))\n",
    "print (\"Sequential process performance     :\", ending-starting)\n",
    "\n",
    "start = time.time()\n",
    "print (\"\\nstarting time %s: \" %time.ctime(time.time()))\n",
    "p1 = multiprocessing.Process(target=count,args=(5000000,))\n",
    "p2 = multiprocessing.Process(target=count,args=(5000000,))\n",
    "p1.start()\n",
    "p2.start()\n",
    "p1.join()\n",
    "p2.join()\n",
    "end = time.time()\n",
    "print (\"ending time   %s: \" %time.ctime(time.time()))\n",
    "print (\"Multiprocessing process performance:\", end-start)\n",
    "\n"
   ]
  },
  {
   "cell_type": "code",
   "execution_count": null,
   "metadata": {
    "collapsed": true
   },
   "outputs": [],
   "source": []
  },
  {
   "cell_type": "markdown",
   "metadata": {},
   "source": [
    "## 11.5 習題"
   ]
  },
  {
   "cell_type": "code",
   "execution_count": null,
   "metadata": {
    "collapsed": true
   },
   "outputs": [],
   "source": [
    "# %load script/ch11/exam11-1.py\n",
    "# filename:chap12_ex2_count_down.py\n",
    "# function: invoke target function to a different thread, and check the time\n",
    "\n",
    "import time\n",
    "import threading\n",
    "count_val=10\n",
    "\n",
    "def target_counting(count):\n",
    "    while count > 0:\n",
    "        count -= 1\n",
    "        time.sleep(0.5)\n",
    "    return\n",
    "\n",
    "print (\"\\nstarting time %s: \" %time.ctime(time.time()))\n",
    "thrd1 = threading.Thread(target=target_counting,args=(count_val,))\n",
    "thrd1.start()\n",
    "#thrd1.join()\n",
    "print (\"\\nstarting time %s: \" %time.ctime(time.time()))\n",
    "thrd2 = threading.Thread(target=target_counting,args=(count_val*2,))\n",
    "thrd2.start()\n",
    "#thrd2.join()\n",
    "print (\"\\nstarting time %s: \" %time.ctime(time.time()))\n"
   ]
  },
  {
   "cell_type": "code",
   "execution_count": null,
   "metadata": {
    "collapsed": true
   },
   "outputs": [],
   "source": []
  }
 ],
 "metadata": {
  "kernelspec": {
   "display_name": "Python 3",
   "language": "python",
   "name": "python3"
  },
  "language_info": {
   "codemirror_mode": {
    "name": "ipython",
    "version": 3
   },
   "file_extension": ".py",
   "mimetype": "text/x-python",
   "name": "python",
   "nbconvert_exporter": "python",
   "pygments_lexer": "ipython3",
   "version": "3.6.3"
  }
 },
 "nbformat": 4,
 "nbformat_minor": 2
}
