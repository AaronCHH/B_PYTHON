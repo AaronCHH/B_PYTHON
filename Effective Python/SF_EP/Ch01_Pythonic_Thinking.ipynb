{
 "cells": [
  {
   "cell_type": "markdown",
   "metadata": {},
   "source": [
    "# Chapter 1: Pythonic Thinking"
   ]
  },
  {
   "cell_type": "markdown",
   "metadata": {},
   "source": [
    "<div id=\"toc\"></div>"
   ]
  },
  {
   "cell_type": "markdown",
   "metadata": {},
   "source": [
    "## Item 1: Know Which Version of Python You’re Using"
   ]
  },
  {
   "cell_type": "code",
   "execution_count": null,
   "metadata": {
    "collapsed": false,
    "scrolled": true
   },
   "outputs": [],
   "source": [
    "python --version"
   ]
  },
  {
   "cell_type": "code",
   "execution_count": null,
   "metadata": {
    "collapsed": true
   },
   "outputs": [],
   "source": [
    "python3 --version"
   ]
  },
  {
   "cell_type": "code",
   "execution_count": 6,
   "metadata": {
    "collapsed": false,
    "scrolled": true
   },
   "outputs": [
    {
     "name": "stdout",
     "output_type": "stream",
     "text": [
      "sys.version_info(major=3, minor=6, micro=0, releaselevel='final', serial=0)\n",
      "3.6.0 |Anaconda custom (64-bit)| (default, Dec 23 2016, 11:57:41) [MSC v.1900 64 bit (AMD64)]\n"
     ]
    }
   ],
   "source": [
    "import sys\n",
    "print(sys.version_info)\n",
    "print(sys.version)"
   ]
  },
  {
   "cell_type": "markdown",
   "metadata": {},
   "source": [
    "* There are two major versions of Python still in active use: Python 2 and Python 3. \n",
    "* There are multiple popular runtimes for Python: CPython, Jython, IronPython, PyPy, etc. \n",
    "* Be sure that the command-line for running Python on your system is the version you expect it to be. \n",
    "* Prefer Python 3 for your next project because that is the primary focus of the Python community. "
   ]
  },
  {
   "cell_type": "markdown",
   "metadata": {},
   "source": [
    "## Item 2: Follow the PEP 8 Style Guide"
   ]
  },
  {
   "cell_type": "markdown",
   "metadata": {},
   "source": [
    "http://www.python.org/dev/peps/pep-0008/"
   ]
  },
  {
   "cell_type": "markdown",
   "metadata": {},
   "source": [
    "> Note\n",
    "The Pylint tool (http://www.pylint.org/) is a popular static analyzer for Python source code.  \n",
    "Pylint provides automated enforcement of the PEP 8 style guide and detects many other types of common errors in Python programs.  \n"
   ]
  },
  {
   "cell_type": "markdown",
   "metadata": {},
   "source": [
    "* Always follow the PEP 8 style guide when writing Python code.  \n",
    "* Sharing a common style with the larger Python community facilitates collaboration with others.  \n",
    "* Using a consistent style makes it easier to modify your own code later.  "
   ]
  },
  {
   "cell_type": "markdown",
   "metadata": {},
   "source": [
    "## Item 3: Know the Differences Between bytes, str, and unicode"
   ]
  },
  {
   "cell_type": "code",
   "execution_count": 7,
   "metadata": {
    "collapsed": true
   },
   "outputs": [],
   "source": [
    "def to_str( bytes_or_str):\n",
    "    if isinstance( bytes_or_str, bytes) :\n",
    "        value = bytes_or_str.decode('utf-8')\n",
    "    else:\n",
    "        value = bytes_or_str\n",
    "    return value # Instance of str"
   ]
  },
  {
   "cell_type": "code",
   "execution_count": 8,
   "metadata": {
    "collapsed": true
   },
   "outputs": [],
   "source": [
    "def to_bytes( bytes_or_str):\n",
    "    if isinstance( bytes_or_str, str) :\n",
    "        value = bytes_or_str.encode( 'utf-8' )\n",
    "    else:\n",
    "        value = bytes_or_str\n",
    "    return value # Instance of bytes"
   ]
  },
  {
   "cell_type": "code",
   "execution_count": null,
   "metadata": {
    "collapsed": true
   },
   "outputs": [],
   "source": [
    "# Python 2\n",
    "def to_unicode( unicode_or_str) :\n",
    "    if isinstance( unicode_or_str, str) :\n",
    "        value = unicode_or_str.decode( 'utf-8' )\n",
    "    else:\n",
    "        value = unicode_or_str\n",
    "    return value # Instance of unicode"
   ]
  },
  {
   "cell_type": "code",
   "execution_count": null,
   "metadata": {
    "collapsed": true
   },
   "outputs": [],
   "source": [
    "# Python 2\n",
    "def to_str( unicode_or_str):\n",
    "    if isinstance( unicode_or_str, unicode):\n",
    "        value = unicode_or_str.encode( 'utf-8' )\n",
    "    else:\n",
    "        value = unicode_or_str\n",
    "    return value # Instance of str"
   ]
  },
  {
   "cell_type": "code",
   "execution_count": null,
   "metadata": {
    "collapsed": true
   },
   "outputs": [],
   "source": [
    "with open('/tmp/random.bin', 'w') as f:\n",
    "    f.write(os.urandom(10))"
   ]
  },
  {
   "cell_type": "code",
   "execution_count": null,
   "metadata": {
    "collapsed": true
   },
   "outputs": [],
   "source": [
    "with open('/tmp/random. bin', 'wb') as f:\n",
    "    f.write(os.urandom(10))"
   ]
  },
  {
   "cell_type": "markdown",
   "metadata": {},
   "source": [
    "* In Python 3, bytes contains sequences of 8-bit values, str contains sequences of Unicode characters.  \n",
    "* bytes and str instances can’t be used together with operators (like > or +).  \n",
    "* In Python 2, str contains sequences of 8-bit values, unicode contains sequences of Unicode characters.  \n",
    "* str and unicode can be used together with operators if the str only contains 7-bit ASCII characters.  \n",
    "* Use helper functions to ensure that the inputs you operate on are the type of character sequence you expect (8-bit values, UTF-8 encoded characters, Unicode characters, etc.).  \n",
    "* If you want to read or write binary data to/from a file, always open the file using a binary mode (like ' rb' or ' wb' ).  \n"
   ]
  },
  {
   "cell_type": "markdown",
   "metadata": {},
   "source": [
    "## Item 4: Write Helper Functions Instead of Complex Expressions"
   ]
  },
  {
   "cell_type": "code",
   "execution_count": 16,
   "metadata": {
    "collapsed": false
   },
   "outputs": [
    {
     "name": "stdout",
     "output_type": "stream",
     "text": [
      "{'red': ['5'], 'blue': ['0'], 'green': ['']}\n"
     ]
    }
   ],
   "source": [
    "from urllib.parse import parse_qs\n",
    "my_values = parse_qs('red=5&blue=0&green=', keep_blank_values=True)\n",
    "print(repr(my_values))"
   ]
  },
  {
   "cell_type": "code",
   "execution_count": 17,
   "metadata": {
    "collapsed": false
   },
   "outputs": [
    {
     "name": "stdout",
     "output_type": "stream",
     "text": [
      "Red:  ['5']\n",
      "Green:  ['']\n",
      "Opacity: None\n"
     ]
    }
   ],
   "source": [
    "print('Red: ', my_values.get('red') )\n",
    "print('Green: ', my_values.get('green') )\n",
    "print('Opacity:', my_values.get('opacity') )"
   ]
  },
  {
   "cell_type": "code",
   "execution_count": null,
   "metadata": {
    "collapsed": true
   },
   "outputs": [],
   "source": [
    "# For query string'red=5&blue=0&green='\n",
    "red = my_values.get('red', [''] ) [0] or 0\n",
    "green = my_values.get('green', [''] ) [0] or 0\n",
    "opacity = my_values.get('opacity', [''] ) [0] or 0\n",
    "print('Red: %r'% red)\n",
    "print('Green: %r'% green)\n",
    "print('Opacity: %r'% opacity)"
   ]
  },
  {
   "cell_type": "code",
   "execution_count": null,
   "metadata": {
    "collapsed": true
   },
   "outputs": [],
   "source": [
    "red = int(my_values.get('red',[''])[0] or 0)"
   ]
  },
  {
   "cell_type": "code",
   "execution_count": null,
   "metadata": {
    "collapsed": true
   },
   "outputs": [],
   "source": [
    "red = my_values.get('red', [''])\n",
    "red = int(red[0]) if red[0] else 0"
   ]
  },
  {
   "cell_type": "code",
   "execution_count": null,
   "metadata": {
    "collapsed": true
   },
   "outputs": [],
   "source": [
    "green = my_values.get('green', [''] )\n",
    "if green[0]:\n",
    "    green = int(green[0])\n",
    "else:\n",
    "    green = 0"
   ]
  },
  {
   "cell_type": "code",
   "execution_count": null,
   "metadata": {
    "collapsed": true
   },
   "outputs": [],
   "source": [
    "def get_first_int( values, key, default=0):\n",
    "    found = values.get(key, [''] )\n",
    "    if found[0]:\n",
    "        found = int(found[0])\n",
    "    else:\n",
    "        found = default\n",
    "    return found"
   ]
  },
  {
   "cell_type": "code",
   "execution_count": null,
   "metadata": {
    "collapsed": true
   },
   "outputs": [],
   "source": [
    "green = get_first_int(my_values, 'green' )"
   ]
  },
  {
   "cell_type": "markdown",
   "metadata": {},
   "source": [
    "* Python’s syntax makes it all too easy to write single-line expressions that are overly complicated and difficult to read.  \n",
    "* Move complex expressions into helper functions, especially if you need to use the same logic repeatedly.  \n",
    "* The if/else expression provides a more readable alternative to using Boolean operators like or and and in expressions.  \n",
    "\n"
   ]
  },
  {
   "cell_type": "markdown",
   "metadata": {},
   "source": [
    "## Item 5: Know How to Slice Sequences"
   ]
  },
  {
   "cell_type": "code",
   "execution_count": 2,
   "metadata": {
    "collapsed": false
   },
   "outputs": [
    {
     "name": "stdout",
     "output_type": "stream",
     "text": [
      "First four: ['a', 'b', 'c', 'd']\n",
      "Last four: ['e', 'f', 'g', 'h']\n",
      "Middle two: ['d', 'e']\n"
     ]
    }
   ],
   "source": [
    "a = ['a', 'b', 'c', 'd', 'e', 'f', 'g', 'h']\n",
    "print('First four:', a[:4])\n",
    "print('Last four:', a[-4:])\n",
    "print('Middle two:', a[3:-3])"
   ]
  },
  {
   "cell_type": "code",
   "execution_count": 19,
   "metadata": {
    "collapsed": true
   },
   "outputs": [],
   "source": [
    "assert a[:5] == a[0:5]"
   ]
  },
  {
   "cell_type": "code",
   "execution_count": 3,
   "metadata": {
    "collapsed": false
   },
   "outputs": [
    {
     "data": {
      "text/plain": [
       "True"
      ]
     },
     "execution_count": 3,
     "metadata": {},
     "output_type": "execute_result"
    }
   ],
   "source": [
    "a[:5] == a[0:5]"
   ]
  },
  {
   "cell_type": "code",
   "execution_count": 20,
   "metadata": {
    "collapsed": true
   },
   "outputs": [],
   "source": [
    "assert a[5:] == a[5:len(a)]"
   ]
  },
  {
   "cell_type": "code",
   "execution_count": 4,
   "metadata": {
    "collapsed": false
   },
   "outputs": [
    {
     "data": {
      "text/plain": [
       "True"
      ]
     },
     "execution_count": 4,
     "metadata": {},
     "output_type": "execute_result"
    }
   ],
   "source": [
    "a[:5] == a[0:5]"
   ]
  },
  {
   "cell_type": "code",
   "execution_count": null,
   "metadata": {
    "collapsed": true
   },
   "outputs": [],
   "source": [
    "a[:]       # ['a', 'b', 'c', 'd', 'e', 'f', 'g', 'h']\n",
    "a[:5]      # ['a', 'b', 'c', 'd', 'e']\n",
    "a[:-1]     # ['a', 'b', 'c', 'd', 'e', 'f', 'g']\n",
    "a[4:]      # ['e', 'f', 'g', 'h']\n",
    "a[-3:]     # ['f', 'g', 'h']\n",
    "a[2:5]     # ['c', 'd', 'e']\n",
    "a[2:-1]    # ['c', 'd', 'e', 'f', 'g']\n",
    "a[-3:-1]   # ['f', 'g']"
   ]
  },
  {
   "cell_type": "code",
   "execution_count": null,
   "metadata": {
    "collapsed": true
   },
   "outputs": [],
   "source": [
    "first_twenty_items = a[:20]\n",
    "last_twenty_items = a[-20:]"
   ]
  },
  {
   "cell_type": "code",
   "execution_count": 19,
   "metadata": {
    "collapsed": true
   },
   "outputs": [],
   "source": [
    "a[20]"
   ]
  },
  {
   "cell_type": "code",
   "execution_count": 5,
   "metadata": {
    "collapsed": false
   },
   "outputs": [
    {
     "name": "stdout",
     "output_type": "stream",
     "text": [
      "Before: ['e', 'f', 'g', 'h']\n",
      "After: ['e', 99, 'g', 'h']\n",
      "No change: ['a', 'b', 'c', 'd', 'e', 'f', 'g', 'h']\n"
     ]
    }
   ],
   "source": [
    "b = a[4:]\n",
    "print('Before:', b)\n",
    "b[1] = 99\n",
    "print('After:', b)\n",
    "print('No change:', a)"
   ]
  },
  {
   "cell_type": "code",
   "execution_count": 6,
   "metadata": {
    "collapsed": false
   },
   "outputs": [
    {
     "name": "stdout",
     "output_type": "stream",
     "text": [
      "Before ['a', 'b', 'c', 'd', 'e', 'f', 'g', 'h']\n",
      "After ['a', 'b', 99, 22, 14, 'h']\n"
     ]
    }
   ],
   "source": [
    "print('Before', a)\n",
    "a[2:7] = [99, 22, 14]\n",
    "print('After', a)"
   ]
  },
  {
   "cell_type": "markdown",
   "metadata": {},
   "source": [
    "* Avoid being verbose: Don’t supply 0 for the start index or the length of the sequence for the end index.  \n",
    "* Slicing is forgiving of start or end indexes that are out of bounds, making it easy to express slices on the front or back boundaries of a sequence (like a[:20] or a[-20:]).  \n",
    "* Assigning to a list slice will replace that range in the original sequence with what’s referenced even if their lengths are different.  "
   ]
  },
  {
   "cell_type": "markdown",
   "metadata": {},
   "source": [
    "## Item 6: Avoid Using start, end, and stride in a Single Slice"
   ]
  },
  {
   "cell_type": "code",
   "execution_count": 8,
   "metadata": {
    "collapsed": false
   },
   "outputs": [
    {
     "name": "stdout",
     "output_type": "stream",
     "text": [
      "['red', 'yellow', 'blue']\n"
     ]
    }
   ],
   "source": [
    "a = ['red', 'orange', 'yellow', 'green', 'blue', 'purple']\n",
    "odds = a[::2]\n",
    "evens = a[1::2]\n",
    "print(odds)"
   ]
  },
  {
   "cell_type": "code",
   "execution_count": 9,
   "metadata": {
    "collapsed": false
   },
   "outputs": [
    {
     "name": "stdout",
     "output_type": "stream",
     "text": [
      "b'esoognom'\n"
     ]
    }
   ],
   "source": [
    "x = b'mongoose'\n",
    "y = x[::-1]\n",
    "print(y)"
   ]
  },
  {
   "cell_type": "code",
   "execution_count": 10,
   "metadata": {
    "collapsed": false
   },
   "outputs": [
    {
     "ename": "UnicodeDecodeError",
     "evalue": "'utf-8' codec can't decode byte 0x9d in position 0: invalid start byte",
     "output_type": "error",
     "traceback": [
      "\u001b[0;31m---------------------------------------------------------------------------\u001b[0m",
      "\u001b[0;31mUnicodeDecodeError\u001b[0m                        Traceback (most recent call last)",
      "\u001b[0;32m<ipython-input-10-f59a2e6b090b>\u001b[0m in \u001b[0;36m<module>\u001b[0;34m()\u001b[0m\n\u001b[1;32m      2\u001b[0m \u001b[0mx\u001b[0m \u001b[1;33m=\u001b[0m \u001b[0mw\u001b[0m\u001b[1;33m.\u001b[0m\u001b[0mencode\u001b[0m\u001b[1;33m(\u001b[0m\u001b[1;34m'utf-8'\u001b[0m\u001b[1;33m)\u001b[0m\u001b[1;33m\u001b[0m\u001b[0m\n\u001b[1;32m      3\u001b[0m \u001b[0my\u001b[0m \u001b[1;33m=\u001b[0m \u001b[0mx\u001b[0m\u001b[1;33m[\u001b[0m\u001b[1;33m:\u001b[0m\u001b[1;33m:\u001b[0m\u001b[1;33m-\u001b[0m\u001b[1;36m1\u001b[0m\u001b[1;33m]\u001b[0m\u001b[1;33m\u001b[0m\u001b[0m\n\u001b[0;32m----> 4\u001b[0;31m \u001b[0mz\u001b[0m \u001b[1;33m=\u001b[0m \u001b[0my\u001b[0m\u001b[1;33m.\u001b[0m\u001b[0mdecode\u001b[0m\u001b[1;33m(\u001b[0m\u001b[1;34m'utf-8'\u001b[0m\u001b[1;33m)\u001b[0m\u001b[1;33m\u001b[0m\u001b[0m\n\u001b[0m",
      "\u001b[0;31mUnicodeDecodeError\u001b[0m: 'utf-8' codec can't decode byte 0x9d in position 0: invalid start byte"
     ]
    }
   ],
   "source": [
    "w = '謝謝'\n",
    "x = w.encode('utf-8')\n",
    "y = x[::-1]\n",
    "z = y.decode('utf-8')"
   ]
  },
  {
   "cell_type": "code",
   "execution_count": null,
   "metadata": {
    "collapsed": true
   },
   "outputs": [],
   "source": [
    "a = ['a', 'b', 'c', 'd', 'e', 'f', 'g', 'h']\n",
    "a[::2] # ['a', 'c', 'e', 'g']\n",
    "a[::-2] # ['h', 'f', 'd', 'b']"
   ]
  },
  {
   "cell_type": "code",
   "execution_count": null,
   "metadata": {
    "collapsed": false
   },
   "outputs": [],
   "source": [
    "a[2::2]     # ['c','e','g']\n",
    "a[-2::-2]   # ['g','e','c','a']\n",
    "a[-2:2:-2]  # ['g','e']\n",
    "a[2:2:-2]   # []"
   ]
  },
  {
   "cell_type": "code",
   "execution_count": null,
   "metadata": {
    "collapsed": true
   },
   "outputs": [],
   "source": [
    "b = a[::2]  # ['a', 'c', 'e', 'g']\n",
    "c = b[1:-1] # ['c', 'e']"
   ]
  },
  {
   "cell_type": "markdown",
   "metadata": {},
   "source": [
    "* Specifying start, end, and stride in a slice can be extremely confusing.  \n",
    "* Prefer using positive stride values in slices without start or end indexes.  \n",
    "* Avoid negative stride values if possible.  \n",
    "* Avoid using start, end, and stride together in a single slice.  \n",
    "* If you need all three parameters, consider doing two assignments (one to slice, another to stride) or using islice from the itertools built-in module.    \n"
   ]
  },
  {
   "cell_type": "markdown",
   "metadata": {},
   "source": [
    "## Item 7: Use List Comprehensions Instead of map and filter"
   ]
  },
  {
   "cell_type": "code",
   "execution_count": 12,
   "metadata": {
    "collapsed": false
   },
   "outputs": [
    {
     "name": "stdout",
     "output_type": "stream",
     "text": [
      "[1, 4, 9, 16, 25, 36, 49, 64, 81, 100]\n"
     ]
    }
   ],
   "source": [
    "a = [1, 2, 3, 4, 5, 6, 7, 8, 9, 10]\n",
    "squares = [x**2 for x in a]\n",
    "print(squares)"
   ]
  },
  {
   "cell_type": "code",
   "execution_count": 15,
   "metadata": {
    "collapsed": false
   },
   "outputs": [
    {
     "name": "stdout",
     "output_type": "stream",
     "text": [
      "<map object at 0x0000003EB99820B8>\n"
     ]
    }
   ],
   "source": [
    "squares = map(lambda x: x ** 2, a)\n",
    "print(squares)"
   ]
  },
  {
   "cell_type": "code",
   "execution_count": 16,
   "metadata": {
    "collapsed": false
   },
   "outputs": [
    {
     "name": "stdout",
     "output_type": "stream",
     "text": [
      "[4, 16, 36, 64, 100]\n"
     ]
    }
   ],
   "source": [
    "even_squares = [x**2 for x in a if x % 2 == 0]\n",
    "print(even_squares)"
   ]
  },
  {
   "cell_type": "code",
   "execution_count": 17,
   "metadata": {
    "collapsed": true
   },
   "outputs": [],
   "source": [
    "alt = map( lambda x: x**2, filter( lambda x: x % 2 == 0, a) )\n",
    "assert even_squares == list( alt)"
   ]
  },
  {
   "cell_type": "code",
   "execution_count": 18,
   "metadata": {
    "collapsed": false
   },
   "outputs": [
    {
     "name": "stdout",
     "output_type": "stream",
     "text": [
      "{1: 'ghost', 2: 'habanero', 3: 'cayenne'}\n",
      "{8, 5, 7}\n"
     ]
    }
   ],
   "source": [
    "chile_ranks = {'ghost': 1, 'habanero': 2, 'cayenne': 3}\n",
    "rank_dict = {rank: name for name, rank in chile_ranks.items() }\n",
    "chile_len_set = {len(name) for name in rank_dict.values() }\n",
    "print(rank_dict)\n",
    "print(chile_len_set)"
   ]
  },
  {
   "cell_type": "markdown",
   "metadata": {},
   "source": [
    "* List comprehensions are clearer than the map and filter built-in functions because they don’t require extra lambda expressions.  \n",
    "* List comprehensions allow you to easily skip items from the input list, a behavior map doesn’t support without help from filter.  \n",
    "* Dictionaries and sets also support comprehension expressions.  "
   ]
  },
  {
   "cell_type": "markdown",
   "metadata": {},
   "source": [
    "## Item 8: Avoid More Than Two Expressions in List Comprehensions"
   ]
  },
  {
   "cell_type": "code",
   "execution_count": 20,
   "metadata": {
    "collapsed": false
   },
   "outputs": [
    {
     "name": "stdout",
     "output_type": "stream",
     "text": [
      "[1, 2, 3, 4, 5, 6, 7, 8, 9]\n"
     ]
    }
   ],
   "source": [
    "matrix = [[1, 2, 3] , [4, 5, 6] , [7, 8, 9] ]\n",
    "flat = [x for row in matrix for x in row]\n",
    "print(flat)"
   ]
  },
  {
   "cell_type": "code",
   "execution_count": 22,
   "metadata": {
    "collapsed": false
   },
   "outputs": [
    {
     "name": "stdout",
     "output_type": "stream",
     "text": [
      "[[1, 4, 9], [16, 25, 36], [49, 64, 81]]\n"
     ]
    }
   ],
   "source": [
    "squared = [[x**2 for x in row] for row in matrix]\n",
    "print(squared)"
   ]
  },
  {
   "cell_type": "code",
   "execution_count": 23,
   "metadata": {
    "collapsed": true
   },
   "outputs": [],
   "source": [
    "my_lists = [\n",
    "    [[1, 2, 3] , [4, 5, 6] ] ,\n",
    "    # …\n",
    "]\n",
    "flat = [x for sublist1 in my_lists\n",
    "        for sublist2 in sublist1\n",
    "        for x in sublist2]"
   ]
  },
  {
   "cell_type": "code",
   "execution_count": 24,
   "metadata": {
    "collapsed": true
   },
   "outputs": [],
   "source": [
    "flat = []\n",
    "for sublist1 in my_lists:\n",
    "    for sublist2 in sublist1:\n",
    "        flat.extend(sublist2)"
   ]
  },
  {
   "cell_type": "code",
   "execution_count": 28,
   "metadata": {
    "collapsed": false
   },
   "outputs": [
    {
     "name": "stdout",
     "output_type": "stream",
     "text": [
      "[6, 8, 10]\n",
      "[6, 8, 10]\n"
     ]
    }
   ],
   "source": [
    "a = [1, 2, 3, 4, 5, 6, 7, 8, 9, 10]\n",
    "b = [x for x in a if x > 4 if x % 2 == 0]\n",
    "print(b)\n",
    "c = [x for x in a if x > 4 and x % 2 == 0]\n",
    "print(c)"
   ]
  },
  {
   "cell_type": "code",
   "execution_count": 26,
   "metadata": {
    "collapsed": false
   },
   "outputs": [
    {
     "name": "stdout",
     "output_type": "stream",
     "text": [
      "[[6], [9]]\n"
     ]
    }
   ],
   "source": [
    "matrix = [[1, 2, 3] , [4, 5, 6] , [7, 8, 9] ]\n",
    "filtered = [[x for x in row if x % 3 == 0]\n",
    "for row in matrix if sum( row) >= 10]\n",
    "print(filtered)"
   ]
  },
  {
   "cell_type": "markdown",
   "metadata": {},
   "source": [
    "* List comprehensions support multiple levels of loops and multiple conditions per loop level.  \n",
    "* List comprehensions with more than two expressions are very difficult to read and should be avoided.  "
   ]
  },
  {
   "cell_type": "markdown",
   "metadata": {},
   "source": [
    "## Item 9: Consider Generator Expressions for Large Comprehensions"
   ]
  },
  {
   "cell_type": "code",
   "execution_count": 29,
   "metadata": {
    "collapsed": false
   },
   "outputs": [
    {
     "name": "stdout",
     "output_type": "stream",
     "text": [
      "[73, 77, 72, 74, 78, 72]\n"
     ]
    }
   ],
   "source": [
    "value = [len(x) for x in open('./chapter1/my_file.txt') ]\n",
    "print(value)"
   ]
  },
  {
   "cell_type": "code",
   "execution_count": 30,
   "metadata": {
    "collapsed": false
   },
   "outputs": [
    {
     "name": "stdout",
     "output_type": "stream",
     "text": [
      "<generator object <genexpr> at 0x0000003EB99448E0>\n"
     ]
    }
   ],
   "source": [
    "it = (len(x) for x in open('./chapter1/my_file.txt') )\n",
    "print(it)"
   ]
  },
  {
   "cell_type": "code",
   "execution_count": 31,
   "metadata": {
    "collapsed": false
   },
   "outputs": [
    {
     "name": "stdout",
     "output_type": "stream",
     "text": [
      "73\n",
      "77\n"
     ]
    }
   ],
   "source": [
    "print(next(it))\n",
    "print(next(it))"
   ]
  },
  {
   "cell_type": "code",
   "execution_count": 32,
   "metadata": {
    "collapsed": true
   },
   "outputs": [],
   "source": [
    "roots = ((x, x**0.5) for x in it)"
   ]
  },
  {
   "cell_type": "code",
   "execution_count": 33,
   "metadata": {
    "collapsed": false
   },
   "outputs": [
    {
     "name": "stdout",
     "output_type": "stream",
     "text": [
      "(72, 8.48528137423857)\n"
     ]
    }
   ],
   "source": [
    "print(next(roots))"
   ]
  },
  {
   "cell_type": "code",
   "execution_count": 43,
   "metadata": {
    "collapsed": false
   },
   "outputs": [
    {
     "name": "stdout",
     "output_type": "stream",
     "text": [
      "(74, 8.602325267042627)\n"
     ]
    }
   ],
   "source": [
    "print(next(roots))"
   ]
  },
  {
   "cell_type": "markdown",
   "metadata": {},
   "source": [
    "* List comprehensions can cause problems for large inputs by using too much memory.  \n",
    "* Generator expressions avoid memory issues by producing outputs one at a time as an iterator.  \n",
    "* Generator expressions can be composed by passing the iterator from one generator expression into the for subexpression of another.  \n",
    "* Generator expressions execute very quickly when chained together.  \n",
    "\n"
   ]
  },
  {
   "cell_type": "markdown",
   "metadata": {},
   "source": [
    "## Item 10: Prefer enumerate Over range"
   ]
  },
  {
   "cell_type": "code",
   "execution_count": 37,
   "metadata": {
    "collapsed": false
   },
   "outputs": [
    {
     "ename": "NameError",
     "evalue": "name 'randint' is not defined",
     "output_type": "error",
     "traceback": [
      "\u001b[0;31m---------------------------------------------------------------------------\u001b[0m",
      "\u001b[0;31mNameError\u001b[0m                                 Traceback (most recent call last)",
      "\u001b[0;32m<ipython-input-37-9ad3c982d9f5>\u001b[0m in \u001b[0;36m<module>\u001b[0;34m()\u001b[0m\n\u001b[1;32m      3\u001b[0m \u001b[0mrandom_bits\u001b[0m \u001b[1;33m=\u001b[0m \u001b[1;36m0\u001b[0m\u001b[1;33m\u001b[0m\u001b[0m\n\u001b[1;32m      4\u001b[0m \u001b[1;32mfor\u001b[0m \u001b[0mi\u001b[0m \u001b[1;32min\u001b[0m \u001b[0mrange\u001b[0m\u001b[1;33m(\u001b[0m\u001b[1;36m64\u001b[0m\u001b[1;33m)\u001b[0m\u001b[1;33m:\u001b[0m\u001b[1;33m\u001b[0m\u001b[0m\n\u001b[0;32m----> 5\u001b[0;31m     \u001b[1;32mif\u001b[0m \u001b[0mrandint\u001b[0m\u001b[1;33m(\u001b[0m\u001b[1;36m0\u001b[0m\u001b[1;33m,\u001b[0m \u001b[1;36m1\u001b[0m\u001b[1;33m)\u001b[0m\u001b[1;33m:\u001b[0m\u001b[1;33m\u001b[0m\u001b[0m\n\u001b[0m\u001b[1;32m      6\u001b[0m         \u001b[0mrandom_bits\u001b[0m \u001b[1;33m|=\u001b[0m \u001b[1;36m1\u001b[0m \u001b[1;33m<<\u001b[0m \u001b[0mi\u001b[0m\u001b[1;33m\u001b[0m\u001b[0m\n",
      "\u001b[0;31mNameError\u001b[0m: name 'randint' is not defined"
     ]
    }
   ],
   "source": [
    "import numpy as np\n",
    "from math import *\n",
    "random_bits = 0\n",
    "for i in range(64):\n",
    "    if randint(0, 1):\n",
    "        random_bits |= 1 << i"
   ]
  },
  {
   "cell_type": "code",
   "execution_count": 38,
   "metadata": {
    "collapsed": false
   },
   "outputs": [
    {
     "name": "stdout",
     "output_type": "stream",
     "text": [
      "vanilla is delicious\n",
      "chocolate is delicious\n",
      "pecan is delicious\n",
      "strawberry is delicious\n"
     ]
    }
   ],
   "source": [
    "flavor_list = ['vanilla' , 'chocolate' , 'pecan' , 'strawberry' ]\n",
    "for flavor in flavor_list:\n",
    "    print('%s is delicious' % flavor)"
   ]
  },
  {
   "cell_type": "code",
   "execution_count": 39,
   "metadata": {
    "collapsed": false
   },
   "outputs": [
    {
     "name": "stdout",
     "output_type": "stream",
     "text": [
      "1: vanilla\n",
      "2: chocolate\n",
      "3: pecan\n",
      "4: strawberry\n"
     ]
    }
   ],
   "source": [
    "for i in range(len(flavor_list)):\n",
    "    flavor = flavor_list[i]\n",
    "    print('%d: %s' % ( i + 1, flavor) )"
   ]
  },
  {
   "cell_type": "code",
   "execution_count": 40,
   "metadata": {
    "collapsed": false
   },
   "outputs": [
    {
     "name": "stdout",
     "output_type": "stream",
     "text": [
      "1: vanilla\n",
      "2: chocolate\n",
      "3: pecan\n",
      "4: strawberry\n"
     ]
    }
   ],
   "source": [
    "for i, flavor in enumerate(flavor_list):\n",
    "    print('%d: %s' % ( i + 1, flavor) )"
   ]
  },
  {
   "cell_type": "code",
   "execution_count": 42,
   "metadata": {
    "collapsed": false
   },
   "outputs": [
    {
     "name": "stdout",
     "output_type": "stream",
     "text": [
      "1: vanilla\n",
      "2: chocolate\n",
      "3: pecan\n",
      "4: strawberry\n"
     ]
    }
   ],
   "source": [
    "for i, flavor in enumerate(flavor_list, 1):\n",
    "    print('%d: %s' % ( i, flavor) )"
   ]
  },
  {
   "cell_type": "markdown",
   "metadata": {},
   "source": [
    "* enumerate provides concise syntax for looping over an iterator and getting the index of each item from the iterator as you go.  \n",
    "* Prefer enumerate instead of looping over a range and indexing into a sequence.  \n",
    "* You can supply a second parameter to enumerate to specify the number from which to begin counting (zero is the default).  \n",
    "\n"
   ]
  },
  {
   "cell_type": "markdown",
   "metadata": {},
   "source": [
    "## Item 11: Use zip to Process Iterators in Parallel"
   ]
  },
  {
   "cell_type": "code",
   "execution_count": 49,
   "metadata": {
    "collapsed": true
   },
   "outputs": [],
   "source": [
    "names = ['Cecilia' , 'Lise' , 'Marie' ]\n",
    "letters = [len(n) for n in names]"
   ]
  },
  {
   "cell_type": "code",
   "execution_count": 52,
   "metadata": {
    "collapsed": false
   },
   "outputs": [
    {
     "name": "stdout",
     "output_type": "stream",
     "text": [
      "Cecilia\n"
     ]
    }
   ],
   "source": [
    "longest_name = None\n",
    "max_letters = 0\n",
    "for i in range(len(names)):\n",
    "    count = letters[i]\n",
    "    if count > max_letters:\n",
    "        longest_name = names[i]\n",
    "        max_letters = count\n",
    "print(longest_name)"
   ]
  },
  {
   "cell_type": "code",
   "execution_count": 58,
   "metadata": {
    "collapsed": false
   },
   "outputs": [
    {
     "name": "stdout",
     "output_type": "stream",
     "text": [
      "Cecilia\n"
     ]
    }
   ],
   "source": [
    "for i, name in enumerate(names) :\n",
    "    count = letters[i]\n",
    "    if count > max_letters:\n",
    "        longest_name = name\n",
    "        max_letters = count\n",
    "print(longest_name)        "
   ]
  },
  {
   "cell_type": "code",
   "execution_count": 59,
   "metadata": {
    "collapsed": false
   },
   "outputs": [
    {
     "name": "stdout",
     "output_type": "stream",
     "text": [
      "Cecilia\n"
     ]
    }
   ],
   "source": [
    "for name, count in zip(names, letters) :\n",
    "    if count > max_letters:\n",
    "        longest_name = name\n",
    "        max_letters = count\n",
    "print(longest_name)        "
   ]
  },
  {
   "cell_type": "code",
   "execution_count": 60,
   "metadata": {
    "collapsed": false
   },
   "outputs": [
    {
     "name": "stdout",
     "output_type": "stream",
     "text": [
      "Cecilia\n",
      "Lise\n",
      "Marie\n"
     ]
    }
   ],
   "source": [
    "names.append('Rosalind')\n",
    "for name, count in zip(names, letters) :\n",
    "    print( name)"
   ]
  },
  {
   "cell_type": "markdown",
   "metadata": {},
   "source": [
    "* The zip built-in function can be used to iterate over multiple iterators in parallel.  \n",
    "* In Python 3, zip is a lazy generator that produces tuples.  \n",
    "* In Python 2, zip returns the full result as a list of tuples.  \n",
    "* zip truncates its output silently if you supply it with iterators of different lengths.  \n",
    "* The zip_longest function from the itertools built-in module lets you iterate over multiple iterators in parallel regardless of their lengths (see Item 46: “Use Built-in Algorithms and Data Structures”).  \n",
    "\n"
   ]
  },
  {
   "cell_type": "markdown",
   "metadata": {},
   "source": [
    "## Item 12: Avoid else Blocks After for and while Loops"
   ]
  },
  {
   "cell_type": "code",
   "execution_count": 61,
   "metadata": {
    "collapsed": false
   },
   "outputs": [
    {
     "name": "stdout",
     "output_type": "stream",
     "text": [
      "Loop 0\n",
      "Loop 1\n",
      "Loop 2\n",
      "Else block!\n"
     ]
    }
   ],
   "source": [
    "for i in range(3):\n",
    "    print('Loop %d' % i)\n",
    "else:\n",
    "    print('Else block!')"
   ]
  },
  {
   "cell_type": "code",
   "execution_count": 62,
   "metadata": {
    "collapsed": false
   },
   "outputs": [
    {
     "name": "stdout",
     "output_type": "stream",
     "text": [
      "Loop 0\n",
      "Loop 1\n"
     ]
    }
   ],
   "source": [
    "for i in range(3):\n",
    "    print('Loop %d' % i)\n",
    "    if i == 1:\n",
    "        break\n",
    "else:\n",
    "    print('Else block!')"
   ]
  },
  {
   "cell_type": "code",
   "execution_count": 63,
   "metadata": {
    "collapsed": false
   },
   "outputs": [
    {
     "name": "stdout",
     "output_type": "stream",
     "text": [
      "For Else block!\n"
     ]
    }
   ],
   "source": [
    "for x in []:\n",
    "    print('Never runs')\n",
    "else:\n",
    "    print('For Else block!')"
   ]
  },
  {
   "cell_type": "code",
   "execution_count": 64,
   "metadata": {
    "collapsed": false
   },
   "outputs": [
    {
     "name": "stdout",
     "output_type": "stream",
     "text": [
      "While Else block! \n"
     ]
    }
   ],
   "source": [
    "while False:\n",
    "    print('Never runs')\n",
    "else:\n",
    "    print('While Else block! ')"
   ]
  },
  {
   "cell_type": "code",
   "execution_count": 65,
   "metadata": {
    "collapsed": false
   },
   "outputs": [
    {
     "name": "stdout",
     "output_type": "stream",
     "text": [
      "Testing 2\n",
      "Testing 3\n",
      "Testing 4\n",
      "Coprime\n"
     ]
    }
   ],
   "source": [
    "a = 4\n",
    "b = 9\n",
    "for i in range( 2, min( a, b) + 1) :\n",
    "    print('Testing', i)\n",
    "    if a % i == 0 and b % i == 0:\n",
    "        print('Not coprime')\n",
    "        break\n",
    "else:\n",
    "    print('Coprime')"
   ]
  },
  {
   "cell_type": "code",
   "execution_count": 66,
   "metadata": {
    "collapsed": true
   },
   "outputs": [],
   "source": [
    "def coprime(a, b):\n",
    "    for i in range( 2, min( a, b) + 1) :\n",
    "        if a % i == 0 and b % i == 0:\n",
    "            return False\n",
    "    return True"
   ]
  },
  {
   "cell_type": "code",
   "execution_count": 67,
   "metadata": {
    "collapsed": true
   },
   "outputs": [],
   "source": [
    "def coprime2(a, b) :\n",
    "    is_coprime = True\n",
    "    for i in range( 2, min( a, b) + 1) :\n",
    "        if a % i == 0 and b % i == 0:\n",
    "            is_coprime = False\n",
    "            break\n",
    "    return is_coprime"
   ]
  },
  {
   "cell_type": "markdown",
   "metadata": {},
   "source": [
    "* Python has special syntax that allows else blocks to immediately follow for and while loop interior blocks.  \n",
    "* The else block after a loop only runs if the loop body did not encounter a break statement.  \n",
    "* Avoid using else blocks after loops because their behavior isn’t intuitive and can be confusing.  \n",
    "\n"
   ]
  },
  {
   "cell_type": "markdown",
   "metadata": {},
   "source": [
    "## Item 13: Take Advantage of Each Block in try/except/else/finally\n",
    " "
   ]
  },
  {
   "cell_type": "code",
   "execution_count": null,
   "metadata": {
    "collapsed": true
   },
   "outputs": [],
   "source": [
    "handle = open('/tmp/random_data.txt') # May raise IOError\n",
    "try:\n",
    "    data = handle.read( ) # May raise UnicodeDecodeError\n",
    "finally:\n",
    "    handle. close( ) # Always runs after try:"
   ]
  },
  {
   "cell_type": "code",
   "execution_count": null,
   "metadata": {
    "collapsed": true
   },
   "outputs": [],
   "source": [
    "def load_json_key(data, key) :\n",
    "    try:\n",
    "        result_dict = json.loads(data) # May raise ValueError\n",
    "    except ValueError as e:\n",
    "        raise KeyError from e\n",
    "    else:\n",
    "        return result_dict[key] # May raise KeyError"
   ]
  },
  {
   "cell_type": "code",
   "execution_count": null,
   "metadata": {
    "collapsed": true
   },
   "outputs": [],
   "source": [
    "UNDEFINED = obj ect()\n",
    "def divide_json(path):\n",
    "    handle = open(path, 'r+') # May raise IOError\n",
    "try:\n",
    "    data = handle.read() # May raise UnicodeDecodeError\n",
    "    op = json.loads(data) # May raise ValueError\n",
    "    value = (\n",
    "        op['numerator'] /\n",
    "        op['denominator'] ) # May raise ZeroDivisionError\n",
    "except ZeroDivisionError as e:\n",
    "        return UNDEFINED\n",
    "else:\n",
    "    op['result'] = value\n",
    "    result = json.dumps(op)\n",
    "    handle.seek(0)\n",
    "    handle.write(result) # May raise IOError\n",
    "    return value\n",
    "finally:\n",
    "handle.close() # Always runs"
   ]
  },
  {
   "cell_type": "markdown",
   "metadata": {},
   "source": [
    "* The try/finally compound statement lets you run cleanup code regardless of whether exceptions were raised in the try block.  \n",
    "* The else block helps you minimize the amount of code in try blocks and visually distinguish the success case from the try/except blocks.  \n",
    "* An else block can be used to perform additional actions after a successful try block but before common cleanup in a finally block.  \n",
    "\n"
   ]
  },
  {
   "cell_type": "code",
   "execution_count": null,
   "metadata": {
    "collapsed": true
   },
   "outputs": [],
   "source": []
  }
 ],
 "metadata": {
  "kernelspec": {
   "display_name": "Python 3",
   "language": "python",
   "name": "python3"
  }
 },
 "nbformat": 4,
 "nbformat_minor": 2
}
