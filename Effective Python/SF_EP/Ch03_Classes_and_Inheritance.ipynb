{
 "cells": [
  {
   "cell_type": "markdown",
   "metadata": {},
   "source": [
    "# Chapter 3: Classes and Inheritance"
   ]
  },
  {
   "cell_type": "markdown",
   "metadata": {},
   "source": [
    "<div id=\"toc\"></div>"
   ]
  },
  {
   "cell_type": "markdown",
   "metadata": {},
   "source": [
    "## Item 22: Prefer Helper Classes Over Bookkeeping with Dictionaries and Tuples"
   ]
  },
  {
   "cell_type": "code",
   "execution_count": 1,
   "metadata": {
    "collapsed": false
   },
   "outputs": [
    {
     "ename": "SyntaxError",
     "evalue": "invalid syntax (<ipython-input-1-638146463406>, line 1)",
     "output_type": "error",
     "traceback": [
      "\u001b[0;36m  File \u001b[0;32m\"<ipython-input-1-638146463406>\"\u001b[0;36m, line \u001b[0;32m1\u001b[0m\n\u001b[0;31m    class SimpleGradebook(obj ect):\u001b[0m\n\u001b[0m                                ^\u001b[0m\n\u001b[0;31mSyntaxError\u001b[0m\u001b[0;31m:\u001b[0m invalid syntax\n"
     ]
    }
   ],
   "source": [
    "class SimpleGradebook(obj ect):\n",
    "    def __init__(self):\n",
    "        self._grades = {}\n",
    "    def add_student(self, name):\n",
    "        self._grades[name] = []\n",
    "    def report_grade(self, name, score):\n",
    "        self._grades[name].append(score)\n",
    "    def average_grade(self, name):\n",
    "        grades = self._grades[name]\n",
    "        return sum(grades) / len(grades)"
   ]
  },
  {
   "cell_type": "code",
   "execution_count": null,
   "metadata": {
    "collapsed": true
   },
   "outputs": [],
   "source": [
    "book = SimpleGradebook( )\n",
    "book.add_student('Isaac Newton')\n",
    "book.report_grade('Isaac Newton', 90)\n",
    "# …\n",
    "print( book. average_grade('Isaac Newton') )"
   ]
  },
  {
   "cell_type": "code",
   "execution_count": null,
   "metadata": {
    "collapsed": true
   },
   "outputs": [],
   "source": [
    "class BySubj ectGradebook(object) :\n",
    "    def __init__(self) :\n",
    "        self._grades = {}\n",
    "    def add_student(self, name) :\n",
    "        self._grades[name] = {}"
   ]
  },
  {
   "cell_type": "code",
   "execution_count": null,
   "metadata": {
    "collapsed": true
   },
   "outputs": [],
   "source": [
    "def report_grade(self, name, subject, grade):\n",
    "    by_subject = self._grades[name]\n",
    "    grade_list = by_subject.setdefault(subject, [])\n",
    "    grade_list.append(grade)\n",
    "def average_grade(self, name):\n",
    "    by_subject = self._grades[name]\n",
    "    total, count = 0, 0\n",
    "    for grades in by_subject.values():\n",
    "        total += sum(grades)\n",
    "        count += len(grades)\n",
    "    return total / count"
   ]
  },
  {
   "cell_type": "code",
   "execution_count": null,
   "metadata": {
    "collapsed": true
   },
   "outputs": [],
   "source": [
    "book = BySubj ectGradebook( )\n",
    "book.add_student('Albert Einstein')\n",
    "book.report_grade('Albert Einstein', 'Math', 75)\n",
    "book.report_grade('Albert Einstein', 'Math', 65)\n",
    "book.report_grade('Albert Einstein', 'Gym', 90)\n",
    "book.report_grade('Albert Einstein', 'Gym', 95)"
   ]
  },
  {
   "cell_type": "code",
   "execution_count": null,
   "metadata": {
    "collapsed": true
   },
   "outputs": [],
   "source": [
    "class WeightedGradebook(object) :\n",
    "    # …\n",
    "    def report_grade(self, name, subject, score, weight) :\n",
    "        by_subject = self._grades[name]\n",
    "        grade_list = by_subject.setdefault(subject, [] )\n",
    "        grade_list.append((score, weight))"
   ]
  },
  {
   "cell_type": "code",
   "execution_count": null,
   "metadata": {
    "collapsed": true
   },
   "outputs": [],
   "source": [
    "def average_grade(self, name) :\n",
    "    by_subject = self._grades[name]\n",
    "    score_sum, score_count = 0, 0\n",
    "    for subject, scores in by_subject.items() :\n",
    "        subject_avg, total_weight = 0, 0\n",
    "        for score, weight in scores:\n",
    "            # …\n",
    "    return score_sum / score_count"
   ]
  },
  {
   "cell_type": "code",
   "execution_count": null,
   "metadata": {
    "collapsed": true
   },
   "outputs": [],
   "source": [
    "book.report_grade( 'Albert Einstein', 'Math', 80, 0. 10)"
   ]
  },
  {
   "cell_type": "code",
   "execution_count": null,
   "metadata": {
    "collapsed": true
   },
   "outputs": [],
   "source": [
    "grades = []\n",
    "grades. append( ( 95, 0. 45) )\n",
    "# …\n",
    "total = sum( score * weight for score, weight in grades)\n",
    "total_weight = sum( weight for _, weight in grades)\n",
    "average_grade = total / total_weight"
   ]
  },
  {
   "cell_type": "code",
   "execution_count": null,
   "metadata": {
    "collapsed": true
   },
   "outputs": [],
   "source": [
    "grades = []\n",
    "grades.append( ( 95, 0. 45, 'Great job' ) )\n",
    "# …\n",
    "total = sum( score * weight for score, weight, _ in grades)\n",
    "total_weight = sum( weight for _, weight, _ in grades)\n",
    "average_grade = total / total_weight"
   ]
  },
  {
   "cell_type": "code",
   "execution_count": null,
   "metadata": {
    "collapsed": true
   },
   "outputs": [],
   "source": [
    "import collections\n",
    "Grade = collections.namedtuple('Grade', ('score', 'weight'))"
   ]
  },
  {
   "cell_type": "code",
   "execution_count": null,
   "metadata": {
    "collapsed": true
   },
   "outputs": [],
   "source": [
    "class Subject(object) :\n",
    "    def __init__(self) :\n",
    "        self._grades = []\n",
    "    def report_grade(self, score, weight) :\n",
    "        self. _grades. append(Grade(score, weight) )\n",
    "    def average_grade(self) :\n",
    "        total, total_weight = 0, 0\n",
    "        for grade in self._grades:\n",
    "            total += grade. score * grade.weight\n",
    "            total_weight += grade.weight\n",
    "        return total / total_weight"
   ]
  },
  {
   "cell_type": "code",
   "execution_count": null,
   "metadata": {
    "collapsed": true
   },
   "outputs": [],
   "source": [
    "class Student(object) :\n",
    "    def __init__(self) :\n",
    "        self._subjects = {}\n",
    "    def subj ect(self, name) :\n",
    "        if name not in self._subjects:\n",
    "            self._subjects[name] = Subject()\n",
    "        return self._subjects[name]\n",
    "    def average_grade( self) :\n",
    "        total, count = 0, 0\n",
    "        for subj ect in self._subjects.values():\n",
    "            total += subject.average_grade()\n",
    "            count += 1\n",
    "        return total / count"
   ]
  },
  {
   "cell_type": "code",
   "execution_count": null,
   "metadata": {
    "collapsed": true
   },
   "outputs": [],
   "source": [
    "class Gradebook(object) :\n",
    "    def __init__(self) :\n",
    "        self._students = {}\n",
    "    def student(self, name) :\n",
    "        if name not in self._students:\n",
    "            self._students[name] = Student()\n",
    "        return self._students[name]"
   ]
  },
  {
   "cell_type": "code",
   "execution_count": null,
   "metadata": {
    "collapsed": true
   },
   "outputs": [],
   "source": [
    "book = Gradebook()\n",
    "albert = book.student('Albert Einstein')\n",
    "math = albert.subj ect('Math')\n",
    "math.report_grade(80, 0.10)\n",
    "# …\n",
    "print(albert.average_grade())"
   ]
  },
  {
   "cell_type": "markdown",
   "metadata": {},
   "source": [
    "* Avoid making dictionaries with values that are other dictionaries or long tuples.  \n",
    "* Use namedtuple for lightweight, immutable data containers before you need the flexibility of a full class.  \n",
    "* Move your bookkeeping code to use multiple helper classes when your internal state dictionaries get complicated.  \n",
    "\n"
   ]
  },
  {
   "cell_type": "markdown",
   "metadata": {},
   "source": [
    "## Item 23: Accept Functions for Simple Interfaces Instead of Classes"
   ]
  },
  {
   "cell_type": "markdown",
   "metadata": {},
   "source": [
    "## Item 24: Use @classmethod Polymorphism to Construct Objects Generically"
   ]
  },
  {
   "cell_type": "markdown",
   "metadata": {},
   "source": [
    "## Item 25: Initialize Parent Classes with super"
   ]
  },
  {
   "cell_type": "markdown",
   "metadata": {},
   "source": [
    "## Item 26: Use Multiple Inheritance Only for Mix-in Utility Classes"
   ]
  },
  {
   "cell_type": "markdown",
   "metadata": {},
   "source": [
    "## Item 27: Prefer Public Attributes Over Private Ones"
   ]
  },
  {
   "cell_type": "markdown",
   "metadata": {},
   "source": [
    "## Item 28: Inherit from collections.abc for Custom Container Types"
   ]
  },
  {
   "cell_type": "code",
   "execution_count": null,
   "metadata": {
    "collapsed": true
   },
   "outputs": [],
   "source": []
  },
  {
   "cell_type": "code",
   "execution_count": null,
   "metadata": {
    "collapsed": true
   },
   "outputs": [],
   "source": []
  }
 ],
 "metadata": {
  "kernelspec": {
   "display_name": "Python 3",
   "language": "python",
   "name": "python3"
  },
  "language_info": {
   "codemirror_mode": {
    "name": "ipython",
    "version": 3
   },
   "file_extension": ".py",
   "mimetype": "text/x-python",
   "name": "python",
   "nbconvert_exporter": "python",
   "pygments_lexer": "ipython3",
   "version": "3.6.0"
  }
 },
 "nbformat": 4,
 "nbformat_minor": 2
}
