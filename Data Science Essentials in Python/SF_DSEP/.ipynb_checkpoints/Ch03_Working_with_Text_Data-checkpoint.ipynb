{
 "cells": [
  {
   "cell_type": "markdown",
   "metadata": {},
   "source": [
    "# Ch3. Working with Text Data"
   ]
  },
  {
   "cell_type": "markdown",
   "metadata": {},
   "source": [
    "<div id=\"toc\"></div>"
   ]
  },
  {
   "cell_type": "markdown",
   "metadata": {},
   "source": [
    "## Unit13_Processing HTML Files"
   ]
  },
  {
   "cell_type": "code",
   "execution_count": null,
   "metadata": {
    "collapsed": true
   },
   "outputs": [],
   "source": [
    "from bs4 import BeautifulSoup\n",
    "from urllib.request import urlopen\n",
    "# Construct soup from a string\n",
    "soup1 = BeautifulSoup( \"<HTML><HEAD>«headers»</HEAD>«body»</HTML>\" )\n",
    "# Construct soup from a local file\n",
    "soup2 = BeautifulSoup(open( \"myDoc.html\" ))\n",
    "# Construct soup from a web document\n",
    "# Remember that urlopen() does not add \"http://\"!\n",
    "soup3 = BeautifulSoup(urlopen( \"http://www.networksciencelab.com/\" ))"
   ]
  },
  {
   "cell_type": "code",
   "execution_count": null,
   "metadata": {
    "collapsed": true
   },
   "outputs": [],
   "source": [
    "htmlString = '''\n",
    "<HTML>\n",
    "<HEAD><TITLE>My document</TITLE></HEAD>\n",
    "<BODY>Main text.</BODY></HTML>\n",
    "'''\n",
    "soup = BeautifulSoup(htmlString)\n",
    "soup.get_text()"
   ]
  },
  {
   "cell_type": "code",
   "execution_count": null,
   "metadata": {
    "collapsed": true
   },
   "outputs": [],
   "source": [
    "with urlopen( \"http://www.networksciencelab.com/\" ) as doc:\n",
    "soup = BeautifulSoup(doc)\n",
    "links = [(link.string, link[ \"href\" ])\n",
    "for link in soup.find_all( \"a\" )\n",
    "if link.has_attr( \"href\" )]"
   ]
  },
  {
   "cell_type": "markdown",
   "metadata": {},
   "source": [
    "## Unit14_Handling CSV Files"
   ]
  },
  {
   "cell_type": "code",
   "execution_count": null,
   "metadata": {
    "collapsed": true
   },
   "outputs": [],
   "source": [
    "with open( \"somefile.csv\" , newline='' ) as infile:\n",
    "    reader = csv.reader(infile, delimiter=',' , quotechar='\"' )"
   ]
  },
  {
   "cell_type": "markdown",
   "metadata": {},
   "source": [
    "http://catalog.data.gov/dataset?res_format=CSV"
   ]
  },
  {
   "cell_type": "code",
   "execution_count": null,
   "metadata": {
    "collapsed": true
   },
   "outputs": [],
   "source": [
    "with open( \"demographics.csv\" , newline='' ) as infile:\n",
    "    data = list(csv.reader(infile))"
   ]
  },
  {
   "cell_type": "code",
   "execution_count": null,
   "metadata": {
    "collapsed": true
   },
   "outputs": [],
   "source": [
    "ageIndex = data[0].index( \"Answer.Age\" )"
   ]
  },
  {
   "cell_type": "code",
   "execution_count": null,
   "metadata": {
    "collapsed": true
   },
   "outputs": [],
   "source": [
    "ages = [int(row[ageIndex]) for row in data[1:]]\n",
    "print(statistics.mean(ages), statistics.stdev(ages))"
   ]
  },
  {
   "cell_type": "markdown",
   "metadata": {},
   "source": [
    "## Unit15_Reading JSON Files"
   ]
  },
  {
   "cell_type": "markdown",
   "metadata": {},
   "source": [
    "http://dev.twitter.com/overview/documentation  \n",
    "http://developers.facebook.com  \n",
    "http://developer.yahoo.com/weather/  "
   ]
  },
  {
   "cell_type": "code",
   "execution_count": null,
   "metadata": {
    "collapsed": true
   },
   "outputs": [],
   "source": [
    "object = «some serializable object»\n",
    "# Save an object to a file\n",
    "with open( \"data.json\" , \"w\" ) as out_json:\n",
    "json.dump(object, out_json, indent=None, sort_keys=False)\n",
    "# Load an object from a file\n",
    "with open( \"data.json\" ) as in_json:\n",
    "    object1 = json.load(in_json)\n",
    "# Serialize an object to a string\n",
    "json_string = json.dumps(object1)\n",
    "# Parse a string as JSON\n",
    "object2 = json.loads(json_string)"
   ]
  },
  {
   "cell_type": "markdown",
   "metadata": {},
   "source": [
    "## Unit16_Processing Texts in Natural Languages"
   ]
  },
  {
   "cell_type": "markdown",
   "metadata": {},
   "source": [
    "#### NLTK Corpora"
   ]
  },
  {
   "cell_type": "code",
   "execution_count": null,
   "metadata": {
    "collapsed": false,
    "scrolled": true
   },
   "outputs": [],
   "source": [
    "wn = nltk.corpus.wordnet # The corpus reader\n",
    "wn.synsets( \"cat\" )"
   ]
  },
  {
   "cell_type": "code",
   "execution_count": null,
   "metadata": {
    "collapsed": true
   },
   "outputs": [],
   "source": [
    "wn.synset( \"cat.n.01\" ).definition()\n",
    "wn.synset( \"cat.n.02\" ).definition()"
   ]
  },
  {
   "cell_type": "code",
   "execution_count": null,
   "metadata": {
    "collapsed": true
   },
   "outputs": [],
   "source": [
    "wn.synset( \"cat.n.01\" ).hypernyms()\n",
    "wn.synset( \"cat.n.01\" ).hyponyms()"
   ]
  },
  {
   "cell_type": "code",
   "execution_count": null,
   "metadata": {
    "collapsed": true
   },
   "outputs": [],
   "source": [
    "x = wn.synset( \"cat.n.01\" )\n",
    "y = wn.synset( \"lynx.n.01\" )\n",
    "x.path_similarity(y)"
   ]
  },
  {
   "cell_type": "code",
   "execution_count": null,
   "metadata": {
    "collapsed": true
   },
   "outputs": [],
   "source": [
    "[simxy.definition() for simxy in max(\n",
    "    (x.path_similarity(y), x, y)\n",
    "    for x in wn.synsets( 'cat' )\n",
    "    for y in wn.synsets( 'dog' )\n",
    "    if x.path_similarity(y) # Ensure the synsets are related at all\n",
    ")[1:]]"
   ]
  },
  {
   "cell_type": "code",
   "execution_count": null,
   "metadata": {
    "collapsed": true
   },
   "outputs": [],
   "source": [
    "myCorpus.fileids()\n",
    "myCorpus.raw()\n",
    "myCorpus.sents()\n",
    "myCorpus.words()"
   ]
  },
  {
   "cell_type": "markdown",
   "metadata": {},
   "source": [
    "#### Normalization"
   ]
  },
  {
   "cell_type": "code",
   "execution_count": null,
   "metadata": {
    "collapsed": true
   },
   "outputs": [],
   "source": [
    "from nltk.tokenize import WordPunctTokenizer\n",
    "word_punct = WordPunctTokenizer()\n",
    "text = \"}Help! :))) :[ ..... :D{\"\n",
    "word_punct.tokenize(text)"
   ]
  },
  {
   "cell_type": "code",
   "execution_count": null,
   "metadata": {
    "collapsed": true
   },
   "outputs": [],
   "source": [
    "nltk.word_tokenize(text)"
   ]
  },
  {
   "cell_type": "code",
   "execution_count": null,
   "metadata": {
    "collapsed": true
   },
   "outputs": [],
   "source": [
    "pstemmer = nltk.PorterStemmer()\n",
    "pstemmer.stem( \"wonderful\" )"
   ]
  },
  {
   "cell_type": "code",
   "execution_count": null,
   "metadata": {
    "collapsed": true
   },
   "outputs": [],
   "source": [
    "lstemmer = nltk.LancasterStemmer()\n",
    "lstemmer.stem( \"wonderful\" )"
   ]
  },
  {
   "cell_type": "code",
   "execution_count": null,
   "metadata": {
    "collapsed": true
   },
   "outputs": [],
   "source": [
    "lemmatizer = nltk.WordNetLemmatizer()\n",
    "lemmatizer.lemmatize( \"wonderful\" )"
   ]
  },
  {
   "cell_type": "code",
   "execution_count": null,
   "metadata": {
    "collapsed": true
   },
   "outputs": [],
   "source": [
    "nltk.pos_tag([ \"beautiful\" , \"world\" ])\n",
    "# An adjective and a noun"
   ]
  },
  {
   "cell_type": "code",
   "execution_count": null,
   "metadata": {
    "collapsed": true
   },
   "outputs": [],
   "source": [
    "from bs4 import BeautifulSoup\n",
    "from collections import Counter\n",
    "from nltk.corpus import stopwords\n",
    "from nltk import LancasterStemmer\n",
    "# Create a new stemmer\n",
    "ls = nltk.LancasterStemmer()\n",
    "# Read the file and cook a soup\n",
    "with open( \"index.html\" ) as infile:\n",
    "    soup = BeautifulSoup(infile)\n",
    "# Extract and tokenize the text\n",
    "words = nltk.word_tokenize(soup.text)\n",
    "# Convert to lowercase\n",
    "words = [w.lower() for w in words]\n",
    "# Eliminate stop words and stem the rest of the words\n",
    "words = [ls.stem(w) for w in text if w not in\n",
    "         stopwords.words( \"english\" ) and w.isalnum()]\n",
    "# Tally the words\n",
    "freqs = Counter(words)\n",
    "print(freqs.most_common(10))"
   ]
  },
  {
   "cell_type": "markdown",
   "metadata": {},
   "source": [
    "#### Other Text-Processing Procedures"
   ]
  },
  {
   "cell_type": "markdown",
   "metadata": {},
   "source": [
    "## Your Turn"
   ]
  },
  {
   "cell_type": "markdown",
   "metadata": {},
   "source": [
    "http://www.mediawiki.org/wiki/API:Main_page  \n",
    "http://en.wikipedia.org/wiki/Category:Rock_music_groups_by_genre  \n",
    "http://en.wikipedia.org/wiki/Jaccard_index  "
   ]
  }
 ],
 "metadata": {
  "kernelspec": {
   "display_name": "Python 3",
   "language": "python",
   "name": "python3"
  },
  "language_info": {
   "codemirror_mode": {
    "name": "ipython",
    "version": 3
   },
   "file_extension": ".py",
   "mimetype": "text/x-python",
   "name": "python",
   "nbconvert_exporter": "python",
   "pygments_lexer": "ipython3",
   "version": "3.6.0"
  }
 },
 "nbformat": 4,
 "nbformat_minor": 1
}
