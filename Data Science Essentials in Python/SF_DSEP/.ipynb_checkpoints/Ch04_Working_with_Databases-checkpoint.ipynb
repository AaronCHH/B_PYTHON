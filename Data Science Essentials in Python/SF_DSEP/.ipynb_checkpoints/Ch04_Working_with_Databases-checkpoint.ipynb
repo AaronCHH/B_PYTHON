{
 "cells": [
  {
   "cell_type": "markdown",
   "metadata": {},
   "source": [
    "# Ch4. Working with Databases"
   ]
  },
  {
   "cell_type": "markdown",
   "metadata": {},
   "source": [
    "<div id=\"toc\"></div>"
   ]
  },
  {
   "cell_type": "markdown",
   "metadata": {},
   "source": [
    "## Unit17_Setting Up a MySQL Database"
   ]
  },
  {
   "cell_type": "code",
   "execution_count": null,
   "metadata": {
    "collapsed": true
   },
   "outputs": [],
   "source": [
    "c:\\myProject> mysql -u root -p\n",
    "Enter password:\n",
    "Welcome to the MySQL monitor. Commands end with ; or \\g.\n",
    "«More mysql output»\n",
    "mysql>"
   ]
  },
  {
   "cell_type": "code",
   "execution_count": null,
   "metadata": {
    "collapsed": true
   },
   "outputs": [],
   "source": [
    "CREATE USER 'dsuser' @'localhost' IDENTIFIED BY 'badpassw0rd' ;"
   ]
  },
  {
   "cell_type": "code",
   "execution_count": null,
   "metadata": {
    "collapsed": true
   },
   "outputs": [],
   "source": [
    "CREATE DATABASE dsdb;"
   ]
  },
  {
   "cell_type": "code",
   "execution_count": null,
   "metadata": {
    "collapsed": true
   },
   "outputs": [],
   "source": [
    "GRANT ALL ON dsdb.* TO 'dsuser' @'localhost' ;"
   ]
  },
  {
   "cell_type": "code",
   "execution_count": null,
   "metadata": {
    "collapsed": true
   },
   "outputs": [],
   "source": [
    "c:\\myProject> mysql -u dsuser -p dsdb\n",
    "Enter password:\n",
    "Welcome to the MySQL monitor. Commands end with ; or \\g.\n",
    "«More mysql output»\n",
    "mysql>"
   ]
  },
  {
   "cell_type": "code",
   "execution_count": null,
   "metadata": {
    "collapsed": true
   },
   "outputs": [],
   "source": [
    "USE dsdb;\n",
    "CREATE TABLE employee (empname TINYTEXT, salary FLOAT, hired DATE);"
   ]
  },
  {
   "cell_type": "code",
   "execution_count": null,
   "metadata": {
    "collapsed": true
   },
   "outputs": [],
   "source": [
    "DROP TABLE employee;"
   ]
  },
  {
   "cell_type": "code",
   "execution_count": null,
   "metadata": {
    "collapsed": true
   },
   "outputs": [],
   "source": [
    "CREATE TABLE employee (id INT PRIMARY KEY AUTO_INCREMENT,\n",
    "                       updated TIMESTAMP, empname TINYTEXT NOT NULL, salary FLOAT NOT NULL,\n",
    "                       hired DATE);"
   ]
  },
  {
   "cell_type": "code",
   "execution_count": null,
   "metadata": {
    "collapsed": true
   },
   "outputs": [],
   "source": [
    "ALTER TABLE employee ADD INDEX(hired);"
   ]
  },
  {
   "cell_type": "code",
   "execution_count": null,
   "metadata": {
    "collapsed": true
   },
   "outputs": [],
   "source": [
    "DROP INDEX hired ON employee;"
   ]
  },
  {
   "cell_type": "code",
   "execution_count": null,
   "metadata": {
    "collapsed": true
   },
   "outputs": [],
   "source": [
    "ALTER TABLE employee ADD UNIQUE(empname(255));"
   ]
  },
  {
   "cell_type": "code",
   "execution_count": null,
   "metadata": {
    "collapsed": true
   },
   "outputs": [],
   "source": []
  },
  {
   "cell_type": "markdown",
   "metadata": {},
   "source": [
    "## Unit18_Using a MySQL Database: Command Line"
   ]
  },
  {
   "cell_type": "markdown",
   "metadata": {},
   "source": [
    "#### Insertion"
   ]
  },
  {
   "cell_type": "code",
   "execution_count": null,
   "metadata": {
    "collapsed": true
   },
   "outputs": [],
   "source": [
    "INSERT INTO employee VALUES( NULL, NULL,\"John Smith\",35000,NOW());"
   ]
  },
  {
   "cell_type": "code",
   "execution_count": null,
   "metadata": {
    "collapsed": true
   },
   "outputs": [],
   "source": [
    "INSERT INTO employee VALUES( NULL, NULL,\"John Smith\",35000,NOW());"
   ]
  },
  {
   "cell_type": "code",
   "execution_count": null,
   "metadata": {
    "collapsed": true
   },
   "outputs": [],
   "source": [
    "INSERT IGNORE INTO employee VALUES( NULL, NULL,\"John Smith\",35000,NOW())"
   ]
  },
  {
   "cell_type": "markdown",
   "metadata": {},
   "source": [
    "#### Deletion"
   ]
  },
  {
   "cell_type": "code",
   "execution_count": null,
   "metadata": {
    "collapsed": true
   },
   "outputs": [],
   "source": [
    "-- Remove John Smith if he is low-paid\n",
    "DELETE FROM employee WHERE salary<11000 AND empname=\"John Smith\";\n",
    "-- Remove everyone\n",
    "DELETE FROM employee;"
   ]
  },
  {
   "cell_type": "code",
   "execution_count": null,
   "metadata": {
    "collapsed": true
   },
   "outputs": [],
   "source": [
    "DELETE FROM employee WHERE id=387513;"
   ]
  },
  {
   "cell_type": "markdown",
   "metadata": {},
   "source": [
    "#### Mutation"
   ]
  },
  {
   "cell_type": "code",
   "execution_count": null,
   "metadata": {
    "collapsed": true
   },
   "outputs": [],
   "source": [
    "-- Reset all recent hires' salary\n",
    "UPDATE employee SET salary=35000 WHERE hired=CURDATE();\n",
    "-- Increase John Smith's salary again\n",
    "UPDATE employee SET salary=salary+1000 WHERE empname=\"John Smith\";"
   ]
  },
  {
   "cell_type": "markdown",
   "metadata": {},
   "source": [
    "#### Selection"
   ]
  },
  {
   "cell_type": "code",
   "execution_count": null,
   "metadata": {
    "collapsed": true
   },
   "outputs": [],
   "source": [
    "SELECT empname,salary FROM employee WHERE empname=\"John Smith\";"
   ]
  },
  {
   "cell_type": "code",
   "execution_count": null,
   "metadata": {
    "collapsed": true
   },
   "outputs": [],
   "source": [
    "SELECT empname,salary FROM employee;"
   ]
  },
  {
   "cell_type": "code",
   "execution_count": null,
   "metadata": {
    "collapsed": true
   },
   "outputs": [],
   "source": [
    "SELECT * FROM employee WHERE hired>='2000-01-01' ORDER BY salary DESC;"
   ]
  },
  {
   "cell_type": "code",
   "execution_count": null,
   "metadata": {
    "collapsed": true
   },
   "outputs": [],
   "source": [
    "SELECT (hired>'2001-01-01' ) AS Recent, AVG(salary)\n",
    "FROM employee\n",
    "GROUP BY (hired>'2001-01-01' );"
   ]
  },
  {
   "cell_type": "code",
   "execution_count": null,
   "metadata": {
    "collapsed": true
   },
   "outputs": [],
   "source": [
    "SELECT AVG(salary),MIN(hired),MAX(hired) FROM employee\n",
    "GROUP BY YEAR(hired)\n",
    "HAVING MIN(hired)>'2001-01-01' ;"
   ]
  },
  {
   "cell_type": "markdown",
   "metadata": {},
   "source": [
    "#### Join"
   ]
  },
  {
   "cell_type": "code",
   "execution_count": null,
   "metadata": {
    "collapsed": true
   },
   "outputs": [],
   "source": [
    "-- Prepare and populate another table\n",
    "CREATE TABLE position (eid INT, description TEXT);\n",
    "INSERT INTO position (eid,description) VALUES (6, 'Imposter' ),\n",
    "(1, 'Accountant' ),(4, 'Programmer' ),(5, 'President' );\n",
    "ALTER TABLE position ADD INDEX(eid);\n",
    "\n",
    "-- Fetch the joined data\n",
    "SELECT employee.empname,position.description\n",
    "FROM employee,position WHERE employee.id=position.eid\n",
    "ORDER BY position.description;"
   ]
  },
  {
   "cell_type": "markdown",
   "metadata": {},
   "source": [
    "## Unit19_Using a MySQL Database: PyMySQL"
   ]
  },
  {
   "cell_type": "code",
   "execution_count": null,
   "metadata": {
    "collapsed": true
   },
   "outputs": [],
   "source": [
    "conn = pymysql.connect(host=\"localhost\" , port=3306,\n",
    "                       user=\"dsuser\" , passwd=\"badpassw0rd\" , db=\"dsdb\" )\n",
    "cur = conn.cursor()"
   ]
  },
  {
   "cell_type": "code",
   "execution_count": null,
   "metadata": {
    "collapsed": true
   },
   "outputs": [],
   "source": [
    "query = '''\n",
    "SELECT employee.empname,position.description\n",
    "FROM employee,position WHERE employee.id=position.eid\n",
    "ORDER BY position.description\n",
    "'''\n",
    "n_rows = cur.execute(query)"
   ]
  },
  {
   "cell_type": "code",
   "execution_count": null,
   "metadata": {
    "collapsed": true
   },
   "outputs": [],
   "source": [
    "results = list(cur.fetchall())"
   ]
  },
  {
   "cell_type": "markdown",
   "metadata": {},
   "source": [
    "http://quickbase.intuit.com/articles/timeline-of-database-history"
   ]
  },
  {
   "cell_type": "markdown",
   "metadata": {},
   "source": [
    "## Unit20_Taming Document Stores: MongoDB"
   ]
  },
  {
   "cell_type": "code",
   "execution_count": null,
   "metadata": {
    "collapsed": true
   },
   "outputs": [],
   "source": [
    "import pymongo as mongo\n",
    "# Default initialization\n",
    "client1 = mongo.MongoClient()\n",
    "# Explicit host and port\n",
    "client2 = mongo.MongoClient( \"localhost\" , 27017)\n",
    "# Explicit host and port as a URI\n",
    "client3 = mongo.MongoClient( \"mongodb://localhost:27017/\" )\n",
    "Once the client establishes a connection to the database server, select the\n",
    "active database and then the active collection. You can use either the object\n",
    "oriented ( “dotted ”) or dictionary-style notation. If the selected database or\n",
    "collection do not exist, the server will create them at once:\n",
    "# Two ways to create/select the active database\n",
    "db = client1.dsdb\n",
    "db = client1[ \"dsdb\" ]\n",
    "# Two ways to create/select the active collection\n",
    "people = db.people\n",
    "people = db[ \"people\" ]"
   ]
  },
  {
   "cell_type": "markdown",
   "metadata": {},
   "source": [
    "http://couchdb.apache.org"
   ]
  },
  {
   "cell_type": "code",
   "execution_count": null,
   "metadata": {
    "collapsed": true
   },
   "outputs": [],
   "source": [
    "person1 = {\"empname\" : \"John Smith\" , \"dob\" : \"1957-12-24\" }\n",
    "person2 = {\"_id\" : \"XVT162\" , \"empname\" : \"Jane Doe\" , \"dob\" : \"1964-05-16\" }\n",
    "person_id1 = people.insert_one(person1).inserted_id"
   ]
  },
  {
   "cell_type": "code",
   "execution_count": null,
   "metadata": {
    "collapsed": true
   },
   "outputs": [],
   "source": [
    "# Note the new \"_id\" field!\n",
    "person1"
   ]
  },
  {
   "cell_type": "code",
   "execution_count": null,
   "metadata": {
    "collapsed": true
   },
   "outputs": [],
   "source": [
    "person_id2 = people.insert_one(person2).inserted_id"
   ]
  },
  {
   "cell_type": "code",
   "execution_count": null,
   "metadata": {
    "collapsed": true
   },
   "outputs": [],
   "source": [
    "persons = [{\"empname\" : \"Abe Lincoln\" , \"dob\" : \"1809-02-12\" },\n",
    "           {\"empname\" : \"Anon I. Muss\" }]\n",
    "result = people.insert_many(persons)\n",
    "result.inserted_ids"
   ]
  },
  {
   "cell_type": "code",
   "execution_count": null,
   "metadata": {
    "collapsed": true
   },
   "outputs": [],
   "source": [
    "everyone = people.find()\n",
    "list(everyone)"
   ]
  },
  {
   "cell_type": "code",
   "execution_count": null,
   "metadata": {
    "collapsed": true
   },
   "outputs": [],
   "source": [
    "list(people.find({\"dob\" : \"1957-12-24\" }))"
   ]
  },
  {
   "cell_type": "code",
   "execution_count": null,
   "metadata": {
    "collapsed": true
   },
   "outputs": [],
   "source": [
    "people.find_one()"
   ]
  },
  {
   "cell_type": "code",
   "execution_count": null,
   "metadata": {
    "collapsed": true
   },
   "outputs": [],
   "source": [
    "people.find_one({\"empname\" : \"Abe Lincoln\" })"
   ]
  },
  {
   "cell_type": "code",
   "execution_count": null,
   "metadata": {
    "collapsed": true
   },
   "outputs": [],
   "source": [
    "people.find_one({\"_id\" : \"XVT162\" })"
   ]
  },
  {
   "cell_type": "code",
   "execution_count": null,
   "metadata": {
    "collapsed": true
   },
   "outputs": [],
   "source": [
    "people.count()"
   ]
  },
  {
   "cell_type": "code",
   "execution_count": null,
   "metadata": {
    "collapsed": true
   },
   "outputs": [],
   "source": [
    "people.find({\"dob\" : \"1957-12-24\" }).count()"
   ]
  },
  {
   "cell_type": "code",
   "execution_count": null,
   "metadata": {
    "collapsed": true
   },
   "outputs": [],
   "source": [
    "people.find().sort( \"dob\" )"
   ]
  },
  {
   "cell_type": "code",
   "execution_count": null,
   "metadata": {
    "collapsed": true
   },
   "outputs": [],
   "source": [
    "result = people.delete_many({\"dob\" : \"1957-12-24\" })\n",
    "result.deleted_count"
   ]
  },
  {
   "cell_type": "markdown",
   "metadata": {},
   "source": [
    "## Your Turn"
   ]
  }
 ],
 "metadata": {
  "kernelspec": {
   "display_name": "Python 3",
   "language": "python",
   "name": "python3"
  },
  "language_info": {
   "codemirror_mode": {
    "name": "ipython",
    "version": 3
   },
   "file_extension": ".py",
   "mimetype": "text/x-python",
   "name": "python",
   "nbconvert_exporter": "python",
   "pygments_lexer": "ipython3",
   "version": "3.6.0"
  }
 },
 "nbformat": 4,
 "nbformat_minor": 1
}
