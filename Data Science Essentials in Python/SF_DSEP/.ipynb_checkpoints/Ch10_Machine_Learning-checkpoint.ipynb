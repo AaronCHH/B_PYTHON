{
 "cells": [
  {
   "cell_type": "markdown",
   "metadata": {},
   "source": [
    "# Ch10. Machine Learning"
   ]
  },
  {
   "cell_type": "markdown",
   "metadata": {},
   "source": [
    "<div id=\"toc\"></div>"
   ]
  },
  {
   "cell_type": "markdown",
   "metadata": {},
   "source": [
    "## Unit48_Designing a Predictive Experiment"
   ]
  },
  {
   "cell_type": "code",
   "execution_count": null,
   "metadata": {
    "collapsed": true
   },
   "outputs": [],
   "source": []
  },
  {
   "cell_type": "markdown",
   "metadata": {},
   "source": [
    "## Unit49_Fitting a Linear Regression"
   ]
  },
  {
   "cell_type": "markdown",
   "metadata": {},
   "source": [
    "### Ordinary Least Square Regression"
   ]
  },
  {
   "cell_type": "code",
   "execution_count": null,
   "metadata": {
    "collapsed": true
   },
   "outputs": [],
   "source": [
    "# %load code/sap-linregr.py\n",
    "import numpy, pandas as pd\n",
    "import matplotlib, matplotlib.pyplot as plt\n",
    "import sklearn.linear_model as lm\n",
    "\n",
    "# Get the data\n",
    "sap = pd.read_csv(\"sapXXI.csv\").set_index(\"Date\")\n",
    "\n",
    "# Select a \"linearly looking\" part\n",
    "sap.index = pd.to_datetime(sap.index)\n",
    "sap_linear = sap.ix[sap.index > pd.to_datetime('2009-01-01')]\n",
    "\n",
    "# Prepare the model and fit it\n",
    "olm = lm.LinearRegression()\n",
    "X = numpy.array([x.toordinal() for x in sap_linear.index])[:, numpy.newaxis]\n",
    "y = sap_linear['Close']\n",
    "olm.fit(X, y)\n",
    "\n",
    "# Predict values\n",
    "yp = [olm.predict(x.toordinal())[0] for x in sap_linear.index]\n",
    "\n",
    "# Evaluate the model\n",
    "olm_score = olm.score(X, y)\n",
    "\n",
    "# Select a nice plotting style\n",
    "matplotlib.style.use(\"ggplot\")\n",
    "\n",
    "# Plot both data sets\n",
    "plt.plot(sap_linear.index, y)\n",
    "plt.plot(sap_linear.index, yp)\n",
    "\n",
    "# Add decorations\n",
    "plt.title(\"OLS Regression\")\n",
    "plt.xlabel(\"Year\")\n",
    "plt.ylabel(\"S&P 500 (closing)\")\n",
    "plt.legend([\"Actual\", \"Predicted\"], loc=\"lower right\")\n",
    "plt.annotate(\"Score=%.3f\" % olm_score, \n",
    "             xy=(pd.to_datetime('2010-06-01'), 1900))\n",
    "\n",
    "plt.savefig(\"../images/sap-linregr.pdf\")\n"
   ]
  },
  {
   "cell_type": "markdown",
   "metadata": {},
   "source": [
    "> ```1```. http://finance.yahoo.com/q/hp?s=^GSPC+Historical+Prices"
   ]
  },
  {
   "cell_type": "markdown",
   "metadata": {},
   "source": [
    "### Ridge Regression"
   ]
  },
  {
   "cell_type": "markdown",
   "metadata": {},
   "source": [
    "### Logistic (Logit) Regression"
   ]
  },
  {
   "cell_type": "code",
   "execution_count": null,
   "metadata": {
    "collapsed": true
   },
   "outputs": [],
   "source": [
    "# %load code/logit-example.py\n",
    "import pandas as pd\n",
    "from sklearn.metrics import confusion_matrix\n",
    "import sklearn.linear_model as lm\n",
    "\n",
    "# Initialize the regression tool\n",
    "clf = lm.LogisticRegression(C=10.0)\n",
    "\n",
    "# Read the data sheet, quantize letter grades\n",
    "grades = pd.read_table(\"grades.csv\")\n",
    "labels = ('F', 'D', 'C', 'B', 'A')\n",
    "grades[\"Letter\"] = pd.cut(grades[\"Final score\"], [0, 60, 70, 80, 90, 100],\n",
    "                          labels=labels)\n",
    "X = grades[[\"Quiz 1\", \"Quiz 2\"]]\n",
    "\n",
    "# Fit the model, display the score and the confusion matrix\n",
    "clf.fit(X, grades[\"Letter\"])\n",
    "print(\"Score=%.3f\" % clf.score(X, grades[\"Letter\"]))\n",
    "cm = confusion_matrix(clf.predict(X), grades[\"Letter\"])\n",
    "print(pd.DataFrame(cm, columns=labels, index=labels))\n"
   ]
  },
  {
   "cell_type": "markdown",
   "metadata": {},
   "source": [
    "## Unit50_Grouping Data with k-Means Clustering"
   ]
  },
  {
   "cell_type": "code",
   "execution_count": null,
   "metadata": {
    "collapsed": true
   },
   "outputs": [],
   "source": [
    "# %load code/clusters.py\n",
    "import matplotlib, matplotlib.pyplot as plt\n",
    "import pickle, pandas as pd\n",
    "import sklearn.cluster, sklearn.preprocessing\n",
    "\n",
    "# The NIAAA frame has been pickled before\n",
    "alco2009 = pickle.load(open(\"alco2009.pickle\", \"rb\"))\n",
    "# States\" abbreviations\n",
    "states = pd.read_csv(\"states.csv\", \n",
    "                     names=(\"State\", \"Standard\", \"Postal\", \"Capital\"))\n",
    "columns = [\"Wine\", \"Beer\"]\n",
    "# Initialize the clustering object, fit the model\n",
    "kmeans = sklearn.cluster.KMeans(n_clusters=9)\n",
    "kmeans.fit(alco2009[columns])\n",
    "alco2009[\"Clusters\"] = kmeans.labels_\n",
    "centers = pd.DataFrame(kmeans.cluster_centers_, columns=columns)\n",
    "\n",
    "# Select a good-looking style\n",
    "matplotlib.style.use(\"ggplot\")\n",
    "\n",
    "# Plot the states and cluster centroids\n",
    "ax = alco2009.plot.scatter(columns[0], columns[1], c=\"Clusters\", \n",
    "                           cmap=plt.cm.Accent, s=100)\n",
    "centers.plot.scatter(columns[0], columns[1], color=\"red\", marker=\"+\", \n",
    "                     s=200, ax=ax)\n",
    "\n",
    "# Add state abbreviations as annotations\n",
    "def add_abbr(state):\n",
    "    _ = ax.annotate(state[\"Postal\"], state[columns], xytext=(1, 5), \n",
    "                    textcoords=\"offset points\", size=8,\n",
    "                    color=\"darkslategrey\")\n",
    "\n",
    "alco2009withStates = pd.concat([alco2009, states.set_index(\"State\")], \n",
    "                               axis=1)\n",
    "alco2009withStates.apply(add_abbr, axis=1)\n",
    "\n",
    "# Add the title, save the plot\n",
    "plt.title(\"US States Clustered by Alcohol Consumption\")\n",
    "plt.savefig(\"../images/clusters.pdf\")\n"
   ]
  },
  {
   "cell_type": "markdown",
   "metadata": {},
   "source": [
    "## Unit51_Surviving In Random Decision Forests"
   ]
  },
  {
   "cell_type": "code",
   "execution_count": null,
   "metadata": {
    "collapsed": true
   },
   "outputs": [],
   "source": [
    "# %load code/rfr.py\n",
    "from sklearn.ensemble import RandomForestRegressor\n",
    "import pandas as pd, numpy.random as rnd\n",
    "import matplotlib, matplotlib.pyplot as plt\n",
    "\n",
    "# Read the data, prepare two random complementary data sets\n",
    "hed = pd.read_csv('Hedonic.csv')\n",
    "selection = rnd.binomial(1, 0.7, size=len(hed)).astype(bool)\n",
    "training = hed[selection]\n",
    "testing = hed[-selection]\n",
    "\n",
    "# Create a regressor and predictor sets\n",
    "rfr = RandomForestRegressor()\n",
    "predictors_tra = training.ix[:, \"crim\" : \"lstat\"]\n",
    "predictors_tst = testing.ix[:, \"crim\" : \"lstat\"]\n",
    "\n",
    "# Fit the model\n",
    "feature = \"mv\"\n",
    "rfr.fit(predictors_tra, training[feature]) # (1)\n",
    "\n",
    "# Select a good-locking style\n",
    "matplotlib.style.use(\"ggplot\")\n",
    "\n",
    "# Plot the prediction results\n",
    "plt.scatter(training[feature], rfr.predict(predictors_tra), c=\"green\",\n",
    "            s=50) # (2)\n",
    "plt.scatter(testing[feature], rfr.predict(predictors_tst), c=\"red\") # (3)\n",
    "plt.legend([\"Training data\", \"Testing data\"], loc=\"upper left\")\n",
    "plt.plot(training[feature], training[feature], c=\"blue\")\n",
    "plt.title(\"Hedonic Prices of Census Tracts in the Boston Area\")\n",
    "plt.xlabel(\"Actual value\")\n",
    "plt.ylabel(\"Predicted value\")\n",
    "plt.savefig(\"../images/rfr.pdf\")\n"
   ]
  },
  {
   "cell_type": "markdown",
   "metadata": {},
   "source": [
    "> ```2```. http://rcom.univie.ac.at/mirrors/lib.stat.cmu.edu/datasets/boston (Broken, try: http://lib.stat.cmu.edu/datasets/)"
   ]
  },
  {
   "cell_type": "markdown",
   "metadata": {},
   "source": [
    "## Your Turn"
   ]
  },
  {
   "cell_type": "markdown",
   "metadata": {},
   "source": [
    "> \n",
    "```3```. http://en.wikipedia.org/wiki/List_of_social_networking_websites  \n",
    "```4```. http://finance.yahoo.com/q/hp?s=^GSPC+Historical+Prices  "
   ]
  },
  {
   "cell_type": "code",
   "execution_count": null,
   "metadata": {
    "collapsed": true
   },
   "outputs": [],
   "source": []
  }
 ],
 "metadata": {
  "kernelspec": {
   "display_name": "Python 3",
   "language": "python",
   "name": "python3"
  },
  "language_info": {
   "codemirror_mode": {
    "name": "ipython",
    "version": 3
   },
   "file_extension": ".py",
   "mimetype": "text/x-python",
   "name": "python",
   "nbconvert_exporter": "python",
   "pygments_lexer": "ipython3",
   "version": "3.6.0"
  }
 },
 "nbformat": 4,
 "nbformat_minor": 1
}
