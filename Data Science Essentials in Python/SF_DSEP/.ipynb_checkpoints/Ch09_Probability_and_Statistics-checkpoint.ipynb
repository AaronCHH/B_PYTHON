{
 "cells": [
  {
   "cell_type": "markdown",
   "metadata": {},
   "source": [
    "# Ch9. Probability and Statistics"
   ]
  },
  {
   "cell_type": "markdown",
   "metadata": {},
   "source": [
    "<div id=\"toc\"></div>"
   ]
  },
  {
   "cell_type": "markdown",
   "metadata": {},
   "source": [
    "## Unit45_Reviewing Probability Distributions"
   ]
  },
  {
   "cell_type": "markdown",
   "metadata": {},
   "source": [
    "### Uniform Distribution"
   ]
  },
  {
   "cell_type": "markdown",
   "metadata": {},
   "source": [
    "### Normal Distribution"
   ]
  },
  {
   "cell_type": "markdown",
   "metadata": {},
   "source": [
    "### Binomial Distribution"
   ]
  },
  {
   "cell_type": "markdown",
   "metadata": {},
   "source": [
    "## Unit46_Recollecting Statistical Measures"
   ]
  },
  {
   "cell_type": "markdown",
   "metadata": {},
   "source": [
    "* Where is the data?\n",
    "\n",
    "* How broad is the data?\n",
    "\n",
    "* How skewed is the data?\n",
    "\n",
    "* Are two variables (cor)related?"
   ]
  },
  {
   "cell_type": "markdown",
   "metadata": {},
   "source": [
    "## Unit47_Doing Stats the Python Way"
   ]
  },
  {
   "cell_type": "markdown",
   "metadata": {},
   "source": [
    "### Generating Random Numbers"
   ]
  },
  {
   "cell_type": "code",
   "execution_count": null,
   "metadata": {
    "collapsed": true
   },
   "outputs": [],
   "source": [
    "rnd.uniform(low=0.0, high=1.0, size=None)\n",
    "rnd.rand(shape) # Same as uniform(0.0, 1.0, None)\n",
    "rnd.randint(low, high=None, size=None)\n",
    "rnd.normal(loc=0.0, scale=1.0, size=None)\n",
    "rnd.randn(shape) # Same as normal(0.0, 1.0, shape)\n",
    "rnd.binomial(n, p, size=None)"
   ]
  },
  {
   "cell_type": "code",
   "execution_count": null,
   "metadata": {
    "collapsed": true
   },
   "outputs": [],
   "source": [
    "selection = rnd.binomial(1, p, size=len(data)).astype(bool)\n",
    "training = df[selection]\n",
    "testing = df[-selection]"
   ]
  },
  {
   "cell_type": "markdown",
   "metadata": {},
   "source": [
    "### Calculating Statistical Measures"
   ]
  },
  {
   "cell_type": "code",
   "execution_count": null,
   "metadata": {
    "collapsed": true
   },
   "outputs": [],
   "source": [
    "beer_seriesNY = alco.ix[ 'New York' ][ 'Beer' ]\n",
    "beer_seriesCA = alco.ix[ 'California' ][ 'Beer' ]\n",
    "beer_seriesNY.corr(beer_seriesCA)"
   ]
  },
  {
   "cell_type": "code",
   "execution_count": null,
   "metadata": {
    "collapsed": true
   },
   "outputs": [],
   "source": [
    "beer_seriesCA.cov(beer_seriesNY)"
   ]
  },
  {
   "cell_type": "code",
   "execution_count": null,
   "metadata": {
    "collapsed": true
   },
   "outputs": [],
   "source": [
    "[x.skew() for x in (beer_seriesCA, beer_seriesNY)]"
   ]
  },
  {
   "cell_type": "code",
   "execution_count": null,
   "metadata": {
    "collapsed": true
   },
   "outputs": [],
   "source": [
    "We can apply the same functions to frames, too:\n",
    "frameNY = alco.ix[ 'New York' ]\n",
    "frameNY.skew()"
   ]
  },
  {
   "cell_type": "code",
   "execution_count": null,
   "metadata": {
    "collapsed": true
   },
   "outputs": [],
   "source": [
    "frameNY.corr() # all pairwise correlations"
   ]
  },
  {
   "cell_type": "code",
   "execution_count": null,
   "metadata": {
    "collapsed": true
   },
   "outputs": [],
   "source": [
    "frameNY.cov() # all pairwise covariances"
   ]
  },
  {
   "cell_type": "code",
   "execution_count": null,
   "metadata": {
    "collapsed": true
   },
   "outputs": [],
   "source": [
    "# Remove the last two lines: they contain future estimates\n",
    "pop_seriesNY = pop.ix[ \"New York\" ][:-2]\n",
    "# Convert the index from date to integer year\n",
    "pop_seriesNY.index = pop_seriesNY.index.str.split().str[-1].astype(int)\n",
    "frameNY.ix[2000:2009].corrwith(pop_seriesNY)"
   ]
  },
  {
   "cell_type": "code",
   "execution_count": null,
   "metadata": {
    "collapsed": true
   },
   "outputs": [],
   "source": [
    "from scipy.stats import pearsonr\n",
    "\n",
    "# Manually align the indexes\n",
    "pop_sorted = pop_seriesNY.sort_index()\n",
    "alco_10 = alco.ix[ 'New York' ][-10:]\n",
    "\n",
    "# List comprehension to calculate all correlations and p-values\n",
    "corrs = [(bev,) + pearsonr(alco_10[bev], pop_sorted) for bev in alco_10.columns]\n",
    "\n",
    "# Convert the list to a frame\n",
    "pd.DataFrame(corrs, columns=( \"bev\" , \"r\" , \"p-value\" )).set_index( \"bev\" )"
   ]
  },
  {
   "cell_type": "code",
   "execution_count": null,
   "metadata": {
    "collapsed": true
   },
   "outputs": [],
   "source": [
    "alco2009.corr()"
   ]
  },
  {
   "cell_type": "code",
   "execution_count": null,
   "metadata": {
    "collapsed": true
   },
   "outputs": [],
   "source": [
    "pearsonr(alco2009[ \"Wine\" ], alco2009[ \"Beer\" ])"
   ]
  },
  {
   "cell_type": "markdown",
   "metadata": {},
   "source": [
    "> ```1```. http://www.census.gov/popest/data/historical/2000s/vintage_2009/state.html"
   ]
  },
  {
   "cell_type": "markdown",
   "metadata": {},
   "source": [
    "## Your Turn"
   ]
  },
  {
   "cell_type": "markdown",
   "metadata": {},
   "source": [
    "> \n",
    "2. http://finance.yahoo.com/q/hp?s=^GSPC+Historical+Prices  \n",
    "3. http://www.ars.usda.gov/Services/docs.htm?docid=25700 (document SR28)  "
   ]
  },
  {
   "cell_type": "code",
   "execution_count": null,
   "metadata": {
    "collapsed": true
   },
   "outputs": [],
   "source": []
  }
 ],
 "metadata": {
  "kernelspec": {
   "display_name": "Python 3",
   "language": "python",
   "name": "python3"
  },
  "language_info": {
   "codemirror_mode": {
    "name": "ipython",
    "version": 3
   },
   "file_extension": ".py",
   "mimetype": "text/x-python",
   "name": "python",
   "nbconvert_exporter": "python",
   "pygments_lexer": "ipython3",
   "version": "3.6.0"
  }
 },
 "nbformat": 4,
 "nbformat_minor": 1
}
