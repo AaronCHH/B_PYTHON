{
 "cells": [
  {
   "cell_type": "markdown",
   "metadata": {},
   "source": [
    "# Ch7. Working with Network Data"
   ]
  },
  {
   "cell_type": "markdown",
   "metadata": {},
   "source": [
    "<div id=\"toc\"></div>"
   ]
  },
  {
   "cell_type": "markdown",
   "metadata": {},
   "source": [
    "## Unit38_Dissecting Graphs"
   ]
  },
  {
   "cell_type": "markdown",
   "metadata": {},
   "source": [
    "### Graph Elements, Types, and Density"
   ]
  },
  {
   "cell_type": "markdown",
   "metadata": {},
   "source": [
    "### Graph Structure"
   ]
  },
  {
   "cell_type": "markdown",
   "metadata": {},
   "source": [
    "### Centralities"
   ]
  },
  {
   "cell_type": "markdown",
   "metadata": {},
   "source": [
    "* Degree  \n",
    "* Closeness  \n",
    "* Betweenness  \n",
    "* Eigenvector  "
   ]
  },
  {
   "cell_type": "markdown",
   "metadata": {},
   "source": [
    "## Unit39_Network Analysis Sequence"
   ]
  },
  {
   "cell_type": "code",
   "execution_count": null,
   "metadata": {
    "collapsed": true
   },
   "outputs": [],
   "source": []
  },
  {
   "cell_type": "markdown",
   "metadata": {},
   "source": [
    "## Unit40_Harnessing Networkx"
   ]
  },
  {
   "cell_type": "markdown",
   "metadata": {},
   "source": [
    "### Building and Fixing a Network"
   ]
  },
  {
   "cell_type": "code",
   "execution_count": null,
   "metadata": {
    "collapsed": true
   },
   "outputs": [],
   "source": [
    "import networkx as nx\n",
    "borders = nx.Graph()\n",
    "not_borders1 = nx.DiGraph() # Just for our reference\n",
    "not_borders2 = nx.MultiGraph() # Just for our reference"
   ]
  },
  {
   "cell_type": "markdown",
   "metadata": {},
   "source": [
    "You can modify an existing network graph by adding or removing individual\n",
    "nodes or edges, or groups of nodes or edges. When you remove a node, all\n",
    "incident edges are removed, too. When you add an edge, its end nodes are\n",
    "added, too, unless they already existed in the graph. You can label nodes\n",
    "with either numbers or strings:"
   ]
  },
  {
   "cell_type": "code",
   "execution_count": null,
   "metadata": {
    "collapsed": true
   },
   "outputs": [],
   "source": [
    "borders.add_node( \"Zimbabwe\" )\n",
    "borders.add_nodes_from([ \"Lugandon\" , \"Zambia\" , \"Portugal\" , \"Kuwait\" ,\n",
    "                        \"Colombia\" ])\n",
    "borders.remove_node( \"Lugandon\" )\n",
    "borders.add_edge( \"Zambia\" , \"Zimbabwe\" )\n",
    "borders.add_edges_from([( \"Uganda\" , \"Rwanda\" ), ( \"Uganda\" , \"Kenya\" ),\n",
    "                        ( \"Uganda\" , \"South Sudan\" ), ( \"Uganda\" , \"Tanzania\" ),\n",
    "                        ( \"Uganda\" , \"Democratic Republic of the Congo\" )])"
   ]
  },
  {
   "cell_type": "markdown",
   "metadata": {},
   "source": [
    "* http://en.wikipedia.org/wiki/List_of_countries_and_territories_by_land_borders"
   ]
  },
  {
   "cell_type": "markdown",
   "metadata": {},
   "source": [
    "### Exploring and Analyzing a Network"
   ]
  },
  {
   "cell_type": "code",
   "execution_count": null,
   "metadata": {
    "collapsed": true
   },
   "outputs": [],
   "source": [
    "len(borders)"
   ]
  },
  {
   "cell_type": "code",
   "execution_count": null,
   "metadata": {
    "collapsed": true
   },
   "outputs": [],
   "source": [
    "borders.nodes()"
   ]
  },
  {
   "cell_type": "code",
   "execution_count": null,
   "metadata": {
    "collapsed": true
   },
   "outputs": [],
   "source": [
    "borders.node"
   ]
  },
  {
   "cell_type": "code",
   "execution_count": null,
   "metadata": {
    "collapsed": true
   },
   "outputs": [],
   "source": [
    "borders.edge"
   ]
  },
  {
   "cell_type": "code",
   "execution_count": null,
   "metadata": {
    "collapsed": true
   },
   "outputs": [],
   "source": [
    "borders.edges()[:5]"
   ]
  },
  {
   "cell_type": "code",
   "execution_count": null,
   "metadata": {
    "collapsed": true
   },
   "outputs": [],
   "source": [
    "borders.neighbors( \"Germany\" )"
   ]
  },
  {
   "cell_type": "code",
   "execution_count": null,
   "metadata": {
    "collapsed": true
   },
   "outputs": [],
   "source": [
    "borders.degree( \"Poland\" )"
   ]
  },
  {
   "cell_type": "code",
   "execution_count": null,
   "metadata": {
    "collapsed": true
   },
   "outputs": [],
   "source": [
    "borders.degree()"
   ]
  },
  {
   "cell_type": "code",
   "execution_count": null,
   "metadata": {
    "collapsed": true
   },
   "outputs": [],
   "source": [
    "degrees = pandas.DataFrame(list(borders.degree().items()),\n",
    "                           columns=( \"country\" , \"degree\" )).set_index( \"country\" )\n",
    "degrees.sort( \"degree\" ).tail(4)"
   ]
  },
  {
   "cell_type": "code",
   "execution_count": null,
   "metadata": {
    "collapsed": true
   },
   "outputs": [],
   "source": [
    "nx.clustering(not_borders1) # Doesn't work for a directed network!\n",
    "nx.clustering(nx.Graph(not_borders1)) # Would work!\n",
    "nx.clustering(borders)"
   ]
  },
  {
   "cell_type": "code",
   "execution_count": null,
   "metadata": {
    "collapsed": true
   },
   "outputs": [],
   "source": [
    "nx.clustering(borders, \"Lithuania\" )"
   ]
  },
  {
   "cell_type": "code",
   "execution_count": null,
   "metadata": {
    "collapsed": true
   },
   "outputs": [],
   "source": [
    "list(nx.weakly_connected_components(borders)) # Doesn't work!\n",
    "list(nx.connected_components(borders)) # Works!"
   ]
  },
  {
   "cell_type": "code",
   "execution_count": null,
   "metadata": {
    "collapsed": true
   },
   "outputs": [],
   "source": [
    "[len(x) for x in nx.connected_component_subgraphs(borders)]"
   ]
  },
  {
   "cell_type": "code",
   "execution_count": null,
   "metadata": {
    "collapsed": true
   },
   "outputs": [],
   "source": [
    "nx.degree_centrality(borders) # People's Republic of China\n",
    "nx.in_degree_centrality(borders)\n",
    "nx.out_degree_centrality(borders)\n",
    "nx.closeness_centrality(borders) # France\n",
    "nx.betweenness_centrality(borders) # France\n",
    "nx.eigenvector_centrality(borders) # Russia"
   ]
  },
  {
   "cell_type": "markdown",
   "metadata": {},
   "source": [
    "* http://networkit.iti.kit.edu\n",
    "\n",
    "* http://gephi.org"
   ]
  },
  {
   "cell_type": "markdown",
   "metadata": {},
   "source": [
    "### Managing Attributes"
   ]
  },
  {
   "cell_type": "code",
   "execution_count": null,
   "metadata": {
    "collapsed": true
   },
   "outputs": [],
   "source": [
    "# Edge attribute\n",
    "borders[ \"Germany\" ][ \"Poland\" ][ \"weight\" ] = 456.0\n",
    "# Node attribute\n",
    "borders.node[ \"Germany\" ][ \"area\" ] = 357168\n",
    "borders.add_node( \"Penguinia\" , area=14000000)"
   ]
  },
  {
   "cell_type": "code",
   "execution_count": null,
   "metadata": {
    "collapsed": true
   },
   "outputs": [],
   "source": [
    "borders.nodes(data=True)"
   ]
  },
  {
   "cell_type": "code",
   "execution_count": null,
   "metadata": {
    "collapsed": true
   },
   "outputs": [],
   "source": [
    "borders.edges(data=True)"
   ]
  },
  {
   "cell_type": "markdown",
   "metadata": {},
   "source": [
    "### Cliques and Community Structure"
   ]
  },
  {
   "cell_type": "code",
   "execution_count": null,
   "metadata": {
    "collapsed": true
   },
   "outputs": [],
   "source": [
    "nx.find_cliques(not_borders1) # Not implemented for digraphs!\n",
    "nx.find_cliques(nx.Graph(not_borders1)) # Would work!\n",
    "list(nx.find_cliques(borders))"
   ]
  },
  {
   "cell_type": "code",
   "execution_count": null,
   "metadata": {
    "collapsed": true
   },
   "outputs": [],
   "source": [
    "nx.isolates(borders)"
   ]
  },
  {
   "cell_type": "code",
   "execution_count": null,
   "metadata": {
    "collapsed": true
   },
   "outputs": [],
   "source": [
    "import community\n",
    "partition = community.best_partition(borders)"
   ]
  },
  {
   "cell_type": "code",
   "execution_count": null,
   "metadata": {
    "collapsed": true
   },
   "outputs": [],
   "source": [
    "community.modularity(partition, borders)"
   ]
  },
  {
   "cell_type": "markdown",
   "metadata": {},
   "source": [
    "### Input and Output"
   ]
  },
  {
   "cell_type": "code",
   "execution_count": null,
   "metadata": {
    "collapsed": true
   },
   "outputs": [],
   "source": [
    "with open( \"borders.graphml\" , \"wb\" ) as netfile:\n",
    "    nx.write_pajek(borders, netfile)\n",
    "with open( \"file.net\" , \"rb\" ) as netfile:\n",
    "    borders = nx.read_pajek(netfile)"
   ]
  },
  {
   "cell_type": "markdown",
   "metadata": {},
   "source": [
    "* http://gephi.org/users/supported-graph-formats/"
   ]
  },
  {
   "cell_type": "markdown",
   "metadata": {
    "collapsed": true
   },
   "source": [
    "## Your Turn"
   ]
  },
  {
   "cell_type": "markdown",
   "metadata": {},
   "source": [
    "* http://www.slideshare.net/DmitryZinoviev/desdemona-52994413  \n",
    "* http://snap.stanford.edu/data/soc-Epinions1.html  \n",
    "* http://shakespeare.mit.edu  "
   ]
  },
  {
   "cell_type": "code",
   "execution_count": null,
   "metadata": {
    "collapsed": true
   },
   "outputs": [],
   "source": []
  }
 ],
 "metadata": {
  "kernelspec": {
   "display_name": "Python 3",
   "language": "python",
   "name": "python3"
  },
  "language_info": {
   "codemirror_mode": {
    "name": "ipython",
    "version": 3
   },
   "file_extension": ".py",
   "mimetype": "text/x-python",
   "name": "python",
   "nbconvert_exporter": "python",
   "pygments_lexer": "ipython3",
   "version": "3.6.0"
  }
 },
 "nbformat": 4,
 "nbformat_minor": 1
}
