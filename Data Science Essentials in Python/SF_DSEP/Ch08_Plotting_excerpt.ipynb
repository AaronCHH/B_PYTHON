{
 "cells": [
  {
   "cell_type": "markdown",
   "metadata": {},
   "source": [
    "# Ch8. Plotting excerpt"
   ]
  },
  {
   "cell_type": "markdown",
   "metadata": {},
   "source": [
    "<div id=\"toc\"></div>"
   ]
  },
  {
   "cell_type": "markdown",
   "metadata": {},
   "source": [
    "## Unit41_Basic Plotting with PyPlot"
   ]
  },
  {
   "cell_type": "markdown",
   "metadata": {},
   "source": [
    "### Basic Plotting with PyPlot"
   ]
  },
  {
   "cell_type": "code",
   "execution_count": null,
   "metadata": {
    "collapsed": true
   },
   "outputs": [],
   "source": [
    "# %load code/pyplot-images.py\n",
    "import matplotlib, matplotlib.pyplot as plt\n",
    "import pickle, pandas as pd\n",
    "\n",
    "# The NIAAA frame has been pickled before\n",
    "alco = pickle.load(open(\"alco.pickle\", \"rb\"))\n",
    "del alco[\"Total\"]\n",
    "columns, years = alco.unstack().columns.levels\n",
    "\n",
    "# The state abbreviations come straight from the file\n",
    "states = pd.read_csv(\n",
    "    \"states.csv\", \n",
    "    names=(\"State\", \"Standard\", \"Postal\", \"Capital\"))\n",
    "states.set_index(\"State\", inplace=True)\n",
    "\n",
    "# Alcohol consumption will be sorted by year 2009\n",
    "frames = [pd.merge(alco[column].unstack(), states,\n",
    "                   left_index=True, right_index=True).sort_values(2009) \n",
    "          for column in columns]\n",
    "\n",
    "# How many years are covered?\n",
    "span = max(years) - min(years) + 1\n",
    "\n",
    "# Select a good-looking style\n",
    "matplotlib.style.use(\"ggplot\")\n",
    "\n",
    "STEP = 5\n",
    "# Plot each frame in a subplot\n",
    "for pos, (draw, style, column, frame) in enumerate(zip(\n",
    "        (plt.contourf, plt.contour, plt.imshow), # (1)\n",
    "        (plt.cm.autumn, plt.cm.cool, plt.cm.spring), \n",
    "        columns, frames)):\n",
    "    \n",
    "    # Select the subplot with 2 rows and 2 columns\n",
    "    plt.subplot(2, 2, pos + 1) # (2)\n",
    "\n",
    "    # Plot the frame\n",
    "    draw(frame[frame.columns[:span]], cmap=style, aspect=\"auto\") # (3)\n",
    "\n",
    "    # Add embellishments\n",
    "    plt.colorbar() # (4)\n",
    "    plt.title(column)\n",
    "    plt.xlabel(\"Year\")\n",
    "    plt.xticks(range(0, span, STEP), frame.columns[:span:STEP])\n",
    "    plt.yticks(range(0, frame.shape[0], STEP), frame.Postal[::STEP])\n",
    "    plt.xticks(rotation=-17)\n",
    "\n",
    "plt.tight_layout()\n",
    "plt.savefig(\"../images/pyplot-all.pdf\")\n",
    "#plt.show()\n"
   ]
  },
  {
   "cell_type": "markdown",
   "metadata": {},
   "source": [
    "## Unit42_Getting to Know Other Plot Types"
   ]
  },
  {
   "cell_type": "code",
   "execution_count": null,
   "metadata": {
    "collapsed": true
   },
   "outputs": [],
   "source": []
  },
  {
   "cell_type": "markdown",
   "metadata": {},
   "source": [
    "> ```1```. http://matplotlib.org/gallery.html"
   ]
  },
  {
   "cell_type": "markdown",
   "metadata": {},
   "source": [
    "## Unit43_Mastering Embellishments"
   ]
  },
  {
   "cell_type": "code",
   "execution_count": null,
   "metadata": {
    "collapsed": true
   },
   "outputs": [],
   "source": [
    "# %load code/pyplot-legend.py\n",
    "import matplotlib, matplotlib.pyplot as plt\n",
    "import pickle, pandas as pd\n",
    "\n",
    "# The NIAAA frame has been pickled before\n",
    "alco = pickle.load(open(\"alco.pickle\", \"rb\"))\n",
    "\n",
    "# Select the right data\n",
    "BEVERAGE = \"Beer\"\n",
    "years = alco.index.levels[1]\n",
    "states = (\"New Hampshire\", \"Colorado\", \"Utah\")\n",
    "\n",
    "# Select a good-looking style\n",
    "plt.xkcd()\n",
    "matplotlib.style.use(\"ggplot\")\n",
    "\n",
    "# Plot the charts\n",
    "for state in states:\n",
    "    ydata = alco.ix[state][BEVERAGE]\n",
    "    plt.plot(years, ydata, \"-o\")\n",
    "    # Add annotations with arrows\n",
    "    plt.annotate(s=\"Peak\", xy=(ydata.argmax(), ydata.max()),\n",
    "                 xytext=(ydata.argmax() + 0.5, ydata.max() + 0.1),\n",
    "                 arrowprops={\"facecolor\": \"black\", \"shrink\": 0.2})\n",
    "\n",
    "# Add labels and legends\n",
    "plt.ylabel(BEVERAGE + \" consumption\")\n",
    "plt.title(\"And now in xkcd...\")\n",
    "plt.legend(states)\n",
    "\n",
    "plt.savefig(\"../images/pyplot-legend-xkcd.pdf\")\n"
   ]
  },
  {
   "cell_type": "code",
   "execution_count": null,
   "metadata": {
    "collapsed": true
   },
   "outputs": [],
   "source": []
  },
  {
   "cell_type": "markdown",
   "metadata": {},
   "source": [
    "> ```2```. http://xkcd.com"
   ]
  },
  {
   "cell_type": "markdown",
   "metadata": {},
   "source": [
    "## Unit44_Plotting with Pandas"
   ]
  },
  {
   "cell_type": "code",
   "execution_count": null,
   "metadata": {
    "collapsed": true
   },
   "outputs": [],
   "source": [
    "# %load code/scatter-plot.py\n",
    "import matplotlib, matplotlib.pyplot as plt\n",
    "import pickle, pandas as pd\n",
    "\n",
    "# The NIAAA frame has been pickled before\n",
    "alco = pickle.load(open(\"alco.pickle\", \"rb\"))\n",
    "\n",
    "# Select a good-locking style\n",
    "matplotlib.style.use(\"ggplot\")\n",
    "\n",
    "# Do the scatter plot\n",
    "STATE = \"New Hampshire\"\n",
    "statedata = alco.ix[STATE].reset_index()\n",
    "statedata.plot.scatter(\"Beer\", \"Wine\", c=\"Year\", s=100, cmap=plt.cm.autumn)\n",
    "\n",
    "plt.title(\"%s: From Beer to Wine in 32 Years\" % STATE)\n",
    "plt.savefig(\"../images/scatter-plot.pdf\")\n",
    "\n"
   ]
  },
  {
   "cell_type": "code",
   "execution_count": null,
   "metadata": {
    "collapsed": true
   },
   "outputs": [],
   "source": [
    "# %load code/scatter-matrix.py\n",
    "from pandas.tools.plotting import scatter_matrix\n",
    "import matplotlib, matplotlib.pyplot as plt\n",
    "import pickle, pandas as pd\n",
    "\n",
    "# The NIAAA frame has been pickled before\n",
    "alco = pickle.load(open(\"alco.pickle\", \"rb\"))\n",
    "\n",
    "# Select a good-locking style\n",
    "matplotlib.style.use(\"ggplot\")\n",
    "\n",
    "# Plot the scatter matrix\n",
    "STATE = \"New Hampshire\"\n",
    "statedata = alco.ix[STATE].reset_index()\n",
    "scatter_matrix(statedata[[\"Wine\", \"Beer\", \"Spirits\"]],\n",
    "               s=120, c=statedata[\"Year\"], cmap=plt.cm.autumn)\n",
    "\n",
    "plt.tight_layout()\n",
    "plt.savefig(\"../images/scatter-matrix.pdf\")\n",
    "\n"
   ]
  },
  {
   "cell_type": "markdown",
   "metadata": {},
   "source": [
    "## Your Turn"
   ]
  },
  {
   "cell_type": "markdown",
   "metadata": {},
   "source": [
    "> \n",
    "```3```. http://www.stateabbreviations.us  \n",
    "```4```. http://www.census.gov/popest/data/historical/2000s/vintage_2009/state.html"
   ]
  },
  {
   "cell_type": "code",
   "execution_count": null,
   "metadata": {
    "collapsed": true
   },
   "outputs": [],
   "source": []
  }
 ],
 "metadata": {
  "kernelspec": {
   "display_name": "Python 3",
   "language": "python",
   "name": "python3"
  },
  "language_info": {
   "codemirror_mode": {
    "name": "ipython",
    "version": 3
   },
   "file_extension": ".py",
   "mimetype": "text/x-python",
   "name": "python",
   "nbconvert_exporter": "python",
   "pygments_lexer": "ipython3",
   "version": "3.6.0"
  }
 },
 "nbformat": 4,
 "nbformat_minor": 1
}
