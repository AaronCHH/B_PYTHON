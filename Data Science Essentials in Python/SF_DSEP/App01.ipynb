{
 "cells": [
  {
   "cell_type": "markdown",
   "metadata": {},
   "source": [
    "# Further Reading"
   ]
  },
  {
   "cell_type": "markdown",
   "metadata": {},
   "source": [
    "## Books\n",
    "* An Introduction to Statistical Learning with Applications in R [JWHT13]\n",
    "* Practical Data Science with R [ZM14]. \n",
    "* The Elements of Data Analytic Style [Lee15]\n",
    "* Python for Data Analysis [McK12]\n",
    "* Natural Language Processing with Python [BKL09]\n",
    "* Mining the Social Web [Rus11]"
   ]
  },
  {
   "cell_type": "markdown",
   "metadata": {},
   "source": [
    "> ```1```. http://www.nltk.org/book  "
   ]
  },
  {
   "cell_type": "markdown",
   "metadata": {},
   "source": [
    "* MySQL Crash Course [For05]\n",
    "* Network Analysis: Methodological Foundations [BE05]\n",
    "* Social Network Analysis [KY07]\n",
    "* Data Science from Scratch [Gru15]"
   ]
  }
 ],
 "metadata": {
  "kernelspec": {
   "display_name": "Python 3",
   "language": "python",
   "name": "python3"
  },
  "language_info": {
   "codemirror_mode": {
    "name": "ipython",
    "version": 3
   },
   "file_extension": ".py",
   "mimetype": "text/x-python",
   "name": "python",
   "nbconvert_exporter": "python",
   "pygments_lexer": "ipython3",
   "version": "3.6.0"
  }
 },
 "nbformat": 4,
 "nbformat_minor": 2
}
