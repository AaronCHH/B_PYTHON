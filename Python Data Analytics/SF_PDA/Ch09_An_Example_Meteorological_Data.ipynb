{
 "cells": [
  {
   "cell_type": "markdown",
   "metadata": {},
   "source": [
    "# Chapter 9: An Example—Meteorological Data"
   ]
  },
  {
   "cell_type": "markdown",
   "metadata": {},
   "source": [
    "<div id=\"toc\"></div>"
   ]
  },
  {
   "cell_type": "markdown",
   "metadata": {},
   "source": [
    "## 9.1 A Hypothesis to Be Tested: The Influence of the Proximity of the Sea"
   ]
  },
  {
   "cell_type": "markdown",
   "metadata": {},
   "source": [
    "### The System in the Study: The Adriatic Sea and the Po Valley"
   ]
  },
  {
   "cell_type": "markdown",
   "metadata": {},
   "source": [
    "## 9.2 Data Source"
   ]
  },
  {
   "cell_type": "markdown",
   "metadata": {},
   "source": [
    "## 9.3 Data Analysis on IPython Notebook"
   ]
  },
  {
   "cell_type": "markdown",
   "metadata": {},
   "source": [
    "http://api.openweathermap.org/data/2.5/history/city?q=Atlanta,US"
   ]
  },
  {
   "cell_type": "markdown",
   "metadata": {},
   "source": [
    "http://history.openweathermap.org/data/2.5/history/city?q=London,UK"
   ]
  },
  {
   "cell_type": "code",
   "execution_count": 18,
   "metadata": {
    "collapsed": false,
    "scrolled": false
   },
   "outputs": [],
   "source": [
    "test = pd.read_json('http://samples.openweathermap.org/data/2.5/history/city?q=London,UK&appid=b1b15e88fa797225412429c1c50c122a1')"
   ]
  },
  {
   "cell_type": "code",
   "execution_count": 31,
   "metadata": {
    "collapsed": false,
    "scrolled": false
   },
   "outputs": [],
   "source": [
    "test1 = pd.read_json('http://samples.openweathermap.org/data/2.5/history/city?q=London,UK&appid=1917b771f43a3e44b8c3cb8adc0e90bc')"
   ]
  },
  {
   "cell_type": "code",
   "execution_count": 32,
   "metadata": {
    "collapsed": false
   },
   "outputs": [
    {
     "data": {
      "text/html": [
       "<div>\n",
       "<table border=\"1\" class=\"dataframe\">\n",
       "  <thead>\n",
       "    <tr style=\"text-align: right;\">\n",
       "      <th></th>\n",
       "      <th>calctime</th>\n",
       "      <th>city_id</th>\n",
       "      <th>cnt</th>\n",
       "      <th>cod</th>\n",
       "      <th>list</th>\n",
       "      <th>message</th>\n",
       "    </tr>\n",
       "  </thead>\n",
       "  <tbody>\n",
       "    <tr>\n",
       "      <th>0</th>\n",
       "      <td>0.0875</td>\n",
       "      <td>2643743</td>\n",
       "      <td>3</td>\n",
       "      <td>200</td>\n",
       "      <td>{'main': {'temp': 279.946, 'temp_min': 279.946...</td>\n",
       "      <td></td>\n",
       "    </tr>\n",
       "    <tr>\n",
       "      <th>1</th>\n",
       "      <td>0.0875</td>\n",
       "      <td>2643743</td>\n",
       "      <td>3</td>\n",
       "      <td>200</td>\n",
       "      <td>{'main': {'temp': 282.597, 'temp_min': 282.597...</td>\n",
       "      <td></td>\n",
       "    </tr>\n",
       "    <tr>\n",
       "      <th>2</th>\n",
       "      <td>0.0875</td>\n",
       "      <td>2643743</td>\n",
       "      <td>3</td>\n",
       "      <td>200</td>\n",
       "      <td>{'main': {'temp': 279.38, 'pressure': 1011, 'h...</td>\n",
       "      <td></td>\n",
       "    </tr>\n",
       "  </tbody>\n",
       "</table>\n",
       "</div>"
      ],
      "text/plain": [
       "   calctime  city_id  cnt  cod  \\\n",
       "0    0.0875  2643743    3  200   \n",
       "1    0.0875  2643743    3  200   \n",
       "2    0.0875  2643743    3  200   \n",
       "\n",
       "                                                list message  \n",
       "0  {'main': {'temp': 279.946, 'temp_min': 279.946...          \n",
       "1  {'main': {'temp': 282.597, 'temp_min': 282.597...          \n",
       "2  {'main': {'temp': 279.38, 'pressure': 1011, 'h...          "
      ]
     },
     "execution_count": 32,
     "metadata": {},
     "output_type": "execute_result"
    }
   ],
   "source": [
    "test1"
   ]
  },
  {
   "cell_type": "code",
   "execution_count": null,
   "metadata": {
    "collapsed": false,
    "scrolled": false
   },
   "outputs": [],
   "source": [
    "est1 = pd.read_json('http://samples.openweathermap.org/data/2.5/history/city?q=London,UK')"
   ]
  },
  {
   "cell_type": "code",
   "execution_count": 1,
   "metadata": {
    "collapsed": true
   },
   "outputs": [],
   "source": [
    "import numpy as np\n",
    "import pandas as pd\n",
    "import datetime"
   ]
  },
  {
   "cell_type": "code",
   "execution_count": null,
   "metadata": {
    "collapsed": false,
    "scrolled": false
   },
   "outputs": [],
   "source": [
    "ferrara = pd.read_json('http://api.openweathermap.org/data/2.5/history/city?q=Ferrara,IT')\n",
    "torino = pd.read_json('http://api.openweathermap.org/data/2.5/history/city?q=Torino,IT')\n",
    "mantova = pd.read_json('http://api.openweathermap.org/data/2.5/history/city?q=Mantova,IT')\n",
    "milano = pd.read_json('http://api.openweathermap.org/data/2.5/history/city?q=Milano,IT')\n",
    "ravenna = pd.read_json('http://api.openweathermap.org/data/2.5/history/city?q=Ravenna,IT')\n",
    "asti = pd.read_json('http://api.openweathermap.org/data/2.5/history/city?q=Asti,IT')\n",
    "bologna = pd.read_json('http://api.openweathermap.org/data/2.5/history/city?q=Bologna,IT')\n",
    "piacenza = pd.read_json('http://api.openweathermap.org/data/2.5/history/city?q=Piacenza,IT')\n",
    "cesena = pd.read_json('http://api.openweathermap.org/data/2.5/history/city?q=Cesena,IT')\n",
    "faenza = pd.read_json('http://api.openweathermap.org/data/2.5/history/city?q=Faenza,IT')"
   ]
  },
  {
   "cell_type": "code",
   "execution_count": null,
   "metadata": {
    "collapsed": true
   },
   "outputs": [],
   "source": []
  },
  {
   "cell_type": "code",
   "execution_count": null,
   "metadata": {
    "collapsed": false,
    "scrolled": false
   },
   "outputs": [],
   "source": [
    "ferrara = pd.read_json('http://openweathermap.org/data/2.5/history/city?q=Ferrara,IT&appid=1917b771f43a3e44b8c3cb8adc0e90bc')\n",
    "torino = pd.read_json('http://history.openweathermap.org/data/2.5/history/city?q=Torino,IT')\n",
    "mantova = pd.read_json('http://history.openweathermap.org/data/2.5/history/city?q=Mantova,IT')\n",
    "milano = pd.read_json('http://history.openweathermap.org/data/2.5/history/city?q=Milano,IT')\n",
    "ravenna = pd.read_json('http://history.openweathermap.org/data/2.5/history/city?q=Ravenna,IT')\n",
    "asti = pd.read_json('http://history.openweathermap.org/data/2.5/history/city?q=Asti,IT')\n",
    "bologna = pd.read_json('http://history.openweathermap.org/data/2.5/history/city?q=Bologna,IT')\n",
    "piacenza = pd.read_json('http://history.openweathermap.org/data/2.5/history/city?q=Piacenza,IT')\n",
    "cesena = pd.read_json('http://history.openweathermap.org/data/2.5/history/city?q=Cesena,IT')\n",
    "faenza = pd.read_json('http://history.openweathermap.org/data/2.5/history/city?q=Faenza,IT')"
   ]
  },
  {
   "cell_type": "markdown",
   "metadata": {},
   "source": [
    "## 9.4 The RoseWind"
   ]
  },
  {
   "cell_type": "markdown",
   "metadata": {},
   "source": [
    "### Calculating the Distribution of the Wind Speed Means"
   ]
  },
  {
   "cell_type": "markdown",
   "metadata": {},
   "source": [
    "## 9.5 Conclusions"
   ]
  },
  {
   "cell_type": "code",
   "execution_count": null,
   "metadata": {
    "collapsed": true
   },
   "outputs": [],
   "source": []
  }
 ],
 "metadata": {
  "kernelspec": {
   "display_name": "Python 3",
   "language": "python",
   "name": "python3"
  },
  "language_info": {
   "codemirror_mode": {
    "name": "ipython",
    "version": 3
   },
   "file_extension": ".py",
   "mimetype": "text/x-python",
   "name": "python",
   "nbconvert_exporter": "python",
   "pygments_lexer": "ipython3",
   "version": "3.6.0"
  }
 },
 "nbformat": 4,
 "nbformat_minor": 1
}
