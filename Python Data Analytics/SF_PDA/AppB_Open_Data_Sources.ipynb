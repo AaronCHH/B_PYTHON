{
 "cells": [
  {
   "cell_type": "markdown",
   "metadata": {},
   "source": [
    "# Appendix B: Open Data Sources"
   ]
  },
  {
   "cell_type": "markdown",
   "metadata": {},
   "source": [
    "<div id=\"toc\"></div>"
   ]
  },
  {
   "cell_type": "markdown",
   "metadata": {},
   "source": [
    "## B.1 Political and Government Data"
   ]
  },
  {
   "cell_type": "markdown",
   "metadata": {},
   "source": [
    "* Data.gov  \n",
    "http://data.gov  \n",
    "* Socrata  \n",
    "http://www.socrata.com/resources/  \n",
    "* US Census Bureau  \n",
    "http://www.census.gov/data.html  \n",
    "* UN3ta  \n",
    "https://data.un.org/  \n",
    "* European Union Open Data Portal  \n",
    "http://open-data.europa.eu/en/data/  \n",
    "* Data.gov.uk  \n",
    "http://data.gov.uk/  \n",
    "* The CIA World Factbook  \n",
    "https://www.cia.gov/library/publications/the-world-factbook/  \n",
    "* Healthdata.gov  \n",
    "https://www.healthdata.gov/  "
   ]
  },
  {
   "cell_type": "markdown",
   "metadata": {},
   "source": [
    "## B.2 Health Data"
   ]
  },
  {
   "cell_type": "markdown",
   "metadata": {},
   "source": [
    "* NHS Health and Social Care Information Centre  \n",
    "http://www.hscic.gov.uk/home  \n",
    "* Facebook Graph  \n",
    "https://developers.facebook.com/docs/graph-api  "
   ]
  },
  {
   "cell_type": "markdown",
   "metadata": {},
   "source": [
    "## B.3 Social Data"
   ]
  },
  {
   "cell_type": "markdown",
   "metadata": {},
   "source": [
    "* Topsy  \n",
    "http://topsy.com/  \n",
    "* Google Trends  \n",
    "http://www.google.com/trends/explore  \n",
    "* Likebutton  \n",
    "http://likebutton.com/  "
   ]
  },
  {
   "cell_type": "markdown",
   "metadata": {},
   "source": [
    "## B.4 Miscellaneous and Public Data Sets"
   ]
  },
  {
   "cell_type": "markdown",
   "metadata": {},
   "source": [
    "* Amazon Web Services public datasets  \n",
    "http://aws.amazon.com/datasets  \n",
    "* DBPedia  \n",
    "http://wiki.dbpedia.org  \n",
    "* Freebase  \n",
    "http://www.freebase.com/  \n",
    "* Gapminder  \n",
    "http://www.gapminder.org/data/  "
   ]
  },
  {
   "cell_type": "markdown",
   "metadata": {},
   "source": [
    "## B.5 Financial Data"
   ]
  },
  {
   "cell_type": "markdown",
   "metadata": {},
   "source": [
    "* Google Finance  \n",
    "https://www.google.com/finance  "
   ]
  },
  {
   "cell_type": "markdown",
   "metadata": {},
   "source": [
    "## B.6 Climatic Data"
   ]
  },
  {
   "cell_type": "markdown",
   "metadata": {},
   "source": [
    "* National Climatic Data Center  \n",
    "http://www.ncdc.noaa.gov/data-access/quick-links#loc-clim  \n",
    "* WeatherBase  \n",
    "http://www.weatherbase.com/  \n",
    "* Wunderground  \n",
    "http://www.wunderground.com/  "
   ]
  },
  {
   "cell_type": "markdown",
   "metadata": {},
   "source": [
    "## B.7 Sports Data"
   ]
  },
  {
   "cell_type": "markdown",
   "metadata": {},
   "source": [
    "* Pro-Football-Reference  \n",
    "http://www.pro-football-reference.com/  "
   ]
  },
  {
   "cell_type": "markdown",
   "metadata": {},
   "source": [
    "## B.8 Publications, Newspapers, and Books"
   ]
  },
  {
   "cell_type": "markdown",
   "metadata": {},
   "source": [
    "* New York Times  \n",
    "http://developer.nytimes.com/docs  \n",
    "* Google Books Ngrams  \n",
    "http://storage.googleapis.com/books/ngrams/books/datasetsv2.html  "
   ]
  },
  {
   "cell_type": "markdown",
   "metadata": {},
   "source": [
    "## B.9 Musical Data"
   ]
  },
  {
   "cell_type": "markdown",
   "metadata": {},
   "source": [
    "* Million Song Data Set  \n",
    "http://aws.amazon.com/datasets/6468931156960467  "
   ]
  },
  {
   "cell_type": "markdown",
   "metadata": {},
   "source": []
  }
 ],
 "metadata": {
  "kernelspec": {
   "display_name": "Python 3",
   "language": "python",
   "name": "python3"
  },
  "language_info": {
   "codemirror_mode": {
    "name": "ipython",
    "version": 3
   },
   "file_extension": ".py",
   "mimetype": "text/x-python",
   "name": "python",
   "nbconvert_exporter": "python",
   "pygments_lexer": "ipython3",
   "version": "3.6.0"
  }
 },
 "nbformat": 4,
 "nbformat_minor": 1
}
