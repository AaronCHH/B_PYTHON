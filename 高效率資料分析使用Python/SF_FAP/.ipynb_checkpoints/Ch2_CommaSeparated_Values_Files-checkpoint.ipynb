{
 "cells": [
  {
   "cell_type": "markdown",
   "metadata": {},
   "source": [
    "# Chapter2 Comma-Separated Values (CSV) Files"
   ]
  },
  {
   "cell_type": "markdown",
   "metadata": {},
   "source": [
    "<div id=\"toc\"></div>"
   ]
  },
  {
   "cell_type": "markdown",
   "metadata": {},
   "source": [
    "## 2.1 Base Python Versus pandas"
   ]
  },
  {
   "cell_type": "markdown",
   "metadata": {},
   "source": [
    "### 2.1.1 Reading and Writing a CSV File (String Manipulation)"
   ]
  },
  {
   "cell_type": "code",
   "execution_count": null,
   "metadata": {
    "collapsed": true
   },
   "outputs": [],
   "source": [
    "# %load csv/1csv_simple_parsing_and_write.py\n",
    "#!/usr/bin/env python3\n",
    "import sys\n",
    "\n",
    "input_file = sys.argv[1]\n",
    "output_file = sys.argv[2]\n",
    "\n",
    "with open(input_file, 'r', newline='') as filereader:\n",
    "\twith open(output_file, 'w', newline='') as filewriter:\n",
    "\t\theader = filereader.readline()\n",
    "\t\theader = header.strip()\n",
    "\t\theader_list = header.split(',')\n",
    "\t\tprint(header_list)\n",
    "\t\tfilewriter.write(','.join(map(str,header_list))+'\\n')\n",
    "\t\tfor row in filereader:\n",
    "\t\t\trow = row.strip()\n",
    "\t\t\trow_list = row.split(',')\n",
    "\t\t\tprint(row_list)\n",
    "\t\t\tfilewriter.write(','.join(map(str,row_list))+'\\n')"
   ]
  },
  {
   "cell_type": "code",
   "execution_count": null,
   "metadata": {
    "collapsed": true
   },
   "outputs": [],
   "source": [
    "# %load csv/pandas_parsing_and_write.py\n",
    "#!/usr/bin/env python3\n",
    "import sys\n",
    "import pandas as pd\n",
    "\n",
    "input_file = sys.argv[1]\n",
    "output_file = sys.argv[2]\n",
    "\n",
    "data_frame = pd.read_csv(input_file)\n",
    "print(data_frame)\n",
    "data_frame.to_csv(output_file, index=False)"
   ]
  },
  {
   "cell_type": "markdown",
   "metadata": {},
   "source": [
    "### 2.1.2 何時基本的字串解析會失敗"
   ]
  },
  {
   "cell_type": "markdown",
   "metadata": {},
   "source": [
    "### 2.1.3 Reading and Writing a CSV File (Standard csv Module)"
   ]
  },
  {
   "cell_type": "code",
   "execution_count": null,
   "metadata": {
    "collapsed": true
   },
   "outputs": [],
   "source": [
    "# %load csv/2csv_reader_parsing_and_write.py\n",
    "#!/usr/bin/env python3\n",
    "import csv\n",
    "import sys\n",
    "\n",
    "input_file = sys.argv[1]\n",
    "output_file = sys.argv[2]\n",
    "\n",
    "with open(input_file, 'r', newline='') as csv_in_file:\n",
    "\twith open(output_file, 'w', newline='') as csv_out_file:\n",
    "\t\tfilereader = csv.reader(csv_in_file, delimiter=',')\n",
    "\t\tfilewriter = csv.writer(csv_out_file, delimiter=',')\n",
    "\t\tfor row_list in filereader:\n",
    "\t\t\tfilewriter.writerow(row_list)"
   ]
  },
  {
   "cell_type": "markdown",
   "metadata": {},
   "source": [
    "## 2.2 Filter for Specific Rows"
   ]
  },
  {
   "cell_type": "markdown",
   "metadata": {},
   "source": [
    "### 2.2.1 Value in Row Meets a Condition"
   ]
  },
  {
   "cell_type": "code",
   "execution_count": null,
   "metadata": {
    "collapsed": true
   },
   "outputs": [],
   "source": [
    "# %load csv/3csv_reader_value_meets_condition.py\n",
    "#!/usr/bin/env python3\n",
    "import csv\n",
    "import sys\n",
    "\n",
    "input_file = sys.argv[1]\n",
    "output_file = sys.argv[2]\n",
    "\n",
    "with open(input_file, 'r', newline='') as csv_in_file:\n",
    "\twith open(output_file, 'w', newline='') as csv_out_file:\n",
    "\t\tfilereader = csv.reader(csv_in_file)\n",
    "\t\tfilewriter = csv.writer(csv_out_file)\n",
    "\t\theader = next(filereader)\n",
    "\t\tfilewriter.writerow(header)\n",
    "\t\tfor row_list in filereader:\n",
    "\t\t\tsupplier = str(row_list[0]).strip()\n",
    "\t\t\tcost = str(row_list[3]).strip('$').replace(',', '')\n",
    "\t\t\tif supplier == 'Supplier Z' or float(cost) > 600.0:\n",
    "\t\t\t\tfilewriter.writerow(row_list)"
   ]
  },
  {
   "cell_type": "code",
   "execution_count": null,
   "metadata": {
    "collapsed": true
   },
   "outputs": [],
   "source": [
    "# %load csv/pandas_value_meets_condition.py\n",
    "#!/usr/bin/env python3\n",
    "import pandas as pd\n",
    "import sys\n",
    "\n",
    "input_file = sys.argv[1]\n",
    "output_file = sys.argv[2]\n",
    "\n",
    "data_frame = pd.read_csv(input_file)\n",
    "\n",
    "data_frame['Cost'] = data_frame['Cost'].str.strip('$').astype(float)\n",
    "data_frame_value_meets_condition = data_frame.loc[(data_frame['Supplier Name']\\\n",
    ".str.contains('Z')) | (data_frame['Cost'] > 600.0), :]\n",
    "\n",
    "data_frame_value_meets_condition.to_csv(output_file, index=False)"
   ]
  },
  {
   "cell_type": "markdown",
   "metadata": {},
   "source": [
    "### 2.2.2 Value in Row is in a Set of Interest"
   ]
  },
  {
   "cell_type": "code",
   "execution_count": null,
   "metadata": {
    "collapsed": true
   },
   "outputs": [],
   "source": [
    "# %load csv/4csv_reader_value_in_set.py\n",
    "#!/usr/bin/env python3\n",
    "import csv\n",
    "import sys\n",
    "\n",
    "input_file = sys.argv[1]\n",
    "output_file = sys.argv[2]\n",
    "\n",
    "important_dates = ['1/20/14', '1/30/14']\n",
    "\n",
    "with open(input_file, 'r', newline='') as csv_in_file:\n",
    "\twith open(output_file, 'w', newline='') as csv_out_file:\n",
    "\t\tfilereader = csv.reader(csv_in_file)\n",
    "\t\tfilewriter = csv.writer(csv_out_file)\n",
    "\t\theader = next(filereader)\n",
    "\t\tfilewriter.writerow(header)\n",
    "\t\tfor row_list in filereader:\n",
    "\t\t\ta_date = row_list[4]\n",
    "\t\t\tif a_date in important_dates:\n",
    "\t\t\t\tfilewriter.writerow(row_list)"
   ]
  },
  {
   "cell_type": "code",
   "execution_count": null,
   "metadata": {
    "collapsed": true
   },
   "outputs": [],
   "source": [
    "# %load csv/pandas_value_in_set.py\n",
    "#!/usr/bin/env python3\n",
    "import pandas as pd\n",
    "import sys\n",
    "\n",
    "input_file = sys.argv[1]\n",
    "output_file = sys.argv[2]\n",
    "\n",
    "data_frame = pd.read_csv(input_file)\n",
    "\n",
    "important_dates = ['1/20/14', '1/30/14']\n",
    "data_frame_value_in_set = data_frame.loc[data_frame['Purchase Date']\\\n",
    ".isin(important_dates), :]\n",
    "\n",
    "data_frame_value_in_set.to_csv(output_file, index=False)"
   ]
  },
  {
   "cell_type": "markdown",
   "metadata": {},
   "source": [
    "### 2.2.3 Value in Row Matches a Pattern (Regular Expression)"
   ]
  },
  {
   "cell_type": "code",
   "execution_count": null,
   "metadata": {
    "collapsed": true
   },
   "outputs": [],
   "source": [
    "# %load csv/5csv_reader_value_matches_pattern.py\n",
    "#!/usr/bin/env python3\n",
    "import csv\n",
    "import re\n",
    "import sys\n",
    "\n",
    "input_file = sys.argv[1]\n",
    "output_file = sys.argv[2]\n",
    "\n",
    "pattern = re.compile(r'(?P<my_pattern_group>^001-.*)', re.I)\n",
    "\n",
    "with open(input_file, 'r', newline='') as csv_in_file:\n",
    "\twith open(output_file, 'w', newline='') as csv_out_file:\n",
    "\t\tfilereader = csv.reader(csv_in_file)\n",
    "\t\tfilewriter = csv.writer(csv_out_file)\n",
    "\t\theader = next(filereader)\n",
    "\t\tfilewriter.writerow(header)\n",
    "\t\tfor row_list in filereader:\n",
    "\t\t\tinvoice_number = row_list[1]\n",
    "\t\t\tif pattern.search(invoice_number):\n",
    "\t\t\t\tfilewriter.writerow(row_list)"
   ]
  },
  {
   "cell_type": "code",
   "execution_count": null,
   "metadata": {
    "collapsed": true
   },
   "outputs": [],
   "source": [
    "# %load csv/pandas_value_matches_pattern.py\n",
    "#!/usr/bin/env python3\n",
    "import pandas as pd\n",
    "import sys\n",
    "\n",
    "input_file = sys.argv[1]\n",
    "output_file = sys.argv[2]\n",
    "\n",
    "data_frame = pd.read_csv(input_file)\n",
    "data_frame_value_matches_pattern = data_frame.ix[data_frame['Invoice Number']\\\n",
    ".str.startswith(\"001-\"), :]\n",
    "\n",
    "data_frame_value_matches_pattern.to_csv(output_file, index=False)"
   ]
  },
  {
   "cell_type": "markdown",
   "metadata": {},
   "source": [
    "## 2.3 Select Specific Columns"
   ]
  },
  {
   "cell_type": "markdown",
   "metadata": {},
   "source": [
    "### 2.3.1 Index Values"
   ]
  },
  {
   "cell_type": "code",
   "execution_count": null,
   "metadata": {
    "collapsed": true
   },
   "outputs": [],
   "source": [
    "# %load csv/6csv_reader_column_by_index.py\n",
    "#!/usr/bin/env python3\n",
    "import csv\n",
    "import sys\n",
    "\n",
    "input_file = sys.argv[1]\n",
    "output_file = sys.argv[2]\n",
    "\n",
    "my_columns = [0, 3]\n",
    "\n",
    "with open(input_file, 'r', newline='') as csv_in_file:\n",
    "\twith open(output_file, 'w', newline='') as csv_out_file:\n",
    "\t\tfilereader = csv.reader(csv_in_file)\n",
    "\t\tfilewriter = csv.writer(csv_out_file)\n",
    "\t\tfor row_list in filereader:\n",
    "\t\t\trow_list_output = [ ]\n",
    "\t\t\tfor index_value in my_columns:\n",
    "\t\t\t\trow_list_output.append(row_list[index_value])\n",
    "\t\t\tfilewriter.writerow(row_list_output)"
   ]
  },
  {
   "cell_type": "code",
   "execution_count": null,
   "metadata": {
    "collapsed": true
   },
   "outputs": [],
   "source": [
    "# %load csv/pandas_column_by_index.py\n",
    "#!/usr/bin/env python3\n",
    "import pandas as pd\n",
    "import sys\n",
    "\n",
    "input_file = sys.argv[1]\n",
    "output_file = sys.argv[2]\n",
    "\n",
    "data_frame = pd.read_csv(input_file)\n",
    "data_frame_column_by_index = data_frame.iloc[:, [0, 3]]\n",
    "\n",
    "data_frame_column_by_index.to_csv(output_file, index=False)"
   ]
  },
  {
   "cell_type": "markdown",
   "metadata": {},
   "source": [
    "### 2.3.2 Column Headings"
   ]
  },
  {
   "cell_type": "code",
   "execution_count": null,
   "metadata": {
    "collapsed": true
   },
   "outputs": [],
   "source": [
    "# %load csv/7csv_reader_column_by_name.py\n",
    "#!/usr/bin/env python3\n",
    "import csv\n",
    "import sys\n",
    "\n",
    "input_file = sys.argv[1]\n",
    "output_file = sys.argv[2]\n",
    "\n",
    "my_columns = ['Invoice Number', 'Purchase Date']\n",
    "my_columns_index = []\n",
    "\n",
    "with open(input_file, 'r', newline='') as csv_in_file:\n",
    "\twith open(output_file, 'w', newline='') as csv_out_file:\n",
    "\t\tfilereader = csv.reader(csv_in_file)\n",
    "\t\tfilewriter = csv.writer(csv_out_file)\n",
    "\t\theader = next(filereader)\n",
    "\t\tfor index_value in range(len(header)):\n",
    "\t\t\tif header[index_value] in my_columns:\n",
    "\t\t\t\tmy_columns_index.append(index_value)\n",
    "\t\tfilewriter.writerow(my_columns)\n",
    "\t\tfor row_list in filereader:\n",
    "\t\t\trow_list_output = [ ]\n",
    "\t\t\tfor index_value in my_columns_index:\n",
    "\t\t\t\trow_list_output.append(row_list[index_value])\n",
    "\t\t\tfilewriter.writerow(row_list_output)"
   ]
  },
  {
   "cell_type": "code",
   "execution_count": null,
   "metadata": {
    "collapsed": true
   },
   "outputs": [],
   "source": [
    "# %load csv/pandas_column_by_name.py\n",
    "#!/usr/bin/env python3\n",
    "import pandas as pd\n",
    "import sys\n",
    "\n",
    "input_file = sys.argv[1]\n",
    "output_file = sys.argv[2]\n",
    "\n",
    "data_frame = pd.read_csv(input_file)\n",
    "data_frame_column_by_name = data_frame.loc[:, ['Invoice Number', 'Purchase Date']]\n",
    "\n",
    "data_frame_column_by_name.to_csv(output_file, index=False)"
   ]
  },
  {
   "cell_type": "markdown",
   "metadata": {},
   "source": [
    "## 2.4 Select Contiguous Rows"
   ]
  },
  {
   "cell_type": "code",
   "execution_count": null,
   "metadata": {
    "collapsed": true
   },
   "outputs": [],
   "source": [
    "# %load csv/11csv_reader_select_contiguous_rows.py\n",
    "#!/usr/bin/env python3\n",
    "import csv\n",
    "import sys\n",
    "\n",
    "input_file = sys.argv[1]\n",
    "output_file = sys.argv[2]\n",
    "\n",
    "row_counter = 0\n",
    "with open(input_file, 'r', newline='') as csv_in_file:\n",
    "\twith open(output_file, 'w', newline='') as csv_out_file:\n",
    "\t\tfilereader = csv.reader(csv_in_file)\n",
    "\t\tfilewriter = csv.writer(csv_out_file)\n",
    "\t\tfor row in filereader:\n",
    "\t\t\tif row_counter >= 3 and row_counter <= 15:\n",
    "\t\t\t\tfilewriter.writerow([value.strip() for value in row])\n",
    "\t\t\trow_counter += 1"
   ]
  },
  {
   "cell_type": "code",
   "execution_count": null,
   "metadata": {
    "collapsed": true
   },
   "outputs": [],
   "source": [
    "# %load csv/pandas_select_contiguous_rows.py\n",
    "#!/usr/bin/env python3\n",
    "import pandas as pd\n",
    "import sys\n",
    "\n",
    "input_file = sys.argv[1]\n",
    "output_file = sys.argv[2]\n",
    "\n",
    "data_frame = pd.read_csv(input_file, header=None)\n",
    "\n",
    "data_frame = data_frame.drop([0,1,2,16,17,18])\n",
    "data_frame.columns = data_frame.iloc[0]\n",
    "data_frame = data_frame.reindex(data_frame.index.drop(3))\n",
    "\n",
    "data_frame.to_csv(output_file, index=False)"
   ]
  },
  {
   "cell_type": "markdown",
   "metadata": {},
   "source": [
    "## 2.5 Add a Header Row"
   ]
  },
  {
   "cell_type": "code",
   "execution_count": null,
   "metadata": {
    "collapsed": true
   },
   "outputs": [],
   "source": [
    "# %load csv/12csv_reader_add_header_row.py\n",
    "#!/usr/bin/env python3\n",
    "import csv\n",
    "import sys\n",
    "\n",
    "input_file = sys.argv[1]\n",
    "output_file = sys.argv[2]\n",
    "\n",
    "with open(input_file, 'r', newline='') as csv_in_file:\n",
    "\twith open(output_file, 'w', newline='') as csv_out_file:\n",
    "\t\tfilereader = csv.reader(csv_in_file)\n",
    "\t\tfilewriter = csv.writer(csv_out_file)\n",
    "\t\theader_list = ['Supplier Name', 'Invoice Number', \\\n",
    "\t\t\t\t\t   'Part Number', 'Cost', 'Purchase Date']\n",
    "\t\tfilewriter.writerow(header_list)\n",
    "\t\tfor row in filereader:\n",
    "\t\t\tfilewriter.writerow (row)"
   ]
  },
  {
   "cell_type": "code",
   "execution_count": null,
   "metadata": {
    "collapsed": true
   },
   "outputs": [],
   "source": [
    "# %load csv/pandas_add_header_row.py\n",
    "#!/usr/bin/env python3\n",
    "import pandas as pd\n",
    "import sys\n",
    "\n",
    "input_file = sys.argv[1]\n",
    "output_file = sys.argv[2]\n",
    "\n",
    "header_list = ['Supplier Name', 'Invoice Number', \\\n",
    "'Part Number', 'Cost', 'Purchase Date']\n",
    "data_frame = pd.read_csv(input_file, header=None, names=header_list)\n",
    "\n",
    "data_frame.to_csv(output_file, index=False)"
   ]
  },
  {
   "cell_type": "markdown",
   "metadata": {},
   "source": [
    "## 2.6 Reading Multiple CSV Files"
   ]
  },
  {
   "cell_type": "markdown",
   "metadata": {},
   "source": [
    "### 2.6.1 Count Number of Files and Rows and Columns in Each File"
   ]
  },
  {
   "cell_type": "code",
   "execution_count": null,
   "metadata": {
    "collapsed": true
   },
   "outputs": [],
   "source": [
    "# %load csv/8csv_reader_counts_for_multiple_files.py\n",
    "#!/usr/bin/env python3\n",
    "import csv\n",
    "import glob\n",
    "import os\n",
    "import sys\n",
    "\n",
    "input_path = sys.argv[1]\n",
    "\n",
    "file_counter = 0\n",
    "for input_file in glob.glob(os.path.join(input_path,'sales_*')):\n",
    "\trow_counter = 1\n",
    "\twith open(input_file, 'r', newline='') as csv_in_file:\n",
    "\t\tfilereader = csv.reader(csv_in_file)\n",
    "\t\theader = next(filereader)\n",
    "\t\tfor row in filereader:\n",
    "\t\t\trow_counter += 1\n",
    "\tprint('{0!s}: \\t{1:d} rows \\t{2:d} columns'.format(\\\n",
    "\tos.path.basename(input_file), row_counter, len(header)))\n",
    "\tfile_counter += 1\n",
    "print('Number of files: {0:d}'.format(file_counter))"
   ]
  },
  {
   "cell_type": "markdown",
   "metadata": {},
   "source": [
    "## 2.7 Concatenate Data from Multiple Files"
   ]
  },
  {
   "cell_type": "code",
   "execution_count": null,
   "metadata": {
    "collapsed": true
   },
   "outputs": [],
   "source": [
    "# %load csv/9csv_reader_concat_rows_from_multiple_files.py\n",
    "#!/usr/bin/env python3\n",
    "import csv\n",
    "import glob\n",
    "import os\n",
    "import sys\n",
    "\n",
    "input_path = sys.argv[1]\n",
    "output_file = sys.argv[2]\n",
    " \n",
    "first_file = True\n",
    "for input_file in glob.glob(os.path.join(input_path,'sales_*')):\n",
    "\tprint(os.path.basename(input_file))\n",
    "\twith open(input_file, 'r', newline='') as csv_in_file:\n",
    "\t\twith open(output_file, 'a', newline='') as csv_out_file:\n",
    "\t\t\tfilereader = csv.reader(csv_in_file)\n",
    "\t\t\tfilewriter = csv.writer(csv_out_file)\n",
    "\t\t\tif first_file:\n",
    "\t\t\t\tfor row in filereader:\n",
    "\t\t\t\t\tfilewriter.writerow(row)\n",
    "\t\t\t\tfirst_file = False\n",
    "\t\t\telse:\n",
    "\t\t\t\theader = next(filereader)\n",
    "\t\t\t\tfor row in filereader:\n",
    "\t\t\t\t\tfilewriter.writerow(row)"
   ]
  },
  {
   "cell_type": "code",
   "execution_count": null,
   "metadata": {
    "collapsed": true
   },
   "outputs": [],
   "source": [
    "# %load csv/pandas_concat_rows_from_multiple_files.py\n",
    "#!/usr/bin/env python3\n",
    "import pandas as pd\n",
    "import glob\n",
    "import os\n",
    "import sys\n",
    "\n",
    "input_path = sys.argv[1]\n",
    "output_file = sys.argv[2]\n",
    "\n",
    "all_files = glob.glob(os.path.join(input_path,'sales_*'))\n",
    "\n",
    "all_data_frames = []\n",
    "for file in all_files:\n",
    "\tdata_frame = pd.read_csv(file, index_col=None)\n",
    "\tall_data_frames.append(data_frame)\n",
    "data_frame_concat = pd.concat(all_data_frames, axis=0, ignore_index=True)\n",
    "\n",
    "data_frame_concat.to_csv(output_file, index = False)"
   ]
  },
  {
   "cell_type": "markdown",
   "metadata": {},
   "source": [
    "## 2.8 Sum and Average a Set of Values per File"
   ]
  },
  {
   "cell_type": "code",
   "execution_count": null,
   "metadata": {
    "collapsed": true
   },
   "outputs": [],
   "source": [
    "# %load csv/10csv_reader_sum_average_from_multiple_files.py\n",
    "#!/usr/bin/env python3\n",
    "import csv\n",
    "import glob\n",
    "import os\n",
    "import string\n",
    "import sys\n",
    "\n",
    "input_path = sys.argv[1]\n",
    "output_file = sys.argv[2]\n",
    "\n",
    "output_header_list = ['file_name', 'total_cost', 'average_cost']\n",
    "\n",
    "csv_out_file = open(output_file, 'a', newline='')\n",
    "filewriter = csv.writer(csv_out_file)\n",
    "filewriter.writerow(output_header_list)\n",
    "\n",
    "for input_file in glob.glob(os.path.join(input_path,'sales_*')):\n",
    "\twith open(input_file, 'r', newline='') as csv_in_file:\n",
    "\t\tfilereader = csv.reader(csv_in_file)\n",
    "\t\toutput_list = [ ]\n",
    "\t\toutput_list.append(os.path.basename(input_file))\n",
    "\t\theader = next(filereader)\n",
    "\t\ttotal_sales = 0.0\n",
    "\t\tnumber_of_sales = 0.0\n",
    "\t\tfor row in filereader:\n",
    "\t\t\tsale_amount = row[3]\n",
    "\t\t\ttotal_sales += float(str(sale_amount).strip('$').replace(',',''))\n",
    "\t\t\tnumber_of_sales += 1.0\n",
    "\t\taverage_sales = '{0:.2f}'.format(total_sales / number_of_sales)\n",
    "\t\toutput_list.append(total_sales)\n",
    "\t\toutput_list.append(average_sales)\n",
    "\t\tfilewriter.writerow(output_list)\n",
    "csv_out_file.close()"
   ]
  },
  {
   "cell_type": "code",
   "execution_count": null,
   "metadata": {
    "collapsed": true
   },
   "outputs": [],
   "source": [
    "# %load csv/pandas_sum_average_from_multiple_files.py\n",
    "#!/usr/bin/env python3\n",
    "import pandas as pd\n",
    "import glob\n",
    "import os\n",
    "import sys\n",
    "\n",
    "input_path = sys.argv[1]\n",
    "output_file = sys.argv[2]\n",
    "\n",
    "all_files = glob.glob(os.path.join(input_path,'sales_*'))\n",
    "all_data_frames = []\n",
    "for input_file in all_files:\n",
    "\tdata_frame = pd.read_csv(input_file, index_col=None)\n",
    "\t\n",
    "\ttotal_sales = pd.DataFrame([float(str(value).strip('$').replace(',','')) \\\n",
    "\t\t\t\t\t\tfor value in data_frame.loc[:, 'Sale Amount']]).sum()\n",
    "\t\n",
    "\taverage_sales = pd.DataFrame([float(str(value).strip('$').replace(',','')) \\\n",
    "\t\t\t\t\t\tfor value in data_frame.loc[:, 'Sale Amount']]).mean()\n",
    "\n",
    "\tdata = {'file_name': os.path.basename(input_file),\n",
    "\t\t\t'total_sales': total_sales,\n",
    "\t\t\t'average_sales': average_sales}\n",
    "\t\n",
    "\tall_data_frames.append(pd.DataFrame(data, columns=['file_name', 'total_sales', 'average_sales']))\n",
    "\n",
    "data_frames_concat = pd.concat(all_data_frames, axis=0, ignore_index=True)\n",
    "\n",
    "data_frames_concat.to_csv(output_file, index = False)"
   ]
  },
  {
   "cell_type": "markdown",
   "metadata": {},
   "source": [
    "## 2.9 Chapter Exercises"
   ]
  }
 ],
 "metadata": {
  "kernelspec": {
   "display_name": "Python 3",
   "language": "python",
   "name": "python3"
  },
  "language_info": {
   "codemirror_mode": {
    "name": "ipython",
    "version": 3
   },
   "file_extension": ".py",
   "mimetype": "text/x-python",
   "name": "python",
   "nbconvert_exporter": "python",
   "pygments_lexer": "ipython3",
   "version": "3.6.0"
  }
 },
 "nbformat": 4,
 "nbformat_minor": 1
}
