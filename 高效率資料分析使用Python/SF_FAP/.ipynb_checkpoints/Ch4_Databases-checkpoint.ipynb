{
 "cells": [
  {
   "cell_type": "markdown",
   "metadata": {},
   "source": [
    "# Chapter4 Databases"
   ]
  },
  {
   "cell_type": "markdown",
   "metadata": {},
   "source": [
    "<div id=\"toc\"></div>"
   ]
  },
  {
   "cell_type": "markdown",
   "metadata": {},
   "source": [
    "## 4.1 Python's Built-in sqlite3 Module"
   ]
  },
  {
   "cell_type": "code",
   "execution_count": null,
   "metadata": {
    "collapsed": true
   },
   "outputs": [],
   "source": [
    "# %load database/1db_count_rows.py\n",
    "#!/usr/bin/env python3\n",
    "import sqlite3\n",
    "\n",
    "# Create an in-memory SQLite3 database\n",
    "# Create a table called sales with four attributes\n",
    "con = sqlite3.connect(':memory:')\n",
    "query = \"\"\"CREATE TABLE sales\n",
    "\t\t\t(customer VARCHAR(20), \n",
    "\t\t\t product VARCHAR(40),\n",
    "\t\t\t amount FLOAT,\n",
    "\t\t\t date DATE);\"\"\"\n",
    "con.execute(query)\n",
    "con.commit()\n",
    "\n",
    "# Insert a few rows of data into the table\n",
    "data = [('Richard Lucas', 'Notepad', 2.50, '2014-01-02'),\n",
    "\t\t('Jenny Kim', 'Binder', 4.15, '2014-01-15'),\n",
    "\t\t('Svetlana Crow', 'Printer', 155.75, '2014-02-03'),\n",
    "\t\t('Stephen Randolph', 'Computer', 679.40, '2014-02-20')]\n",
    "statement = \"INSERT INTO sales VALUES(?, ?, ?, ?)\"\n",
    "con.executemany(statement, data)\n",
    "con.commit()\n",
    "\n",
    "# Query the sales table\n",
    "cursor = con.execute(\"SELECT * FROM sales\")\n",
    "rows = cursor.fetchall()\n",
    "\n",
    "# Count the number of rows in the output\n",
    "row_counter = 0\n",
    "for row in rows:\n",
    "\tprint(row)\n",
    "\trow_counter += 1\n",
    "print('Number of rows: {}'.format(row_counter))\n"
   ]
  },
  {
   "cell_type": "markdown",
   "metadata": {},
   "source": [
    "### 4.1.1 將新記錄插入資料表"
   ]
  },
  {
   "cell_type": "code",
   "execution_count": null,
   "metadata": {
    "collapsed": true
   },
   "outputs": [],
   "source": [
    "# %load database/2db_insert_rows.py\n",
    "#!/usr/bin/env python3\n",
    "import csv\n",
    "import sqlite3\n",
    "import sys\n",
    "\n",
    "# Path to and name of a CSV input file\n",
    "input_file = sys.argv[1]\n",
    "\n",
    "# Create an in-memory SQLite3 database\n",
    "# Create a table called Suppliers with five attributes\n",
    "con = sqlite3.connect('Suppliers.db')\n",
    "c = con.cursor()\n",
    "create_table = \"\"\"CREATE TABLE IF NOT EXISTS Suppliers\n",
    "\t\t\t\t(Supplier_Name VARCHAR(20), \n",
    "\t\t\t\tInvoice_Number VARCHAR(20),\n",
    "\t\t\t\tPart_Number VARCHAR(20),\n",
    "\t\t\t\tCost FLOAT,\n",
    "\t\t\t\tPurchase_Date DATE);\"\"\"\n",
    "c.execute(create_table)\n",
    "con.commit()\n",
    "\n",
    "# Read the CSV file\n",
    "# Insert the data into the Suppliers table\n",
    "file_reader = csv.reader(open(input_file, 'r'), delimiter=',')\n",
    "header = next(file_reader, None)\n",
    "for row in file_reader:\n",
    "\tdata = []\n",
    "\tfor column_index in range(len(header)):\n",
    "\t\tdata.append(row[column_index])\n",
    "\tprint(data)\n",
    "\tc.execute(\"INSERT INTO Suppliers VALUES (?, ?, ?, ?, ?);\", data)\n",
    "con.commit()\n",
    "\n",
    "# Query the Suppliers table\n",
    "output = c.execute(\"SELECT * FROM Suppliers\")\n",
    "rows = output.fetchall()\n",
    "for row in rows:\n",
    "\toutput = []\n",
    "\tfor column_index in range(len(row)):\n",
    "\t\toutput.append(str(row[column_index]))\n",
    "\tprint(output)\n"
   ]
  },
  {
   "cell_type": "markdown",
   "metadata": {},
   "source": [
    "### 4.1.2 更新資料表的記錄"
   ]
  },
  {
   "cell_type": "code",
   "execution_count": null,
   "metadata": {
    "collapsed": true
   },
   "outputs": [],
   "source": [
    "# %load database/3db_update_rows.py\n",
    "#!/usr/bin/env python3\n",
    "import csv\n",
    "import sqlite3\n",
    "import sys\n",
    "\n",
    "# Path to and name of a CSV input file\n",
    "input_file = sys.argv[1]\n",
    "\n",
    "# Create an in-memory SQLite3 database\n",
    "# Create a table called sales with four attributes\n",
    "con = sqlite3.connect(':memory:')\n",
    "query = \"\"\"CREATE TABLE IF NOT EXISTS sales\n",
    "\t\t\t(customer VARCHAR(20), \n",
    "\t\t\t\tproduct VARCHAR(40),\n",
    "\t\t\t\tamount FLOAT,\n",
    "\t\t\t\tdate DATE);\"\"\"\n",
    "con.execute(query)\n",
    "con.commit()\n",
    "\n",
    "# Insert a few rows of data into the table\n",
    "data = [('Richard Lucas', 'Notepad', 2.50, '2014-01-02'),\n",
    "\t\t('Jenny Kim', 'Binder', 4.15, '2014-01-15'),\n",
    "\t\t('Svetlana Crow', 'Printer', 155.75, '2014-02-03'),\n",
    "\t\t('Stephen Randolph', 'Computer', 679.40, '2014-02-20')]\n",
    "for tuple in data:\n",
    "\tprint(tuple)\n",
    "statement = \"INSERT INTO sales VALUES(?, ?, ?, ?)\"\n",
    "con.executemany(statement, data)\n",
    "con.commit()\n",
    "\t\n",
    "# Read the CSV file and update the specific rows\n",
    "file_reader = csv.reader(open(input_file, 'r'), delimiter=',')\n",
    "header = next(file_reader, None)\n",
    "for row in file_reader:\n",
    "\tdata = []\n",
    "\tfor column_index in range(len(header)):\n",
    "\t\tdata.append(row[column_index])\n",
    "\tprint(data)\n",
    "\tcon.execute(\"UPDATE sales SET amount=?, date=? WHERE customer=?;\", data)\n",
    "con.commit()\n",
    "\n",
    "# Query the sales table\n",
    "cursor = con.execute(\"SELECT * FROM sales\")\n",
    "rows = cursor.fetchall()\n",
    "for row in rows:\n",
    "\toutput = []\n",
    "\tfor column_index in range(len(row)):\n",
    "\t\toutput.append(str(row[column_index]))\n",
    "\tprint(output)"
   ]
  },
  {
   "cell_type": "markdown",
   "metadata": {},
   "source": [
    "## 4.2 MySQL Database"
   ]
  },
  {
   "cell_type": "markdown",
   "metadata": {},
   "source": [
    "### 4.2.1 將新記錄插入資料表"
   ]
  },
  {
   "cell_type": "code",
   "execution_count": null,
   "metadata": {
    "collapsed": true
   },
   "outputs": [],
   "source": [
    "# %load database/4db_mysql_load_from_csv.py\n",
    "#!/usr/bin/env python3\n",
    "import csv\n",
    "import MySQLdb\n",
    "import sys\n",
    "from datetime import datetime, date\n",
    "\n",
    "# Path to and name of a CSV input file\n",
    "input_file = sys.argv[1]\n",
    "\n",
    "# Connect to a MySQL database\n",
    "con = MySQLdb.connect(host='localhost', port=3306, db='my_suppliers', user='python_training', passwd='python_training')\n",
    "c = con.cursor()\n",
    "\n",
    "# Read the CSV file\n",
    "# Insert the data into the Suppliers table\n",
    "file_reader = csv.reader(open(input_file, 'r'), delimiter=',')\n",
    "header = next(file_reader)\n",
    "for row in file_reader:\n",
    "\tdata = []\n",
    "\tfor column_index in range(len(header)):\n",
    "\t\tif column_index < 4:\n",
    "\t\t\tdata.append(str(row[column_index]).lstrip('$')\\\n",
    "\t\t\t.replace(',', '').strip())\n",
    "\t\telse:\n",
    "\t\t\ta_date = datetime.date(datetime.strptime(\\\n",
    "\t\t\tstr(row[column_index]), '%m/%d/%Y'))\n",
    "\t\t\t# %Y: year is 2016; %y: year is 15\n",
    "\t\t\ta_date = a_date.strftime('%Y-%m-%d')\n",
    "\t\t\tdata.append(a_date)\n",
    "\tprint(data)\n",
    "\tc.execute(\"\"\"INSERT INTO Suppliers VALUES (%s, %s, %s, %s, %s);\"\"\", data)\n",
    "con.commit()\n",
    "\n",
    "# Query the Suppliers table\n",
    "c.execute(\"SELECT * FROM Suppliers\")\n",
    "rows = c.fetchall()\n",
    "for row in rows:\n",
    "\trow_list_output = []\n",
    "\tfor column_index in range(len(row)):\n",
    "\t\trow_list_output.append(str(row[column_index]))\n",
    "\tprint(row_list_output)\n"
   ]
  },
  {
   "cell_type": "markdown",
   "metadata": {},
   "source": [
    "### 4.2.2 查詢資料表，並將輸出寫到CSV檔"
   ]
  },
  {
   "cell_type": "code",
   "execution_count": null,
   "metadata": {
    "collapsed": true
   },
   "outputs": [],
   "source": [
    "# %load database/5db_mysql_write_to_file.py\n",
    "#!/usr/bin/env python3\n",
    "import csv\n",
    "import MySQLdb\n",
    "import sys\n",
    "\n",
    "# Path to and name of a CSV output file\n",
    "output_file = sys.argv[1]\n",
    "\n",
    "# Connect to a MySQL database\n",
    "con = MySQLdb.connect(host='localhost', port=3306, db='my_suppliers', \\\n",
    "user='root', passwd='my_password')\n",
    "c = con.cursor()\n",
    "\n",
    "# Create a file writer object and write the header row\n",
    "filewriter = csv.writer(open(output_file, 'w', newline=''), delimiter=',')\n",
    "header = ['Supplier Name','Invoice Number','Part Number','Cost','Purchase Date']\n",
    "filewriter.writerow(header)\n",
    "\n",
    "# Query the Suppliers table and write the output to a CSV file\n",
    "c.execute(\"\"\"SELECT * \n",
    "\t\tFROM Suppliers \n",
    "\t\tWHERE Cost > 700.0;\"\"\")\n",
    "rows = c.fetchall()\n",
    "for row in rows:\n",
    "\tfilewriter.writerow(row)\n"
   ]
  },
  {
   "cell_type": "markdown",
   "metadata": {},
   "source": [
    "### 4.2.3 更新資料表的記錄"
   ]
  },
  {
   "cell_type": "code",
   "execution_count": null,
   "metadata": {
    "collapsed": true
   },
   "outputs": [],
   "source": [
    "# %load database/6db_mysql_update_from_csv.py\n",
    "#!/usr/bin/env python3\n",
    "import csv\n",
    "import MySQLdb\n",
    "import sys\n",
    "\n",
    "# Path to and name of a CSV input file\n",
    "input_file = sys.argv[1]\n",
    "\n",
    "# Connect to a MySQL database\n",
    "con = MySQLdb.connect(host='localhost', port=3306, db='my_suppliers', \\\n",
    "user='root', passwd='my_password')\n",
    "c = con.cursor()\n",
    "\t\n",
    "# Read the CSV file and update the specific rows\n",
    "file_reader = csv.reader(open(input_file, 'r', newline=''), delimiter=',')\n",
    "header = next(file_reader, None)\n",
    "for row in file_reader:\n",
    "\tdata = []\n",
    "\tfor column_index in range(len(header)):\n",
    "\t\tdata.append(str(row[column_index]).strip())\n",
    "\tprint(data)\n",
    "\tc.execute(\"\"\"UPDATE Suppliers SET Cost=%s, Purchase_Date=%s WHERE Supplier_Name=%s;\"\"\", data)\n",
    "con.commit()\n",
    "\n",
    "# Query the Suppliers table\n",
    "c.execute(\"SELECT * FROM Suppliers\")\n",
    "rows = c.fetchall()\n",
    "for row in rows:\n",
    "\toutput = []\n",
    "\tfor column_index in range(len(row)):\n",
    "\t\toutput.append(str(row[column_index]))\n",
    "\tprint(output)\n"
   ]
  },
  {
   "cell_type": "markdown",
   "metadata": {},
   "source": [
    "## 4.3 Chapter Exercises"
   ]
  },
  {
   "cell_type": "code",
   "execution_count": null,
   "metadata": {
    "collapsed": true
   },
   "outputs": [],
   "source": []
  }
 ],
 "metadata": {
  "kernelspec": {
   "display_name": "Python 3",
   "language": "python",
   "name": "python3"
  },
  "language_info": {
   "codemirror_mode": {
    "name": "ipython",
    "version": 3
   },
   "file_extension": ".py",
   "mimetype": "text/x-python",
   "name": "python",
   "nbconvert_exporter": "python",
   "pygments_lexer": "ipython3",
   "version": "3.6.0"
  }
 },
 "nbformat": 4,
 "nbformat_minor": 1
}
