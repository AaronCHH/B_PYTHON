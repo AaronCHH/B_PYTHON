{
 "cells": [
  {
   "cell_type": "markdown",
   "metadata": {},
   "source": [
    "# Chapter2 Comma-Separated Values (CSV) Files  "
   ]
  },
  {
   "cell_type": "markdown",
   "metadata": {},
   "source": [
    "<div id=\"toc\"></div>"
   ]
  },
  {
   "cell_type": "markdown",
   "metadata": {},
   "source": [
    "## 2.1 Base Python Versus pandas  \n",
    "### 2.1.1 讀取與寫入CSV檔(1)"
   ]
  },
  {
   "cell_type": "markdown",
   "metadata": {},
   "source": [
    "* **基本python，不用csv模組**  "
   ]
  },
  {
   "cell_type": "code",
   "execution_count": null,
   "metadata": {
    "collapsed": true
   },
   "outputs": [],
   "source": [
    "#!/usr/bin/env python3\n",
    "import sys\n",
    "\n",
    "input_file = sys.argv[1]\n",
    "output_file = sys.argv[2]\n",
    "\n",
    "with open(input_file, 'r', newline='') as filereader:\n",
    "    with open(output_file, 'w', newline='') as filewriter:\n",
    "        header = filereader.readline()\n",
    "        header = header.strip()\n",
    "        header_list = header.split(',')\n",
    "        print(header_list)\n",
    "        filewriter.write(','.join(map(str,header_list))+'\\n')\n",
    "        for row in filereader:\n",
    "            row = row.strip()\n",
    "            row_list = row.split(',')\n",
    "            print(row_list)\n",
    "            filewriter.write(','.join(map(str,row_list))+'\\n')"
   ]
  },
  {
   "cell_type": "markdown",
   "metadata": {},
   "source": [
    "* **Pandas**  "
   ]
  },
  {
   "cell_type": "code",
   "execution_count": null,
   "metadata": {
    "collapsed": true
   },
   "outputs": [],
   "source": [
    "#!/usr/bin/env python3\n",
    "import sys\n",
    "import pandas as pd\n",
    "\n",
    "input_file = sys.argv[1]\n",
    "output_file = sys.argv[2]\n",
    "\n",
    "data_frame = pd.read_csv(input_file)\n",
    "print(data_frame)\n",
    "\n",
    "data_frame.to_csv(output_file, index=False)   "
   ]
  },
  {
   "cell_type": "markdown",
   "metadata": {},
   "source": [
    "### 2.1.2 何時基本的字串解析會失敗"
   ]
  },
  {
   "cell_type": "markdown",
   "metadata": {},
   "source": [
    "### 2.1.3 讀取與寫入CSV檔(2)"
   ]
  },
  {
   "cell_type": "code",
   "execution_count": null,
   "metadata": {
    "collapsed": true
   },
   "outputs": [],
   "source": [
    "#!/usr/bin/env python3\n",
    "import csv\n",
    "import sys\n",
    "\n",
    "input_file = sys.argv[1]\n",
    "output_file = sys.argv[2]\n",
    "\n",
    "with open(input_file, 'r', newline='') as csv_in_file:\n",
    "    with open(output_file, 'w', newline='') as csv_out_file:\n",
    "        filereader = csv.reader(csv_in_file, delimiter=',')\n",
    "        filewriter = csv.writer(csv_out_file, delimiter=',')\n",
    "        for row_list in filereader:\n",
    "            filewriter.writerow(row_list)"
   ]
  },
  {
   "cell_type": "markdown",
   "metadata": {},
   "source": [
    "## 2.2 Filter for Specific Rows  "
   ]
  },
  {
   "cell_type": "markdown",
   "metadata": {},
   "source": [
    "### 2.2.1 在資料列中，符合條件的值"
   ]
  },
  {
   "cell_type": "code",
   "execution_count": null,
   "metadata": {
    "collapsed": true
   },
   "outputs": [],
   "source": [
    "* **基本python**  "
   ]
  },
  {
   "cell_type": "code",
   "execution_count": null,
   "metadata": {
    "collapsed": true
   },
   "outputs": [],
   "source": [
    "#!/usr/bin/env python3\n",
    "import csv\n",
    "import sys\n",
    "\n",
    "input_file = sys.argv[1]\n",
    "output_file = sys.argv[2]\n",
    "\n",
    "with open(input_file, 'r', newline='') as csv_in_file:\n",
    "    with open(output_file, 'w', newline='') as csv_out_file:\n",
    "        filereader = csv.reader(csv_in_file)\n",
    "        filewriter = csv.writer(csv_out_file)\n",
    "        header = next(filereader)\n",
    "        filewriter.writerow(header)\n",
    "        for row_list in filereader:\n",
    "            supplier = str(row_list[0]).strip()\n",
    "            cost = str(row_list[3]).strip('$').replace(',', '')\n",
    "            if supplier == 'Supplier Z' or float(cost) > 600.0:\n",
    "                filewriter.writerow(row_list)"
   ]
  },
  {
   "cell_type": "markdown",
   "metadata": {},
   "source": [
    "* **pandas**  "
   ]
  },
  {
   "cell_type": "code",
   "execution_count": null,
   "metadata": {
    "collapsed": true
   },
   "outputs": [],
   "source": [
    "#!/usr/bin/env python3\n",
    "import pandas as pd\n",
    "import sys\n",
    "\n",
    "input_file = sys.argv[1]\n",
    "output_file = sys.argv[2]\n",
    "\n",
    "data_frame = pd.read_csv(input_file)\n",
    "\n",
    "data_frame['Cost'] = data_frame['Cost'].str.strip('$').astype(float)\n",
    "data_frame_value_meets_condition = data_frame.loc[(data_frame['Supplier Name']\\\n",
    "                                                   .str.contains('Z')) | (data_frame['Cost'] > 600.0), :]\n",
    "\n",
    "data_frame_value_meets_condition.to_csv(output_file, index=False)"
   ]
  },
  {
   "cell_type": "markdown",
   "metadata": {},
   "source": [
    "### 2.2.2 資料列的值屬於一組關注的對象"
   ]
  },
  {
   "cell_type": "markdown",
   "metadata": {},
   "source": [
    "* **基本python** "
   ]
  },
  {
   "cell_type": "code",
   "execution_count": null,
   "metadata": {
    "collapsed": true
   },
   "outputs": [],
   "source": [
    "#!/usr/bin/env python3\n",
    "import csv\n",
    "import sys\n",
    "\n",
    "input_file = sys.argv[1]\n",
    "output_file = sys.argv[2]\n",
    "\n",
    "important_dates = ['1/20/14', '1/30/14']\n",
    "\n",
    "with open(input_file, 'r', newline='') as csv_in_file:\n",
    "    with open(output_file, 'w', newline='') as csv_out_file:\n",
    "        filereader = csv.reader(csv_in_file)\n",
    "        filewriter = csv.writer(csv_out_file)\n",
    "        header = next(filereader)\n",
    "        filewriter.writerow(header)\n",
    "        for row_list in filereader:\n",
    "            a_date = row_list[4]\n",
    "            if a_date in important_dates:\n",
    "                filewriter.writerow(row_list)"
   ]
  },
  {
   "cell_type": "markdown",
   "metadata": {},
   "source": [
    "* **pandas**  "
   ]
  },
  {
   "cell_type": "code",
   "execution_count": null,
   "metadata": {
    "collapsed": true
   },
   "outputs": [],
   "source": [
    "#!/usr/bin/env python3\n",
    "import pandas as pd\n",
    "import sys\n",
    "\n",
    "input_file = sys.argv[1]\n",
    "output_file = sys.argv[2]\n",
    "\n",
    "data_frame = pd.read_csv(input_file)\n",
    "\n",
    "important_dates = ['1/20/14', '1/30/14']\n",
    "data_frame_value_in_set = data_frame.loc[data_frame['Purchase Date']\\\n",
    "                                         .isin(important_dates), :]\n",
    "\n",
    "data_frame_value_in_set.to_csv(output_file, index=False)"
   ]
  },
  {
   "cell_type": "markdown",
   "metadata": {},
   "source": [
    "### 2.2.3 資料列中，匹配文字組合/正規表達式的值"
   ]
  },
  {
   "cell_type": "markdown",
   "metadata": {},
   "source": [
    "* **python**  "
   ]
  },
  {
   "cell_type": "code",
   "execution_count": null,
   "metadata": {
    "collapsed": true
   },
   "outputs": [],
   "source": [
    "#!/usr/bin/env python3\n",
    "import csv\n",
    "import re\n",
    "import sys\n",
    "\n",
    "input_file = sys.argv[1]\n",
    "output_file = sys.argv[2]\n",
    "\n",
    "pattern = re.compile(r'(?P<my_pattern_group>^001-.*)', re.I)\n",
    "\n",
    "with open(input_file, 'r', newline='') as csv_in_file:\n",
    "    with open(output_file, 'w', newline='') as csv_out_file:\n",
    "        filereader = csv.reader(csv_in_file)\n",
    "        filewriter = csv.writer(csv_out_file)\n",
    "        header = next(filereader)\n",
    "        filewriter.writerow(header)\n",
    "        for row_list in filereader:\n",
    "            invoice_number = row_list[1]\n",
    "            if pattern.search(invoice_number):\n",
    "                filewriter.writerow(row_list)     "
   ]
  },
  {
   "cell_type": "markdown",
   "metadata": {},
   "source": [
    "* **pandas**  "
   ]
  },
  {
   "cell_type": "code",
   "execution_count": null,
   "metadata": {
    "collapsed": true
   },
   "outputs": [],
   "source": [
    "#!/usr/bin/env python3\n",
    "import pandas as pd\n",
    "import sys\n",
    "\n",
    "input_file = sys.argv[1]\n",
    "output_file = sys.argv[2]\n",
    "\n",
    "data_frame = pd.read_csv(input_file)\n",
    "data_frame_value_matches_pattern = data_frame.ix[data_frame['Invoice Number']\\\n",
    "                                                 .str.startswith(\"001-\"), :]\n",
    "\n",
    "data_frame_value_matches_pattern.to_csv(output_file, index=False)"
   ]
  },
  {
   "cell_type": "markdown",
   "metadata": {},
   "source": [
    "## 2.3 Select Specific Columns  "
   ]
  },
  {
   "cell_type": "markdown",
   "metadata": {},
   "source": [
    "### 2.3.1 欄位索引值  "
   ]
  },
  {
   "cell_type": "markdown",
   "metadata": {},
   "source": [
    "* **python** "
   ]
  },
  {
   "cell_type": "code",
   "execution_count": null,
   "metadata": {
    "collapsed": true
   },
   "outputs": [],
   "source": [
    "#!/usr/bin/env python3\n",
    "import csv\n",
    "import sys\n",
    "\n",
    "input_file = sys.argv[1]\n",
    "output_file = sys.argv[2]\n",
    "\n",
    "my_columns = [0, 3]\n",
    "\n",
    "with open(input_file, 'r', newline='') as csv_in_file:\n",
    "    with open(output_file, 'w', newline='') as csv_out_file:\n",
    "        filereader = csv.reader(csv_in_file)\n",
    "        filewriter = csv.writer(csv_out_file)\n",
    "        for row_list in filereader:\n",
    "            row_list_output = [ ]\n",
    "            for index_value in my_columns:\n",
    "                row_list_output.append(row_list[index_value])\n",
    "            filewriter.writerow(row_list_output)    "
   ]
  },
  {
   "cell_type": "markdown",
   "metadata": {},
   "source": [
    "* **pandas**  "
   ]
  },
  {
   "cell_type": "code",
   "execution_count": null,
   "metadata": {
    "collapsed": true
   },
   "outputs": [],
   "source": [
    "#!/usr/bin/env python3\n",
    "import pandas as pd\n",
    "import sys\n",
    "\n",
    "input_file = sys.argv[1]\n",
    "output_file = sys.argv[2]\n",
    "\n",
    "data_frame = pd.read_csv(input_file)\n",
    "data_frame_column_by_index = data_frame.iloc[:, [0, 3]]\n",
    "\n",
    "data_frame_column_by_index.to_csv(output_file, index=False)"
   ]
  },
  {
   "cell_type": "markdown",
   "metadata": {},
   "source": [
    "### 2.3.2 欄位標題  "
   ]
  },
  {
   "cell_type": "markdown",
   "metadata": {},
   "source": [
    "* **python**  "
   ]
  },
  {
   "cell_type": "code",
   "execution_count": null,
   "metadata": {
    "collapsed": true
   },
   "outputs": [],
   "source": [
    "#!/usr/bin/env python3\n",
    "import csv\n",
    "import sys\n",
    "\n",
    "input_file = sys.argv[1]\n",
    "output_file = sys.argv[2]\n",
    "\n",
    "my_columns = ['Invoice Number', 'Purchase Date']\n",
    "my_columns_index = []\n",
    "\n",
    "with open(input_file, 'r', newline='') as csv_in_file:\n",
    "    with open(output_file, 'w', newline='') as csv_out_file:\n",
    "        filereader = csv.reader(csv_in_file)\n",
    "        filewriter = csv.writer(csv_out_file)\n",
    "        header = next(filereader)\n",
    "        for index_value in range(len(header)):\n",
    "            if header[index_value] in my_columns:\n",
    "                my_columns_index.append(index_value)\n",
    "        filewriter.writerow(my_columns)\n",
    "        for row_list in filereader:\n",
    "            row_list_output = [ ]\n",
    "            for index_value in my_columns_index:\n",
    "                row_list_output.append(row_list[index_value])\n",
    "            filewriter.writerow(row_list_output)"
   ]
  },
  {
   "cell_type": "markdown",
   "metadata": {},
   "source": [
    "* **pandas**  "
   ]
  },
  {
   "cell_type": "code",
   "execution_count": null,
   "metadata": {
    "collapsed": true
   },
   "outputs": [],
   "source": [
    "#!/usr/bin/env python3\n",
    "import pandas as pd\n",
    "import sys\n",
    "\n",
    "input_file = sys.argv[1]\n",
    "output_file = sys.argv[2]\n",
    "\n",
    "data_frame = pd.read_csv(input_file)\n",
    "data_frame_column_by_name = data_frame.loc[:, ['Invoice Number', 'Purchase Date']]\n",
    "\n",
    "data_frame_column_by_name.to_csv(output_file, index=False)"
   ]
  },
  {
   "cell_type": "markdown",
   "metadata": {},
   "source": [
    "## 2.4 Select Contiguous Rows  "
   ]
  },
  {
   "cell_type": "markdown",
   "metadata": {},
   "source": [
    "* **python**  "
   ]
  },
  {
   "cell_type": "code",
   "execution_count": null,
   "metadata": {
    "collapsed": true
   },
   "outputs": [],
   "source": [
    "#!/usr/bin/env python3\n",
    "import csv\n",
    "import sys\n",
    "\n",
    "input_file = sys.argv[1]\n",
    "output_file = sys.argv[2]\n",
    "\n",
    "row_counter = 0\n",
    "with open(input_file, 'r', newline='') as csv_in_file:\n",
    "    with open(output_file, 'w', newline='') as csv_out_file:\n",
    "        filereader = csv.reader(csv_in_file)\n",
    "        filewriter = csv.writer(csv_out_file)\n",
    "        for row in filereader:\n",
    "            if row_counter >= 3 and row_counter <= 15:\n",
    "                filewriter.writerow([value.strip() for value in row])\n",
    "            row_counter += 1"
   ]
  },
  {
   "cell_type": "markdown",
   "metadata": {},
   "source": [
    "* **pandas**  "
   ]
  },
  {
   "cell_type": "code",
   "execution_count": null,
   "metadata": {
    "collapsed": true
   },
   "outputs": [],
   "source": [
    "#!/usr/bin/env python3\n",
    "import pandas as pd\n",
    "import sys\n",
    "\n",
    "input_file = sys.argv[1]\n",
    "output_file = sys.argv[2]\n",
    "\n",
    "data_frame = pd.read_csv(input_file, header=None)\n",
    "\n",
    "data_frame = data_frame.drop([0,1,2,16,17,18])\n",
    "data_frame.columns = data_frame.iloc[0]\n",
    "data_frame = data_frame.reindex(data_frame.index.drop(3))\n",
    "\n",
    "data_frame.to_csv(output_file, index=False)"
   ]
  },
  {
   "cell_type": "markdown",
   "metadata": {},
   "source": [
    "## 2.5 Add a Header Row  "
   ]
  },
  {
   "cell_type": "markdown",
   "metadata": {},
   "source": [
    "* **python**  "
   ]
  },
  {
   "cell_type": "code",
   "execution_count": null,
   "metadata": {
    "collapsed": true
   },
   "outputs": [],
   "source": [
    "#!/usr/bin/env python3\n",
    "import csv\n",
    "import sys\n",
    "\n",
    "input_file = sys.argv[1]\n",
    "output_file = sys.argv[2]\n",
    "\n",
    "with open(input_file, 'r', newline='') as csv_in_file:\n",
    "    with open(output_file, 'w', newline='') as csv_out_file:\n",
    "        filereader = csv.reader(csv_in_file)\n",
    "        filewriter = csv.writer(csv_out_file)\n",
    "        header_list = ['Supplier Name', 'Invoice Number', \\\n",
    "                       'Part Number', 'Cost', 'Purchase Date']\n",
    "        filewriter.writerow(header_list)\n",
    "        for row in filereader:\n",
    "            filewriter.writerow (row)"
   ]
  },
  {
   "cell_type": "markdown",
   "metadata": {},
   "source": [
    "* **pandas**  "
   ]
  },
  {
   "cell_type": "code",
   "execution_count": null,
   "metadata": {
    "collapsed": true
   },
   "outputs": [],
   "source": [
    "#!/usr/bin/env python3\n",
    "import pandas as pd\n",
    "import sys\n",
    "\n",
    "input_file = sys.argv[1]\n",
    "output_file = sys.argv[2]\n",
    "\n",
    "header_list = ['Supplier Name', 'Invoice Number', \\\n",
    "               'Part Number', 'Cost', 'Purchase Date']\n",
    "data_frame = pd.read_csv(input_file, header=None, names=header_list)\n",
    "\n",
    "data_frame.to_csv(output_file, index=False)"
   ]
  },
  {
   "cell_type": "markdown",
   "metadata": {},
   "source": [
    "## 2.6 Reading Multiple CSV Files  "
   ]
  },
  {
   "cell_type": "markdown",
   "metadata": {},
   "source": [
    "### 2.6.1 計算檔案的數量，與各個檔案內的列與欄數量"
   ]
  },
  {
   "cell_type": "code",
   "execution_count": null,
   "metadata": {
    "collapsed": true
   },
   "outputs": [],
   "source": [
    "#!/usr/bin/env python3\n",
    "import csv\n",
    "import glob\n",
    "import os\n",
    "import sys\n",
    "\n",
    "input_path = sys.argv[1]\n",
    "\n",
    "file_counter = 0\n",
    "for input_file in glob.glob(os.path.join(input_path,'sales_*')):\n",
    "    row_counter = 1\n",
    "    with open(input_file, 'r', newline='') as csv_in_file:\n",
    "        filereader = csv.reader(csv_in_file)\n",
    "        header = next(filereader)\n",
    "        for row in filereader:\n",
    "            row_counter += 1\n",
    "    print('{0!s}: \\t{1:d} rows \\t{2:d} columns'.format(os.path.basename(input_file), row_counter, len(header)))\n",
    "    file_counter += 1\n",
    "print('Number of files: {0:d}'.format(file_counter))"
   ]
  },
  {
   "cell_type": "markdown",
   "metadata": {},
   "source": [
    "## 2.7 Concatenate Data from Multiple Files  "
   ]
  },
  {
   "cell_type": "markdown",
   "metadata": {},
   "source": [
    "* **python**  "
   ]
  },
  {
   "cell_type": "code",
   "execution_count": null,
   "metadata": {
    "collapsed": true
   },
   "outputs": [],
   "source": [
    "#!/usr/bin/env python3\n",
    "import csv\n",
    "import glob\n",
    "import os\n",
    "import sys\n",
    "\n",
    "input_path = sys.argv[1]\n",
    "output_file = sys.argv[2]\n",
    "\n",
    "first_file = True\n",
    "for input_file in glob.glob(os.path.join(input_path,'sales_*')):\n",
    "    print(os.path.basename(input_file))\n",
    "    with open(input_file, 'r', newline='') as csv_in_file:\n",
    "        with open(output_file, 'a', newline='') as csv_out_file:\n",
    "            filereader = csv.reader(csv_in_file)\n",
    "            filewriter = csv.writer(csv_out_file)\n",
    "            if first_file:\n",
    "                for row in filereader:\n",
    "                    filewriter.writerow(row)\n",
    "                first_file = False\n",
    "            else:\n",
    "                header = next(filereader)\n",
    "                for row in filereader:\n",
    "                    filewriter.writerow(row)"
   ]
  },
  {
   "cell_type": "markdown",
   "metadata": {},
   "source": [
    "* **pandas**  "
   ]
  },
  {
   "cell_type": "code",
   "execution_count": null,
   "metadata": {
    "collapsed": true
   },
   "outputs": [],
   "source": [
    "```{py}\n",
    "#!/usr/bin/env python3\n",
    "import pandas as pd\n",
    "import glob\n",
    "import os\n",
    "import sys\n",
    "\n",
    "input_path = sys.argv[1]\n",
    "output_file = sys.argv[2]\n",
    "\n",
    "all_files = glob.glob(os.path.join(input_path,'sales_*'))\n",
    "\n",
    "all_data_frames = []\n",
    "for file in all_files:\n",
    "\tdata_frame = pd.read_csv(file, index_col=None)\n",
    "\tall_data_frames.append(data_frame)\n",
    "data_frame_concat = pd.concat(all_data_frames, axis=0, ignore_index=True)\n",
    "\n",
    "data_frame_concat.to_csv(output_file, index = False)\n",
    "```"
   ]
  },
  {
   "cell_type": "markdown",
   "metadata": {},
   "source": [
    "## 2.8 Sum and Average a Set of Values per File  "
   ]
  },
  {
   "cell_type": "markdown",
   "metadata": {},
   "source": [
    "* **python**  "
   ]
  },
  {
   "cell_type": "code",
   "execution_count": null,
   "metadata": {
    "collapsed": true
   },
   "outputs": [],
   "source": [
    "#!/usr/bin/env python3\n",
    "import csv\n",
    "import glob\n",
    "import os\n",
    "import string\n",
    "import sys\n",
    "\n",
    "input_path = sys.argv[1]\n",
    "output_file = sys.argv[2]\n",
    "\n",
    "output_header_list = ['file_name', 'total_cost', 'average_cost']\n",
    "\n",
    "csv_out_file = open(output_file, 'a', newline='')\n",
    "filewriter = csv.writer(csv_out_file)\n",
    "filewriter.writerow(output_header_list)\n",
    "\n",
    "for input_file in glob.glob(os.path.join(input_path,'sales_*')):\n",
    "    with open(input_file, 'r', newline='') as csv_in_file:\n",
    "        filereader = csv.reader(csv_in_file)\n",
    "        output_list = [ ]\n",
    "        output_list.append(os.path.basename(input_file))\n",
    "        header = next(filereader)\n",
    "        total_sales = 0.0\n",
    "        number_of_sales = 0.0\n",
    "        for row in filereader:\n",
    "            sale_amount = row[3]\n",
    "            total_sales += float(str(sale_amount).strip('$').replace(',',''))\n",
    "            number_of_sales += 1.0\n",
    "        average_sales = '{0:.2f}'.format(total_sales / number_of_sales)\n",
    "        output_list.append(total_sales)\n",
    "        output_list.append(average_sales)\n",
    "        filewriter.writerow(output_list)\n",
    "csv_out_file.close()"
   ]
  },
  {
   "cell_type": "markdown",
   "metadata": {},
   "source": [
    "* **pandas**  "
   ]
  },
  {
   "cell_type": "code",
   "execution_count": null,
   "metadata": {
    "collapsed": true
   },
   "outputs": [],
   "source": [
    "#!/usr/bin/env python3\n",
    "import pandas as pd\n",
    "import glob\n",
    "import os\n",
    "import sys\n",
    "\n",
    "input_path = sys.argv[1]\n",
    "output_file = sys.argv[2]\n",
    "\n",
    "all_files = glob.glob(os.path.join(input_path,'sales_*'))\n",
    "all_data_frames = []\n",
    "\n",
    "for input_file in all_files:\n",
    "    data_frame = pd.read_csv(input_file, index_col=None)\n",
    "    \n",
    "    total_sales = pd.DataFrame([float(str(value).strip('$').replace(',','')) \\\n",
    "                                for value in data_frame.loc[:, 'Sale Amount']]).sum()\n",
    "    \n",
    "    average_sales = pd.DataFrame([float(str(value).strip('$').replace(',','')) \\\n",
    "                                  for value in data_frame.loc[:, 'Sale Amount']]).mean()\n",
    "    \n",
    "    data = {'file_name': os.path.basename(input_file),\n",
    "            'total_sales': total_sales,\n",
    "            'average_sales': average_sales}\n",
    "    \n",
    "    all_data_frames.append(pd.DataFrame(data, columns=['file_name', 'total_sales', 'average_sales']))\n",
    "\n",
    "data_frames_concat = pd.concat(all_data_frames, axis=0, ignore_index=True)\n",
    "data_frames_concat.to_csv(output_file, index = False)"
   ]
  },
  {
   "cell_type": "markdown",
   "metadata": {},
   "source": [
    "## 2.9 Chapter Exercises  "
   ]
  },
  {
   "cell_type": "code",
   "execution_count": null,
   "metadata": {
    "collapsed": true
   },
   "outputs": [],
   "source": []
  }
 ],
 "metadata": {
  "kernelspec": {
   "display_name": "Python 3",
   "language": "python",
   "name": "python3"
  },
  "language_info": {
   "codemirror_mode": {
    "name": "ipython",
    "version": 3
   },
   "file_extension": ".py",
   "mimetype": "text/x-python",
   "name": "python",
   "nbconvert_exporter": "python",
   "pygments_lexer": "ipython3",
   "version": "3.6.0"
  }
 },
 "nbformat": 4,
 "nbformat_minor": 1
}
