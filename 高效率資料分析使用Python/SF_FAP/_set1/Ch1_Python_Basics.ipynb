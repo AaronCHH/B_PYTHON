{
 "cells": [
  {
   "cell_type": "markdown",
   "metadata": {
    "deletable": true,
    "editable": true
   },
   "source": [
    "# Chapter1 Python Basics"
   ]
  },
  {
   "cell_type": "markdown",
   "metadata": {
    "deletable": true,
    "editable": true
   },
   "source": [
    "<div id=\"toc\"></div>"
   ]
  },
  {
   "cell_type": "markdown",
   "metadata": {
    "deletable": true,
    "editable": true
   },
   "source": [
    "## 1.1 How to Create a Python Script  \n",
    "## 1.2 How to Run a Python Script  \n",
    "## 1.3 Useful Tips for Interacting with the Command Line "
   ]
  },
  {
   "cell_type": "code",
   "execution_count": null,
   "metadata": {
    "collapsed": true,
    "deletable": true,
    "editable": true
   },
   "outputs": [],
   "source": [
    "# Add two numbers together\n",
    "x = 4\n",
    "y = 5\n",
    "z = x + y\n",
    "print(\"Output #2: Four plus five equals {0:d}.\".format(z))\n",
    "\n",
    "# Add two lists together\n",
    "a = [1, 2, 3, 4]\n",
    "b = [\"first\", \"second\", \"third\", \"fourth\"]\n",
    "c = a + b\n",
    "print(\"Output #3: {0}, {1}, {2}\".format(a, b, c))"
   ]
  },
  {
   "cell_type": "markdown",
   "metadata": {
    "deletable": true,
    "editable": true
   },
   "source": [
    "## 1.4 Python’s Basic Building Blocks  \n",
    "\n",
    "### NUMBERS\n",
    "* **INTEGERS**"
   ]
  },
  {
   "cell_type": "code",
   "execution_count": null,
   "metadata": {
    "collapsed": true,
    "deletable": true,
    "editable": true
   },
   "outputs": [],
   "source": [
    "x = 9\n",
    "print(\"Output #4: {0}\".format(x))\n",
    "print(\"Output #5: {0}\".format(3**4))\n",
    "print(\"Output #6: {0}\".format(int(8.3)/int(2.7)))"
   ]
  },
  {
   "cell_type": "markdown",
   "metadata": {
    "deletable": true,
    "editable": true
   },
   "source": [
    "* **FLOATING-POINT NUMBERS**"
   ]
  },
  {
   "cell_type": "code",
   "execution_count": null,
   "metadata": {
    "collapsed": true,
    "deletable": true,
    "editable": true
   },
   "outputs": [],
   "source": [
    "print(\"Output #7: {0:.3f}\".format(8.3/2.7))\n",
    "y = 2.5*4.8\n",
    "print(\"Output #8: {0:.1f}\".format(y))\n",
    "r = 8/float(3)\n",
    "print(\"Output #9: {0:.2f}\".format(r))\n",
    "print(\"Output #10: {0:.4f}\".format(8.0/3))\n"
   ]
  },
  {
   "cell_type": "markdown",
   "metadata": {
    "deletable": true,
    "editable": true
   },
   "source": [
    "# Some mathematical functions available in the math module"
   ]
  },
  {
   "cell_type": "code",
   "execution_count": null,
   "metadata": {
    "collapsed": true,
    "deletable": true,
    "editable": true
   },
   "outputs": [],
   "source": [
    "print(\"Output #11: {0:.4f}\".format(exp(3)))\n",
    "print(\"Output #12: {0:.2f}\".format(log(4)))\n",
    "print(\"Output #13: {0:.1f}\".format(sqrt(81)))  "
   ]
  },
  {
   "cell_type": "markdown",
   "metadata": {
    "deletable": true,
    "editable": true
   },
   "source": [
    "### STRINGS"
   ]
  },
  {
   "cell_type": "code",
   "execution_count": null,
   "metadata": {
    "collapsed": true,
    "deletable": true,
    "editable": true
   },
   "outputs": [],
   "source": [
    "\n",
    "# A string with single quotes, so include a backslash before the single quote\n",
    "print(\"Output #14: {0:s}\".format('I\\'m enjoying learning Python'))\n"
   ]
  },
  {
   "cell_type": "code",
   "execution_count": 3,
   "metadata": {
    "collapsed": false,
    "deletable": true,
    "editable": true,
    "scrolled": false
   },
   "outputs": [
    {
     "name": "stdout",
     "output_type": "stream",
     "text": [
      "Output #15: This is a long string.  Without the backslash it would run off of the page on the right in the text editor and be very difficult to read and edit.  By using the backslash you can split the long string into smaller strings on separate lines so that the whole string is easy to view in the text editor.\n"
     ]
    }
   ],
   "source": [
    "\n",
    "# A one-line string, but if the string is long and running off the page on the right\n",
    "# you can use a \"\\\" to separate the long string into smaller strings on separate lines\n",
    "print(\"Output #15: {0:s}\".format(\"This is a long string.  Without the backslash \\\n",
    "it would run off of the page on the right in the text editor and be very \\\n",
    "difficult to read and edit.  By using the backslash you can split the long \\\n",
    "string into smaller strings on separate lines so that the whole string is easy \\\n",
    "to view in the text editor.\"))  \n"
   ]
  },
  {
   "cell_type": "code",
   "execution_count": null,
   "metadata": {
    "collapsed": true,
    "deletable": true,
    "editable": true
   },
   "outputs": [],
   "source": [
    "\n",
    "# Use triple single or double quotes if you want the string to span multiple lines\n",
    "# and you don't want to use the \"\\\"\n",
    "print(\"Output #16: {0:s}\".format('''You can use triple single quotes\n",
    "for multi-line comment strings'''))\n",
    "\n",
    "print(\"Output #17: {0:s}\".format(\"\"\"You can also use triple double quotations\n",
    "for multi-line comment strings\"\"\"))\n"
   ]
  },
  {
   "cell_type": "code",
   "execution_count": null,
   "metadata": {
    "collapsed": true,
    "deletable": true,
    "editable": true
   },
   "outputs": [],
   "source": [
    "\n",
    "# Add two strings together\n",
    "string1 = \"This is a \"\n",
    "string2 = \"short string.\"\n",
    "sentence = string1 + string2\n",
    "print(\"Output #18: {0:s}\".format(sentence))\n"
   ]
  },
  {
   "cell_type": "code",
   "execution_count": null,
   "metadata": {
    "collapsed": true,
    "deletable": true,
    "editable": true
   },
   "outputs": [],
   "source": [
    "\n",
    "# Repeat a string four times\n",
    "print(\"Output #19: {0:s} {1:s}{2:s}\".format(\"She is\", \"very \"*4, \"beautiful.\"))\n",
    "\n",
    "# Determine the number of characters in a string, including spaces and punctuation\n",
    "\n",
    "m = len(sentence)\n",
    "print(\"Output #20: {0:d}\".format(m))\n"
   ]
  },
  {
   "cell_type": "markdown",
   "metadata": {
    "deletable": true,
    "editable": true
   },
   "source": [
    "* **split()**"
   ]
  },
  {
   "cell_type": "code",
   "execution_count": null,
   "metadata": {
    "collapsed": true,
    "deletable": true,
    "editable": true
   },
   "outputs": [],
   "source": [
    "\n",
    "string1 = \"My deliverable is due in May\"\n",
    "string1_list1 = string1.split()\n",
    "string1_list2 = string1.split(\" \", 2)\n",
    "print(\"Output #21: {0}\".format(string1_list1))\n",
    "print(\"Output #22: FIRST PIECE:{0} SECOND PIECE:{1} THIRD PIECE:{2}\"\\\n",
    ".format(string1_list2[0], string1_list2[1], string1_list2[2])\n",
    "\n",
    "string2 = \"Your,deliverable,is,due,in,June\"\n",
    "string2_list = string2.split(',')\n",
    "print(\"Output #23: {0}\".format(string2_list))\n",
    "print(\"Output #24: {0} {1} {2}\".format(string2_list[1], string2_list[5], string2_list[-1]))\n"
   ]
  },
  {
   "cell_type": "markdown",
   "metadata": {
    "deletable": true,
    "editable": true
   },
   "source": [
    "* **join()**"
   ]
  },
  {
   "cell_type": "code",
   "execution_count": null,
   "metadata": {
    "collapsed": true,
    "deletable": true,
    "editable": true
   },
   "outputs": [],
   "source": [
    "print(\"Output #25: {0}\".format(','.join(string2_list)))"
   ]
  },
  {
   "cell_type": "markdown",
   "metadata": {
    "deletable": true,
    "editable": true
   },
   "source": [
    "* **strip()**"
   ]
  },
  {
   "cell_type": "code",
   "execution_count": null,
   "metadata": {
    "collapsed": true,
    "deletable": true,
    "editable": true
   },
   "outputs": [],
   "source": [
    "\n",
    "string3 = \"   Remove unwanted characters from this string\\t\\t    \\n\"\n",
    "print(\"Output #26: string3: {0:s}\".format(string3))\n",
    "string3_lstrip = string3.lstrip()\n",
    "print(\"Output #27: lstrip: {0:s}\".format(string3_lstrip))\n",
    "string3_rstrip = string3.rstrip()\n",
    "print(\"Output #28: rstrip: {0:s}\".format(string3_rstrip))\n",
    "string3_strip = string3.strip()\n",
    "print(\"Output #29: strip: {0:s}\".format(string3_strip))\n"
   ]
  },
  {
   "cell_type": "code",
   "execution_count": null,
   "metadata": {
    "collapsed": true,
    "deletable": true,
    "editable": true
   },
   "outputs": [],
   "source": [
    "\n",
    "string4 = \"$$Here's another string that has unwanted characters.__---++\"\n",
    "print(\"Output #30: {0:s}\".format(string4))\n",
    "string4 = \"$$The unwanted characters have been removed.__---++\"\n",
    "string4_strip = string4.strip('$_-+')\n",
    "print(\"Output #31: {0:s}\".format(string4_strip))\n"
   ]
  },
  {
   "cell_type": "markdown",
   "metadata": {
    "deletable": true,
    "editable": true
   },
   "source": [
    "* **replace()**"
   ]
  },
  {
   "cell_type": "code",
   "execution_count": null,
   "metadata": {
    "collapsed": true,
    "deletable": true,
    "editable": true
   },
   "outputs": [],
   "source": [
    "\n",
    "string5 = \"Let's replace the spaces in this sentence with other characters.\"\n",
    "string5_replace = string5.replace(\" \", \"!@!\")\n",
    "print(\"Output #32 (with !@!): {0:s}\".format(string5_replace))\n",
    "string5_replace = string5.replace(\" \", \",\")\n",
    "print(\"Output #33 (with commas): {0:s}\".format(string5_replace))\n"
   ]
  },
  {
   "cell_type": "markdown",
   "metadata": {
    "deletable": true,
    "editable": true
   },
   "source": [
    "* **lower(), upper(), capitalize()**"
   ]
  },
  {
   "cell_type": "code",
   "execution_count": null,
   "metadata": {
    "collapsed": true,
    "deletable": true,
    "editable": true
   },
   "outputs": [],
   "source": [
    "\n",
    "string6 = \"Here's WHAT Happens WHEN You Use lower.\"\n",
    "print(\"Output #34: {0:s}\".format(string6.lower()))\n",
    "\n",
    "string7 = \"Here's what Happens when You Use UPPER.\"\n",
    "print(\"Output #35: {0:s}\".format(string7.upper()))\n",
    "\n",
    "string8 = \"here's WHAT Happens WHEN you use Capitalize.\"\n",
    "print(\"Output #36: {0:s}\".format(string8.capitalize()))\n",
    "string8_list = string8.split()\n",
    "\n",
    "print(\"Output #37 (on each word):\")\n",
    "\n",
    "for word in string8_list:\n",
    "    print(\"{0:s}\".format(word.capitalize()))\n"
   ]
  },
  {
   "cell_type": "markdown",
   "metadata": {
    "deletable": true,
    "editable": true
   },
   "source": [
    "### REGULAR EXPRESSIONS / PATTERN MATCHING"
   ]
  },
  {
   "cell_type": "code",
   "execution_count": null,
   "metadata": {
    "collapsed": true,
    "deletable": true,
    "editable": true
   },
   "outputs": [],
   "source": [
    "# Count the number of times a pattern appears in a string\n",
    "string = \"The quick brown fox jumps over the lazy dog.\"\n",
    "string_list = string.split()\n",
    "pattern = re.compile(r\"The\", re.I)\n",
    "count = 0\n",
    "for word in string_list:\n",
    "    if pattern.search(word):\n",
    "        count += 1\n",
    "print(\"Output #38: {0:d}\".format(count))"
   ]
  },
  {
   "cell_type": "code",
   "execution_count": null,
   "metadata": {
    "collapsed": true,
    "deletable": true,
    "editable": true
   },
   "outputs": [],
   "source": [
    "# Print the pattern each time it is found in the string\n",
    "string = \"The quick brown fox jumps over the lazy dog.\"\n",
    "string_list = string.split()\n",
    "pattern = re.compile(r\"(?P<match_word>The)\", re.I)\n",
    "print(\"Output #39:\")\n",
    "for word in string_list:\n",
    "    if pattern.search(word):\n",
    "        print(\"{:s}\".format(pattern.search(word).group('match_word')))"
   ]
  },
  {
   "cell_type": "code",
   "execution_count": null,
   "metadata": {
    "collapsed": true,
    "deletable": true,
    "editable": true
   },
   "outputs": [],
   "source": [
    "\n",
    "# Substitute the letter \"a\" for the word \"the\" in the string\n",
    "string = \"The quick brown fox jumps over the lazy dog.\"\n",
    "string_to_find = r\"The\"\n",
    "pattern = re.compile(string_to_find, re.I)\n",
    "print(\"Output #40: {:s}\".format(pattern.sub(\"a\", string)))\n"
   ]
  },
  {
   "cell_type": "markdown",
   "metadata": {
    "deletable": true,
    "editable": true
   },
   "source": [
    "### DATES"
   ]
  },
  {
   "cell_type": "code",
   "execution_count": null,
   "metadata": {
    "collapsed": true,
    "deletable": true,
    "editable": true
   },
   "outputs": [],
   "source": [
    "# Print today's date, as well as the year, month, and day elements\n",
    "today = date.today()\n",
    "print(\"Output #41: today: {0!s}\".format(today))\n",
    "print(\"Output #42: {0!s}\".format(today.year))\n",
    "print(\"Output #43: {0!s}\".format(today.month))\n",
    "print(\"Output #44: {0!s}\".format(today.day))\n",
    "current_datetime = datetime.today()\n",
    "print(\"Output #45: {0!s}\".format(current_datetime))"
   ]
  },
  {
   "cell_type": "code",
   "execution_count": null,
   "metadata": {
    "collapsed": true,
    "deletable": true,
    "editable": true
   },
   "outputs": [],
   "source": [
    "\n",
    "# Calculate a new date using a timedelta\n",
    "one_day = timedelta(days=-1)\n",
    "yesterday = today + one_day\n",
    "print(\"Output #46: yesterday: {0!s}\".format(yesterday))\n",
    "eight_hours = timedelta(hours=-8)\n",
    "print(\"Output #47: {0!s} {1!s}\".format(eight_hours.days, eight_hours.seconds))\n"
   ]
  },
  {
   "cell_type": "code",
   "execution_count": null,
   "metadata": {
    "collapsed": true,
    "deletable": true,
    "editable": true
   },
   "outputs": [],
   "source": [
    " \n",
    "# Calculate the amount of time between two dates and grab the first element, the number of days\n",
    "date_diff = today - yesterday\n",
    "print(\"Output #48: {0!s}\".format(date_diff))\n",
    "print(\"Output #49: {0!s}\".format(str(date_diff).split()[0]))\n"
   ]
  },
  {
   "cell_type": "code",
   "execution_count": null,
   "metadata": {
    "collapsed": true,
    "deletable": true,
    "editable": true
   },
   "outputs": [],
   "source": [
    "\n",
    "# Create a string with a specific format from a date object\n",
    "print(\"Output #50: {:s}\".format(today.strftime('%m/%d/%Y')))\n",
    "print(\"Output #51: {:s}\".format(today.strftime('%b %d, %Y')))\n",
    "print(\"Output #52: {:s}\".format(today.strftime('%Y-%m-%d')))\n",
    "print(\"Output #53: {:s}\".format(today.strftime('%B %d, %Y')))\n",
    " "
   ]
  },
  {
   "cell_type": "code",
   "execution_count": null,
   "metadata": {
    "collapsed": true,
    "deletable": true,
    "editable": true
   },
   "outputs": [],
   "source": [
    "\n",
    "# Create a datetime object with a specific format\n",
    "# from a string representing a date\n",
    "date1 = today.strftime('%m/%d/%Y')\n",
    "date2 = today.strftime('%b %d, %Y')\n",
    "date3 = today.strftime('%Y-%m-%d')\n",
    "date4 = today.strftime('%B %d, %Y')\n"
   ]
  },
  {
   "cell_type": "code",
   "execution_count": null,
   "metadata": {
    "collapsed": true,
    "deletable": true,
    "editable": true
   },
   "outputs": [],
   "source": [
    "\n",
    "# Two datetime objects and two date objects\n",
    "# based on the four strings that have different date formats\n",
    "print(\"Output #54: {!s}\".format(datetime.strptime(date1, '%m/%d/%Y')))\n",
    "print(\"Output #55: {!s}\".format(datetime.strptime(date2, '%b %d, %Y')))\n"
   ]
  },
  {
   "cell_type": "code",
   "execution_count": null,
   "metadata": {
    "collapsed": true,
    "deletable": true,
    "editable": true
   },
   "outputs": [],
   "source": [
    "# Show the date portion only\n",
    "print(\"Output #56: {!s}\".format(datetime.date(datetime.strptime\\\n",
    "                                              (date3, '%Y-%m-%d')))\n",
    "print(\"Output #57: {!s}\".format(datetime.date(datetime.strptime\\\n",
    "                                              (date4, '%B %d, %Y')))"
   ]
  },
  {
   "cell_type": "markdown",
   "metadata": {
    "deletable": true,
    "editable": true
   },
   "source": [
    "### LISTS"
   ]
  },
  {
   "cell_type": "code",
   "execution_count": null,
   "metadata": {
    "collapsed": true,
    "deletable": true,
    "editable": true
   },
   "outputs": [],
   "source": [
    "# Use square brackets to create a list\n",
    "# len() counts the number of elements in a list\n",
    "# max() and min() find the maximum and minimum numbers in numeric lists\n",
    "# count() counts the number of times a value appears in a list\n",
    "a_list = [1, 2, 3]\n",
    "print(\"Output #58: {}\".format(a_list))\n",
    "print(\"Output #59: a_list has {} elements.\".format(len(a_list)))\n",
    "print(\"Output #60: the maximum value in a_list is {}.\".format(max(a_list)))\n",
    "print(\"Output #61: the minimum value in a_list is {}.\".format(min(a_list)))\n",
    "another_list = ['printer', 5, ['star', 'circle', 9]]\n",
    "print(\"Output #62: {}\".format(another_list))\n",
    "print(\"Output #63: another_list also has {} elements.\".format(len(another_list)))\n",
    "print(\"Output #64: 5 is in another_list {} time.\".format(another_list.count(5)))\n"
   ]
  },
  {
   "cell_type": "markdown",
   "metadata": {
    "deletable": true,
    "editable": true
   },
   "source": [
    "* **Use list indices to access specific values in a list**"
   ]
  },
  {
   "cell_type": "code",
   "execution_count": null,
   "metadata": {
    "collapsed": true,
    "deletable": true,
    "editable": true
   },
   "outputs": [],
   "source": [
    "\n",
    "# [0] is the first value; [-1] is the last value\n",
    "print(\"Output #65: {}\".format(a_list[0]))\n",
    "print(\"Output #66: {}\".format(a_list[1]))\n",
    "print(\"Output #67: {}\".format(a_list[2]))\n",
    "print(\"Output #68: {}\".format(a_list[-1]))\n",
    "print(\"Output #69: {}\".format(a_list[-2]))\n",
    "print(\"Output #70: {}\".format(a_list[-3]))\n",
    "print(\"Output #71: {}\".format(another_list[2]))\n",
    "print(\"Output #72: {}\".format(another_list[-1]))\n"
   ]
  },
  {
   "cell_type": "markdown",
   "metadata": {
    "deletable": true,
    "editable": true
   },
   "source": [
    "* **Use list slices to access a subset of list values**"
   ]
  },
  {
   "cell_type": "code",
   "execution_count": null,
   "metadata": {
    "collapsed": true,
    "deletable": true,
    "editable": true
   },
   "outputs": [],
   "source": [
    "# Do not include the starting indice to start from the beginning\n",
    "# Do not include the ending indice to go all of the way to the end\n",
    "print(\"Output #73: {}\".format(a_list[0:2]))\n",
    "print(\"Output #74: {}\".format(another_list[:2]))\n",
    "print(\"Output #75: {}\".format(a_list[1:3]))\n",
    "print(\"Output #76: {}\".format(another_list[1:]))"
   ]
  },
  {
   "cell_type": "markdown",
   "metadata": {
    "deletable": true,
    "editable": true
   },
   "source": [
    "* **Use [:] to make a copy of a list**"
   ]
  },
  {
   "cell_type": "code",
   "execution_count": null,
   "metadata": {
    "collapsed": false,
    "deletable": true,
    "editable": true
   },
   "outputs": [],
   "source": [
    "a_new_list = a_list[:]\n",
    "print(\"Output #77: {}\".format(a_new_list))"
   ]
  },
  {
   "cell_type": "markdown",
   "metadata": {
    "deletable": true,
    "editable": true
   },
   "source": [
    "* **Use + to add two or more lists together**"
   ]
  },
  {
   "cell_type": "code",
   "execution_count": null,
   "metadata": {
    "collapsed": true,
    "deletable": true,
    "editable": true
   },
   "outputs": [],
   "source": [
    "a_longer_list = a_list + another_list    # to add lists together\n",
    "print(\"Output #78: {}\".format(a_longer_list))"
   ]
  },
  {
   "cell_type": "markdown",
   "metadata": {
    "deletable": true,
    "editable": true
   },
   "source": [
    "* **Use 'in' and 'not in' to check whether specific values are or are not in a list**"
   ]
  },
  {
   "cell_type": "code",
   "execution_count": null,
   "metadata": {
    "collapsed": true,
    "deletable": true,
    "editable": true
   },
   "outputs": [],
   "source": [
    "a = 2 in a_list\n",
    "print(\"Output #79: {}\".format(a))\n",
    "if 2 in a_list:\n",
    "    print(\"Output #80: 2 is in {}.\".format(a_list))\n",
    "b = 6 not in a_list\n",
    "print(\"Output #81: {}\".format(b))\n",
    "if 6 not in a_list:\n",
    "    print(\"Output #82: 6is not in {}.\".format(a_list))"
   ]
  },
  {
   "cell_type": "markdown",
   "metadata": {
    "deletable": true,
    "editable": true
   },
   "source": [
    "* **append, remove, pop**"
   ]
  },
  {
   "cell_type": "code",
   "execution_count": null,
   "metadata": {
    "collapsed": true,
    "deletable": true,
    "editable": true
   },
   "outputs": [],
   "source": [
    "\n",
    "# Use append() to add additional values to the end of the list**  \n",
    "# Use remove() to remove specific values from the list\n",
    "# Use pop() to remove values from the end of the list\n",
    "a_list.append(4)\n",
    "a_list.append(5)\n",
    "a_list.append(6)\n",
    "print(\"Output #83: {}\".format(a_list))\n",
    "a_list.remove(5)\n",
    "print(\"Output #84: {}\".format(a_list))\n",
    "a_list.pop()\n",
    "a_list.pop()\n",
    "print(\"Output #85: {}\".format(a_list))\n"
   ]
  },
  {
   "cell_type": "markdown",
   "metadata": {
    "deletable": true,
    "editable": true
   },
   "source": [
    "* **reverse()**"
   ]
  },
  {
   "cell_type": "code",
   "execution_count": null,
   "metadata": {
    "collapsed": true,
    "deletable": true,
    "editable": true
   },
   "outputs": [],
   "source": [
    "\n",
    "# Use reverse() to reverse a list, in-place, meaning it changes the list\n",
    "# To reverse a list without changing the original list, make a copy first\n",
    "a_list.reverse()\n",
    "print(\"Output #86: {}\".format(a_list))\n",
    "a_list_copy = a_list[:]\n",
    "a_list_copy.reverse()\n",
    "print(\"Output #87: {}\".format(a_list_copy))\n"
   ]
  },
  {
   "cell_type": "markdown",
   "metadata": {
    "deletable": true,
    "editable": true
   },
   "source": [
    "* **sort()**"
   ]
  },
  {
   "cell_type": "code",
   "execution_count": null,
   "metadata": {
    "collapsed": true,
    "deletable": true,
    "editable": true
   },
   "outputs": [],
   "source": [
    "\n",
    "# Use sort() to sort a list, in-place, meaning it changes the list\n",
    "# To sort a list without changing the original list, make a copy first\n",
    "unordered_list = [3, 5, 1, 7, 2, 8, 4, 9, 0, 6]\n",
    "print(\"Output #88: {}\".format(unordered_list))\n",
    "list_copy = unordered_list[:]\n",
    "list_copy.sort()\n",
    "print(\"Output #89: {}\".format(list_copy))\n",
    "print(\"Output #90: {}\".format(unordered_list))\n"
   ]
  },
  {
   "cell_type": "markdown",
   "metadata": {
    "deletable": true,
    "editable": true
   },
   "source": [
    "* **sorted()**"
   ]
  },
  {
   "cell_type": "code",
   "execution_count": null,
   "metadata": {
    "collapsed": true,
    "deletable": true,
    "editable": true
   },
   "outputs": [],
   "source": [
    "\n",
    "# Use sorted() to sort a collection of lists by a position in the lists\n",
    "my_lists = [[1,2,3,4], [4,3,2,1], [2,4,1,3]]\n",
    "my_lists_sorted_by_index_3 = sorted(my_lists, key=lambda index_value: index_value[3])\n",
    "print(\"Output #91: {}\".format(my_lists_sorted_by_index_3))\n"
   ]
  },
  {
   "cell_type": "code",
   "execution_count": null,
   "metadata": {
    "collapsed": true,
    "deletable": true,
    "editable": true
   },
   "outputs": [],
   "source": [
    "\n",
    "# Use itemgetter() to sort a collection of lists by two index positions\n",
    "my_lists = [[123,2,2,444], [22,6,6,444], [354,4,4,678], [236,5,5,678], \\\n",
    "            [578,1,1,290], [461,1,1,290]]\n",
    "my_lists_sorted_by_index_3_and_0 = sorted(my_lists, key=itemgetter(3,0))\n",
    "print(\"Output #92: {}\".format(my_lists_sorted_by_index_3_and_0))\n"
   ]
  },
  {
   "cell_type": "markdown",
   "metadata": {
    "deletable": true,
    "editable": true
   },
   "source": [
    "### TUPLES\n",
    "* **建立tuple**"
   ]
  },
  {
   "cell_type": "code",
   "execution_count": 5,
   "metadata": {
    "collapsed": false,
    "deletable": true,
    "editable": true
   },
   "outputs": [
    {
     "name": "stdout",
     "output_type": "stream",
     "text": [
      "Output #93: ('x', 'y', 'z')\n",
      "Output #94: my_tuple has 3 elements\n",
      "Output #95: y\n",
      "Output #96: ('x', 'y', 'z', 'x', 'y', 'z')\n"
     ]
    }
   ],
   "source": [
    "\n",
    "# Use parentheses to create a tuple\n",
    "my_tuple = ('x', 'y', 'z')\n",
    "print(\"Output #93: {}\".format(my_tuple))\n",
    "print(\"Output #94: my_tuple has {} elements\".format(len(my_tuple)))\n",
    "print(\"Output #95: {}\".format(my_tuple[1]))\n",
    "longer_tuple = my_tuple + my_tuple\n",
    "print(\"Output #96: {}\".format(longer_tuple))\n"
   ]
  },
  {
   "cell_type": "markdown",
   "metadata": {
    "deletable": true,
    "editable": true
   },
   "source": [
    "* **拆解tuple**"
   ]
  },
  {
   "cell_type": "code",
   "execution_count": null,
   "metadata": {
    "collapsed": true,
    "deletable": true,
    "editable": true
   },
   "outputs": [],
   "source": [
    "\n",
    "# Unpack tuples with the left-hand side of an assignment operator\n",
    "one, two, three = my_tuple\n",
    "print(\"Output #97: {0} {1} {2}\".format(one, two, three))\n",
    "var1 = 'red'\n",
    "var2 = 'robin'\n",
    "print(\"Output #98: {} {}\".format(var1, var2))\n",
    "# Swap values between variables\n",
    "var1, var2 = var2, var1\n",
    "print(\"Output #99: {} {}\".format(var1, var2))\n"
   ]
  },
  {
   "cell_type": "markdown",
   "metadata": {
    "deletable": true,
    "editable": true
   },
   "source": [
    "* **將tuple變成串列(or reverse)**"
   ]
  },
  {
   "cell_type": "code",
   "execution_count": 6,
   "metadata": {
    "collapsed": false,
    "deletable": true,
    "editable": true
   },
   "outputs": [
    {
     "name": "stdout",
     "output_type": "stream",
     "text": [
      "Output #100: (1, 2, 3)\n",
      "Output #101: ['x', 'y', 'z']\n"
     ]
    }
   ],
   "source": [
    "# Convert tuples to lists and lists to tuples\n",
    "my_list = [1, 2, 3]\n",
    "my_tuple = ('x', 'y', 'z')\n",
    "print(\"Output #100: {}\".format(tuple(my_list)))\n",
    "print(\"Output #101: {}\".format(list(my_tuple)))\n"
   ]
  },
  {
   "cell_type": "markdown",
   "metadata": {
    "deletable": true,
    "editable": true
   },
   "source": [
    "### DICTIONARIES\n",
    "* **建立字典**"
   ]
  },
  {
   "cell_type": "code",
   "execution_count": null,
   "metadata": {
    "collapsed": true,
    "deletable": true,
    "editable": true
   },
   "outputs": [],
   "source": [
    "# Use curly braces to create a dictionary\n",
    "# Use a colon between keys and values in each pair\n",
    "# len() counts the number of key-value pairs in a dictionary\n",
    "empty_dict = { }\n",
    "a_dict = {'one':1, 'two':2, 'three':3}\n",
    "\n",
    "print(\"Output #102: {}\".format(a_dict))\n",
    "print(\"Output #103: a_dict has {!s} elements\".format(len(a_dict)))\n",
    "another_dict = {'x':'printer', 'y':5, 'z':['star', 'circle', 9]}\n",
    "print(\"Output #104: {}\".format(another_dict))\n",
    "print(\"Output #105: another_dict also has {!s} elements\"\\\n",
    ".format(len(another_dict)))\n"
   ]
  },
  {
   "cell_type": "markdown",
   "metadata": {
    "deletable": true,
    "editable": true
   },
   "source": [
    "* **取字典中的值**"
   ]
  },
  {
   "cell_type": "code",
   "execution_count": null,
   "metadata": {
    "collapsed": true,
    "deletable": true,
    "editable": true
   },
   "outputs": [],
   "source": [
    "\n",
    "# Use keys to access specific values in a dictionary\n",
    "print(\"Output #106: {}\".format(a_dict['two']))\n",
    "print(\"Output #107: {}\".format(another_dict['z']))\n"
   ]
  },
  {
   "cell_type": "markdown",
   "metadata": {
    "deletable": true,
    "editable": true
   },
   "source": [
    "* **copy**"
   ]
  },
  {
   "cell_type": "code",
   "execution_count": null,
   "metadata": {
    "collapsed": true,
    "deletable": true,
    "editable": true
   },
   "outputs": [],
   "source": [
    "\n",
    "# Use copy() to make a copy of a dictionary\n",
    "a_new_dict = a_dict.copy()\n",
    "print(\"Output #108: {}\".format(a_new_dict))\n"
   ]
  },
  {
   "cell_type": "markdown",
   "metadata": {
    "deletable": true,
    "editable": true
   },
   "source": [
    "* **鍵、值與項目**"
   ]
  },
  {
   "cell_type": "code",
   "execution_count": null,
   "metadata": {
    "collapsed": true,
    "deletable": true,
    "editable": true
   },
   "outputs": [],
   "source": [
    "\n",
    "# Use keys(), values(), and items() to access\n",
    "# a dictionary's keys, values, and key-value pairs, respectively\n",
    "print(\"Output #109: {}\".format(a_dict.keys()))\n",
    "a_dict_keys = a_dict.keys()\n",
    "print(\"Output #110: {}\".format(a_dict_keys))\n",
    "print(\"Output #111: {}\".format(a_dict.values()))\n",
    "print(\"Output #112: {}\".format(a_dict.items()))\n"
   ]
  },
  {
   "cell_type": "markdown",
   "metadata": {
    "deletable": true,
    "editable": true
   },
   "source": [
    "* **使用in, not in 與 get**"
   ]
  },
  {
   "cell_type": "code",
   "execution_count": null,
   "metadata": {
    "collapsed": true,
    "deletable": true,
    "editable": true
   },
   "outputs": [],
   "source": [
    "# Use in, not in, and get to test\n",
    "# whether a key is in a dictionary\n",
    "if 'y' in another_dict:\n",
    "    print(\"Output #114: y is a key in another_dict: {}.\"\\\n",
    "          .format(another_dict.keys()))\n",
    "\n",
    "if 'c' not in another_dict:\n",
    "    print(\"Output #115: c is not a key in another_dict: {}.\"\\\n",
    "          .format(another_dict.keys()))\n",
    "\n",
    "print(\"Output #116: {!s}\".format(a_dict.get('three')))\n",
    "print(\"Output #117: {!s}\".format(a_dict.get('four')))\n",
    "print(\"Output #118: {!s}\".format(a_dict.get('four', 'Not in dict')))\n"
   ]
  },
  {
   "cell_type": "markdown",
   "metadata": {
    "deletable": true,
    "editable": true
   },
   "source": [
    "* **排序**"
   ]
  },
  {
   "cell_type": "code",
   "execution_count": null,
   "metadata": {
    "collapsed": true,
    "deletable": true,
    "editable": true
   },
   "outputs": [],
   "source": [
    "# Use sorted() to sort a dictionary\n",
    "# To sort a dictionary without changing the original dictionary,\n",
    "# make a copy first\n",
    "print(\"Output #119: \" + str(a_dict)\n",
    "dict_copy = a_dict.copy()\n",
    "ordered_dict1 = sorted(dict_copy.items(), key=lambda item: item[0])\n",
    "print(\"Output #120 (order by keys): {}\".format(ordered_dict1))\n",
    "ordered_dict2 = sorted(dict_copy.items(), key=lambda item: item[1])\n",
    "print(\"Output #121 (order by values): {}\".format(ordered_dict2))\n",
    "ordered_dict3 = sorted(dict_copy.items(), key=lambda x: x[1], reverse=True)\n",
    "print(\"Output #122 (order by values, descending): {}\".format(ordered_dict3))\n",
    "ordered_dict4 = sorted(dict_copy.items(), key=lambda x: x[1], reverse=False)\n",
    "print(\"Output #123 (order by values, ascending): {}\".format(ordered_dict4))\n"
   ]
  },
  {
   "cell_type": "markdown",
   "metadata": {
    "deletable": true,
    "editable": true
   },
   "source": [
    "## 1.5 Reading a Text File  \n",
    "### 1.5.1 建立文字檔"
   ]
  },
  {
   "cell_type": "code",
   "execution_count": null,
   "metadata": {
    "collapsed": true,
    "deletable": true,
    "editable": true
   },
   "outputs": [],
   "source": [
    "from math import exp, log, sqrt\n",
    "import re\n",
    "from datetime import date, time, datetime, timedelta\n",
    "form operator import itemgetter\n",
    "import sys"
   ]
  },
  {
   "cell_type": "code",
   "execution_count": null,
   "metadata": {
    "collapsed": true,
    "deletable": true,
    "editable": true
   },
   "outputs": [],
   "source": [
    "\n",
    "# READ A FILE\n",
    "# Read a single text file\n",
    "input_file = sys.argv[1]\n",
    "\n",
    "print(\"Output #143:\")\n",
    "filereader = open(input_file, 'r')\n",
    "for row in filereader:\n",
    "  print row.strip()\n",
    "filereader.close()  \n"
   ]
  },
  {
   "cell_type": "code",
   "execution_count": null,
   "metadata": {
    "collapsed": true,
    "deletable": true,
    "editable": true
   },
   "outputs": [],
   "source": [
    "python first_script.py file_to_read.txt"
   ]
  },
  {
   "cell_type": "markdown",
   "metadata": {
    "deletable": true,
    "editable": true
   },
   "source": [
    "### 1.5.2 將腳本與輸入檔案放在同一個地方"
   ]
  },
  {
   "cell_type": "markdown",
   "metadata": {
    "deletable": true,
    "editable": true
   },
   "source": [
    "### 1.5.3 現代檔案讀取語法"
   ]
  },
  {
   "cell_type": "code",
   "execution_count": null,
   "metadata": {
    "collapsed": true,
    "deletable": true,
    "editable": true
   },
   "outputs": [],
   "source": [
    "input_file = sys.argv[1]\n",
    "print('Output #144:')\n",
    "with open(input_file, 'r', newline='') as filereader:\n",
    "    for row in filereader:\n",
    "        print(\"{}\".format(row.strip()))"
   ]
  },
  {
   "cell_type": "markdown",
   "metadata": {
    "deletable": true,
    "editable": true
   },
   "source": [
    "## 1.6 Reading Multiple Text Files with glob  "
   ]
  },
  {
   "cell_type": "code",
   "execution_count": null,
   "metadata": {
    "collapsed": true,
    "deletable": true,
    "editable": true
   },
   "outputs": [],
   "source": [
    "#!/usr/bin/env python3\n",
    "from math import exp, log, sqrt\n",
    "import re\n",
    "from datetime import date, time, datetime, timedelta\n",
    "from operator import itemgetter\n",
    "import sys\n",
    "import glob\n",
    "import os"
   ]
  },
  {
   "cell_type": "markdown",
   "metadata": {
    "deletable": true,
    "editable": true
   },
   "source": [
    "### 1.6.1 建立另一個文字檔"
   ]
  },
  {
   "cell_type": "code",
   "execution_count": null,
   "metadata": {
    "collapsed": true,
    "deletable": true,
    "editable": true
   },
   "outputs": [],
   "source": [
    "print(\"Output #145:\")\n",
    "\n",
    "inputPath = sys.argv[1]\n",
    "\n",
    "for input_file in glob.glob(os.path.join(inputPath,'*.txt')):\n",
    "    with open(input_file, 'r', newline='') as filereader:\n",
    "        for row in filereader:\n",
    "            print(\"{}\".format(row.strip()))"
   ]
  },
  {
   "cell_type": "markdown",
   "metadata": {
    "deletable": true,
    "editable": true
   },
   "source": [
    "python readfile145.py ./"
   ]
  },
  {
   "cell_type": "markdown",
   "metadata": {
    "deletable": true,
    "editable": true
   },
   "source": [
    "## 1.7 Writing to a Text File  \n",
    "### 1.7.1 在first_script.py裡面加入程式"
   ]
  },
  {
   "cell_type": "code",
   "execution_count": null,
   "metadata": {
    "collapsed": true,
    "deletable": true,
    "editable": true
   },
   "outputs": [],
   "source": [
    "# WRITE TO A FILE\n",
    "# Write to a text file\n",
    "my_letters = ['a', 'b', 'c', 'd', 'e', 'f', 'g', 'h', 'i', 'j']\n",
    "max_index = len(my_letters)\n",
    "output_file = sys.argv[1]\n",
    "filewriter = open(output_file, 'w')\n",
    "for index_value in range(len(my_letters)):\n",
    "    if index_value < (max_index-1):\n",
    "        filewriter.write(my_letters[index_value]+'\\t')\n",
    "    else:\n",
    "        filewriter.write(my_letters[index_value]+'\\n')\n",
    "filewriter.close()\n",
    "print(\"Output #144: Output written to file\")\n"
   ]
  },
  {
   "cell_type": "markdown",
   "metadata": {
    "deletable": true,
    "editable": true
   },
   "source": [
    "### 1.7.2 寫至一個以逗號分隔值(CSV)的檔案"
   ]
  },
  {
   "cell_type": "code",
   "execution_count": null,
   "metadata": {
    "collapsed": true,
    "deletable": true,
    "editable": true
   },
   "outputs": [],
   "source": [
    "# Write to a CSV file\n",
    "#my_numbers = [0, 1, 2, 3, 4, 5, 6, 7, 8, 9]\n",
    "max_index = len(my_numbers)\n",
    "output_file = sys.argv[1]\n",
    "filewriter = open(output_file, 'a')\n",
    "for index_value in range(len(my_numbers)):\n",
    "    if index_value < (max_index-1):\n",
    "        filewriter.write(str(my_numbers[index_value])+',')\n",
    "    else:\n",
    "        filewriter.write(str(my_numbers[index_value])+'\\n')\n",
    "filewriter.close()\n",
    "print(\"Output #145: Output appended to file\")"
   ]
  },
  {
   "cell_type": "markdown",
   "metadata": {
    "deletable": true,
    "editable": true
   },
   "source": [
    "## 1.8 print Statements  \n",
    "\n",
    "## 1.9 Chapter Exercises  "
   ]
  },
  {
   "cell_type": "code",
   "execution_count": null,
   "metadata": {
    "collapsed": true,
    "deletable": true,
    "editable": true
   },
   "outputs": [],
   "source": []
  }
 ],
 "metadata": {
  "kernelspec": {
   "display_name": "Python 3",
   "language": "python",
   "name": "python3"
  },
  "language_info": {
   "codemirror_mode": {
    "name": "ipython",
    "version": 3
   },
   "file_extension": ".py",
   "mimetype": "text/x-python",
   "name": "python",
   "nbconvert_exporter": "python",
   "pygments_lexer": "ipython3",
   "version": "3.6.0"
  }
 },
 "nbformat": 4,
 "nbformat_minor": 1
}
