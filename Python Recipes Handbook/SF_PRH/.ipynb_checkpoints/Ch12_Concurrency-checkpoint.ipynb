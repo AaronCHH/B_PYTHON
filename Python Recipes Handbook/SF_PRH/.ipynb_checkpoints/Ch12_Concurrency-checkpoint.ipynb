{
 "cells": [
  {
   "cell_type": "markdown",
   "metadata": {},
   "source": [
    "# Chapter 12: Concurrency"
   ]
  },
  {
   "cell_type": "markdown",
   "metadata": {},
   "source": [
    "<div id=\"toc\"></div>"
   ]
  },
  {
   "cell_type": "markdown",
   "metadata": {},
   "source": [
    "## 12-1. Creating a Thread\n",
    "* Problem  \n",
    "* Solution  \n",
    "* How It Works  "
   ]
  },
  {
   "cell_type": "code",
   "execution_count": 1,
   "metadata": {
    "collapsed": false
   },
   "outputs": [
    {
     "name": "stdout",
     "output_type": "stream",
     "text": [
      "The sum of 1 and 2 is 3\n"
     ]
    }
   ],
   "source": [
    "import threading\n",
    "def print_sum():\n",
    "    print('The sum of 1 and 2 is 3')\n",
    "my_thread = threading.Thread(target=print_sum)\n",
    "my_thread.start()"
   ]
  },
  {
   "cell_type": "markdown",
   "metadata": {},
   "source": [
    "## 12-2. Using Locks\n",
    "* Problem  \n",
    "* Solution  \n",
    "* How It Works  "
   ]
  },
  {
   "cell_type": "code",
   "execution_count": 4,
   "metadata": {
    "collapsed": false
   },
   "outputs": [],
   "source": [
    "import threading\n",
    "sum = 0\n",
    "my_lock = threading.Lock()\n",
    "def adder():\n",
    "    global sum, my_lock\n",
    "    my_lock.acquire()\n",
    "    sum = sum + 1\n",
    "    my_lock.release()\n",
    "my_thread = threading.Thread(target=adder)\n",
    "my_thread.start()"
   ]
  },
  {
   "cell_type": "markdown",
   "metadata": {},
   "source": [
    "## 12-3. Setting a Barrier\n",
    "* Problem  \n",
    "* Solution  \n",
    "* How It Works  "
   ]
  },
  {
   "cell_type": "code",
   "execution_count": 5,
   "metadata": {
    "collapsed": true
   },
   "outputs": [],
   "source": [
    "import threading\n",
    "b = threading.Barrier(5, timeout=10)"
   ]
  },
  {
   "cell_type": "markdown",
   "metadata": {},
   "source": [
    "## 12-4. Creating a Process\n",
    "* Problem  \n",
    "* Solution  \n",
    "* How It Works  "
   ]
  },
  {
   "cell_type": "code",
   "execution_count": 6,
   "metadata": {
    "collapsed": true
   },
   "outputs": [],
   "source": [
    "import multiprocessing\n",
    "def adder(a, b):\n",
    "    return a+b\n",
    "proc1 = multiprocessing.Process(target=adder, args=(2,2))\n",
    "proc1.start()\n",
    "proc1.join()"
   ]
  },
  {
   "cell_type": "markdown",
   "metadata": {},
   "source": [
    "## 12-5. Communicating Between Processes\n",
    "* Problem  \n",
    "* Solution  \n",
    "* How It Works  "
   ]
  },
  {
   "cell_type": "code",
   "execution_count": null,
   "metadata": {
    "collapsed": true
   },
   "outputs": [],
   "source": [
    "import multiprocessing\n",
    "def func(pipe_end):\n",
    "    pipe_end.send(['hello', 'world'])\n",
    "    pipe_end.close()\n",
    "parent_end, child_end = multiprocessing.Pipe()\n",
    "proc1 = multiprocessing.Process(target=func, args=(child_end,))\n",
    "proc1.start()\n",
    "print(parent_end.recv())\n",
    "proc1.join()"
   ]
  },
  {
   "cell_type": "code",
   "execution_count": null,
   "metadata": {
    "collapsed": false
   },
   "outputs": [],
   "source": [
    "import multiprocessing\n",
    "\n",
    "def func(queue1):\n",
    "    queue1.put(['hello', 'world'])\n",
    "    \n",
    "my_queue = multiprocessing.Queue()\n",
    "proc1 = multiprocessing.Process(target=func, args=(my_queue,))\n",
    "proc1.start()\n",
    "print(my_queue.get())\n",
    "proc1.join()    "
   ]
  },
  {
   "cell_type": "markdown",
   "metadata": {},
   "source": [
    "## 12-6. Creating a Pool of Workers\n",
    "* Problem  \n",
    "* Solution  \n",
    "* How It Works  "
   ]
  },
  {
   "cell_type": "code",
   "execution_count": 1,
   "metadata": {
    "collapsed": true
   },
   "outputs": [],
   "source": [
    "import multiprocessing\n",
    "def adder(a):\n",
    "    return a+a\n",
    "pool1 = multiprocessing.Pool(processes=4)"
   ]
  },
  {
   "cell_type": "code",
   "execution_count": null,
   "metadata": {
    "collapsed": true
   },
   "outputs": [],
   "source": [
    "# This method blocks untill all processes return\n",
    "pool1.map(adder, range(10))\n",
    "# This method returns a result object\n",
    "results = pool1.map_async(adder, range(10))\n",
    "results.wait()"
   ]
  },
  {
   "cell_type": "markdown",
   "metadata": {},
   "source": [
    "## 12-7. Creating a Subprocess\n",
    "* Problem  \n",
    "* Solution  \n",
    "* How It Works  "
   ]
  },
  {
   "cell_type": "code",
   "execution_count": null,
   "metadata": {
    "collapsed": true
   },
   "outputs": [],
   "source": [
    "import subprocess\n",
    "results = subprocess.run(['ls', '-l'], stdout=subprocess.PIPE)\n",
    "print(results.stdout)"
   ]
  },
  {
   "cell_type": "markdown",
   "metadata": {},
   "source": [
    "## 12-8. Scheduling Events\n",
    "* Problem  \n",
    "* Solution  \n",
    "* How It Works  "
   ]
  },
  {
   "cell_type": "code",
   "execution_count": null,
   "metadata": {
    "collapsed": true
   },
   "outputs": [],
   "source": [
    "import sched, time\n",
    "def print_time():\n",
    "    print(time.time())\n",
    "my_sched = sched.scheduler()\n",
    "my_sched.enter(10, 1, print_time)"
   ]
  }
 ],
 "metadata": {
  "kernelspec": {
   "display_name": "Python 3",
   "language": "python",
   "name": "python3"
  },
  "language_info": {
   "codemirror_mode": {
    "name": "ipython",
    "version": 3
   },
   "file_extension": ".py",
   "mimetype": "text/x-python",
   "name": "python",
   "nbconvert_exporter": "python",
   "pygments_lexer": "ipython3",
   "version": "3.6.0"
  }
 },
 "nbformat": 4,
 "nbformat_minor": 1
}
