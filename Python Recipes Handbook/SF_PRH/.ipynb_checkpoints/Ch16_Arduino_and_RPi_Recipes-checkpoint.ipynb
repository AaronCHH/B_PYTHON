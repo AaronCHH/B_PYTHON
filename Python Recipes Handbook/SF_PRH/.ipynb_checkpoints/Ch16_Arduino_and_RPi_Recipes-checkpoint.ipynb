{
 "cells": [
  {
   "cell_type": "markdown",
   "metadata": {},
   "source": [
    "# Chapter 16: Arduino and RPi Recipes"
   ]
  },
  {
   "cell_type": "markdown",
   "metadata": {},
   "source": [
    "<div id=\"toc\"></div>"
   ]
  },
  {
   "cell_type": "markdown",
   "metadata": {},
   "source": [
    "## 16-1. Sending Data to an Arduino\n",
    "* Problem  \n",
    "* Solution  \n",
    "* How It Works  "
   ]
  },
  {
   "cell_type": "code",
   "execution_count": null,
   "metadata": {
    "collapsed": true
   },
   "outputs": [],
   "source": [
    "pip install --user pyserial"
   ]
  },
  {
   "cell_type": "code",
   "execution_count": null,
   "metadata": {
    "collapsed": true
   },
   "outputs": [],
   "source": [
    "import serial\n",
    "ser = serial.Serial('/dev/tty.usbserial', 9600)\n",
    "ser.write(b'5')"
   ]
  },
  {
   "cell_type": "markdown",
   "metadata": {},
   "source": [
    "## 16-2. Reading Data from an Arduino\n",
    "* Problem  \n",
    "* Solution  \n",
    "* How It Works  "
   ]
  },
  {
   "cell_type": "code",
   "execution_count": null,
   "metadata": {
    "collapsed": true
   },
   "outputs": [],
   "source": [
    "import serial\n",
    "ser = serial.Serial('/dev/tty.usbserial', 9600)\n",
    "data = ser.readline()"
   ]
  },
  {
   "cell_type": "markdown",
   "metadata": {},
   "source": [
    "## 16-3. Writing to the Raspberry Pi’s GPIO Bus\n",
    "* Problem  \n",
    "* Solution  \n",
    "* How It Works  "
   ]
  },
  {
   "cell_type": "code",
   "execution_count": null,
   "metadata": {
    "collapsed": true
   },
   "outputs": [],
   "source": [
    "sudo apt-get install python-dev python-rpi.gpio"
   ]
  },
  {
   "cell_type": "code",
   "execution_count": null,
   "metadata": {
    "collapsed": true
   },
   "outputs": [],
   "source": [
    "import RPi.GPIO as GPIO\n",
    "GPIO.setmode(GPIO.BOARD)\n",
    "GPIO.setup(1, GPIO.OUT, initial=GPIO.LOW)\n",
    "GPIO.output(1, GPIO.HIGH)"
   ]
  },
  {
   "cell_type": "markdown",
   "metadata": {},
   "source": [
    "## 16-4. Reading from the Raspberry Pi’s GPIO Bus\n",
    "* Problem  \n",
    "* Solution  \n",
    "* How It Works  "
   ]
  },
  {
   "cell_type": "code",
   "execution_count": null,
   "metadata": {
    "collapsed": true
   },
   "outputs": [],
   "source": [
    "import RPi.GPIO asGPIO\n",
    "GPIO.setup(1, GPIO.IN)\n",
    "if GPIO.input(1):\n",
    "    print('Input was HIGH')\n",
    "else:\n",
    "    print('Input was LOW')"
   ]
  }
 ],
 "metadata": {
  "kernelspec": {
   "display_name": "Python 3",
   "language": "python",
   "name": "python3"
  },
  "language_info": {
   "codemirror_mode": {
    "name": "ipython",
    "version": 3
   },
   "file_extension": ".py",
   "mimetype": "text/x-python",
   "name": "python",
   "nbconvert_exporter": "python",
   "pygments_lexer": "ipython3",
   "version": "3.6.0"
  }
 },
 "nbformat": 4,
 "nbformat_minor": 1
}
