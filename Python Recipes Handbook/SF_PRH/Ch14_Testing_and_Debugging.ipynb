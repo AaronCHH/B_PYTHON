{
 "cells": [
  {
   "cell_type": "markdown",
   "metadata": {},
   "source": [
    "# Chapter 14: Testing and Debugging"
   ]
  },
  {
   "cell_type": "markdown",
   "metadata": {},
   "source": [
    "<div id=\"toc\"></div>"
   ]
  },
  {
   "cell_type": "markdown",
   "metadata": {},
   "source": [
    "## 14-1. Timing a Section of Code\n",
    "* Problem  \n",
    "* Solution  \n",
    "* How It Works  "
   ]
  },
  {
   "cell_type": "code",
   "execution_count": null,
   "metadata": {
    "collapsed": true
   },
   "outputs": [],
   "source": [
    "python -m timeit 'print(42)'"
   ]
  },
  {
   "cell_type": "code",
   "execution_count": null,
   "metadata": {
    "collapsed": true
   },
   "outputs": [],
   "source": [
    "import timeit\n",
    "timeit.timeit('42*42', number=1000)"
   ]
  },
  {
   "cell_type": "markdown",
   "metadata": {},
   "source": [
    "## 14-2. Profiling Code\n",
    "* Problem  \n",
    "* Solution  \n",
    "* How It Works  "
   ]
  },
  {
   "cell_type": "code",
   "execution_count": null,
   "metadata": {
    "collapsed": true
   },
   "outputs": [],
   "source": [
    "def my_func():\n",
    "    return 42\n",
    "\n",
    "import profile\n",
    "profile.run('my_func')"
   ]
  },
  {
   "cell_type": "code",
   "execution_count": null,
   "metadata": {
    "collapsed": true
   },
   "outputs": [],
   "source": [
    "python -m profile -o myscript.out myscript.py"
   ]
  },
  {
   "cell_type": "code",
   "execution_count": null,
   "metadata": {
    "collapsed": true
   },
   "outputs": [],
   "source": [
    "import pstats\n",
    "p = pstats.Stats('myscript.out')\n",
    "p.print_stats()"
   ]
  },
  {
   "cell_type": "markdown",
   "metadata": {},
   "source": [
    "## 14-3. Tracing Subroutines\n",
    "* Problem  \n",
    "* Solution  \n",
    "* How It Works  "
   ]
  },
  {
   "cell_type": "code",
   "execution_count": null,
   "metadata": {
    "collapsed": true
   },
   "outputs": [],
   "source": [
    "python -m trace --trace myscript.py"
   ]
  },
  {
   "cell_type": "code",
   "execution_count": 1,
   "metadata": {
    "collapsed": false
   },
   "outputs": [
    {
     "name": "stdout",
     "output_type": "stream",
     "text": [
      " --- modulename: iostream, funcname: write\n",
      "iostream.py(362):         if self.pub_thread is None:\n",
      "iostream.py(366):             if not isinstance(string, unicode_type):\n",
      "iostream.py(369):             is_child = (not self._is_master_process())\n",
      " --- modulename: iostream, funcname: _is_master_process\n",
      "iostream.py(286):         return os.getpid() == self._master_pid\n",
      "iostream.py(371):             self.pub_thread.schedule(lambda : self._buffer.write(string))\n",
      " --- modulename: iostream, funcname: schedule\n",
      "iostream.py(185):         if self.thread.is_alive():\n",
      " --- modulename: threading, funcname: is_alive\n",
      "threading.py(1112):         assert self._initialized, \"Thread.__init__() not called\"\n",
      "threading.py(1113):         if self._is_stopped or not self._started.is_set():\n",
      " --- modulename: threading, funcname: is_set\n",
      "threading.py(508):         return self._flag\n",
      "threading.py(1115):         self._wait_for_tstate_lock(False)\n",
      " --- modulename: threading, funcname: _wait_for_tstate_lock\n",
      "threading.py(1069):         lock = self._tstate_lock\n",
      "threading.py(1070):         if lock is None:  # already determined that the C code is done\n",
      "threading.py(1072):         elif lock.acquire(block, timeout):\n",
      "threading.py(1116):         return not self._is_stopped\n",
      "iostream.py(186):             event_id = os.urandom(16)\n",
      "iostream.py(187):             while event_id in self._events:\n",
      "iostream.py(189):             self._events[event_id] = f\n",
      "iostream.py(190):             self._event_pipe.send(event_id)\n",
      " --- modulename: iostream, funcname: _event_pipe\n",
      "iostream.py(92):         try:\n",
      "iostream.py(93):             event_pipe = self._local.event_pipe\n",
      "iostream.py(101):         return event_pipe\n",
      "Hello Worldiostream.py(372):             if is_child:\n",
      "iostream.py(379):                 self._schedule_flush()\n",
      " --- modulename: iostream, funcname: _schedule_flush\n",
      "iostream.py(303):         if self._flush_pending:\n",
      "iostream.py(304):             return\n",
      " --- modulename: iostream, funcname: write\n",
      "iostream.py(362):         if self.pub_thread is None:\n",
      "iostream.py(366):             if not isinstance(string, unicode_type):\n",
      "iostream.py(369):             is_child = (not self._is_master_process())\n",
      " --- modulename: iostream, funcname: _is_master_process\n",
      "iostream.py(286):         return os.getpid() == self._master_pid\n",
      "iostream.py(371):             self.pub_thread.schedule(lambda : self._buffer.write(string))\n",
      " --- modulename: iostream, funcname: schedule\n",
      "iostream.py(185):         if self.thread.is_alive():\n",
      " --- modulename: threading, funcname: is_alive\n",
      "threading.py(1112):         assert self._initialized, \"Thread.__init__() not called\"\n",
      "threading.py(1113):         if self._is_stopped or not self._started.is_set():\n",
      " --- modulename: threading, funcname: is_set\n",
      "threading.py(508):         return self._flag\n",
      "threading.py(1115):         self._wait_for_tstate_lock(False)\n",
      " --- modulename: threading, funcname: _wait_for_tstate_lock\n",
      "threading.py(1069):         lock = self._tstate_lock\n",
      "threading.py(1070):         if lock is None:  # already determined that the C code is done\n",
      "threading.py(1072):         elif lock.acquire(block, timeout):\n",
      "threading.py(1116):         return not self._is_stopped\n",
      "iostream.py(186):             event_id = os.urandom(16)\n",
      "iostream.py(187):             while event_id in self._events:\n",
      "iostream.py(189):             self._events[event_id] = f\n",
      "iostream.py(190):             self._event_pipe.send(event_id)\n",
      " --- modulename: iostream, funcname: _event_pipe\n",
      "iostream.py(92):         try:\n",
      "iostream.py(93):             event_pipe = self._local.event_pipe\n",
      "iostream.py(101):         return event_pipe\n",
      "\n",
      "iostream.py(372):             if is_child:\n",
      "iostream.py(379):                 self._schedule_flush()\n",
      " --- modulename: iostream, funcname: _schedule_flush\n",
      "iostream.py(303):         if self._flush_pending:\n",
      "iostream.py(304):             return\n",
      " --- modulename: trace, funcname: _unsettrace\n",
      "trace.py(77):         sys.settrace(None)\n"
     ]
    }
   ],
   "source": [
    "import trace\n",
    "tracer = trace.Trace()\n",
    "tracer.run('print(\"Hello World\")')"
   ]
  },
  {
   "cell_type": "markdown",
   "metadata": {},
   "source": [
    "## 14-4. Tracing Memory Allocations\n",
    "* Problem  \n",
    "* Solution  \n",
    "* How It Works  "
   ]
  },
  {
   "cell_type": "code",
   "execution_count": null,
   "metadata": {
    "collapsed": true
   },
   "outputs": [],
   "source": [
    "import tracemalloc\n",
    "tracemalloc.start()\n",
    "# Run you code here\n",
    "snapshot = tracemalloc.take_snapshot()\n",
    "top_stats = snapshot.statistics('lineno')\n",
    "for curr_stat in top_stats:\n",
    "    print(curr_stat)"
   ]
  },
  {
   "cell_type": "code",
   "execution_count": null,
   "metadata": {
    "collapsed": true
   },
   "outputs": [],
   "source": [
    "import tracemalloc\n",
    "tracemalloc.start()\n",
    "snapshot1 = tracemalloc.take_snapshot()\n",
    "# run your code\n",
    "snapshot2 = tracemalloc.take_snapshot()\n",
    "top_stats = snapshot2.compare_to(snapshot1, 'lineno')"
   ]
  },
  {
   "cell_type": "markdown",
   "metadata": {},
   "source": [
    "## 14-5. Performing Unit Tests\n",
    "* Problem  \n",
    "* Solution  \n",
    "* How It Works  "
   ]
  },
  {
   "cell_type": "code",
   "execution_count": null,
   "metadata": {
    "collapsed": true
   },
   "outputs": [],
   "source": [
    "import unittest\n",
    "class MyTestCase(unittest.TestCase):\n",
    "    def test_the_answer(self):\n",
    "        assertEqual(self.curr_val, 42)\n",
    "        \n",
    "if __name__ == '__main__':\n",
    "    unittest.main()"
   ]
  },
  {
   "cell_type": "markdown",
   "metadata": {},
   "source": [
    "## 14-6. Debugging Code\n",
    "* Problem  \n",
    "* Solution  \n",
    "* How It Works "
   ]
  },
  {
   "cell_type": "code",
   "execution_count": null,
   "metadata": {
    "collapsed": true
   },
   "outputs": [],
   "source": [
    "import pdb\n",
    "pdb.run('my_func()')"
   ]
  },
  {
   "cell_type": "code",
   "execution_count": null,
   "metadata": {
    "collapsed": true
   },
   "outputs": [],
   "source": [
    "python -m pdb myscript.py"
   ]
  },
  {
   "cell_type": "code",
   "execution_count": null,
   "metadata": {
    "collapsed": true
   },
   "outputs": [],
   "source": [
    "import pdb; pdb.set_trace()"
   ]
  },
  {
   "cell_type": "code",
   "execution_count": null,
   "metadata": {
    "collapsed": true
   },
   "outputs": [],
   "source": [
    "import pdb\n",
    "def myfunc():\n",
    "    print(\"Hello World\")\n",
    "    \n",
    "pdb.run('myfunc()')"
   ]
  },
  {
   "cell_type": "code",
   "execution_count": null,
   "metadata": {
    "collapsed": true
   },
   "outputs": [],
   "source": []
  }
 ],
 "metadata": {
  "kernelspec": {
   "display_name": "Python 3",
   "language": "python",
   "name": "python3"
  },
  "language_info": {
   "codemirror_mode": {
    "name": "ipython",
    "version": 3
   },
   "file_extension": ".py",
   "mimetype": "text/x-python",
   "name": "python",
   "nbconvert_exporter": "python",
   "pygments_lexer": "ipython3",
   "version": "3.6.0"
  }
 },
 "nbformat": 4,
 "nbformat_minor": 1
}
