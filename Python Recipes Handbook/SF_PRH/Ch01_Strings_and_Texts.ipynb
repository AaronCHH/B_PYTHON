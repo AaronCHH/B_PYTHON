{
 "cells": [
  {
   "cell_type": "markdown",
   "metadata": {},
   "source": [
    "# Chapter 1: Strings and Texts"
   ]
  },
  {
   "cell_type": "markdown",
   "metadata": {},
   "source": [
    "<div id=\"toc\"></div>"
   ]
  },
  {
   "cell_type": "markdown",
   "metadata": {},
   "source": [
    "## 1-1. Concatenating Strings\n",
    "* Problem  \n",
    "* Solution  \n",
    "* How It Works  "
   ]
  },
  {
   "cell_type": "code",
   "execution_count": 1,
   "metadata": {
    "collapsed": false
   },
   "outputs": [
    {
     "name": "stdout",
     "output_type": "stream",
     "text": [
      "hello world\n"
     ]
    }
   ],
   "source": [
    "new_str = \"hello \" + \"world\"\n",
    "print(new_str)"
   ]
  },
  {
   "cell_type": "code",
   "execution_count": 2,
   "metadata": {
    "collapsed": false
   },
   "outputs": [
    {
     "name": "stdout",
     "output_type": "stream",
     "text": [
      "HelloHelloHello\n"
     ]
    }
   ],
   "source": [
    "new_str = \"Hello\" * 3\n",
    "print(new_str)"
   ]
  },
  {
   "cell_type": "code",
   "execution_count": 3,
   "metadata": {
    "collapsed": false
   },
   "outputs": [
    {
     "name": "stdout",
     "output_type": "stream",
     "text": [
      "Count = 42\n"
     ]
    }
   ],
   "source": [
    "New_str = \"Count = \" + str(42)\n",
    "print(New_str)"
   ]
  },
  {
   "cell_type": "markdown",
   "metadata": {},
   "source": [
    "## 1-2. Comparing Strings\n",
    "* Problem  \n",
    "* Solution  \n",
    "* How It Works  "
   ]
  },
  {
   "cell_type": "code",
   "execution_count": 4,
   "metadata": {
    "collapsed": false
   },
   "outputs": [
    {
     "name": "stdout",
     "output_type": "stream",
     "text": [
      "The strings are not equal\n"
     ]
    }
   ],
   "source": [
    "str1 = \"Hello\"\n",
    "str2 = \"World\"\n",
    "if str1 == str2:\n",
    "    print(\"The strings are equal\")\n",
    "else:\n",
    "    print(\"The strings are not equal\")"
   ]
  },
  {
   "cell_type": "markdown",
   "metadata": {},
   "source": [
    "## 1-3. Searching for a Substring\n",
    "* Problem  \n",
    "* Solution  \n",
    "* How It Works  "
   ]
  },
  {
   "cell_type": "code",
   "execution_count": null,
   "metadata": {
    "collapsed": true
   },
   "outputs": [],
   "source": [
    ">>> Str1 = 'This is a string'\n",
    ">>> 'is' in Str1\n",
    "True\n",
    ">>> 'me' in Str1\n",
    "False"
   ]
  },
  {
   "cell_type": "code",
   "execution_count": null,
   "metadata": {
    "collapsed": true
   },
   "outputs": [],
   "source": [
    ">>> Str1.find('is')\n",
    "2\n",
    ">>> Str1.find('me')\n",
    "-1"
   ]
  },
  {
   "cell_type": "code",
   "execution_count": null,
   "metadata": {
    "collapsed": true
   },
   "outputs": [],
   "source": [
    ">>> Str1.find('is', 3)\n",
    "5"
   ]
  },
  {
   "cell_type": "markdown",
   "metadata": {},
   "source": [
    "## 1-4. Getting a Substring\n",
    "* Problem  \n",
    "* Solution  \n",
    "* How It Works  "
   ]
  },
  {
   "cell_type": "code",
   "execution_count": null,
   "metadata": {
    "collapsed": true
   },
   "outputs": [],
   "source": [
    ">>> Str2 = 'One two three'\n",
    ">>> Str2[0:2]\n",
    "On\n",
    ">>> Str2[:2]\n",
    "On\n",
    ">>> Str2[8:]\n",
    "three"
   ]
  },
  {
   "cell_type": "markdown",
   "metadata": {},
   "source": [
    "## 1-5. Replacing Text Matches\n",
    "* Problem  \n",
    "* Solution  \n",
    "* How It Works  "
   ]
  },
  {
   "cell_type": "code",
   "execution_count": 5,
   "metadata": {
    "collapsed": false
   },
   "outputs": [
    {
     "name": "stdout",
     "output_type": "stream",
     "text": [
      "Here ise a string\n"
     ]
    }
   ],
   "source": [
    "str1 = \"Here are a string\"\n",
    "corrected_str1 = str1[:5] + \"is\" + str1[7:]\n",
    "print(corrected_str1)"
   ]
  },
  {
   "cell_type": "code",
   "execution_count": 6,
   "metadata": {
    "collapsed": true
   },
   "outputs": [],
   "source": [
    "corrected_str1 = str1.replace(\"are\", \"is\", 1)"
   ]
  },
  {
   "cell_type": "markdown",
   "metadata": {},
   "source": [
    "## 1-6. Reversing a String\n",
    "* Problem  \n",
    "* Solution  \n",
    "* How It Works  "
   ]
  },
  {
   "cell_type": "code",
   "execution_count": null,
   "metadata": {
    "collapsed": true
   },
   "outputs": [],
   "source": [
    ">>> str1 = \"Hello World\"\n",
    ">>> str2 = str1[::-1]\n",
    ">>> print(str2)\n",
    "dlrow olleH"
   ]
  },
  {
   "cell_type": "markdown",
   "metadata": {},
   "source": [
    "## 1-7. Trimming White Space\n",
    "* Problem  \n",
    "* Solution  \n",
    "* How It Works  "
   ]
  },
  {
   "cell_type": "code",
   "execution_count": null,
   "metadata": {
    "collapsed": true
   },
   "outputs": [],
   "source": [
    ">>> str1 = \"Space\"\n",
    ">>> str2 = str1.strip()\n",
    ">>> print(str2)\n",
    "Space"
   ]
  },
  {
   "cell_type": "markdown",
   "metadata": {},
   "source": [
    "## 1-8. Changing Case\n",
    "* Problem  \n",
    "* Solution  \n",
    "* How It Works  "
   ]
  },
  {
   "cell_type": "code",
   "execution_count": null,
   "metadata": {
    "collapsed": true
   },
   "outputs": [],
   "source": [
    ">>> str1 = \"Hello World\"\n",
    ">>> print(str1.lower())\n",
    "hello world\n",
    ">>> print(str1.upper())\n",
    "HELLO WORLD"
   ]
  },
  {
   "cell_type": "markdown",
   "metadata": {},
   "source": [
    "## 1-9. Converting to Numbers\n",
    "* Problem  \n",
    "* Solution  \n",
    "* How It Works  "
   ]
  },
  {
   "cell_type": "code",
   "execution_count": null,
   "metadata": {
    "collapsed": true
   },
   "outputs": [],
   "source": [
    ">>> hex1 = int(\"ae\", 16)\n",
    ">>> hex1"
   ]
  },
  {
   "cell_type": "markdown",
   "metadata": {},
   "source": [
    "## 1-10. Iterating Over the Characters of a String\n",
    "* Problem  \n",
    "* Solution  \n",
    "* How It Works  "
   ]
  },
  {
   "cell_type": "code",
   "execution_count": 7,
   "metadata": {
    "collapsed": false
   },
   "outputs": [
    {
     "name": "stdout",
     "output_type": "stream",
     "text": [
      "0  and \n",
      "1  and \n",
      "2  and \n",
      "3  and \n",
      "4  and \n",
      "5  and \n",
      "6  and \n",
      "7  and \n",
      "8  and \n",
      "9  and \n"
     ]
    }
   ],
   "source": [
    "str1 = \"0123456789\"\n",
    "for i in range(10):\n",
    "    print(str1[i], \" and \")"
   ]
  },
  {
   "cell_type": "code",
   "execution_count": 8,
   "metadata": {
    "collapsed": false
   },
   "outputs": [
    {
     "name": "stdout",
     "output_type": "stream",
     "text": [
      "0  and \n",
      "1  and \n",
      "2  and \n",
      "3  and \n",
      "4  and \n",
      "5  and \n",
      "6  and \n",
      "7  and \n",
      "8  and \n",
      "9  and \n"
     ]
    }
   ],
   "source": [
    "for i in str1:\n",
    "    print(i, \" and \")"
   ]
  },
  {
   "cell_type": "markdown",
   "metadata": {},
   "source": [
    "## 1-11. Statistics on Texts\n",
    "* Problem  \n",
    "* Solution  \n",
    "* How It Works  "
   ]
  },
  {
   "cell_type": "code",
   "execution_count": null,
   "metadata": {
    "collapsed": true
   },
   "outputs": [],
   "source": [
    ">>> str1 = \"Hello world\"\n",
    ">>> len(str1)\n",
    "11\n",
    ">>> min(str1)\n",
    "' '\n",
    ">>> max(str1)\n",
    "'w'\n",
    ">>> str1.count('o')\n",
    "2"
   ]
  },
  {
   "cell_type": "markdown",
   "metadata": {},
   "source": [
    "## 1-12. Encoding Unicode\n",
    "* Problem  \n",
    "* Solution  \n",
    "* How It Works  "
   ]
  },
  {
   "cell_type": "code",
   "execution_count": null,
   "metadata": {
    "collapsed": true
   },
   "outputs": [],
   "source": [
    ">>> ustr1 = unicode(\"Hello\")\n",
    ">>> ustr2 = u’Hello’\n",
    ">>> ustr1 == ustr2\n",
    "True"
   ]
  },
  {
   "cell_type": "code",
   "execution_count": null,
   "metadata": {
    "collapsed": true
   },
   "outputs": [],
   "source": [
    "ustr1.encode(\"utf-8\")"
   ]
  },
  {
   "cell_type": "markdown",
   "metadata": {},
   "source": [
    "## 1-13. Translation\n",
    "* Problem  \n",
    "* Solution  \n",
    "* How It Works  "
   ]
  },
  {
   "cell_type": "code",
   "execution_count": null,
   "metadata": {
    "collapsed": true
   },
   "outputs": [],
   "source": [
    ">>> str1 = \"Hello world\"\n",
    ">>> translate_table = str1.maketrans(\"abcd\", \"efgh\")\n",
    ">>> str1.translate(translate_table)\n",
    "Hello worlh"
   ]
  },
  {
   "cell_type": "code",
   "execution_count": null,
   "metadata": {
    "collapsed": true
   },
   "outputs": [],
   "source": [
    ">>> str1.translate(str.maketrans({'l':None,'W':None}))\n",
    "Heo ord"
   ]
  }
 ],
 "metadata": {
  "kernelspec": {
   "display_name": "Python 3",
   "language": "python",
   "name": "python3"
  },
  "language_info": {
   "codemirror_mode": {
    "name": "ipython",
    "version": 3
   },
   "file_extension": ".py",
   "mimetype": "text/x-python",
   "name": "python",
   "nbconvert_exporter": "python",
   "pygments_lexer": "ipython3",
   "version": "3.6.0"
  }
 },
 "nbformat": 4,
 "nbformat_minor": 1
}
